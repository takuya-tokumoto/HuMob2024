{
 "cells": [
  {
   "cell_type": "code",
   "execution_count": 3,
   "metadata": {},
   "outputs": [],
   "source": [
    "import torch\n",
    "import numpy as np\n",
    "\n",
    "\n",
    "# テストデータを生成する関数\n",
    "def generate_test_data(batch_size=2, seq_len=5, embed_size=128):\n",
    "    \"\"\"テスト用のランダムデータを生成\"\"\"\n",
    "    data = {\n",
    "        \"d\": torch.randint(0, 30, (batch_size, seq_len)),\n",
    "        \"t\": torch.randint(0, 24, (batch_size, seq_len)),\n",
    "        \"input_x\": torch.randint(0, 200, (batch_size, seq_len)),\n",
    "        \"input_y\": torch.randint(0, 200, (batch_size, seq_len)),\n",
    "        \"time_delta\": torch.randint(0, 10, (batch_size, seq_len)),\n",
    "        \"label_x\": torch.randint(0, 200, (batch_size, seq_len)),\n",
    "        \"label_y\": torch.randint(0, 200, (batch_size, seq_len)),\n",
    "        \"len\": torch.randint(1, seq_len + 1, (batch_size,)),\n",
    "    }\n",
    "    return data\n",
    "\n",
    "\n",
    "# 95%信頼区間を計算する関数\n",
    "def calculate_95_percentile(data, mask):\n",
    "    \"\"\"データの95%信頼区間を計算\"\"\"\n",
    "    data_np = data[mask].cpu().numpy()\n",
    "    lower_bound = np.percentile(data_np, 2.5)\n",
    "    upper_bound = np.percentile(data_np, 97.5)\n",
    "    return lower_bound, upper_bound"
   ]
  },
  {
   "cell_type": "code",
   "execution_count": 8,
   "metadata": {},
   "outputs": [],
   "source": [
    "def test_prediction_on_test_data():\n",
    "    # テストデータを生成\n",
    "    data = generate_test_data()\n",
    "    print(\"Input X:\", data[\"input_x\"])\n",
    "    print(\"Input Y:\", data[\"input_y\"])\n",
    "\n",
    "    # マスクを作成（簡単な例としてinput_xが100未満の場所をマスクとする）\n",
    "    pred_mask = data[\"input_x\"] < 100\n",
    "\n",
    "    # input_xとinput_yの95%信頼区間を計算\n",
    "    non_mask = ~pred_mask\n",
    "    lower_x, upper_x = calculate_95_percentile(data[\"input_x\"], non_mask)\n",
    "    lower_y, upper_y = calculate_95_percentile(data[\"input_y\"], non_mask)\n",
    "\n",
    "    print(f\"95% Confidence Interval for X: [{lower_x}, {upper_x}]\")\n",
    "    print(f\"95% Confidence Interval for Y: [{lower_y}, {upper_y}]\")\n",
    "\n",
    "    # outputとしてランダムなテンソルを生成（実験のため）\n",
    "    output = torch.rand(\n",
    "        (data[\"input_x\"].shape[0], data[\"input_x\"].shape[1], 2, 200)\n",
    "    )  # (Batch Size, Sequence Length, 2, 200)\n",
    "\n",
    "    # 信頼区間に基づく予測値の修正処理\n",
    "    for step in range(data[\"input_x\"].shape[1]):\n",
    "\n",
    "        # x座標が95%信頼区間外ならその要素を0にする\n",
    "        output[step][0] = torch.where(\n",
    "            (output[step][0] < lower_x) | (output[step][0] > upper_x),\n",
    "            torch.zeros_like(output[step][0]),\n",
    "            output[step][0],\n",
    "        )\n",
    "\n",
    "        # y座標が95%信頼区間外ならその要素を0にする\n",
    "        output[step][1] = torch.where(\n",
    "            (output[step][1] < lower_y) | (output[step][1] > upper_y),\n",
    "            torch.zeros_like(output[step][1]),\n",
    "            output[step][1],\n",
    "        )\n",
    "\n",
    "    print(\"Modified Output X (Step 0):\", output[:, 0, 0])\n",
    "    print(\"Modified Output Y (Step 0):\", output[:, 0, 1])\n",
    "\n",
    "    # 最大値のインデックスを確認\n",
    "    pred_x = torch.argmax(output[:, 0, 0], dim=-1)\n",
    "    pred_y = torch.argmax(output[:, 0, 1], dim=-1)\n",
    "\n",
    "    print(\"Predicted X:\", pred_x)\n",
    "    print(\"Predicted Y:\", pred_y)"
   ]
  },
  {
   "cell_type": "code",
   "execution_count": 17,
   "metadata": {},
   "outputs": [],
   "source": [
    "output = torch.rand((30, 15, 2, 200))"
   ]
  },
  {
   "cell_type": "code",
   "execution_count": 18,
   "metadata": {},
   "outputs": [
    {
     "data": {
      "text/plain": [
       "torch.Size([30, 15, 2, 200])"
      ]
     },
     "execution_count": 18,
     "metadata": {},
     "output_type": "execute_result"
    }
   ],
   "source": [
    "output.shape"
   ]
  },
  {
   "cell_type": "code",
   "execution_count": 22,
   "metadata": {},
   "outputs": [
    {
     "data": {
      "text/plain": [
       "torch.Size([200])"
      ]
     },
     "execution_count": 22,
     "metadata": {},
     "output_type": "execute_result"
    }
   ],
   "source": [
    "output[0][0][0].shape"
   ]
  },
  {
   "cell_type": "code",
   "execution_count": 30,
   "metadata": {},
   "outputs": [],
   "source": [
    "lower_x = 50\n",
    "upper_x = 150\n",
    "\n",
    "output[0][0][0][:lower_x] = 0\n",
    "output[0][0][0][upper_x:] = 0"
   ]
  },
  {
   "cell_type": "code",
   "execution_count": 31,
   "metadata": {},
   "outputs": [
    {
     "data": {
      "text/plain": [
       "tensor([0.0000, 0.0000, 0.0000, 0.0000, 0.0000, 0.0000, 0.0000, 0.0000, 0.0000,\n",
       "        0.0000, 0.0000, 0.0000, 0.0000, 0.0000, 0.0000, 0.0000, 0.0000, 0.0000,\n",
       "        0.0000, 0.0000, 0.0000, 0.0000, 0.0000, 0.0000, 0.0000, 0.0000, 0.0000,\n",
       "        0.0000, 0.0000, 0.0000, 0.0000, 0.0000, 0.0000, 0.0000, 0.0000, 0.0000,\n",
       "        0.0000, 0.0000, 0.0000, 0.0000, 0.0000, 0.0000, 0.0000, 0.0000, 0.0000,\n",
       "        0.0000, 0.0000, 0.0000, 0.0000, 0.0000, 0.7006, 0.4941, 0.0978, 0.9069,\n",
       "        0.1692, 0.7643, 0.9438, 0.0473, 0.8720, 0.9358, 0.7005, 0.1497, 0.2745,\n",
       "        0.6766, 0.2225, 0.9912, 0.5649, 0.4029, 0.3275, 0.9184, 0.8596, 0.7537,\n",
       "        0.8281, 0.1770, 0.0449, 0.0277, 0.8523, 0.2867, 0.8168, 0.1911, 0.2679,\n",
       "        0.7751, 0.6985, 0.5829, 0.2618, 0.2281, 0.3669, 0.2978, 0.2145, 0.0736,\n",
       "        0.5518, 0.6523, 0.0566, 0.4767, 0.4921, 0.3649, 0.4238, 0.6380, 0.7666,\n",
       "        0.7555, 0.2252, 0.2933, 0.6332, 0.2961, 0.5434, 0.5188, 0.5876, 0.2590,\n",
       "        0.8074, 0.8607, 0.4031, 0.8344, 0.5858, 0.8634, 0.0800, 0.3428, 0.8227,\n",
       "        0.4885, 0.9793, 0.6219, 0.2967, 0.5160, 0.2846, 0.9680, 0.7145, 0.6011,\n",
       "        0.5551, 0.4218, 0.6109, 0.2652, 0.2910, 0.9980, 0.4078, 0.2540, 0.6770,\n",
       "        0.3621, 0.9448, 0.3024, 0.5948, 0.3646, 0.5661, 0.8526, 0.4905, 0.5438,\n",
       "        0.5863, 0.3886, 0.6709, 0.3476, 0.5682, 0.4565, 0.0000, 0.0000, 0.0000,\n",
       "        0.0000, 0.0000, 0.0000, 0.0000, 0.0000, 0.0000, 0.0000, 0.0000, 0.0000,\n",
       "        0.0000, 0.0000, 0.0000, 0.0000, 0.0000, 0.0000, 0.0000, 0.0000, 0.0000,\n",
       "        0.0000, 0.0000, 0.0000, 0.0000, 0.0000, 0.0000, 0.0000, 0.0000, 0.0000,\n",
       "        0.0000, 0.0000, 0.0000, 0.0000, 0.0000, 0.0000, 0.0000, 0.0000, 0.0000,\n",
       "        0.0000, 0.0000, 0.0000, 0.0000, 0.0000, 0.0000, 0.0000, 0.0000, 0.0000,\n",
       "        0.0000, 0.0000])"
      ]
     },
     "execution_count": 31,
     "metadata": {},
     "output_type": "execute_result"
    }
   ],
   "source": [
    "output[0][0][0]"
   ]
  },
  {
   "cell_type": "code",
   "execution_count": null,
   "metadata": {},
   "outputs": [],
   "source": [
    "torch.where(\n",
    "    (output[0][0][0] < lower_x) | (output[0][0][0] > upper_x),\n",
    "    torch.zeros_like(output[step][0]),  # 条件に一致する要素はゼロ\n",
    "    output[step][0],  # 条件に一致しない要素はそのまま残す\n",
    ")"
   ]
  },
  {
   "cell_type": "code",
   "execution_count": 1,
   "metadata": {},
   "outputs": [],
   "source": [
    "import torch\n",
    "import torch.nn as nn\n",
    "\n",
    "\n",
    "class UNet(nn.Module):\n",
    "    def __init__(self, in_channels, out_channels):\n",
    "        super(UNet, self).__init__()\n",
    "        self.encoder = nn.Sequential(\n",
    "            nn.Conv2d(in_channels, 64, kernel_size=3, padding=1),\n",
    "            nn.ReLU(),\n",
    "            nn.Conv2d(64, 128, kernel_size=3, padding=1),\n",
    "            nn.ReLU(),\n",
    "            nn.MaxPool2d(2),\n",
    "        )\n",
    "        self.decoder = nn.Sequential(\n",
    "            nn.Conv2d(128, 64, kernel_size=3, padding=1),\n",
    "            nn.ReLU(),\n",
    "            nn.Conv2d(64, out_channels, kernel_size=3, padding=1),\n",
    "            nn.ReLU(),\n",
    "        )\n",
    "\n",
    "    def forward(self, x):\n",
    "        enc = self.encoder(x)\n",
    "        dec = self.decoder(enc)\n",
    "        return dec"
   ]
  },
  {
   "cell_type": "code",
   "execution_count": 1,
   "metadata": {},
   "outputs": [
    {
     "data": {
      "text/html": [
       "<div><style>\n",
       ".dataframe > thead > tr,\n",
       ".dataframe > tbody > tr {\n",
       "  text-align: right;\n",
       "  white-space: pre-wrap;\n",
       "}\n",
       "</style>\n",
       "<small>shape: (1, 4)</small><table border=\"1\" class=\"dataframe\"><thead><tr><th>x</th><th>y</th><th>category</th><th>POI_count</th></tr><tr><td>i64</td><td>i64</td><td>i64</td><td>i64</td></tr></thead><tbody><tr><td>1</td><td>1</td><td>79</td><td>2</td></tr></tbody></table></div>"
      ],
      "text/plain": [
       "shape: (1, 4)\n",
       "┌─────┬─────┬──────────┬───────────┐\n",
       "│ x   ┆ y   ┆ category ┆ POI_count │\n",
       "│ --- ┆ --- ┆ ---      ┆ ---       │\n",
       "│ i64 ┆ i64 ┆ i64      ┆ i64       │\n",
       "╞═════╪═════╪══════════╪═══════════╡\n",
       "│ 1   ┆ 1   ┆ 79       ┆ 2         │\n",
       "└─────┴─────┴──────────┴───────────┘"
      ]
     },
     "metadata": {},
     "output_type": "display_data"
    },
    {
     "name": "stdout",
     "output_type": "stream",
     "text": [
      "56181\n"
     ]
    }
   ],
   "source": [
    "import polars as pl\n",
    "import numpy as np\n",
    "\n",
    "# CSV.GZファイルを読み込む\n",
    "df_b_poi = pl.read_csv(\"/kaggle/s3storage/01_public/humob-challenge-2024/input/POIdata_cityB.csv\")\n",
    "\n",
    "# データフレームの内容を表示\n",
    "display(df_b_poi.head(1))\n",
    "print(len(df_b_poi))"
   ]
  },
  {
   "cell_type": "code",
   "execution_count": 8,
   "metadata": {},
   "outputs": [],
   "source": [
    "def create_poi_tensor(poi_path, grid_size=200):\n",
    "\n",
    "    # CSV.GZファイルを読み込む\n",
    "    poi_data = pl.read_csv(poi_path)\n",
    "\n",
    "    # 200 x 200 のグリッドを初期化 (初期値はすべて0)\n",
    "    poi_grid = np.zeros((grid_size, grid_size), dtype=np.float32)\n",
    "\n",
    "    # POIデータを座標ごとにグリッドに加算\n",
    "    for row in poi_data.iter_rows():\n",
    "        x, y, poi_count = row[0] - 1, row[1] - 1, row[3]  # x, y, POI_count に対応\n",
    "        poi_grid[x, y] += poi_count  # 座標に基づいてPOIの数を加算\n",
    "\n",
    "    poi_tensor = torch.tensor(poi_grid).unsqueeze(0)  # (1, 200, 200)\n",
    "    poi_tensor = torch.log1p(poi_tensor)\n",
    "    poi_tensor = (poi_tensor - poi_tensor.min()) / (poi_tensor.max() - poi_tensor.min())\n",
    "\n",
    "    return poi_tensor\n",
    "\n",
    "\n",
    "poi_path = \"/kaggle/s3storage/01_public/humob-challenge-2024/input/POIdata_cityB.csv\"\n",
    "poi_tensor = create_poi_tensor(poi_path, grid_size=200)"
   ]
  },
  {
   "cell_type": "code",
   "execution_count": 11,
   "metadata": {},
   "outputs": [
    {
     "data": {
      "text/plain": [
       "tensor([0.0000, 0.0869, 0.1378, 0.1739, 0.2019, 0.2247, 0.2441, 0.2608, 0.2756,\n",
       "        0.2888, 0.3007, 0.3117, 0.3217, 0.3310, 0.3396, 0.3477, 0.3553, 0.3625,\n",
       "        0.3693, 0.3757, 0.3818, 0.3877, 0.3933, 0.3986, 0.4037, 0.4086, 0.4134,\n",
       "        0.4179, 0.4223, 0.4266, 0.4307, 0.4347, 0.4385, 0.4423, 0.4459, 0.4494,\n",
       "        0.4529, 0.4562, 0.4595, 0.4627, 0.4658, 0.4688, 0.4717, 0.4746, 0.4774,\n",
       "        0.4802, 0.4829, 0.4855, 0.4881, 0.4906, 0.4931, 0.4956, 0.4980, 0.5003,\n",
       "        0.5026, 0.5049, 0.5071, 0.5093, 0.5114, 0.5135, 0.5156, 0.5176, 0.5196,\n",
       "        0.5216, 0.5236, 0.5255, 0.5274, 0.5292, 0.5310, 0.5328, 0.5346, 0.5364,\n",
       "        0.5381, 0.5398, 0.5415, 0.5432, 0.5448, 0.5464, 0.5480, 0.5496, 0.5512,\n",
       "        0.5527, 0.5542, 0.5557, 0.5572, 0.5587, 0.5601, 0.5616, 0.5630, 0.5658,\n",
       "        0.5671, 0.5685, 0.5698, 0.5712, 0.5725, 0.5738, 0.5751, 0.5763, 0.5788,\n",
       "        0.5801, 0.5813, 0.5825, 0.5837, 0.5861, 0.5872, 0.5884, 0.5895, 0.5918,\n",
       "        0.5929, 0.5940, 0.5951, 0.5962, 0.5973, 0.5983, 0.6005, 0.6015, 0.6025,\n",
       "        0.6035, 0.6046, 0.6056, 0.6066, 0.6085, 0.6095, 0.6105, 0.6115, 0.6124,\n",
       "        0.6134, 0.6143, 0.6152, 0.6161, 0.6171, 0.6180, 0.6189, 0.6198, 0.6207,\n",
       "        0.6224, 0.6233, 0.6250, 0.6259, 0.6268, 0.6276, 0.6284, 0.6293, 0.6301,\n",
       "        0.6309, 0.6326, 0.6334, 0.6342, 0.6350, 0.6357, 0.6365, 0.6373, 0.6396,\n",
       "        0.6404, 0.6411, 0.6427, 0.6434, 0.6441, 0.6456, 0.6471, 0.6478, 0.6485,\n",
       "        0.6499, 0.6513, 0.6527, 0.6534, 0.6541, 0.6574, 0.6581, 0.6587, 0.6594,\n",
       "        0.6607, 0.6626, 0.6651, 0.6664, 0.6676, 0.6694, 0.6700, 0.6718, 0.6724,\n",
       "        0.6730, 0.6736, 0.6742, 0.6787, 0.6815, 0.6837, 0.6853, 0.6869, 0.6889,\n",
       "        0.6950, 0.6960, 0.6974, 0.6989, 0.6998, 0.7012, 0.7045, 0.7049, 0.7054,\n",
       "        0.7058, 0.7085, 0.7098, 0.7111, 0.7179, 0.7195, 0.7211, 0.7223, 0.7250,\n",
       "        0.7254, 0.7296, 0.7318, 0.7329, 0.7343, 0.7365, 0.7393, 0.7437, 0.7480,\n",
       "        0.7536, 0.7555, 0.7567, 0.7576, 0.7626, 0.7657, 0.7662, 0.7809, 0.7827,\n",
       "        0.7867, 0.8066, 0.8211, 0.8215, 0.8239, 0.8334, 0.8536, 0.8598, 0.8660,\n",
       "        0.8978, 0.9259, 1.0000])"
      ]
     },
     "execution_count": 11,
     "metadata": {},
     "output_type": "execute_result"
    }
   ],
   "source": [
    "poi_tensor.unique()"
   ]
  },
  {
   "cell_type": "code",
   "execution_count": 9,
   "metadata": {},
   "outputs": [
    {
     "data": {
      "image/png": "[encoded data removed]",
      "text/plain": [
       "<Figure size 640x480 with 1 Axes>"
      ]
     },
     "metadata": {},
     "output_type": "display_data"
    }
   ],
   "source": [
    "import matplotlib.pyplot as plt\n",
    "\n",
    "# テンソルを1次元に変換\n",
    "tensor_data_flat = poi_tensor.flatten().numpy()\n",
    "\n",
    "# ヒストグラムを描画\n",
    "plt.hist(tensor_data_flat, bins=50, color=\"blue\", alpha=0.7)\n",
    "plt.title(\"Histogram of Tensor Values\")\n",
    "plt.xlabel(\"Value\")\n",
    "plt.ylabel(\"Frequency\")\n",
    "plt.show()"
   ]
  },
  {
   "cell_type": "code",
   "execution_count": 36,
   "metadata": {},
   "outputs": [],
   "source": [
    "import torch\n",
    "import torch.nn as nn\n",
    "import torch.nn.functional as F\n",
    "\n",
    "\n",
    "class POIConvNet(nn.Module):\n",
    "    def __init__(self):\n",
    "        super(POIConvNet, self).__init__()\n",
    "\n",
    "        # POIデータの畳み込み層を定義 (2D Convolution)\n",
    "        self.conv1 = nn.Conv2d(in_channels=1, out_channels=32, kernel_size=3, padding=1)\n",
    "        self.conv2 = nn.Conv2d(32, 64, kernel_size=3, padding=1)\n",
    "        self.conv3 = nn.Conv2d(64, 128, kernel_size=3, padding=1)\n",
    "\n",
    "        # Global Poolingで(200, 200)を(16,)のベクトルに\n",
    "        self.global_pool = nn.AdaptiveAvgPool2d((1, 1))\n",
    "\n",
    "    def forward(self, poi_tensor):\n",
    "        # 畳み込み処理を行う\n",
    "        x = F.relu(self.conv1(poi_tensor))  # (Batch Size, 32, 200, 200)\n",
    "        x = F.relu(self.conv2(x))  # (Batch Size, 64, 200, 200)\n",
    "        x = F.relu(self.conv3(x))  # (Batch Size, 128, 200, 200)\n",
    "\n",
    "        # Global Poolingで(128, 1, 1)に縮約し、(128,)のベクトルに\n",
    "        x = self.global_pool(x).squeeze(-1).squeeze(-1)  # (Batch Size, 16)\n",
    "\n",
    "        return x"
   ]
  },
  {
   "cell_type": "code",
   "execution_count": 37,
   "metadata": {},
   "outputs": [],
   "source": [
    "# モデルのインスタンス化\n",
    "model = POIConvNet()\n",
    "\n",
    "# モデルにデータを渡して出力\n",
    "output = model(poi_tensor)"
   ]
  },
  {
   "cell_type": "code",
   "execution_count": 38,
   "metadata": {},
   "outputs": [
    {
     "data": {
      "text/plain": [
       "tensor([9.2348e-03, 1.0738e-02, 4.1894e-02, 1.5464e-02, 5.9217e-02, 2.1519e-07,\n",
       "        6.6741e-05, 5.2256e-05, 0.0000e+00, 4.5652e-07, 5.6105e-02, 1.9597e-02,\n",
       "        2.3942e-02, 3.8399e-06, 6.9029e-06, 1.1223e-02, 3.6792e-03, 1.6327e-07,\n",
       "        7.6504e-06, 6.2128e-08, 0.0000e+00, 1.8511e-04, 0.0000e+00, 0.0000e+00,\n",
       "        0.0000e+00, 3.5006e-07, 7.3431e-02, 6.0761e-02, 4.1900e-04, 5.3478e-05,\n",
       "        4.7623e-05, 3.7756e-02, 0.0000e+00, 2.9795e-05, 0.0000e+00, 9.9337e-03,\n",
       "        7.1974e-08, 0.0000e+00, 2.1124e-04, 5.9523e-02, 0.0000e+00, 4.5571e-02,\n",
       "        1.3935e-07, 2.5389e-02, 0.0000e+00, 5.0845e-07, 4.0139e-05, 2.0917e-07,\n",
       "        1.1574e-08, 1.9523e-04, 1.9417e-05, 4.4086e-03, 0.0000e+00, 2.7920e-02,\n",
       "        1.9920e-02, 6.6468e-05, 0.0000e+00, 0.0000e+00, 2.3737e-04, 1.8968e-03,\n",
       "        2.8165e-02, 0.0000e+00, 4.4270e-04, 1.8336e-02, 3.7096e-02, 0.0000e+00,\n",
       "        3.6968e-02, 3.0274e-02, 1.2455e-02, 3.1101e-02, 7.0160e-02, 3.4761e-02,\n",
       "        2.8095e-04, 1.3615e-04, 3.7793e-02, 3.2095e-02, 2.3020e-02, 6.1110e-02,\n",
       "        0.0000e+00, 6.2050e-02, 0.0000e+00, 2.7485e-06, 1.8198e-02, 4.7039e-02,\n",
       "        1.3370e-05, 3.6255e-02, 4.6777e-05, 2.1564e-04, 1.3504e-02, 0.0000e+00,\n",
       "        0.0000e+00, 5.7430e-02, 6.8158e-06, 6.6885e-05, 4.6616e-03, 1.3396e-02,\n",
       "        3.9290e-07, 6.8744e-02, 1.9976e-02, 1.5465e-03, 0.0000e+00, 8.2337e-03,\n",
       "        0.0000e+00, 8.3377e-03, 1.2181e-03, 5.7005e-02, 1.7610e-04, 1.9010e-02,\n",
       "        4.4365e-05, 0.0000e+00, 4.7711e-02, 3.6425e-03, 0.0000e+00, 9.8217e-03,\n",
       "        1.6300e-02, 7.0750e-02, 0.0000e+00, 0.0000e+00, 9.7971e-06, 7.8061e-03,\n",
       "        1.9606e-03, 0.0000e+00, 6.0762e-06, 3.2161e-03, 2.5170e-02, 5.9600e-07,\n",
       "        1.9961e-04, 3.4406e-07], grad_fn=<SqueezeBackward1>)"
      ]
     },
     "execution_count": 38,
     "metadata": {},
     "output_type": "execute_result"
    }
   ],
   "source": [
    "output"
   ]
  },
  {
   "cell_type": "code",
   "execution_count": 25,
   "metadata": {},
   "outputs": [
    {
     "data": {
      "text/plain": [
       "torch.Size([128])"
      ]
     },
     "execution_count": 25,
     "metadata": {},
     "output_type": "execute_result"
    }
   ],
   "source": [
    "output.shape"
   ]
  },
  {
   "cell_type": "code",
   "execution_count": null,
   "metadata": {},
   "outputs": [],
   "source": []
  }
 ],
 "metadata": {
  "kernelspec": {
   "display_name": "base",
   "language": "python",
   "name": "python3"
  },
  "language_info": {
   "codemirror_mode": {
    "name": "ipython",
    "version": 3
   },
   "file_extension": ".py",
   "mimetype": "text/x-python",
   "name": "python",
   "nbconvert_exporter": "python",
   "pygments_lexer": "ipython3",
   "version": "3.10.13"
  }
 },
 "nbformat": 4,
 "nbformat_minor": 2
}
