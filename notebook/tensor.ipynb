{
 "cells": [
  {
   "cell_type": "code",
   "execution_count": 1,
   "metadata": {},
   "outputs": [],
   "source": [
    "import torch\n",
    "import numpy as np\n",
    "\n",
    "\n",
    "# テストデータを生成する関数\n",
    "def generate_test_data(batch_size=2, seq_len=5, embed_size=128):\n",
    "    \"\"\"テスト用のランダムデータを生成\"\"\"\n",
    "    data = {\n",
    "        \"d\": torch.randint(0, 30, (batch_size, seq_len)),\n",
    "        \"t\": torch.randint(0, 24, (batch_size, seq_len)),\n",
    "        \"input_x\": torch.randint(0, 200, (batch_size, seq_len)),\n",
    "        \"input_y\": torch.randint(0, 200, (batch_size, seq_len)),\n",
    "        \"time_delta\": torch.randint(0, 10, (batch_size, seq_len)),\n",
    "        \"label_x\": torch.randint(0, 200, (batch_size, seq_len)),\n",
    "        \"label_y\": torch.randint(0, 200, (batch_size, seq_len)),\n",
    "        \"len\": torch.randint(1, seq_len + 1, (batch_size,)),\n",
    "    }\n",
    "    return data\n",
    "\n",
    "\n",
    "# 95%信頼区間を計算する関数\n",
    "def calculate_95_percentile(data, mask):\n",
    "    \"\"\"データの95%信頼区間を計算\"\"\"\n",
    "    data_np = data[mask].cpu().numpy()\n",
    "    lower_bound = np.percentile(data_np, 2.5)\n",
    "    upper_bound = np.percentile(data_np, 97.5)\n",
    "    return lower_bound, upper_bound"
   ]
  },
  {
   "cell_type": "code",
   "execution_count": 8,
   "metadata": {},
   "outputs": [],
   "source": [
    "def test_prediction_on_test_data():\n",
    "    # テストデータを生成\n",
    "    data = generate_test_data()\n",
    "    print(\"Input X:\", data[\"input_x\"])\n",
    "    print(\"Input Y:\", data[\"input_y\"])\n",
    "\n",
    "    # マスクを作成（簡単な例としてinput_xが100未満の場所をマスクとする）\n",
    "    pred_mask = data[\"input_x\"] < 100\n",
    "\n",
    "    # input_xとinput_yの95%信頼区間を計算\n",
    "    non_mask = ~pred_mask\n",
    "    lower_x, upper_x = calculate_95_percentile(data[\"input_x\"], non_mask)\n",
    "    lower_y, upper_y = calculate_95_percentile(data[\"input_y\"], non_mask)\n",
    "\n",
    "    print(f\"95% Confidence Interval for X: [{lower_x}, {upper_x}]\")\n",
    "    print(f\"95% Confidence Interval for Y: [{lower_y}, {upper_y}]\")\n",
    "\n",
    "    # outputとしてランダムなテンソルを生成（実験のため）\n",
    "    output = torch.rand(\n",
    "        (data[\"input_x\"].shape[0], data[\"input_x\"].shape[1], 2, 200)\n",
    "    )  # (Batch Size, Sequence Length, 2, 200)\n",
    "\n",
    "    # 信頼区間に基づく予測値の修正処理\n",
    "    for step in range(data[\"input_x\"].shape[1]):\n",
    "\n",
    "        # x座標が95%信頼区間外ならその要素を0にする\n",
    "        output[step][0] = torch.where(\n",
    "            (output[step][0] < lower_x) | (output[step][0] > upper_x),\n",
    "            torch.zeros_like(output[step][0]),\n",
    "            output[step][0],\n",
    "        )\n",
    "\n",
    "        # y座標が95%信頼区間外ならその要素を0にする\n",
    "        output[step][1] = torch.where(\n",
    "            (output[step][1] < lower_y) | (output[step][1] > upper_y),\n",
    "            torch.zeros_like(output[step][1]),\n",
    "            output[step][1],\n",
    "        )\n",
    "\n",
    "    print(\"Modified Output X (Step 0):\", output[:, 0, 0])\n",
    "    print(\"Modified Output Y (Step 0):\", output[:, 0, 1])\n",
    "\n",
    "    # 最大値のインデックスを確認\n",
    "    pred_x = torch.argmax(output[:, 0, 0], dim=-1)\n",
    "    pred_y = torch.argmax(output[:, 0, 1], dim=-1)\n",
    "\n",
    "    print(\"Predicted X:\", pred_x)\n",
    "    print(\"Predicted Y:\", pred_y)"
   ]
  },
  {
   "cell_type": "code",
   "execution_count": 17,
   "metadata": {},
   "outputs": [],
   "source": [
    "output = torch.rand((30, 15, 2, 200))"
   ]
  },
  {
   "cell_type": "code",
   "execution_count": 18,
   "metadata": {},
   "outputs": [
    {
     "data": {
      "text/plain": [
       "torch.Size([30, 15, 2, 200])"
      ]
     },
     "execution_count": 18,
     "metadata": {},
     "output_type": "execute_result"
    }
   ],
   "source": [
    "output.shape"
   ]
  },
  {
   "cell_type": "code",
   "execution_count": 22,
   "metadata": {},
   "outputs": [
    {
     "data": {
      "text/plain": [
       "torch.Size([200])"
      ]
     },
     "execution_count": 22,
     "metadata": {},
     "output_type": "execute_result"
    }
   ],
   "source": [
    "output[0][0][0].shape"
   ]
  },
  {
   "cell_type": "code",
   "execution_count": 30,
   "metadata": {},
   "outputs": [],
   "source": [
    "lower_x = 50\n",
    "upper_x = 150\n",
    "\n",
    "output[0][0][0][:lower_x] = 0\n",
    "output[0][0][0][upper_x:] = 0"
   ]
  },
  {
   "cell_type": "code",
   "execution_count": 31,
   "metadata": {},
   "outputs": [
    {
     "data": {
      "text/plain": [
       "tensor([0.0000, 0.0000, 0.0000, 0.0000, 0.0000, 0.0000, 0.0000, 0.0000, 0.0000,\n",
       "        0.0000, 0.0000, 0.0000, 0.0000, 0.0000, 0.0000, 0.0000, 0.0000, 0.0000,\n",
       "        0.0000, 0.0000, 0.0000, 0.0000, 0.0000, 0.0000, 0.0000, 0.0000, 0.0000,\n",
       "        0.0000, 0.0000, 0.0000, 0.0000, 0.0000, 0.0000, 0.0000, 0.0000, 0.0000,\n",
       "        0.0000, 0.0000, 0.0000, 0.0000, 0.0000, 0.0000, 0.0000, 0.0000, 0.0000,\n",
       "        0.0000, 0.0000, 0.0000, 0.0000, 0.0000, 0.7006, 0.4941, 0.0978, 0.9069,\n",
       "        0.1692, 0.7643, 0.9438, 0.0473, 0.8720, 0.9358, 0.7005, 0.1497, 0.2745,\n",
       "        0.6766, 0.2225, 0.9912, 0.5649, 0.4029, 0.3275, 0.9184, 0.8596, 0.7537,\n",
       "        0.8281, 0.1770, 0.0449, 0.0277, 0.8523, 0.2867, 0.8168, 0.1911, 0.2679,\n",
       "        0.7751, 0.6985, 0.5829, 0.2618, 0.2281, 0.3669, 0.2978, 0.2145, 0.0736,\n",
       "        0.5518, 0.6523, 0.0566, 0.4767, 0.4921, 0.3649, 0.4238, 0.6380, 0.7666,\n",
       "        0.7555, 0.2252, 0.2933, 0.6332, 0.2961, 0.5434, 0.5188, 0.5876, 0.2590,\n",
       "        0.8074, 0.8607, 0.4031, 0.8344, 0.5858, 0.8634, 0.0800, 0.3428, 0.8227,\n",
       "        0.4885, 0.9793, 0.6219, 0.2967, 0.5160, 0.2846, 0.9680, 0.7145, 0.6011,\n",
       "        0.5551, 0.4218, 0.6109, 0.2652, 0.2910, 0.9980, 0.4078, 0.2540, 0.6770,\n",
       "        0.3621, 0.9448, 0.3024, 0.5948, 0.3646, 0.5661, 0.8526, 0.4905, 0.5438,\n",
       "        0.5863, 0.3886, 0.6709, 0.3476, 0.5682, 0.4565, 0.0000, 0.0000, 0.0000,\n",
       "        0.0000, 0.0000, 0.0000, 0.0000, 0.0000, 0.0000, 0.0000, 0.0000, 0.0000,\n",
       "        0.0000, 0.0000, 0.0000, 0.0000, 0.0000, 0.0000, 0.0000, 0.0000, 0.0000,\n",
       "        0.0000, 0.0000, 0.0000, 0.0000, 0.0000, 0.0000, 0.0000, 0.0000, 0.0000,\n",
       "        0.0000, 0.0000, 0.0000, 0.0000, 0.0000, 0.0000, 0.0000, 0.0000, 0.0000,\n",
       "        0.0000, 0.0000, 0.0000, 0.0000, 0.0000, 0.0000, 0.0000, 0.0000, 0.0000,\n",
       "        0.0000, 0.0000])"
      ]
     },
     "execution_count": 31,
     "metadata": {},
     "output_type": "execute_result"
    }
   ],
   "source": [
    "output[0][0][0]"
   ]
  },
  {
   "cell_type": "code",
   "execution_count": null,
   "metadata": {},
   "outputs": [],
   "source": [
    "torch.where(\n",
    "    (output[0][0][0] < lower_x) | (output[0][0][0] > upper_x),\n",
    "    torch.zeros_like(output[step][0]),  # 条件に一致する要素はゼロ\n",
    "    output[step][0],  # 条件に一致しない要素はそのまま残す\n",
    ")"
   ]
  }
 ],
 "metadata": {
  "kernelspec": {
   "display_name": "base",
   "language": "python",
   "name": "python3"
  },
  "language_info": {
   "codemirror_mode": {
    "name": "ipython",
    "version": 3
   },
   "file_extension": ".py",
   "mimetype": "text/x-python",
   "name": "python",
   "nbconvert_exporter": "python",
   "pygments_lexer": "ipython3",
   "version": "3.10.13"
  }
 },
 "nbformat": 4,
 "nbformat_minor": 2
}
