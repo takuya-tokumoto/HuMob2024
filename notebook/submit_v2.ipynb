{
 "cells": [
  {
   "cell_type": "markdown",
   "metadata": {},
   "source": [
    "# Import"
   ]
  },
  {
   "cell_type": "code",
   "execution_count": 83,
   "metadata": {},
   "outputs": [],
   "source": [
    "import glob\n",
    "import json\n",
    "from typing import List, Tuple\n",
    "\n",
    "import geobleu\n",
    "import matplotlib.pyplot as plt\n",
    "import numpy as np\n",
    "import pandas as pd\n",
    "import plotly.express as px\n",
    "import polars as pl\n",
    "import seaborn as sns"
   ]
  },
  {
   "cell_type": "markdown",
   "metadata": {},
   "source": [
    "# Function"
   ]
  },
  {
   "cell_type": "code",
   "execution_count": 84,
   "metadata": {},
   "outputs": [],
   "source": [
    "def read_submit_json(output_dir: str) -> dict:\n",
    "    \"\"\"予測後のファイルを読み込み\n",
    "\n",
    "    Args:\n",
    "        output_dir (str): 格納先のファイルのdirを指定\n",
    "\n",
    "    Returns:\n",
    "        dict: [generate]予測値 [referense]正解値\n",
    "    \"\"\"\n",
    "\n",
    "    submit_file = glob.glob(output_dir)[0]\n",
    "\n",
    "    with open(submit_file, \"r\") as f:\n",
    "        subs = json.load(f)\n",
    "\n",
    "    return subs"
   ]
  },
  {
   "cell_type": "code",
   "execution_count": 85,
   "metadata": {},
   "outputs": [],
   "source": [
    "def caluc_test_score(subs: dict) -> Tuple[List, List]:\n",
    "    \"\"\"評価用データに関する精度結果を表示\n",
    "\n",
    "    Args:\n",
    "        subs (dict): 提出用subs\n",
    "\n",
    "    Returns:\n",
    "        list: 各uidごとのgeobleuの値\n",
    "        list: 各uidごとのdtwの値\n",
    "    \"\"\"\n",
    "\n",
    "    list_geobleu_val = []\n",
    "    list_dtw_val = []\n",
    "    cnt = 0\n",
    "\n",
    "    for i in range(2000):\n",
    "\n",
    "        generated = subs[\"generated\"][i]\n",
    "        reference = subs[\"reference\"][i]\n",
    "\n",
    "        if len(generated) > 0:\n",
    "            geobleu_val = geobleu.calc_geobleu(generated, reference, processes=3)\n",
    "            list_geobleu_val.append(geobleu_val)\n",
    "\n",
    "            dtw_val = geobleu.calc_dtw(generated, reference, processes=3)\n",
    "            list_dtw_val.append(dtw_val)\n",
    "\n",
    "        else:\n",
    "            cnt += 1\n",
    "\n",
    "    print(f\"計算できなかったuid数は {cnt}件\")\n",
    "    print(\"geobleu: {}\".format(np.mean(list_geobleu_val)))\n",
    "    print(\"dtw: {}\".format(np.mean(list_dtw_val)))\n",
    "\n",
    "    return list_geobleu_val, list_dtw_val"
   ]
  },
  {
   "cell_type": "markdown",
   "metadata": {},
   "source": [
    "# CalucTestScore\n",
    "- 2000uid * 15dの範囲にてgeoblueとdtwを算出\n",
    "- uid単位で評価したうえで平均値を最終評価とする"
   ]
  },
  {
   "cell_type": "code",
   "execution_count": 86,
   "metadata": {},
   "outputs": [],
   "source": [
    "# 評価対象のファイル\n",
    "\n",
    "base_path = \"/kaggle/s3storage/01_public/humob-challenge-2024/output/test\"\n",
    "run_name = \"percentile95\"\n",
    "file_name = \"batchsize128_epochs50_embedsize128_layersnum4_headsnum8_cuda0_lr2e-05_seed0\""
   ]
  },
  {
   "cell_type": "markdown",
   "metadata": {},
   "source": [
    "## Dataset B"
   ]
  },
  {
   "cell_type": "code",
   "execution_count": 87,
   "metadata": {},
   "outputs": [
    {
     "name": "stdout",
     "output_type": "stream",
     "text": [
      "計算できなかったuid数は 0件\n",
      "geobleu: 0.11005220397512917\n",
      "dtw: 66.20717135047957\n"
     ]
    }
   ],
   "source": [
    "output_dir = f\"{base_path}/{run_name}/taskB/{file_name}/*json\"\n",
    "subsB = read_submit_json(output_dir)\n",
    "\n",
    "list_geobleu_val, list_dtw_val = caluc_test_score(subsB)"
   ]
  },
  {
   "cell_type": "markdown",
   "metadata": {},
   "source": [
    "## Dataset C"
   ]
  },
  {
   "cell_type": "markdown",
   "metadata": {},
   "source": [
    "## Dataset D"
   ]
  },
  {
   "cell_type": "markdown",
   "metadata": {},
   "source": [
    "# Analysys"
   ]
  },
  {
   "cell_type": "code",
   "execution_count": 21,
   "metadata": {},
   "outputs": [
    {
     "name": "stdout",
     "output_type": "stream",
     "text": [
      "計算できなかったuid数は 0件\n",
      "geobleu: 0.0017551713970495606\n",
      "dtw: 385.0024172985215\n"
     ]
    }
   ],
   "source": [
    "output_dir = (\n",
    "    f\"{base_path}/{run_name}/taskB/batchsize128_epochs1_embedsize128_layersnum4_headsnum8_cuda0_lr2e-05_seed0/*json\"\n",
    ")\n",
    "subsB = read_submit_json(output_dir)\n",
    "\n",
    "list_geobleu_val_ep_1, list_dtw_val_ep_1 = caluc_test_score(subsB)"
   ]
  },
  {
   "cell_type": "code",
   "execution_count": 26,
   "metadata": {},
   "outputs": [
    {
     "name": "stdout",
     "output_type": "stream",
     "text": [
      "計算できなかったuid数は 0件\n",
      "geobleu: 0.020381211173639613\n",
      "dtw: 224.86270387242917\n"
     ]
    }
   ],
   "source": [
    "output_dir = (\n",
    "    f\"{base_path}/{run_name}/taskB/batchsize128_epochs10_embedsize128_layersnum4_headsnum8_cuda0_lr2e-05_seed0/*json\"\n",
    ")\n",
    "subsB = read_submit_json(output_dir)\n",
    "\n",
    "list_geobleu_val_ep_10, list_dtw_val_ep_10 = caluc_test_score(subsB)"
   ]
  },
  {
   "cell_type": "code",
   "execution_count": 22,
   "metadata": {},
   "outputs": [
    {
     "ename": "NameError",
     "evalue": "name 'list_geobleu_val_ep_10' is not defined",
     "output_type": "error",
     "traceback": [
      "\u001b[0;31m---------------------------------------------------------------------------\u001b[0m",
      "\u001b[0;31mNameError\u001b[0m                                 Traceback (most recent call last)",
      "Cell \u001b[0;32mIn[22], line 2\u001b[0m\n\u001b[1;32m      1\u001b[0m \u001b[38;5;66;03m# リストにカテゴリを付ける\u001b[39;00m\n\u001b[0;32m----> 2\u001b[0m data \u001b[38;5;241m=\u001b[39m [list_geobleu_val, \u001b[43mlist_geobleu_val_ep_10\u001b[49m, list_geobleu_val_ep_1]\n\u001b[1;32m      4\u001b[0m \u001b[38;5;66;03m# boxplotの表示\u001b[39;00m\n\u001b[1;32m      5\u001b[0m plt\u001b[38;5;241m.\u001b[39mfigure(figsize\u001b[38;5;241m=\u001b[39m(\u001b[38;5;241m10\u001b[39m, \u001b[38;5;241m6\u001b[39m))\n",
      "\u001b[0;31mNameError\u001b[0m: name 'list_geobleu_val_ep_10' is not defined"
     ]
    }
   ],
   "source": [
    "# リストにカテゴリを付ける\n",
    "data = [list_geobleu_val, list_geobleu_val_ep_10, list_geobleu_val_ep_1]\n",
    "\n",
    "# boxplotの表示\n",
    "plt.figure(figsize=(10, 6))\n",
    "sns.boxplot(data=data)\n",
    "plt.xticks([0, 1, 2], [\"epoch 50\", \"epoch 10\", \"epoch 1\"])  # x軸にカテゴリラベルを設定\n",
    "plt.title(\"Comparison of geobleu Score\")\n",
    "plt.ylabel(\"Scores\")\n",
    "plt.show()"
   ]
  },
  {
   "cell_type": "code",
   "execution_count": 23,
   "metadata": {},
   "outputs": [
    {
     "ename": "NameError",
     "evalue": "name 'list_dtw_val_ep_10' is not defined",
     "output_type": "error",
     "traceback": [
      "\u001b[0;31m---------------------------------------------------------------------------\u001b[0m",
      "\u001b[0;31mNameError\u001b[0m                                 Traceback (most recent call last)",
      "Cell \u001b[0;32mIn[23], line 2\u001b[0m\n\u001b[1;32m      1\u001b[0m \u001b[38;5;66;03m# リストにカテゴリを付ける\u001b[39;00m\n\u001b[0;32m----> 2\u001b[0m data \u001b[38;5;241m=\u001b[39m [list_dtw_val, \u001b[43mlist_dtw_val_ep_10\u001b[49m, list_dtw_val_ep_1]\n\u001b[1;32m      4\u001b[0m \u001b[38;5;66;03m# boxplotの表示\u001b[39;00m\n\u001b[1;32m      5\u001b[0m plt\u001b[38;5;241m.\u001b[39mfigure(figsize\u001b[38;5;241m=\u001b[39m(\u001b[38;5;241m10\u001b[39m, \u001b[38;5;241m6\u001b[39m))\n",
      "\u001b[0;31mNameError\u001b[0m: name 'list_dtw_val_ep_10' is not defined"
     ]
    }
   ],
   "source": [
    "# リストにカテゴリを付ける\n",
    "data = [list_dtw_val, list_dtw_val_ep_10, list_dtw_val_ep_1]\n",
    "\n",
    "# boxplotの表示\n",
    "plt.figure(figsize=(10, 6))\n",
    "sns.boxplot(data=data)\n",
    "plt.xticks([0, 1, 2], [\"epoch 50\", \"epoch 10\", \"epoch 1\"])  # x軸にカテゴリラベルを設定\n",
    "plt.title(\"Comparison of dtw Score\")\n",
    "plt.ylabel(\"Scores\")\n",
    "plt.show()"
   ]
  },
  {
   "cell_type": "code",
   "execution_count": 88,
   "metadata": {},
   "outputs": [
    {
     "data": {
      "image/png": "[encoded data removed]",
      "text/plain": [
       "<Figure size 1000x600 with 1 Axes>"
      ]
     },
     "metadata": {},
     "output_type": "display_data"
    }
   ],
   "source": [
    "# ヒストグラムの描画\n",
    "plt.figure(figsize=(10, 6))\n",
    "plt.hist(list_geobleu_val, bins=100, edgecolor=\"black\")\n",
    "plt.title(\"Score Distribution (Histogram)\")\n",
    "plt.xlabel(\"Scores\")\n",
    "plt.ylabel(\"Frequency\")\n",
    "plt.show()"
   ]
  },
  {
   "cell_type": "code",
   "execution_count": 89,
   "metadata": {},
   "outputs": [
    {
     "data": {
      "image/png": "[encoded data removed]",
      "text/plain": [
       "<Figure size 1000x600 with 1 Axes>"
      ]
     },
     "metadata": {},
     "output_type": "display_data"
    }
   ],
   "source": [
    "# ヒストグラムの描画\n",
    "plt.figure(figsize=(10, 6))\n",
    "plt.hist(list_dtw_val, bins=100, edgecolor=\"black\")\n",
    "plt.title(\"Score Distribution (Histogram)\")\n",
    "plt.xlabel(\"Scores\")\n",
    "plt.ylabel(\"Frequency\")\n",
    "plt.show()"
   ]
  },
  {
   "cell_type": "code",
   "execution_count": 65,
   "metadata": {},
   "outputs": [
    {
     "data": {
      "text/html": [
       "<div><style>\n",
       ".dataframe > thead > tr,\n",
       ".dataframe > tbody > tr {\n",
       "  text-align: right;\n",
       "  white-space: pre-wrap;\n",
       "}\n",
       "</style>\n",
       "<small>shape: (1, 5)</small><table border=\"1\" class=\"dataframe\"><thead><tr><th>uid</th><th>d</th><th>t</th><th>x</th><th>y</th></tr><tr><td>i64</td><td>i64</td><td>i64</td><td>i64</td><td>i64</td></tr></thead><tbody><tr><td>0</td><td>0</td><td>20</td><td>80</td><td>99</td></tr></tbody></table></div>"
      ],
      "text/plain": [
       "shape: (1, 5)\n",
       "┌─────┬─────┬─────┬─────┬─────┐\n",
       "│ uid ┆ d   ┆ t   ┆ x   ┆ y   │\n",
       "│ --- ┆ --- ┆ --- ┆ --- ┆ --- │\n",
       "│ i64 ┆ i64 ┆ i64 ┆ i64 ┆ i64 │\n",
       "╞═════╪═════╪═════╪═════╪═════╡\n",
       "│ 0   ┆ 0   ┆ 20  ┆ 80  ┆ 99  │\n",
       "└─────┴─────┴─────┴─────┴─────┘"
      ]
     },
     "metadata": {},
     "output_type": "display_data"
    },
    {
     "name": "stdout",
     "output_type": "stream",
     "text": [
      "24375898\n"
     ]
    }
   ],
   "source": [
    "# CSV.GZファイルを読み込む\n",
    "df_b = pl.read_csv(\"/kaggle/s3storage/01_public/humob-challenge-2024/input/cityB_challengedata.csv.gz\")\n",
    "\n",
    "# データフレームの内容を表示\n",
    "display(df_b.head(1))\n",
    "print(len(df_b))"
   ]
  },
  {
   "cell_type": "code",
   "execution_count": 66,
   "metadata": {},
   "outputs": [],
   "source": [
    "def plot_xy_trajectory(city_df: pl.DataFrame, selected_uids: list[int]) -> None:\n",
    "    \"\"\"ユーザーごとのx, yの推移を時間軸に沿って折れ線グラフで可視化\n",
    "\n",
    "    args\n",
    "        city_df: Polarsのデータフレーム\n",
    "        selected_uids: 表示したいユーザーIDのリスト\n",
    "    \"\"\"\n",
    "\n",
    "    # 選択されたUIDのデータをフィルタリングし、時間でソート\n",
    "    dff = city_df.filter(pl.col(\"uid\").is_in(selected_uids))\n",
    "    dff = dff.with_columns((pl.col(\"d\") * 48 + pl.col(\"t\")).alias(\"time\"))\n",
    "    dff = dff.sort(\"time\")\n",
    "\n",
    "    # Pandasデータフレームに変換\n",
    "    dff_pd = dff.to_pandas()\n",
    "\n",
    "    # X座標の推移を描画\n",
    "    x_line_fig = px.line(\n",
    "        dff_pd,\n",
    "        x=\"time\",\n",
    "        y=\"x\",\n",
    "        color=\"uid\",\n",
    "        labels={\"x\": \"Time\", \"y\": \"X Position\", \"uid\": \"User ID\"},\n",
    "        title=\"User X Position Over Time\",\n",
    "        range_y=[0, 200],  # y座標の範囲を指定\n",
    "    )\n",
    "    x_line_fig.update_traces(mode=\"lines+markers\")\n",
    "\n",
    "    # Y座標の推移を描画\n",
    "    y_line_fig = px.line(\n",
    "        dff_pd,\n",
    "        x=\"time\",\n",
    "        y=\"y\",\n",
    "        color=\"uid\",\n",
    "        labels={\"x\": \"Time\", \"y\": \"Y Position\", \"uid\": \"User ID\"},\n",
    "        title=\"User Y Position Over Time\",\n",
    "        range_y=[0, 200],  # y座標の範囲を指定\n",
    "    )\n",
    "    y_line_fig.update_traces(mode=\"lines+markers\")\n",
    "\n",
    "    # グラフの表示\n",
    "    x_line_fig.show()\n",
    "    y_line_fig.show()"
   ]
  },
  {
   "cell_type": "code",
   "execution_count": 67,
   "metadata": {},
   "outputs": [],
   "source": [
    "def plot_xy_trajectory_submit(subs: dict, selected_uid: int) -> None:\n",
    "\n",
    "    # submitファイル用にuidを再定義\n",
    "    new_uid = selected_uid - 20000\n",
    "\n",
    "    # 選択されたUIDの部分を抽出\n",
    "    _pred_dict = subs[\"generated\"][new_uid]\n",
    "    # 辞書に変換したのちにpolarsに変換\n",
    "    _pred_dict = [{\"d\": item[0], \"t\": item[1], \"x\": item[2], \"y\": item[3]} for item in _pred_dict]\n",
    "    pred_pl = pl.DataFrame(_pred_dict)\n",
    "    # time項目を追加\n",
    "    pred_pl = pred_pl.with_columns((pl.col(\"d\") * 48 + pl.col(\"t\")).alias(\"time\"))\n",
    "    pred_pl = pred_pl.sort(\"time\")\n",
    "    pred_pl = pred_pl.with_columns(pl.lit(\"Prediction\").alias(\"type\"))\n",
    "\n",
    "    # Pandasデータフレームに変換\n",
    "    pred_pd = pred_pl.to_pandas()\n",
    "\n",
    "    # 選択されたUIDの部分を抽出\n",
    "    _act_dict = subs[\"reference\"][new_uid]\n",
    "    # 辞書に変換したのちにpolarsに変換\n",
    "    _act_dict = [{\"d\": item[0], \"t\": item[1], \"x\": item[2], \"y\": item[3]} for item in _act_dict]\n",
    "    act_pl = pl.DataFrame(_act_dict)\n",
    "    # time項目を追加\n",
    "    act_pl = act_pl.with_columns((pl.col(\"d\") * 48 + pl.col(\"t\")).alias(\"time\"))\n",
    "    act_pl = act_pl.sort(\"time\")\n",
    "    act_pl = act_pl.with_columns(pl.lit(\"Actual\").alias(\"type\"))\n",
    "    # Pandasデータフレームに変換\n",
    "    act_pd = act_pl.to_pandas()\n",
    "\n",
    "    # 予測値と実測値を1つのデータフレームに結合\n",
    "    combined_df = pd.concat([pred_pd, act_pd])\n",
    "\n",
    "    # X座標の推移を描画\n",
    "    x_line_fig = px.line(\n",
    "        combined_df,\n",
    "        x=\"time\",\n",
    "        y=\"x\",\n",
    "        color=\"type\",\n",
    "        labels={\"x\": \"Time\", \"y\": \"X Position\", \"type\": \"Data Type\"},\n",
    "        title=\"User X Position Over Time\",\n",
    "        range_y=[0, 200],  # y座標の範囲を指定\n",
    "    )\n",
    "    x_line_fig.update_traces(mode=\"lines+markers\")\n",
    "    # x_line_fig.update_layout(yaxis=dict(range=[0, 200]))  # y軸を0から200に固定\n",
    "\n",
    "    # Y座標の推移を描画\n",
    "    y_line_fig = px.line(\n",
    "        combined_df,\n",
    "        x=\"time\",\n",
    "        y=\"y\",\n",
    "        color=\"type\",\n",
    "        labels={\"x\": \"Time\", \"y\": \"Y Position\", \"type\": \"Data Type\"},\n",
    "        title=\"User Y Position Over Time\",\n",
    "        range_y=[0, 200],  # y座標の範囲を指定\n",
    "    )\n",
    "    y_line_fig.update_traces(mode=\"lines+markers\")\n",
    "    # y_line_fig.update_layout(yaxis=dict(range=[0, 200]))  # y軸を0から200に固定\n",
    "\n",
    "    # グラフの表示\n",
    "    x_line_fig.show()\n",
    "    y_line_fig.show()"
   ]
  },
  {
   "cell_type": "code",
   "execution_count": 90,
   "metadata": {},
   "outputs": [
    {
     "data": {
      "text/plain": [
       "[0.6591998010662653,\n",
       " 0.06361997282793494,\n",
       " 0.05286268610518907,\n",
       " 0.08432341455005159,\n",
       " 0.397640820805466,\n",
       " 0.010205880906612508,\n",
       " 0.037990102865430225,\n",
       " 0.0006057188105099017,\n",
       " 0.04667618085052088,\n",
       " 0.05898004585924524,\n",
       " 6.703639068882797e-15,\n",
       " 0.4195132538884809,\n",
       " 0.033448606641806176,\n",
       " 0.0015525233355100263,\n",
       " 0.218343996044472,\n",
       " 0.05426475210805273,\n",
       " 0.05991505755661084,\n",
       " 0.023952593458009673,\n",
       " 0.04747454274496068,\n",
       " 0.08540729977030266,\n",
       " 3.7609886459925048e-06,\n",
       " 0.18942928157586914,\n",
       " 0.5608708635120607,\n",
       " 0.05502944563707938,\n",
       " 0.04319853712939656,\n",
       " 0.001134071447836881,\n",
       " 0.0034633805891410995,\n",
       " 1.1831228953711969e-05,\n",
       " 1.4960081110985291e-07,\n",
       " 0.07411269781285242,\n",
       " 1.4417183629390913e-25,\n",
       " 1.046443557979731e-05,\n",
       " 5.786043985891969e-14,\n",
       " 8.249598226537631e-05,\n",
       " 0.24980424166825815,\n",
       " 0.09126900491886353,\n",
       " 0.6170437895629651,\n",
       " 0.05351681201146424,\n",
       " 0.010110014416432061,\n",
       " 0.0003370708283923126,\n",
       " 0.06376069968329884,\n",
       " 0.06779958370689178,\n",
       " 0.6006922909394334,\n",
       " 7.790572111566748e-06,\n",
       " 0.008146744423418966,\n",
       " 0.09765139389181707,\n",
       " 0.06592905190884582,\n",
       " 0.0406237828815229,\n",
       " 2.1288711954355853e-06,\n",
       " 8.782645939890434e-24,\n",
       " 0.07826404270922492,\n",
       " 0.32039816740386123,\n",
       " 0.020451592036567087,\n",
       " 0.09224618973757724,\n",
       " 0.2422705766587225,\n",
       " 8.433131150165208e-06,\n",
       " 0.1610208008617274,\n",
       " 0.17861763782746992,\n",
       " 0.5692458228135098,\n",
       " 1.7170944000411258e-09,\n",
       " 0.21634081020743368,\n",
       " 0.130866807393908,\n",
       " 1.0755682255625836e-07,\n",
       " 0.0032413347582009636,\n",
       " 0.08728195142977689,\n",
       " 0.017436763242803188,\n",
       " 1.1227416354315298e-08,\n",
       " 0.00011658691465811518,\n",
       " 0.18573245956736473,\n",
       " 0.040516248077525394,\n",
       " 0.30009688275561813,\n",
       " 0.013404504736010512,\n",
       " 0.04637066157871292,\n",
       " 0.002238898656017858,\n",
       " 0.16045413541202105,\n",
       " 0.3270067934823709,\n",
       " 1.4571493295949492e-08,\n",
       " 4.198076021717875e-05,\n",
       " 0.1304070237763378,\n",
       " 0.01277582358813526,\n",
       " 0.0349747886983213,\n",
       " 9.914747664194383e-10,\n",
       " 0.10546994204379974,\n",
       " 1.2699872504469162e-06,\n",
       " 0.05188773441574183,\n",
       " 0.002728257581466935,\n",
       " 0.04196530342521392,\n",
       " 0.0016145546814113896,\n",
       " 1.884821513998061e-05,\n",
       " 0.23567860484110884,\n",
       " 0.009047630347010052,\n",
       " 0.003167651745162527,\n",
       " 0.0005796390332543363,\n",
       " 0.06931194016863935,\n",
       " 0.05747090056149145,\n",
       " 0.0004859027858306665,\n",
       " 0.3909089550328825,\n",
       " 0.4022391124854012,\n",
       " 0.01042556930468108,\n",
       " 2.368956633125448e-09,\n",
       " 0.17820800831339234,\n",
       " 0.015433844774429004,\n",
       " 0.21663001412348465,\n",
       " 0.10164835208767412,\n",
       " 0.013584923051189116,\n",
       " 0.001314947934928548,\n",
       " 0.3923617510000392,\n",
       " 8.31479884897755e-17,\n",
       " 1.222201467596221e-22,\n",
       " 2.0910983029452735e-05,\n",
       " 2.6707712054594392e-05,\n",
       " 0.11535805316553498,\n",
       " 0.42699325381158854,\n",
       " 0.021606257964077134,\n",
       " 0.020062302504014033,\n",
       " 7.417578637405786e-07,\n",
       " 0.0302861217924754,\n",
       " 0.0008597668635488354,\n",
       " 0.006541439549210917,\n",
       " 0.0016840010127150025,\n",
       " 0.04541775847651617,\n",
       " 1.3153031645031679e-05,\n",
       " 0.04450590779905952,\n",
       " 0.5183631078573706,\n",
       " 0.0006207398722446282,\n",
       " 0.019509962336154502,\n",
       " 0.06088479747924492,\n",
       " 4.212323443950558e-07,\n",
       " 0.00017099194384412843,\n",
       " 0.010593078431466198,\n",
       " 1.012412235685732e-08,\n",
       " 0.20770442479758908,\n",
       " 0.1566188502462219,\n",
       " 0.16326371456953018,\n",
       " 0.396417909063848,\n",
       " 0.16770701421204262,\n",
       " 0.3507963205264157,\n",
       " 0.3737539268095437,\n",
       " 0.012021353584891098,\n",
       " 5.612562433991683e-05,\n",
       " 0.385335544089444,\n",
       " 0.19836758526468504,\n",
       " 0.003324063448588222,\n",
       " 0.2093219664624048,\n",
       " 0.10284943753403238,\n",
       " 5.711729460360283e-07,\n",
       " 0.00545638528339532,\n",
       " 0.028131072390783156,\n",
       " 0.635739900829469,\n",
       " 0.24081400975724965,\n",
       " 0.31174877606300194,\n",
       " 0.1599480140052858,\n",
       " 0.028650958337588274,\n",
       " 0.43398531007673696,\n",
       " 0.07175228496187264,\n",
       " 0.43460674498086355,\n",
       " 0.5702366836255267,\n",
       " 0.001369190524410236,\n",
       " 0.4209380671610701,\n",
       " 6.607193285091618e-06,\n",
       " 1.6211819514661653e-23,\n",
       " 0.0021179771838910192,\n",
       " 0.001144296482249599,\n",
       " 0.11664950658302073,\n",
       " 0.021783725635895854,\n",
       " 0.11217175867412048,\n",
       " 0.18798655591107882,\n",
       " 0.13867069786319008,\n",
       " 0.0479342751489689,\n",
       " 0.0020794463172031847,\n",
       " 0.030013430956244334,\n",
       " 0.10986882743341936,\n",
       " 0.2808952930961638,\n",
       " 8.617308983263225e-05,\n",
       " 0.2808809870184991,\n",
       " 0.03988136734265867,\n",
       " 0.2248647254974527,\n",
       " 0.0579776602259721,\n",
       " 0.3569408626433318,\n",
       " 0.04260684536777017,\n",
       " 0.11148779768986539,\n",
       " 0.02077578311351263,\n",
       " 0.008969674202088865,\n",
       " 0.13538250010268238,\n",
       " 0.08676888441139309,\n",
       " 0.40809981633925446,\n",
       " 0.00011727820838280367,\n",
       " 3.3746348169260674e-06,\n",
       " 0.008187937162407765,\n",
       " 2.241213035854574e-15,\n",
       " 1.0214223059241873e-16,\n",
       " 0.07788765390084776,\n",
       " 1.4566145048318372e-08,\n",
       " 0.004483101347000482,\n",
       " 0.036385616490456615,\n",
       " 0.03244147213174317,\n",
       " 0.03694451559285975,\n",
       " 0.16701880887010476,\n",
       " 0.34088273546944436,\n",
       " 8.405139383797811e-05,\n",
       " 0.5317737394363186,\n",
       " 4.523094816072831e-05,\n",
       " 0.0016086409550491675,\n",
       " 0.002450444553290407,\n",
       " 7.406877730916374e-07,\n",
       " 0.017217577800147325,\n",
       " 0.003691325418250439,\n",
       " 0.2523059975593707,\n",
       " 0.10740251719344326,\n",
       " 0.45653599973705083,\n",
       " 0.3098267284717984,\n",
       " 0.011171644624488473,\n",
       " 0.2368931922130289,\n",
       " 0.50164642341112,\n",
       " 0.1762030974958067,\n",
       " 0.016821326290769302,\n",
       " 0.012091579801148163,\n",
       " 0.031412266542028194,\n",
       " 0.328008955136099,\n",
       " 0.006636282148801303,\n",
       " 0.07618198660180804,\n",
       " 3.640981448904659e-07,\n",
       " 0.1470058714625529,\n",
       " 0.004317322851157296,\n",
       " 9.271357839830772e-05,\n",
       " 0.013827177638526315,\n",
       " 0.009124011347353769,\n",
       " 0.00019915912425268406,\n",
       " 0.0011370506503529175,\n",
       " 0.058451055752024084,\n",
       " 4.417756002771849e-05,\n",
       " 0.1589309590473376,\n",
       " 0.35906253591177045,\n",
       " 0.22178272477118532,\n",
       " 0.44392151372527994,\n",
       " 0.36762333588958107,\n",
       " 0.36794096104225643,\n",
       " 0.1808373463853618,\n",
       " 0.44106064500728653,\n",
       " 0.009713797331533438,\n",
       " 0.010772921778237549,\n",
       " 0.08308294463207512,\n",
       " 0.0036413614427800054,\n",
       " 0.15618590627096152,\n",
       " 0.15214343704430505,\n",
       " 0.12443641042225072,\n",
       " 0.16579025310881296,\n",
       " 0.49907538246694,\n",
       " 0.001996830973898874,\n",
       " 0.15303511374928158,\n",
       " 0.413125298113131,\n",
       " 0.29930361612988615,\n",
       " 0.01462054774560531,\n",
       " 0.10650943056503274,\n",
       " 0.21977446066277,\n",
       " 0.08034000305035398,\n",
       " 0.36294426688848447,\n",
       " 0.14727196764964867,\n",
       " 3.152161923377007e-09,\n",
       " 0.0010316261020446498,\n",
       " 2.1953215842246136e-08,\n",
       " 0.10763646286246377,\n",
       " 0.17861502770967266,\n",
       " 3.4200164483635005e-12,\n",
       " 0.03188140741397637,\n",
       " 0.0002180535026687176,\n",
       " 0.034014062225847255,\n",
       " 1.0370688134011836e-07,\n",
       " 0.028166190843079603,\n",
       " 0.16436041996564132,\n",
       " 0.7319332173995957,\n",
       " 0.3824182091285512,\n",
       " 0.4514552598867916,\n",
       " 0.010636040436119243,\n",
       " 0.010516422762169046,\n",
       " 0.004957692487655294,\n",
       " 0.3188722695667711,\n",
       " 1.1788517866771707e-08,\n",
       " 5.374921550424534e-08,\n",
       " 0.022413316765133036,\n",
       " 0.7596531998892537,\n",
       " 9.508364502419495e-15,\n",
       " 0.26397934925475314,\n",
       " 0.10518136336075248,\n",
       " 0.04718699916941274,\n",
       " 2.777004104924953e-06,\n",
       " 0.011276721433713397,\n",
       " 0.009559055017094382,\n",
       " 0.039302723042814215,\n",
       " 0.20117091198247491,\n",
       " 2.387274239641866e-07,\n",
       " 0.001061047268797889,\n",
       " 0.020577726025938266,\n",
       " 0.07556337630093607,\n",
       " 0.00031246916078115337,\n",
       " 1.5833245473746298e-16,\n",
       " 0.004773580712923783,\n",
       " 0.00180806015345928,\n",
       " 0.001101930510150484,\n",
       " 4.004008792455792e-05,\n",
       " 0.0014444327293048238,\n",
       " 0.03177209613898587,\n",
       " 0.04911603799874542,\n",
       " 0.48927186324013794,\n",
       " 0.000193983519426667,\n",
       " 0.06182910309267177,\n",
       " 0.0015323875990789029,\n",
       " 0.058439488995554706,\n",
       " 0.34464406653457513,\n",
       " 0.0010414239652595718,\n",
       " 0.004291115061109502,\n",
       " 0.15800606092251784,\n",
       " 0.1441979222461711,\n",
       " 0.26426955343899616,\n",
       " 0.007003914488708726,\n",
       " 0.02357012625988405,\n",
       " 0.0020128117901588817,\n",
       " 0.32325184857906936,\n",
       " 0.26849173456756076,\n",
       " 0.2568581989417833,\n",
       " 0.00196514145712932,\n",
       " 0.4231912232085215,\n",
       " 0.5431465600952016,\n",
       " 0.08906174872160455,\n",
       " 2.7267599588732573e-07,\n",
       " 0.07337449449299274,\n",
       " 0.0336657059875022,\n",
       " 0.06067763042389391,\n",
       " 4.4478660913660135e-09,\n",
       " 0.014904933114162975,\n",
       " 6.098125285728984e-30,\n",
       " 0.10806126839811545,\n",
       " 0.02405721578567651,\n",
       " 0.3056676316557184,\n",
       " 0.07980680959118253,\n",
       " 0.18067614683570873,\n",
       " 0.43878870161418276,\n",
       " 0.0026815580260448183,\n",
       " 0.01420770244483224,\n",
       " 0.05509675961007261,\n",
       " 0.04792049002843675,\n",
       " 0.037676460088986,\n",
       " 0.004639531400392054,\n",
       " 0.32897342081394043,\n",
       " 0.045175772442280264,\n",
       " 3.449719594157122e-05,\n",
       " 0.228998887057724,\n",
       " 5.424547352461468e-16,\n",
       " 1.4941562564083422e-07,\n",
       " 9.88461452014731e-08,\n",
       " 0.0058577886239452055,\n",
       " 0.00408891397860601,\n",
       " 0.0004980496611338765,\n",
       " 0.005815172828489869,\n",
       " 0.06496304786725879,\n",
       " 0.08490388979265834,\n",
       " 0.00010896154933756604,\n",
       " 3.272377212234676e-28,\n",
       " 4.413803164563933e-05,\n",
       " 0.24163101389225353,\n",
       " 0.23718888057391357,\n",
       " 0.5102259281311159,\n",
       " 8.846613873521117e-22,\n",
       " 0.042738031276547774,\n",
       " 0.00010341119409557063,\n",
       " 0.009154574158041485,\n",
       " 0.0006661526000523451,\n",
       " 0.12240853471425042,\n",
       " 0.43622157933533756,\n",
       " 1.2516055325646322e-08,\n",
       " 9.371058704408276e-05,\n",
       " 0.12600987006701983,\n",
       " 0.17230094432026202,\n",
       " 0.03907274481407454,\n",
       " 0.022264478888626617,\n",
       " 4.5592067280467586e-11,\n",
       " 0.11774404975082418,\n",
       " 0.019385486606019315,\n",
       " 0.16789817436560708,\n",
       " 0.017819147015845218,\n",
       " 1.1989789975324983e-14,\n",
       " 0.002300072332452084,\n",
       " 0.3095970124771573,\n",
       " 1.808535608452042e-05,\n",
       " 0.18930853676840959,\n",
       " 0.24451168948425478,\n",
       " 0.015139767834751782,\n",
       " 0.07030434650715527,\n",
       " 0.11705569519367345,\n",
       " 0.15009780102334222,\n",
       " 0.005624483905471425,\n",
       " 0.38657835991014,\n",
       " 0.20728974698741096,\n",
       " 0.2418187625144196,\n",
       " 0.09136804075026084,\n",
       " 0.055930714567879805,\n",
       " 0.00613511014792384,\n",
       " 0.040817139140792304,\n",
       " 9.753364582137428e-11,\n",
       " 0.3517922469105751,\n",
       " 0.05521335277773288,\n",
       " 0.0444912368550524,\n",
       " 0.0008842021355339461,\n",
       " 2.790655289564839e-15,\n",
       " 0.32295523356429773,\n",
       " 0.4228059778740895,\n",
       " 0.39460975151313865,\n",
       " 0.44695326640917626,\n",
       " 0.2610209509348851,\n",
       " 0.032131828299615896,\n",
       " 2.0976875652440266e-08,\n",
       " 0.15908732250125834,\n",
       " 0.21514854865522165,\n",
       " 0.025846751223078467,\n",
       " 0.34390370267037224,\n",
       " 0.01415747700547467,\n",
       " 0.04123646252946518,\n",
       " 0.22291447350623378,\n",
       " 0.0007943816094943187,\n",
       " 8.796581928728019e-05,\n",
       " 0.2266976707552025,\n",
       " 0.264064764701387,\n",
       " 0.018028910543974586,\n",
       " 0.02696306371675699,\n",
       " 0.05525058662006925,\n",
       " 0.27438648028997464,\n",
       " 7.666727736098189e-16,\n",
       " 0.02887680966378854,\n",
       " 0.04707458898091172,\n",
       " 0.04723388865700629,\n",
       " 0.23433129835777533,\n",
       " 0.24640473051258874,\n",
       " 0.002888534620409292,\n",
       " 0.00131504361861387,\n",
       " 0.0006371689220399009,\n",
       " 0.07109107093494003,\n",
       " 8.7900390873261e-05,\n",
       " 0.14168827152152788,\n",
       " 0.005966299671413887,\n",
       " 0.27989973632306103,\n",
       " 0.03761358201635989,\n",
       " 0.04383622587465656,\n",
       " 0.4344504147562142,\n",
       " 0.06477034843340414,\n",
       " 0.1156017749309547,\n",
       " 0.11897926805505431,\n",
       " 7.801109710337525e-11,\n",
       " 0.06789403221238652,\n",
       " 0.22633946100586086,\n",
       " 0.005644171995143307,\n",
       " 0.021181362183549105,\n",
       " 0.00028290558861878573,\n",
       " 0.005434738988370505,\n",
       " 0.0063681848029124005,\n",
       " 9.434847309676894e-07,\n",
       " 0.05594202892461088,\n",
       " 0.014905844870286046,\n",
       " 0.01668827118317203,\n",
       " 0.05213957392101661,\n",
       " 0.1367431003977473,\n",
       " 0.02295190413086025,\n",
       " 0.24701310305125862,\n",
       " 0.3886567888253709,\n",
       " 0.5758424864714915,\n",
       " 0.22897651790321755,\n",
       " 0.05672291813629735,\n",
       " 0.09393390548378869,\n",
       " 0.0027915109429029017,\n",
       " 3.461518481687098e-05,\n",
       " 3.3526975294608255e-05,\n",
       " 0.12261671943978714,\n",
       " 0.07251187089314455,\n",
       " 0.4594329652348375,\n",
       " 0.12525972539381838,\n",
       " 4.497430244946037e-09,\n",
       " 0.2696325145195542,\n",
       " 0.011011216970621561,\n",
       " 0.10800736541221065,\n",
       " 0.005731110686537525,\n",
       " 2.6491505784463378e-05,\n",
       " 6.390567420228853e-08,\n",
       " 0.08363150170020539,\n",
       " 2.345216773414739e-05,\n",
       " 0.005545690074419052,\n",
       " 0.2345780419848155,\n",
       " 0.001034097456038295,\n",
       " 0.024399900907514552,\n",
       " 0.6549437969463946,\n",
       " 0.0014766491115404525,\n",
       " 0.005072433306366629,\n",
       " 0.008786958709240449,\n",
       " 0.13800104800444815,\n",
       " 5.729368602352116e-05,\n",
       " 1.0690870183091505e-05,\n",
       " 0.022134893375677134,\n",
       " 0.17966928483008182,\n",
       " 4.41657848719491e-18,\n",
       " 0.12470934838897242,\n",
       " 0.16194414648309843,\n",
       " 1.669237830709392e-17,\n",
       " 0.053094550284196594,\n",
       " 0.0033759253999282434,\n",
       " 0.01971335735235977,\n",
       " 0.010731799196165454,\n",
       " 0.05467328656179048,\n",
       " 0.015758768664569343,\n",
       " 0.07686078279529039,\n",
       " 0.18407791661650355,\n",
       " 0.12792468071948285,\n",
       " 0.1454278342589989,\n",
       " 0.00039904476220886323,\n",
       " 0.006152089870612724,\n",
       " 0.4090273871215326,\n",
       " 0.09414860385812295,\n",
       " 0.15902692973722893,\n",
       " 0.15061182883127971,\n",
       " 0.06707088044023965,\n",
       " 0.0016423560551679318,\n",
       " 0.19553228472216783,\n",
       " 0.45036599560636836,\n",
       " 0.006632439029081625,\n",
       " 0.21975302774676458,\n",
       " 0.021161840423430705,\n",
       " 0.12219363282265358,\n",
       " 2.6942337769648973e-06,\n",
       " 0.3439315323849949,\n",
       " 0.09126377153167689,\n",
       " 0.36515320770116333,\n",
       " 0.1211041733210089,\n",
       " 0.002246237752045648,\n",
       " 0.1221482438593455,\n",
       " 0.001060029192497235,\n",
       " 5.076142320076307e-10,\n",
       " 0.5053738407103232,\n",
       " 0.000638074469264514,\n",
       " 0.38145244179448484,\n",
       " 0.09790847688353962,\n",
       " 0.23819512703929402,\n",
       " 0.007694352190285614,\n",
       " 0.24824412718389538,\n",
       " 9.28263412971871e-06,\n",
       " 0.013784552280054102,\n",
       " 8.64268337112927e-06,\n",
       " 0.0010080611158023321,\n",
       " 0.034491102572152085,\n",
       " 0.3351108387876693,\n",
       " 0.4064308874038308,\n",
       " 0.009705499061739625,\n",
       " 0.2705502355545788,\n",
       " 0.00014483173175162557,\n",
       " 0.28161829122859966,\n",
       " 0.03616741692311667,\n",
       " 0.00016838706804650665,\n",
       " 0.15070315745190674,\n",
       " 0.014055192673445002,\n",
       " 0.0795329879123748,\n",
       " 0.0009513312602971744,\n",
       " 0.017831452471173882,\n",
       " 0.03964382120826056,\n",
       " 0.24829536458634485,\n",
       " 2.9127033911324105e-07,\n",
       " 7.677579357173795e-06,\n",
       " 0.12895139633149433,\n",
       " 0.0035131205184107195,\n",
       " 0.002875533452847711,\n",
       " 0.18228659233192898,\n",
       " 0.05536301286536856,\n",
       " 1.662630577206373e-11,\n",
       " 0.2493556680428628,\n",
       " 0.2648371901530603,\n",
       " 4.2019295010273556e-10,\n",
       " 0.32044096890819856,\n",
       " 0.11723552167416104,\n",
       " 0.0004652803059983967,\n",
       " 0.0014747372279335872,\n",
       " 0.0022205487087110904,\n",
       " 0.32950358791739803,\n",
       " 0.18858895172555132,\n",
       " 0.018606260151621336,\n",
       " 0.2680808729539891,\n",
       " 1.2159747568729136e-06,\n",
       " 0.2759278498331658,\n",
       " 0.28110130797267385,\n",
       " 0.0012504832536575148,\n",
       " 0.056464565609854925,\n",
       " 0.1926449131479619,\n",
       " 0.03320223640175757,\n",
       " 0.00037304720788908257,\n",
       " 0.3120902273695583,\n",
       " 0.007300337870996515,\n",
       " 0.2868120729405911,\n",
       " 0.19512781088666814,\n",
       " 0.0038701958708215237,\n",
       " 7.62006727425931e-08,\n",
       " 0.1975467194073476,\n",
       " 0.028373420152694128,\n",
       " 0.024441570005419973,\n",
       " 8.221442171913094e-06,\n",
       " 0.05851265436331734,\n",
       " 1.9847815802524685e-06,\n",
       " 0.06744677723869158,\n",
       " 0.28769390254831895,\n",
       " 0.2770025231803552,\n",
       " 0.0015375898841853317,\n",
       " 0.049675449844001615,\n",
       " 1.6677287439318702e-40,\n",
       " 0.1772739040124184,\n",
       " 0.09805165508186041,\n",
       " 0.48418134293524273,\n",
       " 0.5962027949323118,\n",
       " 0.01893722928001879,\n",
       " 0.012966749949212297,\n",
       " 0.018893461688754196,\n",
       " 0.04502526497304578,\n",
       " 0.04542804024941416,\n",
       " 6.390522156440859e-07,\n",
       " 0.17416260123294122,\n",
       " 0.14320181755566336,\n",
       " 0.019111242963346025,\n",
       " 0.2402571735871598,\n",
       " 3.697836540512042e-15,\n",
       " 0.024407902841436173,\n",
       " 5.189091217248763e-05,\n",
       " 0.14591970570654927,\n",
       " 0.09705998023398102,\n",
       " 0.014632457098144914,\n",
       " 0.03290232387129046,\n",
       " 0.037071815835280957,\n",
       " 0.04400810970810034,\n",
       " 0.012488669830270919,\n",
       " 0.03003697283651354,\n",
       " 0.03100106181099615,\n",
       " 0.17699972467569103,\n",
       " 0.29654464970506794,\n",
       " 0.013727579910025883,\n",
       " 0.33277349004047896,\n",
       " 0.09897884712660428,\n",
       " 0.004503749790524257,\n",
       " 0.043416677939614984,\n",
       " 0.25692659368994003,\n",
       " 0.24500763107635862,\n",
       " 2.4755096384834914e-08,\n",
       " 0.7374283096933947,\n",
       " 0.027921312056195892,\n",
       " 0.01107622151072101,\n",
       " 0.346729315395556,\n",
       " 4.17919921518395e-05,\n",
       " 3.6469353287281104e-06,\n",
       " 0.561641617892077,\n",
       " 0.05667507300977351,\n",
       " 0.05295735410174537,\n",
       " 0.022951405457092802,\n",
       " 0.057959406416996324,\n",
       " 0.0479590091626013,\n",
       " 0.015562675797122139,\n",
       " 0.1979029264813544,\n",
       " 0.046204715212174306,\n",
       " 0.0006248768453153098,\n",
       " 0.12069550800861499,\n",
       " 0.5808184386510414,\n",
       " 0.468918652028305,\n",
       " 0.0011696515315997218,\n",
       " 0.2757735205331671,\n",
       " 0.46500074248580925,\n",
       " 1.1523204867782669e-17,\n",
       " 5.5802076573154525e-06,\n",
       " 0.00022975512989674665,\n",
       " 0.0009280151863791773,\n",
       " 0.17743699831336593,\n",
       " 0.13962240656618918,\n",
       " 0.004195974387324678,\n",
       " 0.1661626220644775,\n",
       " 0.21764870842660253,\n",
       " 0.15829041714227413,\n",
       " 0.2012918941755608,\n",
       " 1.925983345020785e-07,\n",
       " 4.198277624671582e-17,\n",
       " 0.2389235287076442,\n",
       " 0.06188494558046155,\n",
       " 0.03869946359443609,\n",
       " 0.4319429203307738,\n",
       " 0.0018233853941832488,\n",
       " 0.2661764979476811,\n",
       " 0.0007708495857551237,\n",
       " 0.27343417138600834,\n",
       " 0.001076758477117423,\n",
       " 0.19215261792426386,\n",
       " 0.010457543371330551,\n",
       " 0.0013959805055349078,\n",
       " 0.02159818105758566,\n",
       " 0.16386129969543956,\n",
       " 0.12109634344920948,\n",
       " 0.553823750972008,\n",
       " 0.0411685963046218,\n",
       " 0.002959155610260667,\n",
       " 0.22759999368663592,\n",
       " 0.1332160408227088,\n",
       " 0.28697352253448455,\n",
       " 3.4454753816485886e-08,\n",
       " 0.0005108174940859445,\n",
       " 0.32945242553578136,\n",
       " 0.19065667198120317,\n",
       " 0.0681853607492441,\n",
       " 9.302166278087267e-18,\n",
       " 0.03626671214371066,\n",
       " 0.0009523925719620777,\n",
       " 0.002625412948991776,\n",
       " 2.1866660156260284e-12,\n",
       " 0.18861802655165177,\n",
       " 3.863526267808316e-06,\n",
       " 0.06994791463004928,\n",
       " 0.044244714431697654,\n",
       " 0.05879563883988476,\n",
       " 0.021417995972517194,\n",
       " 0.13499549511170417,\n",
       " 0.002534812445949696,\n",
       " 0.00025833595264947417,\n",
       " 0.009847625563543584,\n",
       " 0.00425561919232796,\n",
       " 0.0006008188615815263,\n",
       " 0.28332856621498,\n",
       " 2.5341079892672287e-14,\n",
       " 1.7059171654954306e-05,\n",
       " 0.00023908445805391766,\n",
       " 0.14394461489069413,\n",
       " 0.0006992264910274159,\n",
       " 0.02193135351786295,\n",
       " 0.006152568758855646,\n",
       " 0.02840060430907416,\n",
       " 0.1076187796353141,\n",
       " 0.005946798081455296,\n",
       " 0.05176131204456163,\n",
       " 0.17169553923610953,\n",
       " 0.12899140598150174,\n",
       " 0.3646989464895853,\n",
       " 9.275420187247799e-08,\n",
       " 4.0041044685661046e-15,\n",
       " 0.191810284808443,\n",
       " 0.22796140860013286,\n",
       " 0.5479886122705806,\n",
       " 0.6182047470348538,\n",
       " 0.24887297611005793,\n",
       " 0.1833025194461845,\n",
       " 0.12790258131080176,\n",
       " 0.17338231797526363,\n",
       " 0.004475147951606826,\n",
       " 0.17120426814340683,\n",
       " 0.04991913546844569,\n",
       " 0.23666703529316727,\n",
       " 0.02087076789053335,\n",
       " 0.0020816296242807445,\n",
       " 0.0008706982839566165,\n",
       " 0.407150555630208,\n",
       " 0.37228631274443597,\n",
       " 0.015623751089063822,\n",
       " 1.038968388131212e-05,\n",
       " 0.10341983455349876,\n",
       " 0.46378762297317677,\n",
       " 0.16110086217034109,\n",
       " 0.002111741650667832,\n",
       " 0.14994530722628996,\n",
       " 0.04914511923242424,\n",
       " 0.0547995126994176,\n",
       " 0.13799850682646073,\n",
       " 0.1137013081702312,\n",
       " 0.00012831500215880926,\n",
       " 0.00010720127685542306,\n",
       " 0.07542437698784377,\n",
       " 0.0021696342434816785,\n",
       " 0.197780850479383,\n",
       " 0.02774355857951749,\n",
       " 0.5541505352474249,\n",
       " 0.0030863823459904446,\n",
       " 0.08993711853940198,\n",
       " 0.01460792221871616,\n",
       " 0.3482999206378994,\n",
       " 0.0896697308540443,\n",
       " 0.431523763553826,\n",
       " 0.007022164279675037,\n",
       " 0.14625272221038746,\n",
       " 0.05783209407117626,\n",
       " 0.052741691766276404,\n",
       " 0.3410692129631697,\n",
       " 0.00017361464472352933,\n",
       " 0.0041259440379804715,\n",
       " 4.551069857749597e-07,\n",
       " 0.23561726613224895,\n",
       " 0.10335947589699061,\n",
       " 0.057164529060916895,\n",
       " 0.12355297069002914,\n",
       " 6.930944289536739e-08,\n",
       " 0.11434470144698829,\n",
       " 0.02884509829265663,\n",
       " 0.4862258331561883,\n",
       " 0.052462447867210035,\n",
       " 0.031176845776267788,\n",
       " 0.001145993603952117,\n",
       " 0.21027925436028067,\n",
       " 0.05372401711221564,\n",
       " 0.23168409930624706,\n",
       " 2.883764672857761e-05,\n",
       " 0.05527195695167596,\n",
       " 2.4135608588159732e-20,\n",
       " 0.06422565994273216,\n",
       " 0.04466188320278445,\n",
       " 0.29144417389194255,\n",
       " 0.0023910606163097614,\n",
       " 0.0006351448284037431,\n",
       " 0.0070124281082203695,\n",
       " 8.569956321760608e-09,\n",
       " 0.03424922564075675,\n",
       " 0.5851340744133318,\n",
       " 5.9120291231639326e-05,\n",
       " 0.0012765988242136707,\n",
       " 0.20509722299673644,\n",
       " 0.4621658282433966,\n",
       " 0.014407304737350296,\n",
       " 0.0047399133531672525,\n",
       " 0.05841197673660415,\n",
       " 0.013826126417954812,\n",
       " 0.005037719551463399,\n",
       " 0.18641898263327883,\n",
       " 0.013631459115086056,\n",
       " 0.0009201281022034671,\n",
       " 0.06857977523611421,\n",
       " 0.8459037806890966,\n",
       " 0.20239262044846112,\n",
       " 0.456114206774333,\n",
       " 0.008947269621473335,\n",
       " 0.004709971553774687,\n",
       " 0.03836383834453298,\n",
       " 0.22720964959409154,\n",
       " 0.030101426695425197,\n",
       " 9.887109361902126e-05,\n",
       " 0.026835112734122868,\n",
       " 0.01641545533610588,\n",
       " 0.2608619708981535,\n",
       " 0.03026258771689682,\n",
       " 1.254336454293309e-28,\n",
       " 4.9930271741630425e-09,\n",
       " 0.0021629716385807643,\n",
       " 0.0001924515216005235,\n",
       " 0.03691272584752523,\n",
       " 0.05162858495060393,\n",
       " 3.54531174333797e-09,\n",
       " 6.72911628193174e-10,\n",
       " 3.0163037951498783e-15,\n",
       " 0.0222150724240749,\n",
       " 0.38510069455276913,\n",
       " 2.6057414631469505e-06,\n",
       " 0.09590605824120943,\n",
       " 2.101908125500372e-20,\n",
       " 0.5464460869029991,\n",
       " 0.0612572060593511,\n",
       " 0.04356988277148091,\n",
       " 0.0012147905345338936,\n",
       " 0.0010628141571038892,\n",
       " 0.03367490531026725,\n",
       " 0.7438543455496998,\n",
       " 0.006616879086806544,\n",
       " 0.1357398788954205,\n",
       " 0.19612574637013688,\n",
       " 0.13718865588191168,\n",
       " 8.169501769593201e-05,\n",
       " 1.1316988609788433e-06,\n",
       " 0.4369248774898698,\n",
       " 0.24848026997583617,\n",
       " 0.016778170632984864,\n",
       " 0.013577262146140051,\n",
       " 0.050672739218564085,\n",
       " 0.5601237648980146,\n",
       " 0.0004336122276215173,\n",
       " 0.0069348497203991786,\n",
       " 7.107769561063518e-06,\n",
       " 0.00014639458299389884,\n",
       " 0.0037838704782339,\n",
       " 0.07481551241259386,\n",
       " 0.26830998547606527,\n",
       " 1.7878841390205937e-11,\n",
       " 0.08884899628208423,\n",
       " 5.137224273872534e-05,\n",
       " 0.2549663351035019,\n",
       " 0.00023521406955361162,\n",
       " 6.022417812693775e-20,\n",
       " 0.062240683028724,\n",
       " 0.4403746881498748,\n",
       " 0.014793705866268249,\n",
       " 0.037585369533674674,\n",
       " 0.33717961521789375,\n",
       " 0.016757790558515555,\n",
       " 0.20063626940205204,\n",
       " 0.0002964296269542445,\n",
       " 0.01984176831151064,\n",
       " 0.10310156539133157,\n",
       " 0.2299706943871132,\n",
       " 0.009248295565779769,\n",
       " 0.12079437012786262,\n",
       " 0.02117178136624541,\n",
       " 0.2682597358058972,\n",
       " 0.023607517300523573,\n",
       " 2.9365549465397014e-05,\n",
       " 0.025951179366433094,\n",
       " 1.4718752144435511e-24,\n",
       " 0.0007201405982647461,\n",
       " 0.6489440805489451,\n",
       " 0.0003709657278864812,\n",
       " 0.007834732872243105,\n",
       " 0.006905543983390727,\n",
       " 0.01928900228871847,\n",
       " 0.05056184568654864,\n",
       " 3.964385479066069e-11,\n",
       " 7.801483116515749e-19,\n",
       " 0.15345379229654713,\n",
       " 0.15296956889876587,\n",
       " 0.00019696367731372958,\n",
       " 0.005204328550012413,\n",
       " 0.005125456181791126,\n",
       " 0.02650403590508151,\n",
       " 0.19368552981929926,\n",
       " 0.06499394324224905,\n",
       " 0.05800954569063859,\n",
       " 9.618751174198086e-05,\n",
       " 0.160237675871694,\n",
       " 0.3439936513181186,\n",
       " 0.1307939652269526,\n",
       " 0.12660407947797778,\n",
       " 0.5132686105955679,\n",
       " 0.0993250255523996,\n",
       " 0.0015304781201821544,\n",
       " 0.056844847176397054,\n",
       " 0.12773906781090458,\n",
       " 5.965874236949762e-17,\n",
       " 0.010748759502899078,\n",
       " 0.3134121930390203,\n",
       " 0.0789350102840912,\n",
       " 4.128800196873955e-05,\n",
       " 0.009380956470831396,\n",
       " 0.11059812719609306,\n",
       " 0.004770425537385483,\n",
       " 2.3929830643748106e-06,\n",
       " 0.007613471649856233,\n",
       " 0.03648424638561078,\n",
       " 0.03068160210660053,\n",
       " 0.06506496426842051,\n",
       " 0.006697921045940538,\n",
       " 0.03212753689588572,\n",
       " 0.1514692788237086,\n",
       " 0.00523250682884977,\n",
       " 0.07511793239658192,\n",
       " 2.7374752706549482e-06,\n",
       " 1.1473114856097815e-05,\n",
       " 0.16408730608342872,\n",
       " 0.1908651834699128,\n",
       " 0.5270018546931762,\n",
       " 1.4986688730495256e-08,\n",
       " 0.1381776503697558,\n",
       " 3.1429599979362706e-17,\n",
       " 0.15797776197189897,\n",
       " 0.0034920552037701804,\n",
       " 0.2870110561095977,\n",
       " 7.825000634295541e-05,\n",
       " 0.4392430014873197,\n",
       " 0.0066978657430685875,\n",
       " 0.11381855160457885,\n",
       " 0.23777097702516042,\n",
       " 0.00033738440290273335,\n",
       " 0.007740773421268,\n",
       " 0.31031874223866507,\n",
       " 0.00035366877629805515,\n",
       " 0.0005643782613868665,\n",
       " 4.739942363958411e-06,\n",
       " 0.004627098343102976,\n",
       " 8.065570895559929e-07,\n",
       " 0.030817528408526442,\n",
       " 0.04186389110352515,\n",
       " 0.0990651430396943,\n",
       " 0.2342283766201362,\n",
       " 0.5262286104816682,\n",
       " 0.2636699984175378,\n",
       " 0.07869814221266956,\n",
       " 3.039628214046092e-05,\n",
       " 0.034006321387224765,\n",
       " 0.07250177158014294,\n",
       " 0.01434338339941229,\n",
       " 0.003072597638512641,\n",
       " 0.033375197719367956,\n",
       " 0.07529339662898248,\n",
       " 0.11377466247039776,\n",
       " 4.403608364206041e-06,\n",
       " 0.0004900128697807217,\n",
       " 0.005956405184736294,\n",
       " 0.18942097983547015,\n",
       " 0.4347897162732546,\n",
       " 0.003472926272707,\n",
       " 0.06798357053467861,\n",
       " 0.12490692839158013,\n",
       " 0.05946082893849172,\n",
       " 0.18044541882032678,\n",
       " 0.0015555026208921294,\n",
       " 2.5354140927851505e-09,\n",
       " ...]"
      ]
     },
     "execution_count": 90,
     "metadata": {},
     "output_type": "execute_result"
    }
   ],
   "source": [
    "list_geobleu_val"
   ]
  },
  {
   "cell_type": "code",
   "execution_count": 94,
   "metadata": {},
   "outputs": [],
   "source": [
    "test_case = 20001"
   ]
  },
  {
   "cell_type": "code",
   "execution_count": 95,
   "metadata": {},
   "outputs": [
    {
     "data": {
      "application/vnd.plotly.v1+json": {
       "config": {
        "plotlyServerURL": "https://plot.ly"
       },
       "data": [
        {
         "hovertemplate": "User ID=20001<br>time=%{x}<br>Time=%{y}<extra></extra>",
         "legendgroup": "20001",
         "line": {
          "color": "#636efa",
          "dash": "solid"
         },
         "marker": {
          "symbol": "circle"
         },
         "mode": "lines+markers",
         "name": "20001",
         "orientation": "v",
         "showlegend": true,
         "type": "scatter",
         "x": [
          19,
          20,
          23,
          24,
          25,
          26,
          27,
          28,
          30,
          31,
          32,
          33,
          34,
          38,
          39,
          66,
          68,
          69,
          70,
          71,
          72,
          73,
          74,
          75,
          76,
          77,
          78,
          79,
          87,
          111,
          112,
          132,
          135,
          136,
          137,
          159,
          160,
          176,
          178,
          179,
          180,
          181,
          207,
          208,
          217,
          224,
          225,
          226,
          227,
          228,
          229,
          255,
          256,
          276,
          277,
          283,
          284,
          305,
          306,
          307,
          308,
          312,
          313,
          315,
          316,
          317,
          318,
          319,
          326,
          327,
          351,
          352,
          353,
          354,
          355,
          356,
          358,
          359,
          360,
          361,
          362,
          363,
          364,
          365,
          373,
          374,
          406,
          407,
          408,
          409,
          410,
          411,
          413,
          414,
          415,
          416,
          417,
          418,
          421,
          424,
          425,
          447,
          448,
          450,
          466,
          469,
          495,
          496,
          502,
          505,
          508,
          509,
          510,
          513,
          514,
          515,
          516,
          526,
          543,
          544,
          547,
          559,
          560,
          562,
          563,
          564,
          579,
          591,
          592,
          594,
          605,
          606,
          607,
          610,
          611,
          612,
          613,
          644,
          645,
          646,
          648,
          649,
          650,
          651,
          652,
          653,
          655,
          656,
          659,
          660,
          684,
          694,
          695,
          696,
          697,
          698,
          699,
          700,
          701,
          702,
          705,
          706,
          708,
          709,
          752,
          754,
          755,
          757,
          760,
          761,
          783,
          784,
          800,
          801,
          802,
          804,
          805,
          806,
          807,
          808,
          831,
          832,
          841,
          842,
          850,
          852,
          853,
          854,
          861,
          864,
          879,
          880,
          885,
          900,
          901,
          927,
          928,
          929,
          943,
          947,
          948,
          951,
          952,
          953,
          978,
          979,
          980,
          981,
          984,
          985,
          986,
          987,
          988,
          989,
          990,
          991,
          994,
          995,
          996,
          1027,
          1028,
          1029,
          1030,
          1031,
          1032,
          1033,
          1034,
          1035,
          1036,
          1037,
          1038,
          1039,
          1040,
          1071,
          1072,
          1087,
          1088,
          1090,
          1092,
          1093,
          1119,
          1120,
          1126,
          1138,
          1140,
          1141,
          1167,
          1168,
          1177,
          1186,
          1187,
          1188,
          1189,
          1190,
          1215,
          1216,
          1221,
          1236,
          1237,
          1263,
          1264,
          1279,
          1280,
          1281,
          1282,
          1285,
          1286,
          1317,
          1318,
          1319,
          1320,
          1321,
          1322,
          1323,
          1324,
          1325,
          1326,
          1328,
          1329,
          1330,
          1331,
          1332,
          1338,
          1365,
          1366,
          1367,
          1368,
          1371,
          1372,
          1373,
          1374,
          1375,
          1376,
          1379,
          1380,
          1412,
          1413,
          1415,
          1416,
          1417,
          1422,
          1423,
          1426,
          1455,
          1456,
          1474,
          1475,
          1476,
          1485,
          1503,
          1504,
          1512,
          1514,
          1515,
          1516,
          1517,
          1522,
          1523,
          1524,
          1526,
          1528,
          1529,
          1551,
          1552,
          1560,
          1568,
          1569,
          1570,
          1571,
          1572,
          1573,
          1599,
          1600,
          1614,
          1615,
          1616,
          1618,
          1619,
          1620,
          1621,
          1623,
          1625,
          1647,
          1648,
          1649,
          1650,
          1651,
          1652,
          1653,
          1654,
          1655,
          1656,
          1658,
          1659,
          1660,
          1662,
          1663,
          1664,
          1666,
          1667,
          1668,
          1676,
          1677,
          1678,
          1679,
          1680,
          1682,
          1683,
          1684,
          1686,
          1688,
          1689,
          1690,
          1691,
          1692,
          1693,
          1694,
          1695,
          1701,
          1702,
          1703,
          1704,
          1705,
          1706,
          1707,
          1708,
          1709,
          1710,
          1711,
          1712,
          1713,
          1714,
          1715,
          1717,
          1718,
          1719,
          1720,
          1721,
          1722,
          1723,
          1724,
          1725,
          1726,
          1727,
          1728,
          1729,
          1730,
          1731,
          1732,
          1733,
          1734,
          1735,
          1736,
          1738,
          1739,
          1740,
          1741,
          1743,
          1744,
          1745,
          1749,
          1750,
          1755,
          1756,
          1758,
          1760,
          1761,
          1762,
          1763,
          1764,
          1767,
          1768,
          1769,
          1770,
          1771,
          1772,
          1773,
          1774,
          1775,
          1776,
          1778,
          1779,
          1780,
          1781,
          1783,
          1784,
          1785,
          1786,
          1787,
          1788,
          1790,
          1791,
          1792,
          1793,
          1794,
          1795,
          1796,
          1797,
          1798,
          1799,
          1800,
          1801,
          1803,
          1804,
          1805,
          1806,
          1807,
          1808,
          1809,
          1810,
          1811,
          1812,
          1813,
          1814,
          1815,
          1816,
          1817,
          1818,
          1819,
          1820,
          1828,
          1835,
          1836,
          1837,
          1838,
          1839,
          1840,
          1841,
          1842,
          1843,
          1845,
          1848,
          1849,
          1850,
          1851,
          1852,
          1853,
          1854,
          1855,
          1856,
          1857,
          1858,
          1859,
          1862,
          1863,
          1887,
          1888,
          1904,
          1906,
          1908,
          1909,
          1910,
          1935,
          1936,
          1945,
          1949,
          1950,
          1951,
          1954,
          1956,
          1957,
          1958,
          1990,
          1991,
          2001,
          2002,
          2003,
          2005,
          2006,
          2010,
          2012,
          2020,
          2022,
          2023,
          2024,
          2034,
          2039,
          2040,
          2041,
          2042,
          2046,
          2047,
          2048,
          2049,
          2050,
          2052,
          2053,
          2054,
          2055,
          2079,
          2080,
          2088,
          2100,
          2102,
          2127,
          2128,
          2141,
          2142,
          2143,
          2144,
          2154,
          2175,
          2176,
          2177,
          2194,
          2198,
          2223,
          2224,
          2226,
          2244,
          2246,
          2271,
          2272,
          2292,
          2293,
          2294,
          2295,
          2324,
          2325,
          2326,
          2332,
          2333,
          2336,
          2337,
          2340,
          2341,
          2342,
          2369,
          2370,
          2371,
          2372,
          2384,
          2385,
          2386,
          2387,
          2423,
          2425,
          2427,
          2430,
          2431,
          2463,
          2464,
          2466,
          2467,
          2469,
          2471,
          2477,
          2478,
          2479,
          2482,
          2483,
          2485,
          2511,
          2512,
          2516,
          2517,
          2524,
          2532,
          2534,
          2559,
          2560,
          2569,
          2578,
          2579,
          2580,
          2583,
          2586,
          2587,
          2607,
          2608,
          2622,
          2623,
          2624,
          2626,
          2628,
          2629,
          2630,
          2658,
          2661,
          2662,
          2665,
          2666,
          2667,
          2669,
          2670,
          2671,
          2672,
          2673,
          2674,
          2675,
          2676,
          2678,
          2679,
          2680,
          2717,
          2718,
          2719,
          2721,
          2722,
          2723,
          2726,
          2727,
          2736,
          2751,
          2752,
          2761,
          2772,
          2775,
          2776,
          2787,
          2800,
          2809,
          2820,
          2821,
          2825,
          2847,
          2848,
          2868,
          2870,
          2871,
          2895,
          2896,
          2904,
          2916,
          2917,
          2918,
          2943,
          2944,
          2959,
          2960,
          2961,
          2962,
          2963,
          2964,
          2971,
          2993,
          2994,
          2995,
          2996,
          2997,
          2998,
          3001,
          3002,
          3004,
          3005,
          3006,
          3009,
          3010,
          3013,
          3014,
          3045,
          3046,
          3048,
          3049,
          3050,
          3051,
          3060,
          3061,
          3085,
          3087,
          3088,
          3100,
          3106,
          3108,
          3109,
          3110,
          3116,
          3183,
          3184,
          3185,
          3200,
          3202,
          3204,
          3205,
          3231,
          3232,
          3241,
          3252,
          3253,
          3255,
          3256,
          3279,
          3280,
          3289,
          3293,
          3294,
          3295,
          3298,
          3299,
          3300,
          3301,
          3302,
          3310,
          3311,
          3331,
          3333,
          3334,
          3335,
          3336,
          3337,
          3338,
          3339,
          3342,
          3347,
          3348,
          3377,
          3378,
          3379,
          3380,
          3381,
          3382,
          3383,
          3395,
          3399,
          3400,
          3423,
          3424,
          3442,
          3445,
          3447,
          3471,
          3472,
          3477,
          3478,
          3479,
          3480,
          3490,
          3491,
          3492,
          3493,
          3494,
          3495,
          3519,
          3520,
          3529,
          3540,
          3541,
          3542,
          3567,
          3568,
          3569,
          3588,
          3589
         ],
         "xaxis": "x",
         "y": [
          66,
          79,
          81,
          84,
          86,
          75,
          72,
          71,
          73,
          75,
          71,
          66,
          67,
          74,
          69,
          66,
          61,
          58,
          59,
          58,
          59,
          59,
          61,
          62,
          70,
          69,
          69,
          66,
          66,
          68,
          77,
          78,
          66,
          69,
          66,
          68,
          79,
          79,
          78,
          78,
          73,
          66,
          68,
          78,
          79,
          79,
          72,
          73,
          79,
          79,
          66,
          69,
          79,
          78,
          79,
          78,
          66,
          68,
          68,
          68,
          67,
          69,
          69,
          70,
          71,
          77,
          76,
          66,
          69,
          66,
          74,
          85,
          85,
          84,
          74,
          66,
          68,
          72,
          72,
          72,
          76,
          74,
          74,
          66,
          66,
          68,
          71,
          69,
          67,
          71,
          69,
          57,
          50,
          50,
          50,
          54,
          66,
          70,
          66,
          66,
          66,
          75,
          78,
          79,
          78,
          78,
          77,
          78,
          82,
          79,
          71,
          75,
          79,
          79,
          78,
          66,
          66,
          66,
          69,
          78,
          82,
          82,
          79,
          74,
          66,
          66,
          66,
          67,
          77,
          79,
          82,
          79,
          82,
          78,
          78,
          75,
          66,
          68,
          66,
          68,
          80,
          81,
          76,
          74,
          69,
          66,
          46,
          76,
          73,
          68,
          67,
          69,
          73,
          71,
          66,
          66,
          71,
          60,
          60,
          66,
          62,
          52,
          52,
          62,
          78,
          79,
          78,
          79,
          78,
          66,
          68,
          78,
          79,
          77,
          79,
          79,
          68,
          66,
          66,
          66,
          67,
          78,
          79,
          79,
          78,
          71,
          68,
          66,
          66,
          66,
          68,
          79,
          78,
          77,
          66,
          71,
          79,
          79,
          78,
          78,
          78,
          78,
          71,
          66,
          66,
          67,
          66,
          66,
          68,
          69,
          73,
          73,
          73,
          69,
          68,
          69,
          77,
          71,
          66,
          71,
          77,
          97,
          97,
          97,
          97,
          97,
          97,
          97,
          88,
          79,
          77,
          74,
          68,
          67,
          77,
          72,
          79,
          79,
          78,
          75,
          74,
          78,
          79,
          78,
          68,
          66,
          66,
          78,
          78,
          78,
          78,
          76,
          69,
          66,
          67,
          78,
          78,
          78,
          66,
          66,
          78,
          74,
          79,
          79,
          79,
          72,
          66,
          66,
          50,
          52,
          59,
          58,
          60,
          69,
          69,
          67,
          78,
          78,
          73,
          66,
          69,
          66,
          66,
          66,
          69,
          66,
          66,
          69,
          69,
          69,
          66,
          68,
          77,
          79,
          66,
          73,
          73,
          77,
          71,
          66,
          68,
          75,
          75,
          68,
          78,
          79,
          68,
          68,
          66,
          69,
          78,
          80,
          78,
          79,
          78,
          78,
          78,
          78,
          78,
          66,
          67,
          68,
          76,
          79,
          78,
          78,
          79,
          78,
          78,
          76,
          66,
          69,
          78,
          79,
          74,
          79,
          78,
          79,
          71,
          77,
          76,
          72,
          68,
          79,
          79,
          79,
          78,
          79,
          79,
          79,
          79,
          79,
          79,
          78,
          79,
          78,
          78,
          79,
          78,
          74,
          69,
          66,
          66,
          66,
          66,
          66,
          67,
          66,
          66,
          66,
          66,
          66,
          66,
          66,
          66,
          66,
          66,
          66,
          90,
          90,
          49,
          49,
          49,
          48,
          48,
          49,
          56,
          63,
          78,
          74,
          74,
          66,
          66,
          66,
          68,
          67,
          67,
          67,
          66,
          66,
          67,
          66,
          66,
          67,
          66,
          67,
          67,
          67,
          66,
          67,
          66,
          67,
          67,
          66,
          67,
          66,
          67,
          78,
          78,
          78,
          80,
          78,
          78,
          79,
          78,
          78,
          79,
          78,
          79,
          79,
          72,
          66,
          66,
          74,
          74,
          66,
          67,
          66,
          66,
          66,
          67,
          66,
          66,
          67,
          67,
          67,
          66,
          66,
          66,
          67,
          66,
          67,
          67,
          66,
          66,
          67,
          76,
          73,
          73,
          74,
          74,
          73,
          75,
          66,
          65,
          66,
          68,
          68,
          69,
          72,
          68,
          66,
          66,
          67,
          66,
          66,
          66,
          66,
          66,
          67,
          67,
          66,
          67,
          66,
          67,
          77,
          78,
          79,
          78,
          78,
          79,
          79,
          79,
          78,
          78,
          79,
          78,
          79,
          78,
          79,
          78,
          78,
          79,
          68,
          68,
          68,
          79,
          79,
          78,
          78,
          69,
          66,
          70,
          79,
          79,
          78,
          79,
          79,
          79,
          68,
          66,
          66,
          52,
          66,
          66,
          71,
          78,
          80,
          80,
          88,
          82,
          82,
          78,
          74,
          66,
          67,
          66,
          69,
          73,
          86,
          86,
          85,
          80,
          74,
          73,
          72,
          66,
          66,
          66,
          68,
          78,
          79,
          78,
          66,
          77,
          78,
          79,
          79,
          78,
          79,
          66,
          67,
          78,
          79,
          78,
          66,
          74,
          79,
          78,
          79,
          66,
          70,
          78,
          79,
          78,
          78,
          66,
          66,
          66,
          66,
          68,
          66,
          79,
          78,
          79,
          79,
          66,
          71,
          67,
          93,
          21,
          30,
          95,
          73,
          66,
          70,
          68,
          76,
          74,
          72,
          78,
          79,
          78,
          79,
          79,
          79,
          79,
          77,
          76,
          78,
          78,
          66,
          68,
          77,
          79,
          79,
          79,
          78,
          66,
          71,
          79,
          78,
          68,
          68,
          66,
          76,
          68,
          66,
          68,
          78,
          78,
          73,
          79,
          78,
          77,
          66,
          66,
          66,
          66,
          66,
          69,
          80,
          85,
          76,
          74,
          66,
          66,
          66,
          66,
          71,
          78,
          78,
          68,
          66,
          66,
          66,
          66,
          66,
          66,
          79,
          73,
          66,
          66,
          68,
          78,
          79,
          78,
          75,
          67,
          66,
          79,
          79,
          78,
          66,
          66,
          67,
          78,
          78,
          68,
          66,
          67,
          78,
          79,
          79,
          75,
          66,
          72,
          78,
          79,
          75,
          78,
          78,
          79,
          80,
          66,
          66,
          66,
          68,
          68,
          74,
          70,
          66,
          50,
          50,
          60,
          66,
          68,
          76,
          76,
          66,
          75,
          78,
          78,
          74,
          68,
          66,
          67,
          70,
          66,
          68,
          77,
          79,
          79,
          79,
          68,
          66,
          66,
          68,
          78,
          79,
          78,
          79,
          77,
          66,
          74,
          78,
          79,
          79,
          72,
          66,
          66,
          68,
          78,
          79,
          79,
          78,
          79,
          77,
          71,
          67,
          67,
          68,
          66,
          66,
          67,
          69,
          73,
          72,
          69,
          66,
          68,
          70,
          74,
          78,
          75,
          67,
          66,
          69,
          66,
          68,
          69,
          73,
          72,
          74,
          71,
          68,
          78,
          78,
          66,
          67,
          68,
          78,
          79,
          77,
          79,
          74,
          79,
          78,
          66,
          66,
          68,
          66,
          68,
          78,
          79,
          78,
          78,
          79,
          75,
          79,
          79,
          78,
          66
         ],
         "yaxis": "y"
        }
       ],
       "layout": {
        "legend": {
         "title": {
          "text": "User ID"
         },
         "tracegroupgap": 0
        },
        "template": {
         "data": {
          "bar": [
           {
            "error_x": {
             "color": "#2a3f5f"
            },
            "error_y": {
             "color": "#2a3f5f"
            },
            "marker": {
             "line": {
              "color": "#E5ECF6",
              "width": 0.5
             },
             "pattern": {
              "fillmode": "overlay",
              "size": 10,
              "solidity": 0.2
             }
            },
            "type": "bar"
           }
          ],
          "barpolar": [
           {
            "marker": {
             "line": {
              "color": "#E5ECF6",
              "width": 0.5
             },
             "pattern": {
              "fillmode": "overlay",
              "size": 10,
              "solidity": 0.2
             }
            },
            "type": "barpolar"
           }
          ],
          "carpet": [
           {
            "aaxis": {
             "endlinecolor": "#2a3f5f",
             "gridcolor": "white",
             "linecolor": "white",
             "minorgridcolor": "white",
             "startlinecolor": "#2a3f5f"
            },
            "baxis": {
             "endlinecolor": "#2a3f5f",
             "gridcolor": "white",
             "linecolor": "white",
             "minorgridcolor": "white",
             "startlinecolor": "#2a3f5f"
            },
            "type": "carpet"
           }
          ],
          "choropleth": [
           {
            "colorbar": {
             "outlinewidth": 0,
             "ticks": ""
            },
            "type": "choropleth"
           }
          ],
          "contour": [
           {
            "colorbar": {
             "outlinewidth": 0,
             "ticks": ""
            },
            "colorscale": [
             [
              0,
              "#0d0887"
             ],
             [
              0.1111111111111111,
              "#46039f"
             ],
             [
              0.2222222222222222,
              "#7201a8"
             ],
             [
              0.3333333333333333,
              "#9c179e"
             ],
             [
              0.4444444444444444,
              "#bd3786"
             ],
             [
              0.5555555555555556,
              "#d8576b"
             ],
             [
              0.6666666666666666,
              "#ed7953"
             ],
             [
              0.7777777777777778,
              "#fb9f3a"
             ],
             [
              0.8888888888888888,
              "#fdca26"
             ],
             [
              1,
              "#f0f921"
             ]
            ],
            "type": "contour"
           }
          ],
          "contourcarpet": [
           {
            "colorbar": {
             "outlinewidth": 0,
             "ticks": ""
            },
            "type": "contourcarpet"
           }
          ],
          "heatmap": [
           {
            "colorbar": {
             "outlinewidth": 0,
             "ticks": ""
            },
            "colorscale": [
             [
              0,
              "#0d0887"
             ],
             [
              0.1111111111111111,
              "#46039f"
             ],
             [
              0.2222222222222222,
              "#7201a8"
             ],
             [
              0.3333333333333333,
              "#9c179e"
             ],
             [
              0.4444444444444444,
              "#bd3786"
             ],
             [
              0.5555555555555556,
              "#d8576b"
             ],
             [
              0.6666666666666666,
              "#ed7953"
             ],
             [
              0.7777777777777778,
              "#fb9f3a"
             ],
             [
              0.8888888888888888,
              "#fdca26"
             ],
             [
              1,
              "#f0f921"
             ]
            ],
            "type": "heatmap"
           }
          ],
          "heatmapgl": [
           {
            "colorbar": {
             "outlinewidth": 0,
             "ticks": ""
            },
            "colorscale": [
             [
              0,
              "#0d0887"
             ],
             [
              0.1111111111111111,
              "#46039f"
             ],
             [
              0.2222222222222222,
              "#7201a8"
             ],
             [
              0.3333333333333333,
              "#9c179e"
             ],
             [
              0.4444444444444444,
              "#bd3786"
             ],
             [
              0.5555555555555556,
              "#d8576b"
             ],
             [
              0.6666666666666666,
              "#ed7953"
             ],
             [
              0.7777777777777778,
              "#fb9f3a"
             ],
             [
              0.8888888888888888,
              "#fdca26"
             ],
             [
              1,
              "#f0f921"
             ]
            ],
            "type": "heatmapgl"
           }
          ],
          "histogram": [
           {
            "marker": {
             "pattern": {
              "fillmode": "overlay",
              "size": 10,
              "solidity": 0.2
             }
            },
            "type": "histogram"
           }
          ],
          "histogram2d": [
           {
            "colorbar": {
             "outlinewidth": 0,
             "ticks": ""
            },
            "colorscale": [
             [
              0,
              "#0d0887"
             ],
             [
              0.1111111111111111,
              "#46039f"
             ],
             [
              0.2222222222222222,
              "#7201a8"
             ],
             [
              0.3333333333333333,
              "#9c179e"
             ],
             [
              0.4444444444444444,
              "#bd3786"
             ],
             [
              0.5555555555555556,
              "#d8576b"
             ],
             [
              0.6666666666666666,
              "#ed7953"
             ],
             [
              0.7777777777777778,
              "#fb9f3a"
             ],
             [
              0.8888888888888888,
              "#fdca26"
             ],
             [
              1,
              "#f0f921"
             ]
            ],
            "type": "histogram2d"
           }
          ],
          "histogram2dcontour": [
           {
            "colorbar": {
             "outlinewidth": 0,
             "ticks": ""
            },
            "colorscale": [
             [
              0,
              "#0d0887"
             ],
             [
              0.1111111111111111,
              "#46039f"
             ],
             [
              0.2222222222222222,
              "#7201a8"
             ],
             [
              0.3333333333333333,
              "#9c179e"
             ],
             [
              0.4444444444444444,
              "#bd3786"
             ],
             [
              0.5555555555555556,
              "#d8576b"
             ],
             [
              0.6666666666666666,
              "#ed7953"
             ],
             [
              0.7777777777777778,
              "#fb9f3a"
             ],
             [
              0.8888888888888888,
              "#fdca26"
             ],
             [
              1,
              "#f0f921"
             ]
            ],
            "type": "histogram2dcontour"
           }
          ],
          "mesh3d": [
           {
            "colorbar": {
             "outlinewidth": 0,
             "ticks": ""
            },
            "type": "mesh3d"
           }
          ],
          "parcoords": [
           {
            "line": {
             "colorbar": {
              "outlinewidth": 0,
              "ticks": ""
             }
            },
            "type": "parcoords"
           }
          ],
          "pie": [
           {
            "automargin": true,
            "type": "pie"
           }
          ],
          "scatter": [
           {
            "fillpattern": {
             "fillmode": "overlay",
             "size": 10,
             "solidity": 0.2
            },
            "type": "scatter"
           }
          ],
          "scatter3d": [
           {
            "line": {
             "colorbar": {
              "outlinewidth": 0,
              "ticks": ""
             }
            },
            "marker": {
             "colorbar": {
              "outlinewidth": 0,
              "ticks": ""
             }
            },
            "type": "scatter3d"
           }
          ],
          "scattercarpet": [
           {
            "marker": {
             "colorbar": {
              "outlinewidth": 0,
              "ticks": ""
             }
            },
            "type": "scattercarpet"
           }
          ],
          "scattergeo": [
           {
            "marker": {
             "colorbar": {
              "outlinewidth": 0,
              "ticks": ""
             }
            },
            "type": "scattergeo"
           }
          ],
          "scattergl": [
           {
            "marker": {
             "colorbar": {
              "outlinewidth": 0,
              "ticks": ""
             }
            },
            "type": "scattergl"
           }
          ],
          "scattermapbox": [
           {
            "marker": {
             "colorbar": {
              "outlinewidth": 0,
              "ticks": ""
             }
            },
            "type": "scattermapbox"
           }
          ],
          "scatterpolar": [
           {
            "marker": {
             "colorbar": {
              "outlinewidth": 0,
              "ticks": ""
             }
            },
            "type": "scatterpolar"
           }
          ],
          "scatterpolargl": [
           {
            "marker": {
             "colorbar": {
              "outlinewidth": 0,
              "ticks": ""
             }
            },
            "type": "scatterpolargl"
           }
          ],
          "scatterternary": [
           {
            "marker": {
             "colorbar": {
              "outlinewidth": 0,
              "ticks": ""
             }
            },
            "type": "scatterternary"
           }
          ],
          "surface": [
           {
            "colorbar": {
             "outlinewidth": 0,
             "ticks": ""
            },
            "colorscale": [
             [
              0,
              "#0d0887"
             ],
             [
              0.1111111111111111,
              "#46039f"
             ],
             [
              0.2222222222222222,
              "#7201a8"
             ],
             [
              0.3333333333333333,
              "#9c179e"
             ],
             [
              0.4444444444444444,
              "#bd3786"
             ],
             [
              0.5555555555555556,
              "#d8576b"
             ],
             [
              0.6666666666666666,
              "#ed7953"
             ],
             [
              0.7777777777777778,
              "#fb9f3a"
             ],
             [
              0.8888888888888888,
              "#fdca26"
             ],
             [
              1,
              "#f0f921"
             ]
            ],
            "type": "surface"
           }
          ],
          "table": [
           {
            "cells": {
             "fill": {
              "color": "#EBF0F8"
             },
             "line": {
              "color": "white"
             }
            },
            "header": {
             "fill": {
              "color": "#C8D4E3"
             },
             "line": {
              "color": "white"
             }
            },
            "type": "table"
           }
          ]
         },
         "layout": {
          "annotationdefaults": {
           "arrowcolor": "#2a3f5f",
           "arrowhead": 0,
           "arrowwidth": 1
          },
          "autotypenumbers": "strict",
          "coloraxis": {
           "colorbar": {
            "outlinewidth": 0,
            "ticks": ""
           }
          },
          "colorscale": {
           "diverging": [
            [
             0,
             "#8e0152"
            ],
            [
             0.1,
             "#c51b7d"
            ],
            [
             0.2,
             "#de77ae"
            ],
            [
             0.3,
             "#f1b6da"
            ],
            [
             0.4,
             "#fde0ef"
            ],
            [
             0.5,
             "#f7f7f7"
            ],
            [
             0.6,
             "#e6f5d0"
            ],
            [
             0.7,
             "#b8e186"
            ],
            [
             0.8,
             "#7fbc41"
            ],
            [
             0.9,
             "#4d9221"
            ],
            [
             1,
             "#276419"
            ]
           ],
           "sequential": [
            [
             0,
             "#0d0887"
            ],
            [
             0.1111111111111111,
             "#46039f"
            ],
            [
             0.2222222222222222,
             "#7201a8"
            ],
            [
             0.3333333333333333,
             "#9c179e"
            ],
            [
             0.4444444444444444,
             "#bd3786"
            ],
            [
             0.5555555555555556,
             "#d8576b"
            ],
            [
             0.6666666666666666,
             "#ed7953"
            ],
            [
             0.7777777777777778,
             "#fb9f3a"
            ],
            [
             0.8888888888888888,
             "#fdca26"
            ],
            [
             1,
             "#f0f921"
            ]
           ],
           "sequentialminus": [
            [
             0,
             "#0d0887"
            ],
            [
             0.1111111111111111,
             "#46039f"
            ],
            [
             0.2222222222222222,
             "#7201a8"
            ],
            [
             0.3333333333333333,
             "#9c179e"
            ],
            [
             0.4444444444444444,
             "#bd3786"
            ],
            [
             0.5555555555555556,
             "#d8576b"
            ],
            [
             0.6666666666666666,
             "#ed7953"
            ],
            [
             0.7777777777777778,
             "#fb9f3a"
            ],
            [
             0.8888888888888888,
             "#fdca26"
            ],
            [
             1,
             "#f0f921"
            ]
           ]
          },
          "colorway": [
           "#636efa",
           "#EF553B",
           "#00cc96",
           "#ab63fa",
           "#FFA15A",
           "#19d3f3",
           "#FF6692",
           "#B6E880",
           "#FF97FF",
           "#FECB52"
          ],
          "font": {
           "color": "#2a3f5f"
          },
          "geo": {
           "bgcolor": "white",
           "lakecolor": "white",
           "landcolor": "#E5ECF6",
           "showlakes": true,
           "showland": true,
           "subunitcolor": "white"
          },
          "hoverlabel": {
           "align": "left"
          },
          "hovermode": "closest",
          "mapbox": {
           "style": "light"
          },
          "paper_bgcolor": "white",
          "plot_bgcolor": "#E5ECF6",
          "polar": {
           "angularaxis": {
            "gridcolor": "white",
            "linecolor": "white",
            "ticks": ""
           },
           "bgcolor": "#E5ECF6",
           "radialaxis": {
            "gridcolor": "white",
            "linecolor": "white",
            "ticks": ""
           }
          },
          "scene": {
           "xaxis": {
            "backgroundcolor": "#E5ECF6",
            "gridcolor": "white",
            "gridwidth": 2,
            "linecolor": "white",
            "showbackground": true,
            "ticks": "",
            "zerolinecolor": "white"
           },
           "yaxis": {
            "backgroundcolor": "#E5ECF6",
            "gridcolor": "white",
            "gridwidth": 2,
            "linecolor": "white",
            "showbackground": true,
            "ticks": "",
            "zerolinecolor": "white"
           },
           "zaxis": {
            "backgroundcolor": "#E5ECF6",
            "gridcolor": "white",
            "gridwidth": 2,
            "linecolor": "white",
            "showbackground": true,
            "ticks": "",
            "zerolinecolor": "white"
           }
          },
          "shapedefaults": {
           "line": {
            "color": "#2a3f5f"
           }
          },
          "ternary": {
           "aaxis": {
            "gridcolor": "white",
            "linecolor": "white",
            "ticks": ""
           },
           "baxis": {
            "gridcolor": "white",
            "linecolor": "white",
            "ticks": ""
           },
           "bgcolor": "#E5ECF6",
           "caxis": {
            "gridcolor": "white",
            "linecolor": "white",
            "ticks": ""
           }
          },
          "title": {
           "x": 0.05
          },
          "xaxis": {
           "automargin": true,
           "gridcolor": "white",
           "linecolor": "white",
           "ticks": "",
           "title": {
            "standoff": 15
           },
           "zerolinecolor": "white",
           "zerolinewidth": 2
          },
          "yaxis": {
           "automargin": true,
           "gridcolor": "white",
           "linecolor": "white",
           "ticks": "",
           "title": {
            "standoff": 15
           },
           "zerolinecolor": "white",
           "zerolinewidth": 2
          }
         }
        },
        "title": {
         "text": "User X Position Over Time"
        },
        "xaxis": {
         "anchor": "y",
         "domain": [
          0,
          1
         ],
         "title": {
          "text": "time"
         }
        },
        "yaxis": {
         "anchor": "x",
         "domain": [
          0,
          1
         ],
         "range": [
          0,
          200
         ],
         "title": {
          "text": "Time"
         }
        }
       }
      },
      "text/html": [
       "<div>                            <div id=\"df1cf1b0-f60c-491e-bb63-72b8d84b0002\" class=\"plotly-graph-div\" style=\"height:525px; width:100%;\"></div>            <script type=\"text/javascript\">                require([\"plotly\"], function(Plotly) {                    window.PLOTLYENV=window.PLOTLYENV || {};                                    if (document.getElementById(\"df1cf1b0-f60c-491e-bb63-72b8d84b0002\")) {                    Plotly.newPlot(                        \"df1cf1b0-f60c-491e-bb63-72b8d84b0002\",                        [{\"hovertemplate\":\"User ID=20001\\u003cbr\\u003etime=%{x}\\u003cbr\\u003eTime=%{y}\\u003cextra\\u003e\\u003c\\u002fextra\\u003e\",\"legendgroup\":\"20001\",\"line\":{\"color\":\"#636efa\",\"dash\":\"solid\"},\"marker\":{\"symbol\":\"circle\"},\"mode\":\"lines+markers\",\"name\":\"20001\",\"orientation\":\"v\",\"showlegend\":true,\"x\":[19,20,23,24,25,26,27,28,30,31,32,33,34,38,39,66,68,69,70,71,72,73,74,75,76,77,78,79,87,111,112,132,135,136,137,159,160,176,178,179,180,181,207,208,217,224,225,226,227,228,229,255,256,276,277,283,284,305,306,307,308,312,313,315,316,317,318,319,326,327,351,352,353,354,355,356,358,359,360,361,362,363,364,365,373,374,406,407,408,409,410,411,413,414,415,416,417,418,421,424,425,447,448,450,466,469,495,496,502,505,508,509,510,513,514,515,516,526,543,544,547,559,560,562,563,564,579,591,592,594,605,606,607,610,611,612,613,644,645,646,648,649,650,651,652,653,655,656,659,660,684,694,695,696,697,698,699,700,701,702,705,706,708,709,752,754,755,757,760,761,783,784,800,801,802,804,805,806,807,808,831,832,841,842,850,852,853,854,861,864,879,880,885,900,901,927,928,929,943,947,948,951,952,953,978,979,980,981,984,985,986,987,988,989,990,991,994,995,996,1027,1028,1029,1030,1031,1032,1033,1034,1035,1036,1037,1038,1039,1040,1071,1072,1087,1088,1090,1092,1093,1119,1120,1126,1138,1140,1141,1167,1168,1177,1186,1187,1188,1189,1190,1215,1216,1221,1236,1237,1263,1264,1279,1280,1281,1282,1285,1286,1317,1318,1319,1320,1321,1322,1323,1324,1325,1326,1328,1329,1330,1331,1332,1338,1365,1366,1367,1368,1371,1372,1373,1374,1375,1376,1379,1380,1412,1413,1415,1416,1417,1422,1423,1426,1455,1456,1474,1475,1476,1485,1503,1504,1512,1514,1515,1516,1517,1522,1523,1524,1526,1528,1529,1551,1552,1560,1568,1569,1570,1571,1572,1573,1599,1600,1614,1615,1616,1618,1619,1620,1621,1623,1625,1647,1648,1649,1650,1651,1652,1653,1654,1655,1656,1658,1659,1660,1662,1663,1664,1666,1667,1668,1676,1677,1678,1679,1680,1682,1683,1684,1686,1688,1689,1690,1691,1692,1693,1694,1695,1701,1702,1703,1704,1705,1706,1707,1708,1709,1710,1711,1712,1713,1714,1715,1717,1718,1719,1720,1721,1722,1723,1724,1725,1726,1727,1728,1729,1730,1731,1732,1733,1734,1735,1736,1738,1739,1740,1741,1743,1744,1745,1749,1750,1755,1756,1758,1760,1761,1762,1763,1764,1767,1768,1769,1770,1771,1772,1773,1774,1775,1776,1778,1779,1780,1781,1783,1784,1785,1786,1787,1788,1790,1791,1792,1793,1794,1795,1796,1797,1798,1799,1800,1801,1803,1804,1805,1806,1807,1808,1809,1810,1811,1812,1813,1814,1815,1816,1817,1818,1819,1820,1828,1835,1836,1837,1838,1839,1840,1841,1842,1843,1845,1848,1849,1850,1851,1852,1853,1854,1855,1856,1857,1858,1859,1862,1863,1887,1888,1904,1906,1908,1909,1910,1935,1936,1945,1949,1950,1951,1954,1956,1957,1958,1990,1991,2001,2002,2003,2005,2006,2010,2012,2020,2022,2023,2024,2034,2039,2040,2041,2042,2046,2047,2048,2049,2050,2052,2053,2054,2055,2079,2080,2088,2100,2102,2127,2128,2141,2142,2143,2144,2154,2175,2176,2177,2194,2198,2223,2224,2226,2244,2246,2271,2272,2292,2293,2294,2295,2324,2325,2326,2332,2333,2336,2337,2340,2341,2342,2369,2370,2371,2372,2384,2385,2386,2387,2423,2425,2427,2430,2431,2463,2464,2466,2467,2469,2471,2477,2478,2479,2482,2483,2485,2511,2512,2516,2517,2524,2532,2534,2559,2560,2569,2578,2579,2580,2583,2586,2587,2607,2608,2622,2623,2624,2626,2628,2629,2630,2658,2661,2662,2665,2666,2667,2669,2670,2671,2672,2673,2674,2675,2676,2678,2679,2680,2717,2718,2719,2721,2722,2723,2726,2727,2736,2751,2752,2761,2772,2775,2776,2787,2800,2809,2820,2821,2825,2847,2848,2868,2870,2871,2895,2896,2904,2916,2917,2918,2943,2944,2959,2960,2961,2962,2963,2964,2971,2993,2994,2995,2996,2997,2998,3001,3002,3004,3005,3006,3009,3010,3013,3014,3045,3046,3048,3049,3050,3051,3060,3061,3085,3087,3088,3100,3106,3108,3109,3110,3116,3183,3184,3185,3200,3202,3204,3205,3231,3232,3241,3252,3253,3255,3256,3279,3280,3289,3293,3294,3295,3298,3299,3300,3301,3302,3310,3311,3331,3333,3334,3335,3336,3337,3338,3339,3342,3347,3348,3377,3378,3379,3380,3381,3382,3383,3395,3399,3400,3423,3424,3442,3445,3447,3471,3472,3477,3478,3479,3480,3490,3491,3492,3493,3494,3495,3519,3520,3529,3540,3541,3542,3567,3568,3569,3588,3589],\"xaxis\":\"x\",\"y\":[66,79,81,84,86,75,72,71,73,75,71,66,67,74,69,66,61,58,59,58,59,59,61,62,70,69,69,66,66,68,77,78,66,69,66,68,79,79,78,78,73,66,68,78,79,79,72,73,79,79,66,69,79,78,79,78,66,68,68,68,67,69,69,70,71,77,76,66,69,66,74,85,85,84,74,66,68,72,72,72,76,74,74,66,66,68,71,69,67,71,69,57,50,50,50,54,66,70,66,66,66,75,78,79,78,78,77,78,82,79,71,75,79,79,78,66,66,66,69,78,82,82,79,74,66,66,66,67,77,79,82,79,82,78,78,75,66,68,66,68,80,81,76,74,69,66,46,76,73,68,67,69,73,71,66,66,71,60,60,66,62,52,52,62,78,79,78,79,78,66,68,78,79,77,79,79,68,66,66,66,67,78,79,79,78,71,68,66,66,66,68,79,78,77,66,71,79,79,78,78,78,78,71,66,66,67,66,66,68,69,73,73,73,69,68,69,77,71,66,71,77,97,97,97,97,97,97,97,88,79,77,74,68,67,77,72,79,79,78,75,74,78,79,78,68,66,66,78,78,78,78,76,69,66,67,78,78,78,66,66,78,74,79,79,79,72,66,66,50,52,59,58,60,69,69,67,78,78,73,66,69,66,66,66,69,66,66,69,69,69,66,68,77,79,66,73,73,77,71,66,68,75,75,68,78,79,68,68,66,69,78,80,78,79,78,78,78,78,78,66,67,68,76,79,78,78,79,78,78,76,66,69,78,79,74,79,78,79,71,77,76,72,68,79,79,79,78,79,79,79,79,79,79,78,79,78,78,79,78,74,69,66,66,66,66,66,67,66,66,66,66,66,66,66,66,66,66,66,90,90,49,49,49,48,48,49,56,63,78,74,74,66,66,66,68,67,67,67,66,66,67,66,66,67,66,67,67,67,66,67,66,67,67,66,67,66,67,78,78,78,80,78,78,79,78,78,79,78,79,79,72,66,66,74,74,66,67,66,66,66,67,66,66,67,67,67,66,66,66,67,66,67,67,66,66,67,76,73,73,74,74,73,75,66,65,66,68,68,69,72,68,66,66,67,66,66,66,66,66,67,67,66,67,66,67,77,78,79,78,78,79,79,79,78,78,79,78,79,78,79,78,78,79,68,68,68,79,79,78,78,69,66,70,79,79,78,79,79,79,68,66,66,52,66,66,71,78,80,80,88,82,82,78,74,66,67,66,69,73,86,86,85,80,74,73,72,66,66,66,68,78,79,78,66,77,78,79,79,78,79,66,67,78,79,78,66,74,79,78,79,66,70,78,79,78,78,66,66,66,66,68,66,79,78,79,79,66,71,67,93,21,30,95,73,66,70,68,76,74,72,78,79,78,79,79,79,79,77,76,78,78,66,68,77,79,79,79,78,66,71,79,78,68,68,66,76,68,66,68,78,78,73,79,78,77,66,66,66,66,66,69,80,85,76,74,66,66,66,66,71,78,78,68,66,66,66,66,66,66,79,73,66,66,68,78,79,78,75,67,66,79,79,78,66,66,67,78,78,68,66,67,78,79,79,75,66,72,78,79,75,78,78,79,80,66,66,66,68,68,74,70,66,50,50,60,66,68,76,76,66,75,78,78,74,68,66,67,70,66,68,77,79,79,79,68,66,66,68,78,79,78,79,77,66,74,78,79,79,72,66,66,68,78,79,79,78,79,77,71,67,67,68,66,66,67,69,73,72,69,66,68,70,74,78,75,67,66,69,66,68,69,73,72,74,71,68,78,78,66,67,68,78,79,77,79,74,79,78,66,66,68,66,68,78,79,78,78,79,75,79,79,78,66],\"yaxis\":\"y\",\"type\":\"scatter\"}],                        {\"template\":{\"data\":{\"histogram2dcontour\":[{\"type\":\"histogram2dcontour\",\"colorbar\":{\"outlinewidth\":0,\"ticks\":\"\"},\"colorscale\":[[0.0,\"#0d0887\"],[0.1111111111111111,\"#46039f\"],[0.2222222222222222,\"#7201a8\"],[0.3333333333333333,\"#9c179e\"],[0.4444444444444444,\"#bd3786\"],[0.5555555555555556,\"#d8576b\"],[0.6666666666666666,\"#ed7953\"],[0.7777777777777778,\"#fb9f3a\"],[0.8888888888888888,\"#fdca26\"],[1.0,\"#f0f921\"]]}],\"choropleth\":[{\"type\":\"choropleth\",\"colorbar\":{\"outlinewidth\":0,\"ticks\":\"\"}}],\"histogram2d\":[{\"type\":\"histogram2d\",\"colorbar\":{\"outlinewidth\":0,\"ticks\":\"\"},\"colorscale\":[[0.0,\"#0d0887\"],[0.1111111111111111,\"#46039f\"],[0.2222222222222222,\"#7201a8\"],[0.3333333333333333,\"#9c179e\"],[0.4444444444444444,\"#bd3786\"],[0.5555555555555556,\"#d8576b\"],[0.6666666666666666,\"#ed7953\"],[0.7777777777777778,\"#fb9f3a\"],[0.8888888888888888,\"#fdca26\"],[1.0,\"#f0f921\"]]}],\"heatmap\":[{\"type\":\"heatmap\",\"colorbar\":{\"outlinewidth\":0,\"ticks\":\"\"},\"colorscale\":[[0.0,\"#0d0887\"],[0.1111111111111111,\"#46039f\"],[0.2222222222222222,\"#7201a8\"],[0.3333333333333333,\"#9c179e\"],[0.4444444444444444,\"#bd3786\"],[0.5555555555555556,\"#d8576b\"],[0.6666666666666666,\"#ed7953\"],[0.7777777777777778,\"#fb9f3a\"],[0.8888888888888888,\"#fdca26\"],[1.0,\"#f0f921\"]]}],\"heatmapgl\":[{\"type\":\"heatmapgl\",\"colorbar\":{\"outlinewidth\":0,\"ticks\":\"\"},\"colorscale\":[[0.0,\"#0d0887\"],[0.1111111111111111,\"#46039f\"],[0.2222222222222222,\"#7201a8\"],[0.3333333333333333,\"#9c179e\"],[0.4444444444444444,\"#bd3786\"],[0.5555555555555556,\"#d8576b\"],[0.6666666666666666,\"#ed7953\"],[0.7777777777777778,\"#fb9f3a\"],[0.8888888888888888,\"#fdca26\"],[1.0,\"#f0f921\"]]}],\"contourcarpet\":[{\"type\":\"contourcarpet\",\"colorbar\":{\"outlinewidth\":0,\"ticks\":\"\"}}],\"contour\":[{\"type\":\"contour\",\"colorbar\":{\"outlinewidth\":0,\"ticks\":\"\"},\"colorscale\":[[0.0,\"#0d0887\"],[0.1111111111111111,\"#46039f\"],[0.2222222222222222,\"#7201a8\"],[0.3333333333333333,\"#9c179e\"],[0.4444444444444444,\"#bd3786\"],[0.5555555555555556,\"#d8576b\"],[0.6666666666666666,\"#ed7953\"],[0.7777777777777778,\"#fb9f3a\"],[0.8888888888888888,\"#fdca26\"],[1.0,\"#f0f921\"]]}],\"surface\":[{\"type\":\"surface\",\"colorbar\":{\"outlinewidth\":0,\"ticks\":\"\"},\"colorscale\":[[0.0,\"#0d0887\"],[0.1111111111111111,\"#46039f\"],[0.2222222222222222,\"#7201a8\"],[0.3333333333333333,\"#9c179e\"],[0.4444444444444444,\"#bd3786\"],[0.5555555555555556,\"#d8576b\"],[0.6666666666666666,\"#ed7953\"],[0.7777777777777778,\"#fb9f3a\"],[0.8888888888888888,\"#fdca26\"],[1.0,\"#f0f921\"]]}],\"mesh3d\":[{\"type\":\"mesh3d\",\"colorbar\":{\"outlinewidth\":0,\"ticks\":\"\"}}],\"scatter\":[{\"fillpattern\":{\"fillmode\":\"overlay\",\"size\":10,\"solidity\":0.2},\"type\":\"scatter\"}],\"parcoords\":[{\"type\":\"parcoords\",\"line\":{\"colorbar\":{\"outlinewidth\":0,\"ticks\":\"\"}}}],\"scatterpolargl\":[{\"type\":\"scatterpolargl\",\"marker\":{\"colorbar\":{\"outlinewidth\":0,\"ticks\":\"\"}}}],\"bar\":[{\"error_x\":{\"color\":\"#2a3f5f\"},\"error_y\":{\"color\":\"#2a3f5f\"},\"marker\":{\"line\":{\"color\":\"#E5ECF6\",\"width\":0.5},\"pattern\":{\"fillmode\":\"overlay\",\"size\":10,\"solidity\":0.2}},\"type\":\"bar\"}],\"scattergeo\":[{\"type\":\"scattergeo\",\"marker\":{\"colorbar\":{\"outlinewidth\":0,\"ticks\":\"\"}}}],\"scatterpolar\":[{\"type\":\"scatterpolar\",\"marker\":{\"colorbar\":{\"outlinewidth\":0,\"ticks\":\"\"}}}],\"histogram\":[{\"marker\":{\"pattern\":{\"fillmode\":\"overlay\",\"size\":10,\"solidity\":0.2}},\"type\":\"histogram\"}],\"scattergl\":[{\"type\":\"scattergl\",\"marker\":{\"colorbar\":{\"outlinewidth\":0,\"ticks\":\"\"}}}],\"scatter3d\":[{\"type\":\"scatter3d\",\"line\":{\"colorbar\":{\"outlinewidth\":0,\"ticks\":\"\"}},\"marker\":{\"colorbar\":{\"outlinewidth\":0,\"ticks\":\"\"}}}],\"scattermapbox\":[{\"type\":\"scattermapbox\",\"marker\":{\"colorbar\":{\"outlinewidth\":0,\"ticks\":\"\"}}}],\"scatterternary\":[{\"type\":\"scatterternary\",\"marker\":{\"colorbar\":{\"outlinewidth\":0,\"ticks\":\"\"}}}],\"scattercarpet\":[{\"type\":\"scattercarpet\",\"marker\":{\"colorbar\":{\"outlinewidth\":0,\"ticks\":\"\"}}}],\"carpet\":[{\"aaxis\":{\"endlinecolor\":\"#2a3f5f\",\"gridcolor\":\"white\",\"linecolor\":\"white\",\"minorgridcolor\":\"white\",\"startlinecolor\":\"#2a3f5f\"},\"baxis\":{\"endlinecolor\":\"#2a3f5f\",\"gridcolor\":\"white\",\"linecolor\":\"white\",\"minorgridcolor\":\"white\",\"startlinecolor\":\"#2a3f5f\"},\"type\":\"carpet\"}],\"table\":[{\"cells\":{\"fill\":{\"color\":\"#EBF0F8\"},\"line\":{\"color\":\"white\"}},\"header\":{\"fill\":{\"color\":\"#C8D4E3\"},\"line\":{\"color\":\"white\"}},\"type\":\"table\"}],\"barpolar\":[{\"marker\":{\"line\":{\"color\":\"#E5ECF6\",\"width\":0.5},\"pattern\":{\"fillmode\":\"overlay\",\"size\":10,\"solidity\":0.2}},\"type\":\"barpolar\"}],\"pie\":[{\"automargin\":true,\"type\":\"pie\"}]},\"layout\":{\"autotypenumbers\":\"strict\",\"colorway\":[\"#636efa\",\"#EF553B\",\"#00cc96\",\"#ab63fa\",\"#FFA15A\",\"#19d3f3\",\"#FF6692\",\"#B6E880\",\"#FF97FF\",\"#FECB52\"],\"font\":{\"color\":\"#2a3f5f\"},\"hovermode\":\"closest\",\"hoverlabel\":{\"align\":\"left\"},\"paper_bgcolor\":\"white\",\"plot_bgcolor\":\"#E5ECF6\",\"polar\":{\"bgcolor\":\"#E5ECF6\",\"angularaxis\":{\"gridcolor\":\"white\",\"linecolor\":\"white\",\"ticks\":\"\"},\"radialaxis\":{\"gridcolor\":\"white\",\"linecolor\":\"white\",\"ticks\":\"\"}},\"ternary\":{\"bgcolor\":\"#E5ECF6\",\"aaxis\":{\"gridcolor\":\"white\",\"linecolor\":\"white\",\"ticks\":\"\"},\"baxis\":{\"gridcolor\":\"white\",\"linecolor\":\"white\",\"ticks\":\"\"},\"caxis\":{\"gridcolor\":\"white\",\"linecolor\":\"white\",\"ticks\":\"\"}},\"coloraxis\":{\"colorbar\":{\"outlinewidth\":0,\"ticks\":\"\"}},\"colorscale\":{\"sequential\":[[0.0,\"#0d0887\"],[0.1111111111111111,\"#46039f\"],[0.2222222222222222,\"#7201a8\"],[0.3333333333333333,\"#9c179e\"],[0.4444444444444444,\"#bd3786\"],[0.5555555555555556,\"#d8576b\"],[0.6666666666666666,\"#ed7953\"],[0.7777777777777778,\"#fb9f3a\"],[0.8888888888888888,\"#fdca26\"],[1.0,\"#f0f921\"]],\"sequentialminus\":[[0.0,\"#0d0887\"],[0.1111111111111111,\"#46039f\"],[0.2222222222222222,\"#7201a8\"],[0.3333333333333333,\"#9c179e\"],[0.4444444444444444,\"#bd3786\"],[0.5555555555555556,\"#d8576b\"],[0.6666666666666666,\"#ed7953\"],[0.7777777777777778,\"#fb9f3a\"],[0.8888888888888888,\"#fdca26\"],[1.0,\"#f0f921\"]],\"diverging\":[[0,\"#8e0152\"],[0.1,\"#c51b7d\"],[0.2,\"#de77ae\"],[0.3,\"#f1b6da\"],[0.4,\"#fde0ef\"],[0.5,\"#f7f7f7\"],[0.6,\"#e6f5d0\"],[0.7,\"#b8e186\"],[0.8,\"#7fbc41\"],[0.9,\"#4d9221\"],[1,\"#276419\"]]},\"xaxis\":{\"gridcolor\":\"white\",\"linecolor\":\"white\",\"ticks\":\"\",\"title\":{\"standoff\":15},\"zerolinecolor\":\"white\",\"automargin\":true,\"zerolinewidth\":2},\"yaxis\":{\"gridcolor\":\"white\",\"linecolor\":\"white\",\"ticks\":\"\",\"title\":{\"standoff\":15},\"zerolinecolor\":\"white\",\"automargin\":true,\"zerolinewidth\":2},\"scene\":{\"xaxis\":{\"backgroundcolor\":\"#E5ECF6\",\"gridcolor\":\"white\",\"linecolor\":\"white\",\"showbackground\":true,\"ticks\":\"\",\"zerolinecolor\":\"white\",\"gridwidth\":2},\"yaxis\":{\"backgroundcolor\":\"#E5ECF6\",\"gridcolor\":\"white\",\"linecolor\":\"white\",\"showbackground\":true,\"ticks\":\"\",\"zerolinecolor\":\"white\",\"gridwidth\":2},\"zaxis\":{\"backgroundcolor\":\"#E5ECF6\",\"gridcolor\":\"white\",\"linecolor\":\"white\",\"showbackground\":true,\"ticks\":\"\",\"zerolinecolor\":\"white\",\"gridwidth\":2}},\"shapedefaults\":{\"line\":{\"color\":\"#2a3f5f\"}},\"annotationdefaults\":{\"arrowcolor\":\"#2a3f5f\",\"arrowhead\":0,\"arrowwidth\":1},\"geo\":{\"bgcolor\":\"white\",\"landcolor\":\"#E5ECF6\",\"subunitcolor\":\"white\",\"showland\":true,\"showlakes\":true,\"lakecolor\":\"white\"},\"title\":{\"x\":0.05},\"mapbox\":{\"style\":\"light\"}}},\"xaxis\":{\"anchor\":\"y\",\"domain\":[0.0,1.0],\"title\":{\"text\":\"time\"}},\"yaxis\":{\"anchor\":\"x\",\"domain\":[0.0,1.0],\"title\":{\"text\":\"Time\"},\"range\":[0,200]},\"legend\":{\"title\":{\"text\":\"User ID\"},\"tracegroupgap\":0},\"title\":{\"text\":\"User X Position Over Time\"}},                        {\"responsive\": true}                    ).then(function(){\n",
       "                            \n",
       "var gd = document.getElementById('df1cf1b0-f60c-491e-bb63-72b8d84b0002');\n",
       "var x = new MutationObserver(function (mutations, observer) {{\n",
       "        var display = window.getComputedStyle(gd).display;\n",
       "        if (!display || display === 'none') {{\n",
       "            console.log([gd, 'removed!']);\n",
       "            Plotly.purge(gd);\n",
       "            observer.disconnect();\n",
       "        }}\n",
       "}});\n",
       "\n",
       "// Listen for the removal of the full notebook cells\n",
       "var notebookContainer = gd.closest('#notebook-container');\n",
       "if (notebookContainer) {{\n",
       "    x.observe(notebookContainer, {childList: true});\n",
       "}}\n",
       "\n",
       "// Listen for the clearing of the current output cell\n",
       "var outputEl = gd.closest('.output');\n",
       "if (outputEl) {{\n",
       "    x.observe(outputEl, {childList: true});\n",
       "}}\n",
       "\n",
       "                        })                };                });            </script>        </div>"
      ]
     },
     "metadata": {},
     "output_type": "display_data"
    },
    {
     "data": {
      "application/vnd.plotly.v1+json": {
       "config": {
        "plotlyServerURL": "https://plot.ly"
       },
       "data": [
        {
         "hovertemplate": "User ID=20001<br>time=%{x}<br>Y Position=%{y}<extra></extra>",
         "legendgroup": "20001",
         "line": {
          "color": "#636efa",
          "dash": "solid"
         },
         "marker": {
          "symbol": "circle"
         },
         "mode": "lines+markers",
         "name": "20001",
         "orientation": "v",
         "showlegend": true,
         "type": "scatter",
         "x": [
          19,
          20,
          23,
          24,
          25,
          26,
          27,
          28,
          30,
          31,
          32,
          33,
          34,
          38,
          39,
          66,
          68,
          69,
          70,
          71,
          72,
          73,
          74,
          75,
          76,
          77,
          78,
          79,
          87,
          111,
          112,
          132,
          135,
          136,
          137,
          159,
          160,
          176,
          178,
          179,
          180,
          181,
          207,
          208,
          217,
          224,
          225,
          226,
          227,
          228,
          229,
          255,
          256,
          276,
          277,
          283,
          284,
          305,
          306,
          307,
          308,
          312,
          313,
          315,
          316,
          317,
          318,
          319,
          326,
          327,
          351,
          352,
          353,
          354,
          355,
          356,
          358,
          359,
          360,
          361,
          362,
          363,
          364,
          365,
          373,
          374,
          406,
          407,
          408,
          409,
          410,
          411,
          413,
          414,
          415,
          416,
          417,
          418,
          421,
          424,
          425,
          447,
          448,
          450,
          466,
          469,
          495,
          496,
          502,
          505,
          508,
          509,
          510,
          513,
          514,
          515,
          516,
          526,
          543,
          544,
          547,
          559,
          560,
          562,
          563,
          564,
          579,
          591,
          592,
          594,
          605,
          606,
          607,
          610,
          611,
          612,
          613,
          644,
          645,
          646,
          648,
          649,
          650,
          651,
          652,
          653,
          655,
          656,
          659,
          660,
          684,
          694,
          695,
          696,
          697,
          698,
          699,
          700,
          701,
          702,
          705,
          706,
          708,
          709,
          752,
          754,
          755,
          757,
          760,
          761,
          783,
          784,
          800,
          801,
          802,
          804,
          805,
          806,
          807,
          808,
          831,
          832,
          841,
          842,
          850,
          852,
          853,
          854,
          861,
          864,
          879,
          880,
          885,
          900,
          901,
          927,
          928,
          929,
          943,
          947,
          948,
          951,
          952,
          953,
          978,
          979,
          980,
          981,
          984,
          985,
          986,
          987,
          988,
          989,
          990,
          991,
          994,
          995,
          996,
          1027,
          1028,
          1029,
          1030,
          1031,
          1032,
          1033,
          1034,
          1035,
          1036,
          1037,
          1038,
          1039,
          1040,
          1071,
          1072,
          1087,
          1088,
          1090,
          1092,
          1093,
          1119,
          1120,
          1126,
          1138,
          1140,
          1141,
          1167,
          1168,
          1177,
          1186,
          1187,
          1188,
          1189,
          1190,
          1215,
          1216,
          1221,
          1236,
          1237,
          1263,
          1264,
          1279,
          1280,
          1281,
          1282,
          1285,
          1286,
          1317,
          1318,
          1319,
          1320,
          1321,
          1322,
          1323,
          1324,
          1325,
          1326,
          1328,
          1329,
          1330,
          1331,
          1332,
          1338,
          1365,
          1366,
          1367,
          1368,
          1371,
          1372,
          1373,
          1374,
          1375,
          1376,
          1379,
          1380,
          1412,
          1413,
          1415,
          1416,
          1417,
          1422,
          1423,
          1426,
          1455,
          1456,
          1474,
          1475,
          1476,
          1485,
          1503,
          1504,
          1512,
          1514,
          1515,
          1516,
          1517,
          1522,
          1523,
          1524,
          1526,
          1528,
          1529,
          1551,
          1552,
          1560,
          1568,
          1569,
          1570,
          1571,
          1572,
          1573,
          1599,
          1600,
          1614,
          1615,
          1616,
          1618,
          1619,
          1620,
          1621,
          1623,
          1625,
          1647,
          1648,
          1649,
          1650,
          1651,
          1652,
          1653,
          1654,
          1655,
          1656,
          1658,
          1659,
          1660,
          1662,
          1663,
          1664,
          1666,
          1667,
          1668,
          1676,
          1677,
          1678,
          1679,
          1680,
          1682,
          1683,
          1684,
          1686,
          1688,
          1689,
          1690,
          1691,
          1692,
          1693,
          1694,
          1695,
          1701,
          1702,
          1703,
          1704,
          1705,
          1706,
          1707,
          1708,
          1709,
          1710,
          1711,
          1712,
          1713,
          1714,
          1715,
          1717,
          1718,
          1719,
          1720,
          1721,
          1722,
          1723,
          1724,
          1725,
          1726,
          1727,
          1728,
          1729,
          1730,
          1731,
          1732,
          1733,
          1734,
          1735,
          1736,
          1738,
          1739,
          1740,
          1741,
          1743,
          1744,
          1745,
          1749,
          1750,
          1755,
          1756,
          1758,
          1760,
          1761,
          1762,
          1763,
          1764,
          1767,
          1768,
          1769,
          1770,
          1771,
          1772,
          1773,
          1774,
          1775,
          1776,
          1778,
          1779,
          1780,
          1781,
          1783,
          1784,
          1785,
          1786,
          1787,
          1788,
          1790,
          1791,
          1792,
          1793,
          1794,
          1795,
          1796,
          1797,
          1798,
          1799,
          1800,
          1801,
          1803,
          1804,
          1805,
          1806,
          1807,
          1808,
          1809,
          1810,
          1811,
          1812,
          1813,
          1814,
          1815,
          1816,
          1817,
          1818,
          1819,
          1820,
          1828,
          1835,
          1836,
          1837,
          1838,
          1839,
          1840,
          1841,
          1842,
          1843,
          1845,
          1848,
          1849,
          1850,
          1851,
          1852,
          1853,
          1854,
          1855,
          1856,
          1857,
          1858,
          1859,
          1862,
          1863,
          1887,
          1888,
          1904,
          1906,
          1908,
          1909,
          1910,
          1935,
          1936,
          1945,
          1949,
          1950,
          1951,
          1954,
          1956,
          1957,
          1958,
          1990,
          1991,
          2001,
          2002,
          2003,
          2005,
          2006,
          2010,
          2012,
          2020,
          2022,
          2023,
          2024,
          2034,
          2039,
          2040,
          2041,
          2042,
          2046,
          2047,
          2048,
          2049,
          2050,
          2052,
          2053,
          2054,
          2055,
          2079,
          2080,
          2088,
          2100,
          2102,
          2127,
          2128,
          2141,
          2142,
          2143,
          2144,
          2154,
          2175,
          2176,
          2177,
          2194,
          2198,
          2223,
          2224,
          2226,
          2244,
          2246,
          2271,
          2272,
          2292,
          2293,
          2294,
          2295,
          2324,
          2325,
          2326,
          2332,
          2333,
          2336,
          2337,
          2340,
          2341,
          2342,
          2369,
          2370,
          2371,
          2372,
          2384,
          2385,
          2386,
          2387,
          2423,
          2425,
          2427,
          2430,
          2431,
          2463,
          2464,
          2466,
          2467,
          2469,
          2471,
          2477,
          2478,
          2479,
          2482,
          2483,
          2485,
          2511,
          2512,
          2516,
          2517,
          2524,
          2532,
          2534,
          2559,
          2560,
          2569,
          2578,
          2579,
          2580,
          2583,
          2586,
          2587,
          2607,
          2608,
          2622,
          2623,
          2624,
          2626,
          2628,
          2629,
          2630,
          2658,
          2661,
          2662,
          2665,
          2666,
          2667,
          2669,
          2670,
          2671,
          2672,
          2673,
          2674,
          2675,
          2676,
          2678,
          2679,
          2680,
          2717,
          2718,
          2719,
          2721,
          2722,
          2723,
          2726,
          2727,
          2736,
          2751,
          2752,
          2761,
          2772,
          2775,
          2776,
          2787,
          2800,
          2809,
          2820,
          2821,
          2825,
          2847,
          2848,
          2868,
          2870,
          2871,
          2895,
          2896,
          2904,
          2916,
          2917,
          2918,
          2943,
          2944,
          2959,
          2960,
          2961,
          2962,
          2963,
          2964,
          2971,
          2993,
          2994,
          2995,
          2996,
          2997,
          2998,
          3001,
          3002,
          3004,
          3005,
          3006,
          3009,
          3010,
          3013,
          3014,
          3045,
          3046,
          3048,
          3049,
          3050,
          3051,
          3060,
          3061,
          3085,
          3087,
          3088,
          3100,
          3106,
          3108,
          3109,
          3110,
          3116,
          3183,
          3184,
          3185,
          3200,
          3202,
          3204,
          3205,
          3231,
          3232,
          3241,
          3252,
          3253,
          3255,
          3256,
          3279,
          3280,
          3289,
          3293,
          3294,
          3295,
          3298,
          3299,
          3300,
          3301,
          3302,
          3310,
          3311,
          3331,
          3333,
          3334,
          3335,
          3336,
          3337,
          3338,
          3339,
          3342,
          3347,
          3348,
          3377,
          3378,
          3379,
          3380,
          3381,
          3382,
          3383,
          3395,
          3399,
          3400,
          3423,
          3424,
          3442,
          3445,
          3447,
          3471,
          3472,
          3477,
          3478,
          3479,
          3480,
          3490,
          3491,
          3492,
          3493,
          3494,
          3495,
          3519,
          3520,
          3529,
          3540,
          3541,
          3542,
          3567,
          3568,
          3569,
          3588,
          3589
         ],
         "xaxis": "x",
         "y": [
          102,
          92,
          93,
          94,
          92,
          89,
          84,
          93,
          84,
          105,
          105,
          102,
          102,
          107,
          102,
          102,
          101,
          103,
          103,
          103,
          103,
          102,
          112,
          113,
          104,
          103,
          103,
          102,
          102,
          102,
          100,
          102,
          102,
          102,
          102,
          104,
          99,
          99,
          102,
          102,
          100,
          102,
          102,
          99,
          100,
          96,
          92,
          92,
          99,
          100,
          101,
          100,
          99,
          99,
          95,
          99,
          102,
          103,
          101,
          101,
          101,
          103,
          104,
          104,
          104,
          102,
          103,
          102,
          103,
          102,
          88,
          77,
          80,
          79,
          88,
          102,
          101,
          95,
          92,
          94,
          95,
          107,
          107,
          102,
          101,
          102,
          105,
          103,
          101,
          105,
          107,
          111,
          113,
          113,
          108,
          103,
          102,
          104,
          102,
          101,
          102,
          101,
          100,
          99,
          100,
          102,
          100,
          99,
          117,
          99,
          91,
          93,
          96,
          100,
          102,
          103,
          102,
          102,
          100,
          100,
          117,
          117,
          99,
          94,
          101,
          102,
          101,
          101,
          100,
          99,
          117,
          99,
          117,
          102,
          102,
          104,
          102,
          102,
          102,
          102,
          101,
          103,
          103,
          107,
          102,
          102,
          123,
          101,
          107,
          102,
          102,
          104,
          107,
          104,
          114,
          114,
          104,
          102,
          102,
          102,
          101,
          105,
          106,
          100,
          99,
          99,
          99,
          100,
          100,
          102,
          102,
          100,
          96,
          94,
          99,
          100,
          102,
          103,
          102,
          103,
          102,
          100,
          99,
          99,
          100,
          106,
          102,
          102,
          102,
          102,
          102,
          99,
          99,
          100,
          102,
          100,
          99,
          99,
          99,
          99,
          100,
          100,
          104,
          102,
          102,
          101,
          103,
          102,
          102,
          103,
          106,
          107,
          108,
          103,
          102,
          104,
          102,
          103,
          102,
          93,
          73,
          54,
          54,
          54,
          54,
          54,
          54,
          54,
          58,
          81,
          94,
          106,
          102,
          101,
          100,
          92,
          97,
          100,
          102,
          100,
          101,
          99,
          99,
          102,
          102,
          102,
          103,
          100,
          100,
          102,
          102,
          100,
          102,
          102,
          101,
          100,
          99,
          100,
          102,
          103,
          100,
          93,
          98,
          99,
          100,
          100,
          102,
          101,
          110,
          106,
          103,
          103,
          102,
          102,
          103,
          101,
          102,
          102,
          107,
          102,
          103,
          103,
          102,
          101,
          102,
          102,
          102,
          104,
          104,
          103,
          102,
          102,
          94,
          92,
          102,
          93,
          92,
          95,
          94,
          102,
          102,
          100,
          100,
          104,
          100,
          100,
          103,
          103,
          102,
          100,
          100,
          101,
          99,
          99,
          99,
          99,
          99,
          99,
          100,
          102,
          101,
          102,
          102,
          100,
          99,
          99,
          99,
          99,
          99,
          103,
          102,
          100,
          100,
          96,
          93,
          99,
          100,
          100,
          104,
          93,
          92,
          100,
          102,
          99,
          99,
          99,
          99,
          99,
          100,
          99,
          99,
          99,
          99,
          99,
          99,
          99,
          102,
          103,
          102,
          106,
          104,
          102,
          102,
          102,
          101,
          102,
          102,
          102,
          102,
          102,
          102,
          102,
          102,
          102,
          102,
          102,
          102,
          102,
          107,
          108,
          45,
          46,
          46,
          45,
          44,
          45,
          53,
          61,
          88,
          104,
          107,
          101,
          102,
          101,
          105,
          101,
          101,
          101,
          101,
          101,
          101,
          102,
          102,
          101,
          101,
          101,
          101,
          101,
          102,
          102,
          101,
          101,
          101,
          102,
          101,
          101,
          101,
          101,
          99,
          99,
          101,
          99,
          99,
          100,
          99,
          99,
          100,
          99,
          99,
          101,
          101,
          101,
          101,
          101,
          95,
          101,
          101,
          102,
          101,
          101,
          101,
          101,
          101,
          101,
          101,
          101,
          101,
          102,
          101,
          101,
          102,
          101,
          101,
          102,
          102,
          101,
          86,
          84,
          84,
          83,
          88,
          92,
          93,
          102,
          101,
          102,
          102,
          102,
          102,
          98,
          102,
          102,
          102,
          101,
          102,
          102,
          101,
          102,
          102,
          101,
          101,
          102,
          101,
          102,
          101,
          100,
          100,
          99,
          99,
          99,
          99,
          99,
          99,
          99,
          99,
          99,
          99,
          99,
          99,
          99,
          99,
          99,
          101,
          102,
          102,
          102,
          99,
          99,
          99,
          100,
          103,
          102,
          100,
          99,
          99,
          99,
          99,
          99,
          100,
          104,
          104,
          102,
          115,
          103,
          102,
          107,
          102,
          96,
          94,
          92,
          90,
          90,
          100,
          107,
          101,
          102,
          102,
          103,
          107,
          128,
          128,
          125,
          115,
          107,
          92,
          92,
          101,
          103,
          102,
          102,
          100,
          99,
          100,
          102,
          100,
          99,
          97,
          96,
          99,
          99,
          102,
          101,
          100,
          99,
          102,
          102,
          101,
          99,
          99,
          99,
          102,
          100,
          100,
          100,
          102,
          101,
          102,
          103,
          103,
          102,
          103,
          102,
          99,
          102,
          98,
          96,
          102,
          103,
          102,
          85,
          21,
          26,
          104,
          100,
          102,
          104,
          102,
          103,
          107,
          105,
          100,
          99,
          99,
          99,
          99,
          99,
          97,
          94,
          94,
          100,
          102,
          102,
          101,
          100,
          99,
          99,
          99,
          101,
          102,
          100,
          99,
          99,
          102,
          104,
          102,
          103,
          102,
          102,
          102,
          100,
          95,
          92,
          99,
          100,
          100,
          103,
          103,
          102,
          101,
          114,
          108,
          94,
          92,
          100,
          105,
          101,
          102,
          102,
          104,
          107,
          102,
          102,
          102,
          102,
          101,
          102,
          103,
          104,
          103,
          102,
          107,
          102,
          102,
          102,
          99,
          99,
          100,
          100,
          101,
          102,
          100,
          99,
          100,
          102,
          102,
          102,
          100,
          101,
          102,
          102,
          101,
          100,
          99,
          99,
          102,
          102,
          100,
          100,
          96,
          93,
          98,
          102,
          101,
          101,
          102,
          103,
          102,
          102,
          102,
          107,
          104,
          102,
          112,
          109,
          102,
          102,
          102,
          103,
          103,
          102,
          100,
          95,
          96,
          101,
          102,
          102,
          101,
          104,
          102,
          102,
          100,
          99,
          100,
          101,
          102,
          102,
          102,
          102,
          100,
          99,
          99,
          100,
          100,
          103,
          101,
          99,
          97,
          100,
          100,
          101,
          102,
          102,
          99,
          99,
          96,
          98,
          99,
          100,
          107,
          105,
          104,
          102,
          101,
          102,
          101,
          102,
          107,
          107,
          103,
          102,
          102,
          93,
          92,
          98,
          100,
          101,
          102,
          102,
          101,
          102,
          104,
          107,
          99,
          106,
          106,
          104,
          100,
          102,
          102,
          101,
          102,
          100,
          96,
          94,
          96,
          90,
          100,
          102,
          102,
          103,
          103,
          102,
          102,
          100,
          99,
          100,
          102,
          101,
          100,
          100,
          99,
          100,
          102
         ],
         "yaxis": "y"
        }
       ],
       "layout": {
        "legend": {
         "title": {
          "text": "User ID"
         },
         "tracegroupgap": 0
        },
        "template": {
         "data": {
          "bar": [
           {
            "error_x": {
             "color": "#2a3f5f"
            },
            "error_y": {
             "color": "#2a3f5f"
            },
            "marker": {
             "line": {
              "color": "#E5ECF6",
              "width": 0.5
             },
             "pattern": {
              "fillmode": "overlay",
              "size": 10,
              "solidity": 0.2
             }
            },
            "type": "bar"
           }
          ],
          "barpolar": [
           {
            "marker": {
             "line": {
              "color": "#E5ECF6",
              "width": 0.5
             },
             "pattern": {
              "fillmode": "overlay",
              "size": 10,
              "solidity": 0.2
             }
            },
            "type": "barpolar"
           }
          ],
          "carpet": [
           {
            "aaxis": {
             "endlinecolor": "#2a3f5f",
             "gridcolor": "white",
             "linecolor": "white",
             "minorgridcolor": "white",
             "startlinecolor": "#2a3f5f"
            },
            "baxis": {
             "endlinecolor": "#2a3f5f",
             "gridcolor": "white",
             "linecolor": "white",
             "minorgridcolor": "white",
             "startlinecolor": "#2a3f5f"
            },
            "type": "carpet"
           }
          ],
          "choropleth": [
           {
            "colorbar": {
             "outlinewidth": 0,
             "ticks": ""
            },
            "type": "choropleth"
           }
          ],
          "contour": [
           {
            "colorbar": {
             "outlinewidth": 0,
             "ticks": ""
            },
            "colorscale": [
             [
              0,
              "#0d0887"
             ],
             [
              0.1111111111111111,
              "#46039f"
             ],
             [
              0.2222222222222222,
              "#7201a8"
             ],
             [
              0.3333333333333333,
              "#9c179e"
             ],
             [
              0.4444444444444444,
              "#bd3786"
             ],
             [
              0.5555555555555556,
              "#d8576b"
             ],
             [
              0.6666666666666666,
              "#ed7953"
             ],
             [
              0.7777777777777778,
              "#fb9f3a"
             ],
             [
              0.8888888888888888,
              "#fdca26"
             ],
             [
              1,
              "#f0f921"
             ]
            ],
            "type": "contour"
           }
          ],
          "contourcarpet": [
           {
            "colorbar": {
             "outlinewidth": 0,
             "ticks": ""
            },
            "type": "contourcarpet"
           }
          ],
          "heatmap": [
           {
            "colorbar": {
             "outlinewidth": 0,
             "ticks": ""
            },
            "colorscale": [
             [
              0,
              "#0d0887"
             ],
             [
              0.1111111111111111,
              "#46039f"
             ],
             [
              0.2222222222222222,
              "#7201a8"
             ],
             [
              0.3333333333333333,
              "#9c179e"
             ],
             [
              0.4444444444444444,
              "#bd3786"
             ],
             [
              0.5555555555555556,
              "#d8576b"
             ],
             [
              0.6666666666666666,
              "#ed7953"
             ],
             [
              0.7777777777777778,
              "#fb9f3a"
             ],
             [
              0.8888888888888888,
              "#fdca26"
             ],
             [
              1,
              "#f0f921"
             ]
            ],
            "type": "heatmap"
           }
          ],
          "heatmapgl": [
           {
            "colorbar": {
             "outlinewidth": 0,
             "ticks": ""
            },
            "colorscale": [
             [
              0,
              "#0d0887"
             ],
             [
              0.1111111111111111,
              "#46039f"
             ],
             [
              0.2222222222222222,
              "#7201a8"
             ],
             [
              0.3333333333333333,
              "#9c179e"
             ],
             [
              0.4444444444444444,
              "#bd3786"
             ],
             [
              0.5555555555555556,
              "#d8576b"
             ],
             [
              0.6666666666666666,
              "#ed7953"
             ],
             [
              0.7777777777777778,
              "#fb9f3a"
             ],
             [
              0.8888888888888888,
              "#fdca26"
             ],
             [
              1,
              "#f0f921"
             ]
            ],
            "type": "heatmapgl"
           }
          ],
          "histogram": [
           {
            "marker": {
             "pattern": {
              "fillmode": "overlay",
              "size": 10,
              "solidity": 0.2
             }
            },
            "type": "histogram"
           }
          ],
          "histogram2d": [
           {
            "colorbar": {
             "outlinewidth": 0,
             "ticks": ""
            },
            "colorscale": [
             [
              0,
              "#0d0887"
             ],
             [
              0.1111111111111111,
              "#46039f"
             ],
             [
              0.2222222222222222,
              "#7201a8"
             ],
             [
              0.3333333333333333,
              "#9c179e"
             ],
             [
              0.4444444444444444,
              "#bd3786"
             ],
             [
              0.5555555555555556,
              "#d8576b"
             ],
             [
              0.6666666666666666,
              "#ed7953"
             ],
             [
              0.7777777777777778,
              "#fb9f3a"
             ],
             [
              0.8888888888888888,
              "#fdca26"
             ],
             [
              1,
              "#f0f921"
             ]
            ],
            "type": "histogram2d"
           }
          ],
          "histogram2dcontour": [
           {
            "colorbar": {
             "outlinewidth": 0,
             "ticks": ""
            },
            "colorscale": [
             [
              0,
              "#0d0887"
             ],
             [
              0.1111111111111111,
              "#46039f"
             ],
             [
              0.2222222222222222,
              "#7201a8"
             ],
             [
              0.3333333333333333,
              "#9c179e"
             ],
             [
              0.4444444444444444,
              "#bd3786"
             ],
             [
              0.5555555555555556,
              "#d8576b"
             ],
             [
              0.6666666666666666,
              "#ed7953"
             ],
             [
              0.7777777777777778,
              "#fb9f3a"
             ],
             [
              0.8888888888888888,
              "#fdca26"
             ],
             [
              1,
              "#f0f921"
             ]
            ],
            "type": "histogram2dcontour"
           }
          ],
          "mesh3d": [
           {
            "colorbar": {
             "outlinewidth": 0,
             "ticks": ""
            },
            "type": "mesh3d"
           }
          ],
          "parcoords": [
           {
            "line": {
             "colorbar": {
              "outlinewidth": 0,
              "ticks": ""
             }
            },
            "type": "parcoords"
           }
          ],
          "pie": [
           {
            "automargin": true,
            "type": "pie"
           }
          ],
          "scatter": [
           {
            "fillpattern": {
             "fillmode": "overlay",
             "size": 10,
             "solidity": 0.2
            },
            "type": "scatter"
           }
          ],
          "scatter3d": [
           {
            "line": {
             "colorbar": {
              "outlinewidth": 0,
              "ticks": ""
             }
            },
            "marker": {
             "colorbar": {
              "outlinewidth": 0,
              "ticks": ""
             }
            },
            "type": "scatter3d"
           }
          ],
          "scattercarpet": [
           {
            "marker": {
             "colorbar": {
              "outlinewidth": 0,
              "ticks": ""
             }
            },
            "type": "scattercarpet"
           }
          ],
          "scattergeo": [
           {
            "marker": {
             "colorbar": {
              "outlinewidth": 0,
              "ticks": ""
             }
            },
            "type": "scattergeo"
           }
          ],
          "scattergl": [
           {
            "marker": {
             "colorbar": {
              "outlinewidth": 0,
              "ticks": ""
             }
            },
            "type": "scattergl"
           }
          ],
          "scattermapbox": [
           {
            "marker": {
             "colorbar": {
              "outlinewidth": 0,
              "ticks": ""
             }
            },
            "type": "scattermapbox"
           }
          ],
          "scatterpolar": [
           {
            "marker": {
             "colorbar": {
              "outlinewidth": 0,
              "ticks": ""
             }
            },
            "type": "scatterpolar"
           }
          ],
          "scatterpolargl": [
           {
            "marker": {
             "colorbar": {
              "outlinewidth": 0,
              "ticks": ""
             }
            },
            "type": "scatterpolargl"
           }
          ],
          "scatterternary": [
           {
            "marker": {
             "colorbar": {
              "outlinewidth": 0,
              "ticks": ""
             }
            },
            "type": "scatterternary"
           }
          ],
          "surface": [
           {
            "colorbar": {
             "outlinewidth": 0,
             "ticks": ""
            },
            "colorscale": [
             [
              0,
              "#0d0887"
             ],
             [
              0.1111111111111111,
              "#46039f"
             ],
             [
              0.2222222222222222,
              "#7201a8"
             ],
             [
              0.3333333333333333,
              "#9c179e"
             ],
             [
              0.4444444444444444,
              "#bd3786"
             ],
             [
              0.5555555555555556,
              "#d8576b"
             ],
             [
              0.6666666666666666,
              "#ed7953"
             ],
             [
              0.7777777777777778,
              "#fb9f3a"
             ],
             [
              0.8888888888888888,
              "#fdca26"
             ],
             [
              1,
              "#f0f921"
             ]
            ],
            "type": "surface"
           }
          ],
          "table": [
           {
            "cells": {
             "fill": {
              "color": "#EBF0F8"
             },
             "line": {
              "color": "white"
             }
            },
            "header": {
             "fill": {
              "color": "#C8D4E3"
             },
             "line": {
              "color": "white"
             }
            },
            "type": "table"
           }
          ]
         },
         "layout": {
          "annotationdefaults": {
           "arrowcolor": "#2a3f5f",
           "arrowhead": 0,
           "arrowwidth": 1
          },
          "autotypenumbers": "strict",
          "coloraxis": {
           "colorbar": {
            "outlinewidth": 0,
            "ticks": ""
           }
          },
          "colorscale": {
           "diverging": [
            [
             0,
             "#8e0152"
            ],
            [
             0.1,
             "#c51b7d"
            ],
            [
             0.2,
             "#de77ae"
            ],
            [
             0.3,
             "#f1b6da"
            ],
            [
             0.4,
             "#fde0ef"
            ],
            [
             0.5,
             "#f7f7f7"
            ],
            [
             0.6,
             "#e6f5d0"
            ],
            [
             0.7,
             "#b8e186"
            ],
            [
             0.8,
             "#7fbc41"
            ],
            [
             0.9,
             "#4d9221"
            ],
            [
             1,
             "#276419"
            ]
           ],
           "sequential": [
            [
             0,
             "#0d0887"
            ],
            [
             0.1111111111111111,
             "#46039f"
            ],
            [
             0.2222222222222222,
             "#7201a8"
            ],
            [
             0.3333333333333333,
             "#9c179e"
            ],
            [
             0.4444444444444444,
             "#bd3786"
            ],
            [
             0.5555555555555556,
             "#d8576b"
            ],
            [
             0.6666666666666666,
             "#ed7953"
            ],
            [
             0.7777777777777778,
             "#fb9f3a"
            ],
            [
             0.8888888888888888,
             "#fdca26"
            ],
            [
             1,
             "#f0f921"
            ]
           ],
           "sequentialminus": [
            [
             0,
             "#0d0887"
            ],
            [
             0.1111111111111111,
             "#46039f"
            ],
            [
             0.2222222222222222,
             "#7201a8"
            ],
            [
             0.3333333333333333,
             "#9c179e"
            ],
            [
             0.4444444444444444,
             "#bd3786"
            ],
            [
             0.5555555555555556,
             "#d8576b"
            ],
            [
             0.6666666666666666,
             "#ed7953"
            ],
            [
             0.7777777777777778,
             "#fb9f3a"
            ],
            [
             0.8888888888888888,
             "#fdca26"
            ],
            [
             1,
             "#f0f921"
            ]
           ]
          },
          "colorway": [
           "#636efa",
           "#EF553B",
           "#00cc96",
           "#ab63fa",
           "#FFA15A",
           "#19d3f3",
           "#FF6692",
           "#B6E880",
           "#FF97FF",
           "#FECB52"
          ],
          "font": {
           "color": "#2a3f5f"
          },
          "geo": {
           "bgcolor": "white",
           "lakecolor": "white",
           "landcolor": "#E5ECF6",
           "showlakes": true,
           "showland": true,
           "subunitcolor": "white"
          },
          "hoverlabel": {
           "align": "left"
          },
          "hovermode": "closest",
          "mapbox": {
           "style": "light"
          },
          "paper_bgcolor": "white",
          "plot_bgcolor": "#E5ECF6",
          "polar": {
           "angularaxis": {
            "gridcolor": "white",
            "linecolor": "white",
            "ticks": ""
           },
           "bgcolor": "#E5ECF6",
           "radialaxis": {
            "gridcolor": "white",
            "linecolor": "white",
            "ticks": ""
           }
          },
          "scene": {
           "xaxis": {
            "backgroundcolor": "#E5ECF6",
            "gridcolor": "white",
            "gridwidth": 2,
            "linecolor": "white",
            "showbackground": true,
            "ticks": "",
            "zerolinecolor": "white"
           },
           "yaxis": {
            "backgroundcolor": "#E5ECF6",
            "gridcolor": "white",
            "gridwidth": 2,
            "linecolor": "white",
            "showbackground": true,
            "ticks": "",
            "zerolinecolor": "white"
           },
           "zaxis": {
            "backgroundcolor": "#E5ECF6",
            "gridcolor": "white",
            "gridwidth": 2,
            "linecolor": "white",
            "showbackground": true,
            "ticks": "",
            "zerolinecolor": "white"
           }
          },
          "shapedefaults": {
           "line": {
            "color": "#2a3f5f"
           }
          },
          "ternary": {
           "aaxis": {
            "gridcolor": "white",
            "linecolor": "white",
            "ticks": ""
           },
           "baxis": {
            "gridcolor": "white",
            "linecolor": "white",
            "ticks": ""
           },
           "bgcolor": "#E5ECF6",
           "caxis": {
            "gridcolor": "white",
            "linecolor": "white",
            "ticks": ""
           }
          },
          "title": {
           "x": 0.05
          },
          "xaxis": {
           "automargin": true,
           "gridcolor": "white",
           "linecolor": "white",
           "ticks": "",
           "title": {
            "standoff": 15
           },
           "zerolinecolor": "white",
           "zerolinewidth": 2
          },
          "yaxis": {
           "automargin": true,
           "gridcolor": "white",
           "linecolor": "white",
           "ticks": "",
           "title": {
            "standoff": 15
           },
           "zerolinecolor": "white",
           "zerolinewidth": 2
          }
         }
        },
        "title": {
         "text": "User Y Position Over Time"
        },
        "xaxis": {
         "anchor": "y",
         "domain": [
          0,
          1
         ],
         "title": {
          "text": "time"
         }
        },
        "yaxis": {
         "anchor": "x",
         "domain": [
          0,
          1
         ],
         "range": [
          0,
          200
         ],
         "title": {
          "text": "Y Position"
         }
        }
       }
      },
      "text/html": [
       "<div>                            <div id=\"a949e62f-241e-4fd7-b3a7-4fa9799a7663\" class=\"plotly-graph-div\" style=\"height:525px; width:100%;\"></div>            <script type=\"text/javascript\">                require([\"plotly\"], function(Plotly) {                    window.PLOTLYENV=window.PLOTLYENV || {};                                    if (document.getElementById(\"a949e62f-241e-4fd7-b3a7-4fa9799a7663\")) {                    Plotly.newPlot(                        \"a949e62f-241e-4fd7-b3a7-4fa9799a7663\",                        [{\"hovertemplate\":\"User ID=20001\\u003cbr\\u003etime=%{x}\\u003cbr\\u003eY Position=%{y}\\u003cextra\\u003e\\u003c\\u002fextra\\u003e\",\"legendgroup\":\"20001\",\"line\":{\"color\":\"#636efa\",\"dash\":\"solid\"},\"marker\":{\"symbol\":\"circle\"},\"mode\":\"lines+markers\",\"name\":\"20001\",\"orientation\":\"v\",\"showlegend\":true,\"x\":[19,20,23,24,25,26,27,28,30,31,32,33,34,38,39,66,68,69,70,71,72,73,74,75,76,77,78,79,87,111,112,132,135,136,137,159,160,176,178,179,180,181,207,208,217,224,225,226,227,228,229,255,256,276,277,283,284,305,306,307,308,312,313,315,316,317,318,319,326,327,351,352,353,354,355,356,358,359,360,361,362,363,364,365,373,374,406,407,408,409,410,411,413,414,415,416,417,418,421,424,425,447,448,450,466,469,495,496,502,505,508,509,510,513,514,515,516,526,543,544,547,559,560,562,563,564,579,591,592,594,605,606,607,610,611,612,613,644,645,646,648,649,650,651,652,653,655,656,659,660,684,694,695,696,697,698,699,700,701,702,705,706,708,709,752,754,755,757,760,761,783,784,800,801,802,804,805,806,807,808,831,832,841,842,850,852,853,854,861,864,879,880,885,900,901,927,928,929,943,947,948,951,952,953,978,979,980,981,984,985,986,987,988,989,990,991,994,995,996,1027,1028,1029,1030,1031,1032,1033,1034,1035,1036,1037,1038,1039,1040,1071,1072,1087,1088,1090,1092,1093,1119,1120,1126,1138,1140,1141,1167,1168,1177,1186,1187,1188,1189,1190,1215,1216,1221,1236,1237,1263,1264,1279,1280,1281,1282,1285,1286,1317,1318,1319,1320,1321,1322,1323,1324,1325,1326,1328,1329,1330,1331,1332,1338,1365,1366,1367,1368,1371,1372,1373,1374,1375,1376,1379,1380,1412,1413,1415,1416,1417,1422,1423,1426,1455,1456,1474,1475,1476,1485,1503,1504,1512,1514,1515,1516,1517,1522,1523,1524,1526,1528,1529,1551,1552,1560,1568,1569,1570,1571,1572,1573,1599,1600,1614,1615,1616,1618,1619,1620,1621,1623,1625,1647,1648,1649,1650,1651,1652,1653,1654,1655,1656,1658,1659,1660,1662,1663,1664,1666,1667,1668,1676,1677,1678,1679,1680,1682,1683,1684,1686,1688,1689,1690,1691,1692,1693,1694,1695,1701,1702,1703,1704,1705,1706,1707,1708,1709,1710,1711,1712,1713,1714,1715,1717,1718,1719,1720,1721,1722,1723,1724,1725,1726,1727,1728,1729,1730,1731,1732,1733,1734,1735,1736,1738,1739,1740,1741,1743,1744,1745,1749,1750,1755,1756,1758,1760,1761,1762,1763,1764,1767,1768,1769,1770,1771,1772,1773,1774,1775,1776,1778,1779,1780,1781,1783,1784,1785,1786,1787,1788,1790,1791,1792,1793,1794,1795,1796,1797,1798,1799,1800,1801,1803,1804,1805,1806,1807,1808,1809,1810,1811,1812,1813,1814,1815,1816,1817,1818,1819,1820,1828,1835,1836,1837,1838,1839,1840,1841,1842,1843,1845,1848,1849,1850,1851,1852,1853,1854,1855,1856,1857,1858,1859,1862,1863,1887,1888,1904,1906,1908,1909,1910,1935,1936,1945,1949,1950,1951,1954,1956,1957,1958,1990,1991,2001,2002,2003,2005,2006,2010,2012,2020,2022,2023,2024,2034,2039,2040,2041,2042,2046,2047,2048,2049,2050,2052,2053,2054,2055,2079,2080,2088,2100,2102,2127,2128,2141,2142,2143,2144,2154,2175,2176,2177,2194,2198,2223,2224,2226,2244,2246,2271,2272,2292,2293,2294,2295,2324,2325,2326,2332,2333,2336,2337,2340,2341,2342,2369,2370,2371,2372,2384,2385,2386,2387,2423,2425,2427,2430,2431,2463,2464,2466,2467,2469,2471,2477,2478,2479,2482,2483,2485,2511,2512,2516,2517,2524,2532,2534,2559,2560,2569,2578,2579,2580,2583,2586,2587,2607,2608,2622,2623,2624,2626,2628,2629,2630,2658,2661,2662,2665,2666,2667,2669,2670,2671,2672,2673,2674,2675,2676,2678,2679,2680,2717,2718,2719,2721,2722,2723,2726,2727,2736,2751,2752,2761,2772,2775,2776,2787,2800,2809,2820,2821,2825,2847,2848,2868,2870,2871,2895,2896,2904,2916,2917,2918,2943,2944,2959,2960,2961,2962,2963,2964,2971,2993,2994,2995,2996,2997,2998,3001,3002,3004,3005,3006,3009,3010,3013,3014,3045,3046,3048,3049,3050,3051,3060,3061,3085,3087,3088,3100,3106,3108,3109,3110,3116,3183,3184,3185,3200,3202,3204,3205,3231,3232,3241,3252,3253,3255,3256,3279,3280,3289,3293,3294,3295,3298,3299,3300,3301,3302,3310,3311,3331,3333,3334,3335,3336,3337,3338,3339,3342,3347,3348,3377,3378,3379,3380,3381,3382,3383,3395,3399,3400,3423,3424,3442,3445,3447,3471,3472,3477,3478,3479,3480,3490,3491,3492,3493,3494,3495,3519,3520,3529,3540,3541,3542,3567,3568,3569,3588,3589],\"xaxis\":\"x\",\"y\":[102,92,93,94,92,89,84,93,84,105,105,102,102,107,102,102,101,103,103,103,103,102,112,113,104,103,103,102,102,102,100,102,102,102,102,104,99,99,102,102,100,102,102,99,100,96,92,92,99,100,101,100,99,99,95,99,102,103,101,101,101,103,104,104,104,102,103,102,103,102,88,77,80,79,88,102,101,95,92,94,95,107,107,102,101,102,105,103,101,105,107,111,113,113,108,103,102,104,102,101,102,101,100,99,100,102,100,99,117,99,91,93,96,100,102,103,102,102,100,100,117,117,99,94,101,102,101,101,100,99,117,99,117,102,102,104,102,102,102,102,101,103,103,107,102,102,123,101,107,102,102,104,107,104,114,114,104,102,102,102,101,105,106,100,99,99,99,100,100,102,102,100,96,94,99,100,102,103,102,103,102,100,99,99,100,106,102,102,102,102,102,99,99,100,102,100,99,99,99,99,100,100,104,102,102,101,103,102,102,103,106,107,108,103,102,104,102,103,102,93,73,54,54,54,54,54,54,54,58,81,94,106,102,101,100,92,97,100,102,100,101,99,99,102,102,102,103,100,100,102,102,100,102,102,101,100,99,100,102,103,100,93,98,99,100,100,102,101,110,106,103,103,102,102,103,101,102,102,107,102,103,103,102,101,102,102,102,104,104,103,102,102,94,92,102,93,92,95,94,102,102,100,100,104,100,100,103,103,102,100,100,101,99,99,99,99,99,99,100,102,101,102,102,100,99,99,99,99,99,103,102,100,100,96,93,99,100,100,104,93,92,100,102,99,99,99,99,99,100,99,99,99,99,99,99,99,102,103,102,106,104,102,102,102,101,102,102,102,102,102,102,102,102,102,102,102,102,102,107,108,45,46,46,45,44,45,53,61,88,104,107,101,102,101,105,101,101,101,101,101,101,102,102,101,101,101,101,101,102,102,101,101,101,102,101,101,101,101,99,99,101,99,99,100,99,99,100,99,99,101,101,101,101,101,95,101,101,102,101,101,101,101,101,101,101,101,101,102,101,101,102,101,101,102,102,101,86,84,84,83,88,92,93,102,101,102,102,102,102,98,102,102,102,101,102,102,101,102,102,101,101,102,101,102,101,100,100,99,99,99,99,99,99,99,99,99,99,99,99,99,99,99,101,102,102,102,99,99,99,100,103,102,100,99,99,99,99,99,100,104,104,102,115,103,102,107,102,96,94,92,90,90,100,107,101,102,102,103,107,128,128,125,115,107,92,92,101,103,102,102,100,99,100,102,100,99,97,96,99,99,102,101,100,99,102,102,101,99,99,99,102,100,100,100,102,101,102,103,103,102,103,102,99,102,98,96,102,103,102,85,21,26,104,100,102,104,102,103,107,105,100,99,99,99,99,99,97,94,94,100,102,102,101,100,99,99,99,101,102,100,99,99,102,104,102,103,102,102,102,100,95,92,99,100,100,103,103,102,101,114,108,94,92,100,105,101,102,102,104,107,102,102,102,102,101,102,103,104,103,102,107,102,102,102,99,99,100,100,101,102,100,99,100,102,102,102,100,101,102,102,101,100,99,99,102,102,100,100,96,93,98,102,101,101,102,103,102,102,102,107,104,102,112,109,102,102,102,103,103,102,100,95,96,101,102,102,101,104,102,102,100,99,100,101,102,102,102,102,100,99,99,100,100,103,101,99,97,100,100,101,102,102,99,99,96,98,99,100,107,105,104,102,101,102,101,102,107,107,103,102,102,93,92,98,100,101,102,102,101,102,104,107,99,106,106,104,100,102,102,101,102,100,96,94,96,90,100,102,102,103,103,102,102,100,99,100,102,101,100,100,99,100,102],\"yaxis\":\"y\",\"type\":\"scatter\"}],                        {\"template\":{\"data\":{\"histogram2dcontour\":[{\"type\":\"histogram2dcontour\",\"colorbar\":{\"outlinewidth\":0,\"ticks\":\"\"},\"colorscale\":[[0.0,\"#0d0887\"],[0.1111111111111111,\"#46039f\"],[0.2222222222222222,\"#7201a8\"],[0.3333333333333333,\"#9c179e\"],[0.4444444444444444,\"#bd3786\"],[0.5555555555555556,\"#d8576b\"],[0.6666666666666666,\"#ed7953\"],[0.7777777777777778,\"#fb9f3a\"],[0.8888888888888888,\"#fdca26\"],[1.0,\"#f0f921\"]]}],\"choropleth\":[{\"type\":\"choropleth\",\"colorbar\":{\"outlinewidth\":0,\"ticks\":\"\"}}],\"histogram2d\":[{\"type\":\"histogram2d\",\"colorbar\":{\"outlinewidth\":0,\"ticks\":\"\"},\"colorscale\":[[0.0,\"#0d0887\"],[0.1111111111111111,\"#46039f\"],[0.2222222222222222,\"#7201a8\"],[0.3333333333333333,\"#9c179e\"],[0.4444444444444444,\"#bd3786\"],[0.5555555555555556,\"#d8576b\"],[0.6666666666666666,\"#ed7953\"],[0.7777777777777778,\"#fb9f3a\"],[0.8888888888888888,\"#fdca26\"],[1.0,\"#f0f921\"]]}],\"heatmap\":[{\"type\":\"heatmap\",\"colorbar\":{\"outlinewidth\":0,\"ticks\":\"\"},\"colorscale\":[[0.0,\"#0d0887\"],[0.1111111111111111,\"#46039f\"],[0.2222222222222222,\"#7201a8\"],[0.3333333333333333,\"#9c179e\"],[0.4444444444444444,\"#bd3786\"],[0.5555555555555556,\"#d8576b\"],[0.6666666666666666,\"#ed7953\"],[0.7777777777777778,\"#fb9f3a\"],[0.8888888888888888,\"#fdca26\"],[1.0,\"#f0f921\"]]}],\"heatmapgl\":[{\"type\":\"heatmapgl\",\"colorbar\":{\"outlinewidth\":0,\"ticks\":\"\"},\"colorscale\":[[0.0,\"#0d0887\"],[0.1111111111111111,\"#46039f\"],[0.2222222222222222,\"#7201a8\"],[0.3333333333333333,\"#9c179e\"],[0.4444444444444444,\"#bd3786\"],[0.5555555555555556,\"#d8576b\"],[0.6666666666666666,\"#ed7953\"],[0.7777777777777778,\"#fb9f3a\"],[0.8888888888888888,\"#fdca26\"],[1.0,\"#f0f921\"]]}],\"contourcarpet\":[{\"type\":\"contourcarpet\",\"colorbar\":{\"outlinewidth\":0,\"ticks\":\"\"}}],\"contour\":[{\"type\":\"contour\",\"colorbar\":{\"outlinewidth\":0,\"ticks\":\"\"},\"colorscale\":[[0.0,\"#0d0887\"],[0.1111111111111111,\"#46039f\"],[0.2222222222222222,\"#7201a8\"],[0.3333333333333333,\"#9c179e\"],[0.4444444444444444,\"#bd3786\"],[0.5555555555555556,\"#d8576b\"],[0.6666666666666666,\"#ed7953\"],[0.7777777777777778,\"#fb9f3a\"],[0.8888888888888888,\"#fdca26\"],[1.0,\"#f0f921\"]]}],\"surface\":[{\"type\":\"surface\",\"colorbar\":{\"outlinewidth\":0,\"ticks\":\"\"},\"colorscale\":[[0.0,\"#0d0887\"],[0.1111111111111111,\"#46039f\"],[0.2222222222222222,\"#7201a8\"],[0.3333333333333333,\"#9c179e\"],[0.4444444444444444,\"#bd3786\"],[0.5555555555555556,\"#d8576b\"],[0.6666666666666666,\"#ed7953\"],[0.7777777777777778,\"#fb9f3a\"],[0.8888888888888888,\"#fdca26\"],[1.0,\"#f0f921\"]]}],\"mesh3d\":[{\"type\":\"mesh3d\",\"colorbar\":{\"outlinewidth\":0,\"ticks\":\"\"}}],\"scatter\":[{\"fillpattern\":{\"fillmode\":\"overlay\",\"size\":10,\"solidity\":0.2},\"type\":\"scatter\"}],\"parcoords\":[{\"type\":\"parcoords\",\"line\":{\"colorbar\":{\"outlinewidth\":0,\"ticks\":\"\"}}}],\"scatterpolargl\":[{\"type\":\"scatterpolargl\",\"marker\":{\"colorbar\":{\"outlinewidth\":0,\"ticks\":\"\"}}}],\"bar\":[{\"error_x\":{\"color\":\"#2a3f5f\"},\"error_y\":{\"color\":\"#2a3f5f\"},\"marker\":{\"line\":{\"color\":\"#E5ECF6\",\"width\":0.5},\"pattern\":{\"fillmode\":\"overlay\",\"size\":10,\"solidity\":0.2}},\"type\":\"bar\"}],\"scattergeo\":[{\"type\":\"scattergeo\",\"marker\":{\"colorbar\":{\"outlinewidth\":0,\"ticks\":\"\"}}}],\"scatterpolar\":[{\"type\":\"scatterpolar\",\"marker\":{\"colorbar\":{\"outlinewidth\":0,\"ticks\":\"\"}}}],\"histogram\":[{\"marker\":{\"pattern\":{\"fillmode\":\"overlay\",\"size\":10,\"solidity\":0.2}},\"type\":\"histogram\"}],\"scattergl\":[{\"type\":\"scattergl\",\"marker\":{\"colorbar\":{\"outlinewidth\":0,\"ticks\":\"\"}}}],\"scatter3d\":[{\"type\":\"scatter3d\",\"line\":{\"colorbar\":{\"outlinewidth\":0,\"ticks\":\"\"}},\"marker\":{\"colorbar\":{\"outlinewidth\":0,\"ticks\":\"\"}}}],\"scattermapbox\":[{\"type\":\"scattermapbox\",\"marker\":{\"colorbar\":{\"outlinewidth\":0,\"ticks\":\"\"}}}],\"scatterternary\":[{\"type\":\"scatterternary\",\"marker\":{\"colorbar\":{\"outlinewidth\":0,\"ticks\":\"\"}}}],\"scattercarpet\":[{\"type\":\"scattercarpet\",\"marker\":{\"colorbar\":{\"outlinewidth\":0,\"ticks\":\"\"}}}],\"carpet\":[{\"aaxis\":{\"endlinecolor\":\"#2a3f5f\",\"gridcolor\":\"white\",\"linecolor\":\"white\",\"minorgridcolor\":\"white\",\"startlinecolor\":\"#2a3f5f\"},\"baxis\":{\"endlinecolor\":\"#2a3f5f\",\"gridcolor\":\"white\",\"linecolor\":\"white\",\"minorgridcolor\":\"white\",\"startlinecolor\":\"#2a3f5f\"},\"type\":\"carpet\"}],\"table\":[{\"cells\":{\"fill\":{\"color\":\"#EBF0F8\"},\"line\":{\"color\":\"white\"}},\"header\":{\"fill\":{\"color\":\"#C8D4E3\"},\"line\":{\"color\":\"white\"}},\"type\":\"table\"}],\"barpolar\":[{\"marker\":{\"line\":{\"color\":\"#E5ECF6\",\"width\":0.5},\"pattern\":{\"fillmode\":\"overlay\",\"size\":10,\"solidity\":0.2}},\"type\":\"barpolar\"}],\"pie\":[{\"automargin\":true,\"type\":\"pie\"}]},\"layout\":{\"autotypenumbers\":\"strict\",\"colorway\":[\"#636efa\",\"#EF553B\",\"#00cc96\",\"#ab63fa\",\"#FFA15A\",\"#19d3f3\",\"#FF6692\",\"#B6E880\",\"#FF97FF\",\"#FECB52\"],\"font\":{\"color\":\"#2a3f5f\"},\"hovermode\":\"closest\",\"hoverlabel\":{\"align\":\"left\"},\"paper_bgcolor\":\"white\",\"plot_bgcolor\":\"#E5ECF6\",\"polar\":{\"bgcolor\":\"#E5ECF6\",\"angularaxis\":{\"gridcolor\":\"white\",\"linecolor\":\"white\",\"ticks\":\"\"},\"radialaxis\":{\"gridcolor\":\"white\",\"linecolor\":\"white\",\"ticks\":\"\"}},\"ternary\":{\"bgcolor\":\"#E5ECF6\",\"aaxis\":{\"gridcolor\":\"white\",\"linecolor\":\"white\",\"ticks\":\"\"},\"baxis\":{\"gridcolor\":\"white\",\"linecolor\":\"white\",\"ticks\":\"\"},\"caxis\":{\"gridcolor\":\"white\",\"linecolor\":\"white\",\"ticks\":\"\"}},\"coloraxis\":{\"colorbar\":{\"outlinewidth\":0,\"ticks\":\"\"}},\"colorscale\":{\"sequential\":[[0.0,\"#0d0887\"],[0.1111111111111111,\"#46039f\"],[0.2222222222222222,\"#7201a8\"],[0.3333333333333333,\"#9c179e\"],[0.4444444444444444,\"#bd3786\"],[0.5555555555555556,\"#d8576b\"],[0.6666666666666666,\"#ed7953\"],[0.7777777777777778,\"#fb9f3a\"],[0.8888888888888888,\"#fdca26\"],[1.0,\"#f0f921\"]],\"sequentialminus\":[[0.0,\"#0d0887\"],[0.1111111111111111,\"#46039f\"],[0.2222222222222222,\"#7201a8\"],[0.3333333333333333,\"#9c179e\"],[0.4444444444444444,\"#bd3786\"],[0.5555555555555556,\"#d8576b\"],[0.6666666666666666,\"#ed7953\"],[0.7777777777777778,\"#fb9f3a\"],[0.8888888888888888,\"#fdca26\"],[1.0,\"#f0f921\"]],\"diverging\":[[0,\"#8e0152\"],[0.1,\"#c51b7d\"],[0.2,\"#de77ae\"],[0.3,\"#f1b6da\"],[0.4,\"#fde0ef\"],[0.5,\"#f7f7f7\"],[0.6,\"#e6f5d0\"],[0.7,\"#b8e186\"],[0.8,\"#7fbc41\"],[0.9,\"#4d9221\"],[1,\"#276419\"]]},\"xaxis\":{\"gridcolor\":\"white\",\"linecolor\":\"white\",\"ticks\":\"\",\"title\":{\"standoff\":15},\"zerolinecolor\":\"white\",\"automargin\":true,\"zerolinewidth\":2},\"yaxis\":{\"gridcolor\":\"white\",\"linecolor\":\"white\",\"ticks\":\"\",\"title\":{\"standoff\":15},\"zerolinecolor\":\"white\",\"automargin\":true,\"zerolinewidth\":2},\"scene\":{\"xaxis\":{\"backgroundcolor\":\"#E5ECF6\",\"gridcolor\":\"white\",\"linecolor\":\"white\",\"showbackground\":true,\"ticks\":\"\",\"zerolinecolor\":\"white\",\"gridwidth\":2},\"yaxis\":{\"backgroundcolor\":\"#E5ECF6\",\"gridcolor\":\"white\",\"linecolor\":\"white\",\"showbackground\":true,\"ticks\":\"\",\"zerolinecolor\":\"white\",\"gridwidth\":2},\"zaxis\":{\"backgroundcolor\":\"#E5ECF6\",\"gridcolor\":\"white\",\"linecolor\":\"white\",\"showbackground\":true,\"ticks\":\"\",\"zerolinecolor\":\"white\",\"gridwidth\":2}},\"shapedefaults\":{\"line\":{\"color\":\"#2a3f5f\"}},\"annotationdefaults\":{\"arrowcolor\":\"#2a3f5f\",\"arrowhead\":0,\"arrowwidth\":1},\"geo\":{\"bgcolor\":\"white\",\"landcolor\":\"#E5ECF6\",\"subunitcolor\":\"white\",\"showland\":true,\"showlakes\":true,\"lakecolor\":\"white\"},\"title\":{\"x\":0.05},\"mapbox\":{\"style\":\"light\"}}},\"xaxis\":{\"anchor\":\"y\",\"domain\":[0.0,1.0],\"title\":{\"text\":\"time\"}},\"yaxis\":{\"anchor\":\"x\",\"domain\":[0.0,1.0],\"title\":{\"text\":\"Y Position\"},\"range\":[0,200]},\"legend\":{\"title\":{\"text\":\"User ID\"},\"tracegroupgap\":0},\"title\":{\"text\":\"User Y Position Over Time\"}},                        {\"responsive\": true}                    ).then(function(){\n",
       "                            \n",
       "var gd = document.getElementById('a949e62f-241e-4fd7-b3a7-4fa9799a7663');\n",
       "var x = new MutationObserver(function (mutations, observer) {{\n",
       "        var display = window.getComputedStyle(gd).display;\n",
       "        if (!display || display === 'none') {{\n",
       "            console.log([gd, 'removed!']);\n",
       "            Plotly.purge(gd);\n",
       "            observer.disconnect();\n",
       "        }}\n",
       "}});\n",
       "\n",
       "// Listen for the removal of the full notebook cells\n",
       "var notebookContainer = gd.closest('#notebook-container');\n",
       "if (notebookContainer) {{\n",
       "    x.observe(notebookContainer, {childList: true});\n",
       "}}\n",
       "\n",
       "// Listen for the clearing of the current output cell\n",
       "var outputEl = gd.closest('.output');\n",
       "if (outputEl) {{\n",
       "    x.observe(outputEl, {childList: true});\n",
       "}}\n",
       "\n",
       "                        })                };                });            </script>        </div>"
      ]
     },
     "metadata": {},
     "output_type": "display_data"
    }
   ],
   "source": [
    "plot_xy_trajectory(df_b, test_case)"
   ]
  },
  {
   "cell_type": "code",
   "execution_count": 96,
   "metadata": {},
   "outputs": [
    {
     "name": "stderr",
     "output_type": "stream",
     "text": [
      "/opt/conda/lib/python3.10/site-packages/plotly/express/_core.py:2065: FutureWarning:\n",
      "\n",
      "When grouping with a length-1 list-like, you will need to pass a length-1 tuple to get_group in a future version of pandas. Pass `(name,)` instead of `name` to silence this warning.\n",
      "\n",
      "/opt/conda/lib/python3.10/site-packages/plotly/express/_core.py:2065: FutureWarning:\n",
      "\n",
      "When grouping with a length-1 list-like, you will need to pass a length-1 tuple to get_group in a future version of pandas. Pass `(name,)` instead of `name` to silence this warning.\n",
      "\n"
     ]
    },
    {
     "data": {
      "application/vnd.plotly.v1+json": {
       "config": {
        "plotlyServerURL": "https://plot.ly"
       },
       "data": [
        {
         "hovertemplate": "Data Type=Prediction<br>time=%{x}<br>Time=%{y}<extra></extra>",
         "legendgroup": "Prediction",
         "line": {
          "color": "#636efa",
          "dash": "solid"
         },
         "marker": {
          "symbol": "circle"
         },
         "mode": "lines+markers",
         "name": "Prediction",
         "orientation": "v",
         "showlegend": true,
         "type": "scatter",
         "x": [
          2895,
          2896,
          2904,
          2916,
          2917,
          2918,
          2943,
          2944,
          2959,
          2960,
          2961,
          2962,
          2963,
          2964,
          2971,
          2993,
          2994,
          2995,
          2996,
          2997,
          2998,
          3001,
          3002,
          3004,
          3005,
          3006,
          3009,
          3010,
          3013,
          3014,
          3045,
          3046,
          3048,
          3049,
          3050,
          3051,
          3060,
          3061,
          3085,
          3087,
          3088,
          3100,
          3106,
          3108,
          3109,
          3110,
          3116,
          3183,
          3184,
          3185,
          3200,
          3202,
          3204,
          3205,
          3231,
          3232,
          3241,
          3252,
          3253,
          3255,
          3256,
          3279,
          3280,
          3289,
          3293,
          3294,
          3295,
          3298,
          3299,
          3300,
          3301,
          3302,
          3310,
          3311,
          3331,
          3333,
          3334,
          3335,
          3336,
          3337,
          3338,
          3339,
          3342,
          3347,
          3348,
          3377,
          3378,
          3379,
          3380,
          3381,
          3382,
          3383,
          3395,
          3399,
          3400,
          3423,
          3424,
          3442,
          3445,
          3447,
          3471,
          3472,
          3477,
          3478,
          3479,
          3480,
          3490,
          3491,
          3492,
          3493,
          3494,
          3495,
          3519,
          3520,
          3529,
          3540,
          3541,
          3542,
          3567,
          3568,
          3569,
          3588,
          3589
         ],
         "xaxis": "x",
         "y": [
          78,
          78,
          78,
          78,
          78,
          78,
          78,
          78,
          78,
          78,
          78,
          78,
          78,
          78,
          78,
          78,
          78,
          78,
          78,
          78,
          78,
          78,
          78,
          78,
          78,
          78,
          78,
          78,
          78,
          78,
          78,
          78,
          78,
          78,
          78,
          78,
          78,
          78,
          78,
          78,
          78,
          78,
          78,
          78,
          78,
          78,
          78,
          78,
          78,
          78,
          78,
          78,
          78,
          78,
          78,
          78,
          78,
          78,
          78,
          78,
          78,
          78,
          78,
          78,
          78,
          78,
          78,
          78,
          78,
          78,
          78,
          78,
          78,
          78,
          78,
          78,
          78,
          78,
          78,
          78,
          78,
          78,
          78,
          78,
          78,
          78,
          78,
          78,
          78,
          78,
          78,
          78,
          78,
          78,
          78,
          78,
          78,
          78,
          78,
          78,
          78,
          78,
          78,
          78,
          78,
          78,
          78,
          78,
          78,
          78,
          78,
          78,
          78,
          78,
          78,
          78,
          78,
          78,
          78,
          78,
          78,
          78,
          78
         ],
         "yaxis": "y"
        },
        {
         "hovertemplate": "Data Type=Actual<br>time=%{x}<br>Time=%{y}<extra></extra>",
         "legendgroup": "Actual",
         "line": {
          "color": "#EF553B",
          "dash": "solid"
         },
         "marker": {
          "symbol": "circle"
         },
         "mode": "lines+markers",
         "name": "Actual",
         "orientation": "v",
         "showlegend": true,
         "type": "scatter",
         "x": [
          2895,
          2896,
          2904,
          2916,
          2917,
          2918,
          2943,
          2944,
          2959,
          2960,
          2961,
          2962,
          2963,
          2964,
          2971,
          2993,
          2994,
          2995,
          2996,
          2997,
          2998,
          3001,
          3002,
          3004,
          3005,
          3006,
          3009,
          3010,
          3013,
          3014,
          3045,
          3046,
          3048,
          3049,
          3050,
          3051,
          3060,
          3061,
          3085,
          3087,
          3088,
          3100,
          3106,
          3108,
          3109,
          3110,
          3116,
          3183,
          3184,
          3185,
          3200,
          3202,
          3204,
          3205,
          3231,
          3232,
          3241,
          3252,
          3253,
          3255,
          3256,
          3279,
          3280,
          3289,
          3293,
          3294,
          3295,
          3298,
          3299,
          3300,
          3301,
          3302,
          3310,
          3311,
          3331,
          3333,
          3334,
          3335,
          3336,
          3337,
          3338,
          3339,
          3342,
          3347,
          3348,
          3377,
          3378,
          3379,
          3380,
          3381,
          3382,
          3383,
          3395,
          3399,
          3400,
          3423,
          3424,
          3442,
          3445,
          3447,
          3471,
          3472,
          3477,
          3478,
          3479,
          3480,
          3490,
          3491,
          3492,
          3493,
          3494,
          3495,
          3519,
          3520,
          3529,
          3540,
          3541,
          3542,
          3567,
          3568,
          3569,
          3588,
          3589
         ],
         "xaxis": "x",
         "y": [
          67,
          78,
          79,
          79,
          75,
          66,
          72,
          78,
          79,
          75,
          78,
          78,
          79,
          80,
          66,
          66,
          66,
          68,
          68,
          74,
          70,
          66,
          50,
          50,
          60,
          66,
          68,
          76,
          76,
          66,
          75,
          78,
          78,
          74,
          68,
          66,
          67,
          70,
          66,
          68,
          77,
          79,
          79,
          79,
          68,
          66,
          66,
          68,
          78,
          79,
          78,
          79,
          77,
          66,
          74,
          78,
          79,
          79,
          72,
          66,
          66,
          68,
          78,
          79,
          79,
          78,
          79,
          77,
          71,
          67,
          67,
          68,
          66,
          66,
          67,
          69,
          73,
          72,
          69,
          66,
          68,
          70,
          74,
          78,
          75,
          67,
          66,
          69,
          66,
          68,
          69,
          73,
          72,
          74,
          71,
          68,
          78,
          78,
          66,
          67,
          68,
          78,
          79,
          77,
          79,
          74,
          79,
          78,
          66,
          66,
          68,
          66,
          68,
          78,
          79,
          78,
          78,
          79,
          75,
          79,
          79,
          78,
          66
         ],
         "yaxis": "y"
        }
       ],
       "layout": {
        "legend": {
         "title": {
          "text": "Data Type"
         },
         "tracegroupgap": 0
        },
        "template": {
         "data": {
          "bar": [
           {
            "error_x": {
             "color": "#2a3f5f"
            },
            "error_y": {
             "color": "#2a3f5f"
            },
            "marker": {
             "line": {
              "color": "#E5ECF6",
              "width": 0.5
             },
             "pattern": {
              "fillmode": "overlay",
              "size": 10,
              "solidity": 0.2
             }
            },
            "type": "bar"
           }
          ],
          "barpolar": [
           {
            "marker": {
             "line": {
              "color": "#E5ECF6",
              "width": 0.5
             },
             "pattern": {
              "fillmode": "overlay",
              "size": 10,
              "solidity": 0.2
             }
            },
            "type": "barpolar"
           }
          ],
          "carpet": [
           {
            "aaxis": {
             "endlinecolor": "#2a3f5f",
             "gridcolor": "white",
             "linecolor": "white",
             "minorgridcolor": "white",
             "startlinecolor": "#2a3f5f"
            },
            "baxis": {
             "endlinecolor": "#2a3f5f",
             "gridcolor": "white",
             "linecolor": "white",
             "minorgridcolor": "white",
             "startlinecolor": "#2a3f5f"
            },
            "type": "carpet"
           }
          ],
          "choropleth": [
           {
            "colorbar": {
             "outlinewidth": 0,
             "ticks": ""
            },
            "type": "choropleth"
           }
          ],
          "contour": [
           {
            "colorbar": {
             "outlinewidth": 0,
             "ticks": ""
            },
            "colorscale": [
             [
              0,
              "#0d0887"
             ],
             [
              0.1111111111111111,
              "#46039f"
             ],
             [
              0.2222222222222222,
              "#7201a8"
             ],
             [
              0.3333333333333333,
              "#9c179e"
             ],
             [
              0.4444444444444444,
              "#bd3786"
             ],
             [
              0.5555555555555556,
              "#d8576b"
             ],
             [
              0.6666666666666666,
              "#ed7953"
             ],
             [
              0.7777777777777778,
              "#fb9f3a"
             ],
             [
              0.8888888888888888,
              "#fdca26"
             ],
             [
              1,
              "#f0f921"
             ]
            ],
            "type": "contour"
           }
          ],
          "contourcarpet": [
           {
            "colorbar": {
             "outlinewidth": 0,
             "ticks": ""
            },
            "type": "contourcarpet"
           }
          ],
          "heatmap": [
           {
            "colorbar": {
             "outlinewidth": 0,
             "ticks": ""
            },
            "colorscale": [
             [
              0,
              "#0d0887"
             ],
             [
              0.1111111111111111,
              "#46039f"
             ],
             [
              0.2222222222222222,
              "#7201a8"
             ],
             [
              0.3333333333333333,
              "#9c179e"
             ],
             [
              0.4444444444444444,
              "#bd3786"
             ],
             [
              0.5555555555555556,
              "#d8576b"
             ],
             [
              0.6666666666666666,
              "#ed7953"
             ],
             [
              0.7777777777777778,
              "#fb9f3a"
             ],
             [
              0.8888888888888888,
              "#fdca26"
             ],
             [
              1,
              "#f0f921"
             ]
            ],
            "type": "heatmap"
           }
          ],
          "heatmapgl": [
           {
            "colorbar": {
             "outlinewidth": 0,
             "ticks": ""
            },
            "colorscale": [
             [
              0,
              "#0d0887"
             ],
             [
              0.1111111111111111,
              "#46039f"
             ],
             [
              0.2222222222222222,
              "#7201a8"
             ],
             [
              0.3333333333333333,
              "#9c179e"
             ],
             [
              0.4444444444444444,
              "#bd3786"
             ],
             [
              0.5555555555555556,
              "#d8576b"
             ],
             [
              0.6666666666666666,
              "#ed7953"
             ],
             [
              0.7777777777777778,
              "#fb9f3a"
             ],
             [
              0.8888888888888888,
              "#fdca26"
             ],
             [
              1,
              "#f0f921"
             ]
            ],
            "type": "heatmapgl"
           }
          ],
          "histogram": [
           {
            "marker": {
             "pattern": {
              "fillmode": "overlay",
              "size": 10,
              "solidity": 0.2
             }
            },
            "type": "histogram"
           }
          ],
          "histogram2d": [
           {
            "colorbar": {
             "outlinewidth": 0,
             "ticks": ""
            },
            "colorscale": [
             [
              0,
              "#0d0887"
             ],
             [
              0.1111111111111111,
              "#46039f"
             ],
             [
              0.2222222222222222,
              "#7201a8"
             ],
             [
              0.3333333333333333,
              "#9c179e"
             ],
             [
              0.4444444444444444,
              "#bd3786"
             ],
             [
              0.5555555555555556,
              "#d8576b"
             ],
             [
              0.6666666666666666,
              "#ed7953"
             ],
             [
              0.7777777777777778,
              "#fb9f3a"
             ],
             [
              0.8888888888888888,
              "#fdca26"
             ],
             [
              1,
              "#f0f921"
             ]
            ],
            "type": "histogram2d"
           }
          ],
          "histogram2dcontour": [
           {
            "colorbar": {
             "outlinewidth": 0,
             "ticks": ""
            },
            "colorscale": [
             [
              0,
              "#0d0887"
             ],
             [
              0.1111111111111111,
              "#46039f"
             ],
             [
              0.2222222222222222,
              "#7201a8"
             ],
             [
              0.3333333333333333,
              "#9c179e"
             ],
             [
              0.4444444444444444,
              "#bd3786"
             ],
             [
              0.5555555555555556,
              "#d8576b"
             ],
             [
              0.6666666666666666,
              "#ed7953"
             ],
             [
              0.7777777777777778,
              "#fb9f3a"
             ],
             [
              0.8888888888888888,
              "#fdca26"
             ],
             [
              1,
              "#f0f921"
             ]
            ],
            "type": "histogram2dcontour"
           }
          ],
          "mesh3d": [
           {
            "colorbar": {
             "outlinewidth": 0,
             "ticks": ""
            },
            "type": "mesh3d"
           }
          ],
          "parcoords": [
           {
            "line": {
             "colorbar": {
              "outlinewidth": 0,
              "ticks": ""
             }
            },
            "type": "parcoords"
           }
          ],
          "pie": [
           {
            "automargin": true,
            "type": "pie"
           }
          ],
          "scatter": [
           {
            "fillpattern": {
             "fillmode": "overlay",
             "size": 10,
             "solidity": 0.2
            },
            "type": "scatter"
           }
          ],
          "scatter3d": [
           {
            "line": {
             "colorbar": {
              "outlinewidth": 0,
              "ticks": ""
             }
            },
            "marker": {
             "colorbar": {
              "outlinewidth": 0,
              "ticks": ""
             }
            },
            "type": "scatter3d"
           }
          ],
          "scattercarpet": [
           {
            "marker": {
             "colorbar": {
              "outlinewidth": 0,
              "ticks": ""
             }
            },
            "type": "scattercarpet"
           }
          ],
          "scattergeo": [
           {
            "marker": {
             "colorbar": {
              "outlinewidth": 0,
              "ticks": ""
             }
            },
            "type": "scattergeo"
           }
          ],
          "scattergl": [
           {
            "marker": {
             "colorbar": {
              "outlinewidth": 0,
              "ticks": ""
             }
            },
            "type": "scattergl"
           }
          ],
          "scattermapbox": [
           {
            "marker": {
             "colorbar": {
              "outlinewidth": 0,
              "ticks": ""
             }
            },
            "type": "scattermapbox"
           }
          ],
          "scatterpolar": [
           {
            "marker": {
             "colorbar": {
              "outlinewidth": 0,
              "ticks": ""
             }
            },
            "type": "scatterpolar"
           }
          ],
          "scatterpolargl": [
           {
            "marker": {
             "colorbar": {
              "outlinewidth": 0,
              "ticks": ""
             }
            },
            "type": "scatterpolargl"
           }
          ],
          "scatterternary": [
           {
            "marker": {
             "colorbar": {
              "outlinewidth": 0,
              "ticks": ""
             }
            },
            "type": "scatterternary"
           }
          ],
          "surface": [
           {
            "colorbar": {
             "outlinewidth": 0,
             "ticks": ""
            },
            "colorscale": [
             [
              0,
              "#0d0887"
             ],
             [
              0.1111111111111111,
              "#46039f"
             ],
             [
              0.2222222222222222,
              "#7201a8"
             ],
             [
              0.3333333333333333,
              "#9c179e"
             ],
             [
              0.4444444444444444,
              "#bd3786"
             ],
             [
              0.5555555555555556,
              "#d8576b"
             ],
             [
              0.6666666666666666,
              "#ed7953"
             ],
             [
              0.7777777777777778,
              "#fb9f3a"
             ],
             [
              0.8888888888888888,
              "#fdca26"
             ],
             [
              1,
              "#f0f921"
             ]
            ],
            "type": "surface"
           }
          ],
          "table": [
           {
            "cells": {
             "fill": {
              "color": "#EBF0F8"
             },
             "line": {
              "color": "white"
             }
            },
            "header": {
             "fill": {
              "color": "#C8D4E3"
             },
             "line": {
              "color": "white"
             }
            },
            "type": "table"
           }
          ]
         },
         "layout": {
          "annotationdefaults": {
           "arrowcolor": "#2a3f5f",
           "arrowhead": 0,
           "arrowwidth": 1
          },
          "autotypenumbers": "strict",
          "coloraxis": {
           "colorbar": {
            "outlinewidth": 0,
            "ticks": ""
           }
          },
          "colorscale": {
           "diverging": [
            [
             0,
             "#8e0152"
            ],
            [
             0.1,
             "#c51b7d"
            ],
            [
             0.2,
             "#de77ae"
            ],
            [
             0.3,
             "#f1b6da"
            ],
            [
             0.4,
             "#fde0ef"
            ],
            [
             0.5,
             "#f7f7f7"
            ],
            [
             0.6,
             "#e6f5d0"
            ],
            [
             0.7,
             "#b8e186"
            ],
            [
             0.8,
             "#7fbc41"
            ],
            [
             0.9,
             "#4d9221"
            ],
            [
             1,
             "#276419"
            ]
           ],
           "sequential": [
            [
             0,
             "#0d0887"
            ],
            [
             0.1111111111111111,
             "#46039f"
            ],
            [
             0.2222222222222222,
             "#7201a8"
            ],
            [
             0.3333333333333333,
             "#9c179e"
            ],
            [
             0.4444444444444444,
             "#bd3786"
            ],
            [
             0.5555555555555556,
             "#d8576b"
            ],
            [
             0.6666666666666666,
             "#ed7953"
            ],
            [
             0.7777777777777778,
             "#fb9f3a"
            ],
            [
             0.8888888888888888,
             "#fdca26"
            ],
            [
             1,
             "#f0f921"
            ]
           ],
           "sequentialminus": [
            [
             0,
             "#0d0887"
            ],
            [
             0.1111111111111111,
             "#46039f"
            ],
            [
             0.2222222222222222,
             "#7201a8"
            ],
            [
             0.3333333333333333,
             "#9c179e"
            ],
            [
             0.4444444444444444,
             "#bd3786"
            ],
            [
             0.5555555555555556,
             "#d8576b"
            ],
            [
             0.6666666666666666,
             "#ed7953"
            ],
            [
             0.7777777777777778,
             "#fb9f3a"
            ],
            [
             0.8888888888888888,
             "#fdca26"
            ],
            [
             1,
             "#f0f921"
            ]
           ]
          },
          "colorway": [
           "#636efa",
           "#EF553B",
           "#00cc96",
           "#ab63fa",
           "#FFA15A",
           "#19d3f3",
           "#FF6692",
           "#B6E880",
           "#FF97FF",
           "#FECB52"
          ],
          "font": {
           "color": "#2a3f5f"
          },
          "geo": {
           "bgcolor": "white",
           "lakecolor": "white",
           "landcolor": "#E5ECF6",
           "showlakes": true,
           "showland": true,
           "subunitcolor": "white"
          },
          "hoverlabel": {
           "align": "left"
          },
          "hovermode": "closest",
          "mapbox": {
           "style": "light"
          },
          "paper_bgcolor": "white",
          "plot_bgcolor": "#E5ECF6",
          "polar": {
           "angularaxis": {
            "gridcolor": "white",
            "linecolor": "white",
            "ticks": ""
           },
           "bgcolor": "#E5ECF6",
           "radialaxis": {
            "gridcolor": "white",
            "linecolor": "white",
            "ticks": ""
           }
          },
          "scene": {
           "xaxis": {
            "backgroundcolor": "#E5ECF6",
            "gridcolor": "white",
            "gridwidth": 2,
            "linecolor": "white",
            "showbackground": true,
            "ticks": "",
            "zerolinecolor": "white"
           },
           "yaxis": {
            "backgroundcolor": "#E5ECF6",
            "gridcolor": "white",
            "gridwidth": 2,
            "linecolor": "white",
            "showbackground": true,
            "ticks": "",
            "zerolinecolor": "white"
           },
           "zaxis": {
            "backgroundcolor": "#E5ECF6",
            "gridcolor": "white",
            "gridwidth": 2,
            "linecolor": "white",
            "showbackground": true,
            "ticks": "",
            "zerolinecolor": "white"
           }
          },
          "shapedefaults": {
           "line": {
            "color": "#2a3f5f"
           }
          },
          "ternary": {
           "aaxis": {
            "gridcolor": "white",
            "linecolor": "white",
            "ticks": ""
           },
           "baxis": {
            "gridcolor": "white",
            "linecolor": "white",
            "ticks": ""
           },
           "bgcolor": "#E5ECF6",
           "caxis": {
            "gridcolor": "white",
            "linecolor": "white",
            "ticks": ""
           }
          },
          "title": {
           "x": 0.05
          },
          "xaxis": {
           "automargin": true,
           "gridcolor": "white",
           "linecolor": "white",
           "ticks": "",
           "title": {
            "standoff": 15
           },
           "zerolinecolor": "white",
           "zerolinewidth": 2
          },
          "yaxis": {
           "automargin": true,
           "gridcolor": "white",
           "linecolor": "white",
           "ticks": "",
           "title": {
            "standoff": 15
           },
           "zerolinecolor": "white",
           "zerolinewidth": 2
          }
         }
        },
        "title": {
         "text": "User X Position Over Time"
        },
        "xaxis": {
         "anchor": "y",
         "domain": [
          0,
          1
         ],
         "title": {
          "text": "time"
         }
        },
        "yaxis": {
         "anchor": "x",
         "domain": [
          0,
          1
         ],
         "range": [
          0,
          200
         ],
         "title": {
          "text": "Time"
         }
        }
       }
      },
      "text/html": [
       "<div>                            <div id=\"34541a1c-0713-4ad0-bb0d-e938a8da1e36\" class=\"plotly-graph-div\" style=\"height:525px; width:100%;\"></div>            <script type=\"text/javascript\">                require([\"plotly\"], function(Plotly) {                    window.PLOTLYENV=window.PLOTLYENV || {};                                    if (document.getElementById(\"34541a1c-0713-4ad0-bb0d-e938a8da1e36\")) {                    Plotly.newPlot(                        \"34541a1c-0713-4ad0-bb0d-e938a8da1e36\",                        [{\"hovertemplate\":\"Data Type=Prediction\\u003cbr\\u003etime=%{x}\\u003cbr\\u003eTime=%{y}\\u003cextra\\u003e\\u003c\\u002fextra\\u003e\",\"legendgroup\":\"Prediction\",\"line\":{\"color\":\"#636efa\",\"dash\":\"solid\"},\"marker\":{\"symbol\":\"circle\"},\"mode\":\"lines+markers\",\"name\":\"Prediction\",\"orientation\":\"v\",\"showlegend\":true,\"x\":[2895,2896,2904,2916,2917,2918,2943,2944,2959,2960,2961,2962,2963,2964,2971,2993,2994,2995,2996,2997,2998,3001,3002,3004,3005,3006,3009,3010,3013,3014,3045,3046,3048,3049,3050,3051,3060,3061,3085,3087,3088,3100,3106,3108,3109,3110,3116,3183,3184,3185,3200,3202,3204,3205,3231,3232,3241,3252,3253,3255,3256,3279,3280,3289,3293,3294,3295,3298,3299,3300,3301,3302,3310,3311,3331,3333,3334,3335,3336,3337,3338,3339,3342,3347,3348,3377,3378,3379,3380,3381,3382,3383,3395,3399,3400,3423,3424,3442,3445,3447,3471,3472,3477,3478,3479,3480,3490,3491,3492,3493,3494,3495,3519,3520,3529,3540,3541,3542,3567,3568,3569,3588,3589],\"xaxis\":\"x\",\"y\":[78,78,78,78,78,78,78,78,78,78,78,78,78,78,78,78,78,78,78,78,78,78,78,78,78,78,78,78,78,78,78,78,78,78,78,78,78,78,78,78,78,78,78,78,78,78,78,78,78,78,78,78,78,78,78,78,78,78,78,78,78,78,78,78,78,78,78,78,78,78,78,78,78,78,78,78,78,78,78,78,78,78,78,78,78,78,78,78,78,78,78,78,78,78,78,78,78,78,78,78,78,78,78,78,78,78,78,78,78,78,78,78,78,78,78,78,78,78,78,78,78,78,78],\"yaxis\":\"y\",\"type\":\"scatter\"},{\"hovertemplate\":\"Data Type=Actual\\u003cbr\\u003etime=%{x}\\u003cbr\\u003eTime=%{y}\\u003cextra\\u003e\\u003c\\u002fextra\\u003e\",\"legendgroup\":\"Actual\",\"line\":{\"color\":\"#EF553B\",\"dash\":\"solid\"},\"marker\":{\"symbol\":\"circle\"},\"mode\":\"lines+markers\",\"name\":\"Actual\",\"orientation\":\"v\",\"showlegend\":true,\"x\":[2895,2896,2904,2916,2917,2918,2943,2944,2959,2960,2961,2962,2963,2964,2971,2993,2994,2995,2996,2997,2998,3001,3002,3004,3005,3006,3009,3010,3013,3014,3045,3046,3048,3049,3050,3051,3060,3061,3085,3087,3088,3100,3106,3108,3109,3110,3116,3183,3184,3185,3200,3202,3204,3205,3231,3232,3241,3252,3253,3255,3256,3279,3280,3289,3293,3294,3295,3298,3299,3300,3301,3302,3310,3311,3331,3333,3334,3335,3336,3337,3338,3339,3342,3347,3348,3377,3378,3379,3380,3381,3382,3383,3395,3399,3400,3423,3424,3442,3445,3447,3471,3472,3477,3478,3479,3480,3490,3491,3492,3493,3494,3495,3519,3520,3529,3540,3541,3542,3567,3568,3569,3588,3589],\"xaxis\":\"x\",\"y\":[67,78,79,79,75,66,72,78,79,75,78,78,79,80,66,66,66,68,68,74,70,66,50,50,60,66,68,76,76,66,75,78,78,74,68,66,67,70,66,68,77,79,79,79,68,66,66,68,78,79,78,79,77,66,74,78,79,79,72,66,66,68,78,79,79,78,79,77,71,67,67,68,66,66,67,69,73,72,69,66,68,70,74,78,75,67,66,69,66,68,69,73,72,74,71,68,78,78,66,67,68,78,79,77,79,74,79,78,66,66,68,66,68,78,79,78,78,79,75,79,79,78,66],\"yaxis\":\"y\",\"type\":\"scatter\"}],                        {\"template\":{\"data\":{\"histogram2dcontour\":[{\"type\":\"histogram2dcontour\",\"colorbar\":{\"outlinewidth\":0,\"ticks\":\"\"},\"colorscale\":[[0.0,\"#0d0887\"],[0.1111111111111111,\"#46039f\"],[0.2222222222222222,\"#7201a8\"],[0.3333333333333333,\"#9c179e\"],[0.4444444444444444,\"#bd3786\"],[0.5555555555555556,\"#d8576b\"],[0.6666666666666666,\"#ed7953\"],[0.7777777777777778,\"#fb9f3a\"],[0.8888888888888888,\"#fdca26\"],[1.0,\"#f0f921\"]]}],\"choropleth\":[{\"type\":\"choropleth\",\"colorbar\":{\"outlinewidth\":0,\"ticks\":\"\"}}],\"histogram2d\":[{\"type\":\"histogram2d\",\"colorbar\":{\"outlinewidth\":0,\"ticks\":\"\"},\"colorscale\":[[0.0,\"#0d0887\"],[0.1111111111111111,\"#46039f\"],[0.2222222222222222,\"#7201a8\"],[0.3333333333333333,\"#9c179e\"],[0.4444444444444444,\"#bd3786\"],[0.5555555555555556,\"#d8576b\"],[0.6666666666666666,\"#ed7953\"],[0.7777777777777778,\"#fb9f3a\"],[0.8888888888888888,\"#fdca26\"],[1.0,\"#f0f921\"]]}],\"heatmap\":[{\"type\":\"heatmap\",\"colorbar\":{\"outlinewidth\":0,\"ticks\":\"\"},\"colorscale\":[[0.0,\"#0d0887\"],[0.1111111111111111,\"#46039f\"],[0.2222222222222222,\"#7201a8\"],[0.3333333333333333,\"#9c179e\"],[0.4444444444444444,\"#bd3786\"],[0.5555555555555556,\"#d8576b\"],[0.6666666666666666,\"#ed7953\"],[0.7777777777777778,\"#fb9f3a\"],[0.8888888888888888,\"#fdca26\"],[1.0,\"#f0f921\"]]}],\"heatmapgl\":[{\"type\":\"heatmapgl\",\"colorbar\":{\"outlinewidth\":0,\"ticks\":\"\"},\"colorscale\":[[0.0,\"#0d0887\"],[0.1111111111111111,\"#46039f\"],[0.2222222222222222,\"#7201a8\"],[0.3333333333333333,\"#9c179e\"],[0.4444444444444444,\"#bd3786\"],[0.5555555555555556,\"#d8576b\"],[0.6666666666666666,\"#ed7953\"],[0.7777777777777778,\"#fb9f3a\"],[0.8888888888888888,\"#fdca26\"],[1.0,\"#f0f921\"]]}],\"contourcarpet\":[{\"type\":\"contourcarpet\",\"colorbar\":{\"outlinewidth\":0,\"ticks\":\"\"}}],\"contour\":[{\"type\":\"contour\",\"colorbar\":{\"outlinewidth\":0,\"ticks\":\"\"},\"colorscale\":[[0.0,\"#0d0887\"],[0.1111111111111111,\"#46039f\"],[0.2222222222222222,\"#7201a8\"],[0.3333333333333333,\"#9c179e\"],[0.4444444444444444,\"#bd3786\"],[0.5555555555555556,\"#d8576b\"],[0.6666666666666666,\"#ed7953\"],[0.7777777777777778,\"#fb9f3a\"],[0.8888888888888888,\"#fdca26\"],[1.0,\"#f0f921\"]]}],\"surface\":[{\"type\":\"surface\",\"colorbar\":{\"outlinewidth\":0,\"ticks\":\"\"},\"colorscale\":[[0.0,\"#0d0887\"],[0.1111111111111111,\"#46039f\"],[0.2222222222222222,\"#7201a8\"],[0.3333333333333333,\"#9c179e\"],[0.4444444444444444,\"#bd3786\"],[0.5555555555555556,\"#d8576b\"],[0.6666666666666666,\"#ed7953\"],[0.7777777777777778,\"#fb9f3a\"],[0.8888888888888888,\"#fdca26\"],[1.0,\"#f0f921\"]]}],\"mesh3d\":[{\"type\":\"mesh3d\",\"colorbar\":{\"outlinewidth\":0,\"ticks\":\"\"}}],\"scatter\":[{\"fillpattern\":{\"fillmode\":\"overlay\",\"size\":10,\"solidity\":0.2},\"type\":\"scatter\"}],\"parcoords\":[{\"type\":\"parcoords\",\"line\":{\"colorbar\":{\"outlinewidth\":0,\"ticks\":\"\"}}}],\"scatterpolargl\":[{\"type\":\"scatterpolargl\",\"marker\":{\"colorbar\":{\"outlinewidth\":0,\"ticks\":\"\"}}}],\"bar\":[{\"error_x\":{\"color\":\"#2a3f5f\"},\"error_y\":{\"color\":\"#2a3f5f\"},\"marker\":{\"line\":{\"color\":\"#E5ECF6\",\"width\":0.5},\"pattern\":{\"fillmode\":\"overlay\",\"size\":10,\"solidity\":0.2}},\"type\":\"bar\"}],\"scattergeo\":[{\"type\":\"scattergeo\",\"marker\":{\"colorbar\":{\"outlinewidth\":0,\"ticks\":\"\"}}}],\"scatterpolar\":[{\"type\":\"scatterpolar\",\"marker\":{\"colorbar\":{\"outlinewidth\":0,\"ticks\":\"\"}}}],\"histogram\":[{\"marker\":{\"pattern\":{\"fillmode\":\"overlay\",\"size\":10,\"solidity\":0.2}},\"type\":\"histogram\"}],\"scattergl\":[{\"type\":\"scattergl\",\"marker\":{\"colorbar\":{\"outlinewidth\":0,\"ticks\":\"\"}}}],\"scatter3d\":[{\"type\":\"scatter3d\",\"line\":{\"colorbar\":{\"outlinewidth\":0,\"ticks\":\"\"}},\"marker\":{\"colorbar\":{\"outlinewidth\":0,\"ticks\":\"\"}}}],\"scattermapbox\":[{\"type\":\"scattermapbox\",\"marker\":{\"colorbar\":{\"outlinewidth\":0,\"ticks\":\"\"}}}],\"scatterternary\":[{\"type\":\"scatterternary\",\"marker\":{\"colorbar\":{\"outlinewidth\":0,\"ticks\":\"\"}}}],\"scattercarpet\":[{\"type\":\"scattercarpet\",\"marker\":{\"colorbar\":{\"outlinewidth\":0,\"ticks\":\"\"}}}],\"carpet\":[{\"aaxis\":{\"endlinecolor\":\"#2a3f5f\",\"gridcolor\":\"white\",\"linecolor\":\"white\",\"minorgridcolor\":\"white\",\"startlinecolor\":\"#2a3f5f\"},\"baxis\":{\"endlinecolor\":\"#2a3f5f\",\"gridcolor\":\"white\",\"linecolor\":\"white\",\"minorgridcolor\":\"white\",\"startlinecolor\":\"#2a3f5f\"},\"type\":\"carpet\"}],\"table\":[{\"cells\":{\"fill\":{\"color\":\"#EBF0F8\"},\"line\":{\"color\":\"white\"}},\"header\":{\"fill\":{\"color\":\"#C8D4E3\"},\"line\":{\"color\":\"white\"}},\"type\":\"table\"}],\"barpolar\":[{\"marker\":{\"line\":{\"color\":\"#E5ECF6\",\"width\":0.5},\"pattern\":{\"fillmode\":\"overlay\",\"size\":10,\"solidity\":0.2}},\"type\":\"barpolar\"}],\"pie\":[{\"automargin\":true,\"type\":\"pie\"}]},\"layout\":{\"autotypenumbers\":\"strict\",\"colorway\":[\"#636efa\",\"#EF553B\",\"#00cc96\",\"#ab63fa\",\"#FFA15A\",\"#19d3f3\",\"#FF6692\",\"#B6E880\",\"#FF97FF\",\"#FECB52\"],\"font\":{\"color\":\"#2a3f5f\"},\"hovermode\":\"closest\",\"hoverlabel\":{\"align\":\"left\"},\"paper_bgcolor\":\"white\",\"plot_bgcolor\":\"#E5ECF6\",\"polar\":{\"bgcolor\":\"#E5ECF6\",\"angularaxis\":{\"gridcolor\":\"white\",\"linecolor\":\"white\",\"ticks\":\"\"},\"radialaxis\":{\"gridcolor\":\"white\",\"linecolor\":\"white\",\"ticks\":\"\"}},\"ternary\":{\"bgcolor\":\"#E5ECF6\",\"aaxis\":{\"gridcolor\":\"white\",\"linecolor\":\"white\",\"ticks\":\"\"},\"baxis\":{\"gridcolor\":\"white\",\"linecolor\":\"white\",\"ticks\":\"\"},\"caxis\":{\"gridcolor\":\"white\",\"linecolor\":\"white\",\"ticks\":\"\"}},\"coloraxis\":{\"colorbar\":{\"outlinewidth\":0,\"ticks\":\"\"}},\"colorscale\":{\"sequential\":[[0.0,\"#0d0887\"],[0.1111111111111111,\"#46039f\"],[0.2222222222222222,\"#7201a8\"],[0.3333333333333333,\"#9c179e\"],[0.4444444444444444,\"#bd3786\"],[0.5555555555555556,\"#d8576b\"],[0.6666666666666666,\"#ed7953\"],[0.7777777777777778,\"#fb9f3a\"],[0.8888888888888888,\"#fdca26\"],[1.0,\"#f0f921\"]],\"sequentialminus\":[[0.0,\"#0d0887\"],[0.1111111111111111,\"#46039f\"],[0.2222222222222222,\"#7201a8\"],[0.3333333333333333,\"#9c179e\"],[0.4444444444444444,\"#bd3786\"],[0.5555555555555556,\"#d8576b\"],[0.6666666666666666,\"#ed7953\"],[0.7777777777777778,\"#fb9f3a\"],[0.8888888888888888,\"#fdca26\"],[1.0,\"#f0f921\"]],\"diverging\":[[0,\"#8e0152\"],[0.1,\"#c51b7d\"],[0.2,\"#de77ae\"],[0.3,\"#f1b6da\"],[0.4,\"#fde0ef\"],[0.5,\"#f7f7f7\"],[0.6,\"#e6f5d0\"],[0.7,\"#b8e186\"],[0.8,\"#7fbc41\"],[0.9,\"#4d9221\"],[1,\"#276419\"]]},\"xaxis\":{\"gridcolor\":\"white\",\"linecolor\":\"white\",\"ticks\":\"\",\"title\":{\"standoff\":15},\"zerolinecolor\":\"white\",\"automargin\":true,\"zerolinewidth\":2},\"yaxis\":{\"gridcolor\":\"white\",\"linecolor\":\"white\",\"ticks\":\"\",\"title\":{\"standoff\":15},\"zerolinecolor\":\"white\",\"automargin\":true,\"zerolinewidth\":2},\"scene\":{\"xaxis\":{\"backgroundcolor\":\"#E5ECF6\",\"gridcolor\":\"white\",\"linecolor\":\"white\",\"showbackground\":true,\"ticks\":\"\",\"zerolinecolor\":\"white\",\"gridwidth\":2},\"yaxis\":{\"backgroundcolor\":\"#E5ECF6\",\"gridcolor\":\"white\",\"linecolor\":\"white\",\"showbackground\":true,\"ticks\":\"\",\"zerolinecolor\":\"white\",\"gridwidth\":2},\"zaxis\":{\"backgroundcolor\":\"#E5ECF6\",\"gridcolor\":\"white\",\"linecolor\":\"white\",\"showbackground\":true,\"ticks\":\"\",\"zerolinecolor\":\"white\",\"gridwidth\":2}},\"shapedefaults\":{\"line\":{\"color\":\"#2a3f5f\"}},\"annotationdefaults\":{\"arrowcolor\":\"#2a3f5f\",\"arrowhead\":0,\"arrowwidth\":1},\"geo\":{\"bgcolor\":\"white\",\"landcolor\":\"#E5ECF6\",\"subunitcolor\":\"white\",\"showland\":true,\"showlakes\":true,\"lakecolor\":\"white\"},\"title\":{\"x\":0.05},\"mapbox\":{\"style\":\"light\"}}},\"xaxis\":{\"anchor\":\"y\",\"domain\":[0.0,1.0],\"title\":{\"text\":\"time\"}},\"yaxis\":{\"anchor\":\"x\",\"domain\":[0.0,1.0],\"title\":{\"text\":\"Time\"},\"range\":[0,200]},\"legend\":{\"title\":{\"text\":\"Data Type\"},\"tracegroupgap\":0},\"title\":{\"text\":\"User X Position Over Time\"}},                        {\"responsive\": true}                    ).then(function(){\n",
       "                            \n",
       "var gd = document.getElementById('34541a1c-0713-4ad0-bb0d-e938a8da1e36');\n",
       "var x = new MutationObserver(function (mutations, observer) {{\n",
       "        var display = window.getComputedStyle(gd).display;\n",
       "        if (!display || display === 'none') {{\n",
       "            console.log([gd, 'removed!']);\n",
       "            Plotly.purge(gd);\n",
       "            observer.disconnect();\n",
       "        }}\n",
       "}});\n",
       "\n",
       "// Listen for the removal of the full notebook cells\n",
       "var notebookContainer = gd.closest('#notebook-container');\n",
       "if (notebookContainer) {{\n",
       "    x.observe(notebookContainer, {childList: true});\n",
       "}}\n",
       "\n",
       "// Listen for the clearing of the current output cell\n",
       "var outputEl = gd.closest('.output');\n",
       "if (outputEl) {{\n",
       "    x.observe(outputEl, {childList: true});\n",
       "}}\n",
       "\n",
       "                        })                };                });            </script>        </div>"
      ]
     },
     "metadata": {},
     "output_type": "display_data"
    },
    {
     "data": {
      "application/vnd.plotly.v1+json": {
       "config": {
        "plotlyServerURL": "https://plot.ly"
       },
       "data": [
        {
         "hovertemplate": "Data Type=Prediction<br>time=%{x}<br>Y Position=%{y}<extra></extra>",
         "legendgroup": "Prediction",
         "line": {
          "color": "#636efa",
          "dash": "solid"
         },
         "marker": {
          "symbol": "circle"
         },
         "mode": "lines+markers",
         "name": "Prediction",
         "orientation": "v",
         "showlegend": true,
         "type": "scatter",
         "x": [
          2895,
          2896,
          2904,
          2916,
          2917,
          2918,
          2943,
          2944,
          2959,
          2960,
          2961,
          2962,
          2963,
          2964,
          2971,
          2993,
          2994,
          2995,
          2996,
          2997,
          2998,
          3001,
          3002,
          3004,
          3005,
          3006,
          3009,
          3010,
          3013,
          3014,
          3045,
          3046,
          3048,
          3049,
          3050,
          3051,
          3060,
          3061,
          3085,
          3087,
          3088,
          3100,
          3106,
          3108,
          3109,
          3110,
          3116,
          3183,
          3184,
          3185,
          3200,
          3202,
          3204,
          3205,
          3231,
          3232,
          3241,
          3252,
          3253,
          3255,
          3256,
          3279,
          3280,
          3289,
          3293,
          3294,
          3295,
          3298,
          3299,
          3300,
          3301,
          3302,
          3310,
          3311,
          3331,
          3333,
          3334,
          3335,
          3336,
          3337,
          3338,
          3339,
          3342,
          3347,
          3348,
          3377,
          3378,
          3379,
          3380,
          3381,
          3382,
          3383,
          3395,
          3399,
          3400,
          3423,
          3424,
          3442,
          3445,
          3447,
          3471,
          3472,
          3477,
          3478,
          3479,
          3480,
          3490,
          3491,
          3492,
          3493,
          3494,
          3495,
          3519,
          3520,
          3529,
          3540,
          3541,
          3542,
          3567,
          3568,
          3569,
          3588,
          3589
         ],
         "xaxis": "x",
         "y": [
          101,
          101,
          101,
          101,
          101,
          101,
          102,
          101,
          102,
          101,
          101,
          101,
          101,
          101,
          101,
          102,
          101,
          102,
          101,
          102,
          101,
          101,
          102,
          101,
          102,
          101,
          102,
          101,
          101,
          101,
          101,
          101,
          101,
          101,
          101,
          101,
          101,
          101,
          102,
          101,
          101,
          102,
          101,
          101,
          102,
          101,
          102,
          101,
          102,
          101,
          102,
          101,
          101,
          102,
          101,
          101,
          101,
          101,
          101,
          101,
          101,
          101,
          101,
          101,
          101,
          102,
          101,
          101,
          102,
          101,
          102,
          101,
          102,
          101,
          101,
          101,
          101,
          101,
          101,
          101,
          101,
          101,
          101,
          101,
          101,
          102,
          101,
          102,
          101,
          102,
          101,
          102,
          101,
          101,
          102,
          101,
          101,
          101,
          101,
          101,
          101,
          101,
          101,
          101,
          101,
          101,
          101,
          101,
          101,
          101,
          101,
          101,
          102,
          101,
          101,
          102,
          101,
          102,
          101,
          101,
          101,
          101,
          101
         ],
         "yaxis": "y"
        },
        {
         "hovertemplate": "Data Type=Actual<br>time=%{x}<br>Y Position=%{y}<extra></extra>",
         "legendgroup": "Actual",
         "line": {
          "color": "#EF553B",
          "dash": "solid"
         },
         "marker": {
          "symbol": "circle"
         },
         "mode": "lines+markers",
         "name": "Actual",
         "orientation": "v",
         "showlegend": true,
         "type": "scatter",
         "x": [
          2895,
          2896,
          2904,
          2916,
          2917,
          2918,
          2943,
          2944,
          2959,
          2960,
          2961,
          2962,
          2963,
          2964,
          2971,
          2993,
          2994,
          2995,
          2996,
          2997,
          2998,
          3001,
          3002,
          3004,
          3005,
          3006,
          3009,
          3010,
          3013,
          3014,
          3045,
          3046,
          3048,
          3049,
          3050,
          3051,
          3060,
          3061,
          3085,
          3087,
          3088,
          3100,
          3106,
          3108,
          3109,
          3110,
          3116,
          3183,
          3184,
          3185,
          3200,
          3202,
          3204,
          3205,
          3231,
          3232,
          3241,
          3252,
          3253,
          3255,
          3256,
          3279,
          3280,
          3289,
          3293,
          3294,
          3295,
          3298,
          3299,
          3300,
          3301,
          3302,
          3310,
          3311,
          3331,
          3333,
          3334,
          3335,
          3336,
          3337,
          3338,
          3339,
          3342,
          3347,
          3348,
          3377,
          3378,
          3379,
          3380,
          3381,
          3382,
          3383,
          3395,
          3399,
          3400,
          3423,
          3424,
          3442,
          3445,
          3447,
          3471,
          3472,
          3477,
          3478,
          3479,
          3480,
          3490,
          3491,
          3492,
          3493,
          3494,
          3495,
          3519,
          3520,
          3529,
          3540,
          3541,
          3542,
          3567,
          3568,
          3569,
          3588,
          3589
         ],
         "xaxis": "x",
         "y": [
          101,
          100,
          99,
          99,
          102,
          102,
          100,
          100,
          96,
          93,
          98,
          102,
          101,
          101,
          102,
          103,
          102,
          102,
          102,
          107,
          104,
          102,
          112,
          109,
          102,
          102,
          102,
          103,
          103,
          102,
          100,
          95,
          96,
          101,
          102,
          102,
          101,
          104,
          102,
          102,
          100,
          99,
          100,
          101,
          102,
          102,
          102,
          102,
          100,
          99,
          99,
          100,
          100,
          103,
          101,
          99,
          97,
          100,
          100,
          101,
          102,
          102,
          99,
          99,
          96,
          98,
          99,
          100,
          107,
          105,
          104,
          102,
          101,
          102,
          101,
          102,
          107,
          107,
          103,
          102,
          102,
          93,
          92,
          98,
          100,
          101,
          102,
          102,
          101,
          102,
          104,
          107,
          99,
          106,
          106,
          104,
          100,
          102,
          102,
          101,
          102,
          100,
          96,
          94,
          96,
          90,
          100,
          102,
          102,
          103,
          103,
          102,
          102,
          100,
          99,
          100,
          102,
          101,
          100,
          100,
          99,
          100,
          102
         ],
         "yaxis": "y"
        }
       ],
       "layout": {
        "legend": {
         "title": {
          "text": "Data Type"
         },
         "tracegroupgap": 0
        },
        "template": {
         "data": {
          "bar": [
           {
            "error_x": {
             "color": "#2a3f5f"
            },
            "error_y": {
             "color": "#2a3f5f"
            },
            "marker": {
             "line": {
              "color": "#E5ECF6",
              "width": 0.5
             },
             "pattern": {
              "fillmode": "overlay",
              "size": 10,
              "solidity": 0.2
             }
            },
            "type": "bar"
           }
          ],
          "barpolar": [
           {
            "marker": {
             "line": {
              "color": "#E5ECF6",
              "width": 0.5
             },
             "pattern": {
              "fillmode": "overlay",
              "size": 10,
              "solidity": 0.2
             }
            },
            "type": "barpolar"
           }
          ],
          "carpet": [
           {
            "aaxis": {
             "endlinecolor": "#2a3f5f",
             "gridcolor": "white",
             "linecolor": "white",
             "minorgridcolor": "white",
             "startlinecolor": "#2a3f5f"
            },
            "baxis": {
             "endlinecolor": "#2a3f5f",
             "gridcolor": "white",
             "linecolor": "white",
             "minorgridcolor": "white",
             "startlinecolor": "#2a3f5f"
            },
            "type": "carpet"
           }
          ],
          "choropleth": [
           {
            "colorbar": {
             "outlinewidth": 0,
             "ticks": ""
            },
            "type": "choropleth"
           }
          ],
          "contour": [
           {
            "colorbar": {
             "outlinewidth": 0,
             "ticks": ""
            },
            "colorscale": [
             [
              0,
              "#0d0887"
             ],
             [
              0.1111111111111111,
              "#46039f"
             ],
             [
              0.2222222222222222,
              "#7201a8"
             ],
             [
              0.3333333333333333,
              "#9c179e"
             ],
             [
              0.4444444444444444,
              "#bd3786"
             ],
             [
              0.5555555555555556,
              "#d8576b"
             ],
             [
              0.6666666666666666,
              "#ed7953"
             ],
             [
              0.7777777777777778,
              "#fb9f3a"
             ],
             [
              0.8888888888888888,
              "#fdca26"
             ],
             [
              1,
              "#f0f921"
             ]
            ],
            "type": "contour"
           }
          ],
          "contourcarpet": [
           {
            "colorbar": {
             "outlinewidth": 0,
             "ticks": ""
            },
            "type": "contourcarpet"
           }
          ],
          "heatmap": [
           {
            "colorbar": {
             "outlinewidth": 0,
             "ticks": ""
            },
            "colorscale": [
             [
              0,
              "#0d0887"
             ],
             [
              0.1111111111111111,
              "#46039f"
             ],
             [
              0.2222222222222222,
              "#7201a8"
             ],
             [
              0.3333333333333333,
              "#9c179e"
             ],
             [
              0.4444444444444444,
              "#bd3786"
             ],
             [
              0.5555555555555556,
              "#d8576b"
             ],
             [
              0.6666666666666666,
              "#ed7953"
             ],
             [
              0.7777777777777778,
              "#fb9f3a"
             ],
             [
              0.8888888888888888,
              "#fdca26"
             ],
             [
              1,
              "#f0f921"
             ]
            ],
            "type": "heatmap"
           }
          ],
          "heatmapgl": [
           {
            "colorbar": {
             "outlinewidth": 0,
             "ticks": ""
            },
            "colorscale": [
             [
              0,
              "#0d0887"
             ],
             [
              0.1111111111111111,
              "#46039f"
             ],
             [
              0.2222222222222222,
              "#7201a8"
             ],
             [
              0.3333333333333333,
              "#9c179e"
             ],
             [
              0.4444444444444444,
              "#bd3786"
             ],
             [
              0.5555555555555556,
              "#d8576b"
             ],
             [
              0.6666666666666666,
              "#ed7953"
             ],
             [
              0.7777777777777778,
              "#fb9f3a"
             ],
             [
              0.8888888888888888,
              "#fdca26"
             ],
             [
              1,
              "#f0f921"
             ]
            ],
            "type": "heatmapgl"
           }
          ],
          "histogram": [
           {
            "marker": {
             "pattern": {
              "fillmode": "overlay",
              "size": 10,
              "solidity": 0.2
             }
            },
            "type": "histogram"
           }
          ],
          "histogram2d": [
           {
            "colorbar": {
             "outlinewidth": 0,
             "ticks": ""
            },
            "colorscale": [
             [
              0,
              "#0d0887"
             ],
             [
              0.1111111111111111,
              "#46039f"
             ],
             [
              0.2222222222222222,
              "#7201a8"
             ],
             [
              0.3333333333333333,
              "#9c179e"
             ],
             [
              0.4444444444444444,
              "#bd3786"
             ],
             [
              0.5555555555555556,
              "#d8576b"
             ],
             [
              0.6666666666666666,
              "#ed7953"
             ],
             [
              0.7777777777777778,
              "#fb9f3a"
             ],
             [
              0.8888888888888888,
              "#fdca26"
             ],
             [
              1,
              "#f0f921"
             ]
            ],
            "type": "histogram2d"
           }
          ],
          "histogram2dcontour": [
           {
            "colorbar": {
             "outlinewidth": 0,
             "ticks": ""
            },
            "colorscale": [
             [
              0,
              "#0d0887"
             ],
             [
              0.1111111111111111,
              "#46039f"
             ],
             [
              0.2222222222222222,
              "#7201a8"
             ],
             [
              0.3333333333333333,
              "#9c179e"
             ],
             [
              0.4444444444444444,
              "#bd3786"
             ],
             [
              0.5555555555555556,
              "#d8576b"
             ],
             [
              0.6666666666666666,
              "#ed7953"
             ],
             [
              0.7777777777777778,
              "#fb9f3a"
             ],
             [
              0.8888888888888888,
              "#fdca26"
             ],
             [
              1,
              "#f0f921"
             ]
            ],
            "type": "histogram2dcontour"
           }
          ],
          "mesh3d": [
           {
            "colorbar": {
             "outlinewidth": 0,
             "ticks": ""
            },
            "type": "mesh3d"
           }
          ],
          "parcoords": [
           {
            "line": {
             "colorbar": {
              "outlinewidth": 0,
              "ticks": ""
             }
            },
            "type": "parcoords"
           }
          ],
          "pie": [
           {
            "automargin": true,
            "type": "pie"
           }
          ],
          "scatter": [
           {
            "fillpattern": {
             "fillmode": "overlay",
             "size": 10,
             "solidity": 0.2
            },
            "type": "scatter"
           }
          ],
          "scatter3d": [
           {
            "line": {
             "colorbar": {
              "outlinewidth": 0,
              "ticks": ""
             }
            },
            "marker": {
             "colorbar": {
              "outlinewidth": 0,
              "ticks": ""
             }
            },
            "type": "scatter3d"
           }
          ],
          "scattercarpet": [
           {
            "marker": {
             "colorbar": {
              "outlinewidth": 0,
              "ticks": ""
             }
            },
            "type": "scattercarpet"
           }
          ],
          "scattergeo": [
           {
            "marker": {
             "colorbar": {
              "outlinewidth": 0,
              "ticks": ""
             }
            },
            "type": "scattergeo"
           }
          ],
          "scattergl": [
           {
            "marker": {
             "colorbar": {
              "outlinewidth": 0,
              "ticks": ""
             }
            },
            "type": "scattergl"
           }
          ],
          "scattermapbox": [
           {
            "marker": {
             "colorbar": {
              "outlinewidth": 0,
              "ticks": ""
             }
            },
            "type": "scattermapbox"
           }
          ],
          "scatterpolar": [
           {
            "marker": {
             "colorbar": {
              "outlinewidth": 0,
              "ticks": ""
             }
            },
            "type": "scatterpolar"
           }
          ],
          "scatterpolargl": [
           {
            "marker": {
             "colorbar": {
              "outlinewidth": 0,
              "ticks": ""
             }
            },
            "type": "scatterpolargl"
           }
          ],
          "scatterternary": [
           {
            "marker": {
             "colorbar": {
              "outlinewidth": 0,
              "ticks": ""
             }
            },
            "type": "scatterternary"
           }
          ],
          "surface": [
           {
            "colorbar": {
             "outlinewidth": 0,
             "ticks": ""
            },
            "colorscale": [
             [
              0,
              "#0d0887"
             ],
             [
              0.1111111111111111,
              "#46039f"
             ],
             [
              0.2222222222222222,
              "#7201a8"
             ],
             [
              0.3333333333333333,
              "#9c179e"
             ],
             [
              0.4444444444444444,
              "#bd3786"
             ],
             [
              0.5555555555555556,
              "#d8576b"
             ],
             [
              0.6666666666666666,
              "#ed7953"
             ],
             [
              0.7777777777777778,
              "#fb9f3a"
             ],
             [
              0.8888888888888888,
              "#fdca26"
             ],
             [
              1,
              "#f0f921"
             ]
            ],
            "type": "surface"
           }
          ],
          "table": [
           {
            "cells": {
             "fill": {
              "color": "#EBF0F8"
             },
             "line": {
              "color": "white"
             }
            },
            "header": {
             "fill": {
              "color": "#C8D4E3"
             },
             "line": {
              "color": "white"
             }
            },
            "type": "table"
           }
          ]
         },
         "layout": {
          "annotationdefaults": {
           "arrowcolor": "#2a3f5f",
           "arrowhead": 0,
           "arrowwidth": 1
          },
          "autotypenumbers": "strict",
          "coloraxis": {
           "colorbar": {
            "outlinewidth": 0,
            "ticks": ""
           }
          },
          "colorscale": {
           "diverging": [
            [
             0,
             "#8e0152"
            ],
            [
             0.1,
             "#c51b7d"
            ],
            [
             0.2,
             "#de77ae"
            ],
            [
             0.3,
             "#f1b6da"
            ],
            [
             0.4,
             "#fde0ef"
            ],
            [
             0.5,
             "#f7f7f7"
            ],
            [
             0.6,
             "#e6f5d0"
            ],
            [
             0.7,
             "#b8e186"
            ],
            [
             0.8,
             "#7fbc41"
            ],
            [
             0.9,
             "#4d9221"
            ],
            [
             1,
             "#276419"
            ]
           ],
           "sequential": [
            [
             0,
             "#0d0887"
            ],
            [
             0.1111111111111111,
             "#46039f"
            ],
            [
             0.2222222222222222,
             "#7201a8"
            ],
            [
             0.3333333333333333,
             "#9c179e"
            ],
            [
             0.4444444444444444,
             "#bd3786"
            ],
            [
             0.5555555555555556,
             "#d8576b"
            ],
            [
             0.6666666666666666,
             "#ed7953"
            ],
            [
             0.7777777777777778,
             "#fb9f3a"
            ],
            [
             0.8888888888888888,
             "#fdca26"
            ],
            [
             1,
             "#f0f921"
            ]
           ],
           "sequentialminus": [
            [
             0,
             "#0d0887"
            ],
            [
             0.1111111111111111,
             "#46039f"
            ],
            [
             0.2222222222222222,
             "#7201a8"
            ],
            [
             0.3333333333333333,
             "#9c179e"
            ],
            [
             0.4444444444444444,
             "#bd3786"
            ],
            [
             0.5555555555555556,
             "#d8576b"
            ],
            [
             0.6666666666666666,
             "#ed7953"
            ],
            [
             0.7777777777777778,
             "#fb9f3a"
            ],
            [
             0.8888888888888888,
             "#fdca26"
            ],
            [
             1,
             "#f0f921"
            ]
           ]
          },
          "colorway": [
           "#636efa",
           "#EF553B",
           "#00cc96",
           "#ab63fa",
           "#FFA15A",
           "#19d3f3",
           "#FF6692",
           "#B6E880",
           "#FF97FF",
           "#FECB52"
          ],
          "font": {
           "color": "#2a3f5f"
          },
          "geo": {
           "bgcolor": "white",
           "lakecolor": "white",
           "landcolor": "#E5ECF6",
           "showlakes": true,
           "showland": true,
           "subunitcolor": "white"
          },
          "hoverlabel": {
           "align": "left"
          },
          "hovermode": "closest",
          "mapbox": {
           "style": "light"
          },
          "paper_bgcolor": "white",
          "plot_bgcolor": "#E5ECF6",
          "polar": {
           "angularaxis": {
            "gridcolor": "white",
            "linecolor": "white",
            "ticks": ""
           },
           "bgcolor": "#E5ECF6",
           "radialaxis": {
            "gridcolor": "white",
            "linecolor": "white",
            "ticks": ""
           }
          },
          "scene": {
           "xaxis": {
            "backgroundcolor": "#E5ECF6",
            "gridcolor": "white",
            "gridwidth": 2,
            "linecolor": "white",
            "showbackground": true,
            "ticks": "",
            "zerolinecolor": "white"
           },
           "yaxis": {
            "backgroundcolor": "#E5ECF6",
            "gridcolor": "white",
            "gridwidth": 2,
            "linecolor": "white",
            "showbackground": true,
            "ticks": "",
            "zerolinecolor": "white"
           },
           "zaxis": {
            "backgroundcolor": "#E5ECF6",
            "gridcolor": "white",
            "gridwidth": 2,
            "linecolor": "white",
            "showbackground": true,
            "ticks": "",
            "zerolinecolor": "white"
           }
          },
          "shapedefaults": {
           "line": {
            "color": "#2a3f5f"
           }
          },
          "ternary": {
           "aaxis": {
            "gridcolor": "white",
            "linecolor": "white",
            "ticks": ""
           },
           "baxis": {
            "gridcolor": "white",
            "linecolor": "white",
            "ticks": ""
           },
           "bgcolor": "#E5ECF6",
           "caxis": {
            "gridcolor": "white",
            "linecolor": "white",
            "ticks": ""
           }
          },
          "title": {
           "x": 0.05
          },
          "xaxis": {
           "automargin": true,
           "gridcolor": "white",
           "linecolor": "white",
           "ticks": "",
           "title": {
            "standoff": 15
           },
           "zerolinecolor": "white",
           "zerolinewidth": 2
          },
          "yaxis": {
           "automargin": true,
           "gridcolor": "white",
           "linecolor": "white",
           "ticks": "",
           "title": {
            "standoff": 15
           },
           "zerolinecolor": "white",
           "zerolinewidth": 2
          }
         }
        },
        "title": {
         "text": "User Y Position Over Time"
        },
        "xaxis": {
         "anchor": "y",
         "domain": [
          0,
          1
         ],
         "title": {
          "text": "time"
         }
        },
        "yaxis": {
         "anchor": "x",
         "domain": [
          0,
          1
         ],
         "range": [
          0,
          200
         ],
         "title": {
          "text": "Y Position"
         }
        }
       }
      },
      "text/html": [
       "<div>                            <div id=\"2f5a275b-5763-4087-8a33-a77f29b3944a\" class=\"plotly-graph-div\" style=\"height:525px; width:100%;\"></div>            <script type=\"text/javascript\">                require([\"plotly\"], function(Plotly) {                    window.PLOTLYENV=window.PLOTLYENV || {};                                    if (document.getElementById(\"2f5a275b-5763-4087-8a33-a77f29b3944a\")) {                    Plotly.newPlot(                        \"2f5a275b-5763-4087-8a33-a77f29b3944a\",                        [{\"hovertemplate\":\"Data Type=Prediction\\u003cbr\\u003etime=%{x}\\u003cbr\\u003eY Position=%{y}\\u003cextra\\u003e\\u003c\\u002fextra\\u003e\",\"legendgroup\":\"Prediction\",\"line\":{\"color\":\"#636efa\",\"dash\":\"solid\"},\"marker\":{\"symbol\":\"circle\"},\"mode\":\"lines+markers\",\"name\":\"Prediction\",\"orientation\":\"v\",\"showlegend\":true,\"x\":[2895,2896,2904,2916,2917,2918,2943,2944,2959,2960,2961,2962,2963,2964,2971,2993,2994,2995,2996,2997,2998,3001,3002,3004,3005,3006,3009,3010,3013,3014,3045,3046,3048,3049,3050,3051,3060,3061,3085,3087,3088,3100,3106,3108,3109,3110,3116,3183,3184,3185,3200,3202,3204,3205,3231,3232,3241,3252,3253,3255,3256,3279,3280,3289,3293,3294,3295,3298,3299,3300,3301,3302,3310,3311,3331,3333,3334,3335,3336,3337,3338,3339,3342,3347,3348,3377,3378,3379,3380,3381,3382,3383,3395,3399,3400,3423,3424,3442,3445,3447,3471,3472,3477,3478,3479,3480,3490,3491,3492,3493,3494,3495,3519,3520,3529,3540,3541,3542,3567,3568,3569,3588,3589],\"xaxis\":\"x\",\"y\":[101,101,101,101,101,101,102,101,102,101,101,101,101,101,101,102,101,102,101,102,101,101,102,101,102,101,102,101,101,101,101,101,101,101,101,101,101,101,102,101,101,102,101,101,102,101,102,101,102,101,102,101,101,102,101,101,101,101,101,101,101,101,101,101,101,102,101,101,102,101,102,101,102,101,101,101,101,101,101,101,101,101,101,101,101,102,101,102,101,102,101,102,101,101,102,101,101,101,101,101,101,101,101,101,101,101,101,101,101,101,101,101,102,101,101,102,101,102,101,101,101,101,101],\"yaxis\":\"y\",\"type\":\"scatter\"},{\"hovertemplate\":\"Data Type=Actual\\u003cbr\\u003etime=%{x}\\u003cbr\\u003eY Position=%{y}\\u003cextra\\u003e\\u003c\\u002fextra\\u003e\",\"legendgroup\":\"Actual\",\"line\":{\"color\":\"#EF553B\",\"dash\":\"solid\"},\"marker\":{\"symbol\":\"circle\"},\"mode\":\"lines+markers\",\"name\":\"Actual\",\"orientation\":\"v\",\"showlegend\":true,\"x\":[2895,2896,2904,2916,2917,2918,2943,2944,2959,2960,2961,2962,2963,2964,2971,2993,2994,2995,2996,2997,2998,3001,3002,3004,3005,3006,3009,3010,3013,3014,3045,3046,3048,3049,3050,3051,3060,3061,3085,3087,3088,3100,3106,3108,3109,3110,3116,3183,3184,3185,3200,3202,3204,3205,3231,3232,3241,3252,3253,3255,3256,3279,3280,3289,3293,3294,3295,3298,3299,3300,3301,3302,3310,3311,3331,3333,3334,3335,3336,3337,3338,3339,3342,3347,3348,3377,3378,3379,3380,3381,3382,3383,3395,3399,3400,3423,3424,3442,3445,3447,3471,3472,3477,3478,3479,3480,3490,3491,3492,3493,3494,3495,3519,3520,3529,3540,3541,3542,3567,3568,3569,3588,3589],\"xaxis\":\"x\",\"y\":[101,100,99,99,102,102,100,100,96,93,98,102,101,101,102,103,102,102,102,107,104,102,112,109,102,102,102,103,103,102,100,95,96,101,102,102,101,104,102,102,100,99,100,101,102,102,102,102,100,99,99,100,100,103,101,99,97,100,100,101,102,102,99,99,96,98,99,100,107,105,104,102,101,102,101,102,107,107,103,102,102,93,92,98,100,101,102,102,101,102,104,107,99,106,106,104,100,102,102,101,102,100,96,94,96,90,100,102,102,103,103,102,102,100,99,100,102,101,100,100,99,100,102],\"yaxis\":\"y\",\"type\":\"scatter\"}],                        {\"template\":{\"data\":{\"histogram2dcontour\":[{\"type\":\"histogram2dcontour\",\"colorbar\":{\"outlinewidth\":0,\"ticks\":\"\"},\"colorscale\":[[0.0,\"#0d0887\"],[0.1111111111111111,\"#46039f\"],[0.2222222222222222,\"#7201a8\"],[0.3333333333333333,\"#9c179e\"],[0.4444444444444444,\"#bd3786\"],[0.5555555555555556,\"#d8576b\"],[0.6666666666666666,\"#ed7953\"],[0.7777777777777778,\"#fb9f3a\"],[0.8888888888888888,\"#fdca26\"],[1.0,\"#f0f921\"]]}],\"choropleth\":[{\"type\":\"choropleth\",\"colorbar\":{\"outlinewidth\":0,\"ticks\":\"\"}}],\"histogram2d\":[{\"type\":\"histogram2d\",\"colorbar\":{\"outlinewidth\":0,\"ticks\":\"\"},\"colorscale\":[[0.0,\"#0d0887\"],[0.1111111111111111,\"#46039f\"],[0.2222222222222222,\"#7201a8\"],[0.3333333333333333,\"#9c179e\"],[0.4444444444444444,\"#bd3786\"],[0.5555555555555556,\"#d8576b\"],[0.6666666666666666,\"#ed7953\"],[0.7777777777777778,\"#fb9f3a\"],[0.8888888888888888,\"#fdca26\"],[1.0,\"#f0f921\"]]}],\"heatmap\":[{\"type\":\"heatmap\",\"colorbar\":{\"outlinewidth\":0,\"ticks\":\"\"},\"colorscale\":[[0.0,\"#0d0887\"],[0.1111111111111111,\"#46039f\"],[0.2222222222222222,\"#7201a8\"],[0.3333333333333333,\"#9c179e\"],[0.4444444444444444,\"#bd3786\"],[0.5555555555555556,\"#d8576b\"],[0.6666666666666666,\"#ed7953\"],[0.7777777777777778,\"#fb9f3a\"],[0.8888888888888888,\"#fdca26\"],[1.0,\"#f0f921\"]]}],\"heatmapgl\":[{\"type\":\"heatmapgl\",\"colorbar\":{\"outlinewidth\":0,\"ticks\":\"\"},\"colorscale\":[[0.0,\"#0d0887\"],[0.1111111111111111,\"#46039f\"],[0.2222222222222222,\"#7201a8\"],[0.3333333333333333,\"#9c179e\"],[0.4444444444444444,\"#bd3786\"],[0.5555555555555556,\"#d8576b\"],[0.6666666666666666,\"#ed7953\"],[0.7777777777777778,\"#fb9f3a\"],[0.8888888888888888,\"#fdca26\"],[1.0,\"#f0f921\"]]}],\"contourcarpet\":[{\"type\":\"contourcarpet\",\"colorbar\":{\"outlinewidth\":0,\"ticks\":\"\"}}],\"contour\":[{\"type\":\"contour\",\"colorbar\":{\"outlinewidth\":0,\"ticks\":\"\"},\"colorscale\":[[0.0,\"#0d0887\"],[0.1111111111111111,\"#46039f\"],[0.2222222222222222,\"#7201a8\"],[0.3333333333333333,\"#9c179e\"],[0.4444444444444444,\"#bd3786\"],[0.5555555555555556,\"#d8576b\"],[0.6666666666666666,\"#ed7953\"],[0.7777777777777778,\"#fb9f3a\"],[0.8888888888888888,\"#fdca26\"],[1.0,\"#f0f921\"]]}],\"surface\":[{\"type\":\"surface\",\"colorbar\":{\"outlinewidth\":0,\"ticks\":\"\"},\"colorscale\":[[0.0,\"#0d0887\"],[0.1111111111111111,\"#46039f\"],[0.2222222222222222,\"#7201a8\"],[0.3333333333333333,\"#9c179e\"],[0.4444444444444444,\"#bd3786\"],[0.5555555555555556,\"#d8576b\"],[0.6666666666666666,\"#ed7953\"],[0.7777777777777778,\"#fb9f3a\"],[0.8888888888888888,\"#fdca26\"],[1.0,\"#f0f921\"]]}],\"mesh3d\":[{\"type\":\"mesh3d\",\"colorbar\":{\"outlinewidth\":0,\"ticks\":\"\"}}],\"scatter\":[{\"fillpattern\":{\"fillmode\":\"overlay\",\"size\":10,\"solidity\":0.2},\"type\":\"scatter\"}],\"parcoords\":[{\"type\":\"parcoords\",\"line\":{\"colorbar\":{\"outlinewidth\":0,\"ticks\":\"\"}}}],\"scatterpolargl\":[{\"type\":\"scatterpolargl\",\"marker\":{\"colorbar\":{\"outlinewidth\":0,\"ticks\":\"\"}}}],\"bar\":[{\"error_x\":{\"color\":\"#2a3f5f\"},\"error_y\":{\"color\":\"#2a3f5f\"},\"marker\":{\"line\":{\"color\":\"#E5ECF6\",\"width\":0.5},\"pattern\":{\"fillmode\":\"overlay\",\"size\":10,\"solidity\":0.2}},\"type\":\"bar\"}],\"scattergeo\":[{\"type\":\"scattergeo\",\"marker\":{\"colorbar\":{\"outlinewidth\":0,\"ticks\":\"\"}}}],\"scatterpolar\":[{\"type\":\"scatterpolar\",\"marker\":{\"colorbar\":{\"outlinewidth\":0,\"ticks\":\"\"}}}],\"histogram\":[{\"marker\":{\"pattern\":{\"fillmode\":\"overlay\",\"size\":10,\"solidity\":0.2}},\"type\":\"histogram\"}],\"scattergl\":[{\"type\":\"scattergl\",\"marker\":{\"colorbar\":{\"outlinewidth\":0,\"ticks\":\"\"}}}],\"scatter3d\":[{\"type\":\"scatter3d\",\"line\":{\"colorbar\":{\"outlinewidth\":0,\"ticks\":\"\"}},\"marker\":{\"colorbar\":{\"outlinewidth\":0,\"ticks\":\"\"}}}],\"scattermapbox\":[{\"type\":\"scattermapbox\",\"marker\":{\"colorbar\":{\"outlinewidth\":0,\"ticks\":\"\"}}}],\"scatterternary\":[{\"type\":\"scatterternary\",\"marker\":{\"colorbar\":{\"outlinewidth\":0,\"ticks\":\"\"}}}],\"scattercarpet\":[{\"type\":\"scattercarpet\",\"marker\":{\"colorbar\":{\"outlinewidth\":0,\"ticks\":\"\"}}}],\"carpet\":[{\"aaxis\":{\"endlinecolor\":\"#2a3f5f\",\"gridcolor\":\"white\",\"linecolor\":\"white\",\"minorgridcolor\":\"white\",\"startlinecolor\":\"#2a3f5f\"},\"baxis\":{\"endlinecolor\":\"#2a3f5f\",\"gridcolor\":\"white\",\"linecolor\":\"white\",\"minorgridcolor\":\"white\",\"startlinecolor\":\"#2a3f5f\"},\"type\":\"carpet\"}],\"table\":[{\"cells\":{\"fill\":{\"color\":\"#EBF0F8\"},\"line\":{\"color\":\"white\"}},\"header\":{\"fill\":{\"color\":\"#C8D4E3\"},\"line\":{\"color\":\"white\"}},\"type\":\"table\"}],\"barpolar\":[{\"marker\":{\"line\":{\"color\":\"#E5ECF6\",\"width\":0.5},\"pattern\":{\"fillmode\":\"overlay\",\"size\":10,\"solidity\":0.2}},\"type\":\"barpolar\"}],\"pie\":[{\"automargin\":true,\"type\":\"pie\"}]},\"layout\":{\"autotypenumbers\":\"strict\",\"colorway\":[\"#636efa\",\"#EF553B\",\"#00cc96\",\"#ab63fa\",\"#FFA15A\",\"#19d3f3\",\"#FF6692\",\"#B6E880\",\"#FF97FF\",\"#FECB52\"],\"font\":{\"color\":\"#2a3f5f\"},\"hovermode\":\"closest\",\"hoverlabel\":{\"align\":\"left\"},\"paper_bgcolor\":\"white\",\"plot_bgcolor\":\"#E5ECF6\",\"polar\":{\"bgcolor\":\"#E5ECF6\",\"angularaxis\":{\"gridcolor\":\"white\",\"linecolor\":\"white\",\"ticks\":\"\"},\"radialaxis\":{\"gridcolor\":\"white\",\"linecolor\":\"white\",\"ticks\":\"\"}},\"ternary\":{\"bgcolor\":\"#E5ECF6\",\"aaxis\":{\"gridcolor\":\"white\",\"linecolor\":\"white\",\"ticks\":\"\"},\"baxis\":{\"gridcolor\":\"white\",\"linecolor\":\"white\",\"ticks\":\"\"},\"caxis\":{\"gridcolor\":\"white\",\"linecolor\":\"white\",\"ticks\":\"\"}},\"coloraxis\":{\"colorbar\":{\"outlinewidth\":0,\"ticks\":\"\"}},\"colorscale\":{\"sequential\":[[0.0,\"#0d0887\"],[0.1111111111111111,\"#46039f\"],[0.2222222222222222,\"#7201a8\"],[0.3333333333333333,\"#9c179e\"],[0.4444444444444444,\"#bd3786\"],[0.5555555555555556,\"#d8576b\"],[0.6666666666666666,\"#ed7953\"],[0.7777777777777778,\"#fb9f3a\"],[0.8888888888888888,\"#fdca26\"],[1.0,\"#f0f921\"]],\"sequentialminus\":[[0.0,\"#0d0887\"],[0.1111111111111111,\"#46039f\"],[0.2222222222222222,\"#7201a8\"],[0.3333333333333333,\"#9c179e\"],[0.4444444444444444,\"#bd3786\"],[0.5555555555555556,\"#d8576b\"],[0.6666666666666666,\"#ed7953\"],[0.7777777777777778,\"#fb9f3a\"],[0.8888888888888888,\"#fdca26\"],[1.0,\"#f0f921\"]],\"diverging\":[[0,\"#8e0152\"],[0.1,\"#c51b7d\"],[0.2,\"#de77ae\"],[0.3,\"#f1b6da\"],[0.4,\"#fde0ef\"],[0.5,\"#f7f7f7\"],[0.6,\"#e6f5d0\"],[0.7,\"#b8e186\"],[0.8,\"#7fbc41\"],[0.9,\"#4d9221\"],[1,\"#276419\"]]},\"xaxis\":{\"gridcolor\":\"white\",\"linecolor\":\"white\",\"ticks\":\"\",\"title\":{\"standoff\":15},\"zerolinecolor\":\"white\",\"automargin\":true,\"zerolinewidth\":2},\"yaxis\":{\"gridcolor\":\"white\",\"linecolor\":\"white\",\"ticks\":\"\",\"title\":{\"standoff\":15},\"zerolinecolor\":\"white\",\"automargin\":true,\"zerolinewidth\":2},\"scene\":{\"xaxis\":{\"backgroundcolor\":\"#E5ECF6\",\"gridcolor\":\"white\",\"linecolor\":\"white\",\"showbackground\":true,\"ticks\":\"\",\"zerolinecolor\":\"white\",\"gridwidth\":2},\"yaxis\":{\"backgroundcolor\":\"#E5ECF6\",\"gridcolor\":\"white\",\"linecolor\":\"white\",\"showbackground\":true,\"ticks\":\"\",\"zerolinecolor\":\"white\",\"gridwidth\":2},\"zaxis\":{\"backgroundcolor\":\"#E5ECF6\",\"gridcolor\":\"white\",\"linecolor\":\"white\",\"showbackground\":true,\"ticks\":\"\",\"zerolinecolor\":\"white\",\"gridwidth\":2}},\"shapedefaults\":{\"line\":{\"color\":\"#2a3f5f\"}},\"annotationdefaults\":{\"arrowcolor\":\"#2a3f5f\",\"arrowhead\":0,\"arrowwidth\":1},\"geo\":{\"bgcolor\":\"white\",\"landcolor\":\"#E5ECF6\",\"subunitcolor\":\"white\",\"showland\":true,\"showlakes\":true,\"lakecolor\":\"white\"},\"title\":{\"x\":0.05},\"mapbox\":{\"style\":\"light\"}}},\"xaxis\":{\"anchor\":\"y\",\"domain\":[0.0,1.0],\"title\":{\"text\":\"time\"}},\"yaxis\":{\"anchor\":\"x\",\"domain\":[0.0,1.0],\"title\":{\"text\":\"Y Position\"},\"range\":[0,200]},\"legend\":{\"title\":{\"text\":\"Data Type\"},\"tracegroupgap\":0},\"title\":{\"text\":\"User Y Position Over Time\"}},                        {\"responsive\": true}                    ).then(function(){\n",
       "                            \n",
       "var gd = document.getElementById('2f5a275b-5763-4087-8a33-a77f29b3944a');\n",
       "var x = new MutationObserver(function (mutations, observer) {{\n",
       "        var display = window.getComputedStyle(gd).display;\n",
       "        if (!display || display === 'none') {{\n",
       "            console.log([gd, 'removed!']);\n",
       "            Plotly.purge(gd);\n",
       "            observer.disconnect();\n",
       "        }}\n",
       "}});\n",
       "\n",
       "// Listen for the removal of the full notebook cells\n",
       "var notebookContainer = gd.closest('#notebook-container');\n",
       "if (notebookContainer) {{\n",
       "    x.observe(notebookContainer, {childList: true});\n",
       "}}\n",
       "\n",
       "// Listen for the clearing of the current output cell\n",
       "var outputEl = gd.closest('.output');\n",
       "if (outputEl) {{\n",
       "    x.observe(outputEl, {childList: true});\n",
       "}}\n",
       "\n",
       "                        })                };                });            </script>        </div>"
      ]
     },
     "metadata": {},
     "output_type": "display_data"
    }
   ],
   "source": [
    "plot_xy_trajectory_submit(subsB, test_case)"
   ]
  },
  {
   "cell_type": "code",
   "execution_count": null,
   "metadata": {},
   "outputs": [],
   "source": []
  }
 ],
 "metadata": {
  "kernelspec": {
   "display_name": "base",
   "language": "python",
   "name": "python3"
  },
  "language_info": {
   "codemirror_mode": {
    "name": "ipython",
    "version": 3
   },
   "file_extension": ".py",
   "mimetype": "text/x-python",
   "name": "python",
   "nbconvert_exporter": "python",
   "pygments_lexer": "ipython3",
   "version": "3.10.13"
  }
 },
 "nbformat": 4,
 "nbformat_minor": 2
}
