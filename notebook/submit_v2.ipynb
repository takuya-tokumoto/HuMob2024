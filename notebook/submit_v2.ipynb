{
 "cells": [
  {
   "cell_type": "markdown",
   "metadata": {},
   "source": [
    "# Import"
   ]
  },
  {
   "cell_type": "code",
   "execution_count": 1,
   "metadata": {},
   "outputs": [],
   "source": [
    "import glob\n",
    "import json\n",
    "from typing import List, Tuple\n",
    "\n",
    "import geobleu\n",
    "import matplotlib.pyplot as plt\n",
    "import numpy as np\n",
    "import pandas as pd\n",
    "import plotly.express as px\n",
    "import polars as pl\n",
    "import seaborn as sns"
   ]
  },
  {
   "cell_type": "markdown",
   "metadata": {},
   "source": [
    "# Function"
   ]
  },
  {
   "cell_type": "code",
   "execution_count": 2,
   "metadata": {},
   "outputs": [],
   "source": [
    "def read_submit_json(output_dir: str) -> dict:\n",
    "    \"\"\"予測後のファイルを読み込み\n",
    "\n",
    "    Args:\n",
    "        output_dir (str): 格納先のファイルのdirを指定\n",
    "\n",
    "    Returns:\n",
    "        dict: [generate]予測値 [referense]正解値\n",
    "    \"\"\"\n",
    "\n",
    "    submit_file = glob.glob(output_dir)[0]\n",
    "\n",
    "    with open(submit_file, \"r\") as f:\n",
    "        subs = json.load(f)\n",
    "\n",
    "    return subs"
   ]
  },
  {
   "cell_type": "code",
   "execution_count": 6,
   "metadata": {},
   "outputs": [],
   "source": [
    "def caluc_test_score(subs: dict) -> Tuple[List, List]:\n",
    "    \"\"\"評価用データに関する精度結果を表示\n",
    "\n",
    "    Args:\n",
    "        subs (dict): 提出用subs\n",
    "\n",
    "    Returns:\n",
    "        list: 各uidごとのgeobleuの値\n",
    "        list: 各uidごとのdtwの値\n",
    "    \"\"\"\n",
    "\n",
    "    list_geobleu_val = []\n",
    "    list_dtw_val = []\n",
    "    cnt = 0\n",
    "\n",
    "    for i in range(1000):\n",
    "\n",
    "        generated = subs[\"generated\"][i]\n",
    "        reference = subs[\"reference\"][i]\n",
    "\n",
    "        if len(generated) > 0:\n",
    "            geobleu_val = geobleu.calc_geobleu(generated, reference, processes=3)\n",
    "            list_geobleu_val.append(geobleu_val)\n",
    "\n",
    "            dtw_val = geobleu.calc_dtw(generated, reference, processes=3)\n",
    "            list_dtw_val.append(dtw_val)\n",
    "\n",
    "        else:\n",
    "            cnt += 1\n",
    "\n",
    "    print(f\"計算できなかったuid数は {cnt}件\")\n",
    "    print(\"geobleu: {}\".format(np.mean(list_geobleu_val)))\n",
    "    print(\"dtw: {}\".format(np.mean(list_dtw_val)))\n",
    "\n",
    "    return list_geobleu_val, list_dtw_val"
   ]
  },
  {
   "cell_type": "markdown",
   "metadata": {},
   "source": [
    "# CalucTestScore\n",
    "- 2000uid * 15dの範囲にてgeoblueとdtwを算出\n",
    "- uid単位で評価したうえで平均値を最終評価とする"
   ]
  },
  {
   "cell_type": "code",
   "execution_count": 7,
   "metadata": {},
   "outputs": [],
   "source": [
    "# 評価対象のファイル\n",
    "\n",
    "base_path = \"/kaggle/s3storage/01_public/humob-challenge-2024/output/test\"\n",
    "run_name = \"rnd_learn_v4\"\n",
    "file_name = \"batchsize128_epochs50_embedsize128_layersnum4_headsnum8_cuda0_lr2e-05_seed0\""
   ]
  },
  {
   "cell_type": "markdown",
   "metadata": {},
   "source": [
    "## Dataset B"
   ]
  },
  {
   "cell_type": "code",
   "execution_count": 8,
   "metadata": {},
   "outputs": [
    {
     "name": "stdout",
     "output_type": "stream",
     "text": [
      "計算できなかったuid数は 0件\n",
      "geobleu: 0.09832020060252754\n",
      "dtw: 127.29233670403997\n"
     ]
    }
   ],
   "source": [
    "output_dir = f\"{base_path}/{run_name}/taskB/{file_name}/*json\"\n",
    "subsB = read_submit_json(output_dir)\n",
    "\n",
    "list_geobleu_val, list_dtw_val = caluc_test_score(subsB)"
   ]
  },
  {
   "cell_type": "code",
   "execution_count": 55,
   "metadata": {},
   "outputs": [
    {
     "name": "stdout",
     "output_type": "stream",
     "text": [
      "計算できなかったuid数は 0件\n",
      "geobleu: 0.09820267297240186\n",
      "dtw: 127.64778779517299\n"
     ]
    }
   ],
   "source": [
    "output_dir = f\"{base_path}/{run_name}/taskB/{file_name}/*json\"\n",
    "subsB = read_submit_json(output_dir)\n",
    "\n",
    "list_geobleu_val, list_dtw_val = caluc_test_score(subsB)"
   ]
  },
  {
   "cell_type": "markdown",
   "metadata": {},
   "source": [
    "## Dataset C"
   ]
  },
  {
   "cell_type": "markdown",
   "metadata": {},
   "source": [
    "## Dataset D"
   ]
  },
  {
   "cell_type": "markdown",
   "metadata": {},
   "source": [
    "# Analysys"
   ]
  },
  {
   "cell_type": "code",
   "execution_count": 21,
   "metadata": {},
   "outputs": [
    {
     "name": "stdout",
     "output_type": "stream",
     "text": [
      "計算できなかったuid数は 0件\n",
      "geobleu: 0.0017551713970495606\n",
      "dtw: 385.0024172985215\n"
     ]
    }
   ],
   "source": [
    "output_dir = (\n",
    "    f\"{base_path}/{run_name}/taskB/batchsize128_epochs1_embedsize128_layersnum4_headsnum8_cuda0_lr2e-05_seed0/*json\"\n",
    ")\n",
    "subsB = read_submit_json(output_dir)\n",
    "\n",
    "list_geobleu_val_ep_1, list_dtw_val_ep_1 = caluc_test_score(subsB)"
   ]
  },
  {
   "cell_type": "code",
   "execution_count": 26,
   "metadata": {},
   "outputs": [
    {
     "name": "stdout",
     "output_type": "stream",
     "text": [
      "計算できなかったuid数は 0件\n",
      "geobleu: 0.020381211173639613\n",
      "dtw: 224.86270387242917\n"
     ]
    }
   ],
   "source": [
    "output_dir = (\n",
    "    f\"{base_path}/{run_name}/taskB/batchsize128_epochs10_embedsize128_layersnum4_headsnum8_cuda0_lr2e-05_seed0/*json\"\n",
    ")\n",
    "subsB = read_submit_json(output_dir)\n",
    "\n",
    "list_geobleu_val_ep_10, list_dtw_val_ep_10 = caluc_test_score(subsB)"
   ]
  },
  {
   "cell_type": "code",
   "execution_count": 22,
   "metadata": {},
   "outputs": [
    {
     "ename": "NameError",
     "evalue": "name 'list_geobleu_val_ep_10' is not defined",
     "output_type": "error",
     "traceback": [
      "\u001b[0;31m---------------------------------------------------------------------------\u001b[0m",
      "\u001b[0;31mNameError\u001b[0m                                 Traceback (most recent call last)",
      "Cell \u001b[0;32mIn[22], line 2\u001b[0m\n\u001b[1;32m      1\u001b[0m \u001b[38;5;66;03m# リストにカテゴリを付ける\u001b[39;00m\n\u001b[0;32m----> 2\u001b[0m data \u001b[38;5;241m=\u001b[39m [list_geobleu_val, \u001b[43mlist_geobleu_val_ep_10\u001b[49m, list_geobleu_val_ep_1]\n\u001b[1;32m      4\u001b[0m \u001b[38;5;66;03m# boxplotの表示\u001b[39;00m\n\u001b[1;32m      5\u001b[0m plt\u001b[38;5;241m.\u001b[39mfigure(figsize\u001b[38;5;241m=\u001b[39m(\u001b[38;5;241m10\u001b[39m, \u001b[38;5;241m6\u001b[39m))\n",
      "\u001b[0;31mNameError\u001b[0m: name 'list_geobleu_val_ep_10' is not defined"
     ]
    }
   ],
   "source": [
    "# リストにカテゴリを付ける\n",
    "data = [list_geobleu_val, list_geobleu_val_ep_10, list_geobleu_val_ep_1]\n",
    "\n",
    "# boxplotの表示\n",
    "plt.figure(figsize=(10, 6))\n",
    "sns.boxplot(data=data)\n",
    "plt.xticks([0, 1, 2], [\"epoch 50\", \"epoch 10\", \"epoch 1\"])  # x軸にカテゴリラベルを設定\n",
    "plt.title(\"Comparison of geobleu Score\")\n",
    "plt.ylabel(\"Scores\")\n",
    "plt.show()"
   ]
  },
  {
   "cell_type": "code",
   "execution_count": 6,
   "metadata": {},
   "outputs": [
    {
     "ename": "NameError",
     "evalue": "name 'list_dtw_val_ep_10' is not defined",
     "output_type": "error",
     "traceback": [
      "\u001b[0;31m---------------------------------------------------------------------------\u001b[0m",
      "\u001b[0;31mNameError\u001b[0m                                 Traceback (most recent call last)",
      "Cell \u001b[0;32mIn[6], line 2\u001b[0m\n\u001b[1;32m      1\u001b[0m \u001b[38;5;66;03m# リストにカテゴリを付ける\u001b[39;00m\n\u001b[0;32m----> 2\u001b[0m data \u001b[38;5;241m=\u001b[39m [list_dtw_val, \u001b[43mlist_dtw_val_ep_10\u001b[49m, list_dtw_val_ep_1]\n\u001b[1;32m      4\u001b[0m \u001b[38;5;66;03m# boxplotの表示\u001b[39;00m\n\u001b[1;32m      5\u001b[0m plt\u001b[38;5;241m.\u001b[39mfigure(figsize\u001b[38;5;241m=\u001b[39m(\u001b[38;5;241m10\u001b[39m, \u001b[38;5;241m6\u001b[39m))\n",
      "\u001b[0;31mNameError\u001b[0m: name 'list_dtw_val_ep_10' is not defined"
     ]
    }
   ],
   "source": [
    "# リストにカテゴリを付ける\n",
    "data = [list_dtw_val, list_dtw_val_ep_10, list_dtw_val_ep_1]\n",
    "\n",
    "# boxplotの表示\n",
    "plt.figure(figsize=(10, 6))\n",
    "sns.boxplot(data=data)\n",
    "plt.xticks([0, 1, 2], [\"epoch 50\", \"epoch 10\", \"epoch 1\"])  # x軸にカテゴリラベルを設定\n",
    "plt.title(\"Comparison of dtw Score\")\n",
    "plt.ylabel(\"Scores\")\n",
    "plt.show()"
   ]
  },
  {
   "cell_type": "code",
   "execution_count": 6,
   "metadata": {},
   "outputs": [
    {
     "data": {
      "image/png": "[encoded data removed]",
      "text/plain": [
       "<Figure size 1000x600 with 1 Axes>"
      ]
     },
     "metadata": {},
     "output_type": "display_data"
    }
   ],
   "source": [
    "# ヒストグラムの描画\n",
    "plt.figure(figsize=(10, 6))\n",
    "plt.hist(list_geobleu_val, bins=100, edgecolor=\"black\")\n",
    "plt.title(\"Score Distribution (Histogram)\")\n",
    "plt.xlabel(\"Scores\")\n",
    "plt.ylabel(\"Frequency\")\n",
    "plt.show()"
   ]
  },
  {
   "cell_type": "code",
   "execution_count": 7,
   "metadata": {},
   "outputs": [
    {
     "data": {
      "image/png": "[encoded data removed]",
      "text/plain": [
       "<Figure size 1000x600 with 1 Axes>"
      ]
     },
     "metadata": {},
     "output_type": "display_data"
    }
   ],
   "source": [
    "# ヒストグラムの描画\n",
    "plt.figure(figsize=(10, 6))\n",
    "plt.hist(list_dtw_val, bins=100, edgecolor=\"black\")\n",
    "plt.title(\"Score Distribution (Histogram)\")\n",
    "plt.xlabel(\"Scores\")\n",
    "plt.ylabel(\"Frequency\")\n",
    "plt.show()"
   ]
  },
  {
   "cell_type": "code",
   "execution_count": 8,
   "metadata": {},
   "outputs": [
    {
     "data": {
      "text/html": [
       "<div><style>\n",
       ".dataframe > thead > tr,\n",
       ".dataframe > tbody > tr {\n",
       "  text-align: right;\n",
       "  white-space: pre-wrap;\n",
       "}\n",
       "</style>\n",
       "<small>shape: (1, 5)</small><table border=\"1\" class=\"dataframe\"><thead><tr><th>uid</th><th>d</th><th>t</th><th>x</th><th>y</th></tr><tr><td>i64</td><td>i64</td><td>i64</td><td>i64</td><td>i64</td></tr></thead><tbody><tr><td>0</td><td>0</td><td>20</td><td>80</td><td>99</td></tr></tbody></table></div>"
      ],
      "text/plain": [
       "shape: (1, 5)\n",
       "┌─────┬─────┬─────┬─────┬─────┐\n",
       "│ uid ┆ d   ┆ t   ┆ x   ┆ y   │\n",
       "│ --- ┆ --- ┆ --- ┆ --- ┆ --- │\n",
       "│ i64 ┆ i64 ┆ i64 ┆ i64 ┆ i64 │\n",
       "╞═════╪═════╪═════╪═════╪═════╡\n",
       "│ 0   ┆ 0   ┆ 20  ┆ 80  ┆ 99  │\n",
       "└─────┴─────┴─────┴─────┴─────┘"
      ]
     },
     "metadata": {},
     "output_type": "display_data"
    },
    {
     "name": "stdout",
     "output_type": "stream",
     "text": [
      "24375898\n"
     ]
    }
   ],
   "source": [
    "# CSV.GZファイルを読み込む\n",
    "df_b = pl.read_csv(\"/kaggle/s3storage/01_public/humob-challenge-2024/input/cityB_challengedata.csv.gz\")\n",
    "\n",
    "# データフレームの内容を表示\n",
    "display(df_b.head(1))\n",
    "print(len(df_b))"
   ]
  },
  {
   "cell_type": "code",
   "execution_count": 9,
   "metadata": {},
   "outputs": [],
   "source": [
    "def plot_xy_trajectory(city_df: pl.DataFrame, selected_uids: list[int]) -> None:\n",
    "    \"\"\"ユーザーごとのx, yの推移を時間軸に沿って折れ線グラフで可視化\n",
    "\n",
    "    args\n",
    "        city_df: Polarsのデータフレーム\n",
    "        selected_uids: 表示したいユーザーIDのリスト\n",
    "    \"\"\"\n",
    "\n",
    "    # 選択されたUIDのデータをフィルタリングし、時間でソート\n",
    "    dff = city_df.filter(pl.col(\"uid\").is_in(selected_uids))\n",
    "    dff = dff.with_columns((pl.col(\"d\") * 48 + pl.col(\"t\")).alias(\"time\"))\n",
    "    dff = dff.sort(\"time\")\n",
    "\n",
    "    # Pandasデータフレームに変換\n",
    "    dff_pd = dff.to_pandas()\n",
    "\n",
    "    # X座標の推移を描画\n",
    "    x_line_fig = px.line(\n",
    "        dff_pd,\n",
    "        x=\"time\",\n",
    "        y=\"x\",\n",
    "        color=\"uid\",\n",
    "        labels={\"x\": \"Time\", \"y\": \"X Position\", \"uid\": \"User ID\"},\n",
    "        title=\"User X Position Over Time\",\n",
    "        range_y=[0, 200],  # y座標の範囲を指定\n",
    "    )\n",
    "    x_line_fig.update_traces(mode=\"lines+markers\")\n",
    "\n",
    "    # Y座標の推移を描画\n",
    "    y_line_fig = px.line(\n",
    "        dff_pd,\n",
    "        x=\"time\",\n",
    "        y=\"y\",\n",
    "        color=\"uid\",\n",
    "        labels={\"x\": \"Time\", \"y\": \"Y Position\", \"uid\": \"User ID\"},\n",
    "        title=\"User Y Position Over Time\",\n",
    "        range_y=[0, 200],  # y座標の範囲を指定\n",
    "    )\n",
    "    y_line_fig.update_traces(mode=\"lines+markers\")\n",
    "\n",
    "    # グラフの表示\n",
    "    x_line_fig.show()\n",
    "    y_line_fig.show()"
   ]
  },
  {
   "cell_type": "code",
   "execution_count": 10,
   "metadata": {},
   "outputs": [],
   "source": [
    "def plot_xy_trajectory_submit(subs: dict, selected_uid: int) -> None:\n",
    "\n",
    "    # submitファイル用にuidを再定義\n",
    "    new_uid = selected_uid - 20000\n",
    "\n",
    "    # 選択されたUIDの部分を抽出\n",
    "    _pred_dict = subs[\"generated\"][new_uid]\n",
    "    # 辞書に変換したのちにpolarsに変換\n",
    "    _pred_dict = [{\"d\": item[0], \"t\": item[1], \"x\": item[2], \"y\": item[3]} for item in _pred_dict]\n",
    "    pred_pl = pl.DataFrame(_pred_dict)\n",
    "    # time項目を追加\n",
    "    pred_pl = pred_pl.with_columns((pl.col(\"d\") * 48 + pl.col(\"t\")).alias(\"time\"))\n",
    "    pred_pl = pred_pl.sort(\"time\")\n",
    "    pred_pl = pred_pl.with_columns(pl.lit(\"Prediction\").alias(\"type\"))\n",
    "\n",
    "    # Pandasデータフレームに変換\n",
    "    pred_pd = pred_pl.to_pandas()\n",
    "\n",
    "    # 選択されたUIDの部分を抽出\n",
    "    _act_dict = subs[\"reference\"][new_uid]\n",
    "    # 辞書に変換したのちにpolarsに変換\n",
    "    _act_dict = [{\"d\": item[0], \"t\": item[1], \"x\": item[2], \"y\": item[3]} for item in _act_dict]\n",
    "    act_pl = pl.DataFrame(_act_dict)\n",
    "    # time項目を追加\n",
    "    act_pl = act_pl.with_columns((pl.col(\"d\") * 48 + pl.col(\"t\")).alias(\"time\"))\n",
    "    act_pl = act_pl.sort(\"time\")\n",
    "    act_pl = act_pl.with_columns(pl.lit(\"Actual\").alias(\"type\"))\n",
    "    # Pandasデータフレームに変換\n",
    "    act_pd = act_pl.to_pandas()\n",
    "\n",
    "    # 予測値と実測値を1つのデータフレームに結合\n",
    "    combined_df = pd.concat([pred_pd, act_pd])\n",
    "\n",
    "    # X座標の推移を描画\n",
    "    x_line_fig = px.line(\n",
    "        combined_df,\n",
    "        x=\"time\",\n",
    "        y=\"x\",\n",
    "        color=\"type\",\n",
    "        labels={\"x\": \"Time\", \"y\": \"X Position\", \"type\": \"Data Type\"},\n",
    "        title=\"User X Position Over Time\",\n",
    "        range_y=[0, 200],  # y座標の範囲を指定\n",
    "    )\n",
    "    x_line_fig.update_traces(mode=\"lines+markers\")\n",
    "    # x_line_fig.update_layout(yaxis=dict(range=[0, 200]))  # y軸を0から200に固定\n",
    "\n",
    "    # Y座標の推移を描画\n",
    "    y_line_fig = px.line(\n",
    "        combined_df,\n",
    "        x=\"time\",\n",
    "        y=\"y\",\n",
    "        color=\"type\",\n",
    "        labels={\"x\": \"Time\", \"y\": \"Y Position\", \"type\": \"Data Type\"},\n",
    "        title=\"User Y Position Over Time\",\n",
    "        range_y=[0, 200],  # y座標の範囲を指定\n",
    "    )\n",
    "    y_line_fig.update_traces(mode=\"lines+markers\")\n",
    "    # y_line_fig.update_layout(yaxis=dict(range=[0, 200]))  # y軸を0から200に固定\n",
    "\n",
    "    # グラフの表示\n",
    "    x_line_fig.show()\n",
    "    y_line_fig.show()"
   ]
  },
  {
   "cell_type": "code",
   "execution_count": 11,
   "metadata": {},
   "outputs": [
    {
     "data": {
      "text/plain": [
       "[0.6591998010662653,\n",
       " 0.05910610281903268,\n",
       " 0.054604854190212035,\n",
       " 0.06788035395143635,\n",
       " 0.397640820805466,\n",
       " 0.0074088298994843356,\n",
       " 1.057443440404299e-23,\n",
       " 6.701786082044365e-05,\n",
       " 0.034221386710597046,\n",
       " 0.00016191047030047998,\n",
       " 7.37333710990557e-16,\n",
       " 0.4195132538884809,\n",
       " 0.010154591966004265,\n",
       " 2.2013044616886086e-17,\n",
       " 0.22775051483062114,\n",
       " 0.025183319380674477,\n",
       " 0.02615025177948118,\n",
       " 0.19628167583206693,\n",
       " 0.04828012507052694,\n",
       " 0.11864369302800927,\n",
       " 3.511220174493614e-06,\n",
       " 1.9495482517413044e-11,\n",
       " 0.5608708635120607,\n",
       " 1.4340514396530977e-22,\n",
       " 0.0044479228035347726,\n",
       " 0.0007592716531728017,\n",
       " 6.683444335182126e-16,\n",
       " 8.418096509160348e-06,\n",
       " 0.00013019075893099351,\n",
       " 0.07293860953645183,\n",
       " 1.4417183629390913e-25,\n",
       " 0.17033876360629605,\n",
       " 5.280851161293226e-16,\n",
       " 4.0901696706724157e-08,\n",
       " 0.4264461325438874,\n",
       " 0.051906410302069855,\n",
       " 0.5738592052171415,\n",
       " 0.0595125886097146,\n",
       " 0.0003798578262864827,\n",
       " 1.0548252411528072e-36,\n",
       " 0.026831454820004968,\n",
       " 0.012617133002433627,\n",
       " 0.5990528344430045,\n",
       " 0.013249601741572303,\n",
       " 3.9190050979159237e-19,\n",
       " 0.06611660876464323,\n",
       " 0.06592891903802205,\n",
       " 0.015848241768824815,\n",
       " 2.1288711954355853e-06,\n",
       " 5.3104734891854465e-59,\n",
       " 0.07825420410214781,\n",
       " 5.876426089179941e-22,\n",
       " 0.0076058668442041295,\n",
       " 0.09199670463439392,\n",
       " 0.24591059867952084,\n",
       " 1.4334669892688642e-44,\n",
       " 0.13959291182500502,\n",
       " 0.16234263612664399,\n",
       " 0.5692458228135098,\n",
       " 8.743613674636399e-25,\n",
       " 0.24301161343307756,\n",
       " 0.07715357576762881,\n",
       " 1.4701371039046467e-07,\n",
       " 6.0938198157497706e-05,\n",
       " 0.08180518472172663,\n",
       " 0.019458480287962505,\n",
       " 1.0953677614598713e-16,\n",
       " 6.385475209378867e-05,\n",
       " 3.940476776552166e-34,\n",
       " 0.04405125134623403,\n",
       " 0.30009688275561813,\n",
       " 0.005363886729526792,\n",
       " 0.04637066157871292,\n",
       " 0.000601936807541738,\n",
       " 0.15860189558253468,\n",
       " 0.3472562323962867,\n",
       " 1.728246715975936e-10,\n",
       " 2.0426012149978908e-29,\n",
       " 0.08501910941351516,\n",
       " 0.08963552730427697,\n",
       " 1.778202112716611e-08,\n",
       " 1.0508028079822056e-13,\n",
       " 0.19780549773778403,\n",
       " 1.2699872504469162e-06,\n",
       " 0.19219680229433864,\n",
       " 0.002728257581466935,\n",
       " 0.1485910028825266,\n",
       " 0.00215953713966891,\n",
       " 0.07424274822398823,\n",
       " 0.21744287184673186,\n",
       " 0.07571509697175388,\n",
       " 0.03878140861647037,\n",
       " 0.00038037429941240763,\n",
       " 4.910159617141082e-39,\n",
       " 0.05758197253748555,\n",
       " 0.04790241020868328,\n",
       " 1.3240727879972872e-14,\n",
       " 0.4022391124854012,\n",
       " 0.008029944054250539,\n",
       " 3.1394507608083304e-09,\n",
       " 0.390394608979845,\n",
       " 0.021351223778269635,\n",
       " 0.21139154095346255,\n",
       " 0.04589851122772734,\n",
       " 1.692205973255055e-37,\n",
       " 6.660807457762133e-47,\n",
       " 0.3779578438513639,\n",
       " 3.734207658735226e-17,\n",
       " 0.9782453016248515,\n",
       " 4.881655713489283e-07,\n",
       " 1.2158916464105481e-07,\n",
       " 9.878879907929224e-26,\n",
       " 0.42699325381158854,\n",
       " 0.002722353329122862,\n",
       " 4.311549069332789e-05,\n",
       " 4.976470532219853e-08,\n",
       " 9.613164400784887e-32,\n",
       " 0.0005218456558184061,\n",
       " 0.006541439549210917,\n",
       " 0.0034025400861122674,\n",
       " 0.04687001693143483,\n",
       " 4.2581987590257435e-22,\n",
       " 0.0606069797724936,\n",
       " 0.5183631078573706,\n",
       " 0.0005155440689220608,\n",
       " 0.7266698140079589,\n",
       " 0.033377010872204495,\n",
       " 1.4292744551166917e-07,\n",
       " 5.613495958573815e-19,\n",
       " 0.010338661234892575,\n",
       " 3.789710443678604e-12,\n",
       " 0.26007724300488005,\n",
       " 0.1566188502462219,\n",
       " 0.20502864104373908,\n",
       " 0.396417909063848,\n",
       " 0.1114293992442718,\n",
       " 0.3676056476134925,\n",
       " 0.3737539268095437,\n",
       " 6.433468849134771e-08,\n",
       " 1.6998684811350134e-16,\n",
       " 0.385335544089444,\n",
       " 0.4349716619319733,\n",
       " 0.017103603233605318,\n",
       " 0.1979489074856622,\n",
       " 0.21713509252340504,\n",
       " 3.413025573130588e-07,\n",
       " 0.23522132922298458,\n",
       " 0.016514232636944258,\n",
       " 6.389534952384826e-18,\n",
       " 0.18094725205253825,\n",
       " 0.16311287456092294,\n",
       " 1.273874337639469e-17,\n",
       " 0.0063850409089800915,\n",
       " 0.346084655467064,\n",
       " 0.0710912602448007,\n",
       " 0.37050383377564133,\n",
       " 0.5702366836255267,\n",
       " 0.0008991495975801229,\n",
       " 0.36845262571224313,\n",
       " 8.511952572677474e-06,\n",
       " 1.6541711771671384e-23,\n",
       " 0.0020713263681325857,\n",
       " 0.011114465339419679,\n",
       " 0.10704331719965823,\n",
       " 0.03339079324118731,\n",
       " 0.1243783225732186,\n",
       " 0.21948945838465492,\n",
       " 0.1590158405624172,\n",
       " 0.07862693337880647,\n",
       " 0.00041984675257200106,\n",
       " 0.029633193973834036,\n",
       " 0.11509100149087707,\n",
       " 0.2808952930961638,\n",
       " 3.0676049155836953e-07,\n",
       " 0.2808809870184991,\n",
       " 0.13868465888207251,\n",
       " 0.23578343842671323,\n",
       " 0.036317491048863955,\n",
       " 0.001441240040277631,\n",
       " 0.00569261860486063,\n",
       " 0.1670356479655316,\n",
       " 0.030894384528830785,\n",
       " 0.005485545788135793,\n",
       " 0.1513510044907044,\n",
       " 0.039034791363483756,\n",
       " 0.4865194164145219,\n",
       " 0.002513086920740213,\n",
       " 1.9560070823235747e-06,\n",
       " 1.5359419684760956e-25,\n",
       " 8.221310059435684e-22,\n",
       " 1.0214223059241873e-16,\n",
       " 3.336745361229292e-61,\n",
       " 1.4560238342593246e-08,\n",
       " 2.0861113204129573e-22,\n",
       " 0.17100893078699342,\n",
       " 0.04441695104031695,\n",
       " 0.0012687905795678747,\n",
       " 4.0168611227698475e-56,\n",
       " 0.3266832732571165,\n",
       " 0.0034910224908663834,\n",
       " 0.49682346018174217,\n",
       " 7.088821542709221e-05,\n",
       " 0.00029300300479376794,\n",
       " 0.01402935154700482,\n",
       " 1.2111704987560633e-05,\n",
       " 0.012408749854928534,\n",
       " 0.16274327160992977,\n",
       " 0.2716038806570754,\n",
       " 0.046608497072074824,\n",
       " 0.45653599973705083,\n",
       " 0.33662175166255837,\n",
       " 0.0003285256080036704,\n",
       " 0.2091173864780132,\n",
       " 0.3945706040126192,\n",
       " 0.16119125205763313,\n",
       " 0.06859288671342588,\n",
       " 0.007866578841635186,\n",
       " 0.016869086345832465,\n",
       " 0.6600837224790279,\n",
       " 0.20703946910313936,\n",
       " 0.03626845654411391,\n",
       " 3.640981448904659e-07,\n",
       " 0.26310598706251936,\n",
       " 7.794205283765855e-23,\n",
       " 0.00013635312441474337,\n",
       " 0.010233652313499675,\n",
       " 4.474203231212923e-40,\n",
       " 7.76001264572028e-11,\n",
       " 0.00666016781942164,\n",
       " 0.05131040471365966,\n",
       " 3.0150056440192707e-05,\n",
       " 4.139964118128676e-23,\n",
       " 0.35906253591177045,\n",
       " 0.19003618536151384,\n",
       " 0.44392151372527994,\n",
       " 0.29397717082700875,\n",
       " 0.36794096104225643,\n",
       " 0.03662841611656139,\n",
       " 0.44106064500728653,\n",
       " 0.477129928352498,\n",
       " 0.010292979420790108,\n",
       " 0.058162678641623715,\n",
       " 0.003647460703423503,\n",
       " 0.15136504461206535,\n",
       " 0.1490720511583879,\n",
       " 0.04487182611250498,\n",
       " 0.07775829292406083,\n",
       " 0.49907538246694,\n",
       " 0.0018069980900157678,\n",
       " 1.3959295040327448e-48,\n",
       " 0.413125298113131,\n",
       " 0.29930361612988615,\n",
       " 0.008443211941763347,\n",
       " 0.11972831808059031,\n",
       " 0.3904825733372767,\n",
       " 4.571221826466325e-74,\n",
       " 0.1266871650300992,\n",
       " 0.14721819723454901,\n",
       " 5.860642603474449e-07,\n",
       " 0.2876914086384122,\n",
       " 7.742825855489612e-08,\n",
       " 2.910105886056787e-24,\n",
       " 0.22078626024226902,\n",
       " 8.862143394709043e-12,\n",
       " 7.009069245650849e-21,\n",
       " 7.178978211350947e-05,\n",
       " 0.2123766179581806,\n",
       " 0.004647445282187204,\n",
       " 0.0054177227942268594,\n",
       " 2.088691645630374e-16,\n",
       " 0.7319332173995957,\n",
       " 0.7437620216032781,\n",
       " 0.38049863690215613,\n",
       " 0.06451971058999259,\n",
       " 5.4254015940258486e-18,\n",
       " 0.004342029465846698,\n",
       " 0.3188722695667711,\n",
       " 1.1788517866771707e-08,\n",
       " 6.263958857892237e-07,\n",
       " 0.015286802884594126,\n",
       " 0.7596531998892537,\n",
       " 9.508364502419495e-15,\n",
       " 0.26397934925475314,\n",
       " 0.11789923507966428,\n",
       " 0.04718699916941274,\n",
       " 6.74448960472235e-07,\n",
       " 0.002820690263513629,\n",
       " 0.010024028743536383,\n",
       " 0.19772314247572473,\n",
       " 0.1862960430795986,\n",
       " 2.8966016172789462e-09,\n",
       " 1.8930965189809805e-29,\n",
       " 0.019755699993795135,\n",
       " 0.03309141142069892,\n",
       " 0.0005044599555481963,\n",
       " 6.067820236327463e-26,\n",
       " 0.005421116870909663,\n",
       " 5.320776923277414e-14,\n",
       " 0.0011019305078076227,\n",
       " 5.7884046269788344e-11,\n",
       " 1.7191691774904664e-55,\n",
       " 0.003734673909758175,\n",
       " 0.0005901808889386906,\n",
       " 0.48927186324013794,\n",
       " 0.00019398686445412422,\n",
       " 0.04825058316690002,\n",
       " 0.0007930435999326942,\n",
       " 0.1762153293386903,\n",
       " 0.2880394786068827,\n",
       " 8.844173610122978e-05,\n",
       " 0.24847690196222771,\n",
       " 0.09864891600971214,\n",
       " 0.04903564159815867,\n",
       " 0.27646325518913023,\n",
       " 0.08181941627930822,\n",
       " 2.849058913387645e-60,\n",
       " 0.002012634407615796,\n",
       " 0.2732560527551746,\n",
       " 0.12258284422132963,\n",
       " 0.21809184837556053,\n",
       " 2.145715188083663e-35,\n",
       " 0.39007893422039774,\n",
       " 0.11180653715093715,\n",
       " 0.08209616698071069,\n",
       " 8.825258953418571e-24,\n",
       " 0.027817777979167575,\n",
       " 0.034979962658530386,\n",
       " 0.05332157639309699,\n",
       " 1.14915336608473e-09,\n",
       " 0.007315866279699429,\n",
       " 1.1996029132360257e-42,\n",
       " 0.10806126839811545,\n",
       " 0.2849991343834564,\n",
       " 0.3056676316557184,\n",
       " 0.08058021333588798,\n",
       " 0.19481183392557133,\n",
       " 0.19001595496838813,\n",
       " 0.002662715761365471,\n",
       " 0.13616571218613122,\n",
       " 3.4016612934829287e-28,\n",
       " 0.06854469435646324,\n",
       " 0.05175154123467692,\n",
       " 0.003013230238091799,\n",
       " 0.3175300690270844,\n",
       " 0.0606469767473191,\n",
       " 2.2111900464001953e-14,\n",
       " 0.1953217311389,\n",
       " 1.8197759650087774e-14,\n",
       " 1.5208541640187166e-07,\n",
       " 1.8172777917051474e-07,\n",
       " 1.0945559708567043e-07,\n",
       " 0.03253889164070493,\n",
       " 0.0005141985348639469,\n",
       " 0.021896815608433325,\n",
       " 0.0668372876085701,\n",
       " 5.746655287472382e-18,\n",
       " 1.0109469221772666e-05,\n",
       " 1.572875271440617e-42,\n",
       " 7.425883568665496e-11,\n",
       " 0.5689988818872429,\n",
       " 4.1905407541972356e-22,\n",
       " 0.5128122158869665,\n",
       " 6.569739897402961e-36,\n",
       " 0.021487800902034535,\n",
       " 7.80995527992863e-07,\n",
       " 0.008171037852971748,\n",
       " 0.00048698190588975545,\n",
       " 0.12240853471425042,\n",
       " 0.5320047269034577,\n",
       " 3.1232440334188623e-28,\n",
       " 5.70802495151862e-07,\n",
       " 0.22565237126561422,\n",
       " 0.14911998601575402,\n",
       " 0.11875873260599486,\n",
       " 0.002143241317823588,\n",
       " 7.700896055598024e-26,\n",
       " 0.26453804600680064,\n",
       " 0.019385486606019315,\n",
       " 0.12624673556999128,\n",
       " 0.0374389835991898,\n",
       " 3.769062722409002e-24,\n",
       " 0.008660200070692957,\n",
       " 0.20902085454480496,\n",
       " 2.4817118622376206e-06,\n",
       " 0.16694225955484424,\n",
       " 0.24451168948425478,\n",
       " 0.011777906087774745,\n",
       " 0.051080486538376615,\n",
       " 0.07566771103353241,\n",
       " 0.28971628203319477,\n",
       " 0.13798334044764685,\n",
       " 0.0023763996346217904,\n",
       " 1.9441023387546887e-21,\n",
       " 0.3038118649276359,\n",
       " 0.08638918931740716,\n",
       " 0.047536451890759356,\n",
       " 0.00037045600514909975,\n",
       " 0.050754860600468174,\n",
       " 1.4280737153313973e-05,\n",
       " 0.22028730147081407,\n",
       " 0.08185401891609925,\n",
       " 0.03238704086525616,\n",
       " 2.957209433815153e-06,\n",
       " 2.790655289564839e-15,\n",
       " 0.3598828703783502,\n",
       " 0.4228059778740895,\n",
       " 0.39460975151313865,\n",
       " 0.44695326640917626,\n",
       " 0.3049653544302189,\n",
       " 0.027760216983619596,\n",
       " 0.0019949368388629688,\n",
       " 0.07810817676179081,\n",
       " 0.21514854865522165,\n",
       " 0.06177577326106228,\n",
       " 0.3546579974544247,\n",
       " 0.01663134666770494,\n",
       " 0.04331412768497107,\n",
       " 1.8013824713081147e-05,\n",
       " 0.0005620065791098276,\n",
       " 0.00029413161661754505,\n",
       " 1.4475704744982014e-68,\n",
       " 0.309670671538726,\n",
       " 0.017706406661423958,\n",
       " 0.02694292356105398,\n",
       " 0.17065137632477084,\n",
       " 0.22227922714950107,\n",
       " 2.803666796237716e-17,\n",
       " 0.030166313888852533,\n",
       " 2.6313453836522335e-14,\n",
       " 0.022164584170202343,\n",
       " 0.23433129835777533,\n",
       " 0.25643328340204286,\n",
       " 0.0001633121380334441,\n",
       " 0.0013917741245845503,\n",
       " 6.575498225557931e-16,\n",
       " 0.07133760663909737,\n",
       " 7.474900766482041e-06,\n",
       " 0.13791976531158565,\n",
       " 0.006049626853715273,\n",
       " 0.1956411924021443,\n",
       " 0.026138717029552307,\n",
       " 0.04480159277260448,\n",
       " 0.1331940175847627,\n",
       " 0.5241848938086978,\n",
       " 7.811439571449511e-44,\n",
       " 0.18075934220337495,\n",
       " 3.1129882394291093e-11,\n",
       " 8.465898157176581e-39,\n",
       " 0.22633946101040323,\n",
       " 0.34864944098516,\n",
       " 0.009343196015405609,\n",
       " 0.0002998399034275572,\n",
       " 0.003307636890409346,\n",
       " 0.006355930184638537,\n",
       " 2.610481849971682e-09,\n",
       " 0.1698707510268387,\n",
       " 0.02486774750239544,\n",
       " 0.014086771020152964,\n",
       " 0.05159748215114506,\n",
       " 0.14015996745167705,\n",
       " 1.7468050728201295e-26,\n",
       " 0.6264027727593191,\n",
       " 0.3886567888253709,\n",
       " 2.5163767862015563e-35,\n",
       " 0.20432460715150272,\n",
       " 0.046166790946666744,\n",
       " 0.2181340256526703,\n",
       " 0.00023235696534486592,\n",
       " 4.276688873794733e-05,\n",
       " 1.5690931018195804e-06,\n",
       " 0.1330178941823352,\n",
       " 0.042391249209820264,\n",
       " 0.43165374590828787,\n",
       " 7.137008997790406e-15,\n",
       " 1.3796868425869316e-13,\n",
       " 0.20323364195243526,\n",
       " 0.0004582345919274028,\n",
       " 8.81812590831862e-06,\n",
       " 0.0032116967635758306,\n",
       " 3.376513263477833e-06,\n",
       " 1.960501788953667e-06,\n",
       " 0.06236808410816521,\n",
       " 0.00015627424819722333,\n",
       " 0.00048777901653230063,\n",
       " 0.9380485231764795,\n",
       " 0.0038694211694887165,\n",
       " 0.028744827614288686,\n",
       " 0.6549437969463946,\n",
       " 0.0016068411845633905,\n",
       " 0.001632411801336607,\n",
       " 0.004493350041387816,\n",
       " 0.13800104800444815,\n",
       " 8.450812753447604e-13,\n",
       " 1.0690872270466719e-05,\n",
       " 0.0020927462880325656,\n",
       " 0.04652037508395158,\n",
       " 2.6238117404336737e-38,\n",
       " 0.13696950674546263,\n",
       " 0.16194414648309843,\n",
       " 2.549499049264529e-17,\n",
       " 0.042280120493949115,\n",
       " 0.0006664069414956416,\n",
       " 0.01971335735235977,\n",
       " 0.004571866217425107,\n",
       " 0.0005682147877260003,\n",
       " 0.021612867683023222,\n",
       " 1.2986447404658001e-70,\n",
       " 0.18407791661650355,\n",
       " 0.07717467087344616,\n",
       " 0.14623033959787185,\n",
       " 0.012561663162272836,\n",
       " 0.0011491936838162531,\n",
       " 1.6051920247174861e-09,\n",
       " 7.368509182024627e-07,\n",
       " 0.12422955886691607,\n",
       " 0.15060948968002344,\n",
       " 0.03706020737295009,\n",
       " 0.002258935409107869,\n",
       " 0.17289049007786053,\n",
       " 0.45036599560636836,\n",
       " 0.0540883229653594,\n",
       " 0.21975302774676458,\n",
       " 0.021539457496875854,\n",
       " 0.06170503754509081,\n",
       " 6.398732539841694e-11,\n",
       " 0.2936852350352947,\n",
       " 0.06318133207736241,\n",
       " 0.2670394076457919,\n",
       " 0.6751283348057324,\n",
       " 0.004371161081247863,\n",
       " 0.1893070756116545,\n",
       " 3.643008620908176e-08,\n",
       " 2.525828235883121e-18,\n",
       " 0.5053738407103232,\n",
       " 0.00450215700763511,\n",
       " 0.3237373518905778,\n",
       " 0.03783869520360088,\n",
       " 0.23819512703929402,\n",
       " 0.03658263026597548,\n",
       " 0.2010435848096932,\n",
       " 5.192881140484459e-08,\n",
       " 0.012193226203285295,\n",
       " 6.632003892077448e-06,\n",
       " 0.0010080611158023321,\n",
       " 0.022962099512550228,\n",
       " 0.34222475823018594,\n",
       " 0.4064308874038308,\n",
       " 0.4476702751019392,\n",
       " 0.257786390479249,\n",
       " 0.0007342353207109004,\n",
       " 0.23509037436379485,\n",
       " 0.0528493380059036,\n",
       " 3.350001322565789e-29,\n",
       " 0.0475682118334254,\n",
       " 2.512895870664928e-13,\n",
       " 0.03729769076097382,\n",
       " 0.019014284416520852,\n",
       " 0.005781592762770923,\n",
       " 0.03733958827055679,\n",
       " 0.24829536458634485,\n",
       " 0.07053182169157635,\n",
       " 6.132412156359967e-06,\n",
       " 0.12150083974591193,\n",
       " 8.79648698803022e-05,\n",
       " 0.002875533452847711,\n",
       " 0.18228659233192898,\n",
       " 0.15026796707836265,\n",
       " 1.662630577206373e-11,\n",
       " 0.5583170575021198,\n",
       " 0.2742721569163327,\n",
       " 1.1046412077754972e-10,\n",
       " 1.2862553301329967e-12,\n",
       " 0.09270801514683567,\n",
       " 0.0005343399753705504,\n",
       " 0.0032790977201341506,\n",
       " 0.0007699293619592306,\n",
       " 0.34146604312216916,\n",
       " 6.555082793242047e-25,\n",
       " 0.020120840318809056,\n",
       " 4.837618910723876e-17,\n",
       " 7.4186973416316425e-09,\n",
       " 0.2759278498331658,\n",
       " 0.3248093520152981,\n",
       " 0.025770871554674384,\n",
       " 0.3447871171091431,\n",
       " 0.13813593327664148,\n",
       " 2.595218963155484e-18,\n",
       " 0.00020743588637490716,\n",
       " 0.00799156802896798,\n",
       " 4.375418492141481e-05,\n",
       " 0.26176492486786435,\n",
       " 0.19976631704511896,\n",
       " 0.001367621163397701,\n",
       " 1.8739095588131143e-07,\n",
       " 1.488415922950626e-25,\n",
       " 0.023355462788950627,\n",
       " 0.031851917239956576,\n",
       " 5.1092362697308915e-06,\n",
       " 0.0070739157301710825,\n",
       " 5.274319647510816e-08,\n",
       " 9.575920641227384e-11,\n",
       " 0.2713835863907655,\n",
       " 0.23927300078620295,\n",
       " 0.00042007215135117564,\n",
       " 0.04631690563043948,\n",
       " 4.055728099251489e-60,\n",
       " 0.15707177030583908,\n",
       " 0.09785988090142152,\n",
       " 0.48418134293524273,\n",
       " 0.5962027949323118,\n",
       " 0.3705302299797361,\n",
       " 0.006382109925630223,\n",
       " 0.019087775119073055,\n",
       " 0.022520789770198606,\n",
       " 0.10843589010952272,\n",
       " 4.01597992058852e-09,\n",
       " 0.2628354300257251,\n",
       " 0.14320181755566336,\n",
       " 0.04118050047432595,\n",
       " 0.17705557665271188,\n",
       " 4.560490527924285e-17,\n",
       " 0.015136041826963983,\n",
       " 5.2154234699284094e-45,\n",
       " 0.14591970570654927,\n",
       " 2.5161998623394834e-63,\n",
       " 0.49799211444394115,\n",
       " 0.05223689167710044,\n",
       " 0.2458475713076147,\n",
       " 0.036989231473143286,\n",
       " 0.03016747258567698,\n",
       " 0.026019812746457295,\n",
       " 0.012106017053667933,\n",
       " 0.17699972467569103,\n",
       " 0.6432060326947198,\n",
       " 0.09625970118253657,\n",
       " 0.33277349004047896,\n",
       " 0.07946582914867782,\n",
       " 0.004503749790524257,\n",
       " 0.005373273604827977,\n",
       " 0.25692659368994003,\n",
       " 0.34891666308139935,\n",
       " 6.052457026239508e-09,\n",
       " 0.5525578992356613,\n",
       " 0.07391457987518583,\n",
       " 9.400897477240202e-05,\n",
       " 0.36956984186043523,\n",
       " 1.3395419166171154e-09,\n",
       " 8.634351441196986e-06,\n",
       " 0.561641617892077,\n",
       " 0.048338468845102324,\n",
       " 2.6228317544815897e-39,\n",
       " 0.10169296766248648,\n",
       " 3.1909153559126253e-39,\n",
       " 0.04066930734500754,\n",
       " 0.02175692705081083,\n",
       " 0.1979029264813544,\n",
       " 0.0007890631458366257,\n",
       " 1.2600498981912377e-12,\n",
       " 2.277475848464974e-34,\n",
       " 0.5489872849003684,\n",
       " 0.468918652028305,\n",
       " 4.314947709026257e-38,\n",
       " 0.2757735205331671,\n",
       " 0.29975942488617774,\n",
       " 1.1853718275422788e-06,\n",
       " 5.580260659631922e-06,\n",
       " 1.2196211790652931e-06,\n",
       " 0.6077287628036554,\n",
       " 0.18630369606352679,\n",
       " 3.194549539006879e-22,\n",
       " 0.001302077679018634,\n",
       " 0.16437101736093185,\n",
       " 0.1750743030636267,\n",
       " 0.16201058030825152,\n",
       " 0.058648810717325486,\n",
       " 1.9086119160408066e-15,\n",
       " 4.2750546476387184e-17,\n",
       " 0.2270913058311362,\n",
       " 1.2973684853910185e-07,\n",
       " 0.05900190744943205,\n",
       " 7.100845069551491e-05,\n",
       " 0.2403110002846828,\n",
       " 0.2661764979476811,\n",
       " 0.0024653701048957043,\n",
       " 0.2647410607607904,\n",
       " 0.005531721774842273,\n",
       " 0.19215261792426386,\n",
       " 1.096280222042463e-22,\n",
       " 0.0013959805055349078,\n",
       " 0.04476984594898745,\n",
       " 0.13724151381004518,\n",
       " 0.11088883392032939,\n",
       " 1.375502427929054e-36,\n",
       " 0.034563362012990005,\n",
       " 0.0076637796812656775,\n",
       " 0.0013492546672933905,\n",
       " 0.11979474069366865,\n",
       " 5.122843404757054e-09,\n",
       " 9.216053471481582e-09,\n",
       " 0.0017035641370045137,\n",
       " 0.32945242553578136,\n",
       " 0.17307123123758836,\n",
       " 0.032120631070045806,\n",
       " 1.0367765696525451e-13,\n",
       " 0.034379101107600646,\n",
       " 0.002120156333414837,\n",
       " 0.0009731042306352939,\n",
       " 5.013269978738453e-12,\n",
       " 0.24923283212510233,\n",
       " 0.0004921719961403227,\n",
       " 0.0889444472267666,\n",
       " 0.015167056572824644,\n",
       " 0.04892895023426961,\n",
       " 0.0251646016112406,\n",
       " 0.16978345583910315,\n",
       " 0.015080452884844818,\n",
       " 0.00021831345171293288,\n",
       " 0.010300688570741805,\n",
       " 0.03747716407157577,\n",
       " 1.672834358181234e-06,\n",
       " 0.28332856621498,\n",
       " 3.908632810158105e-14,\n",
       " 0.0034215616594575338,\n",
       " 0.00015924360035379678,\n",
       " 0.14490950779461617,\n",
       " 0.0007024185419075863,\n",
       " 0.029441698342274218,\n",
       " 0.01915844171212579,\n",
       " 0.05315347434254599,\n",
       " 0.08710007950764198,\n",
       " 2.756888229517066e-12,\n",
       " 0.028484873795564063,\n",
       " 0.1698664374118987,\n",
       " 0.2450521774861846,\n",
       " 0.3646989464895853,\n",
       " 0.004898323384241738,\n",
       " 3.739050112403209e-15,\n",
       " 0.10880118285561943,\n",
       " 0.18432349248941982,\n",
       " 0.5460805124497343,\n",
       " 0.6182047470348538,\n",
       " 0.27884729062405894,\n",
       " 0.18275635879163202,\n",
       " 0.10362301886627373,\n",
       " 1.2609247494071997e-07,\n",
       " 0.004475147951606826,\n",
       " 0.17887725084672945,\n",
       " 0.1444822903253532,\n",
       " 0.21936191214921819,\n",
       " 0.019984185327704303,\n",
       " 0.037963266318253724,\n",
       " 0.001527500073405816,\n",
       " 0.407150555630208,\n",
       " 0.4317821034244086,\n",
       " 0.008152192825752183,\n",
       " 6.11273837892071e-05,\n",
       " 0.10339245424750687,\n",
       " 0.46378762297317677,\n",
       " 0.13792537912699618,\n",
       " 0.0020482728590523022,\n",
       " 0.10053395249158542,\n",
       " 2.535340037058428e-58,\n",
       " 0.02779944170539641,\n",
       " 0.13799850682646073,\n",
       " 0.13791712529449282,\n",
       " 3.177749124825781e-05,\n",
       " 5.3610874465689974e-05,\n",
       " 0.07542237033765703,\n",
       " 0.0021358256687350123,\n",
       " 2.2511370746211164e-24,\n",
       " 0.05391217285903851,\n",
       " 5.285428267606159e-15,\n",
       " 0.002367679580361324,\n",
       " 0.08993711853940198,\n",
       " 0.009971819813663976,\n",
       " 0.3916163161752845,\n",
       " 0.3234810659939419,\n",
       " 0.46779199016791,\n",
       " 0.008451136213672968,\n",
       " 0.13438507411551723,\n",
       " 0.035086639976082794,\n",
       " 0.05213764470727454,\n",
       " 0.3410692129631697,\n",
       " 0.0002000608796518736,\n",
       " 0.004294504565800356,\n",
       " 1.6759371033934431e-09,\n",
       " 0.23561726613224895,\n",
       " 0.02198081752387864,\n",
       " 0.0951650695723798,\n",
       " 0.12359389810004222,\n",
       " 1.8038994119561517e-12,\n",
       " 0.11434470144698829,\n",
       " 0.03352376455209253,\n",
       " 0.33030979070481187,\n",
       " 0.05571275843222267,\n",
       " 2.480958433763034e-22,\n",
       " 0.0011460425600828487,\n",
       " 0.7730334025999572,\n",
       " 0.1254523743179991,\n",
       " 0.471240806090987,\n",
       " 4.5237286206316724e-07,\n",
       " 0.03538763107286823,\n",
       " 2.5381988934417243e-20,\n",
       " 0.05289398158619161,\n",
       " 0.04466188320278445,\n",
       " 0.3483648009162342,\n",
       " 2.1744247226775287e-07,\n",
       " 2.6547642556651792e-06,\n",
       " 0.0070124281082203695,\n",
       " 0.07631760792164778,\n",
       " 0.02930268554406847,\n",
       " 0.5851340744133318,\n",
       " 0.03407365790937875,\n",
       " 0.19034216336401144,\n",
       " 0.17481708935701212,\n",
       " 0.42489949809792454,\n",
       " 0.011236904914823551,\n",
       " 0.004681321156932204,\n",
       " 0.06349784895519242,\n",
       " 0.0182876212715565,\n",
       " 0.002147003373105606,\n",
       " 1.1636792223628128e-13,\n",
       " 0.00847629349699369,\n",
       " 0.0007595305760833073,\n",
       " 0.0904987505158597,\n",
       " 0.8459037806890966,\n",
       " 0.1251530439568787,\n",
       " 0.40203030679110247,\n",
       " 0.004580564277374929,\n",
       " 0.1230790027328766,\n",
       " 0.016666457032786613,\n",
       " 6.088528710202049e-19,\n",
       " 0.020160517286645464,\n",
       " 2.3591686199854756e-05,\n",
       " 0.03086608321415221,\n",
       " 0.01343806824550156,\n",
       " 0.004743432704114395,\n",
       " 0.020219947289897035,\n",
       " 1.0618867908648609e-33,\n",
       " 3.0820600674090766e-07,\n",
       " 1.9641768224405548e-20,\n",
       " 6.729631539833932e-05,\n",
       " 5.348303864616093e-18,\n",
       " 0.07907002820563215,\n",
       " 1.7699428984941301e-12,\n",
       " 7.399724566849931e-10,\n",
       " 2.994930852340553e-15,\n",
       " 0.01728164399115511,\n",
       " 1.299099440280654e-05,\n",
       " 3.6742715629603997e-20,\n",
       " 4.547170183013795e-09,\n",
       " 5.475508014777849e-10,\n",
       " 0.5464460869029991,\n",
       " 0.04096674922083722,\n",
       " 0.08814317173254577,\n",
       " 0.0026671170580232282,\n",
       " 0.06510394644484725,\n",
       " 0.050099330891652485,\n",
       " 0.7438543455496998,\n",
       " 0.0023281802083576636,\n",
       " 3.6656230500044644e-08,\n",
       " 0.1747389789474639,\n",
       " 0.13718865588191168,\n",
       " 9.17194795057455e-07,\n",
       " 1.1631687051342729e-58,\n",
       " 0.3254078811697828,\n",
       " 0.24848026997583617,\n",
       " 0.13444595785940344,\n",
       " 0.0020469240988924766,\n",
       " 0.10612371453173002,\n",
       " 0.5601237648980146,\n",
       " 0.0003073696697114206,\n",
       " 0.050563469836359974,\n",
       " 0.009171054905353256,\n",
       " 0.00013714419286088114,\n",
       " 0.013841549734937121,\n",
       " 0.004828635313643544,\n",
       " 0.17939046383339102,\n",
       " 3.1505834954050175e-13,\n",
       " 0.15048917084290975,\n",
       " 7.366091983535707e-06,\n",
       " 7.122898617965514e-29,\n",
       " 0.0016594525308142988,\n",
       " 3.8318385318040905e-06,\n",
       " 0.02950073050142419,\n",
       " 2.8825971249138846e-45,\n",
       " 4.127869624129626e-40,\n",
       " 0.012586057360664859,\n",
       " 0.33717961521789375,\n",
       " 0.3977765611805032,\n",
       " 0.14505311431138945,\n",
       " 0.0002964296269542445,\n",
       " 0.02125179677259069,\n",
       " 0.10310156539133157,\n",
       " 0.2299706943871132,\n",
       " 0.016658362019711565,\n",
       " 0.12079437012786262,\n",
       " 0.0204318895221653,\n",
       " 0.20144951653650497,\n",
       " 0.044421172931514964,\n",
       " 0.0005089487487196956,\n",
       " 0.05365863834463288,\n",
       " 3.335717886767208e-25,\n",
       " 0.00010473401535750104,\n",
       " 3.2871554248226075e-34,\n",
       " 0.003006437067719058,\n",
       " 8.21907744851077e-08,\n",
       " 0.00923628022703739,\n",
       " 0.00016072394350738793,\n",
       " 0.0423319321704163,\n",
       " 4.673065320541715e-11,\n",
       " 6.5287620303388905e-18,\n",
       " 0.14506145856973152,\n",
       " 0.13719327669686252,\n",
       " 0.0003715680627552578,\n",
       " 0.005820767407999686,\n",
       " 0.0032467822599241444,\n",
       " 0.0032476467350134857,\n",
       " 0.17243274472738016,\n",
       " 0.05838628335667588,\n",
       " 0.2850965402698818,\n",
       " 0.007198782917183551,\n",
       " 0.160237675871694,\n",
       " 0.4004780612594044,\n",
       " 0.12782998720921124,\n",
       " 0.15575632763304673,\n",
       " 0.5132686105955679,\n",
       " 0.0993250255523996,\n",
       " 0.06968492587952498,\n",
       " 0.04853370130693278,\n",
       " 0.12773906781090458,\n",
       " 6.66631170595692e-19,\n",
       " 0.006754121083138675,\n",
       " 0.250839299752528,\n",
       " 0.05863583727671285,\n",
       " 1.6917167158613205e-05,\n",
       " 1.1824478910612327e-12,\n",
       " 1.994003066803647e-73,\n",
       " 0.005218957234024407,\n",
       " 4.764784848834517e-06,\n",
       " 0.008281995301651076,\n",
       " 0.03548645352025843,\n",
       " 0.026301657252838465,\n",
       " 0.28802435875713195,\n",
       " 0.027841762645931262,\n",
       " 2.326397962499507e-13,\n",
       " 0.10308843378879488,\n",
       " 0.0022079478576920693,\n",
       " 7.464584956706889e-23,\n",
       " 0.7682867298691055,\n",
       " 8.408998227405361e-06,\n",
       " 0.22370302124722927,\n",
       " 0.1908651834699128,\n",
       " 0.5270018546931762,\n",
       " 3.02111426548157e-31,\n",
       " 0.06010810431515905,\n",
       " 5.2864619225104814e-23,\n",
       " 9.174563744526164e-14,\n",
       " 0.0027314349533450227,\n",
       " 0.2911139110379038,\n",
       " 1.1379426469944433e-18,\n",
       " 0.4392430014873197,\n",
       " 0.04273023943783291,\n",
       " 0.04832501882397034,\n",
       " 0.2493394561056359,\n",
       " 0.005617446999351296,\n",
       " 0.007678118103561738,\n",
       " 0.2592601309740858,\n",
       " 0.00011660530244313884,\n",
       " 0.03326560910194394,\n",
       " 2.1923657438058427e-05,\n",
       " 0.021206066571178683,\n",
       " 3.8071532009281476e-27,\n",
       " 0.01497173764273727,\n",
       " 0.0016745594299996298,\n",
       " 0.03224210519485325,\n",
       " 0.10288504588971423,\n",
       " 0.49506169603861067,\n",
       " 0.24707049152657523,\n",
       " 0.06126223853716749,\n",
       " 9.099487635230596e-10,\n",
       " 2.894257796738634e-54,\n",
       " 0.07010223516909256,\n",
       " 0.002956705913527187,\n",
       " 0.0013481178091106151,\n",
       " 0.0106897596482284,\n",
       " 0.06303854067153825,\n",
       " 0.03870475879275415,\n",
       " 1.6328167303610279e-06,\n",
       " 0.013580575914371559,\n",
       " 0.012925587249624997,\n",
       " 0.1804872022381363,\n",
       " 0.4347897162732546,\n",
       " 1.8931020690480505e-08,\n",
       " 0.06798357053467861,\n",
       " 0.12490692839158013,\n",
       " 0.05006187526217855,\n",
       " 0.18044541882032678,\n",
       " 0.0010387849016505377,\n",
       " 1.0641101719901963e-14,\n",
       " ...]"
      ]
     },
     "execution_count": 11,
     "metadata": {},
     "output_type": "execute_result"
    }
   ],
   "source": [
    "list_geobleu_val"
   ]
  },
  {
   "cell_type": "code",
   "execution_count": 48,
   "metadata": {},
   "outputs": [],
   "source": [
    "test_case = 20007"
   ]
  },
  {
   "cell_type": "code",
   "execution_count": 49,
   "metadata": {},
   "outputs": [
    {
     "data": {
      "application/vnd.plotly.v1+json": {
       "config": {
        "plotlyServerURL": "https://plot.ly"
       },
       "data": [
        {
         "hovertemplate": "User ID=20007<br>time=%{x}<br>Time=%{y}<extra></extra>",
         "legendgroup": "20007",
         "line": {
          "color": "#636efa",
          "dash": "solid"
         },
         "marker": {
          "symbol": "circle"
         },
         "mode": "lines+markers",
         "name": "20007",
         "showlegend": true,
         "type": "scattergl",
         "x": [
          8,
          13,
          14,
          25,
          28,
          29,
          30,
          31,
          32,
          33,
          34,
          35,
          36,
          37,
          39,
          40,
          41,
          42,
          43,
          44,
          45,
          46,
          47,
          50,
          52,
          53,
          54,
          55,
          57,
          58,
          60,
          63,
          64,
          68,
          70,
          72,
          76,
          79,
          81,
          90,
          93,
          101,
          103,
          105,
          109,
          112,
          114,
          115,
          119,
          120,
          123,
          125,
          126,
          127,
          130,
          132,
          134,
          135,
          140,
          144,
          146,
          154,
          166,
          170,
          173,
          178,
          179,
          180,
          184,
          190,
          199,
          207,
          210,
          211,
          213,
          214,
          215,
          216,
          218,
          219,
          220,
          221,
          222,
          223,
          224,
          225,
          231,
          232,
          233,
          234,
          235,
          241,
          246,
          249,
          250,
          251,
          255,
          258,
          259,
          261,
          263,
          264,
          268,
          269,
          270,
          272,
          277,
          289,
          290,
          291,
          294,
          296,
          297,
          303,
          318,
          323,
          331,
          334,
          336,
          340,
          344,
          345,
          349,
          351,
          354,
          355,
          362,
          365,
          366,
          367,
          368,
          369,
          370,
          371,
          372,
          373,
          375,
          376,
          377,
          378,
          380,
          383,
          387,
          389,
          394,
          397,
          398,
          399,
          402,
          419,
          443,
          449,
          453,
          462,
          463,
          470,
          478,
          486,
          488,
          491,
          492,
          497,
          508,
          509,
          510,
          514,
          515,
          517,
          522,
          530,
          531,
          536,
          542,
          548,
          550,
          555,
          556,
          557,
          558,
          565,
          568,
          569,
          580,
          593,
          595,
          596,
          600,
          603,
          604,
          605,
          606,
          607,
          609,
          617,
          620,
          627,
          629,
          632,
          633,
          653,
          657,
          660,
          661,
          667,
          669,
          673,
          680,
          683,
          686,
          690,
          697,
          698,
          699,
          700,
          701,
          702,
          704,
          705,
          707,
          708,
          709,
          710,
          711,
          712,
          714,
          715,
          717,
          722,
          727,
          731,
          742,
          752,
          756,
          761,
          765,
          780,
          788,
          789,
          791,
          792,
          793,
          794,
          795,
          802,
          810,
          811,
          813,
          818,
          822,
          841,
          843,
          845,
          846,
          847,
          859,
          861,
          868,
          871,
          873,
          874,
          883,
          888,
          892,
          894,
          898,
          903,
          921,
          925,
          928,
          930,
          931,
          934,
          935,
          936,
          938,
          939,
          940,
          941,
          944,
          952,
          954,
          955,
          957,
          959,
          973,
          975,
          990,
          994,
          998,
          999,
          1000,
          1001,
          1008,
          1011,
          1026,
          1033,
          1038,
          1046,
          1047,
          1052,
          1057,
          1066,
          1070,
          1079,
          1088,
          1096,
          1103,
          1113,
          1116,
          1119,
          1120,
          1124,
          1130,
          1131,
          1134,
          1135,
          1137,
          1139,
          1144,
          1155,
          1158,
          1159,
          1161,
          1163,
          1164,
          1166,
          1170,
          1173,
          1176,
          1179,
          1182,
          1183,
          1185,
          1191,
          1193,
          1203,
          1211,
          1212,
          1215,
          1217,
          1221,
          1222,
          1223,
          1224,
          1227,
          1228,
          1229,
          1230,
          1232,
          1235,
          1239,
          1240,
          1242,
          1249,
          1252,
          1254,
          1261,
          1274,
          1277,
          1278,
          1285,
          1287,
          1288,
          1293,
          1296,
          1300,
          1302,
          1303,
          1304,
          1306,
          1307,
          1309,
          1312,
          1315,
          1318,
          1324,
          1327,
          1330,
          1340,
          1345,
          1351,
          1358,
          1363,
          1364,
          1366,
          1369,
          1372,
          1383,
          1384,
          1385,
          1386,
          1387,
          1388,
          1389,
          1390,
          1391,
          1395,
          1397,
          1398,
          1399,
          1410,
          1414,
          1415,
          1416,
          1420,
          1421,
          1422,
          1423,
          1431,
          1432,
          1436,
          1437,
          1438,
          1440,
          1449,
          1450,
          1458,
          1467,
          1469,
          1470,
          1471,
          1472,
          1479,
          1481,
          1484,
          1502,
          1503,
          1507,
          1513,
          1514,
          1515,
          1517,
          1518,
          1519,
          1525,
          1529,
          1534,
          1536,
          1538,
          1546,
          1547,
          1549,
          1552,
          1553,
          1554,
          1557,
          1558,
          1561,
          1562,
          1563,
          1564,
          1565,
          1567,
          1568,
          1569,
          1570,
          1571,
          1572,
          1577,
          1578,
          1580,
          1581,
          1583,
          1584,
          1587,
          1591,
          1593,
          1595,
          1605,
          1609,
          1610,
          1611,
          1612,
          1613,
          1614,
          1615,
          1629,
          1640,
          1644,
          1649,
          1650,
          1651,
          1668,
          1683,
          1685,
          1688,
          1694,
          1700,
          1705,
          1708,
          1709,
          1710,
          1711,
          1713,
          1714,
          1715,
          1716,
          1720,
          1722,
          1723,
          1735,
          1739,
          1741,
          1751,
          1758,
          1759,
          1769,
          1773,
          1775,
          1776,
          1786,
          1793,
          1794,
          1798,
          1801,
          1802,
          1803,
          1804,
          1806,
          1807,
          1809,
          1811,
          1812,
          1813,
          1826,
          1828,
          1830,
          1831,
          1834,
          1841,
          1847,
          1850,
          1853,
          1854,
          1861,
          1872,
          1875,
          1883,
          1886,
          1888,
          1895,
          1896,
          1897,
          1898,
          1899,
          1900,
          1901,
          1903,
          1904,
          1905,
          1906,
          1908,
          1909,
          1910,
          1912,
          1913,
          1918,
          1931,
          1932,
          1934,
          1938,
          1939,
          1943,
          1944,
          1947,
          1948,
          1950,
          1951,
          1971,
          1974,
          1979,
          1980,
          1985,
          1994,
          2002,
          2003,
          2005,
          2006,
          2007,
          2008,
          2014,
          2015,
          2016,
          2019,
          2028,
          2030,
          2038,
          2042,
          2043,
          2045,
          2049,
          2050,
          2051,
          2052,
          2053,
          2054,
          2058,
          2060,
          2061,
          2064,
          2073,
          2078,
          2079,
          2082,
          2088,
          2092,
          2094,
          2095,
          2102,
          2107,
          2113,
          2122,
          2124,
          2136,
          2140,
          2141,
          2142,
          2144,
          2149,
          2150,
          2156,
          2157,
          2160,
          2162,
          2167,
          2171,
          2175,
          2178,
          2190,
          2191,
          2210,
          2211,
          2215,
          2216,
          2217,
          2218,
          2223,
          2224,
          2232,
          2237,
          2238,
          2239,
          2263,
          2267,
          2270,
          2274,
          2275,
          2280,
          2281,
          2282,
          2284,
          2286,
          2291,
          2301,
          2308,
          2311,
          2317,
          2322,
          2328,
          2334,
          2338,
          2342,
          2354,
          2359,
          2363,
          2371,
          2376,
          2379,
          2380,
          2381,
          2382,
          2383,
          2388,
          2389,
          2391,
          2393,
          2394,
          2395,
          2405,
          2408,
          2410,
          2416,
          2418,
          2424,
          2427,
          2428,
          2430,
          2431,
          2432,
          2433,
          2434,
          2435,
          2436,
          2437,
          2438,
          2439,
          2441,
          2442,
          2443,
          2458,
          2462,
          2463,
          2472,
          2477,
          2478,
          2479,
          2484,
          2498,
          2499,
          2500,
          2503,
          2506,
          2507,
          2509,
          2511,
          2515,
          2520,
          2521,
          2524,
          2525,
          2526,
          2535,
          2536,
          2538,
          2539,
          2548,
          2554,
          2558,
          2574,
          2575,
          2582,
          2583,
          2588,
          2590,
          2598,
          2599,
          2605,
          2607,
          2608,
          2613,
          2615,
          2618,
          2619,
          2620,
          2621,
          2622,
          2623,
          2626,
          2630,
          2633,
          2644,
          2646,
          2647,
          2650,
          2652,
          2654,
          2656,
          2661,
          2662,
          2663,
          2664,
          2668,
          2670,
          2671,
          2674,
          2675,
          2676,
          2677,
          2678,
          2679,
          2683,
          2686,
          2691,
          2702,
          2705,
          2711,
          2714,
          2719,
          2720,
          2724,
          2725,
          2726,
          2727,
          2729,
          2730,
          2740,
          2746,
          2748,
          2764,
          2769,
          2771,
          2774,
          2777,
          2781,
          2792,
          2793,
          2800,
          2807,
          2809,
          2810,
          2812,
          2814,
          2815,
          2816,
          2826,
          2829,
          2834,
          2838,
          2839,
          2841,
          2845,
          2848,
          2851,
          2856,
          2862,
          2867,
          2870,
          2872,
          2874,
          2876,
          2880,
          2882,
          2888,
          2900,
          2908,
          2910,
          2911,
          2913,
          2914,
          2919,
          2920,
          2923,
          2925,
          2926,
          2931,
          2935,
          2937,
          2948,
          2951,
          2954,
          2959,
          2968,
          2972,
          2981,
          2986,
          2987,
          2990,
          2994,
          2995,
          2997,
          2999,
          3001,
          3002,
          3004,
          3005,
          3007,
          3011,
          3012,
          3013,
          3014,
          3015,
          3016,
          3017,
          3018,
          3019,
          3032,
          3033,
          3046,
          3051,
          3053,
          3054,
          3055,
          3056,
          3057,
          3059,
          3060,
          3061,
          3066,
          3071,
          3075,
          3082,
          3083,
          3086,
          3089,
          3098,
          3102,
          3104,
          3108,
          3114,
          3116,
          3117,
          3132,
          3138,
          3139,
          3143,
          3144,
          3145,
          3148,
          3149,
          3154,
          3156,
          3158,
          3159,
          3180,
          3194,
          3197,
          3198,
          3202,
          3205,
          3208,
          3211,
          3224,
          3228,
          3231,
          3242,
          3243,
          3244,
          3245,
          3246,
          3248,
          3249,
          3250,
          3258,
          3259,
          3260,
          3261,
          3264,
          3267,
          3270,
          3273,
          3289,
          3290,
          3294,
          3296,
          3299,
          3300,
          3303,
          3306,
          3309,
          3313,
          3316,
          3321,
          3325,
          3328,
          3330,
          3338,
          3339,
          3341,
          3343,
          3344,
          3345,
          3346,
          3347,
          3352,
          3359,
          3361,
          3362,
          3364,
          3369,
          3379,
          3385,
          3388,
          3391,
          3392,
          3393,
          3394,
          3395,
          3396,
          3399,
          3402,
          3403,
          3416,
          3457,
          3463,
          3466,
          3474,
          3478,
          3481,
          3482,
          3486,
          3487,
          3493,
          3495,
          3503,
          3505,
          3507,
          3508,
          3515,
          3521,
          3525,
          3528,
          3529,
          3532,
          3534,
          3539,
          3545,
          3548,
          3551,
          3555,
          3557,
          3560,
          3562,
          3569,
          3574,
          3581,
          3582,
          3583,
          3587,
          3590,
          3593,
          3595
         ],
         "xaxis": "x",
         "y": [
          85,
          85,
          85,
          85,
          76,
          73,
          73,
          73,
          73,
          71,
          72,
          73,
          74,
          74,
          80,
          80,
          74,
          75,
          74,
          85,
          79,
          76,
          77,
          85,
          85,
          85,
          85,
          85,
          85,
          85,
          85,
          85,
          85,
          85,
          85,
          85,
          85,
          85,
          85,
          85,
          85,
          85,
          85,
          85,
          85,
          85,
          78,
          75,
          75,
          75,
          75,
          74,
          85,
          85,
          85,
          85,
          85,
          85,
          85,
          85,
          85,
          85,
          85,
          85,
          85,
          85,
          85,
          85,
          85,
          85,
          85,
          85,
          85,
          85,
          74,
          73,
          74,
          75,
          73,
          73,
          73,
          73,
          85,
          85,
          74,
          73,
          73,
          73,
          74,
          79,
          85,
          85,
          85,
          85,
          85,
          85,
          85,
          77,
          75,
          75,
          74,
          74,
          74,
          78,
          83,
          85,
          85,
          85,
          85,
          85,
          85,
          85,
          85,
          85,
          85,
          85,
          85,
          85,
          85,
          85,
          85,
          85,
          85,
          85,
          85,
          85,
          85,
          85,
          73,
          75,
          79,
          80,
          79,
          80,
          80,
          79,
          79,
          78,
          82,
          85,
          85,
          85,
          85,
          85,
          85,
          85,
          85,
          85,
          85,
          85,
          85,
          85,
          85,
          85,
          85,
          85,
          85,
          85,
          85,
          85,
          85,
          85,
          85,
          76,
          80,
          85,
          85,
          85,
          85,
          85,
          85,
          85,
          85,
          85,
          85,
          85,
          85,
          85,
          85,
          85,
          85,
          85,
          85,
          85,
          82,
          75,
          73,
          73,
          79,
          78,
          85,
          85,
          85,
          85,
          85,
          85,
          85,
          85,
          85,
          85,
          85,
          85,
          85,
          85,
          85,
          85,
          85,
          85,
          85,
          85,
          85,
          86,
          73,
          71,
          72,
          79,
          76,
          80,
          81,
          76,
          85,
          90,
          82,
          82,
          86,
          85,
          85,
          85,
          85,
          85,
          85,
          85,
          85,
          85,
          85,
          85,
          84,
          82,
          82,
          79,
          74,
          74,
          83,
          85,
          85,
          81,
          82,
          85,
          85,
          73,
          74,
          76,
          79,
          85,
          85,
          85,
          85,
          85,
          85,
          85,
          85,
          80,
          77,
          78,
          85,
          85,
          85,
          85,
          85,
          85,
          75,
          75,
          74,
          75,
          75,
          74,
          74,
          77,
          85,
          85,
          85,
          90,
          88,
          85,
          85,
          85,
          85,
          85,
          85,
          85,
          85,
          85,
          85,
          85,
          85,
          85,
          85,
          85,
          78,
          74,
          85,
          85,
          85,
          85,
          85,
          85,
          85,
          85,
          85,
          85,
          85,
          85,
          80,
          80,
          85,
          85,
          85,
          85,
          85,
          85,
          85,
          85,
          85,
          85,
          85,
          85,
          85,
          85,
          85,
          85,
          85,
          85,
          85,
          85,
          85,
          85,
          85,
          85,
          85,
          85,
          85,
          74,
          79,
          80,
          80,
          76,
          73,
          85,
          89,
          82,
          87,
          82,
          85,
          85,
          85,
          85,
          85,
          85,
          85,
          85,
          85,
          85,
          85,
          85,
          85,
          85,
          85,
          85,
          85,
          85,
          85,
          85,
          85,
          85,
          85,
          85,
          85,
          85,
          85,
          85,
          85,
          85,
          85,
          85,
          85,
          85,
          85,
          77,
          80,
          76,
          76,
          74,
          74,
          80,
          76,
          85,
          85,
          85,
          85,
          85,
          85,
          85,
          85,
          85,
          86,
          90,
          82,
          83,
          82,
          82,
          88,
          85,
          85,
          85,
          85,
          85,
          85,
          77,
          80,
          85,
          85,
          85,
          85,
          85,
          85,
          85,
          85,
          85,
          85,
          85,
          80,
          82,
          85,
          85,
          85,
          85,
          85,
          85,
          85,
          85,
          85,
          85,
          85,
          77,
          75,
          75,
          85,
          76,
          74,
          92,
          93,
          94,
          76,
          75,
          82,
          88,
          82,
          90,
          90,
          85,
          80,
          70,
          71,
          76,
          85,
          85,
          85,
          85,
          85,
          83,
          74,
          76,
          76,
          76,
          78,
          84,
          85,
          85,
          85,
          85,
          85,
          85,
          85,
          85,
          85,
          85,
          85,
          85,
          85,
          85,
          85,
          85,
          79,
          74,
          73,
          71,
          61,
          74,
          75,
          79,
          85,
          85,
          85,
          85,
          82,
          85,
          85,
          85,
          85,
          85,
          85,
          85,
          85,
          85,
          82,
          90,
          90,
          85,
          86,
          82,
          82,
          82,
          82,
          88,
          85,
          85,
          85,
          85,
          85,
          85,
          85,
          79,
          79,
          85,
          85,
          85,
          85,
          85,
          85,
          85,
          85,
          84,
          75,
          67,
          61,
          66,
          65,
          61,
          62,
          60,
          59,
          66,
          81,
          77,
          80,
          84,
          85,
          85,
          85,
          85,
          79,
          75,
          74,
          78,
          77,
          76,
          85,
          85,
          85,
          85,
          85,
          85,
          85,
          85,
          85,
          80,
          77,
          80,
          80,
          79,
          75,
          85,
          85,
          85,
          85,
          85,
          85,
          85,
          85,
          85,
          83,
          79,
          79,
          78,
          78,
          75,
          75,
          76,
          75,
          85,
          85,
          85,
          85,
          85,
          85,
          89,
          88,
          85,
          85,
          85,
          85,
          85,
          85,
          85,
          85,
          82,
          85,
          85,
          85,
          85,
          85,
          85,
          85,
          85,
          85,
          85,
          85,
          85,
          85,
          85,
          85,
          85,
          85,
          85,
          85,
          85,
          85,
          85,
          85,
          86,
          85,
          85,
          85,
          85,
          85,
          80,
          75,
          75,
          75,
          75,
          74,
          85,
          85,
          85,
          85,
          85,
          85,
          85,
          85,
          85,
          85,
          85,
          85,
          85,
          85,
          85,
          85,
          85,
          90,
          86,
          81,
          93,
          82,
          82,
          82,
          85,
          85,
          85,
          85,
          85,
          85,
          85,
          85,
          85,
          85,
          75,
          77,
          82,
          91,
          88,
          86,
          88,
          86,
          82,
          79,
          77,
          69,
          85,
          85,
          85,
          85,
          85,
          85,
          85,
          85,
          85,
          85,
          85,
          85,
          85,
          85,
          85,
          85,
          85,
          85,
          85,
          85,
          85,
          85,
          85,
          85,
          85,
          85,
          85,
          85,
          85,
          85,
          85,
          85,
          85,
          85,
          85,
          85,
          85,
          85,
          85,
          85,
          85,
          85,
          85,
          85,
          83,
          77,
          82,
          82,
          85,
          85,
          85,
          85,
          85,
          85,
          85,
          85,
          85,
          85,
          85,
          85,
          85,
          67,
          63,
          62,
          62,
          75,
          75,
          78,
          79,
          81,
          88,
          90,
          84,
          85,
          85,
          85,
          85,
          85,
          85,
          75,
          72,
          78,
          78,
          76,
          85,
          74,
          73,
          79,
          85,
          85,
          85,
          85,
          85,
          85,
          85,
          85,
          85,
          86,
          85,
          85,
          85,
          85,
          85,
          76,
          82,
          85,
          85,
          85,
          85,
          85,
          85,
          85,
          85,
          85,
          85,
          85,
          85,
          85,
          85,
          85,
          85,
          85,
          85,
          85,
          85,
          85,
          85,
          85,
          85,
          85,
          85,
          85,
          85,
          85,
          85,
          85,
          85,
          85,
          85,
          85,
          85,
          85,
          85,
          85,
          85,
          85,
          85,
          85,
          85,
          85,
          85,
          85,
          85,
          85,
          85,
          85,
          85,
          85,
          85,
          80,
          83,
          90,
          89,
          83,
          88,
          90,
          85,
          86,
          85,
          85,
          85,
          85,
          81,
          75,
          73,
          73,
          69,
          70,
          85,
          88,
          85,
          85,
          85,
          85,
          85,
          85,
          85,
          85,
          85,
          85,
          85,
          85,
          85,
          85,
          85,
          80,
          75,
          75,
          75,
          75,
          77,
          85,
          85,
          85,
          85,
          85,
          85,
          85,
          83,
          78,
          85,
          85,
          85,
          85,
          85,
          85,
          85,
          77,
          79,
          78,
          80,
          85,
          77,
          76,
          76,
          75,
          81,
          85,
          85,
          85,
          85,
          85,
          85,
          85,
          90,
          89,
          85,
          85,
          85,
          85,
          85,
          85,
          85,
          85,
          85,
          85,
          85,
          85,
          74,
          69,
          69,
          69,
          68,
          75,
          79,
          85,
          85,
          85,
          85,
          85,
          85,
          85,
          85,
          85,
          80,
          78,
          79,
          79,
          77,
          82,
          82,
          90,
          88,
          85,
          85,
          85,
          85,
          85,
          85,
          85,
          82,
          73,
          82,
          85,
          85,
          85,
          85,
          85,
          85,
          85,
          85,
          85,
          85,
          85,
          85,
          85,
          81,
          85,
          85,
          85,
          85,
          85,
          85,
          85,
          85,
          85,
          85,
          85,
          85,
          85,
          85,
          85,
          85,
          85
         ],
         "yaxis": "y"
        }
       ],
       "layout": {
        "legend": {
         "title": {
          "text": "User ID"
         },
         "tracegroupgap": 0
        },
        "template": {
         "data": {
          "bar": [
           {
            "error_x": {
             "color": "#2a3f5f"
            },
            "error_y": {
             "color": "#2a3f5f"
            },
            "marker": {
             "line": {
              "color": "#E5ECF6",
              "width": 0.5
             },
             "pattern": {
              "fillmode": "overlay",
              "size": 10,
              "solidity": 0.2
             }
            },
            "type": "bar"
           }
          ],
          "barpolar": [
           {
            "marker": {
             "line": {
              "color": "#E5ECF6",
              "width": 0.5
             },
             "pattern": {
              "fillmode": "overlay",
              "size": 10,
              "solidity": 0.2
             }
            },
            "type": "barpolar"
           }
          ],
          "carpet": [
           {
            "aaxis": {
             "endlinecolor": "#2a3f5f",
             "gridcolor": "white",
             "linecolor": "white",
             "minorgridcolor": "white",
             "startlinecolor": "#2a3f5f"
            },
            "baxis": {
             "endlinecolor": "#2a3f5f",
             "gridcolor": "white",
             "linecolor": "white",
             "minorgridcolor": "white",
             "startlinecolor": "#2a3f5f"
            },
            "type": "carpet"
           }
          ],
          "choropleth": [
           {
            "colorbar": {
             "outlinewidth": 0,
             "ticks": ""
            },
            "type": "choropleth"
           }
          ],
          "contour": [
           {
            "colorbar": {
             "outlinewidth": 0,
             "ticks": ""
            },
            "colorscale": [
             [
              0,
              "#0d0887"
             ],
             [
              0.1111111111111111,
              "#46039f"
             ],
             [
              0.2222222222222222,
              "#7201a8"
             ],
             [
              0.3333333333333333,
              "#9c179e"
             ],
             [
              0.4444444444444444,
              "#bd3786"
             ],
             [
              0.5555555555555556,
              "#d8576b"
             ],
             [
              0.6666666666666666,
              "#ed7953"
             ],
             [
              0.7777777777777778,
              "#fb9f3a"
             ],
             [
              0.8888888888888888,
              "#fdca26"
             ],
             [
              1,
              "#f0f921"
             ]
            ],
            "type": "contour"
           }
          ],
          "contourcarpet": [
           {
            "colorbar": {
             "outlinewidth": 0,
             "ticks": ""
            },
            "type": "contourcarpet"
           }
          ],
          "heatmap": [
           {
            "colorbar": {
             "outlinewidth": 0,
             "ticks": ""
            },
            "colorscale": [
             [
              0,
              "#0d0887"
             ],
             [
              0.1111111111111111,
              "#46039f"
             ],
             [
              0.2222222222222222,
              "#7201a8"
             ],
             [
              0.3333333333333333,
              "#9c179e"
             ],
             [
              0.4444444444444444,
              "#bd3786"
             ],
             [
              0.5555555555555556,
              "#d8576b"
             ],
             [
              0.6666666666666666,
              "#ed7953"
             ],
             [
              0.7777777777777778,
              "#fb9f3a"
             ],
             [
              0.8888888888888888,
              "#fdca26"
             ],
             [
              1,
              "#f0f921"
             ]
            ],
            "type": "heatmap"
           }
          ],
          "heatmapgl": [
           {
            "colorbar": {
             "outlinewidth": 0,
             "ticks": ""
            },
            "colorscale": [
             [
              0,
              "#0d0887"
             ],
             [
              0.1111111111111111,
              "#46039f"
             ],
             [
              0.2222222222222222,
              "#7201a8"
             ],
             [
              0.3333333333333333,
              "#9c179e"
             ],
             [
              0.4444444444444444,
              "#bd3786"
             ],
             [
              0.5555555555555556,
              "#d8576b"
             ],
             [
              0.6666666666666666,
              "#ed7953"
             ],
             [
              0.7777777777777778,
              "#fb9f3a"
             ],
             [
              0.8888888888888888,
              "#fdca26"
             ],
             [
              1,
              "#f0f921"
             ]
            ],
            "type": "heatmapgl"
           }
          ],
          "histogram": [
           {
            "marker": {
             "pattern": {
              "fillmode": "overlay",
              "size": 10,
              "solidity": 0.2
             }
            },
            "type": "histogram"
           }
          ],
          "histogram2d": [
           {
            "colorbar": {
             "outlinewidth": 0,
             "ticks": ""
            },
            "colorscale": [
             [
              0,
              "#0d0887"
             ],
             [
              0.1111111111111111,
              "#46039f"
             ],
             [
              0.2222222222222222,
              "#7201a8"
             ],
             [
              0.3333333333333333,
              "#9c179e"
             ],
             [
              0.4444444444444444,
              "#bd3786"
             ],
             [
              0.5555555555555556,
              "#d8576b"
             ],
             [
              0.6666666666666666,
              "#ed7953"
             ],
             [
              0.7777777777777778,
              "#fb9f3a"
             ],
             [
              0.8888888888888888,
              "#fdca26"
             ],
             [
              1,
              "#f0f921"
             ]
            ],
            "type": "histogram2d"
           }
          ],
          "histogram2dcontour": [
           {
            "colorbar": {
             "outlinewidth": 0,
             "ticks": ""
            },
            "colorscale": [
             [
              0,
              "#0d0887"
             ],
             [
              0.1111111111111111,
              "#46039f"
             ],
             [
              0.2222222222222222,
              "#7201a8"
             ],
             [
              0.3333333333333333,
              "#9c179e"
             ],
             [
              0.4444444444444444,
              "#bd3786"
             ],
             [
              0.5555555555555556,
              "#d8576b"
             ],
             [
              0.6666666666666666,
              "#ed7953"
             ],
             [
              0.7777777777777778,
              "#fb9f3a"
             ],
             [
              0.8888888888888888,
              "#fdca26"
             ],
             [
              1,
              "#f0f921"
             ]
            ],
            "type": "histogram2dcontour"
           }
          ],
          "mesh3d": [
           {
            "colorbar": {
             "outlinewidth": 0,
             "ticks": ""
            },
            "type": "mesh3d"
           }
          ],
          "parcoords": [
           {
            "line": {
             "colorbar": {
              "outlinewidth": 0,
              "ticks": ""
             }
            },
            "type": "parcoords"
           }
          ],
          "pie": [
           {
            "automargin": true,
            "type": "pie"
           }
          ],
          "scatter": [
           {
            "fillpattern": {
             "fillmode": "overlay",
             "size": 10,
             "solidity": 0.2
            },
            "type": "scatter"
           }
          ],
          "scatter3d": [
           {
            "line": {
             "colorbar": {
              "outlinewidth": 0,
              "ticks": ""
             }
            },
            "marker": {
             "colorbar": {
              "outlinewidth": 0,
              "ticks": ""
             }
            },
            "type": "scatter3d"
           }
          ],
          "scattercarpet": [
           {
            "marker": {
             "colorbar": {
              "outlinewidth": 0,
              "ticks": ""
             }
            },
            "type": "scattercarpet"
           }
          ],
          "scattergeo": [
           {
            "marker": {
             "colorbar": {
              "outlinewidth": 0,
              "ticks": ""
             }
            },
            "type": "scattergeo"
           }
          ],
          "scattergl": [
           {
            "marker": {
             "colorbar": {
              "outlinewidth": 0,
              "ticks": ""
             }
            },
            "type": "scattergl"
           }
          ],
          "scattermapbox": [
           {
            "marker": {
             "colorbar": {
              "outlinewidth": 0,
              "ticks": ""
             }
            },
            "type": "scattermapbox"
           }
          ],
          "scatterpolar": [
           {
            "marker": {
             "colorbar": {
              "outlinewidth": 0,
              "ticks": ""
             }
            },
            "type": "scatterpolar"
           }
          ],
          "scatterpolargl": [
           {
            "marker": {
             "colorbar": {
              "outlinewidth": 0,
              "ticks": ""
             }
            },
            "type": "scatterpolargl"
           }
          ],
          "scatterternary": [
           {
            "marker": {
             "colorbar": {
              "outlinewidth": 0,
              "ticks": ""
             }
            },
            "type": "scatterternary"
           }
          ],
          "surface": [
           {
            "colorbar": {
             "outlinewidth": 0,
             "ticks": ""
            },
            "colorscale": [
             [
              0,
              "#0d0887"
             ],
             [
              0.1111111111111111,
              "#46039f"
             ],
             [
              0.2222222222222222,
              "#7201a8"
             ],
             [
              0.3333333333333333,
              "#9c179e"
             ],
             [
              0.4444444444444444,
              "#bd3786"
             ],
             [
              0.5555555555555556,
              "#d8576b"
             ],
             [
              0.6666666666666666,
              "#ed7953"
             ],
             [
              0.7777777777777778,
              "#fb9f3a"
             ],
             [
              0.8888888888888888,
              "#fdca26"
             ],
             [
              1,
              "#f0f921"
             ]
            ],
            "type": "surface"
           }
          ],
          "table": [
           {
            "cells": {
             "fill": {
              "color": "#EBF0F8"
             },
             "line": {
              "color": "white"
             }
            },
            "header": {
             "fill": {
              "color": "#C8D4E3"
             },
             "line": {
              "color": "white"
             }
            },
            "type": "table"
           }
          ]
         },
         "layout": {
          "annotationdefaults": {
           "arrowcolor": "#2a3f5f",
           "arrowhead": 0,
           "arrowwidth": 1
          },
          "autotypenumbers": "strict",
          "coloraxis": {
           "colorbar": {
            "outlinewidth": 0,
            "ticks": ""
           }
          },
          "colorscale": {
           "diverging": [
            [
             0,
             "#8e0152"
            ],
            [
             0.1,
             "#c51b7d"
            ],
            [
             0.2,
             "#de77ae"
            ],
            [
             0.3,
             "#f1b6da"
            ],
            [
             0.4,
             "#fde0ef"
            ],
            [
             0.5,
             "#f7f7f7"
            ],
            [
             0.6,
             "#e6f5d0"
            ],
            [
             0.7,
             "#b8e186"
            ],
            [
             0.8,
             "#7fbc41"
            ],
            [
             0.9,
             "#4d9221"
            ],
            [
             1,
             "#276419"
            ]
           ],
           "sequential": [
            [
             0,
             "#0d0887"
            ],
            [
             0.1111111111111111,
             "#46039f"
            ],
            [
             0.2222222222222222,
             "#7201a8"
            ],
            [
             0.3333333333333333,
             "#9c179e"
            ],
            [
             0.4444444444444444,
             "#bd3786"
            ],
            [
             0.5555555555555556,
             "#d8576b"
            ],
            [
             0.6666666666666666,
             "#ed7953"
            ],
            [
             0.7777777777777778,
             "#fb9f3a"
            ],
            [
             0.8888888888888888,
             "#fdca26"
            ],
            [
             1,
             "#f0f921"
            ]
           ],
           "sequentialminus": [
            [
             0,
             "#0d0887"
            ],
            [
             0.1111111111111111,
             "#46039f"
            ],
            [
             0.2222222222222222,
             "#7201a8"
            ],
            [
             0.3333333333333333,
             "#9c179e"
            ],
            [
             0.4444444444444444,
             "#bd3786"
            ],
            [
             0.5555555555555556,
             "#d8576b"
            ],
            [
             0.6666666666666666,
             "#ed7953"
            ],
            [
             0.7777777777777778,
             "#fb9f3a"
            ],
            [
             0.8888888888888888,
             "#fdca26"
            ],
            [
             1,
             "#f0f921"
            ]
           ]
          },
          "colorway": [
           "#636efa",
           "#EF553B",
           "#00cc96",
           "#ab63fa",
           "#FFA15A",
           "#19d3f3",
           "#FF6692",
           "#B6E880",
           "#FF97FF",
           "#FECB52"
          ],
          "font": {
           "color": "#2a3f5f"
          },
          "geo": {
           "bgcolor": "white",
           "lakecolor": "white",
           "landcolor": "#E5ECF6",
           "showlakes": true,
           "showland": true,
           "subunitcolor": "white"
          },
          "hoverlabel": {
           "align": "left"
          },
          "hovermode": "closest",
          "mapbox": {
           "style": "light"
          },
          "paper_bgcolor": "white",
          "plot_bgcolor": "#E5ECF6",
          "polar": {
           "angularaxis": {
            "gridcolor": "white",
            "linecolor": "white",
            "ticks": ""
           },
           "bgcolor": "#E5ECF6",
           "radialaxis": {
            "gridcolor": "white",
            "linecolor": "white",
            "ticks": ""
           }
          },
          "scene": {
           "xaxis": {
            "backgroundcolor": "#E5ECF6",
            "gridcolor": "white",
            "gridwidth": 2,
            "linecolor": "white",
            "showbackground": true,
            "ticks": "",
            "zerolinecolor": "white"
           },
           "yaxis": {
            "backgroundcolor": "#E5ECF6",
            "gridcolor": "white",
            "gridwidth": 2,
            "linecolor": "white",
            "showbackground": true,
            "ticks": "",
            "zerolinecolor": "white"
           },
           "zaxis": {
            "backgroundcolor": "#E5ECF6",
            "gridcolor": "white",
            "gridwidth": 2,
            "linecolor": "white",
            "showbackground": true,
            "ticks": "",
            "zerolinecolor": "white"
           }
          },
          "shapedefaults": {
           "line": {
            "color": "#2a3f5f"
           }
          },
          "ternary": {
           "aaxis": {
            "gridcolor": "white",
            "linecolor": "white",
            "ticks": ""
           },
           "baxis": {
            "gridcolor": "white",
            "linecolor": "white",
            "ticks": ""
           },
           "bgcolor": "#E5ECF6",
           "caxis": {
            "gridcolor": "white",
            "linecolor": "white",
            "ticks": ""
           }
          },
          "title": {
           "x": 0.05
          },
          "xaxis": {
           "automargin": true,
           "gridcolor": "white",
           "linecolor": "white",
           "ticks": "",
           "title": {
            "standoff": 15
           },
           "zerolinecolor": "white",
           "zerolinewidth": 2
          },
          "yaxis": {
           "automargin": true,
           "gridcolor": "white",
           "linecolor": "white",
           "ticks": "",
           "title": {
            "standoff": 15
           },
           "zerolinecolor": "white",
           "zerolinewidth": 2
          }
         }
        },
        "title": {
         "text": "User X Position Over Time"
        },
        "xaxis": {
         "anchor": "y",
         "domain": [
          0,
          1
         ],
         "title": {
          "text": "time"
         }
        },
        "yaxis": {
         "anchor": "x",
         "domain": [
          0,
          1
         ],
         "range": [
          0,
          200
         ],
         "title": {
          "text": "Time"
         }
        }
       }
      },
      "text/html": [
       "<div>                            <div id=\"cd4bab5f-0fcc-409d-9dcc-f52a45c10cba\" class=\"plotly-graph-div\" style=\"height:525px; width:100%;\"></div>            <script type=\"text/javascript\">                require([\"plotly\"], function(Plotly) {                    window.PLOTLYENV=window.PLOTLYENV || {};                                    if (document.getElementById(\"cd4bab5f-0fcc-409d-9dcc-f52a45c10cba\")) {                    Plotly.newPlot(                        \"cd4bab5f-0fcc-409d-9dcc-f52a45c10cba\",                        [{\"hovertemplate\":\"User ID=20007\\u003cbr\\u003etime=%{x}\\u003cbr\\u003eTime=%{y}\\u003cextra\\u003e\\u003c\\u002fextra\\u003e\",\"legendgroup\":\"20007\",\"line\":{\"color\":\"#636efa\",\"dash\":\"solid\"},\"marker\":{\"symbol\":\"circle\"},\"mode\":\"lines+markers\",\"name\":\"20007\",\"showlegend\":true,\"x\":[8,13,14,25,28,29,30,31,32,33,34,35,36,37,39,40,41,42,43,44,45,46,47,50,52,53,54,55,57,58,60,63,64,68,70,72,76,79,81,90,93,101,103,105,109,112,114,115,119,120,123,125,126,127,130,132,134,135,140,144,146,154,166,170,173,178,179,180,184,190,199,207,210,211,213,214,215,216,218,219,220,221,222,223,224,225,231,232,233,234,235,241,246,249,250,251,255,258,259,261,263,264,268,269,270,272,277,289,290,291,294,296,297,303,318,323,331,334,336,340,344,345,349,351,354,355,362,365,366,367,368,369,370,371,372,373,375,376,377,378,380,383,387,389,394,397,398,399,402,419,443,449,453,462,463,470,478,486,488,491,492,497,508,509,510,514,515,517,522,530,531,536,542,548,550,555,556,557,558,565,568,569,580,593,595,596,600,603,604,605,606,607,609,617,620,627,629,632,633,653,657,660,661,667,669,673,680,683,686,690,697,698,699,700,701,702,704,705,707,708,709,710,711,712,714,715,717,722,727,731,742,752,756,761,765,780,788,789,791,792,793,794,795,802,810,811,813,818,822,841,843,845,846,847,859,861,868,871,873,874,883,888,892,894,898,903,921,925,928,930,931,934,935,936,938,939,940,941,944,952,954,955,957,959,973,975,990,994,998,999,1000,1001,1008,1011,1026,1033,1038,1046,1047,1052,1057,1066,1070,1079,1088,1096,1103,1113,1116,1119,1120,1124,1130,1131,1134,1135,1137,1139,1144,1155,1158,1159,1161,1163,1164,1166,1170,1173,1176,1179,1182,1183,1185,1191,1193,1203,1211,1212,1215,1217,1221,1222,1223,1224,1227,1228,1229,1230,1232,1235,1239,1240,1242,1249,1252,1254,1261,1274,1277,1278,1285,1287,1288,1293,1296,1300,1302,1303,1304,1306,1307,1309,1312,1315,1318,1324,1327,1330,1340,1345,1351,1358,1363,1364,1366,1369,1372,1383,1384,1385,1386,1387,1388,1389,1390,1391,1395,1397,1398,1399,1410,1414,1415,1416,1420,1421,1422,1423,1431,1432,1436,1437,1438,1440,1449,1450,1458,1467,1469,1470,1471,1472,1479,1481,1484,1502,1503,1507,1513,1514,1515,1517,1518,1519,1525,1529,1534,1536,1538,1546,1547,1549,1552,1553,1554,1557,1558,1561,1562,1563,1564,1565,1567,1568,1569,1570,1571,1572,1577,1578,1580,1581,1583,1584,1587,1591,1593,1595,1605,1609,1610,1611,1612,1613,1614,1615,1629,1640,1644,1649,1650,1651,1668,1683,1685,1688,1694,1700,1705,1708,1709,1710,1711,1713,1714,1715,1716,1720,1722,1723,1735,1739,1741,1751,1758,1759,1769,1773,1775,1776,1786,1793,1794,1798,1801,1802,1803,1804,1806,1807,1809,1811,1812,1813,1826,1828,1830,1831,1834,1841,1847,1850,1853,1854,1861,1872,1875,1883,1886,1888,1895,1896,1897,1898,1899,1900,1901,1903,1904,1905,1906,1908,1909,1910,1912,1913,1918,1931,1932,1934,1938,1939,1943,1944,1947,1948,1950,1951,1971,1974,1979,1980,1985,1994,2002,2003,2005,2006,2007,2008,2014,2015,2016,2019,2028,2030,2038,2042,2043,2045,2049,2050,2051,2052,2053,2054,2058,2060,2061,2064,2073,2078,2079,2082,2088,2092,2094,2095,2102,2107,2113,2122,2124,2136,2140,2141,2142,2144,2149,2150,2156,2157,2160,2162,2167,2171,2175,2178,2190,2191,2210,2211,2215,2216,2217,2218,2223,2224,2232,2237,2238,2239,2263,2267,2270,2274,2275,2280,2281,2282,2284,2286,2291,2301,2308,2311,2317,2322,2328,2334,2338,2342,2354,2359,2363,2371,2376,2379,2380,2381,2382,2383,2388,2389,2391,2393,2394,2395,2405,2408,2410,2416,2418,2424,2427,2428,2430,2431,2432,2433,2434,2435,2436,2437,2438,2439,2441,2442,2443,2458,2462,2463,2472,2477,2478,2479,2484,2498,2499,2500,2503,2506,2507,2509,2511,2515,2520,2521,2524,2525,2526,2535,2536,2538,2539,2548,2554,2558,2574,2575,2582,2583,2588,2590,2598,2599,2605,2607,2608,2613,2615,2618,2619,2620,2621,2622,2623,2626,2630,2633,2644,2646,2647,2650,2652,2654,2656,2661,2662,2663,2664,2668,2670,2671,2674,2675,2676,2677,2678,2679,2683,2686,2691,2702,2705,2711,2714,2719,2720,2724,2725,2726,2727,2729,2730,2740,2746,2748,2764,2769,2771,2774,2777,2781,2792,2793,2800,2807,2809,2810,2812,2814,2815,2816,2826,2829,2834,2838,2839,2841,2845,2848,2851,2856,2862,2867,2870,2872,2874,2876,2880,2882,2888,2900,2908,2910,2911,2913,2914,2919,2920,2923,2925,2926,2931,2935,2937,2948,2951,2954,2959,2968,2972,2981,2986,2987,2990,2994,2995,2997,2999,3001,3002,3004,3005,3007,3011,3012,3013,3014,3015,3016,3017,3018,3019,3032,3033,3046,3051,3053,3054,3055,3056,3057,3059,3060,3061,3066,3071,3075,3082,3083,3086,3089,3098,3102,3104,3108,3114,3116,3117,3132,3138,3139,3143,3144,3145,3148,3149,3154,3156,3158,3159,3180,3194,3197,3198,3202,3205,3208,3211,3224,3228,3231,3242,3243,3244,3245,3246,3248,3249,3250,3258,3259,3260,3261,3264,3267,3270,3273,3289,3290,3294,3296,3299,3300,3303,3306,3309,3313,3316,3321,3325,3328,3330,3338,3339,3341,3343,3344,3345,3346,3347,3352,3359,3361,3362,3364,3369,3379,3385,3388,3391,3392,3393,3394,3395,3396,3399,3402,3403,3416,3457,3463,3466,3474,3478,3481,3482,3486,3487,3493,3495,3503,3505,3507,3508,3515,3521,3525,3528,3529,3532,3534,3539,3545,3548,3551,3555,3557,3560,3562,3569,3574,3581,3582,3583,3587,3590,3593,3595],\"xaxis\":\"x\",\"y\":[85,85,85,85,76,73,73,73,73,71,72,73,74,74,80,80,74,75,74,85,79,76,77,85,85,85,85,85,85,85,85,85,85,85,85,85,85,85,85,85,85,85,85,85,85,85,78,75,75,75,75,74,85,85,85,85,85,85,85,85,85,85,85,85,85,85,85,85,85,85,85,85,85,85,74,73,74,75,73,73,73,73,85,85,74,73,73,73,74,79,85,85,85,85,85,85,85,77,75,75,74,74,74,78,83,85,85,85,85,85,85,85,85,85,85,85,85,85,85,85,85,85,85,85,85,85,85,85,73,75,79,80,79,80,80,79,79,78,82,85,85,85,85,85,85,85,85,85,85,85,85,85,85,85,85,85,85,85,85,85,85,85,85,76,80,85,85,85,85,85,85,85,85,85,85,85,85,85,85,85,85,85,85,85,82,75,73,73,79,78,85,85,85,85,85,85,85,85,85,85,85,85,85,85,85,85,85,85,85,85,85,86,73,71,72,79,76,80,81,76,85,90,82,82,86,85,85,85,85,85,85,85,85,85,85,85,84,82,82,79,74,74,83,85,85,81,82,85,85,73,74,76,79,85,85,85,85,85,85,85,85,80,77,78,85,85,85,85,85,85,75,75,74,75,75,74,74,77,85,85,85,90,88,85,85,85,85,85,85,85,85,85,85,85,85,85,85,85,78,74,85,85,85,85,85,85,85,85,85,85,85,85,80,80,85,85,85,85,85,85,85,85,85,85,85,85,85,85,85,85,85,85,85,85,85,85,85,85,85,85,85,74,79,80,80,76,73,85,89,82,87,82,85,85,85,85,85,85,85,85,85,85,85,85,85,85,85,85,85,85,85,85,85,85,85,85,85,85,85,85,85,85,85,85,85,85,85,77,80,76,76,74,74,80,76,85,85,85,85,85,85,85,85,85,86,90,82,83,82,82,88,85,85,85,85,85,85,77,80,85,85,85,85,85,85,85,85,85,85,85,80,82,85,85,85,85,85,85,85,85,85,85,85,77,75,75,85,76,74,92,93,94,76,75,82,88,82,90,90,85,80,70,71,76,85,85,85,85,85,83,74,76,76,76,78,84,85,85,85,85,85,85,85,85,85,85,85,85,85,85,85,85,79,74,73,71,61,74,75,79,85,85,85,85,82,85,85,85,85,85,85,85,85,85,82,90,90,85,86,82,82,82,82,88,85,85,85,85,85,85,85,79,79,85,85,85,85,85,85,85,85,84,75,67,61,66,65,61,62,60,59,66,81,77,80,84,85,85,85,85,79,75,74,78,77,76,85,85,85,85,85,85,85,85,85,80,77,80,80,79,75,85,85,85,85,85,85,85,85,85,83,79,79,78,78,75,75,76,75,85,85,85,85,85,85,89,88,85,85,85,85,85,85,85,85,82,85,85,85,85,85,85,85,85,85,85,85,85,85,85,85,85,85,85,85,85,85,85,85,86,85,85,85,85,85,80,75,75,75,75,74,85,85,85,85,85,85,85,85,85,85,85,85,85,85,85,85,85,90,86,81,93,82,82,82,85,85,85,85,85,85,85,85,85,85,75,77,82,91,88,86,88,86,82,79,77,69,85,85,85,85,85,85,85,85,85,85,85,85,85,85,85,85,85,85,85,85,85,85,85,85,85,85,85,85,85,85,85,85,85,85,85,85,85,85,85,85,85,85,85,85,83,77,82,82,85,85,85,85,85,85,85,85,85,85,85,85,85,67,63,62,62,75,75,78,79,81,88,90,84,85,85,85,85,85,85,75,72,78,78,76,85,74,73,79,85,85,85,85,85,85,85,85,85,86,85,85,85,85,85,76,82,85,85,85,85,85,85,85,85,85,85,85,85,85,85,85,85,85,85,85,85,85,85,85,85,85,85,85,85,85,85,85,85,85,85,85,85,85,85,85,85,85,85,85,85,85,85,85,85,85,85,85,85,85,85,80,83,90,89,83,88,90,85,86,85,85,85,85,81,75,73,73,69,70,85,88,85,85,85,85,85,85,85,85,85,85,85,85,85,85,85,80,75,75,75,75,77,85,85,85,85,85,85,85,83,78,85,85,85,85,85,85,85,77,79,78,80,85,77,76,76,75,81,85,85,85,85,85,85,85,90,89,85,85,85,85,85,85,85,85,85,85,85,85,74,69,69,69,68,75,79,85,85,85,85,85,85,85,85,85,80,78,79,79,77,82,82,90,88,85,85,85,85,85,85,85,82,73,82,85,85,85,85,85,85,85,85,85,85,85,85,85,81,85,85,85,85,85,85,85,85,85,85,85,85,85,85,85,85,85],\"yaxis\":\"y\",\"type\":\"scattergl\"}],                        {\"template\":{\"data\":{\"histogram2dcontour\":[{\"type\":\"histogram2dcontour\",\"colorbar\":{\"outlinewidth\":0,\"ticks\":\"\"},\"colorscale\":[[0.0,\"#0d0887\"],[0.1111111111111111,\"#46039f\"],[0.2222222222222222,\"#7201a8\"],[0.3333333333333333,\"#9c179e\"],[0.4444444444444444,\"#bd3786\"],[0.5555555555555556,\"#d8576b\"],[0.6666666666666666,\"#ed7953\"],[0.7777777777777778,\"#fb9f3a\"],[0.8888888888888888,\"#fdca26\"],[1.0,\"#f0f921\"]]}],\"choropleth\":[{\"type\":\"choropleth\",\"colorbar\":{\"outlinewidth\":0,\"ticks\":\"\"}}],\"histogram2d\":[{\"type\":\"histogram2d\",\"colorbar\":{\"outlinewidth\":0,\"ticks\":\"\"},\"colorscale\":[[0.0,\"#0d0887\"],[0.1111111111111111,\"#46039f\"],[0.2222222222222222,\"#7201a8\"],[0.3333333333333333,\"#9c179e\"],[0.4444444444444444,\"#bd3786\"],[0.5555555555555556,\"#d8576b\"],[0.6666666666666666,\"#ed7953\"],[0.7777777777777778,\"#fb9f3a\"],[0.8888888888888888,\"#fdca26\"],[1.0,\"#f0f921\"]]}],\"heatmap\":[{\"type\":\"heatmap\",\"colorbar\":{\"outlinewidth\":0,\"ticks\":\"\"},\"colorscale\":[[0.0,\"#0d0887\"],[0.1111111111111111,\"#46039f\"],[0.2222222222222222,\"#7201a8\"],[0.3333333333333333,\"#9c179e\"],[0.4444444444444444,\"#bd3786\"],[0.5555555555555556,\"#d8576b\"],[0.6666666666666666,\"#ed7953\"],[0.7777777777777778,\"#fb9f3a\"],[0.8888888888888888,\"#fdca26\"],[1.0,\"#f0f921\"]]}],\"heatmapgl\":[{\"type\":\"heatmapgl\",\"colorbar\":{\"outlinewidth\":0,\"ticks\":\"\"},\"colorscale\":[[0.0,\"#0d0887\"],[0.1111111111111111,\"#46039f\"],[0.2222222222222222,\"#7201a8\"],[0.3333333333333333,\"#9c179e\"],[0.4444444444444444,\"#bd3786\"],[0.5555555555555556,\"#d8576b\"],[0.6666666666666666,\"#ed7953\"],[0.7777777777777778,\"#fb9f3a\"],[0.8888888888888888,\"#fdca26\"],[1.0,\"#f0f921\"]]}],\"contourcarpet\":[{\"type\":\"contourcarpet\",\"colorbar\":{\"outlinewidth\":0,\"ticks\":\"\"}}],\"contour\":[{\"type\":\"contour\",\"colorbar\":{\"outlinewidth\":0,\"ticks\":\"\"},\"colorscale\":[[0.0,\"#0d0887\"],[0.1111111111111111,\"#46039f\"],[0.2222222222222222,\"#7201a8\"],[0.3333333333333333,\"#9c179e\"],[0.4444444444444444,\"#bd3786\"],[0.5555555555555556,\"#d8576b\"],[0.6666666666666666,\"#ed7953\"],[0.7777777777777778,\"#fb9f3a\"],[0.8888888888888888,\"#fdca26\"],[1.0,\"#f0f921\"]]}],\"surface\":[{\"type\":\"surface\",\"colorbar\":{\"outlinewidth\":0,\"ticks\":\"\"},\"colorscale\":[[0.0,\"#0d0887\"],[0.1111111111111111,\"#46039f\"],[0.2222222222222222,\"#7201a8\"],[0.3333333333333333,\"#9c179e\"],[0.4444444444444444,\"#bd3786\"],[0.5555555555555556,\"#d8576b\"],[0.6666666666666666,\"#ed7953\"],[0.7777777777777778,\"#fb9f3a\"],[0.8888888888888888,\"#fdca26\"],[1.0,\"#f0f921\"]]}],\"mesh3d\":[{\"type\":\"mesh3d\",\"colorbar\":{\"outlinewidth\":0,\"ticks\":\"\"}}],\"scatter\":[{\"fillpattern\":{\"fillmode\":\"overlay\",\"size\":10,\"solidity\":0.2},\"type\":\"scatter\"}],\"parcoords\":[{\"type\":\"parcoords\",\"line\":{\"colorbar\":{\"outlinewidth\":0,\"ticks\":\"\"}}}],\"scatterpolargl\":[{\"type\":\"scatterpolargl\",\"marker\":{\"colorbar\":{\"outlinewidth\":0,\"ticks\":\"\"}}}],\"bar\":[{\"error_x\":{\"color\":\"#2a3f5f\"},\"error_y\":{\"color\":\"#2a3f5f\"},\"marker\":{\"line\":{\"color\":\"#E5ECF6\",\"width\":0.5},\"pattern\":{\"fillmode\":\"overlay\",\"size\":10,\"solidity\":0.2}},\"type\":\"bar\"}],\"scattergeo\":[{\"type\":\"scattergeo\",\"marker\":{\"colorbar\":{\"outlinewidth\":0,\"ticks\":\"\"}}}],\"scatterpolar\":[{\"type\":\"scatterpolar\",\"marker\":{\"colorbar\":{\"outlinewidth\":0,\"ticks\":\"\"}}}],\"histogram\":[{\"marker\":{\"pattern\":{\"fillmode\":\"overlay\",\"size\":10,\"solidity\":0.2}},\"type\":\"histogram\"}],\"scattergl\":[{\"type\":\"scattergl\",\"marker\":{\"colorbar\":{\"outlinewidth\":0,\"ticks\":\"\"}}}],\"scatter3d\":[{\"type\":\"scatter3d\",\"line\":{\"colorbar\":{\"outlinewidth\":0,\"ticks\":\"\"}},\"marker\":{\"colorbar\":{\"outlinewidth\":0,\"ticks\":\"\"}}}],\"scattermapbox\":[{\"type\":\"scattermapbox\",\"marker\":{\"colorbar\":{\"outlinewidth\":0,\"ticks\":\"\"}}}],\"scatterternary\":[{\"type\":\"scatterternary\",\"marker\":{\"colorbar\":{\"outlinewidth\":0,\"ticks\":\"\"}}}],\"scattercarpet\":[{\"type\":\"scattercarpet\",\"marker\":{\"colorbar\":{\"outlinewidth\":0,\"ticks\":\"\"}}}],\"carpet\":[{\"aaxis\":{\"endlinecolor\":\"#2a3f5f\",\"gridcolor\":\"white\",\"linecolor\":\"white\",\"minorgridcolor\":\"white\",\"startlinecolor\":\"#2a3f5f\"},\"baxis\":{\"endlinecolor\":\"#2a3f5f\",\"gridcolor\":\"white\",\"linecolor\":\"white\",\"minorgridcolor\":\"white\",\"startlinecolor\":\"#2a3f5f\"},\"type\":\"carpet\"}],\"table\":[{\"cells\":{\"fill\":{\"color\":\"#EBF0F8\"},\"line\":{\"color\":\"white\"}},\"header\":{\"fill\":{\"color\":\"#C8D4E3\"},\"line\":{\"color\":\"white\"}},\"type\":\"table\"}],\"barpolar\":[{\"marker\":{\"line\":{\"color\":\"#E5ECF6\",\"width\":0.5},\"pattern\":{\"fillmode\":\"overlay\",\"size\":10,\"solidity\":0.2}},\"type\":\"barpolar\"}],\"pie\":[{\"automargin\":true,\"type\":\"pie\"}]},\"layout\":{\"autotypenumbers\":\"strict\",\"colorway\":[\"#636efa\",\"#EF553B\",\"#00cc96\",\"#ab63fa\",\"#FFA15A\",\"#19d3f3\",\"#FF6692\",\"#B6E880\",\"#FF97FF\",\"#FECB52\"],\"font\":{\"color\":\"#2a3f5f\"},\"hovermode\":\"closest\",\"hoverlabel\":{\"align\":\"left\"},\"paper_bgcolor\":\"white\",\"plot_bgcolor\":\"#E5ECF6\",\"polar\":{\"bgcolor\":\"#E5ECF6\",\"angularaxis\":{\"gridcolor\":\"white\",\"linecolor\":\"white\",\"ticks\":\"\"},\"radialaxis\":{\"gridcolor\":\"white\",\"linecolor\":\"white\",\"ticks\":\"\"}},\"ternary\":{\"bgcolor\":\"#E5ECF6\",\"aaxis\":{\"gridcolor\":\"white\",\"linecolor\":\"white\",\"ticks\":\"\"},\"baxis\":{\"gridcolor\":\"white\",\"linecolor\":\"white\",\"ticks\":\"\"},\"caxis\":{\"gridcolor\":\"white\",\"linecolor\":\"white\",\"ticks\":\"\"}},\"coloraxis\":{\"colorbar\":{\"outlinewidth\":0,\"ticks\":\"\"}},\"colorscale\":{\"sequential\":[[0.0,\"#0d0887\"],[0.1111111111111111,\"#46039f\"],[0.2222222222222222,\"#7201a8\"],[0.3333333333333333,\"#9c179e\"],[0.4444444444444444,\"#bd3786\"],[0.5555555555555556,\"#d8576b\"],[0.6666666666666666,\"#ed7953\"],[0.7777777777777778,\"#fb9f3a\"],[0.8888888888888888,\"#fdca26\"],[1.0,\"#f0f921\"]],\"sequentialminus\":[[0.0,\"#0d0887\"],[0.1111111111111111,\"#46039f\"],[0.2222222222222222,\"#7201a8\"],[0.3333333333333333,\"#9c179e\"],[0.4444444444444444,\"#bd3786\"],[0.5555555555555556,\"#d8576b\"],[0.6666666666666666,\"#ed7953\"],[0.7777777777777778,\"#fb9f3a\"],[0.8888888888888888,\"#fdca26\"],[1.0,\"#f0f921\"]],\"diverging\":[[0,\"#8e0152\"],[0.1,\"#c51b7d\"],[0.2,\"#de77ae\"],[0.3,\"#f1b6da\"],[0.4,\"#fde0ef\"],[0.5,\"#f7f7f7\"],[0.6,\"#e6f5d0\"],[0.7,\"#b8e186\"],[0.8,\"#7fbc41\"],[0.9,\"#4d9221\"],[1,\"#276419\"]]},\"xaxis\":{\"gridcolor\":\"white\",\"linecolor\":\"white\",\"ticks\":\"\",\"title\":{\"standoff\":15},\"zerolinecolor\":\"white\",\"automargin\":true,\"zerolinewidth\":2},\"yaxis\":{\"gridcolor\":\"white\",\"linecolor\":\"white\",\"ticks\":\"\",\"title\":{\"standoff\":15},\"zerolinecolor\":\"white\",\"automargin\":true,\"zerolinewidth\":2},\"scene\":{\"xaxis\":{\"backgroundcolor\":\"#E5ECF6\",\"gridcolor\":\"white\",\"linecolor\":\"white\",\"showbackground\":true,\"ticks\":\"\",\"zerolinecolor\":\"white\",\"gridwidth\":2},\"yaxis\":{\"backgroundcolor\":\"#E5ECF6\",\"gridcolor\":\"white\",\"linecolor\":\"white\",\"showbackground\":true,\"ticks\":\"\",\"zerolinecolor\":\"white\",\"gridwidth\":2},\"zaxis\":{\"backgroundcolor\":\"#E5ECF6\",\"gridcolor\":\"white\",\"linecolor\":\"white\",\"showbackground\":true,\"ticks\":\"\",\"zerolinecolor\":\"white\",\"gridwidth\":2}},\"shapedefaults\":{\"line\":{\"color\":\"#2a3f5f\"}},\"annotationdefaults\":{\"arrowcolor\":\"#2a3f5f\",\"arrowhead\":0,\"arrowwidth\":1},\"geo\":{\"bgcolor\":\"white\",\"landcolor\":\"#E5ECF6\",\"subunitcolor\":\"white\",\"showland\":true,\"showlakes\":true,\"lakecolor\":\"white\"},\"title\":{\"x\":0.05},\"mapbox\":{\"style\":\"light\"}}},\"xaxis\":{\"anchor\":\"y\",\"domain\":[0.0,1.0],\"title\":{\"text\":\"time\"}},\"yaxis\":{\"anchor\":\"x\",\"domain\":[0.0,1.0],\"title\":{\"text\":\"Time\"},\"range\":[0,200]},\"legend\":{\"title\":{\"text\":\"User ID\"},\"tracegroupgap\":0},\"title\":{\"text\":\"User X Position Over Time\"}},                        {\"responsive\": true}                    ).then(function(){\n",
       "                            \n",
       "var gd = document.getElementById('cd4bab5f-0fcc-409d-9dcc-f52a45c10cba');\n",
       "var x = new MutationObserver(function (mutations, observer) {{\n",
       "        var display = window.getComputedStyle(gd).display;\n",
       "        if (!display || display === 'none') {{\n",
       "            console.log([gd, 'removed!']);\n",
       "            Plotly.purge(gd);\n",
       "            observer.disconnect();\n",
       "        }}\n",
       "}});\n",
       "\n",
       "// Listen for the removal of the full notebook cells\n",
       "var notebookContainer = gd.closest('#notebook-container');\n",
       "if (notebookContainer) {{\n",
       "    x.observe(notebookContainer, {childList: true});\n",
       "}}\n",
       "\n",
       "// Listen for the clearing of the current output cell\n",
       "var outputEl = gd.closest('.output');\n",
       "if (outputEl) {{\n",
       "    x.observe(outputEl, {childList: true});\n",
       "}}\n",
       "\n",
       "                        })                };                });            </script>        </div>"
      ]
     },
     "metadata": {},
     "output_type": "display_data"
    },
    {
     "data": {
      "application/vnd.plotly.v1+json": {
       "config": {
        "plotlyServerURL": "https://plot.ly"
       },
       "data": [
        {
         "hovertemplate": "User ID=20007<br>time=%{x}<br>Y Position=%{y}<extra></extra>",
         "legendgroup": "20007",
         "line": {
          "color": "#636efa",
          "dash": "solid"
         },
         "marker": {
          "symbol": "circle"
         },
         "mode": "lines+markers",
         "name": "20007",
         "showlegend": true,
         "type": "scattergl",
         "x": [
          8,
          13,
          14,
          25,
          28,
          29,
          30,
          31,
          32,
          33,
          34,
          35,
          36,
          37,
          39,
          40,
          41,
          42,
          43,
          44,
          45,
          46,
          47,
          50,
          52,
          53,
          54,
          55,
          57,
          58,
          60,
          63,
          64,
          68,
          70,
          72,
          76,
          79,
          81,
          90,
          93,
          101,
          103,
          105,
          109,
          112,
          114,
          115,
          119,
          120,
          123,
          125,
          126,
          127,
          130,
          132,
          134,
          135,
          140,
          144,
          146,
          154,
          166,
          170,
          173,
          178,
          179,
          180,
          184,
          190,
          199,
          207,
          210,
          211,
          213,
          214,
          215,
          216,
          218,
          219,
          220,
          221,
          222,
          223,
          224,
          225,
          231,
          232,
          233,
          234,
          235,
          241,
          246,
          249,
          250,
          251,
          255,
          258,
          259,
          261,
          263,
          264,
          268,
          269,
          270,
          272,
          277,
          289,
          290,
          291,
          294,
          296,
          297,
          303,
          318,
          323,
          331,
          334,
          336,
          340,
          344,
          345,
          349,
          351,
          354,
          355,
          362,
          365,
          366,
          367,
          368,
          369,
          370,
          371,
          372,
          373,
          375,
          376,
          377,
          378,
          380,
          383,
          387,
          389,
          394,
          397,
          398,
          399,
          402,
          419,
          443,
          449,
          453,
          462,
          463,
          470,
          478,
          486,
          488,
          491,
          492,
          497,
          508,
          509,
          510,
          514,
          515,
          517,
          522,
          530,
          531,
          536,
          542,
          548,
          550,
          555,
          556,
          557,
          558,
          565,
          568,
          569,
          580,
          593,
          595,
          596,
          600,
          603,
          604,
          605,
          606,
          607,
          609,
          617,
          620,
          627,
          629,
          632,
          633,
          653,
          657,
          660,
          661,
          667,
          669,
          673,
          680,
          683,
          686,
          690,
          697,
          698,
          699,
          700,
          701,
          702,
          704,
          705,
          707,
          708,
          709,
          710,
          711,
          712,
          714,
          715,
          717,
          722,
          727,
          731,
          742,
          752,
          756,
          761,
          765,
          780,
          788,
          789,
          791,
          792,
          793,
          794,
          795,
          802,
          810,
          811,
          813,
          818,
          822,
          841,
          843,
          845,
          846,
          847,
          859,
          861,
          868,
          871,
          873,
          874,
          883,
          888,
          892,
          894,
          898,
          903,
          921,
          925,
          928,
          930,
          931,
          934,
          935,
          936,
          938,
          939,
          940,
          941,
          944,
          952,
          954,
          955,
          957,
          959,
          973,
          975,
          990,
          994,
          998,
          999,
          1000,
          1001,
          1008,
          1011,
          1026,
          1033,
          1038,
          1046,
          1047,
          1052,
          1057,
          1066,
          1070,
          1079,
          1088,
          1096,
          1103,
          1113,
          1116,
          1119,
          1120,
          1124,
          1130,
          1131,
          1134,
          1135,
          1137,
          1139,
          1144,
          1155,
          1158,
          1159,
          1161,
          1163,
          1164,
          1166,
          1170,
          1173,
          1176,
          1179,
          1182,
          1183,
          1185,
          1191,
          1193,
          1203,
          1211,
          1212,
          1215,
          1217,
          1221,
          1222,
          1223,
          1224,
          1227,
          1228,
          1229,
          1230,
          1232,
          1235,
          1239,
          1240,
          1242,
          1249,
          1252,
          1254,
          1261,
          1274,
          1277,
          1278,
          1285,
          1287,
          1288,
          1293,
          1296,
          1300,
          1302,
          1303,
          1304,
          1306,
          1307,
          1309,
          1312,
          1315,
          1318,
          1324,
          1327,
          1330,
          1340,
          1345,
          1351,
          1358,
          1363,
          1364,
          1366,
          1369,
          1372,
          1383,
          1384,
          1385,
          1386,
          1387,
          1388,
          1389,
          1390,
          1391,
          1395,
          1397,
          1398,
          1399,
          1410,
          1414,
          1415,
          1416,
          1420,
          1421,
          1422,
          1423,
          1431,
          1432,
          1436,
          1437,
          1438,
          1440,
          1449,
          1450,
          1458,
          1467,
          1469,
          1470,
          1471,
          1472,
          1479,
          1481,
          1484,
          1502,
          1503,
          1507,
          1513,
          1514,
          1515,
          1517,
          1518,
          1519,
          1525,
          1529,
          1534,
          1536,
          1538,
          1546,
          1547,
          1549,
          1552,
          1553,
          1554,
          1557,
          1558,
          1561,
          1562,
          1563,
          1564,
          1565,
          1567,
          1568,
          1569,
          1570,
          1571,
          1572,
          1577,
          1578,
          1580,
          1581,
          1583,
          1584,
          1587,
          1591,
          1593,
          1595,
          1605,
          1609,
          1610,
          1611,
          1612,
          1613,
          1614,
          1615,
          1629,
          1640,
          1644,
          1649,
          1650,
          1651,
          1668,
          1683,
          1685,
          1688,
          1694,
          1700,
          1705,
          1708,
          1709,
          1710,
          1711,
          1713,
          1714,
          1715,
          1716,
          1720,
          1722,
          1723,
          1735,
          1739,
          1741,
          1751,
          1758,
          1759,
          1769,
          1773,
          1775,
          1776,
          1786,
          1793,
          1794,
          1798,
          1801,
          1802,
          1803,
          1804,
          1806,
          1807,
          1809,
          1811,
          1812,
          1813,
          1826,
          1828,
          1830,
          1831,
          1834,
          1841,
          1847,
          1850,
          1853,
          1854,
          1861,
          1872,
          1875,
          1883,
          1886,
          1888,
          1895,
          1896,
          1897,
          1898,
          1899,
          1900,
          1901,
          1903,
          1904,
          1905,
          1906,
          1908,
          1909,
          1910,
          1912,
          1913,
          1918,
          1931,
          1932,
          1934,
          1938,
          1939,
          1943,
          1944,
          1947,
          1948,
          1950,
          1951,
          1971,
          1974,
          1979,
          1980,
          1985,
          1994,
          2002,
          2003,
          2005,
          2006,
          2007,
          2008,
          2014,
          2015,
          2016,
          2019,
          2028,
          2030,
          2038,
          2042,
          2043,
          2045,
          2049,
          2050,
          2051,
          2052,
          2053,
          2054,
          2058,
          2060,
          2061,
          2064,
          2073,
          2078,
          2079,
          2082,
          2088,
          2092,
          2094,
          2095,
          2102,
          2107,
          2113,
          2122,
          2124,
          2136,
          2140,
          2141,
          2142,
          2144,
          2149,
          2150,
          2156,
          2157,
          2160,
          2162,
          2167,
          2171,
          2175,
          2178,
          2190,
          2191,
          2210,
          2211,
          2215,
          2216,
          2217,
          2218,
          2223,
          2224,
          2232,
          2237,
          2238,
          2239,
          2263,
          2267,
          2270,
          2274,
          2275,
          2280,
          2281,
          2282,
          2284,
          2286,
          2291,
          2301,
          2308,
          2311,
          2317,
          2322,
          2328,
          2334,
          2338,
          2342,
          2354,
          2359,
          2363,
          2371,
          2376,
          2379,
          2380,
          2381,
          2382,
          2383,
          2388,
          2389,
          2391,
          2393,
          2394,
          2395,
          2405,
          2408,
          2410,
          2416,
          2418,
          2424,
          2427,
          2428,
          2430,
          2431,
          2432,
          2433,
          2434,
          2435,
          2436,
          2437,
          2438,
          2439,
          2441,
          2442,
          2443,
          2458,
          2462,
          2463,
          2472,
          2477,
          2478,
          2479,
          2484,
          2498,
          2499,
          2500,
          2503,
          2506,
          2507,
          2509,
          2511,
          2515,
          2520,
          2521,
          2524,
          2525,
          2526,
          2535,
          2536,
          2538,
          2539,
          2548,
          2554,
          2558,
          2574,
          2575,
          2582,
          2583,
          2588,
          2590,
          2598,
          2599,
          2605,
          2607,
          2608,
          2613,
          2615,
          2618,
          2619,
          2620,
          2621,
          2622,
          2623,
          2626,
          2630,
          2633,
          2644,
          2646,
          2647,
          2650,
          2652,
          2654,
          2656,
          2661,
          2662,
          2663,
          2664,
          2668,
          2670,
          2671,
          2674,
          2675,
          2676,
          2677,
          2678,
          2679,
          2683,
          2686,
          2691,
          2702,
          2705,
          2711,
          2714,
          2719,
          2720,
          2724,
          2725,
          2726,
          2727,
          2729,
          2730,
          2740,
          2746,
          2748,
          2764,
          2769,
          2771,
          2774,
          2777,
          2781,
          2792,
          2793,
          2800,
          2807,
          2809,
          2810,
          2812,
          2814,
          2815,
          2816,
          2826,
          2829,
          2834,
          2838,
          2839,
          2841,
          2845,
          2848,
          2851,
          2856,
          2862,
          2867,
          2870,
          2872,
          2874,
          2876,
          2880,
          2882,
          2888,
          2900,
          2908,
          2910,
          2911,
          2913,
          2914,
          2919,
          2920,
          2923,
          2925,
          2926,
          2931,
          2935,
          2937,
          2948,
          2951,
          2954,
          2959,
          2968,
          2972,
          2981,
          2986,
          2987,
          2990,
          2994,
          2995,
          2997,
          2999,
          3001,
          3002,
          3004,
          3005,
          3007,
          3011,
          3012,
          3013,
          3014,
          3015,
          3016,
          3017,
          3018,
          3019,
          3032,
          3033,
          3046,
          3051,
          3053,
          3054,
          3055,
          3056,
          3057,
          3059,
          3060,
          3061,
          3066,
          3071,
          3075,
          3082,
          3083,
          3086,
          3089,
          3098,
          3102,
          3104,
          3108,
          3114,
          3116,
          3117,
          3132,
          3138,
          3139,
          3143,
          3144,
          3145,
          3148,
          3149,
          3154,
          3156,
          3158,
          3159,
          3180,
          3194,
          3197,
          3198,
          3202,
          3205,
          3208,
          3211,
          3224,
          3228,
          3231,
          3242,
          3243,
          3244,
          3245,
          3246,
          3248,
          3249,
          3250,
          3258,
          3259,
          3260,
          3261,
          3264,
          3267,
          3270,
          3273,
          3289,
          3290,
          3294,
          3296,
          3299,
          3300,
          3303,
          3306,
          3309,
          3313,
          3316,
          3321,
          3325,
          3328,
          3330,
          3338,
          3339,
          3341,
          3343,
          3344,
          3345,
          3346,
          3347,
          3352,
          3359,
          3361,
          3362,
          3364,
          3369,
          3379,
          3385,
          3388,
          3391,
          3392,
          3393,
          3394,
          3395,
          3396,
          3399,
          3402,
          3403,
          3416,
          3457,
          3463,
          3466,
          3474,
          3478,
          3481,
          3482,
          3486,
          3487,
          3493,
          3495,
          3503,
          3505,
          3507,
          3508,
          3515,
          3521,
          3525,
          3528,
          3529,
          3532,
          3534,
          3539,
          3545,
          3548,
          3551,
          3555,
          3557,
          3560,
          3562,
          3569,
          3574,
          3581,
          3582,
          3583,
          3587,
          3590,
          3593,
          3595
         ],
         "xaxis": "x",
         "y": [
          121,
          121,
          121,
          121,
          111,
          107,
          107,
          107,
          106,
          94,
          92,
          92,
          92,
          104,
          116,
          117,
          107,
          107,
          107,
          124,
          113,
          101,
          111,
          121,
          121,
          121,
          121,
          121,
          121,
          121,
          121,
          121,
          121,
          121,
          121,
          121,
          121,
          121,
          121,
          121,
          121,
          121,
          121,
          121,
          121,
          121,
          113,
          106,
          106,
          105,
          106,
          107,
          119,
          121,
          121,
          121,
          121,
          121,
          121,
          121,
          121,
          121,
          121,
          121,
          121,
          121,
          121,
          121,
          121,
          121,
          121,
          121,
          121,
          121,
          110,
          108,
          108,
          108,
          92,
          92,
          92,
          100,
          120,
          121,
          94,
          94,
          94,
          94,
          94,
          114,
          121,
          121,
          121,
          121,
          121,
          121,
          121,
          112,
          106,
          106,
          107,
          107,
          107,
          113,
          118,
          121,
          121,
          121,
          121,
          121,
          121,
          121,
          121,
          121,
          121,
          121,
          121,
          121,
          121,
          121,
          121,
          121,
          121,
          121,
          121,
          121,
          121,
          121,
          106,
          105,
          101,
          100,
          100,
          100,
          99,
          98,
          101,
          113,
          117,
          120,
          121,
          121,
          121,
          121,
          121,
          121,
          121,
          121,
          121,
          121,
          121,
          121,
          121,
          121,
          121,
          121,
          121,
          121,
          121,
          121,
          121,
          121,
          121,
          110,
          114,
          121,
          121,
          121,
          121,
          121,
          121,
          121,
          121,
          121,
          121,
          120,
          120,
          119,
          120,
          121,
          121,
          121,
          121,
          121,
          117,
          106,
          107,
          106,
          114,
          113,
          119,
          121,
          121,
          121,
          121,
          121,
          121,
          121,
          121,
          121,
          121,
          121,
          121,
          121,
          121,
          121,
          121,
          121,
          121,
          121,
          119,
          120,
          96,
          98,
          95,
          98,
          103,
          117,
          116,
          110,
          122,
          132,
          151,
          150,
          142,
          121,
          121,
          121,
          121,
          121,
          121,
          121,
          121,
          121,
          121,
          121,
          118,
          117,
          117,
          113,
          107,
          108,
          118,
          121,
          121,
          117,
          117,
          121,
          121,
          107,
          107,
          111,
          113,
          121,
          121,
          121,
          121,
          121,
          121,
          121,
          121,
          117,
          112,
          113,
          121,
          121,
          121,
          121,
          121,
          121,
          106,
          106,
          107,
          107,
          107,
          107,
          107,
          111,
          121,
          121,
          121,
          140,
          128,
          121,
          121,
          121,
          121,
          121,
          121,
          121,
          121,
          121,
          121,
          121,
          121,
          121,
          121,
          121,
          113,
          107,
          121,
          121,
          121,
          121,
          121,
          121,
          121,
          121,
          121,
          121,
          121,
          121,
          117,
          117,
          120,
          121,
          121,
          121,
          121,
          121,
          121,
          121,
          121,
          121,
          121,
          121,
          121,
          121,
          121,
          121,
          120,
          121,
          121,
          121,
          121,
          121,
          121,
          121,
          121,
          121,
          121,
          106,
          101,
          100,
          102,
          101,
          107,
          119,
          132,
          151,
          127,
          117,
          121,
          121,
          121,
          121,
          121,
          120,
          121,
          120,
          121,
          121,
          121,
          121,
          121,
          121,
          121,
          121,
          121,
          121,
          121,
          121,
          121,
          121,
          121,
          121,
          121,
          121,
          121,
          121,
          121,
          121,
          121,
          121,
          121,
          121,
          121,
          112,
          116,
          111,
          111,
          108,
          109,
          115,
          111,
          121,
          121,
          121,
          121,
          121,
          121,
          121,
          121,
          121,
          121,
          132,
          150,
          149,
          151,
          150,
          127,
          121,
          121,
          121,
          121,
          121,
          121,
          111,
          114,
          120,
          119,
          121,
          121,
          121,
          121,
          121,
          121,
          121,
          121,
          121,
          117,
          117,
          120,
          121,
          121,
          121,
          121,
          121,
          121,
          121,
          121,
          121,
          121,
          112,
          106,
          106,
          121,
          109,
          102,
          77,
          83,
          83,
          82,
          95,
          117,
          130,
          150,
          137,
          137,
          121,
          116,
          104,
          107,
          111,
          121,
          121,
          121,
          121,
          121,
          118,
          103,
          111,
          111,
          110,
          113,
          118,
          121,
          121,
          121,
          121,
          121,
          121,
          121,
          121,
          121,
          121,
          121,
          121,
          121,
          121,
          121,
          121,
          114,
          108,
          107,
          104,
          101,
          107,
          109,
          114,
          121,
          121,
          121,
          121,
          117,
          121,
          121,
          121,
          121,
          121,
          121,
          121,
          121,
          121,
          117,
          144,
          137,
          121,
          147,
          143,
          142,
          143,
          143,
          144,
          121,
          121,
          121,
          121,
          121,
          121,
          121,
          114,
          114,
          120,
          121,
          121,
          121,
          121,
          121,
          121,
          121,
          119,
          111,
          110,
          112,
          113,
          111,
          112,
          112,
          112,
          111,
          111,
          117,
          112,
          114,
          118,
          121,
          121,
          121,
          121,
          114,
          108,
          107,
          113,
          113,
          110,
          119,
          121,
          121,
          121,
          121,
          121,
          121,
          121,
          121,
          115,
          107,
          101,
          100,
          101,
          106,
          124,
          121,
          121,
          121,
          121,
          121,
          121,
          121,
          121,
          118,
          96,
          99,
          101,
          96,
          82,
          82,
          82,
          94,
          121,
          121,
          121,
          121,
          121,
          121,
          132,
          129,
          121,
          121,
          121,
          121,
          121,
          121,
          121,
          121,
          117,
          121,
          121,
          121,
          121,
          121,
          121,
          121,
          121,
          121,
          121,
          121,
          121,
          119,
          121,
          121,
          121,
          121,
          121,
          121,
          121,
          121,
          121,
          121,
          119,
          120,
          121,
          121,
          121,
          121,
          115,
          106,
          105,
          105,
          106,
          107,
          121,
          121,
          121,
          121,
          121,
          121,
          121,
          121,
          121,
          121,
          121,
          121,
          121,
          121,
          121,
          120,
          124,
          137,
          146,
          151,
          164,
          149,
          143,
          144,
          121,
          121,
          121,
          121,
          121,
          121,
          121,
          121,
          121,
          121,
          110,
          112,
          117,
          132,
          140,
          147,
          128,
          125,
          117,
          114,
          112,
          103,
          120,
          121,
          121,
          121,
          121,
          121,
          120,
          121,
          121,
          121,
          121,
          121,
          121,
          121,
          121,
          121,
          121,
          121,
          121,
          121,
          121,
          121,
          120,
          121,
          121,
          121,
          121,
          121,
          121,
          121,
          121,
          121,
          121,
          121,
          120,
          121,
          121,
          121,
          121,
          121,
          121,
          121,
          121,
          121,
          118,
          112,
          117,
          117,
          119,
          121,
          121,
          121,
          121,
          121,
          121,
          121,
          121,
          121,
          121,
          121,
          121,
          109,
          112,
          111,
          111,
          106,
          106,
          113,
          113,
          117,
          130,
          144,
          148,
          123,
          121,
          121,
          121,
          121,
          121,
          106,
          107,
          97,
          99,
          101,
          121,
          107,
          107,
          116,
          121,
          121,
          121,
          121,
          121,
          121,
          121,
          121,
          121,
          119,
          121,
          121,
          121,
          124,
          123,
          110,
          117,
          121,
          121,
          121,
          121,
          121,
          121,
          121,
          121,
          121,
          121,
          121,
          121,
          121,
          121,
          121,
          121,
          121,
          121,
          121,
          121,
          121,
          121,
          121,
          120,
          121,
          121,
          121,
          121,
          121,
          121,
          121,
          121,
          121,
          121,
          121,
          121,
          121,
          121,
          121,
          121,
          121,
          121,
          121,
          121,
          121,
          121,
          121,
          121,
          121,
          121,
          121,
          121,
          121,
          121,
          115,
          118,
          136,
          138,
          142,
          144,
          139,
          121,
          120,
          121,
          121,
          121,
          121,
          117,
          111,
          106,
          107,
          103,
          104,
          119,
          144,
          121,
          121,
          121,
          121,
          121,
          121,
          121,
          121,
          121,
          121,
          121,
          121,
          121,
          121,
          121,
          115,
          106,
          106,
          105,
          105,
          112,
          120,
          121,
          121,
          121,
          121,
          121,
          121,
          117,
          113,
          121,
          121,
          121,
          121,
          121,
          121,
          121,
          112,
          113,
          113,
          114,
          121,
          94,
          93,
          83,
          109,
          116,
          121,
          121,
          121,
          121,
          121,
          121,
          121,
          137,
          131,
          121,
          121,
          121,
          121,
          121,
          121,
          121,
          121,
          121,
          121,
          121,
          121,
          107,
          104,
          103,
          103,
          103,
          105,
          114,
          121,
          121,
          121,
          121,
          121,
          121,
          121,
          121,
          121,
          117,
          98,
          98,
          98,
          98,
          117,
          117,
          137,
          130,
          121,
          121,
          121,
          121,
          121,
          121,
          121,
          117,
          107,
          117,
          121,
          121,
          121,
          121,
          121,
          121,
          121,
          121,
          121,
          121,
          121,
          121,
          121,
          117,
          121,
          121,
          121,
          121,
          121,
          121,
          121,
          121,
          121,
          121,
          121,
          119,
          121,
          121,
          121,
          121,
          121
         ],
         "yaxis": "y"
        }
       ],
       "layout": {
        "legend": {
         "title": {
          "text": "User ID"
         },
         "tracegroupgap": 0
        },
        "template": {
         "data": {
          "bar": [
           {
            "error_x": {
             "color": "#2a3f5f"
            },
            "error_y": {
             "color": "#2a3f5f"
            },
            "marker": {
             "line": {
              "color": "#E5ECF6",
              "width": 0.5
             },
             "pattern": {
              "fillmode": "overlay",
              "size": 10,
              "solidity": 0.2
             }
            },
            "type": "bar"
           }
          ],
          "barpolar": [
           {
            "marker": {
             "line": {
              "color": "#E5ECF6",
              "width": 0.5
             },
             "pattern": {
              "fillmode": "overlay",
              "size": 10,
              "solidity": 0.2
             }
            },
            "type": "barpolar"
           }
          ],
          "carpet": [
           {
            "aaxis": {
             "endlinecolor": "#2a3f5f",
             "gridcolor": "white",
             "linecolor": "white",
             "minorgridcolor": "white",
             "startlinecolor": "#2a3f5f"
            },
            "baxis": {
             "endlinecolor": "#2a3f5f",
             "gridcolor": "white",
             "linecolor": "white",
             "minorgridcolor": "white",
             "startlinecolor": "#2a3f5f"
            },
            "type": "carpet"
           }
          ],
          "choropleth": [
           {
            "colorbar": {
             "outlinewidth": 0,
             "ticks": ""
            },
            "type": "choropleth"
           }
          ],
          "contour": [
           {
            "colorbar": {
             "outlinewidth": 0,
             "ticks": ""
            },
            "colorscale": [
             [
              0,
              "#0d0887"
             ],
             [
              0.1111111111111111,
              "#46039f"
             ],
             [
              0.2222222222222222,
              "#7201a8"
             ],
             [
              0.3333333333333333,
              "#9c179e"
             ],
             [
              0.4444444444444444,
              "#bd3786"
             ],
             [
              0.5555555555555556,
              "#d8576b"
             ],
             [
              0.6666666666666666,
              "#ed7953"
             ],
             [
              0.7777777777777778,
              "#fb9f3a"
             ],
             [
              0.8888888888888888,
              "#fdca26"
             ],
             [
              1,
              "#f0f921"
             ]
            ],
            "type": "contour"
           }
          ],
          "contourcarpet": [
           {
            "colorbar": {
             "outlinewidth": 0,
             "ticks": ""
            },
            "type": "contourcarpet"
           }
          ],
          "heatmap": [
           {
            "colorbar": {
             "outlinewidth": 0,
             "ticks": ""
            },
            "colorscale": [
             [
              0,
              "#0d0887"
             ],
             [
              0.1111111111111111,
              "#46039f"
             ],
             [
              0.2222222222222222,
              "#7201a8"
             ],
             [
              0.3333333333333333,
              "#9c179e"
             ],
             [
              0.4444444444444444,
              "#bd3786"
             ],
             [
              0.5555555555555556,
              "#d8576b"
             ],
             [
              0.6666666666666666,
              "#ed7953"
             ],
             [
              0.7777777777777778,
              "#fb9f3a"
             ],
             [
              0.8888888888888888,
              "#fdca26"
             ],
             [
              1,
              "#f0f921"
             ]
            ],
            "type": "heatmap"
           }
          ],
          "heatmapgl": [
           {
            "colorbar": {
             "outlinewidth": 0,
             "ticks": ""
            },
            "colorscale": [
             [
              0,
              "#0d0887"
             ],
             [
              0.1111111111111111,
              "#46039f"
             ],
             [
              0.2222222222222222,
              "#7201a8"
             ],
             [
              0.3333333333333333,
              "#9c179e"
             ],
             [
              0.4444444444444444,
              "#bd3786"
             ],
             [
              0.5555555555555556,
              "#d8576b"
             ],
             [
              0.6666666666666666,
              "#ed7953"
             ],
             [
              0.7777777777777778,
              "#fb9f3a"
             ],
             [
              0.8888888888888888,
              "#fdca26"
             ],
             [
              1,
              "#f0f921"
             ]
            ],
            "type": "heatmapgl"
           }
          ],
          "histogram": [
           {
            "marker": {
             "pattern": {
              "fillmode": "overlay",
              "size": 10,
              "solidity": 0.2
             }
            },
            "type": "histogram"
           }
          ],
          "histogram2d": [
           {
            "colorbar": {
             "outlinewidth": 0,
             "ticks": ""
            },
            "colorscale": [
             [
              0,
              "#0d0887"
             ],
             [
              0.1111111111111111,
              "#46039f"
             ],
             [
              0.2222222222222222,
              "#7201a8"
             ],
             [
              0.3333333333333333,
              "#9c179e"
             ],
             [
              0.4444444444444444,
              "#bd3786"
             ],
             [
              0.5555555555555556,
              "#d8576b"
             ],
             [
              0.6666666666666666,
              "#ed7953"
             ],
             [
              0.7777777777777778,
              "#fb9f3a"
             ],
             [
              0.8888888888888888,
              "#fdca26"
             ],
             [
              1,
              "#f0f921"
             ]
            ],
            "type": "histogram2d"
           }
          ],
          "histogram2dcontour": [
           {
            "colorbar": {
             "outlinewidth": 0,
             "ticks": ""
            },
            "colorscale": [
             [
              0,
              "#0d0887"
             ],
             [
              0.1111111111111111,
              "#46039f"
             ],
             [
              0.2222222222222222,
              "#7201a8"
             ],
             [
              0.3333333333333333,
              "#9c179e"
             ],
             [
              0.4444444444444444,
              "#bd3786"
             ],
             [
              0.5555555555555556,
              "#d8576b"
             ],
             [
              0.6666666666666666,
              "#ed7953"
             ],
             [
              0.7777777777777778,
              "#fb9f3a"
             ],
             [
              0.8888888888888888,
              "#fdca26"
             ],
             [
              1,
              "#f0f921"
             ]
            ],
            "type": "histogram2dcontour"
           }
          ],
          "mesh3d": [
           {
            "colorbar": {
             "outlinewidth": 0,
             "ticks": ""
            },
            "type": "mesh3d"
           }
          ],
          "parcoords": [
           {
            "line": {
             "colorbar": {
              "outlinewidth": 0,
              "ticks": ""
             }
            },
            "type": "parcoords"
           }
          ],
          "pie": [
           {
            "automargin": true,
            "type": "pie"
           }
          ],
          "scatter": [
           {
            "fillpattern": {
             "fillmode": "overlay",
             "size": 10,
             "solidity": 0.2
            },
            "type": "scatter"
           }
          ],
          "scatter3d": [
           {
            "line": {
             "colorbar": {
              "outlinewidth": 0,
              "ticks": ""
             }
            },
            "marker": {
             "colorbar": {
              "outlinewidth": 0,
              "ticks": ""
             }
            },
            "type": "scatter3d"
           }
          ],
          "scattercarpet": [
           {
            "marker": {
             "colorbar": {
              "outlinewidth": 0,
              "ticks": ""
             }
            },
            "type": "scattercarpet"
           }
          ],
          "scattergeo": [
           {
            "marker": {
             "colorbar": {
              "outlinewidth": 0,
              "ticks": ""
             }
            },
            "type": "scattergeo"
           }
          ],
          "scattergl": [
           {
            "marker": {
             "colorbar": {
              "outlinewidth": 0,
              "ticks": ""
             }
            },
            "type": "scattergl"
           }
          ],
          "scattermapbox": [
           {
            "marker": {
             "colorbar": {
              "outlinewidth": 0,
              "ticks": ""
             }
            },
            "type": "scattermapbox"
           }
          ],
          "scatterpolar": [
           {
            "marker": {
             "colorbar": {
              "outlinewidth": 0,
              "ticks": ""
             }
            },
            "type": "scatterpolar"
           }
          ],
          "scatterpolargl": [
           {
            "marker": {
             "colorbar": {
              "outlinewidth": 0,
              "ticks": ""
             }
            },
            "type": "scatterpolargl"
           }
          ],
          "scatterternary": [
           {
            "marker": {
             "colorbar": {
              "outlinewidth": 0,
              "ticks": ""
             }
            },
            "type": "scatterternary"
           }
          ],
          "surface": [
           {
            "colorbar": {
             "outlinewidth": 0,
             "ticks": ""
            },
            "colorscale": [
             [
              0,
              "#0d0887"
             ],
             [
              0.1111111111111111,
              "#46039f"
             ],
             [
              0.2222222222222222,
              "#7201a8"
             ],
             [
              0.3333333333333333,
              "#9c179e"
             ],
             [
              0.4444444444444444,
              "#bd3786"
             ],
             [
              0.5555555555555556,
              "#d8576b"
             ],
             [
              0.6666666666666666,
              "#ed7953"
             ],
             [
              0.7777777777777778,
              "#fb9f3a"
             ],
             [
              0.8888888888888888,
              "#fdca26"
             ],
             [
              1,
              "#f0f921"
             ]
            ],
            "type": "surface"
           }
          ],
          "table": [
           {
            "cells": {
             "fill": {
              "color": "#EBF0F8"
             },
             "line": {
              "color": "white"
             }
            },
            "header": {
             "fill": {
              "color": "#C8D4E3"
             },
             "line": {
              "color": "white"
             }
            },
            "type": "table"
           }
          ]
         },
         "layout": {
          "annotationdefaults": {
           "arrowcolor": "#2a3f5f",
           "arrowhead": 0,
           "arrowwidth": 1
          },
          "autotypenumbers": "strict",
          "coloraxis": {
           "colorbar": {
            "outlinewidth": 0,
            "ticks": ""
           }
          },
          "colorscale": {
           "diverging": [
            [
             0,
             "#8e0152"
            ],
            [
             0.1,
             "#c51b7d"
            ],
            [
             0.2,
             "#de77ae"
            ],
            [
             0.3,
             "#f1b6da"
            ],
            [
             0.4,
             "#fde0ef"
            ],
            [
             0.5,
             "#f7f7f7"
            ],
            [
             0.6,
             "#e6f5d0"
            ],
            [
             0.7,
             "#b8e186"
            ],
            [
             0.8,
             "#7fbc41"
            ],
            [
             0.9,
             "#4d9221"
            ],
            [
             1,
             "#276419"
            ]
           ],
           "sequential": [
            [
             0,
             "#0d0887"
            ],
            [
             0.1111111111111111,
             "#46039f"
            ],
            [
             0.2222222222222222,
             "#7201a8"
            ],
            [
             0.3333333333333333,
             "#9c179e"
            ],
            [
             0.4444444444444444,
             "#bd3786"
            ],
            [
             0.5555555555555556,
             "#d8576b"
            ],
            [
             0.6666666666666666,
             "#ed7953"
            ],
            [
             0.7777777777777778,
             "#fb9f3a"
            ],
            [
             0.8888888888888888,
             "#fdca26"
            ],
            [
             1,
             "#f0f921"
            ]
           ],
           "sequentialminus": [
            [
             0,
             "#0d0887"
            ],
            [
             0.1111111111111111,
             "#46039f"
            ],
            [
             0.2222222222222222,
             "#7201a8"
            ],
            [
             0.3333333333333333,
             "#9c179e"
            ],
            [
             0.4444444444444444,
             "#bd3786"
            ],
            [
             0.5555555555555556,
             "#d8576b"
            ],
            [
             0.6666666666666666,
             "#ed7953"
            ],
            [
             0.7777777777777778,
             "#fb9f3a"
            ],
            [
             0.8888888888888888,
             "#fdca26"
            ],
            [
             1,
             "#f0f921"
            ]
           ]
          },
          "colorway": [
           "#636efa",
           "#EF553B",
           "#00cc96",
           "#ab63fa",
           "#FFA15A",
           "#19d3f3",
           "#FF6692",
           "#B6E880",
           "#FF97FF",
           "#FECB52"
          ],
          "font": {
           "color": "#2a3f5f"
          },
          "geo": {
           "bgcolor": "white",
           "lakecolor": "white",
           "landcolor": "#E5ECF6",
           "showlakes": true,
           "showland": true,
           "subunitcolor": "white"
          },
          "hoverlabel": {
           "align": "left"
          },
          "hovermode": "closest",
          "mapbox": {
           "style": "light"
          },
          "paper_bgcolor": "white",
          "plot_bgcolor": "#E5ECF6",
          "polar": {
           "angularaxis": {
            "gridcolor": "white",
            "linecolor": "white",
            "ticks": ""
           },
           "bgcolor": "#E5ECF6",
           "radialaxis": {
            "gridcolor": "white",
            "linecolor": "white",
            "ticks": ""
           }
          },
          "scene": {
           "xaxis": {
            "backgroundcolor": "#E5ECF6",
            "gridcolor": "white",
            "gridwidth": 2,
            "linecolor": "white",
            "showbackground": true,
            "ticks": "",
            "zerolinecolor": "white"
           },
           "yaxis": {
            "backgroundcolor": "#E5ECF6",
            "gridcolor": "white",
            "gridwidth": 2,
            "linecolor": "white",
            "showbackground": true,
            "ticks": "",
            "zerolinecolor": "white"
           },
           "zaxis": {
            "backgroundcolor": "#E5ECF6",
            "gridcolor": "white",
            "gridwidth": 2,
            "linecolor": "white",
            "showbackground": true,
            "ticks": "",
            "zerolinecolor": "white"
           }
          },
          "shapedefaults": {
           "line": {
            "color": "#2a3f5f"
           }
          },
          "ternary": {
           "aaxis": {
            "gridcolor": "white",
            "linecolor": "white",
            "ticks": ""
           },
           "baxis": {
            "gridcolor": "white",
            "linecolor": "white",
            "ticks": ""
           },
           "bgcolor": "#E5ECF6",
           "caxis": {
            "gridcolor": "white",
            "linecolor": "white",
            "ticks": ""
           }
          },
          "title": {
           "x": 0.05
          },
          "xaxis": {
           "automargin": true,
           "gridcolor": "white",
           "linecolor": "white",
           "ticks": "",
           "title": {
            "standoff": 15
           },
           "zerolinecolor": "white",
           "zerolinewidth": 2
          },
          "yaxis": {
           "automargin": true,
           "gridcolor": "white",
           "linecolor": "white",
           "ticks": "",
           "title": {
            "standoff": 15
           },
           "zerolinecolor": "white",
           "zerolinewidth": 2
          }
         }
        },
        "title": {
         "text": "User Y Position Over Time"
        },
        "xaxis": {
         "anchor": "y",
         "domain": [
          0,
          1
         ],
         "title": {
          "text": "time"
         }
        },
        "yaxis": {
         "anchor": "x",
         "domain": [
          0,
          1
         ],
         "range": [
          0,
          200
         ],
         "title": {
          "text": "Y Position"
         }
        }
       }
      },
      "text/html": [
       "<div>                            <div id=\"22d61861-d46b-496c-b589-e807d11ce929\" class=\"plotly-graph-div\" style=\"height:525px; width:100%;\"></div>            <script type=\"text/javascript\">                require([\"plotly\"], function(Plotly) {                    window.PLOTLYENV=window.PLOTLYENV || {};                                    if (document.getElementById(\"22d61861-d46b-496c-b589-e807d11ce929\")) {                    Plotly.newPlot(                        \"22d61861-d46b-496c-b589-e807d11ce929\",                        [{\"hovertemplate\":\"User ID=20007\\u003cbr\\u003etime=%{x}\\u003cbr\\u003eY Position=%{y}\\u003cextra\\u003e\\u003c\\u002fextra\\u003e\",\"legendgroup\":\"20007\",\"line\":{\"color\":\"#636efa\",\"dash\":\"solid\"},\"marker\":{\"symbol\":\"circle\"},\"mode\":\"lines+markers\",\"name\":\"20007\",\"showlegend\":true,\"x\":[8,13,14,25,28,29,30,31,32,33,34,35,36,37,39,40,41,42,43,44,45,46,47,50,52,53,54,55,57,58,60,63,64,68,70,72,76,79,81,90,93,101,103,105,109,112,114,115,119,120,123,125,126,127,130,132,134,135,140,144,146,154,166,170,173,178,179,180,184,190,199,207,210,211,213,214,215,216,218,219,220,221,222,223,224,225,231,232,233,234,235,241,246,249,250,251,255,258,259,261,263,264,268,269,270,272,277,289,290,291,294,296,297,303,318,323,331,334,336,340,344,345,349,351,354,355,362,365,366,367,368,369,370,371,372,373,375,376,377,378,380,383,387,389,394,397,398,399,402,419,443,449,453,462,463,470,478,486,488,491,492,497,508,509,510,514,515,517,522,530,531,536,542,548,550,555,556,557,558,565,568,569,580,593,595,596,600,603,604,605,606,607,609,617,620,627,629,632,633,653,657,660,661,667,669,673,680,683,686,690,697,698,699,700,701,702,704,705,707,708,709,710,711,712,714,715,717,722,727,731,742,752,756,761,765,780,788,789,791,792,793,794,795,802,810,811,813,818,822,841,843,845,846,847,859,861,868,871,873,874,883,888,892,894,898,903,921,925,928,930,931,934,935,936,938,939,940,941,944,952,954,955,957,959,973,975,990,994,998,999,1000,1001,1008,1011,1026,1033,1038,1046,1047,1052,1057,1066,1070,1079,1088,1096,1103,1113,1116,1119,1120,1124,1130,1131,1134,1135,1137,1139,1144,1155,1158,1159,1161,1163,1164,1166,1170,1173,1176,1179,1182,1183,1185,1191,1193,1203,1211,1212,1215,1217,1221,1222,1223,1224,1227,1228,1229,1230,1232,1235,1239,1240,1242,1249,1252,1254,1261,1274,1277,1278,1285,1287,1288,1293,1296,1300,1302,1303,1304,1306,1307,1309,1312,1315,1318,1324,1327,1330,1340,1345,1351,1358,1363,1364,1366,1369,1372,1383,1384,1385,1386,1387,1388,1389,1390,1391,1395,1397,1398,1399,1410,1414,1415,1416,1420,1421,1422,1423,1431,1432,1436,1437,1438,1440,1449,1450,1458,1467,1469,1470,1471,1472,1479,1481,1484,1502,1503,1507,1513,1514,1515,1517,1518,1519,1525,1529,1534,1536,1538,1546,1547,1549,1552,1553,1554,1557,1558,1561,1562,1563,1564,1565,1567,1568,1569,1570,1571,1572,1577,1578,1580,1581,1583,1584,1587,1591,1593,1595,1605,1609,1610,1611,1612,1613,1614,1615,1629,1640,1644,1649,1650,1651,1668,1683,1685,1688,1694,1700,1705,1708,1709,1710,1711,1713,1714,1715,1716,1720,1722,1723,1735,1739,1741,1751,1758,1759,1769,1773,1775,1776,1786,1793,1794,1798,1801,1802,1803,1804,1806,1807,1809,1811,1812,1813,1826,1828,1830,1831,1834,1841,1847,1850,1853,1854,1861,1872,1875,1883,1886,1888,1895,1896,1897,1898,1899,1900,1901,1903,1904,1905,1906,1908,1909,1910,1912,1913,1918,1931,1932,1934,1938,1939,1943,1944,1947,1948,1950,1951,1971,1974,1979,1980,1985,1994,2002,2003,2005,2006,2007,2008,2014,2015,2016,2019,2028,2030,2038,2042,2043,2045,2049,2050,2051,2052,2053,2054,2058,2060,2061,2064,2073,2078,2079,2082,2088,2092,2094,2095,2102,2107,2113,2122,2124,2136,2140,2141,2142,2144,2149,2150,2156,2157,2160,2162,2167,2171,2175,2178,2190,2191,2210,2211,2215,2216,2217,2218,2223,2224,2232,2237,2238,2239,2263,2267,2270,2274,2275,2280,2281,2282,2284,2286,2291,2301,2308,2311,2317,2322,2328,2334,2338,2342,2354,2359,2363,2371,2376,2379,2380,2381,2382,2383,2388,2389,2391,2393,2394,2395,2405,2408,2410,2416,2418,2424,2427,2428,2430,2431,2432,2433,2434,2435,2436,2437,2438,2439,2441,2442,2443,2458,2462,2463,2472,2477,2478,2479,2484,2498,2499,2500,2503,2506,2507,2509,2511,2515,2520,2521,2524,2525,2526,2535,2536,2538,2539,2548,2554,2558,2574,2575,2582,2583,2588,2590,2598,2599,2605,2607,2608,2613,2615,2618,2619,2620,2621,2622,2623,2626,2630,2633,2644,2646,2647,2650,2652,2654,2656,2661,2662,2663,2664,2668,2670,2671,2674,2675,2676,2677,2678,2679,2683,2686,2691,2702,2705,2711,2714,2719,2720,2724,2725,2726,2727,2729,2730,2740,2746,2748,2764,2769,2771,2774,2777,2781,2792,2793,2800,2807,2809,2810,2812,2814,2815,2816,2826,2829,2834,2838,2839,2841,2845,2848,2851,2856,2862,2867,2870,2872,2874,2876,2880,2882,2888,2900,2908,2910,2911,2913,2914,2919,2920,2923,2925,2926,2931,2935,2937,2948,2951,2954,2959,2968,2972,2981,2986,2987,2990,2994,2995,2997,2999,3001,3002,3004,3005,3007,3011,3012,3013,3014,3015,3016,3017,3018,3019,3032,3033,3046,3051,3053,3054,3055,3056,3057,3059,3060,3061,3066,3071,3075,3082,3083,3086,3089,3098,3102,3104,3108,3114,3116,3117,3132,3138,3139,3143,3144,3145,3148,3149,3154,3156,3158,3159,3180,3194,3197,3198,3202,3205,3208,3211,3224,3228,3231,3242,3243,3244,3245,3246,3248,3249,3250,3258,3259,3260,3261,3264,3267,3270,3273,3289,3290,3294,3296,3299,3300,3303,3306,3309,3313,3316,3321,3325,3328,3330,3338,3339,3341,3343,3344,3345,3346,3347,3352,3359,3361,3362,3364,3369,3379,3385,3388,3391,3392,3393,3394,3395,3396,3399,3402,3403,3416,3457,3463,3466,3474,3478,3481,3482,3486,3487,3493,3495,3503,3505,3507,3508,3515,3521,3525,3528,3529,3532,3534,3539,3545,3548,3551,3555,3557,3560,3562,3569,3574,3581,3582,3583,3587,3590,3593,3595],\"xaxis\":\"x\",\"y\":[121,121,121,121,111,107,107,107,106,94,92,92,92,104,116,117,107,107,107,124,113,101,111,121,121,121,121,121,121,121,121,121,121,121,121,121,121,121,121,121,121,121,121,121,121,121,113,106,106,105,106,107,119,121,121,121,121,121,121,121,121,121,121,121,121,121,121,121,121,121,121,121,121,121,110,108,108,108,92,92,92,100,120,121,94,94,94,94,94,114,121,121,121,121,121,121,121,112,106,106,107,107,107,113,118,121,121,121,121,121,121,121,121,121,121,121,121,121,121,121,121,121,121,121,121,121,121,121,106,105,101,100,100,100,99,98,101,113,117,120,121,121,121,121,121,121,121,121,121,121,121,121,121,121,121,121,121,121,121,121,121,121,121,110,114,121,121,121,121,121,121,121,121,121,121,120,120,119,120,121,121,121,121,121,117,106,107,106,114,113,119,121,121,121,121,121,121,121,121,121,121,121,121,121,121,121,121,121,121,121,119,120,96,98,95,98,103,117,116,110,122,132,151,150,142,121,121,121,121,121,121,121,121,121,121,121,118,117,117,113,107,108,118,121,121,117,117,121,121,107,107,111,113,121,121,121,121,121,121,121,121,117,112,113,121,121,121,121,121,121,106,106,107,107,107,107,107,111,121,121,121,140,128,121,121,121,121,121,121,121,121,121,121,121,121,121,121,121,113,107,121,121,121,121,121,121,121,121,121,121,121,121,117,117,120,121,121,121,121,121,121,121,121,121,121,121,121,121,121,121,120,121,121,121,121,121,121,121,121,121,121,106,101,100,102,101,107,119,132,151,127,117,121,121,121,121,121,120,121,120,121,121,121,121,121,121,121,121,121,121,121,121,121,121,121,121,121,121,121,121,121,121,121,121,121,121,121,112,116,111,111,108,109,115,111,121,121,121,121,121,121,121,121,121,121,132,150,149,151,150,127,121,121,121,121,121,121,111,114,120,119,121,121,121,121,121,121,121,121,121,117,117,120,121,121,121,121,121,121,121,121,121,121,112,106,106,121,109,102,77,83,83,82,95,117,130,150,137,137,121,116,104,107,111,121,121,121,121,121,118,103,111,111,110,113,118,121,121,121,121,121,121,121,121,121,121,121,121,121,121,121,121,114,108,107,104,101,107,109,114,121,121,121,121,117,121,121,121,121,121,121,121,121,121,117,144,137,121,147,143,142,143,143,144,121,121,121,121,121,121,121,114,114,120,121,121,121,121,121,121,121,119,111,110,112,113,111,112,112,112,111,111,117,112,114,118,121,121,121,121,114,108,107,113,113,110,119,121,121,121,121,121,121,121,121,115,107,101,100,101,106,124,121,121,121,121,121,121,121,121,118,96,99,101,96,82,82,82,94,121,121,121,121,121,121,132,129,121,121,121,121,121,121,121,121,117,121,121,121,121,121,121,121,121,121,121,121,121,119,121,121,121,121,121,121,121,121,121,121,119,120,121,121,121,121,115,106,105,105,106,107,121,121,121,121,121,121,121,121,121,121,121,121,121,121,121,120,124,137,146,151,164,149,143,144,121,121,121,121,121,121,121,121,121,121,110,112,117,132,140,147,128,125,117,114,112,103,120,121,121,121,121,121,120,121,121,121,121,121,121,121,121,121,121,121,121,121,121,121,120,121,121,121,121,121,121,121,121,121,121,121,120,121,121,121,121,121,121,121,121,121,118,112,117,117,119,121,121,121,121,121,121,121,121,121,121,121,121,109,112,111,111,106,106,113,113,117,130,144,148,123,121,121,121,121,121,106,107,97,99,101,121,107,107,116,121,121,121,121,121,121,121,121,121,119,121,121,121,124,123,110,117,121,121,121,121,121,121,121,121,121,121,121,121,121,121,121,121,121,121,121,121,121,121,121,120,121,121,121,121,121,121,121,121,121,121,121,121,121,121,121,121,121,121,121,121,121,121,121,121,121,121,121,121,121,121,115,118,136,138,142,144,139,121,120,121,121,121,121,117,111,106,107,103,104,119,144,121,121,121,121,121,121,121,121,121,121,121,121,121,121,121,115,106,106,105,105,112,120,121,121,121,121,121,121,117,113,121,121,121,121,121,121,121,112,113,113,114,121,94,93,83,109,116,121,121,121,121,121,121,121,137,131,121,121,121,121,121,121,121,121,121,121,121,121,107,104,103,103,103,105,114,121,121,121,121,121,121,121,121,121,117,98,98,98,98,117,117,137,130,121,121,121,121,121,121,121,117,107,117,121,121,121,121,121,121,121,121,121,121,121,121,121,117,121,121,121,121,121,121,121,121,121,121,121,119,121,121,121,121,121],\"yaxis\":\"y\",\"type\":\"scattergl\"}],                        {\"template\":{\"data\":{\"histogram2dcontour\":[{\"type\":\"histogram2dcontour\",\"colorbar\":{\"outlinewidth\":0,\"ticks\":\"\"},\"colorscale\":[[0.0,\"#0d0887\"],[0.1111111111111111,\"#46039f\"],[0.2222222222222222,\"#7201a8\"],[0.3333333333333333,\"#9c179e\"],[0.4444444444444444,\"#bd3786\"],[0.5555555555555556,\"#d8576b\"],[0.6666666666666666,\"#ed7953\"],[0.7777777777777778,\"#fb9f3a\"],[0.8888888888888888,\"#fdca26\"],[1.0,\"#f0f921\"]]}],\"choropleth\":[{\"type\":\"choropleth\",\"colorbar\":{\"outlinewidth\":0,\"ticks\":\"\"}}],\"histogram2d\":[{\"type\":\"histogram2d\",\"colorbar\":{\"outlinewidth\":0,\"ticks\":\"\"},\"colorscale\":[[0.0,\"#0d0887\"],[0.1111111111111111,\"#46039f\"],[0.2222222222222222,\"#7201a8\"],[0.3333333333333333,\"#9c179e\"],[0.4444444444444444,\"#bd3786\"],[0.5555555555555556,\"#d8576b\"],[0.6666666666666666,\"#ed7953\"],[0.7777777777777778,\"#fb9f3a\"],[0.8888888888888888,\"#fdca26\"],[1.0,\"#f0f921\"]]}],\"heatmap\":[{\"type\":\"heatmap\",\"colorbar\":{\"outlinewidth\":0,\"ticks\":\"\"},\"colorscale\":[[0.0,\"#0d0887\"],[0.1111111111111111,\"#46039f\"],[0.2222222222222222,\"#7201a8\"],[0.3333333333333333,\"#9c179e\"],[0.4444444444444444,\"#bd3786\"],[0.5555555555555556,\"#d8576b\"],[0.6666666666666666,\"#ed7953\"],[0.7777777777777778,\"#fb9f3a\"],[0.8888888888888888,\"#fdca26\"],[1.0,\"#f0f921\"]]}],\"heatmapgl\":[{\"type\":\"heatmapgl\",\"colorbar\":{\"outlinewidth\":0,\"ticks\":\"\"},\"colorscale\":[[0.0,\"#0d0887\"],[0.1111111111111111,\"#46039f\"],[0.2222222222222222,\"#7201a8\"],[0.3333333333333333,\"#9c179e\"],[0.4444444444444444,\"#bd3786\"],[0.5555555555555556,\"#d8576b\"],[0.6666666666666666,\"#ed7953\"],[0.7777777777777778,\"#fb9f3a\"],[0.8888888888888888,\"#fdca26\"],[1.0,\"#f0f921\"]]}],\"contourcarpet\":[{\"type\":\"contourcarpet\",\"colorbar\":{\"outlinewidth\":0,\"ticks\":\"\"}}],\"contour\":[{\"type\":\"contour\",\"colorbar\":{\"outlinewidth\":0,\"ticks\":\"\"},\"colorscale\":[[0.0,\"#0d0887\"],[0.1111111111111111,\"#46039f\"],[0.2222222222222222,\"#7201a8\"],[0.3333333333333333,\"#9c179e\"],[0.4444444444444444,\"#bd3786\"],[0.5555555555555556,\"#d8576b\"],[0.6666666666666666,\"#ed7953\"],[0.7777777777777778,\"#fb9f3a\"],[0.8888888888888888,\"#fdca26\"],[1.0,\"#f0f921\"]]}],\"surface\":[{\"type\":\"surface\",\"colorbar\":{\"outlinewidth\":0,\"ticks\":\"\"},\"colorscale\":[[0.0,\"#0d0887\"],[0.1111111111111111,\"#46039f\"],[0.2222222222222222,\"#7201a8\"],[0.3333333333333333,\"#9c179e\"],[0.4444444444444444,\"#bd3786\"],[0.5555555555555556,\"#d8576b\"],[0.6666666666666666,\"#ed7953\"],[0.7777777777777778,\"#fb9f3a\"],[0.8888888888888888,\"#fdca26\"],[1.0,\"#f0f921\"]]}],\"mesh3d\":[{\"type\":\"mesh3d\",\"colorbar\":{\"outlinewidth\":0,\"ticks\":\"\"}}],\"scatter\":[{\"fillpattern\":{\"fillmode\":\"overlay\",\"size\":10,\"solidity\":0.2},\"type\":\"scatter\"}],\"parcoords\":[{\"type\":\"parcoords\",\"line\":{\"colorbar\":{\"outlinewidth\":0,\"ticks\":\"\"}}}],\"scatterpolargl\":[{\"type\":\"scatterpolargl\",\"marker\":{\"colorbar\":{\"outlinewidth\":0,\"ticks\":\"\"}}}],\"bar\":[{\"error_x\":{\"color\":\"#2a3f5f\"},\"error_y\":{\"color\":\"#2a3f5f\"},\"marker\":{\"line\":{\"color\":\"#E5ECF6\",\"width\":0.5},\"pattern\":{\"fillmode\":\"overlay\",\"size\":10,\"solidity\":0.2}},\"type\":\"bar\"}],\"scattergeo\":[{\"type\":\"scattergeo\",\"marker\":{\"colorbar\":{\"outlinewidth\":0,\"ticks\":\"\"}}}],\"scatterpolar\":[{\"type\":\"scatterpolar\",\"marker\":{\"colorbar\":{\"outlinewidth\":0,\"ticks\":\"\"}}}],\"histogram\":[{\"marker\":{\"pattern\":{\"fillmode\":\"overlay\",\"size\":10,\"solidity\":0.2}},\"type\":\"histogram\"}],\"scattergl\":[{\"type\":\"scattergl\",\"marker\":{\"colorbar\":{\"outlinewidth\":0,\"ticks\":\"\"}}}],\"scatter3d\":[{\"type\":\"scatter3d\",\"line\":{\"colorbar\":{\"outlinewidth\":0,\"ticks\":\"\"}},\"marker\":{\"colorbar\":{\"outlinewidth\":0,\"ticks\":\"\"}}}],\"scattermapbox\":[{\"type\":\"scattermapbox\",\"marker\":{\"colorbar\":{\"outlinewidth\":0,\"ticks\":\"\"}}}],\"scatterternary\":[{\"type\":\"scatterternary\",\"marker\":{\"colorbar\":{\"outlinewidth\":0,\"ticks\":\"\"}}}],\"scattercarpet\":[{\"type\":\"scattercarpet\",\"marker\":{\"colorbar\":{\"outlinewidth\":0,\"ticks\":\"\"}}}],\"carpet\":[{\"aaxis\":{\"endlinecolor\":\"#2a3f5f\",\"gridcolor\":\"white\",\"linecolor\":\"white\",\"minorgridcolor\":\"white\",\"startlinecolor\":\"#2a3f5f\"},\"baxis\":{\"endlinecolor\":\"#2a3f5f\",\"gridcolor\":\"white\",\"linecolor\":\"white\",\"minorgridcolor\":\"white\",\"startlinecolor\":\"#2a3f5f\"},\"type\":\"carpet\"}],\"table\":[{\"cells\":{\"fill\":{\"color\":\"#EBF0F8\"},\"line\":{\"color\":\"white\"}},\"header\":{\"fill\":{\"color\":\"#C8D4E3\"},\"line\":{\"color\":\"white\"}},\"type\":\"table\"}],\"barpolar\":[{\"marker\":{\"line\":{\"color\":\"#E5ECF6\",\"width\":0.5},\"pattern\":{\"fillmode\":\"overlay\",\"size\":10,\"solidity\":0.2}},\"type\":\"barpolar\"}],\"pie\":[{\"automargin\":true,\"type\":\"pie\"}]},\"layout\":{\"autotypenumbers\":\"strict\",\"colorway\":[\"#636efa\",\"#EF553B\",\"#00cc96\",\"#ab63fa\",\"#FFA15A\",\"#19d3f3\",\"#FF6692\",\"#B6E880\",\"#FF97FF\",\"#FECB52\"],\"font\":{\"color\":\"#2a3f5f\"},\"hovermode\":\"closest\",\"hoverlabel\":{\"align\":\"left\"},\"paper_bgcolor\":\"white\",\"plot_bgcolor\":\"#E5ECF6\",\"polar\":{\"bgcolor\":\"#E5ECF6\",\"angularaxis\":{\"gridcolor\":\"white\",\"linecolor\":\"white\",\"ticks\":\"\"},\"radialaxis\":{\"gridcolor\":\"white\",\"linecolor\":\"white\",\"ticks\":\"\"}},\"ternary\":{\"bgcolor\":\"#E5ECF6\",\"aaxis\":{\"gridcolor\":\"white\",\"linecolor\":\"white\",\"ticks\":\"\"},\"baxis\":{\"gridcolor\":\"white\",\"linecolor\":\"white\",\"ticks\":\"\"},\"caxis\":{\"gridcolor\":\"white\",\"linecolor\":\"white\",\"ticks\":\"\"}},\"coloraxis\":{\"colorbar\":{\"outlinewidth\":0,\"ticks\":\"\"}},\"colorscale\":{\"sequential\":[[0.0,\"#0d0887\"],[0.1111111111111111,\"#46039f\"],[0.2222222222222222,\"#7201a8\"],[0.3333333333333333,\"#9c179e\"],[0.4444444444444444,\"#bd3786\"],[0.5555555555555556,\"#d8576b\"],[0.6666666666666666,\"#ed7953\"],[0.7777777777777778,\"#fb9f3a\"],[0.8888888888888888,\"#fdca26\"],[1.0,\"#f0f921\"]],\"sequentialminus\":[[0.0,\"#0d0887\"],[0.1111111111111111,\"#46039f\"],[0.2222222222222222,\"#7201a8\"],[0.3333333333333333,\"#9c179e\"],[0.4444444444444444,\"#bd3786\"],[0.5555555555555556,\"#d8576b\"],[0.6666666666666666,\"#ed7953\"],[0.7777777777777778,\"#fb9f3a\"],[0.8888888888888888,\"#fdca26\"],[1.0,\"#f0f921\"]],\"diverging\":[[0,\"#8e0152\"],[0.1,\"#c51b7d\"],[0.2,\"#de77ae\"],[0.3,\"#f1b6da\"],[0.4,\"#fde0ef\"],[0.5,\"#f7f7f7\"],[0.6,\"#e6f5d0\"],[0.7,\"#b8e186\"],[0.8,\"#7fbc41\"],[0.9,\"#4d9221\"],[1,\"#276419\"]]},\"xaxis\":{\"gridcolor\":\"white\",\"linecolor\":\"white\",\"ticks\":\"\",\"title\":{\"standoff\":15},\"zerolinecolor\":\"white\",\"automargin\":true,\"zerolinewidth\":2},\"yaxis\":{\"gridcolor\":\"white\",\"linecolor\":\"white\",\"ticks\":\"\",\"title\":{\"standoff\":15},\"zerolinecolor\":\"white\",\"automargin\":true,\"zerolinewidth\":2},\"scene\":{\"xaxis\":{\"backgroundcolor\":\"#E5ECF6\",\"gridcolor\":\"white\",\"linecolor\":\"white\",\"showbackground\":true,\"ticks\":\"\",\"zerolinecolor\":\"white\",\"gridwidth\":2},\"yaxis\":{\"backgroundcolor\":\"#E5ECF6\",\"gridcolor\":\"white\",\"linecolor\":\"white\",\"showbackground\":true,\"ticks\":\"\",\"zerolinecolor\":\"white\",\"gridwidth\":2},\"zaxis\":{\"backgroundcolor\":\"#E5ECF6\",\"gridcolor\":\"white\",\"linecolor\":\"white\",\"showbackground\":true,\"ticks\":\"\",\"zerolinecolor\":\"white\",\"gridwidth\":2}},\"shapedefaults\":{\"line\":{\"color\":\"#2a3f5f\"}},\"annotationdefaults\":{\"arrowcolor\":\"#2a3f5f\",\"arrowhead\":0,\"arrowwidth\":1},\"geo\":{\"bgcolor\":\"white\",\"landcolor\":\"#E5ECF6\",\"subunitcolor\":\"white\",\"showland\":true,\"showlakes\":true,\"lakecolor\":\"white\"},\"title\":{\"x\":0.05},\"mapbox\":{\"style\":\"light\"}}},\"xaxis\":{\"anchor\":\"y\",\"domain\":[0.0,1.0],\"title\":{\"text\":\"time\"}},\"yaxis\":{\"anchor\":\"x\",\"domain\":[0.0,1.0],\"title\":{\"text\":\"Y Position\"},\"range\":[0,200]},\"legend\":{\"title\":{\"text\":\"User ID\"},\"tracegroupgap\":0},\"title\":{\"text\":\"User Y Position Over Time\"}},                        {\"responsive\": true}                    ).then(function(){\n",
       "                            \n",
       "var gd = document.getElementById('22d61861-d46b-496c-b589-e807d11ce929');\n",
       "var x = new MutationObserver(function (mutations, observer) {{\n",
       "        var display = window.getComputedStyle(gd).display;\n",
       "        if (!display || display === 'none') {{\n",
       "            console.log([gd, 'removed!']);\n",
       "            Plotly.purge(gd);\n",
       "            observer.disconnect();\n",
       "        }}\n",
       "}});\n",
       "\n",
       "// Listen for the removal of the full notebook cells\n",
       "var notebookContainer = gd.closest('#notebook-container');\n",
       "if (notebookContainer) {{\n",
       "    x.observe(notebookContainer, {childList: true});\n",
       "}}\n",
       "\n",
       "// Listen for the clearing of the current output cell\n",
       "var outputEl = gd.closest('.output');\n",
       "if (outputEl) {{\n",
       "    x.observe(outputEl, {childList: true});\n",
       "}}\n",
       "\n",
       "                        })                };                });            </script>        </div>"
      ]
     },
     "metadata": {},
     "output_type": "display_data"
    }
   ],
   "source": [
    "plot_xy_trajectory(df_b, test_case)"
   ]
  },
  {
   "cell_type": "code",
   "execution_count": 50,
   "metadata": {},
   "outputs": [
    {
     "name": "stderr",
     "output_type": "stream",
     "text": [
      "/opt/conda/lib/python3.10/site-packages/plotly/express/_core.py:2065: FutureWarning:\n",
      "\n",
      "When grouping with a length-1 list-like, you will need to pass a length-1 tuple to get_group in a future version of pandas. Pass `(name,)` instead of `name` to silence this warning.\n",
      "\n",
      "/opt/conda/lib/python3.10/site-packages/plotly/express/_core.py:2065: FutureWarning:\n",
      "\n",
      "When grouping with a length-1 list-like, you will need to pass a length-1 tuple to get_group in a future version of pandas. Pass `(name,)` instead of `name` to silence this warning.\n",
      "\n"
     ]
    },
    {
     "data": {
      "application/vnd.plotly.v1+json": {
       "config": {
        "plotlyServerURL": "https://plot.ly"
       },
       "data": [
        {
         "hovertemplate": "Data Type=Prediction<br>time=%{x}<br>Time=%{y}<extra></extra>",
         "legendgroup": "Prediction",
         "line": {
          "color": "#636efa",
          "dash": "solid"
         },
         "marker": {
          "symbol": "circle"
         },
         "mode": "lines+markers",
         "name": "Prediction",
         "orientation": "v",
         "showlegend": true,
         "type": "scatter",
         "x": [
          2880,
          2882,
          2888,
          2900,
          2908,
          2910,
          2911,
          2913,
          2914,
          2919,
          2920,
          2923,
          2925,
          2926,
          2931,
          2935,
          2937,
          2948,
          2951,
          2954,
          2959,
          2968,
          2972,
          2981,
          2986,
          2987,
          2990,
          2994,
          2995,
          2997,
          2999,
          3001,
          3002,
          3004,
          3005,
          3007,
          3011,
          3012,
          3013,
          3014,
          3015,
          3016,
          3017,
          3018,
          3019,
          3032,
          3033,
          3046,
          3051,
          3053,
          3054,
          3055,
          3056,
          3057,
          3059,
          3060,
          3061,
          3066,
          3071,
          3075,
          3082,
          3083,
          3086,
          3089,
          3098,
          3102,
          3104,
          3108,
          3114,
          3116,
          3117,
          3132,
          3138,
          3139,
          3143,
          3144,
          3145,
          3148,
          3149,
          3154,
          3156,
          3158,
          3159,
          3180,
          3194,
          3197,
          3198,
          3202,
          3205,
          3208,
          3211,
          3224,
          3228,
          3231,
          3242,
          3243,
          3244,
          3245,
          3246,
          3248,
          3249,
          3250,
          3258,
          3259,
          3260,
          3261,
          3264,
          3267,
          3270,
          3273,
          3289,
          3290,
          3294,
          3296,
          3299,
          3300,
          3303,
          3306,
          3309,
          3313,
          3316,
          3321,
          3325,
          3328,
          3330,
          3338,
          3339,
          3341,
          3343,
          3344,
          3345,
          3346,
          3347,
          3352,
          3359,
          3361,
          3362,
          3364,
          3369,
          3379,
          3385,
          3388,
          3391,
          3392,
          3393,
          3394,
          3395,
          3396,
          3399,
          3402,
          3403,
          3416,
          3457,
          3463,
          3466,
          3474,
          3478,
          3481,
          3482,
          3486,
          3487,
          3493,
          3495,
          3503,
          3505,
          3507,
          3508,
          3515,
          3521,
          3525,
          3528,
          3529,
          3532,
          3534,
          3539,
          3545,
          3548,
          3551,
          3555,
          3557,
          3560,
          3562,
          3569,
          3574,
          3581,
          3582,
          3583,
          3587,
          3590,
          3593,
          3595
         ],
         "xaxis": "x",
         "y": [
          85,
          85,
          85,
          85,
          85,
          85,
          85,
          85,
          85,
          85,
          85,
          85,
          85,
          85,
          85,
          85,
          85,
          85,
          85,
          85,
          85,
          85,
          85,
          85,
          85,
          85,
          85,
          85,
          85,
          85,
          85,
          85,
          85,
          85,
          85,
          85,
          85,
          85,
          85,
          85,
          85,
          85,
          85,
          85,
          85,
          85,
          85,
          85,
          85,
          85,
          85,
          85,
          85,
          85,
          85,
          85,
          85,
          85,
          85,
          85,
          85,
          85,
          85,
          85,
          85,
          85,
          85,
          85,
          85,
          85,
          85,
          85,
          85,
          85,
          85,
          85,
          85,
          85,
          85,
          85,
          85,
          85,
          85,
          85,
          85,
          85,
          85,
          85,
          85,
          85,
          85,
          85,
          85,
          85,
          85,
          85,
          85,
          85,
          85,
          85,
          85,
          85,
          85,
          85,
          85,
          85,
          85,
          85,
          85,
          85,
          85,
          85,
          85,
          85,
          85,
          85,
          85,
          85,
          85,
          85,
          85,
          85,
          85,
          85,
          85,
          85,
          85,
          85,
          85,
          85,
          85,
          85,
          85,
          85,
          85,
          85,
          85,
          85,
          85,
          85,
          85,
          85,
          85,
          85,
          85,
          85,
          85,
          85,
          85,
          85,
          85,
          85,
          85,
          85,
          85,
          85,
          85,
          85,
          85,
          85,
          85,
          85,
          85,
          85,
          85,
          85,
          85,
          85,
          85,
          85,
          85,
          85,
          85,
          85,
          85,
          85,
          85,
          85,
          85,
          85,
          85,
          85,
          85,
          85,
          85,
          85,
          85,
          85,
          85,
          85,
          85
         ],
         "yaxis": "y"
        },
        {
         "hovertemplate": "Data Type=Actual<br>time=%{x}<br>Time=%{y}<extra></extra>",
         "legendgroup": "Actual",
         "line": {
          "color": "#EF553B",
          "dash": "solid"
         },
         "marker": {
          "symbol": "circle"
         },
         "mode": "lines+markers",
         "name": "Actual",
         "orientation": "v",
         "showlegend": true,
         "type": "scatter",
         "x": [
          2880,
          2882,
          2888,
          2900,
          2908,
          2910,
          2911,
          2913,
          2914,
          2919,
          2920,
          2923,
          2925,
          2926,
          2931,
          2935,
          2937,
          2948,
          2951,
          2954,
          2959,
          2968,
          2972,
          2981,
          2986,
          2987,
          2990,
          2994,
          2995,
          2997,
          2999,
          3001,
          3002,
          3004,
          3005,
          3007,
          3011,
          3012,
          3013,
          3014,
          3015,
          3016,
          3017,
          3018,
          3019,
          3032,
          3033,
          3046,
          3051,
          3053,
          3054,
          3055,
          3056,
          3057,
          3059,
          3060,
          3061,
          3066,
          3071,
          3075,
          3082,
          3083,
          3086,
          3089,
          3098,
          3102,
          3104,
          3108,
          3114,
          3116,
          3117,
          3132,
          3138,
          3139,
          3143,
          3144,
          3145,
          3148,
          3149,
          3154,
          3156,
          3158,
          3159,
          3180,
          3194,
          3197,
          3198,
          3202,
          3205,
          3208,
          3211,
          3224,
          3228,
          3231,
          3242,
          3243,
          3244,
          3245,
          3246,
          3248,
          3249,
          3250,
          3258,
          3259,
          3260,
          3261,
          3264,
          3267,
          3270,
          3273,
          3289,
          3290,
          3294,
          3296,
          3299,
          3300,
          3303,
          3306,
          3309,
          3313,
          3316,
          3321,
          3325,
          3328,
          3330,
          3338,
          3339,
          3341,
          3343,
          3344,
          3345,
          3346,
          3347,
          3352,
          3359,
          3361,
          3362,
          3364,
          3369,
          3379,
          3385,
          3388,
          3391,
          3392,
          3393,
          3394,
          3395,
          3396,
          3399,
          3402,
          3403,
          3416,
          3457,
          3463,
          3466,
          3474,
          3478,
          3481,
          3482,
          3486,
          3487,
          3493,
          3495,
          3503,
          3505,
          3507,
          3508,
          3515,
          3521,
          3525,
          3528,
          3529,
          3532,
          3534,
          3539,
          3545,
          3548,
          3551,
          3555,
          3557,
          3560,
          3562,
          3569,
          3574,
          3581,
          3582,
          3583,
          3587,
          3590,
          3593,
          3595
         ],
         "xaxis": "x",
         "y": [
          85,
          85,
          85,
          85,
          85,
          85,
          85,
          85,
          85,
          85,
          85,
          85,
          85,
          85,
          85,
          85,
          85,
          85,
          85,
          85,
          85,
          85,
          85,
          85,
          85,
          85,
          85,
          85,
          85,
          85,
          85,
          85,
          85,
          85,
          85,
          85,
          80,
          83,
          90,
          89,
          83,
          88,
          90,
          85,
          86,
          85,
          85,
          85,
          85,
          81,
          75,
          73,
          73,
          69,
          70,
          85,
          88,
          85,
          85,
          85,
          85,
          85,
          85,
          85,
          85,
          85,
          85,
          85,
          85,
          85,
          85,
          85,
          80,
          75,
          75,
          75,
          75,
          77,
          85,
          85,
          85,
          85,
          85,
          85,
          85,
          83,
          78,
          85,
          85,
          85,
          85,
          85,
          85,
          85,
          77,
          79,
          78,
          80,
          85,
          77,
          76,
          76,
          75,
          81,
          85,
          85,
          85,
          85,
          85,
          85,
          85,
          90,
          89,
          85,
          85,
          85,
          85,
          85,
          85,
          85,
          85,
          85,
          85,
          85,
          85,
          74,
          69,
          69,
          69,
          68,
          75,
          79,
          85,
          85,
          85,
          85,
          85,
          85,
          85,
          85,
          85,
          80,
          78,
          79,
          79,
          77,
          82,
          82,
          90,
          88,
          85,
          85,
          85,
          85,
          85,
          85,
          85,
          82,
          73,
          82,
          85,
          85,
          85,
          85,
          85,
          85,
          85,
          85,
          85,
          85,
          85,
          85,
          85,
          81,
          85,
          85,
          85,
          85,
          85,
          85,
          85,
          85,
          85,
          85,
          85,
          85,
          85,
          85,
          85,
          85,
          85
         ],
         "yaxis": "y"
        }
       ],
       "layout": {
        "legend": {
         "title": {
          "text": "Data Type"
         },
         "tracegroupgap": 0
        },
        "template": {
         "data": {
          "bar": [
           {
            "error_x": {
             "color": "#2a3f5f"
            },
            "error_y": {
             "color": "#2a3f5f"
            },
            "marker": {
             "line": {
              "color": "#E5ECF6",
              "width": 0.5
             },
             "pattern": {
              "fillmode": "overlay",
              "size": 10,
              "solidity": 0.2
             }
            },
            "type": "bar"
           }
          ],
          "barpolar": [
           {
            "marker": {
             "line": {
              "color": "#E5ECF6",
              "width": 0.5
             },
             "pattern": {
              "fillmode": "overlay",
              "size": 10,
              "solidity": 0.2
             }
            },
            "type": "barpolar"
           }
          ],
          "carpet": [
           {
            "aaxis": {
             "endlinecolor": "#2a3f5f",
             "gridcolor": "white",
             "linecolor": "white",
             "minorgridcolor": "white",
             "startlinecolor": "#2a3f5f"
            },
            "baxis": {
             "endlinecolor": "#2a3f5f",
             "gridcolor": "white",
             "linecolor": "white",
             "minorgridcolor": "white",
             "startlinecolor": "#2a3f5f"
            },
            "type": "carpet"
           }
          ],
          "choropleth": [
           {
            "colorbar": {
             "outlinewidth": 0,
             "ticks": ""
            },
            "type": "choropleth"
           }
          ],
          "contour": [
           {
            "colorbar": {
             "outlinewidth": 0,
             "ticks": ""
            },
            "colorscale": [
             [
              0,
              "#0d0887"
             ],
             [
              0.1111111111111111,
              "#46039f"
             ],
             [
              0.2222222222222222,
              "#7201a8"
             ],
             [
              0.3333333333333333,
              "#9c179e"
             ],
             [
              0.4444444444444444,
              "#bd3786"
             ],
             [
              0.5555555555555556,
              "#d8576b"
             ],
             [
              0.6666666666666666,
              "#ed7953"
             ],
             [
              0.7777777777777778,
              "#fb9f3a"
             ],
             [
              0.8888888888888888,
              "#fdca26"
             ],
             [
              1,
              "#f0f921"
             ]
            ],
            "type": "contour"
           }
          ],
          "contourcarpet": [
           {
            "colorbar": {
             "outlinewidth": 0,
             "ticks": ""
            },
            "type": "contourcarpet"
           }
          ],
          "heatmap": [
           {
            "colorbar": {
             "outlinewidth": 0,
             "ticks": ""
            },
            "colorscale": [
             [
              0,
              "#0d0887"
             ],
             [
              0.1111111111111111,
              "#46039f"
             ],
             [
              0.2222222222222222,
              "#7201a8"
             ],
             [
              0.3333333333333333,
              "#9c179e"
             ],
             [
              0.4444444444444444,
              "#bd3786"
             ],
             [
              0.5555555555555556,
              "#d8576b"
             ],
             [
              0.6666666666666666,
              "#ed7953"
             ],
             [
              0.7777777777777778,
              "#fb9f3a"
             ],
             [
              0.8888888888888888,
              "#fdca26"
             ],
             [
              1,
              "#f0f921"
             ]
            ],
            "type": "heatmap"
           }
          ],
          "heatmapgl": [
           {
            "colorbar": {
             "outlinewidth": 0,
             "ticks": ""
            },
            "colorscale": [
             [
              0,
              "#0d0887"
             ],
             [
              0.1111111111111111,
              "#46039f"
             ],
             [
              0.2222222222222222,
              "#7201a8"
             ],
             [
              0.3333333333333333,
              "#9c179e"
             ],
             [
              0.4444444444444444,
              "#bd3786"
             ],
             [
              0.5555555555555556,
              "#d8576b"
             ],
             [
              0.6666666666666666,
              "#ed7953"
             ],
             [
              0.7777777777777778,
              "#fb9f3a"
             ],
             [
              0.8888888888888888,
              "#fdca26"
             ],
             [
              1,
              "#f0f921"
             ]
            ],
            "type": "heatmapgl"
           }
          ],
          "histogram": [
           {
            "marker": {
             "pattern": {
              "fillmode": "overlay",
              "size": 10,
              "solidity": 0.2
             }
            },
            "type": "histogram"
           }
          ],
          "histogram2d": [
           {
            "colorbar": {
             "outlinewidth": 0,
             "ticks": ""
            },
            "colorscale": [
             [
              0,
              "#0d0887"
             ],
             [
              0.1111111111111111,
              "#46039f"
             ],
             [
              0.2222222222222222,
              "#7201a8"
             ],
             [
              0.3333333333333333,
              "#9c179e"
             ],
             [
              0.4444444444444444,
              "#bd3786"
             ],
             [
              0.5555555555555556,
              "#d8576b"
             ],
             [
              0.6666666666666666,
              "#ed7953"
             ],
             [
              0.7777777777777778,
              "#fb9f3a"
             ],
             [
              0.8888888888888888,
              "#fdca26"
             ],
             [
              1,
              "#f0f921"
             ]
            ],
            "type": "histogram2d"
           }
          ],
          "histogram2dcontour": [
           {
            "colorbar": {
             "outlinewidth": 0,
             "ticks": ""
            },
            "colorscale": [
             [
              0,
              "#0d0887"
             ],
             [
              0.1111111111111111,
              "#46039f"
             ],
             [
              0.2222222222222222,
              "#7201a8"
             ],
             [
              0.3333333333333333,
              "#9c179e"
             ],
             [
              0.4444444444444444,
              "#bd3786"
             ],
             [
              0.5555555555555556,
              "#d8576b"
             ],
             [
              0.6666666666666666,
              "#ed7953"
             ],
             [
              0.7777777777777778,
              "#fb9f3a"
             ],
             [
              0.8888888888888888,
              "#fdca26"
             ],
             [
              1,
              "#f0f921"
             ]
            ],
            "type": "histogram2dcontour"
           }
          ],
          "mesh3d": [
           {
            "colorbar": {
             "outlinewidth": 0,
             "ticks": ""
            },
            "type": "mesh3d"
           }
          ],
          "parcoords": [
           {
            "line": {
             "colorbar": {
              "outlinewidth": 0,
              "ticks": ""
             }
            },
            "type": "parcoords"
           }
          ],
          "pie": [
           {
            "automargin": true,
            "type": "pie"
           }
          ],
          "scatter": [
           {
            "fillpattern": {
             "fillmode": "overlay",
             "size": 10,
             "solidity": 0.2
            },
            "type": "scatter"
           }
          ],
          "scatter3d": [
           {
            "line": {
             "colorbar": {
              "outlinewidth": 0,
              "ticks": ""
             }
            },
            "marker": {
             "colorbar": {
              "outlinewidth": 0,
              "ticks": ""
             }
            },
            "type": "scatter3d"
           }
          ],
          "scattercarpet": [
           {
            "marker": {
             "colorbar": {
              "outlinewidth": 0,
              "ticks": ""
             }
            },
            "type": "scattercarpet"
           }
          ],
          "scattergeo": [
           {
            "marker": {
             "colorbar": {
              "outlinewidth": 0,
              "ticks": ""
             }
            },
            "type": "scattergeo"
           }
          ],
          "scattergl": [
           {
            "marker": {
             "colorbar": {
              "outlinewidth": 0,
              "ticks": ""
             }
            },
            "type": "scattergl"
           }
          ],
          "scattermapbox": [
           {
            "marker": {
             "colorbar": {
              "outlinewidth": 0,
              "ticks": ""
             }
            },
            "type": "scattermapbox"
           }
          ],
          "scatterpolar": [
           {
            "marker": {
             "colorbar": {
              "outlinewidth": 0,
              "ticks": ""
             }
            },
            "type": "scatterpolar"
           }
          ],
          "scatterpolargl": [
           {
            "marker": {
             "colorbar": {
              "outlinewidth": 0,
              "ticks": ""
             }
            },
            "type": "scatterpolargl"
           }
          ],
          "scatterternary": [
           {
            "marker": {
             "colorbar": {
              "outlinewidth": 0,
              "ticks": ""
             }
            },
            "type": "scatterternary"
           }
          ],
          "surface": [
           {
            "colorbar": {
             "outlinewidth": 0,
             "ticks": ""
            },
            "colorscale": [
             [
              0,
              "#0d0887"
             ],
             [
              0.1111111111111111,
              "#46039f"
             ],
             [
              0.2222222222222222,
              "#7201a8"
             ],
             [
              0.3333333333333333,
              "#9c179e"
             ],
             [
              0.4444444444444444,
              "#bd3786"
             ],
             [
              0.5555555555555556,
              "#d8576b"
             ],
             [
              0.6666666666666666,
              "#ed7953"
             ],
             [
              0.7777777777777778,
              "#fb9f3a"
             ],
             [
              0.8888888888888888,
              "#fdca26"
             ],
             [
              1,
              "#f0f921"
             ]
            ],
            "type": "surface"
           }
          ],
          "table": [
           {
            "cells": {
             "fill": {
              "color": "#EBF0F8"
             },
             "line": {
              "color": "white"
             }
            },
            "header": {
             "fill": {
              "color": "#C8D4E3"
             },
             "line": {
              "color": "white"
             }
            },
            "type": "table"
           }
          ]
         },
         "layout": {
          "annotationdefaults": {
           "arrowcolor": "#2a3f5f",
           "arrowhead": 0,
           "arrowwidth": 1
          },
          "autotypenumbers": "strict",
          "coloraxis": {
           "colorbar": {
            "outlinewidth": 0,
            "ticks": ""
           }
          },
          "colorscale": {
           "diverging": [
            [
             0,
             "#8e0152"
            ],
            [
             0.1,
             "#c51b7d"
            ],
            [
             0.2,
             "#de77ae"
            ],
            [
             0.3,
             "#f1b6da"
            ],
            [
             0.4,
             "#fde0ef"
            ],
            [
             0.5,
             "#f7f7f7"
            ],
            [
             0.6,
             "#e6f5d0"
            ],
            [
             0.7,
             "#b8e186"
            ],
            [
             0.8,
             "#7fbc41"
            ],
            [
             0.9,
             "#4d9221"
            ],
            [
             1,
             "#276419"
            ]
           ],
           "sequential": [
            [
             0,
             "#0d0887"
            ],
            [
             0.1111111111111111,
             "#46039f"
            ],
            [
             0.2222222222222222,
             "#7201a8"
            ],
            [
             0.3333333333333333,
             "#9c179e"
            ],
            [
             0.4444444444444444,
             "#bd3786"
            ],
            [
             0.5555555555555556,
             "#d8576b"
            ],
            [
             0.6666666666666666,
             "#ed7953"
            ],
            [
             0.7777777777777778,
             "#fb9f3a"
            ],
            [
             0.8888888888888888,
             "#fdca26"
            ],
            [
             1,
             "#f0f921"
            ]
           ],
           "sequentialminus": [
            [
             0,
             "#0d0887"
            ],
            [
             0.1111111111111111,
             "#46039f"
            ],
            [
             0.2222222222222222,
             "#7201a8"
            ],
            [
             0.3333333333333333,
             "#9c179e"
            ],
            [
             0.4444444444444444,
             "#bd3786"
            ],
            [
             0.5555555555555556,
             "#d8576b"
            ],
            [
             0.6666666666666666,
             "#ed7953"
            ],
            [
             0.7777777777777778,
             "#fb9f3a"
            ],
            [
             0.8888888888888888,
             "#fdca26"
            ],
            [
             1,
             "#f0f921"
            ]
           ]
          },
          "colorway": [
           "#636efa",
           "#EF553B",
           "#00cc96",
           "#ab63fa",
           "#FFA15A",
           "#19d3f3",
           "#FF6692",
           "#B6E880",
           "#FF97FF",
           "#FECB52"
          ],
          "font": {
           "color": "#2a3f5f"
          },
          "geo": {
           "bgcolor": "white",
           "lakecolor": "white",
           "landcolor": "#E5ECF6",
           "showlakes": true,
           "showland": true,
           "subunitcolor": "white"
          },
          "hoverlabel": {
           "align": "left"
          },
          "hovermode": "closest",
          "mapbox": {
           "style": "light"
          },
          "paper_bgcolor": "white",
          "plot_bgcolor": "#E5ECF6",
          "polar": {
           "angularaxis": {
            "gridcolor": "white",
            "linecolor": "white",
            "ticks": ""
           },
           "bgcolor": "#E5ECF6",
           "radialaxis": {
            "gridcolor": "white",
            "linecolor": "white",
            "ticks": ""
           }
          },
          "scene": {
           "xaxis": {
            "backgroundcolor": "#E5ECF6",
            "gridcolor": "white",
            "gridwidth": 2,
            "linecolor": "white",
            "showbackground": true,
            "ticks": "",
            "zerolinecolor": "white"
           },
           "yaxis": {
            "backgroundcolor": "#E5ECF6",
            "gridcolor": "white",
            "gridwidth": 2,
            "linecolor": "white",
            "showbackground": true,
            "ticks": "",
            "zerolinecolor": "white"
           },
           "zaxis": {
            "backgroundcolor": "#E5ECF6",
            "gridcolor": "white",
            "gridwidth": 2,
            "linecolor": "white",
            "showbackground": true,
            "ticks": "",
            "zerolinecolor": "white"
           }
          },
          "shapedefaults": {
           "line": {
            "color": "#2a3f5f"
           }
          },
          "ternary": {
           "aaxis": {
            "gridcolor": "white",
            "linecolor": "white",
            "ticks": ""
           },
           "baxis": {
            "gridcolor": "white",
            "linecolor": "white",
            "ticks": ""
           },
           "bgcolor": "#E5ECF6",
           "caxis": {
            "gridcolor": "white",
            "linecolor": "white",
            "ticks": ""
           }
          },
          "title": {
           "x": 0.05
          },
          "xaxis": {
           "automargin": true,
           "gridcolor": "white",
           "linecolor": "white",
           "ticks": "",
           "title": {
            "standoff": 15
           },
           "zerolinecolor": "white",
           "zerolinewidth": 2
          },
          "yaxis": {
           "automargin": true,
           "gridcolor": "white",
           "linecolor": "white",
           "ticks": "",
           "title": {
            "standoff": 15
           },
           "zerolinecolor": "white",
           "zerolinewidth": 2
          }
         }
        },
        "title": {
         "text": "User X Position Over Time"
        },
        "xaxis": {
         "anchor": "y",
         "domain": [
          0,
          1
         ],
         "title": {
          "text": "time"
         }
        },
        "yaxis": {
         "anchor": "x",
         "domain": [
          0,
          1
         ],
         "range": [
          0,
          200
         ],
         "title": {
          "text": "Time"
         }
        }
       }
      },
      "text/html": [
       "<div>                            <div id=\"dec120d4-88a7-4c61-bb9e-b3326bba100d\" class=\"plotly-graph-div\" style=\"height:525px; width:100%;\"></div>            <script type=\"text/javascript\">                require([\"plotly\"], function(Plotly) {                    window.PLOTLYENV=window.PLOTLYENV || {};                                    if (document.getElementById(\"dec120d4-88a7-4c61-bb9e-b3326bba100d\")) {                    Plotly.newPlot(                        \"dec120d4-88a7-4c61-bb9e-b3326bba100d\",                        [{\"hovertemplate\":\"Data Type=Prediction\\u003cbr\\u003etime=%{x}\\u003cbr\\u003eTime=%{y}\\u003cextra\\u003e\\u003c\\u002fextra\\u003e\",\"legendgroup\":\"Prediction\",\"line\":{\"color\":\"#636efa\",\"dash\":\"solid\"},\"marker\":{\"symbol\":\"circle\"},\"mode\":\"lines+markers\",\"name\":\"Prediction\",\"orientation\":\"v\",\"showlegend\":true,\"x\":[2880,2882,2888,2900,2908,2910,2911,2913,2914,2919,2920,2923,2925,2926,2931,2935,2937,2948,2951,2954,2959,2968,2972,2981,2986,2987,2990,2994,2995,2997,2999,3001,3002,3004,3005,3007,3011,3012,3013,3014,3015,3016,3017,3018,3019,3032,3033,3046,3051,3053,3054,3055,3056,3057,3059,3060,3061,3066,3071,3075,3082,3083,3086,3089,3098,3102,3104,3108,3114,3116,3117,3132,3138,3139,3143,3144,3145,3148,3149,3154,3156,3158,3159,3180,3194,3197,3198,3202,3205,3208,3211,3224,3228,3231,3242,3243,3244,3245,3246,3248,3249,3250,3258,3259,3260,3261,3264,3267,3270,3273,3289,3290,3294,3296,3299,3300,3303,3306,3309,3313,3316,3321,3325,3328,3330,3338,3339,3341,3343,3344,3345,3346,3347,3352,3359,3361,3362,3364,3369,3379,3385,3388,3391,3392,3393,3394,3395,3396,3399,3402,3403,3416,3457,3463,3466,3474,3478,3481,3482,3486,3487,3493,3495,3503,3505,3507,3508,3515,3521,3525,3528,3529,3532,3534,3539,3545,3548,3551,3555,3557,3560,3562,3569,3574,3581,3582,3583,3587,3590,3593,3595],\"xaxis\":\"x\",\"y\":[85,85,85,85,85,85,85,85,85,85,85,85,85,85,85,85,85,85,85,85,85,85,85,85,85,85,85,85,85,85,85,85,85,85,85,85,85,85,85,85,85,85,85,85,85,85,85,85,85,85,85,85,85,85,85,85,85,85,85,85,85,85,85,85,85,85,85,85,85,85,85,85,85,85,85,85,85,85,85,85,85,85,85,85,85,85,85,85,85,85,85,85,85,85,85,85,85,85,85,85,85,85,85,85,85,85,85,85,85,85,85,85,85,85,85,85,85,85,85,85,85,85,85,85,85,85,85,85,85,85,85,85,85,85,85,85,85,85,85,85,85,85,85,85,85,85,85,85,85,85,85,85,85,85,85,85,85,85,85,85,85,85,85,85,85,85,85,85,85,85,85,85,85,85,85,85,85,85,85,85,85,85,85,85,85,85,85,85,85,85,85],\"yaxis\":\"y\",\"type\":\"scatter\"},{\"hovertemplate\":\"Data Type=Actual\\u003cbr\\u003etime=%{x}\\u003cbr\\u003eTime=%{y}\\u003cextra\\u003e\\u003c\\u002fextra\\u003e\",\"legendgroup\":\"Actual\",\"line\":{\"color\":\"#EF553B\",\"dash\":\"solid\"},\"marker\":{\"symbol\":\"circle\"},\"mode\":\"lines+markers\",\"name\":\"Actual\",\"orientation\":\"v\",\"showlegend\":true,\"x\":[2880,2882,2888,2900,2908,2910,2911,2913,2914,2919,2920,2923,2925,2926,2931,2935,2937,2948,2951,2954,2959,2968,2972,2981,2986,2987,2990,2994,2995,2997,2999,3001,3002,3004,3005,3007,3011,3012,3013,3014,3015,3016,3017,3018,3019,3032,3033,3046,3051,3053,3054,3055,3056,3057,3059,3060,3061,3066,3071,3075,3082,3083,3086,3089,3098,3102,3104,3108,3114,3116,3117,3132,3138,3139,3143,3144,3145,3148,3149,3154,3156,3158,3159,3180,3194,3197,3198,3202,3205,3208,3211,3224,3228,3231,3242,3243,3244,3245,3246,3248,3249,3250,3258,3259,3260,3261,3264,3267,3270,3273,3289,3290,3294,3296,3299,3300,3303,3306,3309,3313,3316,3321,3325,3328,3330,3338,3339,3341,3343,3344,3345,3346,3347,3352,3359,3361,3362,3364,3369,3379,3385,3388,3391,3392,3393,3394,3395,3396,3399,3402,3403,3416,3457,3463,3466,3474,3478,3481,3482,3486,3487,3493,3495,3503,3505,3507,3508,3515,3521,3525,3528,3529,3532,3534,3539,3545,3548,3551,3555,3557,3560,3562,3569,3574,3581,3582,3583,3587,3590,3593,3595],\"xaxis\":\"x\",\"y\":[85,85,85,85,85,85,85,85,85,85,85,85,85,85,85,85,85,85,85,85,85,85,85,85,85,85,85,85,85,85,85,85,85,85,85,85,80,83,90,89,83,88,90,85,86,85,85,85,85,81,75,73,73,69,70,85,88,85,85,85,85,85,85,85,85,85,85,85,85,85,85,85,80,75,75,75,75,77,85,85,85,85,85,85,85,83,78,85,85,85,85,85,85,85,77,79,78,80,85,77,76,76,75,81,85,85,85,85,85,85,85,90,89,85,85,85,85,85,85,85,85,85,85,85,85,74,69,69,69,68,75,79,85,85,85,85,85,85,85,85,85,80,78,79,79,77,82,82,90,88,85,85,85,85,85,85,85,82,73,82,85,85,85,85,85,85,85,85,85,85,85,85,85,81,85,85,85,85,85,85,85,85,85,85,85,85,85,85,85,85,85],\"yaxis\":\"y\",\"type\":\"scatter\"}],                        {\"template\":{\"data\":{\"histogram2dcontour\":[{\"type\":\"histogram2dcontour\",\"colorbar\":{\"outlinewidth\":0,\"ticks\":\"\"},\"colorscale\":[[0.0,\"#0d0887\"],[0.1111111111111111,\"#46039f\"],[0.2222222222222222,\"#7201a8\"],[0.3333333333333333,\"#9c179e\"],[0.4444444444444444,\"#bd3786\"],[0.5555555555555556,\"#d8576b\"],[0.6666666666666666,\"#ed7953\"],[0.7777777777777778,\"#fb9f3a\"],[0.8888888888888888,\"#fdca26\"],[1.0,\"#f0f921\"]]}],\"choropleth\":[{\"type\":\"choropleth\",\"colorbar\":{\"outlinewidth\":0,\"ticks\":\"\"}}],\"histogram2d\":[{\"type\":\"histogram2d\",\"colorbar\":{\"outlinewidth\":0,\"ticks\":\"\"},\"colorscale\":[[0.0,\"#0d0887\"],[0.1111111111111111,\"#46039f\"],[0.2222222222222222,\"#7201a8\"],[0.3333333333333333,\"#9c179e\"],[0.4444444444444444,\"#bd3786\"],[0.5555555555555556,\"#d8576b\"],[0.6666666666666666,\"#ed7953\"],[0.7777777777777778,\"#fb9f3a\"],[0.8888888888888888,\"#fdca26\"],[1.0,\"#f0f921\"]]}],\"heatmap\":[{\"type\":\"heatmap\",\"colorbar\":{\"outlinewidth\":0,\"ticks\":\"\"},\"colorscale\":[[0.0,\"#0d0887\"],[0.1111111111111111,\"#46039f\"],[0.2222222222222222,\"#7201a8\"],[0.3333333333333333,\"#9c179e\"],[0.4444444444444444,\"#bd3786\"],[0.5555555555555556,\"#d8576b\"],[0.6666666666666666,\"#ed7953\"],[0.7777777777777778,\"#fb9f3a\"],[0.8888888888888888,\"#fdca26\"],[1.0,\"#f0f921\"]]}],\"heatmapgl\":[{\"type\":\"heatmapgl\",\"colorbar\":{\"outlinewidth\":0,\"ticks\":\"\"},\"colorscale\":[[0.0,\"#0d0887\"],[0.1111111111111111,\"#46039f\"],[0.2222222222222222,\"#7201a8\"],[0.3333333333333333,\"#9c179e\"],[0.4444444444444444,\"#bd3786\"],[0.5555555555555556,\"#d8576b\"],[0.6666666666666666,\"#ed7953\"],[0.7777777777777778,\"#fb9f3a\"],[0.8888888888888888,\"#fdca26\"],[1.0,\"#f0f921\"]]}],\"contourcarpet\":[{\"type\":\"contourcarpet\",\"colorbar\":{\"outlinewidth\":0,\"ticks\":\"\"}}],\"contour\":[{\"type\":\"contour\",\"colorbar\":{\"outlinewidth\":0,\"ticks\":\"\"},\"colorscale\":[[0.0,\"#0d0887\"],[0.1111111111111111,\"#46039f\"],[0.2222222222222222,\"#7201a8\"],[0.3333333333333333,\"#9c179e\"],[0.4444444444444444,\"#bd3786\"],[0.5555555555555556,\"#d8576b\"],[0.6666666666666666,\"#ed7953\"],[0.7777777777777778,\"#fb9f3a\"],[0.8888888888888888,\"#fdca26\"],[1.0,\"#f0f921\"]]}],\"surface\":[{\"type\":\"surface\",\"colorbar\":{\"outlinewidth\":0,\"ticks\":\"\"},\"colorscale\":[[0.0,\"#0d0887\"],[0.1111111111111111,\"#46039f\"],[0.2222222222222222,\"#7201a8\"],[0.3333333333333333,\"#9c179e\"],[0.4444444444444444,\"#bd3786\"],[0.5555555555555556,\"#d8576b\"],[0.6666666666666666,\"#ed7953\"],[0.7777777777777778,\"#fb9f3a\"],[0.8888888888888888,\"#fdca26\"],[1.0,\"#f0f921\"]]}],\"mesh3d\":[{\"type\":\"mesh3d\",\"colorbar\":{\"outlinewidth\":0,\"ticks\":\"\"}}],\"scatter\":[{\"fillpattern\":{\"fillmode\":\"overlay\",\"size\":10,\"solidity\":0.2},\"type\":\"scatter\"}],\"parcoords\":[{\"type\":\"parcoords\",\"line\":{\"colorbar\":{\"outlinewidth\":0,\"ticks\":\"\"}}}],\"scatterpolargl\":[{\"type\":\"scatterpolargl\",\"marker\":{\"colorbar\":{\"outlinewidth\":0,\"ticks\":\"\"}}}],\"bar\":[{\"error_x\":{\"color\":\"#2a3f5f\"},\"error_y\":{\"color\":\"#2a3f5f\"},\"marker\":{\"line\":{\"color\":\"#E5ECF6\",\"width\":0.5},\"pattern\":{\"fillmode\":\"overlay\",\"size\":10,\"solidity\":0.2}},\"type\":\"bar\"}],\"scattergeo\":[{\"type\":\"scattergeo\",\"marker\":{\"colorbar\":{\"outlinewidth\":0,\"ticks\":\"\"}}}],\"scatterpolar\":[{\"type\":\"scatterpolar\",\"marker\":{\"colorbar\":{\"outlinewidth\":0,\"ticks\":\"\"}}}],\"histogram\":[{\"marker\":{\"pattern\":{\"fillmode\":\"overlay\",\"size\":10,\"solidity\":0.2}},\"type\":\"histogram\"}],\"scattergl\":[{\"type\":\"scattergl\",\"marker\":{\"colorbar\":{\"outlinewidth\":0,\"ticks\":\"\"}}}],\"scatter3d\":[{\"type\":\"scatter3d\",\"line\":{\"colorbar\":{\"outlinewidth\":0,\"ticks\":\"\"}},\"marker\":{\"colorbar\":{\"outlinewidth\":0,\"ticks\":\"\"}}}],\"scattermapbox\":[{\"type\":\"scattermapbox\",\"marker\":{\"colorbar\":{\"outlinewidth\":0,\"ticks\":\"\"}}}],\"scatterternary\":[{\"type\":\"scatterternary\",\"marker\":{\"colorbar\":{\"outlinewidth\":0,\"ticks\":\"\"}}}],\"scattercarpet\":[{\"type\":\"scattercarpet\",\"marker\":{\"colorbar\":{\"outlinewidth\":0,\"ticks\":\"\"}}}],\"carpet\":[{\"aaxis\":{\"endlinecolor\":\"#2a3f5f\",\"gridcolor\":\"white\",\"linecolor\":\"white\",\"minorgridcolor\":\"white\",\"startlinecolor\":\"#2a3f5f\"},\"baxis\":{\"endlinecolor\":\"#2a3f5f\",\"gridcolor\":\"white\",\"linecolor\":\"white\",\"minorgridcolor\":\"white\",\"startlinecolor\":\"#2a3f5f\"},\"type\":\"carpet\"}],\"table\":[{\"cells\":{\"fill\":{\"color\":\"#EBF0F8\"},\"line\":{\"color\":\"white\"}},\"header\":{\"fill\":{\"color\":\"#C8D4E3\"},\"line\":{\"color\":\"white\"}},\"type\":\"table\"}],\"barpolar\":[{\"marker\":{\"line\":{\"color\":\"#E5ECF6\",\"width\":0.5},\"pattern\":{\"fillmode\":\"overlay\",\"size\":10,\"solidity\":0.2}},\"type\":\"barpolar\"}],\"pie\":[{\"automargin\":true,\"type\":\"pie\"}]},\"layout\":{\"autotypenumbers\":\"strict\",\"colorway\":[\"#636efa\",\"#EF553B\",\"#00cc96\",\"#ab63fa\",\"#FFA15A\",\"#19d3f3\",\"#FF6692\",\"#B6E880\",\"#FF97FF\",\"#FECB52\"],\"font\":{\"color\":\"#2a3f5f\"},\"hovermode\":\"closest\",\"hoverlabel\":{\"align\":\"left\"},\"paper_bgcolor\":\"white\",\"plot_bgcolor\":\"#E5ECF6\",\"polar\":{\"bgcolor\":\"#E5ECF6\",\"angularaxis\":{\"gridcolor\":\"white\",\"linecolor\":\"white\",\"ticks\":\"\"},\"radialaxis\":{\"gridcolor\":\"white\",\"linecolor\":\"white\",\"ticks\":\"\"}},\"ternary\":{\"bgcolor\":\"#E5ECF6\",\"aaxis\":{\"gridcolor\":\"white\",\"linecolor\":\"white\",\"ticks\":\"\"},\"baxis\":{\"gridcolor\":\"white\",\"linecolor\":\"white\",\"ticks\":\"\"},\"caxis\":{\"gridcolor\":\"white\",\"linecolor\":\"white\",\"ticks\":\"\"}},\"coloraxis\":{\"colorbar\":{\"outlinewidth\":0,\"ticks\":\"\"}},\"colorscale\":{\"sequential\":[[0.0,\"#0d0887\"],[0.1111111111111111,\"#46039f\"],[0.2222222222222222,\"#7201a8\"],[0.3333333333333333,\"#9c179e\"],[0.4444444444444444,\"#bd3786\"],[0.5555555555555556,\"#d8576b\"],[0.6666666666666666,\"#ed7953\"],[0.7777777777777778,\"#fb9f3a\"],[0.8888888888888888,\"#fdca26\"],[1.0,\"#f0f921\"]],\"sequentialminus\":[[0.0,\"#0d0887\"],[0.1111111111111111,\"#46039f\"],[0.2222222222222222,\"#7201a8\"],[0.3333333333333333,\"#9c179e\"],[0.4444444444444444,\"#bd3786\"],[0.5555555555555556,\"#d8576b\"],[0.6666666666666666,\"#ed7953\"],[0.7777777777777778,\"#fb9f3a\"],[0.8888888888888888,\"#fdca26\"],[1.0,\"#f0f921\"]],\"diverging\":[[0,\"#8e0152\"],[0.1,\"#c51b7d\"],[0.2,\"#de77ae\"],[0.3,\"#f1b6da\"],[0.4,\"#fde0ef\"],[0.5,\"#f7f7f7\"],[0.6,\"#e6f5d0\"],[0.7,\"#b8e186\"],[0.8,\"#7fbc41\"],[0.9,\"#4d9221\"],[1,\"#276419\"]]},\"xaxis\":{\"gridcolor\":\"white\",\"linecolor\":\"white\",\"ticks\":\"\",\"title\":{\"standoff\":15},\"zerolinecolor\":\"white\",\"automargin\":true,\"zerolinewidth\":2},\"yaxis\":{\"gridcolor\":\"white\",\"linecolor\":\"white\",\"ticks\":\"\",\"title\":{\"standoff\":15},\"zerolinecolor\":\"white\",\"automargin\":true,\"zerolinewidth\":2},\"scene\":{\"xaxis\":{\"backgroundcolor\":\"#E5ECF6\",\"gridcolor\":\"white\",\"linecolor\":\"white\",\"showbackground\":true,\"ticks\":\"\",\"zerolinecolor\":\"white\",\"gridwidth\":2},\"yaxis\":{\"backgroundcolor\":\"#E5ECF6\",\"gridcolor\":\"white\",\"linecolor\":\"white\",\"showbackground\":true,\"ticks\":\"\",\"zerolinecolor\":\"white\",\"gridwidth\":2},\"zaxis\":{\"backgroundcolor\":\"#E5ECF6\",\"gridcolor\":\"white\",\"linecolor\":\"white\",\"showbackground\":true,\"ticks\":\"\",\"zerolinecolor\":\"white\",\"gridwidth\":2}},\"shapedefaults\":{\"line\":{\"color\":\"#2a3f5f\"}},\"annotationdefaults\":{\"arrowcolor\":\"#2a3f5f\",\"arrowhead\":0,\"arrowwidth\":1},\"geo\":{\"bgcolor\":\"white\",\"landcolor\":\"#E5ECF6\",\"subunitcolor\":\"white\",\"showland\":true,\"showlakes\":true,\"lakecolor\":\"white\"},\"title\":{\"x\":0.05},\"mapbox\":{\"style\":\"light\"}}},\"xaxis\":{\"anchor\":\"y\",\"domain\":[0.0,1.0],\"title\":{\"text\":\"time\"}},\"yaxis\":{\"anchor\":\"x\",\"domain\":[0.0,1.0],\"title\":{\"text\":\"Time\"},\"range\":[0,200]},\"legend\":{\"title\":{\"text\":\"Data Type\"},\"tracegroupgap\":0},\"title\":{\"text\":\"User X Position Over Time\"}},                        {\"responsive\": true}                    ).then(function(){\n",
       "                            \n",
       "var gd = document.getElementById('dec120d4-88a7-4c61-bb9e-b3326bba100d');\n",
       "var x = new MutationObserver(function (mutations, observer) {{\n",
       "        var display = window.getComputedStyle(gd).display;\n",
       "        if (!display || display === 'none') {{\n",
       "            console.log([gd, 'removed!']);\n",
       "            Plotly.purge(gd);\n",
       "            observer.disconnect();\n",
       "        }}\n",
       "}});\n",
       "\n",
       "// Listen for the removal of the full notebook cells\n",
       "var notebookContainer = gd.closest('#notebook-container');\n",
       "if (notebookContainer) {{\n",
       "    x.observe(notebookContainer, {childList: true});\n",
       "}}\n",
       "\n",
       "// Listen for the clearing of the current output cell\n",
       "var outputEl = gd.closest('.output');\n",
       "if (outputEl) {{\n",
       "    x.observe(outputEl, {childList: true});\n",
       "}}\n",
       "\n",
       "                        })                };                });            </script>        </div>"
      ]
     },
     "metadata": {},
     "output_type": "display_data"
    },
    {
     "data": {
      "application/vnd.plotly.v1+json": {
       "config": {
        "plotlyServerURL": "https://plot.ly"
       },
       "data": [
        {
         "hovertemplate": "Data Type=Prediction<br>time=%{x}<br>Y Position=%{y}<extra></extra>",
         "legendgroup": "Prediction",
         "line": {
          "color": "#636efa",
          "dash": "solid"
         },
         "marker": {
          "symbol": "circle"
         },
         "mode": "lines+markers",
         "name": "Prediction",
         "orientation": "v",
         "showlegend": true,
         "type": "scatter",
         "x": [
          2880,
          2882,
          2888,
          2900,
          2908,
          2910,
          2911,
          2913,
          2914,
          2919,
          2920,
          2923,
          2925,
          2926,
          2931,
          2935,
          2937,
          2948,
          2951,
          2954,
          2959,
          2968,
          2972,
          2981,
          2986,
          2987,
          2990,
          2994,
          2995,
          2997,
          2999,
          3001,
          3002,
          3004,
          3005,
          3007,
          3011,
          3012,
          3013,
          3014,
          3015,
          3016,
          3017,
          3018,
          3019,
          3032,
          3033,
          3046,
          3051,
          3053,
          3054,
          3055,
          3056,
          3057,
          3059,
          3060,
          3061,
          3066,
          3071,
          3075,
          3082,
          3083,
          3086,
          3089,
          3098,
          3102,
          3104,
          3108,
          3114,
          3116,
          3117,
          3132,
          3138,
          3139,
          3143,
          3144,
          3145,
          3148,
          3149,
          3154,
          3156,
          3158,
          3159,
          3180,
          3194,
          3197,
          3198,
          3202,
          3205,
          3208,
          3211,
          3224,
          3228,
          3231,
          3242,
          3243,
          3244,
          3245,
          3246,
          3248,
          3249,
          3250,
          3258,
          3259,
          3260,
          3261,
          3264,
          3267,
          3270,
          3273,
          3289,
          3290,
          3294,
          3296,
          3299,
          3300,
          3303,
          3306,
          3309,
          3313,
          3316,
          3321,
          3325,
          3328,
          3330,
          3338,
          3339,
          3341,
          3343,
          3344,
          3345,
          3346,
          3347,
          3352,
          3359,
          3361,
          3362,
          3364,
          3369,
          3379,
          3385,
          3388,
          3391,
          3392,
          3393,
          3394,
          3395,
          3396,
          3399,
          3402,
          3403,
          3416,
          3457,
          3463,
          3466,
          3474,
          3478,
          3481,
          3482,
          3486,
          3487,
          3493,
          3495,
          3503,
          3505,
          3507,
          3508,
          3515,
          3521,
          3525,
          3528,
          3529,
          3532,
          3534,
          3539,
          3545,
          3548,
          3551,
          3555,
          3557,
          3560,
          3562,
          3569,
          3574,
          3581,
          3582,
          3583,
          3587,
          3590,
          3593,
          3595
         ],
         "xaxis": "x",
         "y": [
          107,
          107,
          107,
          107,
          107,
          107,
          107,
          107,
          107,
          107,
          107,
          107,
          107,
          107,
          107,
          107,
          107,
          107,
          107,
          107,
          107,
          107,
          107,
          107,
          107,
          107,
          107,
          107,
          107,
          107,
          107,
          107,
          107,
          107,
          107,
          107,
          107,
          107,
          107,
          107,
          107,
          107,
          107,
          107,
          107,
          107,
          107,
          107,
          107,
          107,
          107,
          107,
          107,
          107,
          107,
          107,
          107,
          107,
          107,
          107,
          107,
          107,
          107,
          107,
          107,
          107,
          107,
          107,
          107,
          107,
          107,
          107,
          107,
          107,
          107,
          107,
          107,
          107,
          107,
          107,
          107,
          107,
          107,
          107,
          107,
          107,
          107,
          107,
          107,
          107,
          107,
          107,
          107,
          107,
          107,
          107,
          107,
          107,
          107,
          107,
          107,
          107,
          107,
          107,
          107,
          107,
          107,
          107,
          107,
          107,
          107,
          107,
          107,
          107,
          107,
          107,
          107,
          107,
          107,
          107,
          107,
          107,
          107,
          107,
          107,
          107,
          107,
          107,
          107,
          107,
          107,
          107,
          107,
          107,
          107,
          107,
          107,
          107,
          107,
          107,
          107,
          107,
          107,
          107,
          107,
          107,
          107,
          107,
          107,
          107,
          107,
          107,
          107,
          107,
          107,
          107,
          107,
          107,
          107,
          107,
          107,
          107,
          107,
          107,
          107,
          107,
          107,
          107,
          107,
          107,
          107,
          107,
          107,
          107,
          107,
          107,
          107,
          107,
          107,
          107,
          107,
          107,
          107,
          107,
          107,
          107,
          107,
          107,
          107,
          107,
          107
         ],
         "yaxis": "y"
        },
        {
         "hovertemplate": "Data Type=Actual<br>time=%{x}<br>Y Position=%{y}<extra></extra>",
         "legendgroup": "Actual",
         "line": {
          "color": "#EF553B",
          "dash": "solid"
         },
         "marker": {
          "symbol": "circle"
         },
         "mode": "lines+markers",
         "name": "Actual",
         "orientation": "v",
         "showlegend": true,
         "type": "scatter",
         "x": [
          2880,
          2882,
          2888,
          2900,
          2908,
          2910,
          2911,
          2913,
          2914,
          2919,
          2920,
          2923,
          2925,
          2926,
          2931,
          2935,
          2937,
          2948,
          2951,
          2954,
          2959,
          2968,
          2972,
          2981,
          2986,
          2987,
          2990,
          2994,
          2995,
          2997,
          2999,
          3001,
          3002,
          3004,
          3005,
          3007,
          3011,
          3012,
          3013,
          3014,
          3015,
          3016,
          3017,
          3018,
          3019,
          3032,
          3033,
          3046,
          3051,
          3053,
          3054,
          3055,
          3056,
          3057,
          3059,
          3060,
          3061,
          3066,
          3071,
          3075,
          3082,
          3083,
          3086,
          3089,
          3098,
          3102,
          3104,
          3108,
          3114,
          3116,
          3117,
          3132,
          3138,
          3139,
          3143,
          3144,
          3145,
          3148,
          3149,
          3154,
          3156,
          3158,
          3159,
          3180,
          3194,
          3197,
          3198,
          3202,
          3205,
          3208,
          3211,
          3224,
          3228,
          3231,
          3242,
          3243,
          3244,
          3245,
          3246,
          3248,
          3249,
          3250,
          3258,
          3259,
          3260,
          3261,
          3264,
          3267,
          3270,
          3273,
          3289,
          3290,
          3294,
          3296,
          3299,
          3300,
          3303,
          3306,
          3309,
          3313,
          3316,
          3321,
          3325,
          3328,
          3330,
          3338,
          3339,
          3341,
          3343,
          3344,
          3345,
          3346,
          3347,
          3352,
          3359,
          3361,
          3362,
          3364,
          3369,
          3379,
          3385,
          3388,
          3391,
          3392,
          3393,
          3394,
          3395,
          3396,
          3399,
          3402,
          3403,
          3416,
          3457,
          3463,
          3466,
          3474,
          3478,
          3481,
          3482,
          3486,
          3487,
          3493,
          3495,
          3503,
          3505,
          3507,
          3508,
          3515,
          3521,
          3525,
          3528,
          3529,
          3532,
          3534,
          3539,
          3545,
          3548,
          3551,
          3555,
          3557,
          3560,
          3562,
          3569,
          3574,
          3581,
          3582,
          3583,
          3587,
          3590,
          3593,
          3595
         ],
         "xaxis": "x",
         "y": [
          121,
          121,
          121,
          121,
          121,
          120,
          121,
          121,
          121,
          121,
          121,
          121,
          121,
          121,
          121,
          121,
          121,
          121,
          121,
          121,
          121,
          121,
          121,
          121,
          121,
          121,
          121,
          121,
          121,
          121,
          121,
          121,
          121,
          121,
          121,
          121,
          115,
          118,
          136,
          138,
          142,
          144,
          139,
          121,
          120,
          121,
          121,
          121,
          121,
          117,
          111,
          106,
          107,
          103,
          104,
          119,
          144,
          121,
          121,
          121,
          121,
          121,
          121,
          121,
          121,
          121,
          121,
          121,
          121,
          121,
          121,
          121,
          115,
          106,
          106,
          105,
          105,
          112,
          120,
          121,
          121,
          121,
          121,
          121,
          121,
          117,
          113,
          121,
          121,
          121,
          121,
          121,
          121,
          121,
          112,
          113,
          113,
          114,
          121,
          94,
          93,
          83,
          109,
          116,
          121,
          121,
          121,
          121,
          121,
          121,
          121,
          137,
          131,
          121,
          121,
          121,
          121,
          121,
          121,
          121,
          121,
          121,
          121,
          121,
          121,
          107,
          104,
          103,
          103,
          103,
          105,
          114,
          121,
          121,
          121,
          121,
          121,
          121,
          121,
          121,
          121,
          117,
          98,
          98,
          98,
          98,
          117,
          117,
          137,
          130,
          121,
          121,
          121,
          121,
          121,
          121,
          121,
          117,
          107,
          117,
          121,
          121,
          121,
          121,
          121,
          121,
          121,
          121,
          121,
          121,
          121,
          121,
          121,
          117,
          121,
          121,
          121,
          121,
          121,
          121,
          121,
          121,
          121,
          121,
          121,
          119,
          121,
          121,
          121,
          121,
          121
         ],
         "yaxis": "y"
        }
       ],
       "layout": {
        "legend": {
         "title": {
          "text": "Data Type"
         },
         "tracegroupgap": 0
        },
        "template": {
         "data": {
          "bar": [
           {
            "error_x": {
             "color": "#2a3f5f"
            },
            "error_y": {
             "color": "#2a3f5f"
            },
            "marker": {
             "line": {
              "color": "#E5ECF6",
              "width": 0.5
             },
             "pattern": {
              "fillmode": "overlay",
              "size": 10,
              "solidity": 0.2
             }
            },
            "type": "bar"
           }
          ],
          "barpolar": [
           {
            "marker": {
             "line": {
              "color": "#E5ECF6",
              "width": 0.5
             },
             "pattern": {
              "fillmode": "overlay",
              "size": 10,
              "solidity": 0.2
             }
            },
            "type": "barpolar"
           }
          ],
          "carpet": [
           {
            "aaxis": {
             "endlinecolor": "#2a3f5f",
             "gridcolor": "white",
             "linecolor": "white",
             "minorgridcolor": "white",
             "startlinecolor": "#2a3f5f"
            },
            "baxis": {
             "endlinecolor": "#2a3f5f",
             "gridcolor": "white",
             "linecolor": "white",
             "minorgridcolor": "white",
             "startlinecolor": "#2a3f5f"
            },
            "type": "carpet"
           }
          ],
          "choropleth": [
           {
            "colorbar": {
             "outlinewidth": 0,
             "ticks": ""
            },
            "type": "choropleth"
           }
          ],
          "contour": [
           {
            "colorbar": {
             "outlinewidth": 0,
             "ticks": ""
            },
            "colorscale": [
             [
              0,
              "#0d0887"
             ],
             [
              0.1111111111111111,
              "#46039f"
             ],
             [
              0.2222222222222222,
              "#7201a8"
             ],
             [
              0.3333333333333333,
              "#9c179e"
             ],
             [
              0.4444444444444444,
              "#bd3786"
             ],
             [
              0.5555555555555556,
              "#d8576b"
             ],
             [
              0.6666666666666666,
              "#ed7953"
             ],
             [
              0.7777777777777778,
              "#fb9f3a"
             ],
             [
              0.8888888888888888,
              "#fdca26"
             ],
             [
              1,
              "#f0f921"
             ]
            ],
            "type": "contour"
           }
          ],
          "contourcarpet": [
           {
            "colorbar": {
             "outlinewidth": 0,
             "ticks": ""
            },
            "type": "contourcarpet"
           }
          ],
          "heatmap": [
           {
            "colorbar": {
             "outlinewidth": 0,
             "ticks": ""
            },
            "colorscale": [
             [
              0,
              "#0d0887"
             ],
             [
              0.1111111111111111,
              "#46039f"
             ],
             [
              0.2222222222222222,
              "#7201a8"
             ],
             [
              0.3333333333333333,
              "#9c179e"
             ],
             [
              0.4444444444444444,
              "#bd3786"
             ],
             [
              0.5555555555555556,
              "#d8576b"
             ],
             [
              0.6666666666666666,
              "#ed7953"
             ],
             [
              0.7777777777777778,
              "#fb9f3a"
             ],
             [
              0.8888888888888888,
              "#fdca26"
             ],
             [
              1,
              "#f0f921"
             ]
            ],
            "type": "heatmap"
           }
          ],
          "heatmapgl": [
           {
            "colorbar": {
             "outlinewidth": 0,
             "ticks": ""
            },
            "colorscale": [
             [
              0,
              "#0d0887"
             ],
             [
              0.1111111111111111,
              "#46039f"
             ],
             [
              0.2222222222222222,
              "#7201a8"
             ],
             [
              0.3333333333333333,
              "#9c179e"
             ],
             [
              0.4444444444444444,
              "#bd3786"
             ],
             [
              0.5555555555555556,
              "#d8576b"
             ],
             [
              0.6666666666666666,
              "#ed7953"
             ],
             [
              0.7777777777777778,
              "#fb9f3a"
             ],
             [
              0.8888888888888888,
              "#fdca26"
             ],
             [
              1,
              "#f0f921"
             ]
            ],
            "type": "heatmapgl"
           }
          ],
          "histogram": [
           {
            "marker": {
             "pattern": {
              "fillmode": "overlay",
              "size": 10,
              "solidity": 0.2
             }
            },
            "type": "histogram"
           }
          ],
          "histogram2d": [
           {
            "colorbar": {
             "outlinewidth": 0,
             "ticks": ""
            },
            "colorscale": [
             [
              0,
              "#0d0887"
             ],
             [
              0.1111111111111111,
              "#46039f"
             ],
             [
              0.2222222222222222,
              "#7201a8"
             ],
             [
              0.3333333333333333,
              "#9c179e"
             ],
             [
              0.4444444444444444,
              "#bd3786"
             ],
             [
              0.5555555555555556,
              "#d8576b"
             ],
             [
              0.6666666666666666,
              "#ed7953"
             ],
             [
              0.7777777777777778,
              "#fb9f3a"
             ],
             [
              0.8888888888888888,
              "#fdca26"
             ],
             [
              1,
              "#f0f921"
             ]
            ],
            "type": "histogram2d"
           }
          ],
          "histogram2dcontour": [
           {
            "colorbar": {
             "outlinewidth": 0,
             "ticks": ""
            },
            "colorscale": [
             [
              0,
              "#0d0887"
             ],
             [
              0.1111111111111111,
              "#46039f"
             ],
             [
              0.2222222222222222,
              "#7201a8"
             ],
             [
              0.3333333333333333,
              "#9c179e"
             ],
             [
              0.4444444444444444,
              "#bd3786"
             ],
             [
              0.5555555555555556,
              "#d8576b"
             ],
             [
              0.6666666666666666,
              "#ed7953"
             ],
             [
              0.7777777777777778,
              "#fb9f3a"
             ],
             [
              0.8888888888888888,
              "#fdca26"
             ],
             [
              1,
              "#f0f921"
             ]
            ],
            "type": "histogram2dcontour"
           }
          ],
          "mesh3d": [
           {
            "colorbar": {
             "outlinewidth": 0,
             "ticks": ""
            },
            "type": "mesh3d"
           }
          ],
          "parcoords": [
           {
            "line": {
             "colorbar": {
              "outlinewidth": 0,
              "ticks": ""
             }
            },
            "type": "parcoords"
           }
          ],
          "pie": [
           {
            "automargin": true,
            "type": "pie"
           }
          ],
          "scatter": [
           {
            "fillpattern": {
             "fillmode": "overlay",
             "size": 10,
             "solidity": 0.2
            },
            "type": "scatter"
           }
          ],
          "scatter3d": [
           {
            "line": {
             "colorbar": {
              "outlinewidth": 0,
              "ticks": ""
             }
            },
            "marker": {
             "colorbar": {
              "outlinewidth": 0,
              "ticks": ""
             }
            },
            "type": "scatter3d"
           }
          ],
          "scattercarpet": [
           {
            "marker": {
             "colorbar": {
              "outlinewidth": 0,
              "ticks": ""
             }
            },
            "type": "scattercarpet"
           }
          ],
          "scattergeo": [
           {
            "marker": {
             "colorbar": {
              "outlinewidth": 0,
              "ticks": ""
             }
            },
            "type": "scattergeo"
           }
          ],
          "scattergl": [
           {
            "marker": {
             "colorbar": {
              "outlinewidth": 0,
              "ticks": ""
             }
            },
            "type": "scattergl"
           }
          ],
          "scattermapbox": [
           {
            "marker": {
             "colorbar": {
              "outlinewidth": 0,
              "ticks": ""
             }
            },
            "type": "scattermapbox"
           }
          ],
          "scatterpolar": [
           {
            "marker": {
             "colorbar": {
              "outlinewidth": 0,
              "ticks": ""
             }
            },
            "type": "scatterpolar"
           }
          ],
          "scatterpolargl": [
           {
            "marker": {
             "colorbar": {
              "outlinewidth": 0,
              "ticks": ""
             }
            },
            "type": "scatterpolargl"
           }
          ],
          "scatterternary": [
           {
            "marker": {
             "colorbar": {
              "outlinewidth": 0,
              "ticks": ""
             }
            },
            "type": "scatterternary"
           }
          ],
          "surface": [
           {
            "colorbar": {
             "outlinewidth": 0,
             "ticks": ""
            },
            "colorscale": [
             [
              0,
              "#0d0887"
             ],
             [
              0.1111111111111111,
              "#46039f"
             ],
             [
              0.2222222222222222,
              "#7201a8"
             ],
             [
              0.3333333333333333,
              "#9c179e"
             ],
             [
              0.4444444444444444,
              "#bd3786"
             ],
             [
              0.5555555555555556,
              "#d8576b"
             ],
             [
              0.6666666666666666,
              "#ed7953"
             ],
             [
              0.7777777777777778,
              "#fb9f3a"
             ],
             [
              0.8888888888888888,
              "#fdca26"
             ],
             [
              1,
              "#f0f921"
             ]
            ],
            "type": "surface"
           }
          ],
          "table": [
           {
            "cells": {
             "fill": {
              "color": "#EBF0F8"
             },
             "line": {
              "color": "white"
             }
            },
            "header": {
             "fill": {
              "color": "#C8D4E3"
             },
             "line": {
              "color": "white"
             }
            },
            "type": "table"
           }
          ]
         },
         "layout": {
          "annotationdefaults": {
           "arrowcolor": "#2a3f5f",
           "arrowhead": 0,
           "arrowwidth": 1
          },
          "autotypenumbers": "strict",
          "coloraxis": {
           "colorbar": {
            "outlinewidth": 0,
            "ticks": ""
           }
          },
          "colorscale": {
           "diverging": [
            [
             0,
             "#8e0152"
            ],
            [
             0.1,
             "#c51b7d"
            ],
            [
             0.2,
             "#de77ae"
            ],
            [
             0.3,
             "#f1b6da"
            ],
            [
             0.4,
             "#fde0ef"
            ],
            [
             0.5,
             "#f7f7f7"
            ],
            [
             0.6,
             "#e6f5d0"
            ],
            [
             0.7,
             "#b8e186"
            ],
            [
             0.8,
             "#7fbc41"
            ],
            [
             0.9,
             "#4d9221"
            ],
            [
             1,
             "#276419"
            ]
           ],
           "sequential": [
            [
             0,
             "#0d0887"
            ],
            [
             0.1111111111111111,
             "#46039f"
            ],
            [
             0.2222222222222222,
             "#7201a8"
            ],
            [
             0.3333333333333333,
             "#9c179e"
            ],
            [
             0.4444444444444444,
             "#bd3786"
            ],
            [
             0.5555555555555556,
             "#d8576b"
            ],
            [
             0.6666666666666666,
             "#ed7953"
            ],
            [
             0.7777777777777778,
             "#fb9f3a"
            ],
            [
             0.8888888888888888,
             "#fdca26"
            ],
            [
             1,
             "#f0f921"
            ]
           ],
           "sequentialminus": [
            [
             0,
             "#0d0887"
            ],
            [
             0.1111111111111111,
             "#46039f"
            ],
            [
             0.2222222222222222,
             "#7201a8"
            ],
            [
             0.3333333333333333,
             "#9c179e"
            ],
            [
             0.4444444444444444,
             "#bd3786"
            ],
            [
             0.5555555555555556,
             "#d8576b"
            ],
            [
             0.6666666666666666,
             "#ed7953"
            ],
            [
             0.7777777777777778,
             "#fb9f3a"
            ],
            [
             0.8888888888888888,
             "#fdca26"
            ],
            [
             1,
             "#f0f921"
            ]
           ]
          },
          "colorway": [
           "#636efa",
           "#EF553B",
           "#00cc96",
           "#ab63fa",
           "#FFA15A",
           "#19d3f3",
           "#FF6692",
           "#B6E880",
           "#FF97FF",
           "#FECB52"
          ],
          "font": {
           "color": "#2a3f5f"
          },
          "geo": {
           "bgcolor": "white",
           "lakecolor": "white",
           "landcolor": "#E5ECF6",
           "showlakes": true,
           "showland": true,
           "subunitcolor": "white"
          },
          "hoverlabel": {
           "align": "left"
          },
          "hovermode": "closest",
          "mapbox": {
           "style": "light"
          },
          "paper_bgcolor": "white",
          "plot_bgcolor": "#E5ECF6",
          "polar": {
           "angularaxis": {
            "gridcolor": "white",
            "linecolor": "white",
            "ticks": ""
           },
           "bgcolor": "#E5ECF6",
           "radialaxis": {
            "gridcolor": "white",
            "linecolor": "white",
            "ticks": ""
           }
          },
          "scene": {
           "xaxis": {
            "backgroundcolor": "#E5ECF6",
            "gridcolor": "white",
            "gridwidth": 2,
            "linecolor": "white",
            "showbackground": true,
            "ticks": "",
            "zerolinecolor": "white"
           },
           "yaxis": {
            "backgroundcolor": "#E5ECF6",
            "gridcolor": "white",
            "gridwidth": 2,
            "linecolor": "white",
            "showbackground": true,
            "ticks": "",
            "zerolinecolor": "white"
           },
           "zaxis": {
            "backgroundcolor": "#E5ECF6",
            "gridcolor": "white",
            "gridwidth": 2,
            "linecolor": "white",
            "showbackground": true,
            "ticks": "",
            "zerolinecolor": "white"
           }
          },
          "shapedefaults": {
           "line": {
            "color": "#2a3f5f"
           }
          },
          "ternary": {
           "aaxis": {
            "gridcolor": "white",
            "linecolor": "white",
            "ticks": ""
           },
           "baxis": {
            "gridcolor": "white",
            "linecolor": "white",
            "ticks": ""
           },
           "bgcolor": "#E5ECF6",
           "caxis": {
            "gridcolor": "white",
            "linecolor": "white",
            "ticks": ""
           }
          },
          "title": {
           "x": 0.05
          },
          "xaxis": {
           "automargin": true,
           "gridcolor": "white",
           "linecolor": "white",
           "ticks": "",
           "title": {
            "standoff": 15
           },
           "zerolinecolor": "white",
           "zerolinewidth": 2
          },
          "yaxis": {
           "automargin": true,
           "gridcolor": "white",
           "linecolor": "white",
           "ticks": "",
           "title": {
            "standoff": 15
           },
           "zerolinecolor": "white",
           "zerolinewidth": 2
          }
         }
        },
        "title": {
         "text": "User Y Position Over Time"
        },
        "xaxis": {
         "anchor": "y",
         "domain": [
          0,
          1
         ],
         "title": {
          "text": "time"
         }
        },
        "yaxis": {
         "anchor": "x",
         "domain": [
          0,
          1
         ],
         "range": [
          0,
          200
         ],
         "title": {
          "text": "Y Position"
         }
        }
       }
      },
      "text/html": [
       "<div>                            <div id=\"702153f8-6854-4d00-b7fc-03572006469e\" class=\"plotly-graph-div\" style=\"height:525px; width:100%;\"></div>            <script type=\"text/javascript\">                require([\"plotly\"], function(Plotly) {                    window.PLOTLYENV=window.PLOTLYENV || {};                                    if (document.getElementById(\"702153f8-6854-4d00-b7fc-03572006469e\")) {                    Plotly.newPlot(                        \"702153f8-6854-4d00-b7fc-03572006469e\",                        [{\"hovertemplate\":\"Data Type=Prediction\\u003cbr\\u003etime=%{x}\\u003cbr\\u003eY Position=%{y}\\u003cextra\\u003e\\u003c\\u002fextra\\u003e\",\"legendgroup\":\"Prediction\",\"line\":{\"color\":\"#636efa\",\"dash\":\"solid\"},\"marker\":{\"symbol\":\"circle\"},\"mode\":\"lines+markers\",\"name\":\"Prediction\",\"orientation\":\"v\",\"showlegend\":true,\"x\":[2880,2882,2888,2900,2908,2910,2911,2913,2914,2919,2920,2923,2925,2926,2931,2935,2937,2948,2951,2954,2959,2968,2972,2981,2986,2987,2990,2994,2995,2997,2999,3001,3002,3004,3005,3007,3011,3012,3013,3014,3015,3016,3017,3018,3019,3032,3033,3046,3051,3053,3054,3055,3056,3057,3059,3060,3061,3066,3071,3075,3082,3083,3086,3089,3098,3102,3104,3108,3114,3116,3117,3132,3138,3139,3143,3144,3145,3148,3149,3154,3156,3158,3159,3180,3194,3197,3198,3202,3205,3208,3211,3224,3228,3231,3242,3243,3244,3245,3246,3248,3249,3250,3258,3259,3260,3261,3264,3267,3270,3273,3289,3290,3294,3296,3299,3300,3303,3306,3309,3313,3316,3321,3325,3328,3330,3338,3339,3341,3343,3344,3345,3346,3347,3352,3359,3361,3362,3364,3369,3379,3385,3388,3391,3392,3393,3394,3395,3396,3399,3402,3403,3416,3457,3463,3466,3474,3478,3481,3482,3486,3487,3493,3495,3503,3505,3507,3508,3515,3521,3525,3528,3529,3532,3534,3539,3545,3548,3551,3555,3557,3560,3562,3569,3574,3581,3582,3583,3587,3590,3593,3595],\"xaxis\":\"x\",\"y\":[107,107,107,107,107,107,107,107,107,107,107,107,107,107,107,107,107,107,107,107,107,107,107,107,107,107,107,107,107,107,107,107,107,107,107,107,107,107,107,107,107,107,107,107,107,107,107,107,107,107,107,107,107,107,107,107,107,107,107,107,107,107,107,107,107,107,107,107,107,107,107,107,107,107,107,107,107,107,107,107,107,107,107,107,107,107,107,107,107,107,107,107,107,107,107,107,107,107,107,107,107,107,107,107,107,107,107,107,107,107,107,107,107,107,107,107,107,107,107,107,107,107,107,107,107,107,107,107,107,107,107,107,107,107,107,107,107,107,107,107,107,107,107,107,107,107,107,107,107,107,107,107,107,107,107,107,107,107,107,107,107,107,107,107,107,107,107,107,107,107,107,107,107,107,107,107,107,107,107,107,107,107,107,107,107,107,107,107,107,107,107],\"yaxis\":\"y\",\"type\":\"scatter\"},{\"hovertemplate\":\"Data Type=Actual\\u003cbr\\u003etime=%{x}\\u003cbr\\u003eY Position=%{y}\\u003cextra\\u003e\\u003c\\u002fextra\\u003e\",\"legendgroup\":\"Actual\",\"line\":{\"color\":\"#EF553B\",\"dash\":\"solid\"},\"marker\":{\"symbol\":\"circle\"},\"mode\":\"lines+markers\",\"name\":\"Actual\",\"orientation\":\"v\",\"showlegend\":true,\"x\":[2880,2882,2888,2900,2908,2910,2911,2913,2914,2919,2920,2923,2925,2926,2931,2935,2937,2948,2951,2954,2959,2968,2972,2981,2986,2987,2990,2994,2995,2997,2999,3001,3002,3004,3005,3007,3011,3012,3013,3014,3015,3016,3017,3018,3019,3032,3033,3046,3051,3053,3054,3055,3056,3057,3059,3060,3061,3066,3071,3075,3082,3083,3086,3089,3098,3102,3104,3108,3114,3116,3117,3132,3138,3139,3143,3144,3145,3148,3149,3154,3156,3158,3159,3180,3194,3197,3198,3202,3205,3208,3211,3224,3228,3231,3242,3243,3244,3245,3246,3248,3249,3250,3258,3259,3260,3261,3264,3267,3270,3273,3289,3290,3294,3296,3299,3300,3303,3306,3309,3313,3316,3321,3325,3328,3330,3338,3339,3341,3343,3344,3345,3346,3347,3352,3359,3361,3362,3364,3369,3379,3385,3388,3391,3392,3393,3394,3395,3396,3399,3402,3403,3416,3457,3463,3466,3474,3478,3481,3482,3486,3487,3493,3495,3503,3505,3507,3508,3515,3521,3525,3528,3529,3532,3534,3539,3545,3548,3551,3555,3557,3560,3562,3569,3574,3581,3582,3583,3587,3590,3593,3595],\"xaxis\":\"x\",\"y\":[121,121,121,121,121,120,121,121,121,121,121,121,121,121,121,121,121,121,121,121,121,121,121,121,121,121,121,121,121,121,121,121,121,121,121,121,115,118,136,138,142,144,139,121,120,121,121,121,121,117,111,106,107,103,104,119,144,121,121,121,121,121,121,121,121,121,121,121,121,121,121,121,115,106,106,105,105,112,120,121,121,121,121,121,121,117,113,121,121,121,121,121,121,121,112,113,113,114,121,94,93,83,109,116,121,121,121,121,121,121,121,137,131,121,121,121,121,121,121,121,121,121,121,121,121,107,104,103,103,103,105,114,121,121,121,121,121,121,121,121,121,117,98,98,98,98,117,117,137,130,121,121,121,121,121,121,121,117,107,117,121,121,121,121,121,121,121,121,121,121,121,121,121,117,121,121,121,121,121,121,121,121,121,121,121,119,121,121,121,121,121],\"yaxis\":\"y\",\"type\":\"scatter\"}],                        {\"template\":{\"data\":{\"histogram2dcontour\":[{\"type\":\"histogram2dcontour\",\"colorbar\":{\"outlinewidth\":0,\"ticks\":\"\"},\"colorscale\":[[0.0,\"#0d0887\"],[0.1111111111111111,\"#46039f\"],[0.2222222222222222,\"#7201a8\"],[0.3333333333333333,\"#9c179e\"],[0.4444444444444444,\"#bd3786\"],[0.5555555555555556,\"#d8576b\"],[0.6666666666666666,\"#ed7953\"],[0.7777777777777778,\"#fb9f3a\"],[0.8888888888888888,\"#fdca26\"],[1.0,\"#f0f921\"]]}],\"choropleth\":[{\"type\":\"choropleth\",\"colorbar\":{\"outlinewidth\":0,\"ticks\":\"\"}}],\"histogram2d\":[{\"type\":\"histogram2d\",\"colorbar\":{\"outlinewidth\":0,\"ticks\":\"\"},\"colorscale\":[[0.0,\"#0d0887\"],[0.1111111111111111,\"#46039f\"],[0.2222222222222222,\"#7201a8\"],[0.3333333333333333,\"#9c179e\"],[0.4444444444444444,\"#bd3786\"],[0.5555555555555556,\"#d8576b\"],[0.6666666666666666,\"#ed7953\"],[0.7777777777777778,\"#fb9f3a\"],[0.8888888888888888,\"#fdca26\"],[1.0,\"#f0f921\"]]}],\"heatmap\":[{\"type\":\"heatmap\",\"colorbar\":{\"outlinewidth\":0,\"ticks\":\"\"},\"colorscale\":[[0.0,\"#0d0887\"],[0.1111111111111111,\"#46039f\"],[0.2222222222222222,\"#7201a8\"],[0.3333333333333333,\"#9c179e\"],[0.4444444444444444,\"#bd3786\"],[0.5555555555555556,\"#d8576b\"],[0.6666666666666666,\"#ed7953\"],[0.7777777777777778,\"#fb9f3a\"],[0.8888888888888888,\"#fdca26\"],[1.0,\"#f0f921\"]]}],\"heatmapgl\":[{\"type\":\"heatmapgl\",\"colorbar\":{\"outlinewidth\":0,\"ticks\":\"\"},\"colorscale\":[[0.0,\"#0d0887\"],[0.1111111111111111,\"#46039f\"],[0.2222222222222222,\"#7201a8\"],[0.3333333333333333,\"#9c179e\"],[0.4444444444444444,\"#bd3786\"],[0.5555555555555556,\"#d8576b\"],[0.6666666666666666,\"#ed7953\"],[0.7777777777777778,\"#fb9f3a\"],[0.8888888888888888,\"#fdca26\"],[1.0,\"#f0f921\"]]}],\"contourcarpet\":[{\"type\":\"contourcarpet\",\"colorbar\":{\"outlinewidth\":0,\"ticks\":\"\"}}],\"contour\":[{\"type\":\"contour\",\"colorbar\":{\"outlinewidth\":0,\"ticks\":\"\"},\"colorscale\":[[0.0,\"#0d0887\"],[0.1111111111111111,\"#46039f\"],[0.2222222222222222,\"#7201a8\"],[0.3333333333333333,\"#9c179e\"],[0.4444444444444444,\"#bd3786\"],[0.5555555555555556,\"#d8576b\"],[0.6666666666666666,\"#ed7953\"],[0.7777777777777778,\"#fb9f3a\"],[0.8888888888888888,\"#fdca26\"],[1.0,\"#f0f921\"]]}],\"surface\":[{\"type\":\"surface\",\"colorbar\":{\"outlinewidth\":0,\"ticks\":\"\"},\"colorscale\":[[0.0,\"#0d0887\"],[0.1111111111111111,\"#46039f\"],[0.2222222222222222,\"#7201a8\"],[0.3333333333333333,\"#9c179e\"],[0.4444444444444444,\"#bd3786\"],[0.5555555555555556,\"#d8576b\"],[0.6666666666666666,\"#ed7953\"],[0.7777777777777778,\"#fb9f3a\"],[0.8888888888888888,\"#fdca26\"],[1.0,\"#f0f921\"]]}],\"mesh3d\":[{\"type\":\"mesh3d\",\"colorbar\":{\"outlinewidth\":0,\"ticks\":\"\"}}],\"scatter\":[{\"fillpattern\":{\"fillmode\":\"overlay\",\"size\":10,\"solidity\":0.2},\"type\":\"scatter\"}],\"parcoords\":[{\"type\":\"parcoords\",\"line\":{\"colorbar\":{\"outlinewidth\":0,\"ticks\":\"\"}}}],\"scatterpolargl\":[{\"type\":\"scatterpolargl\",\"marker\":{\"colorbar\":{\"outlinewidth\":0,\"ticks\":\"\"}}}],\"bar\":[{\"error_x\":{\"color\":\"#2a3f5f\"},\"error_y\":{\"color\":\"#2a3f5f\"},\"marker\":{\"line\":{\"color\":\"#E5ECF6\",\"width\":0.5},\"pattern\":{\"fillmode\":\"overlay\",\"size\":10,\"solidity\":0.2}},\"type\":\"bar\"}],\"scattergeo\":[{\"type\":\"scattergeo\",\"marker\":{\"colorbar\":{\"outlinewidth\":0,\"ticks\":\"\"}}}],\"scatterpolar\":[{\"type\":\"scatterpolar\",\"marker\":{\"colorbar\":{\"outlinewidth\":0,\"ticks\":\"\"}}}],\"histogram\":[{\"marker\":{\"pattern\":{\"fillmode\":\"overlay\",\"size\":10,\"solidity\":0.2}},\"type\":\"histogram\"}],\"scattergl\":[{\"type\":\"scattergl\",\"marker\":{\"colorbar\":{\"outlinewidth\":0,\"ticks\":\"\"}}}],\"scatter3d\":[{\"type\":\"scatter3d\",\"line\":{\"colorbar\":{\"outlinewidth\":0,\"ticks\":\"\"}},\"marker\":{\"colorbar\":{\"outlinewidth\":0,\"ticks\":\"\"}}}],\"scattermapbox\":[{\"type\":\"scattermapbox\",\"marker\":{\"colorbar\":{\"outlinewidth\":0,\"ticks\":\"\"}}}],\"scatterternary\":[{\"type\":\"scatterternary\",\"marker\":{\"colorbar\":{\"outlinewidth\":0,\"ticks\":\"\"}}}],\"scattercarpet\":[{\"type\":\"scattercarpet\",\"marker\":{\"colorbar\":{\"outlinewidth\":0,\"ticks\":\"\"}}}],\"carpet\":[{\"aaxis\":{\"endlinecolor\":\"#2a3f5f\",\"gridcolor\":\"white\",\"linecolor\":\"white\",\"minorgridcolor\":\"white\",\"startlinecolor\":\"#2a3f5f\"},\"baxis\":{\"endlinecolor\":\"#2a3f5f\",\"gridcolor\":\"white\",\"linecolor\":\"white\",\"minorgridcolor\":\"white\",\"startlinecolor\":\"#2a3f5f\"},\"type\":\"carpet\"}],\"table\":[{\"cells\":{\"fill\":{\"color\":\"#EBF0F8\"},\"line\":{\"color\":\"white\"}},\"header\":{\"fill\":{\"color\":\"#C8D4E3\"},\"line\":{\"color\":\"white\"}},\"type\":\"table\"}],\"barpolar\":[{\"marker\":{\"line\":{\"color\":\"#E5ECF6\",\"width\":0.5},\"pattern\":{\"fillmode\":\"overlay\",\"size\":10,\"solidity\":0.2}},\"type\":\"barpolar\"}],\"pie\":[{\"automargin\":true,\"type\":\"pie\"}]},\"layout\":{\"autotypenumbers\":\"strict\",\"colorway\":[\"#636efa\",\"#EF553B\",\"#00cc96\",\"#ab63fa\",\"#FFA15A\",\"#19d3f3\",\"#FF6692\",\"#B6E880\",\"#FF97FF\",\"#FECB52\"],\"font\":{\"color\":\"#2a3f5f\"},\"hovermode\":\"closest\",\"hoverlabel\":{\"align\":\"left\"},\"paper_bgcolor\":\"white\",\"plot_bgcolor\":\"#E5ECF6\",\"polar\":{\"bgcolor\":\"#E5ECF6\",\"angularaxis\":{\"gridcolor\":\"white\",\"linecolor\":\"white\",\"ticks\":\"\"},\"radialaxis\":{\"gridcolor\":\"white\",\"linecolor\":\"white\",\"ticks\":\"\"}},\"ternary\":{\"bgcolor\":\"#E5ECF6\",\"aaxis\":{\"gridcolor\":\"white\",\"linecolor\":\"white\",\"ticks\":\"\"},\"baxis\":{\"gridcolor\":\"white\",\"linecolor\":\"white\",\"ticks\":\"\"},\"caxis\":{\"gridcolor\":\"white\",\"linecolor\":\"white\",\"ticks\":\"\"}},\"coloraxis\":{\"colorbar\":{\"outlinewidth\":0,\"ticks\":\"\"}},\"colorscale\":{\"sequential\":[[0.0,\"#0d0887\"],[0.1111111111111111,\"#46039f\"],[0.2222222222222222,\"#7201a8\"],[0.3333333333333333,\"#9c179e\"],[0.4444444444444444,\"#bd3786\"],[0.5555555555555556,\"#d8576b\"],[0.6666666666666666,\"#ed7953\"],[0.7777777777777778,\"#fb9f3a\"],[0.8888888888888888,\"#fdca26\"],[1.0,\"#f0f921\"]],\"sequentialminus\":[[0.0,\"#0d0887\"],[0.1111111111111111,\"#46039f\"],[0.2222222222222222,\"#7201a8\"],[0.3333333333333333,\"#9c179e\"],[0.4444444444444444,\"#bd3786\"],[0.5555555555555556,\"#d8576b\"],[0.6666666666666666,\"#ed7953\"],[0.7777777777777778,\"#fb9f3a\"],[0.8888888888888888,\"#fdca26\"],[1.0,\"#f0f921\"]],\"diverging\":[[0,\"#8e0152\"],[0.1,\"#c51b7d\"],[0.2,\"#de77ae\"],[0.3,\"#f1b6da\"],[0.4,\"#fde0ef\"],[0.5,\"#f7f7f7\"],[0.6,\"#e6f5d0\"],[0.7,\"#b8e186\"],[0.8,\"#7fbc41\"],[0.9,\"#4d9221\"],[1,\"#276419\"]]},\"xaxis\":{\"gridcolor\":\"white\",\"linecolor\":\"white\",\"ticks\":\"\",\"title\":{\"standoff\":15},\"zerolinecolor\":\"white\",\"automargin\":true,\"zerolinewidth\":2},\"yaxis\":{\"gridcolor\":\"white\",\"linecolor\":\"white\",\"ticks\":\"\",\"title\":{\"standoff\":15},\"zerolinecolor\":\"white\",\"automargin\":true,\"zerolinewidth\":2},\"scene\":{\"xaxis\":{\"backgroundcolor\":\"#E5ECF6\",\"gridcolor\":\"white\",\"linecolor\":\"white\",\"showbackground\":true,\"ticks\":\"\",\"zerolinecolor\":\"white\",\"gridwidth\":2},\"yaxis\":{\"backgroundcolor\":\"#E5ECF6\",\"gridcolor\":\"white\",\"linecolor\":\"white\",\"showbackground\":true,\"ticks\":\"\",\"zerolinecolor\":\"white\",\"gridwidth\":2},\"zaxis\":{\"backgroundcolor\":\"#E5ECF6\",\"gridcolor\":\"white\",\"linecolor\":\"white\",\"showbackground\":true,\"ticks\":\"\",\"zerolinecolor\":\"white\",\"gridwidth\":2}},\"shapedefaults\":{\"line\":{\"color\":\"#2a3f5f\"}},\"annotationdefaults\":{\"arrowcolor\":\"#2a3f5f\",\"arrowhead\":0,\"arrowwidth\":1},\"geo\":{\"bgcolor\":\"white\",\"landcolor\":\"#E5ECF6\",\"subunitcolor\":\"white\",\"showland\":true,\"showlakes\":true,\"lakecolor\":\"white\"},\"title\":{\"x\":0.05},\"mapbox\":{\"style\":\"light\"}}},\"xaxis\":{\"anchor\":\"y\",\"domain\":[0.0,1.0],\"title\":{\"text\":\"time\"}},\"yaxis\":{\"anchor\":\"x\",\"domain\":[0.0,1.0],\"title\":{\"text\":\"Y Position\"},\"range\":[0,200]},\"legend\":{\"title\":{\"text\":\"Data Type\"},\"tracegroupgap\":0},\"title\":{\"text\":\"User Y Position Over Time\"}},                        {\"responsive\": true}                    ).then(function(){\n",
       "                            \n",
       "var gd = document.getElementById('702153f8-6854-4d00-b7fc-03572006469e');\n",
       "var x = new MutationObserver(function (mutations, observer) {{\n",
       "        var display = window.getComputedStyle(gd).display;\n",
       "        if (!display || display === 'none') {{\n",
       "            console.log([gd, 'removed!']);\n",
       "            Plotly.purge(gd);\n",
       "            observer.disconnect();\n",
       "        }}\n",
       "}});\n",
       "\n",
       "// Listen for the removal of the full notebook cells\n",
       "var notebookContainer = gd.closest('#notebook-container');\n",
       "if (notebookContainer) {{\n",
       "    x.observe(notebookContainer, {childList: true});\n",
       "}}\n",
       "\n",
       "// Listen for the clearing of the current output cell\n",
       "var outputEl = gd.closest('.output');\n",
       "if (outputEl) {{\n",
       "    x.observe(outputEl, {childList: true});\n",
       "}}\n",
       "\n",
       "                        })                };                });            </script>        </div>"
      ]
     },
     "metadata": {},
     "output_type": "display_data"
    }
   ],
   "source": [
    "plot_xy_trajectory_submit(subsB, test_case)"
   ]
  },
  {
   "cell_type": "code",
   "execution_count": null,
   "metadata": {},
   "outputs": [],
   "source": []
  }
 ],
 "metadata": {
  "kernelspec": {
   "display_name": "base",
   "language": "python",
   "name": "python3"
  },
  "language_info": {
   "codemirror_mode": {
    "name": "ipython",
    "version": 3
   },
   "file_extension": ".py",
   "mimetype": "text/x-python",
   "name": "python",
   "nbconvert_exporter": "python",
   "pygments_lexer": "ipython3",
   "version": "3.10.13"
  }
 },
 "nbformat": 4,
 "nbformat_minor": 2
}
