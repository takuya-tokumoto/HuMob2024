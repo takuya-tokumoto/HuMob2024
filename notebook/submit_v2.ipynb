{
 "cells": [
  {
   "cell_type": "markdown",
   "metadata": {},
   "source": [
    "# Import"
   ]
  },
  {
   "cell_type": "code",
   "execution_count": 1,
   "metadata": {},
   "outputs": [],
   "source": [
    "import glob\n",
    "import json\n",
    "from typing import List, Tuple\n",
    "\n",
    "import geobleu\n",
    "import matplotlib.pyplot as plt\n",
    "import numpy as np\n",
    "import pandas as pd\n",
    "import plotly.express as px\n",
    "import polars as pl\n",
    "import seaborn as sns"
   ]
  },
  {
   "cell_type": "markdown",
   "metadata": {},
   "source": [
    "# Function"
   ]
  },
  {
   "cell_type": "code",
   "execution_count": 2,
   "metadata": {},
   "outputs": [],
   "source": [
    "def read_submit_json(output_dir: str) -> dict:\n",
    "    \"\"\"予測後のファイルを読み込み\n",
    "\n",
    "    Args:\n",
    "        output_dir (str): 格納先のファイルのdirを指定\n",
    "\n",
    "    Returns:\n",
    "        dict: [generate]予測値 [referense]正解値\n",
    "    \"\"\"\n",
    "\n",
    "    submit_file = glob.glob(output_dir)[0]\n",
    "\n",
    "    with open(submit_file, \"r\") as f:\n",
    "        subs = json.load(f)\n",
    "\n",
    "    return subs"
   ]
  },
  {
   "cell_type": "code",
   "execution_count": 3,
   "metadata": {},
   "outputs": [],
   "source": [
    "def caluc_test_score(subs: dict) -> Tuple[List, List]:\n",
    "    \"\"\"評価用データに関する精度結果を表示\n",
    "\n",
    "    Args:\n",
    "        subs (dict): 提出用subs\n",
    "\n",
    "    Returns:\n",
    "        list: 各uidごとのgeobleuの値\n",
    "        list: 各uidごとのdtwの値\n",
    "    \"\"\"\n",
    "\n",
    "    list_geobleu_val = []\n",
    "    list_dtw_val = []\n",
    "    cnt = 0\n",
    "\n",
    "    for i in range(2000):\n",
    "\n",
    "        generated = subs[\"generated\"][i]\n",
    "        reference = subs[\"reference\"][i]\n",
    "\n",
    "        if len(generated) > 0:\n",
    "            geobleu_val = geobleu.calc_geobleu(generated, reference, processes=3)\n",
    "            list_geobleu_val.append(geobleu_val)\n",
    "\n",
    "            dtw_val = geobleu.calc_dtw(generated, reference, processes=3)\n",
    "            list_dtw_val.append(dtw_val)\n",
    "\n",
    "        else:\n",
    "            cnt += 1\n",
    "\n",
    "    print(f\"計算できなかったuid数は {cnt}件\")\n",
    "    print(\"geobleu: {}\".format(np.mean(list_geobleu_val)))\n",
    "    print(\"dtw: {}\".format(np.mean(list_dtw_val)))\n",
    "\n",
    "    return list_geobleu_val, list_dtw_val"
   ]
  },
  {
   "cell_type": "markdown",
   "metadata": {},
   "source": [
    "# CalucTestScore\n",
    "- 2000uid * 15dの範囲にてgeoblueとdtwを算出\n",
    "- uid単位で評価したうえで平均値を最終評価とする"
   ]
  },
  {
   "cell_type": "code",
   "execution_count": 4,
   "metadata": {},
   "outputs": [],
   "source": [
    "# 評価対象のファイル\n",
    "\n",
    "base_path = \"/kaggle/s3storage/01_public/humob-challenge-2024/output/test\"\n",
    "run_name = \"end_learn_v3\"\n",
    "file_name = \"batchsize128_epochs3_embedsize128_layersnum4_headsnum8_cuda0_lr2e-05_seed0\""
   ]
  },
  {
   "cell_type": "markdown",
   "metadata": {},
   "source": [
    "## Dataset B"
   ]
  },
  {
   "cell_type": "code",
   "execution_count": 5,
   "metadata": {},
   "outputs": [
    {
     "name": "stdout",
     "output_type": "stream",
     "text": [
      "計算できなかったuid数は 0件\n",
      "geobleu: 0.012031050851214366\n",
      "dtw: 334.3835071340257\n"
     ]
    }
   ],
   "source": [
    "output_dir = f\"{base_path}/{run_name}/taskB/{file_name}/*json\"\n",
    "subsB = read_submit_json(output_dir)\n",
    "\n",
    "list_geobleu_val, list_dtw_val = caluc_test_score(subsB)"
   ]
  },
  {
   "cell_type": "markdown",
   "metadata": {},
   "source": [
    "## Dataset C"
   ]
  },
  {
   "cell_type": "markdown",
   "metadata": {},
   "source": [
    "## Dataset D"
   ]
  },
  {
   "cell_type": "markdown",
   "metadata": {},
   "source": [
    "# Analysys"
   ]
  },
  {
   "cell_type": "code",
   "execution_count": 21,
   "metadata": {},
   "outputs": [
    {
     "name": "stdout",
     "output_type": "stream",
     "text": [
      "計算できなかったuid数は 0件\n",
      "geobleu: 0.0017551713970495606\n",
      "dtw: 385.0024172985215\n"
     ]
    }
   ],
   "source": [
    "output_dir = (\n",
    "    f\"{base_path}/{run_name}/taskB/batchsize128_epochs1_embedsize128_layersnum4_headsnum8_cuda0_lr2e-05_seed0/*json\"\n",
    ")\n",
    "subsB = read_submit_json(output_dir)\n",
    "\n",
    "list_geobleu_val_ep_1, list_dtw_val_ep_1 = caluc_test_score(subsB)"
   ]
  },
  {
   "cell_type": "code",
   "execution_count": 26,
   "metadata": {},
   "outputs": [
    {
     "name": "stdout",
     "output_type": "stream",
     "text": [
      "計算できなかったuid数は 0件\n",
      "geobleu: 0.020381211173639613\n",
      "dtw: 224.86270387242917\n"
     ]
    }
   ],
   "source": [
    "output_dir = (\n",
    "    f\"{base_path}/{run_name}/taskB/batchsize128_epochs10_embedsize128_layersnum4_headsnum8_cuda0_lr2e-05_seed0/*json\"\n",
    ")\n",
    "subsB = read_submit_json(output_dir)\n",
    "\n",
    "list_geobleu_val_ep_10, list_dtw_val_ep_10 = caluc_test_score(subsB)"
   ]
  },
  {
   "cell_type": "code",
   "execution_count": 22,
   "metadata": {},
   "outputs": [
    {
     "ename": "NameError",
     "evalue": "name 'list_geobleu_val_ep_10' is not defined",
     "output_type": "error",
     "traceback": [
      "\u001b[0;31m---------------------------------------------------------------------------\u001b[0m",
      "\u001b[0;31mNameError\u001b[0m                                 Traceback (most recent call last)",
      "Cell \u001b[0;32mIn[22], line 2\u001b[0m\n\u001b[1;32m      1\u001b[0m \u001b[38;5;66;03m# リストにカテゴリを付ける\u001b[39;00m\n\u001b[0;32m----> 2\u001b[0m data \u001b[38;5;241m=\u001b[39m [list_geobleu_val, \u001b[43mlist_geobleu_val_ep_10\u001b[49m, list_geobleu_val_ep_1]\n\u001b[1;32m      4\u001b[0m \u001b[38;5;66;03m# boxplotの表示\u001b[39;00m\n\u001b[1;32m      5\u001b[0m plt\u001b[38;5;241m.\u001b[39mfigure(figsize\u001b[38;5;241m=\u001b[39m(\u001b[38;5;241m10\u001b[39m, \u001b[38;5;241m6\u001b[39m))\n",
      "\u001b[0;31mNameError\u001b[0m: name 'list_geobleu_val_ep_10' is not defined"
     ]
    }
   ],
   "source": [
    "# リストにカテゴリを付ける\n",
    "data = [list_geobleu_val, list_geobleu_val_ep_10, list_geobleu_val_ep_1]\n",
    "\n",
    "# boxplotの表示\n",
    "plt.figure(figsize=(10, 6))\n",
    "sns.boxplot(data=data)\n",
    "plt.xticks([0, 1, 2], [\"epoch 50\", \"epoch 10\", \"epoch 1\"])  # x軸にカテゴリラベルを設定\n",
    "plt.title(\"Comparison of geobleu Score\")\n",
    "plt.ylabel(\"Scores\")\n",
    "plt.show()"
   ]
  },
  {
   "cell_type": "code",
   "execution_count": 6,
   "metadata": {},
   "outputs": [
    {
     "ename": "NameError",
     "evalue": "name 'list_dtw_val_ep_10' is not defined",
     "output_type": "error",
     "traceback": [
      "\u001b[0;31m---------------------------------------------------------------------------\u001b[0m",
      "\u001b[0;31mNameError\u001b[0m                                 Traceback (most recent call last)",
      "Cell \u001b[0;32mIn[6], line 2\u001b[0m\n\u001b[1;32m      1\u001b[0m \u001b[38;5;66;03m# リストにカテゴリを付ける\u001b[39;00m\n\u001b[0;32m----> 2\u001b[0m data \u001b[38;5;241m=\u001b[39m [list_dtw_val, \u001b[43mlist_dtw_val_ep_10\u001b[49m, list_dtw_val_ep_1]\n\u001b[1;32m      4\u001b[0m \u001b[38;5;66;03m# boxplotの表示\u001b[39;00m\n\u001b[1;32m      5\u001b[0m plt\u001b[38;5;241m.\u001b[39mfigure(figsize\u001b[38;5;241m=\u001b[39m(\u001b[38;5;241m10\u001b[39m, \u001b[38;5;241m6\u001b[39m))\n",
      "\u001b[0;31mNameError\u001b[0m: name 'list_dtw_val_ep_10' is not defined"
     ]
    }
   ],
   "source": [
    "# リストにカテゴリを付ける\n",
    "data = [list_dtw_val, list_dtw_val_ep_10, list_dtw_val_ep_1]\n",
    "\n",
    "# boxplotの表示\n",
    "plt.figure(figsize=(10, 6))\n",
    "sns.boxplot(data=data)\n",
    "plt.xticks([0, 1, 2], [\"epoch 50\", \"epoch 10\", \"epoch 1\"])  # x軸にカテゴリラベルを設定\n",
    "plt.title(\"Comparison of dtw Score\")\n",
    "plt.ylabel(\"Scores\")\n",
    "plt.show()"
   ]
  },
  {
   "cell_type": "code",
   "execution_count": 6,
   "metadata": {},
   "outputs": [
    {
     "data": {
      "image/png": "[encoded data removed]",
      "text/plain": [
       "<Figure size 1000x600 with 1 Axes>"
      ]
     },
     "metadata": {},
     "output_type": "display_data"
    }
   ],
   "source": [
    "# ヒストグラムの描画\n",
    "plt.figure(figsize=(10, 6))\n",
    "plt.hist(list_geobleu_val, bins=100, edgecolor=\"black\")\n",
    "plt.title(\"Score Distribution (Histogram)\")\n",
    "plt.xlabel(\"Scores\")\n",
    "plt.ylabel(\"Frequency\")\n",
    "plt.show()"
   ]
  },
  {
   "cell_type": "code",
   "execution_count": 7,
   "metadata": {},
   "outputs": [
    {
     "data": {
      "image/png": "[encoded data removed]",
      "text/plain": [
       "<Figure size 1000x600 with 1 Axes>"
      ]
     },
     "metadata": {},
     "output_type": "display_data"
    }
   ],
   "source": [
    "# ヒストグラムの描画\n",
    "plt.figure(figsize=(10, 6))\n",
    "plt.hist(list_dtw_val, bins=100, edgecolor=\"black\")\n",
    "plt.title(\"Score Distribution (Histogram)\")\n",
    "plt.xlabel(\"Scores\")\n",
    "plt.ylabel(\"Frequency\")\n",
    "plt.show()"
   ]
  },
  {
   "cell_type": "code",
   "execution_count": 8,
   "metadata": {},
   "outputs": [
    {
     "data": {
      "text/html": [
       "<div><style>\n",
       ".dataframe > thead > tr,\n",
       ".dataframe > tbody > tr {\n",
       "  text-align: right;\n",
       "  white-space: pre-wrap;\n",
       "}\n",
       "</style>\n",
       "<small>shape: (1, 5)</small><table border=\"1\" class=\"dataframe\"><thead><tr><th>uid</th><th>d</th><th>t</th><th>x</th><th>y</th></tr><tr><td>i64</td><td>i64</td><td>i64</td><td>i64</td><td>i64</td></tr></thead><tbody><tr><td>0</td><td>0</td><td>20</td><td>80</td><td>99</td></tr></tbody></table></div>"
      ],
      "text/plain": [
       "shape: (1, 5)\n",
       "┌─────┬─────┬─────┬─────┬─────┐\n",
       "│ uid ┆ d   ┆ t   ┆ x   ┆ y   │\n",
       "│ --- ┆ --- ┆ --- ┆ --- ┆ --- │\n",
       "│ i64 ┆ i64 ┆ i64 ┆ i64 ┆ i64 │\n",
       "╞═════╪═════╪═════╪═════╪═════╡\n",
       "│ 0   ┆ 0   ┆ 20  ┆ 80  ┆ 99  │\n",
       "└─────┴─────┴─────┴─────┴─────┘"
      ]
     },
     "metadata": {},
     "output_type": "display_data"
    },
    {
     "name": "stdout",
     "output_type": "stream",
     "text": [
      "24375898\n"
     ]
    }
   ],
   "source": [
    "# CSV.GZファイルを読み込む\n",
    "df_b = pl.read_csv(\"/kaggle/s3storage/01_public/humob-challenge-2024/input/cityB_challengedata.csv.gz\")\n",
    "\n",
    "# データフレームの内容を表示\n",
    "display(df_b.head(1))\n",
    "print(len(df_b))"
   ]
  },
  {
   "cell_type": "code",
   "execution_count": 9,
   "metadata": {},
   "outputs": [],
   "source": [
    "def plot_xy_trajectory(city_df: pl.DataFrame, selected_uids: list[int]) -> None:\n",
    "    \"\"\"ユーザーごとのx, yの推移を時間軸に沿って折れ線グラフで可視化\n",
    "\n",
    "    args\n",
    "        city_df: Polarsのデータフレーム\n",
    "        selected_uids: 表示したいユーザーIDのリスト\n",
    "    \"\"\"\n",
    "\n",
    "    # 選択されたUIDのデータをフィルタリングし、時間でソート\n",
    "    dff = city_df.filter(pl.col(\"uid\").is_in(selected_uids))\n",
    "    dff = dff.with_columns((pl.col(\"d\") * 48 + pl.col(\"t\")).alias(\"time\"))\n",
    "    dff = dff.sort(\"time\")\n",
    "\n",
    "    # Pandasデータフレームに変換\n",
    "    dff_pd = dff.to_pandas()\n",
    "\n",
    "    # X座標の推移を描画\n",
    "    x_line_fig = px.line(\n",
    "        dff_pd,\n",
    "        x=\"time\",\n",
    "        y=\"x\",\n",
    "        color=\"uid\",\n",
    "        labels={\"x\": \"Time\", \"y\": \"X Position\", \"uid\": \"User ID\"},\n",
    "        title=\"User X Position Over Time\",\n",
    "        range_y=[0, 200],  # y座標の範囲を指定\n",
    "    )\n",
    "    x_line_fig.update_traces(mode=\"lines+markers\")\n",
    "\n",
    "    # Y座標の推移を描画\n",
    "    y_line_fig = px.line(\n",
    "        dff_pd,\n",
    "        x=\"time\",\n",
    "        y=\"y\",\n",
    "        color=\"uid\",\n",
    "        labels={\"x\": \"Time\", \"y\": \"Y Position\", \"uid\": \"User ID\"},\n",
    "        title=\"User Y Position Over Time\",\n",
    "        range_y=[0, 200],  # y座標の範囲を指定\n",
    "    )\n",
    "    y_line_fig.update_traces(mode=\"lines+markers\")\n",
    "\n",
    "    # グラフの表示\n",
    "    x_line_fig.show()\n",
    "    y_line_fig.show()"
   ]
  },
  {
   "cell_type": "code",
   "execution_count": 10,
   "metadata": {},
   "outputs": [],
   "source": [
    "def plot_xy_trajectory_submit(subs: dict, selected_uid: int) -> None:\n",
    "\n",
    "    # submitファイル用にuidを再定義\n",
    "    new_uid = selected_uid - 20000\n",
    "\n",
    "    # 選択されたUIDの部分を抽出\n",
    "    _pred_dict = subs[\"generated\"][new_uid]\n",
    "    # 辞書に変換したのちにpolarsに変換\n",
    "    _pred_dict = [{\"d\": item[0], \"t\": item[1], \"x\": item[2], \"y\": item[3]} for item in _pred_dict]\n",
    "    pred_pl = pl.DataFrame(_pred_dict)\n",
    "    # time項目を追加\n",
    "    pred_pl = pred_pl.with_columns((pl.col(\"d\") * 48 + pl.col(\"t\")).alias(\"time\"))\n",
    "    pred_pl = pred_pl.sort(\"time\")\n",
    "    pred_pl = pred_pl.with_columns(pl.lit(\"Prediction\").alias(\"type\"))\n",
    "\n",
    "    # Pandasデータフレームに変換\n",
    "    pred_pd = pred_pl.to_pandas()\n",
    "\n",
    "    # 選択されたUIDの部分を抽出\n",
    "    _act_dict = subs[\"reference\"][new_uid]\n",
    "    # 辞書に変換したのちにpolarsに変換\n",
    "    _act_dict = [{\"d\": item[0], \"t\": item[1], \"x\": item[2], \"y\": item[3]} for item in _act_dict]\n",
    "    act_pl = pl.DataFrame(_act_dict)\n",
    "    # time項目を追加\n",
    "    act_pl = act_pl.with_columns((pl.col(\"d\") * 48 + pl.col(\"t\")).alias(\"time\"))\n",
    "    act_pl = act_pl.sort(\"time\")\n",
    "    act_pl = act_pl.with_columns(pl.lit(\"Actual\").alias(\"type\"))\n",
    "    # Pandasデータフレームに変換\n",
    "    act_pd = act_pl.to_pandas()\n",
    "\n",
    "    # 予測値と実測値を1つのデータフレームに結合\n",
    "    combined_df = pd.concat([pred_pd, act_pd])\n",
    "\n",
    "    # X座標の推移を描画\n",
    "    x_line_fig = px.line(\n",
    "        combined_df,\n",
    "        x=\"time\",\n",
    "        y=\"x\",\n",
    "        color=\"type\",\n",
    "        labels={\"x\": \"Time\", \"y\": \"X Position\", \"type\": \"Data Type\"},\n",
    "        title=\"User X Position Over Time\",\n",
    "        range_y=[0, 200],  # y座標の範囲を指定\n",
    "    )\n",
    "    x_line_fig.update_traces(mode=\"lines+markers\")\n",
    "    # x_line_fig.update_layout(yaxis=dict(range=[0, 200]))  # y軸を0から200に固定\n",
    "\n",
    "    # Y座標の推移を描画\n",
    "    y_line_fig = px.line(\n",
    "        combined_df,\n",
    "        x=\"time\",\n",
    "        y=\"y\",\n",
    "        color=\"type\",\n",
    "        labels={\"x\": \"Time\", \"y\": \"Y Position\", \"type\": \"Data Type\"},\n",
    "        title=\"User Y Position Over Time\",\n",
    "        range_y=[0, 200],  # y座標の範囲を指定\n",
    "    )\n",
    "    y_line_fig.update_traces(mode=\"lines+markers\")\n",
    "    # y_line_fig.update_layout(yaxis=dict(range=[0, 200]))  # y軸を0から200に固定\n",
    "\n",
    "    # グラフの表示\n",
    "    x_line_fig.show()\n",
    "    y_line_fig.show()"
   ]
  },
  {
   "cell_type": "code",
   "execution_count": 11,
   "metadata": {},
   "outputs": [
    {
     "data": {
      "text/plain": [
       "[0.010298094218708512,\n",
       " 7.608866481539232e-15,\n",
       " 0.006292010248362746,\n",
       " 2.0873934817807985e-16,\n",
       " 0.3976465201814108,\n",
       " 0.0016102375978208389,\n",
       " 4.59608699039641e-11,\n",
       " 1.1017957931798945e-08,\n",
       " 0.03247505087114702,\n",
       " 4.5203060083854045e-09,\n",
       " 1.883670190822728e-09,\n",
       " 0.021773060101523814,\n",
       " 0.014715803769801096,\n",
       " 7.075127377169149e-08,\n",
       " 0.09578469367131713,\n",
       " 0.11678939338257405,\n",
       " 0.004561325944116148,\n",
       " 1.3310701234830982e-37,\n",
       " 0.012545028476061133,\n",
       " 6.323286303450696e-07,\n",
       " 6.948656261605597e-20,\n",
       " 9.929333276341554e-05,\n",
       " 0.0005514010890164231,\n",
       " 2.3130558443772195e-11,\n",
       " 4.505340884426162e-16,\n",
       " 2.1899036402788477e-11,\n",
       " 3.572801467845295e-26,\n",
       " 2.6656925812619e-10,\n",
       " 3.7125371354027394e-07,\n",
       " 2.839209095061534e-10,\n",
       " 2.9206438841337774e-12,\n",
       " 3.56211651625372e-11,\n",
       " 5.664367401219193e-42,\n",
       " 3.9003594562187386e-05,\n",
       " 9.867481114875816e-17,\n",
       " 1.415231882150132e-44,\n",
       " 1.5617836430765584e-28,\n",
       " 2.8018446917812595e-08,\n",
       " 3.07159331898538e-11,\n",
       " 3.974316360805162e-14,\n",
       " 4.613904552852635e-08,\n",
       " 4.9736625586271144e-12,\n",
       " 0.03985777986431725,\n",
       " 4.487722502607755e-16,\n",
       " 4.9794630853351373e-11,\n",
       " 8.226973672829495e-21,\n",
       " 2.7374877071010246e-36,\n",
       " 0.0005334016470923798,\n",
       " 7.385720008470189e-16,\n",
       " 3.897690407862654e-33,\n",
       " 0.07136346640327386,\n",
       " 1.3045904898247939e-47,\n",
       " 8.476034953394009e-07,\n",
       " 0.0006705683509181152,\n",
       " 4.558339361303012e-12,\n",
       " 4.8535689743437424e-39,\n",
       " 0.014246630078643822,\n",
       " 8.034061559917387e-10,\n",
       " 8.543361851611786e-25,\n",
       " 2.505268664259299e-13,\n",
       " 0.002039200350519918,\n",
       " 3.8577845886397536e-19,\n",
       " 4.5380010287334435e-11,\n",
       " 4.687919394212963e-10,\n",
       " 0.03939098486988476,\n",
       " 6.919852257323039e-11,\n",
       " 6.328136334687452e-11,\n",
       " 7.802816430807919e-10,\n",
       " 1.1008097463620733e-16,\n",
       " 1.4098774719669573e-12,\n",
       " 0.0008452271430423955,\n",
       " 4.5818934836888166e-17,\n",
       " 0.013045040391588658,\n",
       " 8.802489826374979e-10,\n",
       " 0.0847246866250757,\n",
       " 3.616942263941497e-05,\n",
       " 1.863363782123792e-14,\n",
       " 8.118154178100496e-18,\n",
       " 3.3107930385036325e-10,\n",
       " 0.01087665656701913,\n",
       " 8.097834186813499e-10,\n",
       " 1.446518780670087e-06,\n",
       " 0.0968100270377222,\n",
       " 1.1425078238972795e-05,\n",
       " 6.624368581392369e-06,\n",
       " 8.423501808754177e-55,\n",
       " 3.207480122587289e-07,\n",
       " 5.093950130154769e-06,\n",
       " 0.045709266087296065,\n",
       " 0.042737157814839284,\n",
       " 0.02906055498959526,\n",
       " 0.0003577306872425579,\n",
       " 4.637587959986648e-05,\n",
       " 2.354690215976336e-26,\n",
       " 0.0035113403684962747,\n",
       " 0.0001770406511595129,\n",
       " 6.45222800183929e-13,\n",
       " 0.006368958884022253,\n",
       " 2.5066627450626114e-05,\n",
       " 2.2196842984036443e-10,\n",
       " 0.005224987801085504,\n",
       " 0.0015437097105593038,\n",
       " 1.1380457772556022e-08,\n",
       " 0.0021775255523262876,\n",
       " 1.0358422142740652e-32,\n",
       " 4.17349341539381e-34,\n",
       " 7.45190805323707e-23,\n",
       " 3.17983355507581e-21,\n",
       " 8.243105141959236e-25,\n",
       " 0.0006884619376069066,\n",
       " 1.2930303749096722e-16,\n",
       " 4.842852935959307e-09,\n",
       " 0.0024706573023535847,\n",
       " 0.00018169964690280664,\n",
       " 7.729568546195121e-12,\n",
       " 3.071457454445722e-05,\n",
       " 1.1377545576317232e-23,\n",
       " 0.0344081160591001,\n",
       " 2.332448606471208e-26,\n",
       " 0.0035659143063227084,\n",
       " 3.058832037750005e-06,\n",
       " 5.703823888120344e-25,\n",
       " 0.04519314305412423,\n",
       " 5.097334256321576e-08,\n",
       " 1.402583944126363e-13,\n",
       " 0.0009347640234036657,\n",
       " 0.010720025650633562,\n",
       " 2.652594312303749e-05,\n",
       " 7.986028389991147e-27,\n",
       " 8.491681177559323e-26,\n",
       " 6.493265785064786e-11,\n",
       " 0.009252234394624925,\n",
       " 1.124078658573616e-08,\n",
       " 0.102649142458325,\n",
       " 4.305202705454083e-51,\n",
       " 5.682011744026495e-06,\n",
       " 0.0010266610746180935,\n",
       " 0.0043164453916778815,\n",
       " 6.3554211195725815e-18,\n",
       " 7.957980551793884e-09,\n",
       " 8.007397205040248e-22,\n",
       " 2.29399324741996e-05,\n",
       " 6.510387238069668e-08,\n",
       " 3.300260969521519e-06,\n",
       " 1.2163725823273268e-09,\n",
       " 2.9285585318641408e-22,\n",
       " 0.000767434912783958,\n",
       " 7.55178628090521e-15,\n",
       " 2.6930980561927603e-46,\n",
       " 0.009463556652952997,\n",
       " 0.22880267327070203,\n",
       " 1.1029705107060017e-18,\n",
       " 0.0004453551633093423,\n",
       " 3.1884186566223287e-12,\n",
       " 1.5673365187553056e-05,\n",
       " 8.797786867266788e-06,\n",
       " 1.1766117206021853e-31,\n",
       " 1.2014591600339624e-10,\n",
       " 0.19790518752326675,\n",
       " 0.0014733321819634232,\n",
       " 6.137402279223775e-20,\n",
       " 1.7547258612905117e-13,\n",
       " 0.007958999191533603,\n",
       " 0.00017721767868076946,\n",
       " 0.006126390437086917,\n",
       " 4.6492312926532446e-05,\n",
       " 0.06446702081544664,\n",
       " 2.0609869676356868e-05,\n",
       " 1.891838977283216e-05,\n",
       " 0.08145275757287455,\n",
       " 0.000356561463225474,\n",
       " 0.008678820512093531,\n",
       " 0.009982164535733615,\n",
       " 0.0002772478434969283,\n",
       " 0.006710552560594029,\n",
       " 0.0013565199752067724,\n",
       " 0.1023885060990436,\n",
       " 0.023361729838757842,\n",
       " 2.2145994833910692e-13,\n",
       " 0.03216026031537558,\n",
       " 7.630987748179536e-16,\n",
       " 0.022162847453178078,\n",
       " 0.0013057741900326994,\n",
       " 0.009454116953215715,\n",
       " 3.908200015659945e-05,\n",
       " 0.18406115690874755,\n",
       " 0.0004451548182631313,\n",
       " 8.262157173337218e-07,\n",
       " 2.839320794773708e-17,\n",
       " 1.1328619693087349e-14,\n",
       " 1.1232363415750974e-06,\n",
       " 1.0827363390138893e-07,\n",
       " 3.737117877464311e-23,\n",
       " 2.730394490089187e-20,\n",
       " 1.3556764182587051e-37,\n",
       " 0.01841309517897729,\n",
       " 9.117069937848665e-14,\n",
       " 2.455271354218183e-17,\n",
       " 0.004144979826665243,\n",
       " 0.000828210416410535,\n",
       " 5.058832137363725e-39,\n",
       " 3.5308380090492833e-15,\n",
       " 9.230334332439414e-09,\n",
       " 0.0032742209974616103,\n",
       " 9.850251220010518e-08,\n",
       " 0.010014093350481484,\n",
       " 0.0008467200540427791,\n",
       " 0.2716038806570754,\n",
       " 7.686782032827785e-10,\n",
       " 0.0003616284314704429,\n",
       " 3.2098101847327587e-15,\n",
       " 6.165196374201685e-06,\n",
       " 3.647338671175433e-08,\n",
       " 2.703408064517244e-27,\n",
       " 4.783062349698767e-12,\n",
       " 3.381096773261532e-24,\n",
       " 0.040208423473894715,\n",
       " 0.015286895280053196,\n",
       " 0.003100280264205511,\n",
       " 4.035249683050189e-10,\n",
       " 1.0716002111852855e-05,\n",
       " 2.2780406737690317e-16,\n",
       " 1.0731862088422858e-11,\n",
       " 1.7411155417565235e-06,\n",
       " 5.053407332482601e-07,\n",
       " 0.01615542973305258,\n",
       " 5.086428235196079e-07,\n",
       " 0.00011621184297063863,\n",
       " 1.9168894525688576e-08,\n",
       " 1.072495363642965e-07,\n",
       " 0.00012864794117206196,\n",
       " 7.111416704875827e-43,\n",
       " 0.02965072407887579,\n",
       " 0.017451825054850312,\n",
       " 0.05176856983675595,\n",
       " 2.5797319781133025e-23,\n",
       " 2.3792394024181783e-21,\n",
       " 3.4501031417882093e-10,\n",
       " 0.0015919271764526027,\n",
       " 2.93555388297496e-19,\n",
       " 1.161186855859592e-21,\n",
       " 9.574402491903988e-12,\n",
       " 3.88041420309533e-08,\n",
       " 8.109028299963157e-13,\n",
       " 0.0040811868144580024,\n",
       " 2.637236683802859e-15,\n",
       " 0.0032495791671357083,\n",
       " 0.003595526716280039,\n",
       " 4.539540289312149e-11,\n",
       " 2.1899952066181183e-29,\n",
       " 0.0010041410330781382,\n",
       " 2.3823621127950843e-39,\n",
       " 0.005209507778723492,\n",
       " 0.001012569688935947,\n",
       " 1.1279318987494829e-11,\n",
       " 1.0084629897909424e-09,\n",
       " 3.2968641641457407e-06,\n",
       " 0.001082252717700821,\n",
       " 3.6013434105865655e-06,\n",
       " 7.501458832823391e-22,\n",
       " 0.0013970646043884997,\n",
       " 8.494746871684021e-30,\n",
       " 0.00010206394159704909,\n",
       " 7.393366076290852e-16,\n",
       " 1.4594072977583645e-09,\n",
       " 7.529470736936808e-20,\n",
       " 0.0009126283480875758,\n",
       " 1.0460472089130713e-28,\n",
       " 0.00023553916414208615,\n",
       " 1.3166317902806521e-23,\n",
       " 6.679515357948988e-24,\n",
       " 2.776468639035556e-25,\n",
       " 0.00040848884445887434,\n",
       " 0.001164374613575151,\n",
       " 1.4795206083116007e-12,\n",
       " 0.0005328653141896793,\n",
       " 0.2218205861794276,\n",
       " 9.491623794614172e-12,\n",
       " 1.4945454893060945e-19,\n",
       " 6.585619411325077e-14,\n",
       " 3.0192373423086916e-11,\n",
       " 1.4517386221561618e-13,\n",
       " 1.8708242040539433e-11,\n",
       " 1.0381828331944028e-16,\n",
       " 1.205391093366775e-17,\n",
       " 0.0002763447548540124,\n",
       " 0.0005988060220790996,\n",
       " 0.006934204255859481,\n",
       " 0.0011603332690984264,\n",
       " 3.896110525907851e-08,\n",
       " 1.3306245911839975e-07,\n",
       " 3.3115096092828956e-56,\n",
       " 1.3169332844295837e-25,\n",
       " 0.0007479785614875426,\n",
       " 5.462954428729009e-18,\n",
       " 3.906044050454239e-34,\n",
       " 5.288546763869678e-23,\n",
       " 1.4521246527285107e-09,\n",
       " 5.577540677503547e-13,\n",
       " 6.965345058870816e-13,\n",
       " 6.760883005809193e-15,\n",
       " 4.0682008931876956e-34,\n",
       " 0.0002604914405739235,\n",
       " 1.4705462675808323e-06,\n",
       " 5.608883109069346e-16,\n",
       " 1.0752296672872594e-12,\n",
       " 1.986813783646069e-17,\n",
       " 1.8736530634494247e-09,\n",
       " 8.571602182866751e-13,\n",
       " 8.328933132365629e-05,\n",
       " 0.004278122131936707,\n",
       " 5.3675132579718834e-05,\n",
       " 7.962330292236341e-07,\n",
       " 0.16383784617366157,\n",
       " 0.001635832883295702,\n",
       " 6.445304282617788e-25,\n",
       " 2.8586444009346787e-12,\n",
       " 0.00018702336566671306,\n",
       " 0.06113888520661752,\n",
       " 3.226603631999361e-36,\n",
       " 1.4239432571105934e-15,\n",
       " 1.6367816232973516e-46,\n",
       " 3.8144911479295907e-19,\n",
       " 0.007139107910007644,\n",
       " 2.068779245813199e-19,\n",
       " 0.02758020994018102,\n",
       " 0.001801623999070818,\n",
       " 0.017178891406340185,\n",
       " 1.3587805228822192e-08,\n",
       " 3.124970648858389e-17,\n",
       " 4.375847323362182e-39,\n",
       " 3.841145768626318e-07,\n",
       " 3.574860470103274e-14,\n",
       " 9.962340957956963e-24,\n",
       " 0.0004436911233057047,\n",
       " 1.91049301158962e-12,\n",
       " 2.503408985552066e-09,\n",
       " 0.0026912433237179356,\n",
       " 0.00033911505127099274,\n",
       " 1.4370184339009908e-25,\n",
       " 0.013379370232425815,\n",
       " 0.0015457154335495992,\n",
       " 5.898219148683914e-05,\n",
       " 9.948512327180796e-13,\n",
       " 1.0859863316200919e-10,\n",
       " 2.795494531201291e-07,\n",
       " 7.672549038512487e-15,\n",
       " 4.618170724777922e-11,\n",
       " 6.807443019779182e-12,\n",
       " 2.230944313711999e-11,\n",
       " 1.465195923236558e-11,\n",
       " 0.012003609676664634,\n",
       " 2.2055902754330253e-12,\n",
       " 7.729422579747499e-05,\n",
       " 0.0014505830697239127,\n",
       " 3.2339710326139817e-18,\n",
       " 9.229976163560541e-10,\n",
       " 2.5843289487838625e-14,\n",
       " 5.131381189760708e-21,\n",
       " 0.28333603873484103,\n",
       " 1.3625961303867637e-17,\n",
       " 3.752404315179879e-15,\n",
       " 1.4998464564204617e-22,\n",
       " 1.2135437691669633e-06,\n",
       " 4.841923822207158e-06,\n",
       " 4.875758502040491e-28,\n",
       " 0.00253936844179809,\n",
       " 0.0008745575977478862,\n",
       " 0.00028230362753920894,\n",
       " 3.0283548147451924e-07,\n",
       " 2.2234248789206075e-06,\n",
       " 0.04653274361816294,\n",
       " 0.0013378333627908454,\n",
       " 5.559132581065409e-44,\n",
       " 1.4431869314513221e-09,\n",
       " 2.6200542153889716e-19,\n",
       " 9.076221859547874e-20,\n",
       " 0.00021219168092398799,\n",
       " 7.715592874043314e-06,\n",
       " 4.0558510169301897e-26,\n",
       " 3.770659100613759e-24,\n",
       " 5.712251806191988e-13,\n",
       " 0.18534891150703242,\n",
       " 1.2304072324851148e-17,\n",
       " 0.007778865595410292,\n",
       " 0.0027653294871195183,\n",
       " 3.3734690721886907e-09,\n",
       " 1.4085432954906777e-26,\n",
       " 0.002540170646057574,\n",
       " 7.566696827080115e-09,\n",
       " 0.010782468564499686,\n",
       " 1.4738281034344344e-41,\n",
       " 6.010417107250221e-53,\n",
       " 6.853822661077507e-14,\n",
       " 3.645575408853288e-30,\n",
       " 4.165871458123238e-15,\n",
       " 1.9518773858567132e-25,\n",
       " 0.007001442096181031,\n",
       " 1.8677841082366588e-08,\n",
       " 3.109598505011976e-05,\n",
       " 4.320565286916245e-24,\n",
       " 0.006895506431049184,\n",
       " 1.100275927955545e-13,\n",
       " 1.0258261971493375e-19,\n",
       " 0.011817704222831342,\n",
       " 0.00022902175926695987,\n",
       " 0.012060672145193387,\n",
       " 5.483343363269355e-17,\n",
       " 3.57026599443522e-11,\n",
       " 2.0411786087105367e-10,\n",
       " 3.1689816076290106e-07,\n",
       " 4.4914490257677675e-09,\n",
       " 7.492223018960651e-08,\n",
       " 2.2508409616983037e-11,\n",
       " 6.152524468462521e-08,\n",
       " 2.7250062707608217e-11,\n",
       " 0.00025494021136545606,\n",
       " 6.71696285643803e-10,\n",
       " 0.005110746359128572,\n",
       " 1.107806711262189e-20,\n",
       " 1.0300662436077575e-16,\n",
       " 2.340553687179129e-08,\n",
       " 1.8775154940635723e-07,\n",
       " 2.0863283247722558e-08,\n",
       " 0.005149195576332861,\n",
       " 4.9610143154843e-06,\n",
       " 2.369933008399029e-45,\n",
       " 1.6202119855163302e-06,\n",
       " 3.1730653529370845e-26,\n",
       " 5.707745628962328e-35,\n",
       " 1.0855165031006865e-35,\n",
       " 3.871288167949405e-16,\n",
       " 8.788864828022118e-09,\n",
       " 0.006104408577536027,\n",
       " 2.9400315348704204e-05,\n",
       " 6.458680844985025e-32,\n",
       " 3.802662377421324e-05,\n",
       " 0.13391368691987823,\n",
       " 0.008094972429215369,\n",
       " 0.19538351822903008,\n",
       " 0.015744005893622574,\n",
       " 0.04004115075604231,\n",
       " 4.747443168702565e-31,\n",
       " 7.305495503752637e-05,\n",
       " 1.2204309430133892e-06,\n",
       " 2.1239519786235727e-10,\n",
       " 1.2485383707927076e-42,\n",
       " 8.064771728965434e-24,\n",
       " 3.974262039099599e-42,\n",
       " 4.808052605682623e-08,\n",
       " 0.014873012935780916,\n",
       " 7.894204597595664e-18,\n",
       " 1.2683320737681687e-21,\n",
       " 1.812649628821442e-32,\n",
       " 1.5091404038261212e-08,\n",
       " 1.2498269621608462e-16,\n",
       " 3.826012313323629e-21,\n",
       " 0.003719378859305156,\n",
       " 2.603437415464003e-11,\n",
       " 0.06861192423147096,\n",
       " 1.7290468863181783e-17,\n",
       " 0.14032818449472517,\n",
       " 4.854710127619495e-09,\n",
       " 1.5187348562955882e-13,\n",
       " 1.1397182278389056e-12,\n",
       " 7.577488131891557e-06,\n",
       " 0.03723186507023847,\n",
       " 3.919686961273084e-14,\n",
       " 4.434671028395953e-06,\n",
       " 3.4389040906613814e-14,\n",
       " 1.005708303417556e-25,\n",
       " 0.03788502875137767,\n",
       " 1.0816971565850553e-17,\n",
       " 1.4078452538125481e-61,\n",
       " 7.970938904599281e-15,\n",
       " 1.822218678313399e-08,\n",
       " 1.3706392761476873e-12,\n",
       " 3.00892814814525e-23,\n",
       " 0.00014495047589607637,\n",
       " 4.205308543205252e-11,\n",
       " 0.0030258444326682968,\n",
       " 2.949362752815743e-08,\n",
       " 1.1851784724560946e-06,\n",
       " 4.041149977481352e-05,\n",
       " 7.784298002711073e-19,\n",
       " 0.00034651160292408726,\n",
       " 0.00018558399944344805,\n",
       " 7.283670109039299e-33,\n",
       " 4.910284150113755e-16,\n",
       " 0.07296394596546514,\n",
       " 0.0008348688557385238,\n",
       " 0.13803525304115427,\n",
       " 8.901854472934579e-16,\n",
       " 2.343599187142214e-08,\n",
       " 0.0009600698321816259,\n",
       " 0.00014597760207685128,\n",
       " 7.426886841836499e-48,\n",
       " 0.060509666477447925,\n",
       " 0.00020727224379347013,\n",
       " 4.279183546957458e-05,\n",
       " 0.04394917912635587,\n",
       " 1.285101379685743e-21,\n",
       " 7.907919024192615e-18,\n",
       " 2.9660971814034796e-11,\n",
       " 0.03329882108801783,\n",
       " 0.008535770985339669,\n",
       " 4.927088691240727e-37,\n",
       " 0.16388351880283608,\n",
       " 0.014871882852184631,\n",
       " 1.0982310524436526e-15,\n",
       " 1.2638818491041741e-11,\n",
       " 0.00042034403959812866,\n",
       " 2.072965146102625e-12,\n",
       " 0.00015121676198413784,\n",
       " 6.855646815652199e-31,\n",
       " 0.14436524459055725,\n",
       " 0.00010752898011238901,\n",
       " 0.0027361519337033634,\n",
       " 0.09792131674684094,\n",
       " 5.074482268702084e-11,\n",
       " 2.743414140439147e-10,\n",
       " 1.803008679699426e-09,\n",
       " 3.977873411851915e-21,\n",
       " 0.008694945072911657,\n",
       " 1.4587844678402824e-10,\n",
       " 2.0645467793616972e-29,\n",
       " 0.0027460237064202567,\n",
       " 0.1263726375815832,\n",
       " 7.051987065049073e-47,\n",
       " 0.0012200832282822955,\n",
       " 0.0012228131016172113,\n",
       " 2.232281052618614e-25,\n",
       " 4.473655195839772e-17,\n",
       " 0.002163953997730681,\n",
       " 0.0005425221468313443,\n",
       " 0.02017119176314123,\n",
       " 0.0007952829465675805,\n",
       " 8.048013197346392e-15,\n",
       " 2.420984300697452e-14,\n",
       " 0.008340631179795645,\n",
       " 7.323574506956664e-08,\n",
       " 0.03820956382478815,\n",
       " 2.668432761302794e-17,\n",
       " 0.0006059628482759082,\n",
       " 0.0020021189237277993,\n",
       " 0.16541793266740856,\n",
       " 6.296846002418681e-06,\n",
       " 0.00022067264833956933,\n",
       " 6.663827916422938e-11,\n",
       " 3.031726626520569e-11,\n",
       " 0.013466000109887974,\n",
       " 0.010365484559947154,\n",
       " 1.4619567909066262e-07,\n",
       " 6.738853907735764e-18,\n",
       " 8.128277342554154e-12,\n",
       " 5.2043507469002495e-12,\n",
       " 0.0026276735874265437,\n",
       " 0.017884778056029605,\n",
       " 7.1301280084214764e-09,\n",
       " 0.0055276369127370915,\n",
       " 3.524862483602285e-14,\n",
       " 2.6474345546062456e-32,\n",
       " 1.8682698492648377e-05,\n",
       " 0.002192055117717852,\n",
       " 3.3865694515704094e-07,\n",
       " 1.5680615177193456e-05,\n",
       " 0.1502596048762312,\n",
       " 1.5024468455225732e-09,\n",
       " 0.006197637433147986,\n",
       " 0.13461062042698418,\n",
       " 1.839998769126731e-10,\n",
       " 5.81648766323158e-10,\n",
       " 1.7168832692664613e-24,\n",
       " 2.004054537719704e-06,\n",
       " 0.005601730500843869,\n",
       " 2.236335847068188e-15,\n",
       " 8.623930802919768e-08,\n",
       " 3.5369490146483126e-31,\n",
       " 0.04865112111119257,\n",
       " 3.6532615682839125e-16,\n",
       " 1.1077830397244846e-25,\n",
       " 0.00433640942148693,\n",
       " 4.422346489812288e-28,\n",
       " 0.0031290262679881794,\n",
       " 7.938446812868691e-07,\n",
       " 0.010746612158258085,\n",
       " 2.3931783514794238e-09,\n",
       " 5.669799189969515e-05,\n",
       " 0.006213123414990824,\n",
       " 4.769050123483103e-26,\n",
       " 0.008379560794995673,\n",
       " 1.3301582122412847e-08,\n",
       " 0.04789815206347667,\n",
       " 0.000449198433881374,\n",
       " 3.2129356138095668e-15,\n",
       " 1.8579062684178672e-11,\n",
       " 1.6747549757739767e-09,\n",
       " 1.703339946071522e-05,\n",
       " 4.2194922704049505e-06,\n",
       " 1.3149082637139243e-05,\n",
       " 2.851870514142317e-16,\n",
       " 0.025602908206198503,\n",
       " 1.3570112982720168e-16,\n",
       " 8.947759837262896e-07,\n",
       " 6.635790166001296e-14,\n",
       " 1.9666260015369435e-52,\n",
       " 0.07017157183027958,\n",
       " 0.00039868927964736037,\n",
       " 1.6200981701868755e-24,\n",
       " 0.00015300808716367883,\n",
       " 0.0013014478680149662,\n",
       " 3.349581040406501e-15,\n",
       " 5.159199829169774e-09,\n",
       " 0.01197746908903686,\n",
       " 0.010143994285862974,\n",
       " 2.473395948432494e-14,\n",
       " 1.2498804748682778e-10,\n",
       " 0.019569815431236978,\n",
       " 1.3610774351381994e-09,\n",
       " 1.032856739929242e-13,\n",
       " 5.2487671363607335e-21,\n",
       " 1.219744672851778e-05,\n",
       " 1.6318281520169987e-15,\n",
       " 2.902485881725073e-11,\n",
       " 7.864703073844464e-08,\n",
       " 2.44218146995977e-10,\n",
       " 2.462107465015305e-10,\n",
       " 0.0018485629670286405,\n",
       " 5.487169121173218e-14,\n",
       " 5.022059441365072e-34,\n",
       " 0.0024096189136883087,\n",
       " 0.005276247259909284,\n",
       " 1.008995189816241e-18,\n",
       " 9.493664948889198e-24,\n",
       " 1.517182316778798e-11,\n",
       " 0.1618459558200857,\n",
       " 0.00017207754989729068,\n",
       " 1.3935438340901716e-09,\n",
       " 5.6530564458697606e-05,\n",
       " 2.5067462784040782e-27,\n",
       " 9.416415682150646e-36,\n",
       " 2.9369265812782527e-09,\n",
       " 0.00017219812485309412,\n",
       " 0.01887866788943401,\n",
       " 1.7446881465617106e-05,\n",
       " 8.741715153454227e-32,\n",
       " 2.5336917311265443e-10,\n",
       " 2.2296664486113203e-18,\n",
       " 5.1609585892119686e-20,\n",
       " 2.9335243846310075e-11,\n",
       " 6.72608400522738e-41,\n",
       " 0.00022249670742147018,\n",
       " 4.8891994716563e-25,\n",
       " 0.010212623404148708,\n",
       " 0.0009779908414792567,\n",
       " 2.33910883803235e-38,\n",
       " 7.282433997265914e-16,\n",
       " 7.360252822196641e-10,\n",
       " 3.104863981267407e-05,\n",
       " 0.00030960776935088226,\n",
       " 0.08821457450749047,\n",
       " 2.745040522320257e-50,\n",
       " 1.0225368755418096e-10,\n",
       " 3.548557173785144e-25,\n",
       " 2.4786812724354566e-32,\n",
       " 6.938696130956086e-11,\n",
       " 3.13329467257966e-05,\n",
       " 0.0019325547019980068,\n",
       " 0.003073974169224517,\n",
       " 4.217184776162452e-23,\n",
       " 0.004000564859111635,\n",
       " 3.939042236355165e-10,\n",
       " 0.05481671941695488,\n",
       " 0.15475693187094552,\n",
       " 2.327110311354862e-38,\n",
       " 2.2480208715378304e-16,\n",
       " 4.5970575229296637e-14,\n",
       " 0.0002826661006315491,\n",
       " 1.1076828841902026e-09,\n",
       " 3.597460346336282e-08,\n",
       " 0.0018110015536245455,\n",
       " 0.0023367837087310537,\n",
       " 0.08179160412036195,\n",
       " 3.158918670553898e-20,\n",
       " 2.5293335776718642e-30,\n",
       " 0.0005607981329539996,\n",
       " 0.0006756263065481668,\n",
       " 1.2660320648215794e-15,\n",
       " 1.921317325372196e-33,\n",
       " 2.051452719487731e-15,\n",
       " 0.019163315312044252,\n",
       " 2.0014078894720552e-11,\n",
       " 2.0736806827850394e-08,\n",
       " 0.02966058672978415,\n",
       " 0.005457377948128026,\n",
       " 2.4414119702105745e-13,\n",
       " 5.380328513271795e-15,\n",
       " 4.217831290946102e-23,\n",
       " 1.2548551548672821e-11,\n",
       " 6.044001355140304e-11,\n",
       " 1.7131283302174418e-13,\n",
       " 0.001714107256592085,\n",
       " 4.272077640603965e-11,\n",
       " 7.147407297182286e-36,\n",
       " 0.005349900594517266,\n",
       " 1.395786403486171e-13,\n",
       " 0.0005732162306310235,\n",
       " 1.1363720261936752e-14,\n",
       " 1.924666527206038e-05,\n",
       " 8.773174269483005e-07,\n",
       " 0.0014557080846792083,\n",
       " 5.964096153617425e-13,\n",
       " 0.0016026537378946216,\n",
       " 1.481186107491339e-12,\n",
       " 0.022512576716713133,\n",
       " 2.4993750738516758e-14,\n",
       " 2.6168764255353384e-05,\n",
       " 0.000293506347665875,\n",
       " 5.31059876379468e-15,\n",
       " 2.8152278564424233e-11,\n",
       " 0.07202469991982094,\n",
       " 0.0004215299096631996,\n",
       " 0.02887185832861194,\n",
       " 1.1307183735365091e-05,\n",
       " 0.01364739653753283,\n",
       " 0.007006646282970543,\n",
       " 0.030323792747523438,\n",
       " 1.184106127927243e-10,\n",
       " 0.050268643821705435,\n",
       " 0.07858732261110149,\n",
       " 7.312581837144984e-11,\n",
       " 1.824643275485642e-05,\n",
       " 0.020482797070645223,\n",
       " 0.041550547732669973,\n",
       " 0.36469894648957407,\n",
       " 0.00012115318690412244,\n",
       " 5.353452375516906e-21,\n",
       " 0.0011355505064860945,\n",
       " 8.471608410329536e-12,\n",
       " 1.0662400415375585e-10,\n",
       " 1.4863447227996116e-39,\n",
       " 0.1183488313460149,\n",
       " 5.256435960478338e-12,\n",
       " 0.00017230433686349182,\n",
       " 1.5381224158194672e-28,\n",
       " 9.010568342287627e-16,\n",
       " 0.017998803201954107,\n",
       " 0.13317931522542256,\n",
       " 0.002113310957551717,\n",
       " 0.006279626009486708,\n",
       " 3.333423393390287e-16,\n",
       " 4.953752218001596e-10,\n",
       " 0.00836544120265235,\n",
       " 0.0019045650784767672,\n",
       " 1.1369305987628198e-17,\n",
       " 0.04853665000664667,\n",
       " 0.0004121972267771757,\n",
       " 2.273901802880898e-09,\n",
       " 7.207761541031652e-07,\n",
       " 1.277598222079578e-16,\n",
       " 3.781682329763801e-30,\n",
       " 2.0062184639525107e-06,\n",
       " 0.04246921492358049,\n",
       " 2.7851851184761087e-35,\n",
       " 3.2286613427278943e-07,\n",
       " 0.0012890750286854206,\n",
       " 9.46065912621361e-13,\n",
       " 1.7196114285528398e-19,\n",
       " 8.216334801114414e-09,\n",
       " 1.4724056912407535e-21,\n",
       " 0.00015067803538354013,\n",
       " 1.5456097318739348e-26,\n",
       " 2.3865081272228043e-15,\n",
       " 0.006625098971151449,\n",
       " 0.0006239932918042018,\n",
       " 0.0006346103641131846,\n",
       " 0.05785925734160917,\n",
       " 1.5019525005417396e-45,\n",
       " 0.007831231565438846,\n",
       " 2.738678924968284e-27,\n",
       " 0.00022469211192333626,\n",
       " 5.265564446236221e-08,\n",
       " 2.4259438935712312e-37,\n",
       " 6.810479034770785e-05,\n",
       " 9.223801445708976e-08,\n",
       " 3.479650364552843e-16,\n",
       " 7.063219565901769e-08,\n",
       " 8.268887283988804e-13,\n",
       " 3.7390067300296726e-06,\n",
       " 1.34962849786695e-34,\n",
       " 2.3817952893185667e-19,\n",
       " 9.264434793199089e-27,\n",
       " 5.390839581613924e-06,\n",
       " 3.976900823701584e-05,\n",
       " 1.676384242128012e-07,\n",
       " 1.1847732712460268e-22,\n",
       " 7.843423051920658e-12,\n",
       " 0.279052103738103,\n",
       " 0.002081659285745173,\n",
       " 2.454852171076623e-13,\n",
       " 7.927762167293681e-05,\n",
       " 7.51771305356759e-18,\n",
       " 7.310685619323288e-09,\n",
       " 9.64330729572737e-31,\n",
       " 0.010409137799258046,\n",
       " 0.06813112338381434,\n",
       " 3.495950395215827e-06,\n",
       " 0.008519986118230216,\n",
       " 8.800578898018235e-10,\n",
       " 7.745922151120789e-13,\n",
       " 9.931277823360209e-05,\n",
       " 9.74723319446938e-29,\n",
       " 1.7747560321727957e-16,\n",
       " 1.613467173608329e-13,\n",
       " 1.5458167638849105e-12,\n",
       " 8.734159524305288e-40,\n",
       " 0.010469558245978146,\n",
       " 7.364482233624762e-06,\n",
       " 0.0022315482924039694,\n",
       " 0.0011066488109564084,\n",
       " 0.0006642453016403504,\n",
       " 2.1769627926266856e-25,\n",
       " 0.008583359538509937,\n",
       " 2.7873209799835586e-11,\n",
       " 5.027277276522195e-13,\n",
       " 2.7538897385615746e-29,\n",
       " 6.102134059715543e-11,\n",
       " 0.0008204132936115,\n",
       " 6.239452632084623e-11,\n",
       " 0.000831985951860814,\n",
       " 0.009965576511167822,\n",
       " 0.0037233676123297125,\n",
       " 3.6176739964693275e-08,\n",
       " 0.0010072252588241583,\n",
       " 6.395506284360034e-05,\n",
       " 0.0007263836335656,\n",
       " 5.055894349284554e-36,\n",
       " 0.04339844260902594,\n",
       " 1.0945383640402015e-17,\n",
       " 1.61519202198468e-12,\n",
       " 1.4474753191246758e-24,\n",
       " 0.0006104271281200038,\n",
       " 1.4723450254706026e-38,\n",
       " 0.007014437908781749,\n",
       " 2.4945983124764e-18,\n",
       " 1.2875102147137823e-14,\n",
       " 1.0952267276579597e-13,\n",
       " 3.997462181835762e-23,\n",
       " 2.2488613712290673e-06,\n",
       " 4.09090702520538e-18,\n",
       " 1.3995630343872199e-12,\n",
       " 2.374236401077099e-16,\n",
       " 5.929526573192663e-18,\n",
       " 1.434043970213937e-08,\n",
       " 0.002554246439764196,\n",
       " 0.004210755035424014,\n",
       " 2.492404544688612e-16,\n",
       " 1.5572377234884138e-07,\n",
       " 0.02693404946927332,\n",
       " 9.237594494535601e-16,\n",
       " 0.0018479055086048433,\n",
       " 0.013773979342559936,\n",
       " 0.0074722292700539344,\n",
       " 0.007053651960155605,\n",
       " 1.7215386982366157e-37,\n",
       " 0.13487814662484338,\n",
       " 3.1502105521103133e-09,\n",
       " 0.0018267397571253999,\n",
       " 0.06432928493556266,\n",
       " 7.51696322887903e-12,\n",
       " 0.2217974200495407,\n",
       " 1.5715581630330063e-14,\n",
       " 7.967228279316163e-07,\n",
       " 5.17662658772704e-24,\n",
       " 0.001105892691000864,\n",
       " 1.1364178808657299e-12,\n",
       " 0.012606536755230687,\n",
       " 0.09009139234876165,\n",
       " 2.6754609032593483e-10,\n",
       " 0.021460631005683108,\n",
       " 0.0007378217135672602,\n",
       " 5.377996280319596e-61,\n",
       " 4.5405966976640303e-07,\n",
       " 1.734515573329584e-16,\n",
       " 0.004256015948479268,\n",
       " 5.474513370494253e-28,\n",
       " 6.091347045962332e-35,\n",
       " 1.3922173692576677e-09,\n",
       " 4.6832646477213664e-17,\n",
       " 0.005550451221759237,\n",
       " 5.666254824929006e-16,\n",
       " 0.0004768319801343379,\n",
       " 6.68457750955288e-11,\n",
       " 0.03075008253905822,\n",
       " 2.5507829724288417e-13,\n",
       " 0.02276760283593526,\n",
       " 0.017411646708408682,\n",
       " 2.293847947058593e-12,\n",
       " 1.2742554492030904e-31,\n",
       " 8.276312522183718e-11,\n",
       " 2.9537424400545684e-06,\n",
       " 0.11288472714636626,\n",
       " 7.022252668128662e-13,\n",
       " 5.594810580405973e-05,\n",
       " 1.3986317277577348e-33,\n",
       " 1.5759387991862783e-11,\n",
       " 9.278903974082231e-42,\n",
       " 0.04266005725880027,\n",
       " 5.377483499577308e-05,\n",
       " 0.06711762152678372,\n",
       " 4.2267361843927055e-05,\n",
       " 3.584147792670219e-32,\n",
       " 3.2983461147157874e-09,\n",
       " 1.2133259946849044e-15,\n",
       " 1.9243910344044746e-09,\n",
       " 3.521713602435152e-11,\n",
       " 0.0024321310828385725,\n",
       " 4.8553026309345205e-30,\n",
       " 2.0301471546723345e-28,\n",
       " 8.19010327523121e-12,\n",
       " 0.0004926727887355909,\n",
       " 3.9534961738725396e-06,\n",
       " 1.5331818106019824e-06,\n",
       " 0.09509728067765509,\n",
       " 8.883852651984212e-17,\n",
       " 1.2808461357491655e-12,\n",
       " 0.0001446019530724144,\n",
       " 6.473848760327293e-29,\n",
       " 0.0003798479433033805,\n",
       " 2.6851167056762706e-09,\n",
       " 5.792420784058424e-08,\n",
       " 2.9099860274498507e-41,\n",
       " 0.002136269638670614,\n",
       " 0.0011145680236751487,\n",
       " 6.424993238544588e-16,\n",
       " 7.331627746407354e-05,\n",
       " 2.448440624078846e-10,\n",
       " 2.4892448009865835e-44,\n",
       " 0.002930851995600235,\n",
       " 1.4788722757200633e-30,\n",
       " 4.094909079164185e-05,\n",
       " 0.023017040628637478,\n",
       " 9.09479696676446e-22,\n",
       " 0.014943071542335273,\n",
       " 0.0023644035514770296,\n",
       " 2.8038143963553134e-12,\n",
       " 0.020531354086720282,\n",
       " 6.132090929109626e-16,\n",
       " 4.1976781370249894e-10,\n",
       " 1.6102032263667865e-08,\n",
       " 0.002253239869391972,\n",
       " 8.179692563007453e-05,\n",
       " 1.9093391027414157e-21,\n",
       " 1.7692688214002811e-12,\n",
       " 8.839724684801939e-33,\n",
       " 0.13417266831613225,\n",
       " 1.2946761792433392e-08,\n",
       " 1.2151930966151035e-20,\n",
       " 1.4906718467407602e-12,\n",
       " 0.009221653188835223,\n",
       " 2.186600731627183e-06,\n",
       " 0.09248242684255864,\n",
       " 0.004230959202353957,\n",
       " 1.9394543864065463e-18,\n",
       " 3.8076771324202784e-05,\n",
       " 2.567752354810375e-07,\n",
       " 0.03367731417072825,\n",
       " 3.063488086476092e-39,\n",
       " 6.961586292196402e-13,\n",
       " 0.00671327922815609,\n",
       " 1.562478259147702e-08,\n",
       " 1.6569028086869754e-08,\n",
       " 9.869749753293284e-30,\n",
       " 0.000913808515260175,\n",
       " 5.583720238944643e-17,\n",
       " 0.0033098184265197422,\n",
       " 4.4510466496891093e-13,\n",
       " 0.00017459999422377587,\n",
       " 1.1490533285416215e-26,\n",
       " 0.012127221491199628,\n",
       " 0.0020832807713417273,\n",
       " 7.762329647588006e-17,\n",
       " 0.0003732905706269394,\n",
       " 0.00015286309643351397,\n",
       " 1.2201601355065677e-19,\n",
       " 0.01697533074630258,\n",
       " 1.8513433144379508e-10,\n",
       " 9.815512488773868e-07,\n",
       " 9.505125387999418e-05,\n",
       " 0.00018395283370774404,\n",
       " 4.7576785549908745e-06,\n",
       " 0.0021807098513209828,\n",
       " 1.355263468949839e-25,\n",
       " 1.2542243009655149e-43,\n",
       " 5.08172944438137e-16,\n",
       " 0.08434244785526866,\n",
       " 6.442812657620136e-08,\n",
       " 0.05408659768280909,\n",
       " 0.0014712699645987113,\n",
       " 7.245078770147656e-08,\n",
       " ...]"
      ]
     },
     "execution_count": 11,
     "metadata": {},
     "output_type": "execute_result"
    }
   ],
   "source": [
    "list_geobleu_val"
   ]
  },
  {
   "cell_type": "code",
   "execution_count": 45,
   "metadata": {},
   "outputs": [],
   "source": [
    "test_case = 20018"
   ]
  },
  {
   "cell_type": "code",
   "execution_count": 46,
   "metadata": {},
   "outputs": [
    {
     "data": {
      "application/vnd.plotly.v1+json": {
       "config": {
        "plotlyServerURL": "https://plot.ly"
       },
       "data": [
        {
         "hovertemplate": "User ID=20018<br>time=%{x}<br>Time=%{y}<extra></extra>",
         "legendgroup": "20018",
         "line": {
          "color": "#636efa",
          "dash": "solid"
         },
         "marker": {
          "symbol": "circle"
         },
         "mode": "lines+markers",
         "name": "20018",
         "orientation": "v",
         "showlegend": true,
         "type": "scatter",
         "x": [
          211,
          212,
          213,
          214,
          215,
          225,
          226,
          227,
          252,
          254,
          255,
          256,
          264,
          274,
          275,
          276,
          310,
          311,
          312,
          317,
          318,
          320,
          321,
          322,
          323,
          324,
          444,
          447,
          448,
          461,
          462,
          465,
          466,
          468,
          469,
          501,
          503,
          504,
          507,
          510,
          511,
          512,
          514,
          540,
          541,
          543,
          544,
          554,
          556,
          557,
          559,
          560,
          590,
          591,
          592,
          599,
          600,
          601,
          602,
          603,
          605,
          606,
          609,
          610,
          649,
          650,
          651,
          652,
          653,
          654,
          656,
          658,
          661,
          662,
          693,
          700,
          701,
          702,
          705,
          706,
          707,
          708,
          735,
          743,
          745,
          746,
          747,
          748,
          749,
          750,
          755,
          759,
          760,
          761,
          783,
          784,
          793,
          794,
          795,
          796,
          800,
          801,
          802,
          803,
          829,
          832,
          833,
          843,
          844,
          846,
          847,
          851,
          852,
          876,
          877,
          879,
          880,
          884,
          885,
          886,
          887,
          888,
          889,
          890,
          894,
          895,
          897,
          902,
          903,
          907,
          929,
          930,
          940,
          941,
          945,
          946,
          947,
          964,
          966,
          985,
          986,
          987,
          988,
          989,
          990,
          991,
          992,
          993,
          1034,
          1036,
          1037,
          1038,
          1056,
          1057,
          1068,
          1069,
          1077,
          1078,
          1079,
          1080,
          1081,
          1082,
          1084,
          1086,
          1089,
          1090,
          1091,
          1092,
          1121,
          1126,
          1127,
          1128,
          1129,
          1130,
          1131,
          1132,
          1136,
          1137,
          1140,
          1141,
          1164,
          1165,
          1167,
          1168,
          1173,
          1174,
          1176,
          1177,
          1186,
          1187,
          1215,
          1216,
          1218,
          1219,
          1221,
          1225,
          1226,
          1229,
          1230,
          1231,
          1232,
          1234,
          1261,
          1262,
          1263,
          1264,
          1268,
          1270,
          1271,
          1272,
          1276,
          1277,
          1278,
          1279,
          1281,
          1282,
          1283,
          1284,
          1317,
          1318,
          1319,
          1321,
          1322,
          1324,
          1326,
          1327,
          1328,
          1339,
          1340,
          1341,
          1366,
          1368,
          1369,
          1370,
          1371,
          1372,
          1375,
          1376,
          1377,
          1418,
          1419,
          1422,
          1423,
          1424,
          1425,
          1426,
          1453,
          1455,
          1456,
          1458,
          1459,
          1461,
          1462,
          1468,
          1472,
          1473,
          1475,
          1476,
          1500,
          1501,
          1505,
          1516,
          1517,
          1518,
          1519,
          1520,
          1521,
          1522,
          1549,
          1556,
          1557,
          1561,
          1567,
          1568,
          1569,
          1570,
          1597,
          1598,
          1599,
          1600,
          1610,
          1611,
          1613,
          1614,
          1617,
          1618,
          1645,
          1658,
          1659,
          1660,
          1661,
          1662,
          1664,
          1665,
          1674,
          1675,
          1699,
          1700,
          1705,
          1706,
          1707,
          1709,
          1710,
          1711,
          1712,
          1713,
          1714,
          1715,
          1749,
          1753,
          1756,
          1758,
          1759,
          1760,
          1761,
          1762,
          1763,
          1764,
          1769,
          1770,
          1771,
          1772,
          1806,
          1807,
          1809,
          1837,
          1838,
          1844,
          1847,
          1848,
          1849,
          1852,
          1853,
          1854,
          1858,
          1859,
          1884,
          1885,
          1889,
          1895,
          1896,
          1897,
          1898,
          1899,
          1903,
          1904,
          1906,
          1907,
          1930,
          1933,
          1935,
          1936,
          1941,
          1942,
          1945,
          1946,
          1947,
          1948,
          1949,
          1950,
          1953,
          1954,
          1981,
          1986,
          1991,
          1993,
          1995,
          1996,
          1997,
          2001,
          2002,
          2043,
          2044,
          2049,
          2050,
          2084,
          2085,
          2086,
          2087,
          2091,
          2092,
          2095,
          2096,
          2097,
          2098,
          2099,
          2101,
          2125,
          2127,
          2128,
          2135,
          2136,
          2141,
          2142,
          2143,
          2144,
          2145,
          2146,
          2173,
          2177,
          2178,
          2179,
          2180,
          2182,
          2184,
          2191,
          2192,
          2194,
          2195,
          2221,
          2223,
          2224,
          2230,
          2231,
          2232,
          2239,
          2240,
          2243,
          2244,
          2268,
          2269,
          2275,
          2276,
          2283,
          2284,
          2285,
          2290,
          2291,
          2292,
          2294,
          2320,
          2321,
          2322,
          2323,
          2324,
          2328,
          2329,
          2330,
          2332,
          2334,
          2341,
          2342,
          2371,
          2372,
          2373,
          2374,
          2387,
          2418,
          2419,
          2421,
          2422,
          2423,
          2424,
          2425,
          2426,
          2429,
          2430,
          2432,
          2433,
          2434,
          2435,
          2440,
          2467,
          2468,
          2474,
          2475,
          2476,
          2479,
          2480,
          2481,
          2482,
          2483,
          2509,
          2515,
          2516,
          2526,
          2527,
          2528,
          2529,
          2530,
          2557,
          2558,
          2572,
          2573,
          2574,
          2578,
          2579,
          2605,
          2608,
          2617,
          2619,
          2620,
          2621,
          2622,
          2623,
          2625,
          2626,
          2664,
          2665,
          2667,
          2668,
          2669,
          2670,
          2673,
          2674,
          2707,
          2708,
          2709,
          2710,
          2713,
          2716,
          2717,
          2718,
          2751,
          2752,
          2759,
          2760,
          2761,
          2764,
          2769,
          2770,
          2771,
          2772,
          2773,
          2797,
          2802,
          2807,
          2808,
          2809,
          2810,
          2811,
          2812,
          2813,
          2814,
          2816,
          2818,
          2819,
          2845,
          2852,
          2859,
          2861,
          2863,
          2865,
          2866,
          2867,
          2893,
          2898,
          2899,
          2903,
          2904,
          2906,
          2907,
          2908,
          2909,
          2910,
          2913,
          2914,
          2940,
          2941,
          2948,
          2949,
          2950,
          2951,
          2953,
          2957,
          2961,
          2962,
          2999,
          3003,
          3004,
          3006,
          3007,
          3008,
          3009,
          3048,
          3049,
          3051,
          3054,
          3055,
          3056,
          3057,
          3084,
          3085,
          3092,
          3093,
          3095,
          3096,
          3100,
          3101,
          3108,
          3109,
          3133,
          3137,
          3138,
          3144,
          3145,
          3147,
          3152,
          3153,
          3155,
          3156,
          3180,
          3181,
          3183,
          3184,
          3185,
          3191,
          3192,
          3194,
          3200,
          3202,
          3203,
          3229,
          3232,
          3236,
          3237,
          3238,
          3240,
          3241,
          3242,
          3243,
          3244,
          3246,
          3277,
          3281,
          3285,
          3287,
          3288,
          3290,
          3291,
          3293,
          3299,
          3300,
          3301,
          3333,
          3335,
          3336,
          3339,
          3342,
          3343,
          3344,
          3384,
          3385,
          3386,
          3389,
          3390,
          3391,
          3394,
          3420,
          3421,
          3427,
          3428,
          3432,
          3433,
          3434,
          3435,
          3436,
          3439,
          3440,
          3441,
          3452,
          3468,
          3469,
          3470,
          3473,
          3474,
          3479,
          3480,
          3481,
          3483,
          3489,
          3490,
          3491,
          3516,
          3517,
          3523,
          3530,
          3531,
          3532,
          3537,
          3538,
          3540,
          3541,
          3542,
          3564,
          3565,
          3573,
          3574,
          3578,
          3579,
          3580,
          3583,
          3584,
          3585,
          3586
         ],
         "xaxis": "x",
         "y": [
          78,
          77,
          78,
          72,
          77,
          78,
          76,
          77,
          77,
          79,
          80,
          78,
          78,
          78,
          78,
          77,
          76,
          74,
          74,
          78,
          78,
          77,
          72,
          76,
          79,
          77,
          78,
          77,
          77,
          76,
          77,
          77,
          78,
          79,
          78,
          73,
          78,
          74,
          74,
          74,
          78,
          78,
          78,
          77,
          78,
          78,
          77,
          77,
          77,
          73,
          76,
          77,
          78,
          80,
          77,
          78,
          78,
          75,
          76,
          77,
          77,
          78,
          79,
          77,
          79,
          81,
          83,
          75,
          75,
          78,
          75,
          74,
          76,
          77,
          77,
          76,
          76,
          77,
          77,
          78,
          79,
          78,
          78,
          78,
          77,
          73,
          75,
          73,
          72,
          75,
          78,
          76,
          76,
          79,
          78,
          79,
          77,
          78,
          77,
          78,
          72,
          77,
          79,
          76,
          78,
          79,
          77,
          77,
          77,
          78,
          78,
          79,
          79,
          77,
          80,
          78,
          77,
          76,
          77,
          78,
          78,
          73,
          72,
          74,
          79,
          79,
          77,
          78,
          73,
          78,
          78,
          77,
          77,
          77,
          79,
          78,
          78,
          77,
          77,
          76,
          77,
          78,
          78,
          73,
          78,
          77,
          76,
          77,
          78,
          75,
          76,
          77,
          76,
          77,
          78,
          78,
          77,
          77,
          78,
          74,
          77,
          77,
          77,
          78,
          78,
          78,
          78,
          78,
          78,
          75,
          80,
          79,
          78,
          72,
          72,
          78,
          78,
          78,
          79,
          78,
          78,
          78,
          79,
          79,
          74,
          73,
          73,
          75,
          77,
          77,
          78,
          77,
          76,
          78,
          79,
          78,
          75,
          77,
          79,
          78,
          72,
          77,
          78,
          78,
          77,
          77,
          76,
          76,
          78,
          77,
          78,
          72,
          77,
          78,
          78,
          77,
          76,
          77,
          76,
          76,
          77,
          77,
          78,
          77,
          78,
          79,
          76,
          78,
          78,
          77,
          76,
          76,
          78,
          97,
          134,
          78,
          81,
          110,
          148,
          132,
          137,
          135,
          134,
          117,
          77,
          76,
          78,
          78,
          78,
          78,
          79,
          77,
          77,
          78,
          79,
          78,
          79,
          77,
          78,
          78,
          77,
          78,
          78,
          76,
          72,
          78,
          78,
          77,
          77,
          79,
          78,
          78,
          74,
          72,
          78,
          79,
          78,
          78,
          78,
          77,
          76,
          77,
          78,
          78,
          78,
          77,
          76,
          77,
          78,
          73,
          72,
          78,
          78,
          77,
          76,
          77,
          78,
          78,
          74,
          74,
          74,
          74,
          75,
          74,
          78,
          78,
          76,
          77,
          79,
          79,
          79,
          78,
          78,
          77,
          77,
          78,
          79,
          77,
          76,
          78,
          76,
          77,
          76,
          76,
          77,
          77,
          78,
          78,
          79,
          77,
          78,
          76,
          76,
          78,
          78,
          76,
          77,
          78,
          79,
          79,
          72,
          78,
          76,
          77,
          78,
          78,
          78,
          76,
          76,
          79,
          79,
          78,
          76,
          77,
          78,
          72,
          74,
          73,
          77,
          78,
          77,
          77,
          78,
          79,
          78,
          73,
          78,
          79,
          77,
          76,
          77,
          78,
          78,
          77,
          79,
          79,
          78,
          77,
          79,
          76,
          77,
          78,
          72,
          73,
          78,
          79,
          79,
          78,
          78,
          77,
          76,
          76,
          79,
          77,
          77,
          79,
          79,
          77,
          78,
          78,
          78,
          77,
          76,
          77,
          76,
          77,
          78,
          78,
          77,
          78,
          79,
          77,
          77,
          75,
          78,
          78,
          77,
          78,
          77,
          77,
          78,
          79,
          77,
          75,
          77,
          78,
          78,
          77,
          78,
          78,
          79,
          77,
          76,
          76,
          76,
          76,
          75,
          77,
          79,
          78,
          78,
          77,
          76,
          78,
          78,
          82,
          78,
          78,
          77,
          79,
          78,
          80,
          81,
          90,
          114,
          83,
          80,
          74,
          72,
          70,
          76,
          78,
          72,
          76,
          77,
          72,
          78,
          72,
          72,
          75,
          78,
          77,
          78,
          78,
          77,
          77,
          73,
          76,
          79,
          77,
          80,
          78,
          78,
          75,
          72,
          79,
          77,
          80,
          77,
          77,
          77,
          76,
          77,
          72,
          78,
          76,
          76,
          77,
          78,
          78,
          79,
          79,
          78,
          72,
          72,
          78,
          78,
          78,
          78,
          78,
          76,
          77,
          78,
          80,
          77,
          75,
          78,
          78,
          77,
          74,
          72,
          79,
          78,
          77,
          78,
          78,
          77,
          85,
          72,
          76,
          77,
          77,
          75,
          78,
          78,
          79,
          79,
          77,
          79,
          76,
          77,
          77,
          78,
          76,
          77,
          78,
          79,
          77,
          76,
          77,
          77,
          72,
          78,
          79,
          77,
          76,
          76,
          78,
          78,
          77,
          75,
          76,
          76,
          77,
          78,
          78,
          77,
          76,
          78,
          78,
          73,
          78,
          76,
          77,
          76,
          77,
          77,
          76,
          77,
          76,
          77,
          76,
          78,
          78,
          77,
          76,
          77,
          78,
          78,
          79,
          77,
          78,
          76,
          77,
          77,
          78,
          73,
          74,
          78,
          79,
          79,
          77,
          79,
          78,
          79,
          80,
          76,
          78,
          79,
          78,
          78,
          76,
          78,
          77,
          75,
          76,
          77,
          76,
          78,
          78,
          77,
          76,
          76,
          78,
          77,
          76,
          76,
          77,
          78,
          78,
          72,
          79,
          75,
          77,
          77,
          76,
          77,
          78,
          77,
          75,
          77,
          75,
          75,
          78,
          78,
          77,
          76,
          76,
          77,
          78,
          77,
          77,
          76,
          77,
          77,
          79,
          78,
          77,
          77,
          77,
          77,
          79,
          78,
          78,
          78,
          77,
          76,
          73,
          77,
          78,
          77,
          79,
          76,
          76,
          78,
          77,
          76,
          72,
          78,
          76,
          76,
          79,
          78,
          77,
          78,
          78,
          76,
          77,
          78,
          72,
          78,
          77,
          78,
          76,
          77
         ],
         "yaxis": "y"
        }
       ],
       "layout": {
        "legend": {
         "title": {
          "text": "User ID"
         },
         "tracegroupgap": 0
        },
        "template": {
         "data": {
          "bar": [
           {
            "error_x": {
             "color": "#2a3f5f"
            },
            "error_y": {
             "color": "#2a3f5f"
            },
            "marker": {
             "line": {
              "color": "#E5ECF6",
              "width": 0.5
             },
             "pattern": {
              "fillmode": "overlay",
              "size": 10,
              "solidity": 0.2
             }
            },
            "type": "bar"
           }
          ],
          "barpolar": [
           {
            "marker": {
             "line": {
              "color": "#E5ECF6",
              "width": 0.5
             },
             "pattern": {
              "fillmode": "overlay",
              "size": 10,
              "solidity": 0.2
             }
            },
            "type": "barpolar"
           }
          ],
          "carpet": [
           {
            "aaxis": {
             "endlinecolor": "#2a3f5f",
             "gridcolor": "white",
             "linecolor": "white",
             "minorgridcolor": "white",
             "startlinecolor": "#2a3f5f"
            },
            "baxis": {
             "endlinecolor": "#2a3f5f",
             "gridcolor": "white",
             "linecolor": "white",
             "minorgridcolor": "white",
             "startlinecolor": "#2a3f5f"
            },
            "type": "carpet"
           }
          ],
          "choropleth": [
           {
            "colorbar": {
             "outlinewidth": 0,
             "ticks": ""
            },
            "type": "choropleth"
           }
          ],
          "contour": [
           {
            "colorbar": {
             "outlinewidth": 0,
             "ticks": ""
            },
            "colorscale": [
             [
              0,
              "#0d0887"
             ],
             [
              0.1111111111111111,
              "#46039f"
             ],
             [
              0.2222222222222222,
              "#7201a8"
             ],
             [
              0.3333333333333333,
              "#9c179e"
             ],
             [
              0.4444444444444444,
              "#bd3786"
             ],
             [
              0.5555555555555556,
              "#d8576b"
             ],
             [
              0.6666666666666666,
              "#ed7953"
             ],
             [
              0.7777777777777778,
              "#fb9f3a"
             ],
             [
              0.8888888888888888,
              "#fdca26"
             ],
             [
              1,
              "#f0f921"
             ]
            ],
            "type": "contour"
           }
          ],
          "contourcarpet": [
           {
            "colorbar": {
             "outlinewidth": 0,
             "ticks": ""
            },
            "type": "contourcarpet"
           }
          ],
          "heatmap": [
           {
            "colorbar": {
             "outlinewidth": 0,
             "ticks": ""
            },
            "colorscale": [
             [
              0,
              "#0d0887"
             ],
             [
              0.1111111111111111,
              "#46039f"
             ],
             [
              0.2222222222222222,
              "#7201a8"
             ],
             [
              0.3333333333333333,
              "#9c179e"
             ],
             [
              0.4444444444444444,
              "#bd3786"
             ],
             [
              0.5555555555555556,
              "#d8576b"
             ],
             [
              0.6666666666666666,
              "#ed7953"
             ],
             [
              0.7777777777777778,
              "#fb9f3a"
             ],
             [
              0.8888888888888888,
              "#fdca26"
             ],
             [
              1,
              "#f0f921"
             ]
            ],
            "type": "heatmap"
           }
          ],
          "heatmapgl": [
           {
            "colorbar": {
             "outlinewidth": 0,
             "ticks": ""
            },
            "colorscale": [
             [
              0,
              "#0d0887"
             ],
             [
              0.1111111111111111,
              "#46039f"
             ],
             [
              0.2222222222222222,
              "#7201a8"
             ],
             [
              0.3333333333333333,
              "#9c179e"
             ],
             [
              0.4444444444444444,
              "#bd3786"
             ],
             [
              0.5555555555555556,
              "#d8576b"
             ],
             [
              0.6666666666666666,
              "#ed7953"
             ],
             [
              0.7777777777777778,
              "#fb9f3a"
             ],
             [
              0.8888888888888888,
              "#fdca26"
             ],
             [
              1,
              "#f0f921"
             ]
            ],
            "type": "heatmapgl"
           }
          ],
          "histogram": [
           {
            "marker": {
             "pattern": {
              "fillmode": "overlay",
              "size": 10,
              "solidity": 0.2
             }
            },
            "type": "histogram"
           }
          ],
          "histogram2d": [
           {
            "colorbar": {
             "outlinewidth": 0,
             "ticks": ""
            },
            "colorscale": [
             [
              0,
              "#0d0887"
             ],
             [
              0.1111111111111111,
              "#46039f"
             ],
             [
              0.2222222222222222,
              "#7201a8"
             ],
             [
              0.3333333333333333,
              "#9c179e"
             ],
             [
              0.4444444444444444,
              "#bd3786"
             ],
             [
              0.5555555555555556,
              "#d8576b"
             ],
             [
              0.6666666666666666,
              "#ed7953"
             ],
             [
              0.7777777777777778,
              "#fb9f3a"
             ],
             [
              0.8888888888888888,
              "#fdca26"
             ],
             [
              1,
              "#f0f921"
             ]
            ],
            "type": "histogram2d"
           }
          ],
          "histogram2dcontour": [
           {
            "colorbar": {
             "outlinewidth": 0,
             "ticks": ""
            },
            "colorscale": [
             [
              0,
              "#0d0887"
             ],
             [
              0.1111111111111111,
              "#46039f"
             ],
             [
              0.2222222222222222,
              "#7201a8"
             ],
             [
              0.3333333333333333,
              "#9c179e"
             ],
             [
              0.4444444444444444,
              "#bd3786"
             ],
             [
              0.5555555555555556,
              "#d8576b"
             ],
             [
              0.6666666666666666,
              "#ed7953"
             ],
             [
              0.7777777777777778,
              "#fb9f3a"
             ],
             [
              0.8888888888888888,
              "#fdca26"
             ],
             [
              1,
              "#f0f921"
             ]
            ],
            "type": "histogram2dcontour"
           }
          ],
          "mesh3d": [
           {
            "colorbar": {
             "outlinewidth": 0,
             "ticks": ""
            },
            "type": "mesh3d"
           }
          ],
          "parcoords": [
           {
            "line": {
             "colorbar": {
              "outlinewidth": 0,
              "ticks": ""
             }
            },
            "type": "parcoords"
           }
          ],
          "pie": [
           {
            "automargin": true,
            "type": "pie"
           }
          ],
          "scatter": [
           {
            "fillpattern": {
             "fillmode": "overlay",
             "size": 10,
             "solidity": 0.2
            },
            "type": "scatter"
           }
          ],
          "scatter3d": [
           {
            "line": {
             "colorbar": {
              "outlinewidth": 0,
              "ticks": ""
             }
            },
            "marker": {
             "colorbar": {
              "outlinewidth": 0,
              "ticks": ""
             }
            },
            "type": "scatter3d"
           }
          ],
          "scattercarpet": [
           {
            "marker": {
             "colorbar": {
              "outlinewidth": 0,
              "ticks": ""
             }
            },
            "type": "scattercarpet"
           }
          ],
          "scattergeo": [
           {
            "marker": {
             "colorbar": {
              "outlinewidth": 0,
              "ticks": ""
             }
            },
            "type": "scattergeo"
           }
          ],
          "scattergl": [
           {
            "marker": {
             "colorbar": {
              "outlinewidth": 0,
              "ticks": ""
             }
            },
            "type": "scattergl"
           }
          ],
          "scattermapbox": [
           {
            "marker": {
             "colorbar": {
              "outlinewidth": 0,
              "ticks": ""
             }
            },
            "type": "scattermapbox"
           }
          ],
          "scatterpolar": [
           {
            "marker": {
             "colorbar": {
              "outlinewidth": 0,
              "ticks": ""
             }
            },
            "type": "scatterpolar"
           }
          ],
          "scatterpolargl": [
           {
            "marker": {
             "colorbar": {
              "outlinewidth": 0,
              "ticks": ""
             }
            },
            "type": "scatterpolargl"
           }
          ],
          "scatterternary": [
           {
            "marker": {
             "colorbar": {
              "outlinewidth": 0,
              "ticks": ""
             }
            },
            "type": "scatterternary"
           }
          ],
          "surface": [
           {
            "colorbar": {
             "outlinewidth": 0,
             "ticks": ""
            },
            "colorscale": [
             [
              0,
              "#0d0887"
             ],
             [
              0.1111111111111111,
              "#46039f"
             ],
             [
              0.2222222222222222,
              "#7201a8"
             ],
             [
              0.3333333333333333,
              "#9c179e"
             ],
             [
              0.4444444444444444,
              "#bd3786"
             ],
             [
              0.5555555555555556,
              "#d8576b"
             ],
             [
              0.6666666666666666,
              "#ed7953"
             ],
             [
              0.7777777777777778,
              "#fb9f3a"
             ],
             [
              0.8888888888888888,
              "#fdca26"
             ],
             [
              1,
              "#f0f921"
             ]
            ],
            "type": "surface"
           }
          ],
          "table": [
           {
            "cells": {
             "fill": {
              "color": "#EBF0F8"
             },
             "line": {
              "color": "white"
             }
            },
            "header": {
             "fill": {
              "color": "#C8D4E3"
             },
             "line": {
              "color": "white"
             }
            },
            "type": "table"
           }
          ]
         },
         "layout": {
          "annotationdefaults": {
           "arrowcolor": "#2a3f5f",
           "arrowhead": 0,
           "arrowwidth": 1
          },
          "autotypenumbers": "strict",
          "coloraxis": {
           "colorbar": {
            "outlinewidth": 0,
            "ticks": ""
           }
          },
          "colorscale": {
           "diverging": [
            [
             0,
             "#8e0152"
            ],
            [
             0.1,
             "#c51b7d"
            ],
            [
             0.2,
             "#de77ae"
            ],
            [
             0.3,
             "#f1b6da"
            ],
            [
             0.4,
             "#fde0ef"
            ],
            [
             0.5,
             "#f7f7f7"
            ],
            [
             0.6,
             "#e6f5d0"
            ],
            [
             0.7,
             "#b8e186"
            ],
            [
             0.8,
             "#7fbc41"
            ],
            [
             0.9,
             "#4d9221"
            ],
            [
             1,
             "#276419"
            ]
           ],
           "sequential": [
            [
             0,
             "#0d0887"
            ],
            [
             0.1111111111111111,
             "#46039f"
            ],
            [
             0.2222222222222222,
             "#7201a8"
            ],
            [
             0.3333333333333333,
             "#9c179e"
            ],
            [
             0.4444444444444444,
             "#bd3786"
            ],
            [
             0.5555555555555556,
             "#d8576b"
            ],
            [
             0.6666666666666666,
             "#ed7953"
            ],
            [
             0.7777777777777778,
             "#fb9f3a"
            ],
            [
             0.8888888888888888,
             "#fdca26"
            ],
            [
             1,
             "#f0f921"
            ]
           ],
           "sequentialminus": [
            [
             0,
             "#0d0887"
            ],
            [
             0.1111111111111111,
             "#46039f"
            ],
            [
             0.2222222222222222,
             "#7201a8"
            ],
            [
             0.3333333333333333,
             "#9c179e"
            ],
            [
             0.4444444444444444,
             "#bd3786"
            ],
            [
             0.5555555555555556,
             "#d8576b"
            ],
            [
             0.6666666666666666,
             "#ed7953"
            ],
            [
             0.7777777777777778,
             "#fb9f3a"
            ],
            [
             0.8888888888888888,
             "#fdca26"
            ],
            [
             1,
             "#f0f921"
            ]
           ]
          },
          "colorway": [
           "#636efa",
           "#EF553B",
           "#00cc96",
           "#ab63fa",
           "#FFA15A",
           "#19d3f3",
           "#FF6692",
           "#B6E880",
           "#FF97FF",
           "#FECB52"
          ],
          "font": {
           "color": "#2a3f5f"
          },
          "geo": {
           "bgcolor": "white",
           "lakecolor": "white",
           "landcolor": "#E5ECF6",
           "showlakes": true,
           "showland": true,
           "subunitcolor": "white"
          },
          "hoverlabel": {
           "align": "left"
          },
          "hovermode": "closest",
          "mapbox": {
           "style": "light"
          },
          "paper_bgcolor": "white",
          "plot_bgcolor": "#E5ECF6",
          "polar": {
           "angularaxis": {
            "gridcolor": "white",
            "linecolor": "white",
            "ticks": ""
           },
           "bgcolor": "#E5ECF6",
           "radialaxis": {
            "gridcolor": "white",
            "linecolor": "white",
            "ticks": ""
           }
          },
          "scene": {
           "xaxis": {
            "backgroundcolor": "#E5ECF6",
            "gridcolor": "white",
            "gridwidth": 2,
            "linecolor": "white",
            "showbackground": true,
            "ticks": "",
            "zerolinecolor": "white"
           },
           "yaxis": {
            "backgroundcolor": "#E5ECF6",
            "gridcolor": "white",
            "gridwidth": 2,
            "linecolor": "white",
            "showbackground": true,
            "ticks": "",
            "zerolinecolor": "white"
           },
           "zaxis": {
            "backgroundcolor": "#E5ECF6",
            "gridcolor": "white",
            "gridwidth": 2,
            "linecolor": "white",
            "showbackground": true,
            "ticks": "",
            "zerolinecolor": "white"
           }
          },
          "shapedefaults": {
           "line": {
            "color": "#2a3f5f"
           }
          },
          "ternary": {
           "aaxis": {
            "gridcolor": "white",
            "linecolor": "white",
            "ticks": ""
           },
           "baxis": {
            "gridcolor": "white",
            "linecolor": "white",
            "ticks": ""
           },
           "bgcolor": "#E5ECF6",
           "caxis": {
            "gridcolor": "white",
            "linecolor": "white",
            "ticks": ""
           }
          },
          "title": {
           "x": 0.05
          },
          "xaxis": {
           "automargin": true,
           "gridcolor": "white",
           "linecolor": "white",
           "ticks": "",
           "title": {
            "standoff": 15
           },
           "zerolinecolor": "white",
           "zerolinewidth": 2
          },
          "yaxis": {
           "automargin": true,
           "gridcolor": "white",
           "linecolor": "white",
           "ticks": "",
           "title": {
            "standoff": 15
           },
           "zerolinecolor": "white",
           "zerolinewidth": 2
          }
         }
        },
        "title": {
         "text": "User X Position Over Time"
        },
        "xaxis": {
         "anchor": "y",
         "domain": [
          0,
          1
         ],
         "title": {
          "text": "time"
         }
        },
        "yaxis": {
         "anchor": "x",
         "domain": [
          0,
          1
         ],
         "range": [
          0,
          200
         ],
         "title": {
          "text": "Time"
         }
        }
       }
      },
      "text/html": [
       "<div>                            <div id=\"d5c190b0-1f56-4c5d-8644-714a5b84bd4f\" class=\"plotly-graph-div\" style=\"height:525px; width:100%;\"></div>            <script type=\"text/javascript\">                require([\"plotly\"], function(Plotly) {                    window.PLOTLYENV=window.PLOTLYENV || {};                                    if (document.getElementById(\"d5c190b0-1f56-4c5d-8644-714a5b84bd4f\")) {                    Plotly.newPlot(                        \"d5c190b0-1f56-4c5d-8644-714a5b84bd4f\",                        [{\"hovertemplate\":\"User ID=20018\\u003cbr\\u003etime=%{x}\\u003cbr\\u003eTime=%{y}\\u003cextra\\u003e\\u003c\\u002fextra\\u003e\",\"legendgroup\":\"20018\",\"line\":{\"color\":\"#636efa\",\"dash\":\"solid\"},\"marker\":{\"symbol\":\"circle\"},\"mode\":\"lines+markers\",\"name\":\"20018\",\"orientation\":\"v\",\"showlegend\":true,\"x\":[211,212,213,214,215,225,226,227,252,254,255,256,264,274,275,276,310,311,312,317,318,320,321,322,323,324,444,447,448,461,462,465,466,468,469,501,503,504,507,510,511,512,514,540,541,543,544,554,556,557,559,560,590,591,592,599,600,601,602,603,605,606,609,610,649,650,651,652,653,654,656,658,661,662,693,700,701,702,705,706,707,708,735,743,745,746,747,748,749,750,755,759,760,761,783,784,793,794,795,796,800,801,802,803,829,832,833,843,844,846,847,851,852,876,877,879,880,884,885,886,887,888,889,890,894,895,897,902,903,907,929,930,940,941,945,946,947,964,966,985,986,987,988,989,990,991,992,993,1034,1036,1037,1038,1056,1057,1068,1069,1077,1078,1079,1080,1081,1082,1084,1086,1089,1090,1091,1092,1121,1126,1127,1128,1129,1130,1131,1132,1136,1137,1140,1141,1164,1165,1167,1168,1173,1174,1176,1177,1186,1187,1215,1216,1218,1219,1221,1225,1226,1229,1230,1231,1232,1234,1261,1262,1263,1264,1268,1270,1271,1272,1276,1277,1278,1279,1281,1282,1283,1284,1317,1318,1319,1321,1322,1324,1326,1327,1328,1339,1340,1341,1366,1368,1369,1370,1371,1372,1375,1376,1377,1418,1419,1422,1423,1424,1425,1426,1453,1455,1456,1458,1459,1461,1462,1468,1472,1473,1475,1476,1500,1501,1505,1516,1517,1518,1519,1520,1521,1522,1549,1556,1557,1561,1567,1568,1569,1570,1597,1598,1599,1600,1610,1611,1613,1614,1617,1618,1645,1658,1659,1660,1661,1662,1664,1665,1674,1675,1699,1700,1705,1706,1707,1709,1710,1711,1712,1713,1714,1715,1749,1753,1756,1758,1759,1760,1761,1762,1763,1764,1769,1770,1771,1772,1806,1807,1809,1837,1838,1844,1847,1848,1849,1852,1853,1854,1858,1859,1884,1885,1889,1895,1896,1897,1898,1899,1903,1904,1906,1907,1930,1933,1935,1936,1941,1942,1945,1946,1947,1948,1949,1950,1953,1954,1981,1986,1991,1993,1995,1996,1997,2001,2002,2043,2044,2049,2050,2084,2085,2086,2087,2091,2092,2095,2096,2097,2098,2099,2101,2125,2127,2128,2135,2136,2141,2142,2143,2144,2145,2146,2173,2177,2178,2179,2180,2182,2184,2191,2192,2194,2195,2221,2223,2224,2230,2231,2232,2239,2240,2243,2244,2268,2269,2275,2276,2283,2284,2285,2290,2291,2292,2294,2320,2321,2322,2323,2324,2328,2329,2330,2332,2334,2341,2342,2371,2372,2373,2374,2387,2418,2419,2421,2422,2423,2424,2425,2426,2429,2430,2432,2433,2434,2435,2440,2467,2468,2474,2475,2476,2479,2480,2481,2482,2483,2509,2515,2516,2526,2527,2528,2529,2530,2557,2558,2572,2573,2574,2578,2579,2605,2608,2617,2619,2620,2621,2622,2623,2625,2626,2664,2665,2667,2668,2669,2670,2673,2674,2707,2708,2709,2710,2713,2716,2717,2718,2751,2752,2759,2760,2761,2764,2769,2770,2771,2772,2773,2797,2802,2807,2808,2809,2810,2811,2812,2813,2814,2816,2818,2819,2845,2852,2859,2861,2863,2865,2866,2867,2893,2898,2899,2903,2904,2906,2907,2908,2909,2910,2913,2914,2940,2941,2948,2949,2950,2951,2953,2957,2961,2962,2999,3003,3004,3006,3007,3008,3009,3048,3049,3051,3054,3055,3056,3057,3084,3085,3092,3093,3095,3096,3100,3101,3108,3109,3133,3137,3138,3144,3145,3147,3152,3153,3155,3156,3180,3181,3183,3184,3185,3191,3192,3194,3200,3202,3203,3229,3232,3236,3237,3238,3240,3241,3242,3243,3244,3246,3277,3281,3285,3287,3288,3290,3291,3293,3299,3300,3301,3333,3335,3336,3339,3342,3343,3344,3384,3385,3386,3389,3390,3391,3394,3420,3421,3427,3428,3432,3433,3434,3435,3436,3439,3440,3441,3452,3468,3469,3470,3473,3474,3479,3480,3481,3483,3489,3490,3491,3516,3517,3523,3530,3531,3532,3537,3538,3540,3541,3542,3564,3565,3573,3574,3578,3579,3580,3583,3584,3585,3586],\"xaxis\":\"x\",\"y\":[78,77,78,72,77,78,76,77,77,79,80,78,78,78,78,77,76,74,74,78,78,77,72,76,79,77,78,77,77,76,77,77,78,79,78,73,78,74,74,74,78,78,78,77,78,78,77,77,77,73,76,77,78,80,77,78,78,75,76,77,77,78,79,77,79,81,83,75,75,78,75,74,76,77,77,76,76,77,77,78,79,78,78,78,77,73,75,73,72,75,78,76,76,79,78,79,77,78,77,78,72,77,79,76,78,79,77,77,77,78,78,79,79,77,80,78,77,76,77,78,78,73,72,74,79,79,77,78,73,78,78,77,77,77,79,78,78,77,77,76,77,78,78,73,78,77,76,77,78,75,76,77,76,77,78,78,77,77,78,74,77,77,77,78,78,78,78,78,78,75,80,79,78,72,72,78,78,78,79,78,78,78,79,79,74,73,73,75,77,77,78,77,76,78,79,78,75,77,79,78,72,77,78,78,77,77,76,76,78,77,78,72,77,78,78,77,76,77,76,76,77,77,78,77,78,79,76,78,78,77,76,76,78,97,134,78,81,110,148,132,137,135,134,117,77,76,78,78,78,78,79,77,77,78,79,78,79,77,78,78,77,78,78,76,72,78,78,77,77,79,78,78,74,72,78,79,78,78,78,77,76,77,78,78,78,77,76,77,78,73,72,78,78,77,76,77,78,78,74,74,74,74,75,74,78,78,76,77,79,79,79,78,78,77,77,78,79,77,76,78,76,77,76,76,77,77,78,78,79,77,78,76,76,78,78,76,77,78,79,79,72,78,76,77,78,78,78,76,76,79,79,78,76,77,78,72,74,73,77,78,77,77,78,79,78,73,78,79,77,76,77,78,78,77,79,79,78,77,79,76,77,78,72,73,78,79,79,78,78,77,76,76,79,77,77,79,79,77,78,78,78,77,76,77,76,77,78,78,77,78,79,77,77,75,78,78,77,78,77,77,78,79,77,75,77,78,78,77,78,78,79,77,76,76,76,76,75,77,79,78,78,77,76,78,78,82,78,78,77,79,78,80,81,90,114,83,80,74,72,70,76,78,72,76,77,72,78,72,72,75,78,77,78,78,77,77,73,76,79,77,80,78,78,75,72,79,77,80,77,77,77,76,77,72,78,76,76,77,78,78,79,79,78,72,72,78,78,78,78,78,76,77,78,80,77,75,78,78,77,74,72,79,78,77,78,78,77,85,72,76,77,77,75,78,78,79,79,77,79,76,77,77,78,76,77,78,79,77,76,77,77,72,78,79,77,76,76,78,78,77,75,76,76,77,78,78,77,76,78,78,73,78,76,77,76,77,77,76,77,76,77,76,78,78,77,76,77,78,78,79,77,78,76,77,77,78,73,74,78,79,79,77,79,78,79,80,76,78,79,78,78,76,78,77,75,76,77,76,78,78,77,76,76,78,77,76,76,77,78,78,72,79,75,77,77,76,77,78,77,75,77,75,75,78,78,77,76,76,77,78,77,77,76,77,77,79,78,77,77,77,77,79,78,78,78,77,76,73,77,78,77,79,76,76,78,77,76,72,78,76,76,79,78,77,78,78,76,77,78,72,78,77,78,76,77],\"yaxis\":\"y\",\"type\":\"scatter\"}],                        {\"template\":{\"data\":{\"histogram2dcontour\":[{\"type\":\"histogram2dcontour\",\"colorbar\":{\"outlinewidth\":0,\"ticks\":\"\"},\"colorscale\":[[0.0,\"#0d0887\"],[0.1111111111111111,\"#46039f\"],[0.2222222222222222,\"#7201a8\"],[0.3333333333333333,\"#9c179e\"],[0.4444444444444444,\"#bd3786\"],[0.5555555555555556,\"#d8576b\"],[0.6666666666666666,\"#ed7953\"],[0.7777777777777778,\"#fb9f3a\"],[0.8888888888888888,\"#fdca26\"],[1.0,\"#f0f921\"]]}],\"choropleth\":[{\"type\":\"choropleth\",\"colorbar\":{\"outlinewidth\":0,\"ticks\":\"\"}}],\"histogram2d\":[{\"type\":\"histogram2d\",\"colorbar\":{\"outlinewidth\":0,\"ticks\":\"\"},\"colorscale\":[[0.0,\"#0d0887\"],[0.1111111111111111,\"#46039f\"],[0.2222222222222222,\"#7201a8\"],[0.3333333333333333,\"#9c179e\"],[0.4444444444444444,\"#bd3786\"],[0.5555555555555556,\"#d8576b\"],[0.6666666666666666,\"#ed7953\"],[0.7777777777777778,\"#fb9f3a\"],[0.8888888888888888,\"#fdca26\"],[1.0,\"#f0f921\"]]}],\"heatmap\":[{\"type\":\"heatmap\",\"colorbar\":{\"outlinewidth\":0,\"ticks\":\"\"},\"colorscale\":[[0.0,\"#0d0887\"],[0.1111111111111111,\"#46039f\"],[0.2222222222222222,\"#7201a8\"],[0.3333333333333333,\"#9c179e\"],[0.4444444444444444,\"#bd3786\"],[0.5555555555555556,\"#d8576b\"],[0.6666666666666666,\"#ed7953\"],[0.7777777777777778,\"#fb9f3a\"],[0.8888888888888888,\"#fdca26\"],[1.0,\"#f0f921\"]]}],\"heatmapgl\":[{\"type\":\"heatmapgl\",\"colorbar\":{\"outlinewidth\":0,\"ticks\":\"\"},\"colorscale\":[[0.0,\"#0d0887\"],[0.1111111111111111,\"#46039f\"],[0.2222222222222222,\"#7201a8\"],[0.3333333333333333,\"#9c179e\"],[0.4444444444444444,\"#bd3786\"],[0.5555555555555556,\"#d8576b\"],[0.6666666666666666,\"#ed7953\"],[0.7777777777777778,\"#fb9f3a\"],[0.8888888888888888,\"#fdca26\"],[1.0,\"#f0f921\"]]}],\"contourcarpet\":[{\"type\":\"contourcarpet\",\"colorbar\":{\"outlinewidth\":0,\"ticks\":\"\"}}],\"contour\":[{\"type\":\"contour\",\"colorbar\":{\"outlinewidth\":0,\"ticks\":\"\"},\"colorscale\":[[0.0,\"#0d0887\"],[0.1111111111111111,\"#46039f\"],[0.2222222222222222,\"#7201a8\"],[0.3333333333333333,\"#9c179e\"],[0.4444444444444444,\"#bd3786\"],[0.5555555555555556,\"#d8576b\"],[0.6666666666666666,\"#ed7953\"],[0.7777777777777778,\"#fb9f3a\"],[0.8888888888888888,\"#fdca26\"],[1.0,\"#f0f921\"]]}],\"surface\":[{\"type\":\"surface\",\"colorbar\":{\"outlinewidth\":0,\"ticks\":\"\"},\"colorscale\":[[0.0,\"#0d0887\"],[0.1111111111111111,\"#46039f\"],[0.2222222222222222,\"#7201a8\"],[0.3333333333333333,\"#9c179e\"],[0.4444444444444444,\"#bd3786\"],[0.5555555555555556,\"#d8576b\"],[0.6666666666666666,\"#ed7953\"],[0.7777777777777778,\"#fb9f3a\"],[0.8888888888888888,\"#fdca26\"],[1.0,\"#f0f921\"]]}],\"mesh3d\":[{\"type\":\"mesh3d\",\"colorbar\":{\"outlinewidth\":0,\"ticks\":\"\"}}],\"scatter\":[{\"fillpattern\":{\"fillmode\":\"overlay\",\"size\":10,\"solidity\":0.2},\"type\":\"scatter\"}],\"parcoords\":[{\"type\":\"parcoords\",\"line\":{\"colorbar\":{\"outlinewidth\":0,\"ticks\":\"\"}}}],\"scatterpolargl\":[{\"type\":\"scatterpolargl\",\"marker\":{\"colorbar\":{\"outlinewidth\":0,\"ticks\":\"\"}}}],\"bar\":[{\"error_x\":{\"color\":\"#2a3f5f\"},\"error_y\":{\"color\":\"#2a3f5f\"},\"marker\":{\"line\":{\"color\":\"#E5ECF6\",\"width\":0.5},\"pattern\":{\"fillmode\":\"overlay\",\"size\":10,\"solidity\":0.2}},\"type\":\"bar\"}],\"scattergeo\":[{\"type\":\"scattergeo\",\"marker\":{\"colorbar\":{\"outlinewidth\":0,\"ticks\":\"\"}}}],\"scatterpolar\":[{\"type\":\"scatterpolar\",\"marker\":{\"colorbar\":{\"outlinewidth\":0,\"ticks\":\"\"}}}],\"histogram\":[{\"marker\":{\"pattern\":{\"fillmode\":\"overlay\",\"size\":10,\"solidity\":0.2}},\"type\":\"histogram\"}],\"scattergl\":[{\"type\":\"scattergl\",\"marker\":{\"colorbar\":{\"outlinewidth\":0,\"ticks\":\"\"}}}],\"scatter3d\":[{\"type\":\"scatter3d\",\"line\":{\"colorbar\":{\"outlinewidth\":0,\"ticks\":\"\"}},\"marker\":{\"colorbar\":{\"outlinewidth\":0,\"ticks\":\"\"}}}],\"scattermapbox\":[{\"type\":\"scattermapbox\",\"marker\":{\"colorbar\":{\"outlinewidth\":0,\"ticks\":\"\"}}}],\"scatterternary\":[{\"type\":\"scatterternary\",\"marker\":{\"colorbar\":{\"outlinewidth\":0,\"ticks\":\"\"}}}],\"scattercarpet\":[{\"type\":\"scattercarpet\",\"marker\":{\"colorbar\":{\"outlinewidth\":0,\"ticks\":\"\"}}}],\"carpet\":[{\"aaxis\":{\"endlinecolor\":\"#2a3f5f\",\"gridcolor\":\"white\",\"linecolor\":\"white\",\"minorgridcolor\":\"white\",\"startlinecolor\":\"#2a3f5f\"},\"baxis\":{\"endlinecolor\":\"#2a3f5f\",\"gridcolor\":\"white\",\"linecolor\":\"white\",\"minorgridcolor\":\"white\",\"startlinecolor\":\"#2a3f5f\"},\"type\":\"carpet\"}],\"table\":[{\"cells\":{\"fill\":{\"color\":\"#EBF0F8\"},\"line\":{\"color\":\"white\"}},\"header\":{\"fill\":{\"color\":\"#C8D4E3\"},\"line\":{\"color\":\"white\"}},\"type\":\"table\"}],\"barpolar\":[{\"marker\":{\"line\":{\"color\":\"#E5ECF6\",\"width\":0.5},\"pattern\":{\"fillmode\":\"overlay\",\"size\":10,\"solidity\":0.2}},\"type\":\"barpolar\"}],\"pie\":[{\"automargin\":true,\"type\":\"pie\"}]},\"layout\":{\"autotypenumbers\":\"strict\",\"colorway\":[\"#636efa\",\"#EF553B\",\"#00cc96\",\"#ab63fa\",\"#FFA15A\",\"#19d3f3\",\"#FF6692\",\"#B6E880\",\"#FF97FF\",\"#FECB52\"],\"font\":{\"color\":\"#2a3f5f\"},\"hovermode\":\"closest\",\"hoverlabel\":{\"align\":\"left\"},\"paper_bgcolor\":\"white\",\"plot_bgcolor\":\"#E5ECF6\",\"polar\":{\"bgcolor\":\"#E5ECF6\",\"angularaxis\":{\"gridcolor\":\"white\",\"linecolor\":\"white\",\"ticks\":\"\"},\"radialaxis\":{\"gridcolor\":\"white\",\"linecolor\":\"white\",\"ticks\":\"\"}},\"ternary\":{\"bgcolor\":\"#E5ECF6\",\"aaxis\":{\"gridcolor\":\"white\",\"linecolor\":\"white\",\"ticks\":\"\"},\"baxis\":{\"gridcolor\":\"white\",\"linecolor\":\"white\",\"ticks\":\"\"},\"caxis\":{\"gridcolor\":\"white\",\"linecolor\":\"white\",\"ticks\":\"\"}},\"coloraxis\":{\"colorbar\":{\"outlinewidth\":0,\"ticks\":\"\"}},\"colorscale\":{\"sequential\":[[0.0,\"#0d0887\"],[0.1111111111111111,\"#46039f\"],[0.2222222222222222,\"#7201a8\"],[0.3333333333333333,\"#9c179e\"],[0.4444444444444444,\"#bd3786\"],[0.5555555555555556,\"#d8576b\"],[0.6666666666666666,\"#ed7953\"],[0.7777777777777778,\"#fb9f3a\"],[0.8888888888888888,\"#fdca26\"],[1.0,\"#f0f921\"]],\"sequentialminus\":[[0.0,\"#0d0887\"],[0.1111111111111111,\"#46039f\"],[0.2222222222222222,\"#7201a8\"],[0.3333333333333333,\"#9c179e\"],[0.4444444444444444,\"#bd3786\"],[0.5555555555555556,\"#d8576b\"],[0.6666666666666666,\"#ed7953\"],[0.7777777777777778,\"#fb9f3a\"],[0.8888888888888888,\"#fdca26\"],[1.0,\"#f0f921\"]],\"diverging\":[[0,\"#8e0152\"],[0.1,\"#c51b7d\"],[0.2,\"#de77ae\"],[0.3,\"#f1b6da\"],[0.4,\"#fde0ef\"],[0.5,\"#f7f7f7\"],[0.6,\"#e6f5d0\"],[0.7,\"#b8e186\"],[0.8,\"#7fbc41\"],[0.9,\"#4d9221\"],[1,\"#276419\"]]},\"xaxis\":{\"gridcolor\":\"white\",\"linecolor\":\"white\",\"ticks\":\"\",\"title\":{\"standoff\":15},\"zerolinecolor\":\"white\",\"automargin\":true,\"zerolinewidth\":2},\"yaxis\":{\"gridcolor\":\"white\",\"linecolor\":\"white\",\"ticks\":\"\",\"title\":{\"standoff\":15},\"zerolinecolor\":\"white\",\"automargin\":true,\"zerolinewidth\":2},\"scene\":{\"xaxis\":{\"backgroundcolor\":\"#E5ECF6\",\"gridcolor\":\"white\",\"linecolor\":\"white\",\"showbackground\":true,\"ticks\":\"\",\"zerolinecolor\":\"white\",\"gridwidth\":2},\"yaxis\":{\"backgroundcolor\":\"#E5ECF6\",\"gridcolor\":\"white\",\"linecolor\":\"white\",\"showbackground\":true,\"ticks\":\"\",\"zerolinecolor\":\"white\",\"gridwidth\":2},\"zaxis\":{\"backgroundcolor\":\"#E5ECF6\",\"gridcolor\":\"white\",\"linecolor\":\"white\",\"showbackground\":true,\"ticks\":\"\",\"zerolinecolor\":\"white\",\"gridwidth\":2}},\"shapedefaults\":{\"line\":{\"color\":\"#2a3f5f\"}},\"annotationdefaults\":{\"arrowcolor\":\"#2a3f5f\",\"arrowhead\":0,\"arrowwidth\":1},\"geo\":{\"bgcolor\":\"white\",\"landcolor\":\"#E5ECF6\",\"subunitcolor\":\"white\",\"showland\":true,\"showlakes\":true,\"lakecolor\":\"white\"},\"title\":{\"x\":0.05},\"mapbox\":{\"style\":\"light\"}}},\"xaxis\":{\"anchor\":\"y\",\"domain\":[0.0,1.0],\"title\":{\"text\":\"time\"}},\"yaxis\":{\"anchor\":\"x\",\"domain\":[0.0,1.0],\"title\":{\"text\":\"Time\"},\"range\":[0,200]},\"legend\":{\"title\":{\"text\":\"User ID\"},\"tracegroupgap\":0},\"title\":{\"text\":\"User X Position Over Time\"}},                        {\"responsive\": true}                    ).then(function(){\n",
       "                            \n",
       "var gd = document.getElementById('d5c190b0-1f56-4c5d-8644-714a5b84bd4f');\n",
       "var x = new MutationObserver(function (mutations, observer) {{\n",
       "        var display = window.getComputedStyle(gd).display;\n",
       "        if (!display || display === 'none') {{\n",
       "            console.log([gd, 'removed!']);\n",
       "            Plotly.purge(gd);\n",
       "            observer.disconnect();\n",
       "        }}\n",
       "}});\n",
       "\n",
       "// Listen for the removal of the full notebook cells\n",
       "var notebookContainer = gd.closest('#notebook-container');\n",
       "if (notebookContainer) {{\n",
       "    x.observe(notebookContainer, {childList: true});\n",
       "}}\n",
       "\n",
       "// Listen for the clearing of the current output cell\n",
       "var outputEl = gd.closest('.output');\n",
       "if (outputEl) {{\n",
       "    x.observe(outputEl, {childList: true});\n",
       "}}\n",
       "\n",
       "                        })                };                });            </script>        </div>"
      ]
     },
     "metadata": {},
     "output_type": "display_data"
    },
    {
     "data": {
      "application/vnd.plotly.v1+json": {
       "config": {
        "plotlyServerURL": "https://plot.ly"
       },
       "data": [
        {
         "hovertemplate": "User ID=20018<br>time=%{x}<br>Y Position=%{y}<extra></extra>",
         "legendgroup": "20018",
         "line": {
          "color": "#636efa",
          "dash": "solid"
         },
         "marker": {
          "symbol": "circle"
         },
         "mode": "lines+markers",
         "name": "20018",
         "orientation": "v",
         "showlegend": true,
         "type": "scatter",
         "x": [
          211,
          212,
          213,
          214,
          215,
          225,
          226,
          227,
          252,
          254,
          255,
          256,
          264,
          274,
          275,
          276,
          310,
          311,
          312,
          317,
          318,
          320,
          321,
          322,
          323,
          324,
          444,
          447,
          448,
          461,
          462,
          465,
          466,
          468,
          469,
          501,
          503,
          504,
          507,
          510,
          511,
          512,
          514,
          540,
          541,
          543,
          544,
          554,
          556,
          557,
          559,
          560,
          590,
          591,
          592,
          599,
          600,
          601,
          602,
          603,
          605,
          606,
          609,
          610,
          649,
          650,
          651,
          652,
          653,
          654,
          656,
          658,
          661,
          662,
          693,
          700,
          701,
          702,
          705,
          706,
          707,
          708,
          735,
          743,
          745,
          746,
          747,
          748,
          749,
          750,
          755,
          759,
          760,
          761,
          783,
          784,
          793,
          794,
          795,
          796,
          800,
          801,
          802,
          803,
          829,
          832,
          833,
          843,
          844,
          846,
          847,
          851,
          852,
          876,
          877,
          879,
          880,
          884,
          885,
          886,
          887,
          888,
          889,
          890,
          894,
          895,
          897,
          902,
          903,
          907,
          929,
          930,
          940,
          941,
          945,
          946,
          947,
          964,
          966,
          985,
          986,
          987,
          988,
          989,
          990,
          991,
          992,
          993,
          1034,
          1036,
          1037,
          1038,
          1056,
          1057,
          1068,
          1069,
          1077,
          1078,
          1079,
          1080,
          1081,
          1082,
          1084,
          1086,
          1089,
          1090,
          1091,
          1092,
          1121,
          1126,
          1127,
          1128,
          1129,
          1130,
          1131,
          1132,
          1136,
          1137,
          1140,
          1141,
          1164,
          1165,
          1167,
          1168,
          1173,
          1174,
          1176,
          1177,
          1186,
          1187,
          1215,
          1216,
          1218,
          1219,
          1221,
          1225,
          1226,
          1229,
          1230,
          1231,
          1232,
          1234,
          1261,
          1262,
          1263,
          1264,
          1268,
          1270,
          1271,
          1272,
          1276,
          1277,
          1278,
          1279,
          1281,
          1282,
          1283,
          1284,
          1317,
          1318,
          1319,
          1321,
          1322,
          1324,
          1326,
          1327,
          1328,
          1339,
          1340,
          1341,
          1366,
          1368,
          1369,
          1370,
          1371,
          1372,
          1375,
          1376,
          1377,
          1418,
          1419,
          1422,
          1423,
          1424,
          1425,
          1426,
          1453,
          1455,
          1456,
          1458,
          1459,
          1461,
          1462,
          1468,
          1472,
          1473,
          1475,
          1476,
          1500,
          1501,
          1505,
          1516,
          1517,
          1518,
          1519,
          1520,
          1521,
          1522,
          1549,
          1556,
          1557,
          1561,
          1567,
          1568,
          1569,
          1570,
          1597,
          1598,
          1599,
          1600,
          1610,
          1611,
          1613,
          1614,
          1617,
          1618,
          1645,
          1658,
          1659,
          1660,
          1661,
          1662,
          1664,
          1665,
          1674,
          1675,
          1699,
          1700,
          1705,
          1706,
          1707,
          1709,
          1710,
          1711,
          1712,
          1713,
          1714,
          1715,
          1749,
          1753,
          1756,
          1758,
          1759,
          1760,
          1761,
          1762,
          1763,
          1764,
          1769,
          1770,
          1771,
          1772,
          1806,
          1807,
          1809,
          1837,
          1838,
          1844,
          1847,
          1848,
          1849,
          1852,
          1853,
          1854,
          1858,
          1859,
          1884,
          1885,
          1889,
          1895,
          1896,
          1897,
          1898,
          1899,
          1903,
          1904,
          1906,
          1907,
          1930,
          1933,
          1935,
          1936,
          1941,
          1942,
          1945,
          1946,
          1947,
          1948,
          1949,
          1950,
          1953,
          1954,
          1981,
          1986,
          1991,
          1993,
          1995,
          1996,
          1997,
          2001,
          2002,
          2043,
          2044,
          2049,
          2050,
          2084,
          2085,
          2086,
          2087,
          2091,
          2092,
          2095,
          2096,
          2097,
          2098,
          2099,
          2101,
          2125,
          2127,
          2128,
          2135,
          2136,
          2141,
          2142,
          2143,
          2144,
          2145,
          2146,
          2173,
          2177,
          2178,
          2179,
          2180,
          2182,
          2184,
          2191,
          2192,
          2194,
          2195,
          2221,
          2223,
          2224,
          2230,
          2231,
          2232,
          2239,
          2240,
          2243,
          2244,
          2268,
          2269,
          2275,
          2276,
          2283,
          2284,
          2285,
          2290,
          2291,
          2292,
          2294,
          2320,
          2321,
          2322,
          2323,
          2324,
          2328,
          2329,
          2330,
          2332,
          2334,
          2341,
          2342,
          2371,
          2372,
          2373,
          2374,
          2387,
          2418,
          2419,
          2421,
          2422,
          2423,
          2424,
          2425,
          2426,
          2429,
          2430,
          2432,
          2433,
          2434,
          2435,
          2440,
          2467,
          2468,
          2474,
          2475,
          2476,
          2479,
          2480,
          2481,
          2482,
          2483,
          2509,
          2515,
          2516,
          2526,
          2527,
          2528,
          2529,
          2530,
          2557,
          2558,
          2572,
          2573,
          2574,
          2578,
          2579,
          2605,
          2608,
          2617,
          2619,
          2620,
          2621,
          2622,
          2623,
          2625,
          2626,
          2664,
          2665,
          2667,
          2668,
          2669,
          2670,
          2673,
          2674,
          2707,
          2708,
          2709,
          2710,
          2713,
          2716,
          2717,
          2718,
          2751,
          2752,
          2759,
          2760,
          2761,
          2764,
          2769,
          2770,
          2771,
          2772,
          2773,
          2797,
          2802,
          2807,
          2808,
          2809,
          2810,
          2811,
          2812,
          2813,
          2814,
          2816,
          2818,
          2819,
          2845,
          2852,
          2859,
          2861,
          2863,
          2865,
          2866,
          2867,
          2893,
          2898,
          2899,
          2903,
          2904,
          2906,
          2907,
          2908,
          2909,
          2910,
          2913,
          2914,
          2940,
          2941,
          2948,
          2949,
          2950,
          2951,
          2953,
          2957,
          2961,
          2962,
          2999,
          3003,
          3004,
          3006,
          3007,
          3008,
          3009,
          3048,
          3049,
          3051,
          3054,
          3055,
          3056,
          3057,
          3084,
          3085,
          3092,
          3093,
          3095,
          3096,
          3100,
          3101,
          3108,
          3109,
          3133,
          3137,
          3138,
          3144,
          3145,
          3147,
          3152,
          3153,
          3155,
          3156,
          3180,
          3181,
          3183,
          3184,
          3185,
          3191,
          3192,
          3194,
          3200,
          3202,
          3203,
          3229,
          3232,
          3236,
          3237,
          3238,
          3240,
          3241,
          3242,
          3243,
          3244,
          3246,
          3277,
          3281,
          3285,
          3287,
          3288,
          3290,
          3291,
          3293,
          3299,
          3300,
          3301,
          3333,
          3335,
          3336,
          3339,
          3342,
          3343,
          3344,
          3384,
          3385,
          3386,
          3389,
          3390,
          3391,
          3394,
          3420,
          3421,
          3427,
          3428,
          3432,
          3433,
          3434,
          3435,
          3436,
          3439,
          3440,
          3441,
          3452,
          3468,
          3469,
          3470,
          3473,
          3474,
          3479,
          3480,
          3481,
          3483,
          3489,
          3490,
          3491,
          3516,
          3517,
          3523,
          3530,
          3531,
          3532,
          3537,
          3538,
          3540,
          3541,
          3542,
          3564,
          3565,
          3573,
          3574,
          3578,
          3579,
          3580,
          3583,
          3584,
          3585,
          3586
         ],
         "xaxis": "x",
         "y": [
          91,
          80,
          91,
          92,
          91,
          88,
          76,
          76,
          80,
          92,
          95,
          91,
          91,
          90,
          81,
          76,
          74,
          75,
          75,
          80,
          90,
          91,
          92,
          91,
          85,
          76,
          91,
          77,
          76,
          76,
          76,
          78,
          91,
          92,
          91,
          92,
          82,
          75,
          76,
          81,
          91,
          91,
          80,
          80,
          91,
          90,
          80,
          90,
          91,
          94,
          95,
          92,
          93,
          95,
          76,
          91,
          90,
          78,
          76,
          76,
          79,
          88,
          82,
          76,
          82,
          80,
          80,
          81,
          82,
          88,
          81,
          80,
          76,
          76,
          76,
          76,
          77,
          79,
          91,
          91,
          92,
          91,
          90,
          91,
          76,
          77,
          89,
          92,
          92,
          91,
          90,
          76,
          77,
          85,
          90,
          85,
          76,
          90,
          91,
          91,
          92,
          91,
          92,
          76,
          91,
          89,
          76,
          77,
          76,
          81,
          91,
          88,
          85,
          77,
          84,
          89,
          76,
          74,
          76,
          91,
          91,
          92,
          92,
          92,
          92,
          92,
          91,
          89,
          87,
          91,
          81,
          76,
          78,
          91,
          91,
          91,
          88,
          76,
          76,
          76,
          76,
          87,
          91,
          92,
          90,
          76,
          76,
          76,
          91,
          81,
          76,
          76,
          76,
          76,
          86,
          88,
          92,
          93,
          89,
          78,
          91,
          76,
          78,
          92,
          91,
          91,
          92,
          91,
          87,
          74,
          84,
          89,
          81,
          92,
          92,
          91,
          91,
          91,
          88,
          87,
          89,
          91,
          95,
          88,
          75,
          71,
          72,
          74,
          92,
          91,
          90,
          76,
          77,
          91,
          92,
          86,
          81,
          76,
          83,
          91,
          92,
          79,
          81,
          91,
          80,
          76,
          74,
          74,
          89,
          76,
          89,
          92,
          91,
          91,
          89,
          76,
          74,
          77,
          76,
          76,
          76,
          77,
          91,
          76,
          80,
          90,
          76,
          91,
          89,
          76,
          76,
          74,
          81,
          80,
          108,
          80,
          80,
          91,
          195,
          194,
          162,
          157,
          107,
          93,
          77,
          76,
          91,
          92,
          88,
          87,
          92,
          91,
          92,
          91,
          92,
          91,
          91,
          76,
          81,
          89,
          76,
          88,
          91,
          91,
          92,
          91,
          86,
          76,
          79,
          89,
          91,
          92,
          92,
          92,
          91,
          89,
          86,
          91,
          89,
          76,
          76,
          76,
          87,
          91,
          88,
          76,
          76,
          77,
          88,
          92,
          92,
          91,
          90,
          76,
          74,
          76,
          80,
          88,
          101,
          112,
          114,
          113,
          114,
          104,
          89,
          87,
          76,
          76,
          85,
          92,
          92,
          92,
          91,
          91,
          91,
          91,
          84,
          76,
          77,
          91,
          75,
          76,
          74,
          76,
          76,
          77,
          91,
          92,
          88,
          90,
          91,
          91,
          91,
          91,
          89,
          76,
          76,
          91,
          88,
          83,
          92,
          91,
          78,
          76,
          87,
          91,
          88,
          76,
          76,
          86,
          89,
          87,
          74,
          76,
          88,
          92,
          92,
          92,
          91,
          91,
          92,
          76,
          91,
          92,
          91,
          92,
          91,
          88,
          77,
          77,
          76,
          87,
          91,
          93,
          89,
          86,
          91,
          91,
          83,
          74,
          76,
          88,
          92,
          92,
          91,
          92,
          83,
          91,
          89,
          76,
          76,
          74,
          85,
          91,
          92,
          92,
          92,
          76,
          91,
          91,
          89,
          76,
          74,
          79,
          76,
          79,
          91,
          90,
          76,
          91,
          86,
          78,
          91,
          92,
          91,
          92,
          91,
          90,
          76,
          77,
          91,
          86,
          76,
          85,
          86,
          91,
          89,
          76,
          91,
          92,
          88,
          76,
          74,
          76,
          76,
          75,
          74,
          76,
          82,
          93,
          91,
          76,
          76,
          86,
          91,
          95,
          91,
          90,
          76,
          82,
          91,
          90,
          88,
          75,
          55,
          32,
          32,
          36,
          42,
          57,
          76,
          91,
          92,
          91,
          79,
          92,
          91,
          93,
          92,
          92,
          90,
          76,
          91,
          80,
          76,
          79,
          92,
          91,
          89,
          76,
          84,
          91,
          92,
          91,
          92,
          85,
          76,
          84,
          76,
          76,
          76,
          76,
          91,
          92,
          91,
          76,
          76,
          77,
          90,
          89,
          86,
          85,
          91,
          92,
          92,
          92,
          91,
          91,
          91,
          91,
          75,
          76,
          91,
          84,
          76,
          74,
          91,
          92,
          91,
          93,
          92,
          92,
          92,
          77,
          88,
          90,
          91,
          94,
          92,
          91,
          86,
          91,
          91,
          91,
          91,
          88,
          83,
          90,
          89,
          76,
          76,
          90,
          90,
          74,
          76,
          91,
          83,
          76,
          74,
          76,
          90,
          92,
          91,
          88,
          79,
          77,
          76,
          80,
          89,
          76,
          74,
          75,
          76,
          76,
          89,
          89,
          76,
          76,
          87,
          89,
          92,
          91,
          76,
          76,
          76,
          73,
          76,
          76,
          76,
          76,
          76,
          77,
          88,
          89,
          76,
          76,
          76,
          86,
          92,
          92,
          76,
          91,
          76,
          76,
          79,
          88,
          92,
          90,
          91,
          92,
          84,
          76,
          83,
          93,
          89,
          84,
          76,
          88,
          92,
          91,
          81,
          77,
          80,
          76,
          74,
          74,
          76,
          74,
          88,
          87,
          76,
          77,
          79,
          87,
          76,
          74,
          74,
          76,
          89,
          92,
          92,
          88,
          74,
          76,
          76,
          76,
          76,
          87,
          76,
          74,
          76,
          78,
          81,
          91,
          80,
          76,
          73,
          74,
          79,
          87,
          78,
          76,
          76,
          76,
          80,
          89,
          91,
          91,
          78,
          76,
          76,
          83,
          89,
          91,
          90,
          76,
          79,
          92,
          93,
          91,
          92,
          86,
          76,
          78,
          91,
          77,
          77,
          92,
          91,
          79,
          77,
          82,
          91,
          76,
          72,
          88,
          76,
          76,
          88,
          92,
          91,
          91,
          91,
          73,
          76
         ],
         "yaxis": "y"
        }
       ],
       "layout": {
        "legend": {
         "title": {
          "text": "User ID"
         },
         "tracegroupgap": 0
        },
        "template": {
         "data": {
          "bar": [
           {
            "error_x": {
             "color": "#2a3f5f"
            },
            "error_y": {
             "color": "#2a3f5f"
            },
            "marker": {
             "line": {
              "color": "#E5ECF6",
              "width": 0.5
             },
             "pattern": {
              "fillmode": "overlay",
              "size": 10,
              "solidity": 0.2
             }
            },
            "type": "bar"
           }
          ],
          "barpolar": [
           {
            "marker": {
             "line": {
              "color": "#E5ECF6",
              "width": 0.5
             },
             "pattern": {
              "fillmode": "overlay",
              "size": 10,
              "solidity": 0.2
             }
            },
            "type": "barpolar"
           }
          ],
          "carpet": [
           {
            "aaxis": {
             "endlinecolor": "#2a3f5f",
             "gridcolor": "white",
             "linecolor": "white",
             "minorgridcolor": "white",
             "startlinecolor": "#2a3f5f"
            },
            "baxis": {
             "endlinecolor": "#2a3f5f",
             "gridcolor": "white",
             "linecolor": "white",
             "minorgridcolor": "white",
             "startlinecolor": "#2a3f5f"
            },
            "type": "carpet"
           }
          ],
          "choropleth": [
           {
            "colorbar": {
             "outlinewidth": 0,
             "ticks": ""
            },
            "type": "choropleth"
           }
          ],
          "contour": [
           {
            "colorbar": {
             "outlinewidth": 0,
             "ticks": ""
            },
            "colorscale": [
             [
              0,
              "#0d0887"
             ],
             [
              0.1111111111111111,
              "#46039f"
             ],
             [
              0.2222222222222222,
              "#7201a8"
             ],
             [
              0.3333333333333333,
              "#9c179e"
             ],
             [
              0.4444444444444444,
              "#bd3786"
             ],
             [
              0.5555555555555556,
              "#d8576b"
             ],
             [
              0.6666666666666666,
              "#ed7953"
             ],
             [
              0.7777777777777778,
              "#fb9f3a"
             ],
             [
              0.8888888888888888,
              "#fdca26"
             ],
             [
              1,
              "#f0f921"
             ]
            ],
            "type": "contour"
           }
          ],
          "contourcarpet": [
           {
            "colorbar": {
             "outlinewidth": 0,
             "ticks": ""
            },
            "type": "contourcarpet"
           }
          ],
          "heatmap": [
           {
            "colorbar": {
             "outlinewidth": 0,
             "ticks": ""
            },
            "colorscale": [
             [
              0,
              "#0d0887"
             ],
             [
              0.1111111111111111,
              "#46039f"
             ],
             [
              0.2222222222222222,
              "#7201a8"
             ],
             [
              0.3333333333333333,
              "#9c179e"
             ],
             [
              0.4444444444444444,
              "#bd3786"
             ],
             [
              0.5555555555555556,
              "#d8576b"
             ],
             [
              0.6666666666666666,
              "#ed7953"
             ],
             [
              0.7777777777777778,
              "#fb9f3a"
             ],
             [
              0.8888888888888888,
              "#fdca26"
             ],
             [
              1,
              "#f0f921"
             ]
            ],
            "type": "heatmap"
           }
          ],
          "heatmapgl": [
           {
            "colorbar": {
             "outlinewidth": 0,
             "ticks": ""
            },
            "colorscale": [
             [
              0,
              "#0d0887"
             ],
             [
              0.1111111111111111,
              "#46039f"
             ],
             [
              0.2222222222222222,
              "#7201a8"
             ],
             [
              0.3333333333333333,
              "#9c179e"
             ],
             [
              0.4444444444444444,
              "#bd3786"
             ],
             [
              0.5555555555555556,
              "#d8576b"
             ],
             [
              0.6666666666666666,
              "#ed7953"
             ],
             [
              0.7777777777777778,
              "#fb9f3a"
             ],
             [
              0.8888888888888888,
              "#fdca26"
             ],
             [
              1,
              "#f0f921"
             ]
            ],
            "type": "heatmapgl"
           }
          ],
          "histogram": [
           {
            "marker": {
             "pattern": {
              "fillmode": "overlay",
              "size": 10,
              "solidity": 0.2
             }
            },
            "type": "histogram"
           }
          ],
          "histogram2d": [
           {
            "colorbar": {
             "outlinewidth": 0,
             "ticks": ""
            },
            "colorscale": [
             [
              0,
              "#0d0887"
             ],
             [
              0.1111111111111111,
              "#46039f"
             ],
             [
              0.2222222222222222,
              "#7201a8"
             ],
             [
              0.3333333333333333,
              "#9c179e"
             ],
             [
              0.4444444444444444,
              "#bd3786"
             ],
             [
              0.5555555555555556,
              "#d8576b"
             ],
             [
              0.6666666666666666,
              "#ed7953"
             ],
             [
              0.7777777777777778,
              "#fb9f3a"
             ],
             [
              0.8888888888888888,
              "#fdca26"
             ],
             [
              1,
              "#f0f921"
             ]
            ],
            "type": "histogram2d"
           }
          ],
          "histogram2dcontour": [
           {
            "colorbar": {
             "outlinewidth": 0,
             "ticks": ""
            },
            "colorscale": [
             [
              0,
              "#0d0887"
             ],
             [
              0.1111111111111111,
              "#46039f"
             ],
             [
              0.2222222222222222,
              "#7201a8"
             ],
             [
              0.3333333333333333,
              "#9c179e"
             ],
             [
              0.4444444444444444,
              "#bd3786"
             ],
             [
              0.5555555555555556,
              "#d8576b"
             ],
             [
              0.6666666666666666,
              "#ed7953"
             ],
             [
              0.7777777777777778,
              "#fb9f3a"
             ],
             [
              0.8888888888888888,
              "#fdca26"
             ],
             [
              1,
              "#f0f921"
             ]
            ],
            "type": "histogram2dcontour"
           }
          ],
          "mesh3d": [
           {
            "colorbar": {
             "outlinewidth": 0,
             "ticks": ""
            },
            "type": "mesh3d"
           }
          ],
          "parcoords": [
           {
            "line": {
             "colorbar": {
              "outlinewidth": 0,
              "ticks": ""
             }
            },
            "type": "parcoords"
           }
          ],
          "pie": [
           {
            "automargin": true,
            "type": "pie"
           }
          ],
          "scatter": [
           {
            "fillpattern": {
             "fillmode": "overlay",
             "size": 10,
             "solidity": 0.2
            },
            "type": "scatter"
           }
          ],
          "scatter3d": [
           {
            "line": {
             "colorbar": {
              "outlinewidth": 0,
              "ticks": ""
             }
            },
            "marker": {
             "colorbar": {
              "outlinewidth": 0,
              "ticks": ""
             }
            },
            "type": "scatter3d"
           }
          ],
          "scattercarpet": [
           {
            "marker": {
             "colorbar": {
              "outlinewidth": 0,
              "ticks": ""
             }
            },
            "type": "scattercarpet"
           }
          ],
          "scattergeo": [
           {
            "marker": {
             "colorbar": {
              "outlinewidth": 0,
              "ticks": ""
             }
            },
            "type": "scattergeo"
           }
          ],
          "scattergl": [
           {
            "marker": {
             "colorbar": {
              "outlinewidth": 0,
              "ticks": ""
             }
            },
            "type": "scattergl"
           }
          ],
          "scattermapbox": [
           {
            "marker": {
             "colorbar": {
              "outlinewidth": 0,
              "ticks": ""
             }
            },
            "type": "scattermapbox"
           }
          ],
          "scatterpolar": [
           {
            "marker": {
             "colorbar": {
              "outlinewidth": 0,
              "ticks": ""
             }
            },
            "type": "scatterpolar"
           }
          ],
          "scatterpolargl": [
           {
            "marker": {
             "colorbar": {
              "outlinewidth": 0,
              "ticks": ""
             }
            },
            "type": "scatterpolargl"
           }
          ],
          "scatterternary": [
           {
            "marker": {
             "colorbar": {
              "outlinewidth": 0,
              "ticks": ""
             }
            },
            "type": "scatterternary"
           }
          ],
          "surface": [
           {
            "colorbar": {
             "outlinewidth": 0,
             "ticks": ""
            },
            "colorscale": [
             [
              0,
              "#0d0887"
             ],
             [
              0.1111111111111111,
              "#46039f"
             ],
             [
              0.2222222222222222,
              "#7201a8"
             ],
             [
              0.3333333333333333,
              "#9c179e"
             ],
             [
              0.4444444444444444,
              "#bd3786"
             ],
             [
              0.5555555555555556,
              "#d8576b"
             ],
             [
              0.6666666666666666,
              "#ed7953"
             ],
             [
              0.7777777777777778,
              "#fb9f3a"
             ],
             [
              0.8888888888888888,
              "#fdca26"
             ],
             [
              1,
              "#f0f921"
             ]
            ],
            "type": "surface"
           }
          ],
          "table": [
           {
            "cells": {
             "fill": {
              "color": "#EBF0F8"
             },
             "line": {
              "color": "white"
             }
            },
            "header": {
             "fill": {
              "color": "#C8D4E3"
             },
             "line": {
              "color": "white"
             }
            },
            "type": "table"
           }
          ]
         },
         "layout": {
          "annotationdefaults": {
           "arrowcolor": "#2a3f5f",
           "arrowhead": 0,
           "arrowwidth": 1
          },
          "autotypenumbers": "strict",
          "coloraxis": {
           "colorbar": {
            "outlinewidth": 0,
            "ticks": ""
           }
          },
          "colorscale": {
           "diverging": [
            [
             0,
             "#8e0152"
            ],
            [
             0.1,
             "#c51b7d"
            ],
            [
             0.2,
             "#de77ae"
            ],
            [
             0.3,
             "#f1b6da"
            ],
            [
             0.4,
             "#fde0ef"
            ],
            [
             0.5,
             "#f7f7f7"
            ],
            [
             0.6,
             "#e6f5d0"
            ],
            [
             0.7,
             "#b8e186"
            ],
            [
             0.8,
             "#7fbc41"
            ],
            [
             0.9,
             "#4d9221"
            ],
            [
             1,
             "#276419"
            ]
           ],
           "sequential": [
            [
             0,
             "#0d0887"
            ],
            [
             0.1111111111111111,
             "#46039f"
            ],
            [
             0.2222222222222222,
             "#7201a8"
            ],
            [
             0.3333333333333333,
             "#9c179e"
            ],
            [
             0.4444444444444444,
             "#bd3786"
            ],
            [
             0.5555555555555556,
             "#d8576b"
            ],
            [
             0.6666666666666666,
             "#ed7953"
            ],
            [
             0.7777777777777778,
             "#fb9f3a"
            ],
            [
             0.8888888888888888,
             "#fdca26"
            ],
            [
             1,
             "#f0f921"
            ]
           ],
           "sequentialminus": [
            [
             0,
             "#0d0887"
            ],
            [
             0.1111111111111111,
             "#46039f"
            ],
            [
             0.2222222222222222,
             "#7201a8"
            ],
            [
             0.3333333333333333,
             "#9c179e"
            ],
            [
             0.4444444444444444,
             "#bd3786"
            ],
            [
             0.5555555555555556,
             "#d8576b"
            ],
            [
             0.6666666666666666,
             "#ed7953"
            ],
            [
             0.7777777777777778,
             "#fb9f3a"
            ],
            [
             0.8888888888888888,
             "#fdca26"
            ],
            [
             1,
             "#f0f921"
            ]
           ]
          },
          "colorway": [
           "#636efa",
           "#EF553B",
           "#00cc96",
           "#ab63fa",
           "#FFA15A",
           "#19d3f3",
           "#FF6692",
           "#B6E880",
           "#FF97FF",
           "#FECB52"
          ],
          "font": {
           "color": "#2a3f5f"
          },
          "geo": {
           "bgcolor": "white",
           "lakecolor": "white",
           "landcolor": "#E5ECF6",
           "showlakes": true,
           "showland": true,
           "subunitcolor": "white"
          },
          "hoverlabel": {
           "align": "left"
          },
          "hovermode": "closest",
          "mapbox": {
           "style": "light"
          },
          "paper_bgcolor": "white",
          "plot_bgcolor": "#E5ECF6",
          "polar": {
           "angularaxis": {
            "gridcolor": "white",
            "linecolor": "white",
            "ticks": ""
           },
           "bgcolor": "#E5ECF6",
           "radialaxis": {
            "gridcolor": "white",
            "linecolor": "white",
            "ticks": ""
           }
          },
          "scene": {
           "xaxis": {
            "backgroundcolor": "#E5ECF6",
            "gridcolor": "white",
            "gridwidth": 2,
            "linecolor": "white",
            "showbackground": true,
            "ticks": "",
            "zerolinecolor": "white"
           },
           "yaxis": {
            "backgroundcolor": "#E5ECF6",
            "gridcolor": "white",
            "gridwidth": 2,
            "linecolor": "white",
            "showbackground": true,
            "ticks": "",
            "zerolinecolor": "white"
           },
           "zaxis": {
            "backgroundcolor": "#E5ECF6",
            "gridcolor": "white",
            "gridwidth": 2,
            "linecolor": "white",
            "showbackground": true,
            "ticks": "",
            "zerolinecolor": "white"
           }
          },
          "shapedefaults": {
           "line": {
            "color": "#2a3f5f"
           }
          },
          "ternary": {
           "aaxis": {
            "gridcolor": "white",
            "linecolor": "white",
            "ticks": ""
           },
           "baxis": {
            "gridcolor": "white",
            "linecolor": "white",
            "ticks": ""
           },
           "bgcolor": "#E5ECF6",
           "caxis": {
            "gridcolor": "white",
            "linecolor": "white",
            "ticks": ""
           }
          },
          "title": {
           "x": 0.05
          },
          "xaxis": {
           "automargin": true,
           "gridcolor": "white",
           "linecolor": "white",
           "ticks": "",
           "title": {
            "standoff": 15
           },
           "zerolinecolor": "white",
           "zerolinewidth": 2
          },
          "yaxis": {
           "automargin": true,
           "gridcolor": "white",
           "linecolor": "white",
           "ticks": "",
           "title": {
            "standoff": 15
           },
           "zerolinecolor": "white",
           "zerolinewidth": 2
          }
         }
        },
        "title": {
         "text": "User Y Position Over Time"
        },
        "xaxis": {
         "anchor": "y",
         "domain": [
          0,
          1
         ],
         "title": {
          "text": "time"
         }
        },
        "yaxis": {
         "anchor": "x",
         "domain": [
          0,
          1
         ],
         "range": [
          0,
          200
         ],
         "title": {
          "text": "Y Position"
         }
        }
       }
      },
      "text/html": [
       "<div>                            <div id=\"0a2cc165-ce9b-4b64-a68d-1cc441faea59\" class=\"plotly-graph-div\" style=\"height:525px; width:100%;\"></div>            <script type=\"text/javascript\">                require([\"plotly\"], function(Plotly) {                    window.PLOTLYENV=window.PLOTLYENV || {};                                    if (document.getElementById(\"0a2cc165-ce9b-4b64-a68d-1cc441faea59\")) {                    Plotly.newPlot(                        \"0a2cc165-ce9b-4b64-a68d-1cc441faea59\",                        [{\"hovertemplate\":\"User ID=20018\\u003cbr\\u003etime=%{x}\\u003cbr\\u003eY Position=%{y}\\u003cextra\\u003e\\u003c\\u002fextra\\u003e\",\"legendgroup\":\"20018\",\"line\":{\"color\":\"#636efa\",\"dash\":\"solid\"},\"marker\":{\"symbol\":\"circle\"},\"mode\":\"lines+markers\",\"name\":\"20018\",\"orientation\":\"v\",\"showlegend\":true,\"x\":[211,212,213,214,215,225,226,227,252,254,255,256,264,274,275,276,310,311,312,317,318,320,321,322,323,324,444,447,448,461,462,465,466,468,469,501,503,504,507,510,511,512,514,540,541,543,544,554,556,557,559,560,590,591,592,599,600,601,602,603,605,606,609,610,649,650,651,652,653,654,656,658,661,662,693,700,701,702,705,706,707,708,735,743,745,746,747,748,749,750,755,759,760,761,783,784,793,794,795,796,800,801,802,803,829,832,833,843,844,846,847,851,852,876,877,879,880,884,885,886,887,888,889,890,894,895,897,902,903,907,929,930,940,941,945,946,947,964,966,985,986,987,988,989,990,991,992,993,1034,1036,1037,1038,1056,1057,1068,1069,1077,1078,1079,1080,1081,1082,1084,1086,1089,1090,1091,1092,1121,1126,1127,1128,1129,1130,1131,1132,1136,1137,1140,1141,1164,1165,1167,1168,1173,1174,1176,1177,1186,1187,1215,1216,1218,1219,1221,1225,1226,1229,1230,1231,1232,1234,1261,1262,1263,1264,1268,1270,1271,1272,1276,1277,1278,1279,1281,1282,1283,1284,1317,1318,1319,1321,1322,1324,1326,1327,1328,1339,1340,1341,1366,1368,1369,1370,1371,1372,1375,1376,1377,1418,1419,1422,1423,1424,1425,1426,1453,1455,1456,1458,1459,1461,1462,1468,1472,1473,1475,1476,1500,1501,1505,1516,1517,1518,1519,1520,1521,1522,1549,1556,1557,1561,1567,1568,1569,1570,1597,1598,1599,1600,1610,1611,1613,1614,1617,1618,1645,1658,1659,1660,1661,1662,1664,1665,1674,1675,1699,1700,1705,1706,1707,1709,1710,1711,1712,1713,1714,1715,1749,1753,1756,1758,1759,1760,1761,1762,1763,1764,1769,1770,1771,1772,1806,1807,1809,1837,1838,1844,1847,1848,1849,1852,1853,1854,1858,1859,1884,1885,1889,1895,1896,1897,1898,1899,1903,1904,1906,1907,1930,1933,1935,1936,1941,1942,1945,1946,1947,1948,1949,1950,1953,1954,1981,1986,1991,1993,1995,1996,1997,2001,2002,2043,2044,2049,2050,2084,2085,2086,2087,2091,2092,2095,2096,2097,2098,2099,2101,2125,2127,2128,2135,2136,2141,2142,2143,2144,2145,2146,2173,2177,2178,2179,2180,2182,2184,2191,2192,2194,2195,2221,2223,2224,2230,2231,2232,2239,2240,2243,2244,2268,2269,2275,2276,2283,2284,2285,2290,2291,2292,2294,2320,2321,2322,2323,2324,2328,2329,2330,2332,2334,2341,2342,2371,2372,2373,2374,2387,2418,2419,2421,2422,2423,2424,2425,2426,2429,2430,2432,2433,2434,2435,2440,2467,2468,2474,2475,2476,2479,2480,2481,2482,2483,2509,2515,2516,2526,2527,2528,2529,2530,2557,2558,2572,2573,2574,2578,2579,2605,2608,2617,2619,2620,2621,2622,2623,2625,2626,2664,2665,2667,2668,2669,2670,2673,2674,2707,2708,2709,2710,2713,2716,2717,2718,2751,2752,2759,2760,2761,2764,2769,2770,2771,2772,2773,2797,2802,2807,2808,2809,2810,2811,2812,2813,2814,2816,2818,2819,2845,2852,2859,2861,2863,2865,2866,2867,2893,2898,2899,2903,2904,2906,2907,2908,2909,2910,2913,2914,2940,2941,2948,2949,2950,2951,2953,2957,2961,2962,2999,3003,3004,3006,3007,3008,3009,3048,3049,3051,3054,3055,3056,3057,3084,3085,3092,3093,3095,3096,3100,3101,3108,3109,3133,3137,3138,3144,3145,3147,3152,3153,3155,3156,3180,3181,3183,3184,3185,3191,3192,3194,3200,3202,3203,3229,3232,3236,3237,3238,3240,3241,3242,3243,3244,3246,3277,3281,3285,3287,3288,3290,3291,3293,3299,3300,3301,3333,3335,3336,3339,3342,3343,3344,3384,3385,3386,3389,3390,3391,3394,3420,3421,3427,3428,3432,3433,3434,3435,3436,3439,3440,3441,3452,3468,3469,3470,3473,3474,3479,3480,3481,3483,3489,3490,3491,3516,3517,3523,3530,3531,3532,3537,3538,3540,3541,3542,3564,3565,3573,3574,3578,3579,3580,3583,3584,3585,3586],\"xaxis\":\"x\",\"y\":[91,80,91,92,91,88,76,76,80,92,95,91,91,90,81,76,74,75,75,80,90,91,92,91,85,76,91,77,76,76,76,78,91,92,91,92,82,75,76,81,91,91,80,80,91,90,80,90,91,94,95,92,93,95,76,91,90,78,76,76,79,88,82,76,82,80,80,81,82,88,81,80,76,76,76,76,77,79,91,91,92,91,90,91,76,77,89,92,92,91,90,76,77,85,90,85,76,90,91,91,92,91,92,76,91,89,76,77,76,81,91,88,85,77,84,89,76,74,76,91,91,92,92,92,92,92,91,89,87,91,81,76,78,91,91,91,88,76,76,76,76,87,91,92,90,76,76,76,91,81,76,76,76,76,86,88,92,93,89,78,91,76,78,92,91,91,92,91,87,74,84,89,81,92,92,91,91,91,88,87,89,91,95,88,75,71,72,74,92,91,90,76,77,91,92,86,81,76,83,91,92,79,81,91,80,76,74,74,89,76,89,92,91,91,89,76,74,77,76,76,76,77,91,76,80,90,76,91,89,76,76,74,81,80,108,80,80,91,195,194,162,157,107,93,77,76,91,92,88,87,92,91,92,91,92,91,91,76,81,89,76,88,91,91,92,91,86,76,79,89,91,92,92,92,91,89,86,91,89,76,76,76,87,91,88,76,76,77,88,92,92,91,90,76,74,76,80,88,101,112,114,113,114,104,89,87,76,76,85,92,92,92,91,91,91,91,84,76,77,91,75,76,74,76,76,77,91,92,88,90,91,91,91,91,89,76,76,91,88,83,92,91,78,76,87,91,88,76,76,86,89,87,74,76,88,92,92,92,91,91,92,76,91,92,91,92,91,88,77,77,76,87,91,93,89,86,91,91,83,74,76,88,92,92,91,92,83,91,89,76,76,74,85,91,92,92,92,76,91,91,89,76,74,79,76,79,91,90,76,91,86,78,91,92,91,92,91,90,76,77,91,86,76,85,86,91,89,76,91,92,88,76,74,76,76,75,74,76,82,93,91,76,76,86,91,95,91,90,76,82,91,90,88,75,55,32,32,36,42,57,76,91,92,91,79,92,91,93,92,92,90,76,91,80,76,79,92,91,89,76,84,91,92,91,92,85,76,84,76,76,76,76,91,92,91,76,76,77,90,89,86,85,91,92,92,92,91,91,91,91,75,76,91,84,76,74,91,92,91,93,92,92,92,77,88,90,91,94,92,91,86,91,91,91,91,88,83,90,89,76,76,90,90,74,76,91,83,76,74,76,90,92,91,88,79,77,76,80,89,76,74,75,76,76,89,89,76,76,87,89,92,91,76,76,76,73,76,76,76,76,76,77,88,89,76,76,76,86,92,92,76,91,76,76,79,88,92,90,91,92,84,76,83,93,89,84,76,88,92,91,81,77,80,76,74,74,76,74,88,87,76,77,79,87,76,74,74,76,89,92,92,88,74,76,76,76,76,87,76,74,76,78,81,91,80,76,73,74,79,87,78,76,76,76,80,89,91,91,78,76,76,83,89,91,90,76,79,92,93,91,92,86,76,78,91,77,77,92,91,79,77,82,91,76,72,88,76,76,88,92,91,91,91,73,76],\"yaxis\":\"y\",\"type\":\"scatter\"}],                        {\"template\":{\"data\":{\"histogram2dcontour\":[{\"type\":\"histogram2dcontour\",\"colorbar\":{\"outlinewidth\":0,\"ticks\":\"\"},\"colorscale\":[[0.0,\"#0d0887\"],[0.1111111111111111,\"#46039f\"],[0.2222222222222222,\"#7201a8\"],[0.3333333333333333,\"#9c179e\"],[0.4444444444444444,\"#bd3786\"],[0.5555555555555556,\"#d8576b\"],[0.6666666666666666,\"#ed7953\"],[0.7777777777777778,\"#fb9f3a\"],[0.8888888888888888,\"#fdca26\"],[1.0,\"#f0f921\"]]}],\"choropleth\":[{\"type\":\"choropleth\",\"colorbar\":{\"outlinewidth\":0,\"ticks\":\"\"}}],\"histogram2d\":[{\"type\":\"histogram2d\",\"colorbar\":{\"outlinewidth\":0,\"ticks\":\"\"},\"colorscale\":[[0.0,\"#0d0887\"],[0.1111111111111111,\"#46039f\"],[0.2222222222222222,\"#7201a8\"],[0.3333333333333333,\"#9c179e\"],[0.4444444444444444,\"#bd3786\"],[0.5555555555555556,\"#d8576b\"],[0.6666666666666666,\"#ed7953\"],[0.7777777777777778,\"#fb9f3a\"],[0.8888888888888888,\"#fdca26\"],[1.0,\"#f0f921\"]]}],\"heatmap\":[{\"type\":\"heatmap\",\"colorbar\":{\"outlinewidth\":0,\"ticks\":\"\"},\"colorscale\":[[0.0,\"#0d0887\"],[0.1111111111111111,\"#46039f\"],[0.2222222222222222,\"#7201a8\"],[0.3333333333333333,\"#9c179e\"],[0.4444444444444444,\"#bd3786\"],[0.5555555555555556,\"#d8576b\"],[0.6666666666666666,\"#ed7953\"],[0.7777777777777778,\"#fb9f3a\"],[0.8888888888888888,\"#fdca26\"],[1.0,\"#f0f921\"]]}],\"heatmapgl\":[{\"type\":\"heatmapgl\",\"colorbar\":{\"outlinewidth\":0,\"ticks\":\"\"},\"colorscale\":[[0.0,\"#0d0887\"],[0.1111111111111111,\"#46039f\"],[0.2222222222222222,\"#7201a8\"],[0.3333333333333333,\"#9c179e\"],[0.4444444444444444,\"#bd3786\"],[0.5555555555555556,\"#d8576b\"],[0.6666666666666666,\"#ed7953\"],[0.7777777777777778,\"#fb9f3a\"],[0.8888888888888888,\"#fdca26\"],[1.0,\"#f0f921\"]]}],\"contourcarpet\":[{\"type\":\"contourcarpet\",\"colorbar\":{\"outlinewidth\":0,\"ticks\":\"\"}}],\"contour\":[{\"type\":\"contour\",\"colorbar\":{\"outlinewidth\":0,\"ticks\":\"\"},\"colorscale\":[[0.0,\"#0d0887\"],[0.1111111111111111,\"#46039f\"],[0.2222222222222222,\"#7201a8\"],[0.3333333333333333,\"#9c179e\"],[0.4444444444444444,\"#bd3786\"],[0.5555555555555556,\"#d8576b\"],[0.6666666666666666,\"#ed7953\"],[0.7777777777777778,\"#fb9f3a\"],[0.8888888888888888,\"#fdca26\"],[1.0,\"#f0f921\"]]}],\"surface\":[{\"type\":\"surface\",\"colorbar\":{\"outlinewidth\":0,\"ticks\":\"\"},\"colorscale\":[[0.0,\"#0d0887\"],[0.1111111111111111,\"#46039f\"],[0.2222222222222222,\"#7201a8\"],[0.3333333333333333,\"#9c179e\"],[0.4444444444444444,\"#bd3786\"],[0.5555555555555556,\"#d8576b\"],[0.6666666666666666,\"#ed7953\"],[0.7777777777777778,\"#fb9f3a\"],[0.8888888888888888,\"#fdca26\"],[1.0,\"#f0f921\"]]}],\"mesh3d\":[{\"type\":\"mesh3d\",\"colorbar\":{\"outlinewidth\":0,\"ticks\":\"\"}}],\"scatter\":[{\"fillpattern\":{\"fillmode\":\"overlay\",\"size\":10,\"solidity\":0.2},\"type\":\"scatter\"}],\"parcoords\":[{\"type\":\"parcoords\",\"line\":{\"colorbar\":{\"outlinewidth\":0,\"ticks\":\"\"}}}],\"scatterpolargl\":[{\"type\":\"scatterpolargl\",\"marker\":{\"colorbar\":{\"outlinewidth\":0,\"ticks\":\"\"}}}],\"bar\":[{\"error_x\":{\"color\":\"#2a3f5f\"},\"error_y\":{\"color\":\"#2a3f5f\"},\"marker\":{\"line\":{\"color\":\"#E5ECF6\",\"width\":0.5},\"pattern\":{\"fillmode\":\"overlay\",\"size\":10,\"solidity\":0.2}},\"type\":\"bar\"}],\"scattergeo\":[{\"type\":\"scattergeo\",\"marker\":{\"colorbar\":{\"outlinewidth\":0,\"ticks\":\"\"}}}],\"scatterpolar\":[{\"type\":\"scatterpolar\",\"marker\":{\"colorbar\":{\"outlinewidth\":0,\"ticks\":\"\"}}}],\"histogram\":[{\"marker\":{\"pattern\":{\"fillmode\":\"overlay\",\"size\":10,\"solidity\":0.2}},\"type\":\"histogram\"}],\"scattergl\":[{\"type\":\"scattergl\",\"marker\":{\"colorbar\":{\"outlinewidth\":0,\"ticks\":\"\"}}}],\"scatter3d\":[{\"type\":\"scatter3d\",\"line\":{\"colorbar\":{\"outlinewidth\":0,\"ticks\":\"\"}},\"marker\":{\"colorbar\":{\"outlinewidth\":0,\"ticks\":\"\"}}}],\"scattermapbox\":[{\"type\":\"scattermapbox\",\"marker\":{\"colorbar\":{\"outlinewidth\":0,\"ticks\":\"\"}}}],\"scatterternary\":[{\"type\":\"scatterternary\",\"marker\":{\"colorbar\":{\"outlinewidth\":0,\"ticks\":\"\"}}}],\"scattercarpet\":[{\"type\":\"scattercarpet\",\"marker\":{\"colorbar\":{\"outlinewidth\":0,\"ticks\":\"\"}}}],\"carpet\":[{\"aaxis\":{\"endlinecolor\":\"#2a3f5f\",\"gridcolor\":\"white\",\"linecolor\":\"white\",\"minorgridcolor\":\"white\",\"startlinecolor\":\"#2a3f5f\"},\"baxis\":{\"endlinecolor\":\"#2a3f5f\",\"gridcolor\":\"white\",\"linecolor\":\"white\",\"minorgridcolor\":\"white\",\"startlinecolor\":\"#2a3f5f\"},\"type\":\"carpet\"}],\"table\":[{\"cells\":{\"fill\":{\"color\":\"#EBF0F8\"},\"line\":{\"color\":\"white\"}},\"header\":{\"fill\":{\"color\":\"#C8D4E3\"},\"line\":{\"color\":\"white\"}},\"type\":\"table\"}],\"barpolar\":[{\"marker\":{\"line\":{\"color\":\"#E5ECF6\",\"width\":0.5},\"pattern\":{\"fillmode\":\"overlay\",\"size\":10,\"solidity\":0.2}},\"type\":\"barpolar\"}],\"pie\":[{\"automargin\":true,\"type\":\"pie\"}]},\"layout\":{\"autotypenumbers\":\"strict\",\"colorway\":[\"#636efa\",\"#EF553B\",\"#00cc96\",\"#ab63fa\",\"#FFA15A\",\"#19d3f3\",\"#FF6692\",\"#B6E880\",\"#FF97FF\",\"#FECB52\"],\"font\":{\"color\":\"#2a3f5f\"},\"hovermode\":\"closest\",\"hoverlabel\":{\"align\":\"left\"},\"paper_bgcolor\":\"white\",\"plot_bgcolor\":\"#E5ECF6\",\"polar\":{\"bgcolor\":\"#E5ECF6\",\"angularaxis\":{\"gridcolor\":\"white\",\"linecolor\":\"white\",\"ticks\":\"\"},\"radialaxis\":{\"gridcolor\":\"white\",\"linecolor\":\"white\",\"ticks\":\"\"}},\"ternary\":{\"bgcolor\":\"#E5ECF6\",\"aaxis\":{\"gridcolor\":\"white\",\"linecolor\":\"white\",\"ticks\":\"\"},\"baxis\":{\"gridcolor\":\"white\",\"linecolor\":\"white\",\"ticks\":\"\"},\"caxis\":{\"gridcolor\":\"white\",\"linecolor\":\"white\",\"ticks\":\"\"}},\"coloraxis\":{\"colorbar\":{\"outlinewidth\":0,\"ticks\":\"\"}},\"colorscale\":{\"sequential\":[[0.0,\"#0d0887\"],[0.1111111111111111,\"#46039f\"],[0.2222222222222222,\"#7201a8\"],[0.3333333333333333,\"#9c179e\"],[0.4444444444444444,\"#bd3786\"],[0.5555555555555556,\"#d8576b\"],[0.6666666666666666,\"#ed7953\"],[0.7777777777777778,\"#fb9f3a\"],[0.8888888888888888,\"#fdca26\"],[1.0,\"#f0f921\"]],\"sequentialminus\":[[0.0,\"#0d0887\"],[0.1111111111111111,\"#46039f\"],[0.2222222222222222,\"#7201a8\"],[0.3333333333333333,\"#9c179e\"],[0.4444444444444444,\"#bd3786\"],[0.5555555555555556,\"#d8576b\"],[0.6666666666666666,\"#ed7953\"],[0.7777777777777778,\"#fb9f3a\"],[0.8888888888888888,\"#fdca26\"],[1.0,\"#f0f921\"]],\"diverging\":[[0,\"#8e0152\"],[0.1,\"#c51b7d\"],[0.2,\"#de77ae\"],[0.3,\"#f1b6da\"],[0.4,\"#fde0ef\"],[0.5,\"#f7f7f7\"],[0.6,\"#e6f5d0\"],[0.7,\"#b8e186\"],[0.8,\"#7fbc41\"],[0.9,\"#4d9221\"],[1,\"#276419\"]]},\"xaxis\":{\"gridcolor\":\"white\",\"linecolor\":\"white\",\"ticks\":\"\",\"title\":{\"standoff\":15},\"zerolinecolor\":\"white\",\"automargin\":true,\"zerolinewidth\":2},\"yaxis\":{\"gridcolor\":\"white\",\"linecolor\":\"white\",\"ticks\":\"\",\"title\":{\"standoff\":15},\"zerolinecolor\":\"white\",\"automargin\":true,\"zerolinewidth\":2},\"scene\":{\"xaxis\":{\"backgroundcolor\":\"#E5ECF6\",\"gridcolor\":\"white\",\"linecolor\":\"white\",\"showbackground\":true,\"ticks\":\"\",\"zerolinecolor\":\"white\",\"gridwidth\":2},\"yaxis\":{\"backgroundcolor\":\"#E5ECF6\",\"gridcolor\":\"white\",\"linecolor\":\"white\",\"showbackground\":true,\"ticks\":\"\",\"zerolinecolor\":\"white\",\"gridwidth\":2},\"zaxis\":{\"backgroundcolor\":\"#E5ECF6\",\"gridcolor\":\"white\",\"linecolor\":\"white\",\"showbackground\":true,\"ticks\":\"\",\"zerolinecolor\":\"white\",\"gridwidth\":2}},\"shapedefaults\":{\"line\":{\"color\":\"#2a3f5f\"}},\"annotationdefaults\":{\"arrowcolor\":\"#2a3f5f\",\"arrowhead\":0,\"arrowwidth\":1},\"geo\":{\"bgcolor\":\"white\",\"landcolor\":\"#E5ECF6\",\"subunitcolor\":\"white\",\"showland\":true,\"showlakes\":true,\"lakecolor\":\"white\"},\"title\":{\"x\":0.05},\"mapbox\":{\"style\":\"light\"}}},\"xaxis\":{\"anchor\":\"y\",\"domain\":[0.0,1.0],\"title\":{\"text\":\"time\"}},\"yaxis\":{\"anchor\":\"x\",\"domain\":[0.0,1.0],\"title\":{\"text\":\"Y Position\"},\"range\":[0,200]},\"legend\":{\"title\":{\"text\":\"User ID\"},\"tracegroupgap\":0},\"title\":{\"text\":\"User Y Position Over Time\"}},                        {\"responsive\": true}                    ).then(function(){\n",
       "                            \n",
       "var gd = document.getElementById('0a2cc165-ce9b-4b64-a68d-1cc441faea59');\n",
       "var x = new MutationObserver(function (mutations, observer) {{\n",
       "        var display = window.getComputedStyle(gd).display;\n",
       "        if (!display || display === 'none') {{\n",
       "            console.log([gd, 'removed!']);\n",
       "            Plotly.purge(gd);\n",
       "            observer.disconnect();\n",
       "        }}\n",
       "}});\n",
       "\n",
       "// Listen for the removal of the full notebook cells\n",
       "var notebookContainer = gd.closest('#notebook-container');\n",
       "if (notebookContainer) {{\n",
       "    x.observe(notebookContainer, {childList: true});\n",
       "}}\n",
       "\n",
       "// Listen for the clearing of the current output cell\n",
       "var outputEl = gd.closest('.output');\n",
       "if (outputEl) {{\n",
       "    x.observe(outputEl, {childList: true});\n",
       "}}\n",
       "\n",
       "                        })                };                });            </script>        </div>"
      ]
     },
     "metadata": {},
     "output_type": "display_data"
    }
   ],
   "source": [
    "plot_xy_trajectory(df_b, test_case)"
   ]
  },
  {
   "cell_type": "code",
   "execution_count": 47,
   "metadata": {},
   "outputs": [
    {
     "name": "stderr",
     "output_type": "stream",
     "text": [
      "/opt/conda/lib/python3.10/site-packages/plotly/express/_core.py:2065: FutureWarning:\n",
      "\n",
      "When grouping with a length-1 list-like, you will need to pass a length-1 tuple to get_group in a future version of pandas. Pass `(name,)` instead of `name` to silence this warning.\n",
      "\n",
      "/opt/conda/lib/python3.10/site-packages/plotly/express/_core.py:2065: FutureWarning:\n",
      "\n",
      "When grouping with a length-1 list-like, you will need to pass a length-1 tuple to get_group in a future version of pandas. Pass `(name,)` instead of `name` to silence this warning.\n",
      "\n"
     ]
    },
    {
     "data": {
      "application/vnd.plotly.v1+json": {
       "config": {
        "plotlyServerURL": "https://plot.ly"
       },
       "data": [
        {
         "hovertemplate": "Data Type=Prediction<br>time=%{x}<br>Time=%{y}<extra></extra>",
         "legendgroup": "Prediction",
         "line": {
          "color": "#636efa",
          "dash": "solid"
         },
         "marker": {
          "symbol": "circle"
         },
         "mode": "lines+markers",
         "name": "Prediction",
         "orientation": "v",
         "showlegend": true,
         "type": "scatter",
         "x": [
          2893,
          2898,
          2899,
          2903,
          2904,
          2906,
          2907,
          2908,
          2909,
          2910,
          2913,
          2914,
          2940,
          2941,
          2948,
          2949,
          2950,
          2951,
          2953,
          2957,
          2961,
          2962,
          2999,
          3003,
          3004,
          3006,
          3007,
          3008,
          3009,
          3048,
          3049,
          3051,
          3054,
          3055,
          3056,
          3057,
          3084,
          3085,
          3092,
          3093,
          3095,
          3096,
          3100,
          3101,
          3108,
          3109,
          3133,
          3137,
          3138,
          3144,
          3145,
          3147,
          3152,
          3153,
          3155,
          3156,
          3180,
          3181,
          3183,
          3184,
          3185,
          3191,
          3192,
          3194,
          3200,
          3202,
          3203,
          3229,
          3232,
          3236,
          3237,
          3238,
          3240,
          3241,
          3242,
          3243,
          3244,
          3246,
          3277,
          3281,
          3285,
          3287,
          3288,
          3290,
          3291,
          3293,
          3299,
          3300,
          3301,
          3333,
          3335,
          3336,
          3339,
          3342,
          3343,
          3344,
          3384,
          3385,
          3386,
          3389,
          3390,
          3391,
          3394,
          3420,
          3421,
          3427,
          3428,
          3432,
          3433,
          3434,
          3435,
          3436,
          3439,
          3440,
          3441,
          3452,
          3468,
          3469,
          3470,
          3473,
          3474,
          3479,
          3480,
          3481,
          3483,
          3489,
          3490,
          3491,
          3516,
          3517,
          3523,
          3530,
          3531,
          3532,
          3537,
          3538,
          3540,
          3541,
          3542,
          3564,
          3565,
          3573,
          3574,
          3578,
          3579,
          3580,
          3583,
          3584,
          3585,
          3586
         ],
         "xaxis": "x",
         "y": [
          77,
          77,
          77,
          77,
          77,
          77,
          77,
          77,
          77,
          77,
          77,
          77,
          77,
          77,
          77,
          77,
          77,
          77,
          77,
          77,
          77,
          77,
          77,
          77,
          77,
          77,
          77,
          77,
          77,
          77,
          77,
          77,
          77,
          77,
          77,
          77,
          77,
          77,
          77,
          77,
          77,
          77,
          77,
          77,
          77,
          77,
          77,
          77,
          77,
          77,
          77,
          77,
          77,
          77,
          77,
          77,
          77,
          77,
          77,
          77,
          77,
          77,
          77,
          77,
          77,
          77,
          77,
          77,
          77,
          77,
          77,
          77,
          77,
          77,
          77,
          77,
          77,
          77,
          77,
          77,
          77,
          77,
          77,
          77,
          77,
          77,
          77,
          77,
          77,
          77,
          77,
          77,
          77,
          77,
          77,
          77,
          77,
          77,
          77,
          77,
          77,
          77,
          77,
          77,
          77,
          77,
          77,
          77,
          77,
          77,
          77,
          77,
          77,
          77,
          77,
          77,
          77,
          77,
          77,
          77,
          77,
          77,
          77,
          77,
          77,
          77,
          77,
          77,
          77,
          77,
          77,
          77,
          77,
          77,
          77,
          77,
          77,
          77,
          77,
          77,
          77,
          77,
          77,
          77,
          77,
          77,
          77,
          77,
          77,
          77
         ],
         "yaxis": "y"
        },
        {
         "hovertemplate": "Data Type=Actual<br>time=%{x}<br>Time=%{y}<extra></extra>",
         "legendgroup": "Actual",
         "line": {
          "color": "#EF553B",
          "dash": "solid"
         },
         "marker": {
          "symbol": "circle"
         },
         "mode": "lines+markers",
         "name": "Actual",
         "orientation": "v",
         "showlegend": true,
         "type": "scatter",
         "x": [
          2893,
          2898,
          2899,
          2903,
          2904,
          2906,
          2907,
          2908,
          2909,
          2910,
          2913,
          2914,
          2940,
          2941,
          2948,
          2949,
          2950,
          2951,
          2953,
          2957,
          2961,
          2962,
          2999,
          3003,
          3004,
          3006,
          3007,
          3008,
          3009,
          3048,
          3049,
          3051,
          3054,
          3055,
          3056,
          3057,
          3084,
          3085,
          3092,
          3093,
          3095,
          3096,
          3100,
          3101,
          3108,
          3109,
          3133,
          3137,
          3138,
          3144,
          3145,
          3147,
          3152,
          3153,
          3155,
          3156,
          3180,
          3181,
          3183,
          3184,
          3185,
          3191,
          3192,
          3194,
          3200,
          3202,
          3203,
          3229,
          3232,
          3236,
          3237,
          3238,
          3240,
          3241,
          3242,
          3243,
          3244,
          3246,
          3277,
          3281,
          3285,
          3287,
          3288,
          3290,
          3291,
          3293,
          3299,
          3300,
          3301,
          3333,
          3335,
          3336,
          3339,
          3342,
          3343,
          3344,
          3384,
          3385,
          3386,
          3389,
          3390,
          3391,
          3394,
          3420,
          3421,
          3427,
          3428,
          3432,
          3433,
          3434,
          3435,
          3436,
          3439,
          3440,
          3441,
          3452,
          3468,
          3469,
          3470,
          3473,
          3474,
          3479,
          3480,
          3481,
          3483,
          3489,
          3490,
          3491,
          3516,
          3517,
          3523,
          3530,
          3531,
          3532,
          3537,
          3538,
          3540,
          3541,
          3542,
          3564,
          3565,
          3573,
          3574,
          3578,
          3579,
          3580,
          3583,
          3584,
          3585,
          3586
         ],
         "xaxis": "x",
         "y": [
          78,
          79,
          77,
          76,
          77,
          77,
          72,
          78,
          79,
          77,
          76,
          76,
          78,
          78,
          77,
          75,
          76,
          76,
          77,
          78,
          78,
          77,
          76,
          78,
          78,
          73,
          78,
          76,
          77,
          76,
          77,
          77,
          76,
          77,
          76,
          77,
          76,
          78,
          78,
          77,
          76,
          77,
          78,
          78,
          79,
          77,
          78,
          76,
          77,
          77,
          78,
          73,
          74,
          78,
          79,
          79,
          77,
          79,
          78,
          79,
          80,
          76,
          78,
          79,
          78,
          78,
          76,
          78,
          77,
          75,
          76,
          77,
          76,
          78,
          78,
          77,
          76,
          76,
          78,
          77,
          76,
          76,
          77,
          78,
          78,
          72,
          79,
          75,
          77,
          77,
          76,
          77,
          78,
          77,
          75,
          77,
          75,
          75,
          78,
          78,
          77,
          76,
          76,
          77,
          78,
          77,
          77,
          76,
          77,
          77,
          79,
          78,
          77,
          77,
          77,
          77,
          79,
          78,
          78,
          78,
          77,
          76,
          73,
          77,
          78,
          77,
          79,
          76,
          76,
          78,
          77,
          76,
          72,
          78,
          76,
          76,
          79,
          78,
          77,
          78,
          78,
          76,
          77,
          78,
          72,
          78,
          77,
          78,
          76,
          77
         ],
         "yaxis": "y"
        }
       ],
       "layout": {
        "legend": {
         "title": {
          "text": "Data Type"
         },
         "tracegroupgap": 0
        },
        "template": {
         "data": {
          "bar": [
           {
            "error_x": {
             "color": "#2a3f5f"
            },
            "error_y": {
             "color": "#2a3f5f"
            },
            "marker": {
             "line": {
              "color": "#E5ECF6",
              "width": 0.5
             },
             "pattern": {
              "fillmode": "overlay",
              "size": 10,
              "solidity": 0.2
             }
            },
            "type": "bar"
           }
          ],
          "barpolar": [
           {
            "marker": {
             "line": {
              "color": "#E5ECF6",
              "width": 0.5
             },
             "pattern": {
              "fillmode": "overlay",
              "size": 10,
              "solidity": 0.2
             }
            },
            "type": "barpolar"
           }
          ],
          "carpet": [
           {
            "aaxis": {
             "endlinecolor": "#2a3f5f",
             "gridcolor": "white",
             "linecolor": "white",
             "minorgridcolor": "white",
             "startlinecolor": "#2a3f5f"
            },
            "baxis": {
             "endlinecolor": "#2a3f5f",
             "gridcolor": "white",
             "linecolor": "white",
             "minorgridcolor": "white",
             "startlinecolor": "#2a3f5f"
            },
            "type": "carpet"
           }
          ],
          "choropleth": [
           {
            "colorbar": {
             "outlinewidth": 0,
             "ticks": ""
            },
            "type": "choropleth"
           }
          ],
          "contour": [
           {
            "colorbar": {
             "outlinewidth": 0,
             "ticks": ""
            },
            "colorscale": [
             [
              0,
              "#0d0887"
             ],
             [
              0.1111111111111111,
              "#46039f"
             ],
             [
              0.2222222222222222,
              "#7201a8"
             ],
             [
              0.3333333333333333,
              "#9c179e"
             ],
             [
              0.4444444444444444,
              "#bd3786"
             ],
             [
              0.5555555555555556,
              "#d8576b"
             ],
             [
              0.6666666666666666,
              "#ed7953"
             ],
             [
              0.7777777777777778,
              "#fb9f3a"
             ],
             [
              0.8888888888888888,
              "#fdca26"
             ],
             [
              1,
              "#f0f921"
             ]
            ],
            "type": "contour"
           }
          ],
          "contourcarpet": [
           {
            "colorbar": {
             "outlinewidth": 0,
             "ticks": ""
            },
            "type": "contourcarpet"
           }
          ],
          "heatmap": [
           {
            "colorbar": {
             "outlinewidth": 0,
             "ticks": ""
            },
            "colorscale": [
             [
              0,
              "#0d0887"
             ],
             [
              0.1111111111111111,
              "#46039f"
             ],
             [
              0.2222222222222222,
              "#7201a8"
             ],
             [
              0.3333333333333333,
              "#9c179e"
             ],
             [
              0.4444444444444444,
              "#bd3786"
             ],
             [
              0.5555555555555556,
              "#d8576b"
             ],
             [
              0.6666666666666666,
              "#ed7953"
             ],
             [
              0.7777777777777778,
              "#fb9f3a"
             ],
             [
              0.8888888888888888,
              "#fdca26"
             ],
             [
              1,
              "#f0f921"
             ]
            ],
            "type": "heatmap"
           }
          ],
          "heatmapgl": [
           {
            "colorbar": {
             "outlinewidth": 0,
             "ticks": ""
            },
            "colorscale": [
             [
              0,
              "#0d0887"
             ],
             [
              0.1111111111111111,
              "#46039f"
             ],
             [
              0.2222222222222222,
              "#7201a8"
             ],
             [
              0.3333333333333333,
              "#9c179e"
             ],
             [
              0.4444444444444444,
              "#bd3786"
             ],
             [
              0.5555555555555556,
              "#d8576b"
             ],
             [
              0.6666666666666666,
              "#ed7953"
             ],
             [
              0.7777777777777778,
              "#fb9f3a"
             ],
             [
              0.8888888888888888,
              "#fdca26"
             ],
             [
              1,
              "#f0f921"
             ]
            ],
            "type": "heatmapgl"
           }
          ],
          "histogram": [
           {
            "marker": {
             "pattern": {
              "fillmode": "overlay",
              "size": 10,
              "solidity": 0.2
             }
            },
            "type": "histogram"
           }
          ],
          "histogram2d": [
           {
            "colorbar": {
             "outlinewidth": 0,
             "ticks": ""
            },
            "colorscale": [
             [
              0,
              "#0d0887"
             ],
             [
              0.1111111111111111,
              "#46039f"
             ],
             [
              0.2222222222222222,
              "#7201a8"
             ],
             [
              0.3333333333333333,
              "#9c179e"
             ],
             [
              0.4444444444444444,
              "#bd3786"
             ],
             [
              0.5555555555555556,
              "#d8576b"
             ],
             [
              0.6666666666666666,
              "#ed7953"
             ],
             [
              0.7777777777777778,
              "#fb9f3a"
             ],
             [
              0.8888888888888888,
              "#fdca26"
             ],
             [
              1,
              "#f0f921"
             ]
            ],
            "type": "histogram2d"
           }
          ],
          "histogram2dcontour": [
           {
            "colorbar": {
             "outlinewidth": 0,
             "ticks": ""
            },
            "colorscale": [
             [
              0,
              "#0d0887"
             ],
             [
              0.1111111111111111,
              "#46039f"
             ],
             [
              0.2222222222222222,
              "#7201a8"
             ],
             [
              0.3333333333333333,
              "#9c179e"
             ],
             [
              0.4444444444444444,
              "#bd3786"
             ],
             [
              0.5555555555555556,
              "#d8576b"
             ],
             [
              0.6666666666666666,
              "#ed7953"
             ],
             [
              0.7777777777777778,
              "#fb9f3a"
             ],
             [
              0.8888888888888888,
              "#fdca26"
             ],
             [
              1,
              "#f0f921"
             ]
            ],
            "type": "histogram2dcontour"
           }
          ],
          "mesh3d": [
           {
            "colorbar": {
             "outlinewidth": 0,
             "ticks": ""
            },
            "type": "mesh3d"
           }
          ],
          "parcoords": [
           {
            "line": {
             "colorbar": {
              "outlinewidth": 0,
              "ticks": ""
             }
            },
            "type": "parcoords"
           }
          ],
          "pie": [
           {
            "automargin": true,
            "type": "pie"
           }
          ],
          "scatter": [
           {
            "fillpattern": {
             "fillmode": "overlay",
             "size": 10,
             "solidity": 0.2
            },
            "type": "scatter"
           }
          ],
          "scatter3d": [
           {
            "line": {
             "colorbar": {
              "outlinewidth": 0,
              "ticks": ""
             }
            },
            "marker": {
             "colorbar": {
              "outlinewidth": 0,
              "ticks": ""
             }
            },
            "type": "scatter3d"
           }
          ],
          "scattercarpet": [
           {
            "marker": {
             "colorbar": {
              "outlinewidth": 0,
              "ticks": ""
             }
            },
            "type": "scattercarpet"
           }
          ],
          "scattergeo": [
           {
            "marker": {
             "colorbar": {
              "outlinewidth": 0,
              "ticks": ""
             }
            },
            "type": "scattergeo"
           }
          ],
          "scattergl": [
           {
            "marker": {
             "colorbar": {
              "outlinewidth": 0,
              "ticks": ""
             }
            },
            "type": "scattergl"
           }
          ],
          "scattermapbox": [
           {
            "marker": {
             "colorbar": {
              "outlinewidth": 0,
              "ticks": ""
             }
            },
            "type": "scattermapbox"
           }
          ],
          "scatterpolar": [
           {
            "marker": {
             "colorbar": {
              "outlinewidth": 0,
              "ticks": ""
             }
            },
            "type": "scatterpolar"
           }
          ],
          "scatterpolargl": [
           {
            "marker": {
             "colorbar": {
              "outlinewidth": 0,
              "ticks": ""
             }
            },
            "type": "scatterpolargl"
           }
          ],
          "scatterternary": [
           {
            "marker": {
             "colorbar": {
              "outlinewidth": 0,
              "ticks": ""
             }
            },
            "type": "scatterternary"
           }
          ],
          "surface": [
           {
            "colorbar": {
             "outlinewidth": 0,
             "ticks": ""
            },
            "colorscale": [
             [
              0,
              "#0d0887"
             ],
             [
              0.1111111111111111,
              "#46039f"
             ],
             [
              0.2222222222222222,
              "#7201a8"
             ],
             [
              0.3333333333333333,
              "#9c179e"
             ],
             [
              0.4444444444444444,
              "#bd3786"
             ],
             [
              0.5555555555555556,
              "#d8576b"
             ],
             [
              0.6666666666666666,
              "#ed7953"
             ],
             [
              0.7777777777777778,
              "#fb9f3a"
             ],
             [
              0.8888888888888888,
              "#fdca26"
             ],
             [
              1,
              "#f0f921"
             ]
            ],
            "type": "surface"
           }
          ],
          "table": [
           {
            "cells": {
             "fill": {
              "color": "#EBF0F8"
             },
             "line": {
              "color": "white"
             }
            },
            "header": {
             "fill": {
              "color": "#C8D4E3"
             },
             "line": {
              "color": "white"
             }
            },
            "type": "table"
           }
          ]
         },
         "layout": {
          "annotationdefaults": {
           "arrowcolor": "#2a3f5f",
           "arrowhead": 0,
           "arrowwidth": 1
          },
          "autotypenumbers": "strict",
          "coloraxis": {
           "colorbar": {
            "outlinewidth": 0,
            "ticks": ""
           }
          },
          "colorscale": {
           "diverging": [
            [
             0,
             "#8e0152"
            ],
            [
             0.1,
             "#c51b7d"
            ],
            [
             0.2,
             "#de77ae"
            ],
            [
             0.3,
             "#f1b6da"
            ],
            [
             0.4,
             "#fde0ef"
            ],
            [
             0.5,
             "#f7f7f7"
            ],
            [
             0.6,
             "#e6f5d0"
            ],
            [
             0.7,
             "#b8e186"
            ],
            [
             0.8,
             "#7fbc41"
            ],
            [
             0.9,
             "#4d9221"
            ],
            [
             1,
             "#276419"
            ]
           ],
           "sequential": [
            [
             0,
             "#0d0887"
            ],
            [
             0.1111111111111111,
             "#46039f"
            ],
            [
             0.2222222222222222,
             "#7201a8"
            ],
            [
             0.3333333333333333,
             "#9c179e"
            ],
            [
             0.4444444444444444,
             "#bd3786"
            ],
            [
             0.5555555555555556,
             "#d8576b"
            ],
            [
             0.6666666666666666,
             "#ed7953"
            ],
            [
             0.7777777777777778,
             "#fb9f3a"
            ],
            [
             0.8888888888888888,
             "#fdca26"
            ],
            [
             1,
             "#f0f921"
            ]
           ],
           "sequentialminus": [
            [
             0,
             "#0d0887"
            ],
            [
             0.1111111111111111,
             "#46039f"
            ],
            [
             0.2222222222222222,
             "#7201a8"
            ],
            [
             0.3333333333333333,
             "#9c179e"
            ],
            [
             0.4444444444444444,
             "#bd3786"
            ],
            [
             0.5555555555555556,
             "#d8576b"
            ],
            [
             0.6666666666666666,
             "#ed7953"
            ],
            [
             0.7777777777777778,
             "#fb9f3a"
            ],
            [
             0.8888888888888888,
             "#fdca26"
            ],
            [
             1,
             "#f0f921"
            ]
           ]
          },
          "colorway": [
           "#636efa",
           "#EF553B",
           "#00cc96",
           "#ab63fa",
           "#FFA15A",
           "#19d3f3",
           "#FF6692",
           "#B6E880",
           "#FF97FF",
           "#FECB52"
          ],
          "font": {
           "color": "#2a3f5f"
          },
          "geo": {
           "bgcolor": "white",
           "lakecolor": "white",
           "landcolor": "#E5ECF6",
           "showlakes": true,
           "showland": true,
           "subunitcolor": "white"
          },
          "hoverlabel": {
           "align": "left"
          },
          "hovermode": "closest",
          "mapbox": {
           "style": "light"
          },
          "paper_bgcolor": "white",
          "plot_bgcolor": "#E5ECF6",
          "polar": {
           "angularaxis": {
            "gridcolor": "white",
            "linecolor": "white",
            "ticks": ""
           },
           "bgcolor": "#E5ECF6",
           "radialaxis": {
            "gridcolor": "white",
            "linecolor": "white",
            "ticks": ""
           }
          },
          "scene": {
           "xaxis": {
            "backgroundcolor": "#E5ECF6",
            "gridcolor": "white",
            "gridwidth": 2,
            "linecolor": "white",
            "showbackground": true,
            "ticks": "",
            "zerolinecolor": "white"
           },
           "yaxis": {
            "backgroundcolor": "#E5ECF6",
            "gridcolor": "white",
            "gridwidth": 2,
            "linecolor": "white",
            "showbackground": true,
            "ticks": "",
            "zerolinecolor": "white"
           },
           "zaxis": {
            "backgroundcolor": "#E5ECF6",
            "gridcolor": "white",
            "gridwidth": 2,
            "linecolor": "white",
            "showbackground": true,
            "ticks": "",
            "zerolinecolor": "white"
           }
          },
          "shapedefaults": {
           "line": {
            "color": "#2a3f5f"
           }
          },
          "ternary": {
           "aaxis": {
            "gridcolor": "white",
            "linecolor": "white",
            "ticks": ""
           },
           "baxis": {
            "gridcolor": "white",
            "linecolor": "white",
            "ticks": ""
           },
           "bgcolor": "#E5ECF6",
           "caxis": {
            "gridcolor": "white",
            "linecolor": "white",
            "ticks": ""
           }
          },
          "title": {
           "x": 0.05
          },
          "xaxis": {
           "automargin": true,
           "gridcolor": "white",
           "linecolor": "white",
           "ticks": "",
           "title": {
            "standoff": 15
           },
           "zerolinecolor": "white",
           "zerolinewidth": 2
          },
          "yaxis": {
           "automargin": true,
           "gridcolor": "white",
           "linecolor": "white",
           "ticks": "",
           "title": {
            "standoff": 15
           },
           "zerolinecolor": "white",
           "zerolinewidth": 2
          }
         }
        },
        "title": {
         "text": "User X Position Over Time"
        },
        "xaxis": {
         "anchor": "y",
         "domain": [
          0,
          1
         ],
         "title": {
          "text": "time"
         }
        },
        "yaxis": {
         "anchor": "x",
         "domain": [
          0,
          1
         ],
         "range": [
          0,
          200
         ],
         "title": {
          "text": "Time"
         }
        }
       }
      },
      "text/html": [
       "<div>                            <div id=\"e1c16a87-e76c-470d-a217-91a0ea23b350\" class=\"plotly-graph-div\" style=\"height:525px; width:100%;\"></div>            <script type=\"text/javascript\">                require([\"plotly\"], function(Plotly) {                    window.PLOTLYENV=window.PLOTLYENV || {};                                    if (document.getElementById(\"e1c16a87-e76c-470d-a217-91a0ea23b350\")) {                    Plotly.newPlot(                        \"e1c16a87-e76c-470d-a217-91a0ea23b350\",                        [{\"hovertemplate\":\"Data Type=Prediction\\u003cbr\\u003etime=%{x}\\u003cbr\\u003eTime=%{y}\\u003cextra\\u003e\\u003c\\u002fextra\\u003e\",\"legendgroup\":\"Prediction\",\"line\":{\"color\":\"#636efa\",\"dash\":\"solid\"},\"marker\":{\"symbol\":\"circle\"},\"mode\":\"lines+markers\",\"name\":\"Prediction\",\"orientation\":\"v\",\"showlegend\":true,\"x\":[2893,2898,2899,2903,2904,2906,2907,2908,2909,2910,2913,2914,2940,2941,2948,2949,2950,2951,2953,2957,2961,2962,2999,3003,3004,3006,3007,3008,3009,3048,3049,3051,3054,3055,3056,3057,3084,3085,3092,3093,3095,3096,3100,3101,3108,3109,3133,3137,3138,3144,3145,3147,3152,3153,3155,3156,3180,3181,3183,3184,3185,3191,3192,3194,3200,3202,3203,3229,3232,3236,3237,3238,3240,3241,3242,3243,3244,3246,3277,3281,3285,3287,3288,3290,3291,3293,3299,3300,3301,3333,3335,3336,3339,3342,3343,3344,3384,3385,3386,3389,3390,3391,3394,3420,3421,3427,3428,3432,3433,3434,3435,3436,3439,3440,3441,3452,3468,3469,3470,3473,3474,3479,3480,3481,3483,3489,3490,3491,3516,3517,3523,3530,3531,3532,3537,3538,3540,3541,3542,3564,3565,3573,3574,3578,3579,3580,3583,3584,3585,3586],\"xaxis\":\"x\",\"y\":[77,77,77,77,77,77,77,77,77,77,77,77,77,77,77,77,77,77,77,77,77,77,77,77,77,77,77,77,77,77,77,77,77,77,77,77,77,77,77,77,77,77,77,77,77,77,77,77,77,77,77,77,77,77,77,77,77,77,77,77,77,77,77,77,77,77,77,77,77,77,77,77,77,77,77,77,77,77,77,77,77,77,77,77,77,77,77,77,77,77,77,77,77,77,77,77,77,77,77,77,77,77,77,77,77,77,77,77,77,77,77,77,77,77,77,77,77,77,77,77,77,77,77,77,77,77,77,77,77,77,77,77,77,77,77,77,77,77,77,77,77,77,77,77,77,77,77,77,77,77],\"yaxis\":\"y\",\"type\":\"scatter\"},{\"hovertemplate\":\"Data Type=Actual\\u003cbr\\u003etime=%{x}\\u003cbr\\u003eTime=%{y}\\u003cextra\\u003e\\u003c\\u002fextra\\u003e\",\"legendgroup\":\"Actual\",\"line\":{\"color\":\"#EF553B\",\"dash\":\"solid\"},\"marker\":{\"symbol\":\"circle\"},\"mode\":\"lines+markers\",\"name\":\"Actual\",\"orientation\":\"v\",\"showlegend\":true,\"x\":[2893,2898,2899,2903,2904,2906,2907,2908,2909,2910,2913,2914,2940,2941,2948,2949,2950,2951,2953,2957,2961,2962,2999,3003,3004,3006,3007,3008,3009,3048,3049,3051,3054,3055,3056,3057,3084,3085,3092,3093,3095,3096,3100,3101,3108,3109,3133,3137,3138,3144,3145,3147,3152,3153,3155,3156,3180,3181,3183,3184,3185,3191,3192,3194,3200,3202,3203,3229,3232,3236,3237,3238,3240,3241,3242,3243,3244,3246,3277,3281,3285,3287,3288,3290,3291,3293,3299,3300,3301,3333,3335,3336,3339,3342,3343,3344,3384,3385,3386,3389,3390,3391,3394,3420,3421,3427,3428,3432,3433,3434,3435,3436,3439,3440,3441,3452,3468,3469,3470,3473,3474,3479,3480,3481,3483,3489,3490,3491,3516,3517,3523,3530,3531,3532,3537,3538,3540,3541,3542,3564,3565,3573,3574,3578,3579,3580,3583,3584,3585,3586],\"xaxis\":\"x\",\"y\":[78,79,77,76,77,77,72,78,79,77,76,76,78,78,77,75,76,76,77,78,78,77,76,78,78,73,78,76,77,76,77,77,76,77,76,77,76,78,78,77,76,77,78,78,79,77,78,76,77,77,78,73,74,78,79,79,77,79,78,79,80,76,78,79,78,78,76,78,77,75,76,77,76,78,78,77,76,76,78,77,76,76,77,78,78,72,79,75,77,77,76,77,78,77,75,77,75,75,78,78,77,76,76,77,78,77,77,76,77,77,79,78,77,77,77,77,79,78,78,78,77,76,73,77,78,77,79,76,76,78,77,76,72,78,76,76,79,78,77,78,78,76,77,78,72,78,77,78,76,77],\"yaxis\":\"y\",\"type\":\"scatter\"}],                        {\"template\":{\"data\":{\"histogram2dcontour\":[{\"type\":\"histogram2dcontour\",\"colorbar\":{\"outlinewidth\":0,\"ticks\":\"\"},\"colorscale\":[[0.0,\"#0d0887\"],[0.1111111111111111,\"#46039f\"],[0.2222222222222222,\"#7201a8\"],[0.3333333333333333,\"#9c179e\"],[0.4444444444444444,\"#bd3786\"],[0.5555555555555556,\"#d8576b\"],[0.6666666666666666,\"#ed7953\"],[0.7777777777777778,\"#fb9f3a\"],[0.8888888888888888,\"#fdca26\"],[1.0,\"#f0f921\"]]}],\"choropleth\":[{\"type\":\"choropleth\",\"colorbar\":{\"outlinewidth\":0,\"ticks\":\"\"}}],\"histogram2d\":[{\"type\":\"histogram2d\",\"colorbar\":{\"outlinewidth\":0,\"ticks\":\"\"},\"colorscale\":[[0.0,\"#0d0887\"],[0.1111111111111111,\"#46039f\"],[0.2222222222222222,\"#7201a8\"],[0.3333333333333333,\"#9c179e\"],[0.4444444444444444,\"#bd3786\"],[0.5555555555555556,\"#d8576b\"],[0.6666666666666666,\"#ed7953\"],[0.7777777777777778,\"#fb9f3a\"],[0.8888888888888888,\"#fdca26\"],[1.0,\"#f0f921\"]]}],\"heatmap\":[{\"type\":\"heatmap\",\"colorbar\":{\"outlinewidth\":0,\"ticks\":\"\"},\"colorscale\":[[0.0,\"#0d0887\"],[0.1111111111111111,\"#46039f\"],[0.2222222222222222,\"#7201a8\"],[0.3333333333333333,\"#9c179e\"],[0.4444444444444444,\"#bd3786\"],[0.5555555555555556,\"#d8576b\"],[0.6666666666666666,\"#ed7953\"],[0.7777777777777778,\"#fb9f3a\"],[0.8888888888888888,\"#fdca26\"],[1.0,\"#f0f921\"]]}],\"heatmapgl\":[{\"type\":\"heatmapgl\",\"colorbar\":{\"outlinewidth\":0,\"ticks\":\"\"},\"colorscale\":[[0.0,\"#0d0887\"],[0.1111111111111111,\"#46039f\"],[0.2222222222222222,\"#7201a8\"],[0.3333333333333333,\"#9c179e\"],[0.4444444444444444,\"#bd3786\"],[0.5555555555555556,\"#d8576b\"],[0.6666666666666666,\"#ed7953\"],[0.7777777777777778,\"#fb9f3a\"],[0.8888888888888888,\"#fdca26\"],[1.0,\"#f0f921\"]]}],\"contourcarpet\":[{\"type\":\"contourcarpet\",\"colorbar\":{\"outlinewidth\":0,\"ticks\":\"\"}}],\"contour\":[{\"type\":\"contour\",\"colorbar\":{\"outlinewidth\":0,\"ticks\":\"\"},\"colorscale\":[[0.0,\"#0d0887\"],[0.1111111111111111,\"#46039f\"],[0.2222222222222222,\"#7201a8\"],[0.3333333333333333,\"#9c179e\"],[0.4444444444444444,\"#bd3786\"],[0.5555555555555556,\"#d8576b\"],[0.6666666666666666,\"#ed7953\"],[0.7777777777777778,\"#fb9f3a\"],[0.8888888888888888,\"#fdca26\"],[1.0,\"#f0f921\"]]}],\"surface\":[{\"type\":\"surface\",\"colorbar\":{\"outlinewidth\":0,\"ticks\":\"\"},\"colorscale\":[[0.0,\"#0d0887\"],[0.1111111111111111,\"#46039f\"],[0.2222222222222222,\"#7201a8\"],[0.3333333333333333,\"#9c179e\"],[0.4444444444444444,\"#bd3786\"],[0.5555555555555556,\"#d8576b\"],[0.6666666666666666,\"#ed7953\"],[0.7777777777777778,\"#fb9f3a\"],[0.8888888888888888,\"#fdca26\"],[1.0,\"#f0f921\"]]}],\"mesh3d\":[{\"type\":\"mesh3d\",\"colorbar\":{\"outlinewidth\":0,\"ticks\":\"\"}}],\"scatter\":[{\"fillpattern\":{\"fillmode\":\"overlay\",\"size\":10,\"solidity\":0.2},\"type\":\"scatter\"}],\"parcoords\":[{\"type\":\"parcoords\",\"line\":{\"colorbar\":{\"outlinewidth\":0,\"ticks\":\"\"}}}],\"scatterpolargl\":[{\"type\":\"scatterpolargl\",\"marker\":{\"colorbar\":{\"outlinewidth\":0,\"ticks\":\"\"}}}],\"bar\":[{\"error_x\":{\"color\":\"#2a3f5f\"},\"error_y\":{\"color\":\"#2a3f5f\"},\"marker\":{\"line\":{\"color\":\"#E5ECF6\",\"width\":0.5},\"pattern\":{\"fillmode\":\"overlay\",\"size\":10,\"solidity\":0.2}},\"type\":\"bar\"}],\"scattergeo\":[{\"type\":\"scattergeo\",\"marker\":{\"colorbar\":{\"outlinewidth\":0,\"ticks\":\"\"}}}],\"scatterpolar\":[{\"type\":\"scatterpolar\",\"marker\":{\"colorbar\":{\"outlinewidth\":0,\"ticks\":\"\"}}}],\"histogram\":[{\"marker\":{\"pattern\":{\"fillmode\":\"overlay\",\"size\":10,\"solidity\":0.2}},\"type\":\"histogram\"}],\"scattergl\":[{\"type\":\"scattergl\",\"marker\":{\"colorbar\":{\"outlinewidth\":0,\"ticks\":\"\"}}}],\"scatter3d\":[{\"type\":\"scatter3d\",\"line\":{\"colorbar\":{\"outlinewidth\":0,\"ticks\":\"\"}},\"marker\":{\"colorbar\":{\"outlinewidth\":0,\"ticks\":\"\"}}}],\"scattermapbox\":[{\"type\":\"scattermapbox\",\"marker\":{\"colorbar\":{\"outlinewidth\":0,\"ticks\":\"\"}}}],\"scatterternary\":[{\"type\":\"scatterternary\",\"marker\":{\"colorbar\":{\"outlinewidth\":0,\"ticks\":\"\"}}}],\"scattercarpet\":[{\"type\":\"scattercarpet\",\"marker\":{\"colorbar\":{\"outlinewidth\":0,\"ticks\":\"\"}}}],\"carpet\":[{\"aaxis\":{\"endlinecolor\":\"#2a3f5f\",\"gridcolor\":\"white\",\"linecolor\":\"white\",\"minorgridcolor\":\"white\",\"startlinecolor\":\"#2a3f5f\"},\"baxis\":{\"endlinecolor\":\"#2a3f5f\",\"gridcolor\":\"white\",\"linecolor\":\"white\",\"minorgridcolor\":\"white\",\"startlinecolor\":\"#2a3f5f\"},\"type\":\"carpet\"}],\"table\":[{\"cells\":{\"fill\":{\"color\":\"#EBF0F8\"},\"line\":{\"color\":\"white\"}},\"header\":{\"fill\":{\"color\":\"#C8D4E3\"},\"line\":{\"color\":\"white\"}},\"type\":\"table\"}],\"barpolar\":[{\"marker\":{\"line\":{\"color\":\"#E5ECF6\",\"width\":0.5},\"pattern\":{\"fillmode\":\"overlay\",\"size\":10,\"solidity\":0.2}},\"type\":\"barpolar\"}],\"pie\":[{\"automargin\":true,\"type\":\"pie\"}]},\"layout\":{\"autotypenumbers\":\"strict\",\"colorway\":[\"#636efa\",\"#EF553B\",\"#00cc96\",\"#ab63fa\",\"#FFA15A\",\"#19d3f3\",\"#FF6692\",\"#B6E880\",\"#FF97FF\",\"#FECB52\"],\"font\":{\"color\":\"#2a3f5f\"},\"hovermode\":\"closest\",\"hoverlabel\":{\"align\":\"left\"},\"paper_bgcolor\":\"white\",\"plot_bgcolor\":\"#E5ECF6\",\"polar\":{\"bgcolor\":\"#E5ECF6\",\"angularaxis\":{\"gridcolor\":\"white\",\"linecolor\":\"white\",\"ticks\":\"\"},\"radialaxis\":{\"gridcolor\":\"white\",\"linecolor\":\"white\",\"ticks\":\"\"}},\"ternary\":{\"bgcolor\":\"#E5ECF6\",\"aaxis\":{\"gridcolor\":\"white\",\"linecolor\":\"white\",\"ticks\":\"\"},\"baxis\":{\"gridcolor\":\"white\",\"linecolor\":\"white\",\"ticks\":\"\"},\"caxis\":{\"gridcolor\":\"white\",\"linecolor\":\"white\",\"ticks\":\"\"}},\"coloraxis\":{\"colorbar\":{\"outlinewidth\":0,\"ticks\":\"\"}},\"colorscale\":{\"sequential\":[[0.0,\"#0d0887\"],[0.1111111111111111,\"#46039f\"],[0.2222222222222222,\"#7201a8\"],[0.3333333333333333,\"#9c179e\"],[0.4444444444444444,\"#bd3786\"],[0.5555555555555556,\"#d8576b\"],[0.6666666666666666,\"#ed7953\"],[0.7777777777777778,\"#fb9f3a\"],[0.8888888888888888,\"#fdca26\"],[1.0,\"#f0f921\"]],\"sequentialminus\":[[0.0,\"#0d0887\"],[0.1111111111111111,\"#46039f\"],[0.2222222222222222,\"#7201a8\"],[0.3333333333333333,\"#9c179e\"],[0.4444444444444444,\"#bd3786\"],[0.5555555555555556,\"#d8576b\"],[0.6666666666666666,\"#ed7953\"],[0.7777777777777778,\"#fb9f3a\"],[0.8888888888888888,\"#fdca26\"],[1.0,\"#f0f921\"]],\"diverging\":[[0,\"#8e0152\"],[0.1,\"#c51b7d\"],[0.2,\"#de77ae\"],[0.3,\"#f1b6da\"],[0.4,\"#fde0ef\"],[0.5,\"#f7f7f7\"],[0.6,\"#e6f5d0\"],[0.7,\"#b8e186\"],[0.8,\"#7fbc41\"],[0.9,\"#4d9221\"],[1,\"#276419\"]]},\"xaxis\":{\"gridcolor\":\"white\",\"linecolor\":\"white\",\"ticks\":\"\",\"title\":{\"standoff\":15},\"zerolinecolor\":\"white\",\"automargin\":true,\"zerolinewidth\":2},\"yaxis\":{\"gridcolor\":\"white\",\"linecolor\":\"white\",\"ticks\":\"\",\"title\":{\"standoff\":15},\"zerolinecolor\":\"white\",\"automargin\":true,\"zerolinewidth\":2},\"scene\":{\"xaxis\":{\"backgroundcolor\":\"#E5ECF6\",\"gridcolor\":\"white\",\"linecolor\":\"white\",\"showbackground\":true,\"ticks\":\"\",\"zerolinecolor\":\"white\",\"gridwidth\":2},\"yaxis\":{\"backgroundcolor\":\"#E5ECF6\",\"gridcolor\":\"white\",\"linecolor\":\"white\",\"showbackground\":true,\"ticks\":\"\",\"zerolinecolor\":\"white\",\"gridwidth\":2},\"zaxis\":{\"backgroundcolor\":\"#E5ECF6\",\"gridcolor\":\"white\",\"linecolor\":\"white\",\"showbackground\":true,\"ticks\":\"\",\"zerolinecolor\":\"white\",\"gridwidth\":2}},\"shapedefaults\":{\"line\":{\"color\":\"#2a3f5f\"}},\"annotationdefaults\":{\"arrowcolor\":\"#2a3f5f\",\"arrowhead\":0,\"arrowwidth\":1},\"geo\":{\"bgcolor\":\"white\",\"landcolor\":\"#E5ECF6\",\"subunitcolor\":\"white\",\"showland\":true,\"showlakes\":true,\"lakecolor\":\"white\"},\"title\":{\"x\":0.05},\"mapbox\":{\"style\":\"light\"}}},\"xaxis\":{\"anchor\":\"y\",\"domain\":[0.0,1.0],\"title\":{\"text\":\"time\"}},\"yaxis\":{\"anchor\":\"x\",\"domain\":[0.0,1.0],\"title\":{\"text\":\"Time\"},\"range\":[0,200]},\"legend\":{\"title\":{\"text\":\"Data Type\"},\"tracegroupgap\":0},\"title\":{\"text\":\"User X Position Over Time\"}},                        {\"responsive\": true}                    ).then(function(){\n",
       "                            \n",
       "var gd = document.getElementById('e1c16a87-e76c-470d-a217-91a0ea23b350');\n",
       "var x = new MutationObserver(function (mutations, observer) {{\n",
       "        var display = window.getComputedStyle(gd).display;\n",
       "        if (!display || display === 'none') {{\n",
       "            console.log([gd, 'removed!']);\n",
       "            Plotly.purge(gd);\n",
       "            observer.disconnect();\n",
       "        }}\n",
       "}});\n",
       "\n",
       "// Listen for the removal of the full notebook cells\n",
       "var notebookContainer = gd.closest('#notebook-container');\n",
       "if (notebookContainer) {{\n",
       "    x.observe(notebookContainer, {childList: true});\n",
       "}}\n",
       "\n",
       "// Listen for the clearing of the current output cell\n",
       "var outputEl = gd.closest('.output');\n",
       "if (outputEl) {{\n",
       "    x.observe(outputEl, {childList: true});\n",
       "}}\n",
       "\n",
       "                        })                };                });            </script>        </div>"
      ]
     },
     "metadata": {},
     "output_type": "display_data"
    },
    {
     "data": {
      "application/vnd.plotly.v1+json": {
       "config": {
        "plotlyServerURL": "https://plot.ly"
       },
       "data": [
        {
         "hovertemplate": "Data Type=Prediction<br>time=%{x}<br>Y Position=%{y}<extra></extra>",
         "legendgroup": "Prediction",
         "line": {
          "color": "#636efa",
          "dash": "solid"
         },
         "marker": {
          "symbol": "circle"
         },
         "mode": "lines+markers",
         "name": "Prediction",
         "orientation": "v",
         "showlegend": true,
         "type": "scatter",
         "x": [
          2893,
          2898,
          2899,
          2903,
          2904,
          2906,
          2907,
          2908,
          2909,
          2910,
          2913,
          2914,
          2940,
          2941,
          2948,
          2949,
          2950,
          2951,
          2953,
          2957,
          2961,
          2962,
          2999,
          3003,
          3004,
          3006,
          3007,
          3008,
          3009,
          3048,
          3049,
          3051,
          3054,
          3055,
          3056,
          3057,
          3084,
          3085,
          3092,
          3093,
          3095,
          3096,
          3100,
          3101,
          3108,
          3109,
          3133,
          3137,
          3138,
          3144,
          3145,
          3147,
          3152,
          3153,
          3155,
          3156,
          3180,
          3181,
          3183,
          3184,
          3185,
          3191,
          3192,
          3194,
          3200,
          3202,
          3203,
          3229,
          3232,
          3236,
          3237,
          3238,
          3240,
          3241,
          3242,
          3243,
          3244,
          3246,
          3277,
          3281,
          3285,
          3287,
          3288,
          3290,
          3291,
          3293,
          3299,
          3300,
          3301,
          3333,
          3335,
          3336,
          3339,
          3342,
          3343,
          3344,
          3384,
          3385,
          3386,
          3389,
          3390,
          3391,
          3394,
          3420,
          3421,
          3427,
          3428,
          3432,
          3433,
          3434,
          3435,
          3436,
          3439,
          3440,
          3441,
          3452,
          3468,
          3469,
          3470,
          3473,
          3474,
          3479,
          3480,
          3481,
          3483,
          3489,
          3490,
          3491,
          3516,
          3517,
          3523,
          3530,
          3531,
          3532,
          3537,
          3538,
          3540,
          3541,
          3542,
          3564,
          3565,
          3573,
          3574,
          3578,
          3579,
          3580,
          3583,
          3584,
          3585,
          3586
         ],
         "xaxis": "x",
         "y": [
          93,
          93,
          93,
          93,
          93,
          93,
          93,
          93,
          93,
          93,
          93,
          93,
          93,
          93,
          93,
          93,
          93,
          93,
          93,
          93,
          93,
          93,
          93,
          93,
          93,
          93,
          93,
          93,
          93,
          92,
          93,
          93,
          93,
          93,
          93,
          93,
          93,
          93,
          93,
          93,
          93,
          93,
          93,
          93,
          93,
          93,
          93,
          93,
          93,
          93,
          93,
          93,
          93,
          93,
          93,
          93,
          93,
          93,
          93,
          93,
          93,
          92,
          93,
          93,
          92,
          93,
          93,
          93,
          93,
          93,
          93,
          93,
          93,
          93,
          93,
          93,
          93,
          93,
          93,
          93,
          93,
          93,
          93,
          93,
          93,
          93,
          93,
          93,
          93,
          93,
          93,
          93,
          93,
          93,
          93,
          93,
          93,
          93,
          93,
          93,
          93,
          93,
          93,
          93,
          93,
          93,
          93,
          93,
          93,
          93,
          93,
          93,
          93,
          93,
          93,
          93,
          93,
          93,
          93,
          93,
          93,
          93,
          93,
          93,
          93,
          93,
          93,
          93,
          93,
          93,
          93,
          93,
          93,
          93,
          93,
          93,
          93,
          93,
          93,
          93,
          93,
          93,
          93,
          93,
          93,
          93,
          93,
          93,
          93,
          93
         ],
         "yaxis": "y"
        },
        {
         "hovertemplate": "Data Type=Actual<br>time=%{x}<br>Y Position=%{y}<extra></extra>",
         "legendgroup": "Actual",
         "line": {
          "color": "#EF553B",
          "dash": "solid"
         },
         "marker": {
          "symbol": "circle"
         },
         "mode": "lines+markers",
         "name": "Actual",
         "orientation": "v",
         "showlegend": true,
         "type": "scatter",
         "x": [
          2893,
          2898,
          2899,
          2903,
          2904,
          2906,
          2907,
          2908,
          2909,
          2910,
          2913,
          2914,
          2940,
          2941,
          2948,
          2949,
          2950,
          2951,
          2953,
          2957,
          2961,
          2962,
          2999,
          3003,
          3004,
          3006,
          3007,
          3008,
          3009,
          3048,
          3049,
          3051,
          3054,
          3055,
          3056,
          3057,
          3084,
          3085,
          3092,
          3093,
          3095,
          3096,
          3100,
          3101,
          3108,
          3109,
          3133,
          3137,
          3138,
          3144,
          3145,
          3147,
          3152,
          3153,
          3155,
          3156,
          3180,
          3181,
          3183,
          3184,
          3185,
          3191,
          3192,
          3194,
          3200,
          3202,
          3203,
          3229,
          3232,
          3236,
          3237,
          3238,
          3240,
          3241,
          3242,
          3243,
          3244,
          3246,
          3277,
          3281,
          3285,
          3287,
          3288,
          3290,
          3291,
          3293,
          3299,
          3300,
          3301,
          3333,
          3335,
          3336,
          3339,
          3342,
          3343,
          3344,
          3384,
          3385,
          3386,
          3389,
          3390,
          3391,
          3394,
          3420,
          3421,
          3427,
          3428,
          3432,
          3433,
          3434,
          3435,
          3436,
          3439,
          3440,
          3441,
          3452,
          3468,
          3469,
          3470,
          3473,
          3474,
          3479,
          3480,
          3481,
          3483,
          3489,
          3490,
          3491,
          3516,
          3517,
          3523,
          3530,
          3531,
          3532,
          3537,
          3538,
          3540,
          3541,
          3542,
          3564,
          3565,
          3573,
          3574,
          3578,
          3579,
          3580,
          3583,
          3584,
          3585,
          3586
         ],
         "xaxis": "x",
         "y": [
          91,
          83,
          76,
          74,
          76,
          90,
          92,
          91,
          88,
          79,
          77,
          76,
          80,
          89,
          76,
          74,
          75,
          76,
          76,
          89,
          89,
          76,
          76,
          87,
          89,
          92,
          91,
          76,
          76,
          76,
          73,
          76,
          76,
          76,
          76,
          76,
          77,
          88,
          89,
          76,
          76,
          76,
          86,
          92,
          92,
          76,
          91,
          76,
          76,
          79,
          88,
          92,
          90,
          91,
          92,
          84,
          76,
          83,
          93,
          89,
          84,
          76,
          88,
          92,
          91,
          81,
          77,
          80,
          76,
          74,
          74,
          76,
          74,
          88,
          87,
          76,
          77,
          79,
          87,
          76,
          74,
          74,
          76,
          89,
          92,
          92,
          88,
          74,
          76,
          76,
          76,
          76,
          87,
          76,
          74,
          76,
          78,
          81,
          91,
          80,
          76,
          73,
          74,
          79,
          87,
          78,
          76,
          76,
          76,
          80,
          89,
          91,
          91,
          78,
          76,
          76,
          83,
          89,
          91,
          90,
          76,
          79,
          92,
          93,
          91,
          92,
          86,
          76,
          78,
          91,
          77,
          77,
          92,
          91,
          79,
          77,
          82,
          91,
          76,
          72,
          88,
          76,
          76,
          88,
          92,
          91,
          91,
          91,
          73,
          76
         ],
         "yaxis": "y"
        }
       ],
       "layout": {
        "legend": {
         "title": {
          "text": "Data Type"
         },
         "tracegroupgap": 0
        },
        "template": {
         "data": {
          "bar": [
           {
            "error_x": {
             "color": "#2a3f5f"
            },
            "error_y": {
             "color": "#2a3f5f"
            },
            "marker": {
             "line": {
              "color": "#E5ECF6",
              "width": 0.5
             },
             "pattern": {
              "fillmode": "overlay",
              "size": 10,
              "solidity": 0.2
             }
            },
            "type": "bar"
           }
          ],
          "barpolar": [
           {
            "marker": {
             "line": {
              "color": "#E5ECF6",
              "width": 0.5
             },
             "pattern": {
              "fillmode": "overlay",
              "size": 10,
              "solidity": 0.2
             }
            },
            "type": "barpolar"
           }
          ],
          "carpet": [
           {
            "aaxis": {
             "endlinecolor": "#2a3f5f",
             "gridcolor": "white",
             "linecolor": "white",
             "minorgridcolor": "white",
             "startlinecolor": "#2a3f5f"
            },
            "baxis": {
             "endlinecolor": "#2a3f5f",
             "gridcolor": "white",
             "linecolor": "white",
             "minorgridcolor": "white",
             "startlinecolor": "#2a3f5f"
            },
            "type": "carpet"
           }
          ],
          "choropleth": [
           {
            "colorbar": {
             "outlinewidth": 0,
             "ticks": ""
            },
            "type": "choropleth"
           }
          ],
          "contour": [
           {
            "colorbar": {
             "outlinewidth": 0,
             "ticks": ""
            },
            "colorscale": [
             [
              0,
              "#0d0887"
             ],
             [
              0.1111111111111111,
              "#46039f"
             ],
             [
              0.2222222222222222,
              "#7201a8"
             ],
             [
              0.3333333333333333,
              "#9c179e"
             ],
             [
              0.4444444444444444,
              "#bd3786"
             ],
             [
              0.5555555555555556,
              "#d8576b"
             ],
             [
              0.6666666666666666,
              "#ed7953"
             ],
             [
              0.7777777777777778,
              "#fb9f3a"
             ],
             [
              0.8888888888888888,
              "#fdca26"
             ],
             [
              1,
              "#f0f921"
             ]
            ],
            "type": "contour"
           }
          ],
          "contourcarpet": [
           {
            "colorbar": {
             "outlinewidth": 0,
             "ticks": ""
            },
            "type": "contourcarpet"
           }
          ],
          "heatmap": [
           {
            "colorbar": {
             "outlinewidth": 0,
             "ticks": ""
            },
            "colorscale": [
             [
              0,
              "#0d0887"
             ],
             [
              0.1111111111111111,
              "#46039f"
             ],
             [
              0.2222222222222222,
              "#7201a8"
             ],
             [
              0.3333333333333333,
              "#9c179e"
             ],
             [
              0.4444444444444444,
              "#bd3786"
             ],
             [
              0.5555555555555556,
              "#d8576b"
             ],
             [
              0.6666666666666666,
              "#ed7953"
             ],
             [
              0.7777777777777778,
              "#fb9f3a"
             ],
             [
              0.8888888888888888,
              "#fdca26"
             ],
             [
              1,
              "#f0f921"
             ]
            ],
            "type": "heatmap"
           }
          ],
          "heatmapgl": [
           {
            "colorbar": {
             "outlinewidth": 0,
             "ticks": ""
            },
            "colorscale": [
             [
              0,
              "#0d0887"
             ],
             [
              0.1111111111111111,
              "#46039f"
             ],
             [
              0.2222222222222222,
              "#7201a8"
             ],
             [
              0.3333333333333333,
              "#9c179e"
             ],
             [
              0.4444444444444444,
              "#bd3786"
             ],
             [
              0.5555555555555556,
              "#d8576b"
             ],
             [
              0.6666666666666666,
              "#ed7953"
             ],
             [
              0.7777777777777778,
              "#fb9f3a"
             ],
             [
              0.8888888888888888,
              "#fdca26"
             ],
             [
              1,
              "#f0f921"
             ]
            ],
            "type": "heatmapgl"
           }
          ],
          "histogram": [
           {
            "marker": {
             "pattern": {
              "fillmode": "overlay",
              "size": 10,
              "solidity": 0.2
             }
            },
            "type": "histogram"
           }
          ],
          "histogram2d": [
           {
            "colorbar": {
             "outlinewidth": 0,
             "ticks": ""
            },
            "colorscale": [
             [
              0,
              "#0d0887"
             ],
             [
              0.1111111111111111,
              "#46039f"
             ],
             [
              0.2222222222222222,
              "#7201a8"
             ],
             [
              0.3333333333333333,
              "#9c179e"
             ],
             [
              0.4444444444444444,
              "#bd3786"
             ],
             [
              0.5555555555555556,
              "#d8576b"
             ],
             [
              0.6666666666666666,
              "#ed7953"
             ],
             [
              0.7777777777777778,
              "#fb9f3a"
             ],
             [
              0.8888888888888888,
              "#fdca26"
             ],
             [
              1,
              "#f0f921"
             ]
            ],
            "type": "histogram2d"
           }
          ],
          "histogram2dcontour": [
           {
            "colorbar": {
             "outlinewidth": 0,
             "ticks": ""
            },
            "colorscale": [
             [
              0,
              "#0d0887"
             ],
             [
              0.1111111111111111,
              "#46039f"
             ],
             [
              0.2222222222222222,
              "#7201a8"
             ],
             [
              0.3333333333333333,
              "#9c179e"
             ],
             [
              0.4444444444444444,
              "#bd3786"
             ],
             [
              0.5555555555555556,
              "#d8576b"
             ],
             [
              0.6666666666666666,
              "#ed7953"
             ],
             [
              0.7777777777777778,
              "#fb9f3a"
             ],
             [
              0.8888888888888888,
              "#fdca26"
             ],
             [
              1,
              "#f0f921"
             ]
            ],
            "type": "histogram2dcontour"
           }
          ],
          "mesh3d": [
           {
            "colorbar": {
             "outlinewidth": 0,
             "ticks": ""
            },
            "type": "mesh3d"
           }
          ],
          "parcoords": [
           {
            "line": {
             "colorbar": {
              "outlinewidth": 0,
              "ticks": ""
             }
            },
            "type": "parcoords"
           }
          ],
          "pie": [
           {
            "automargin": true,
            "type": "pie"
           }
          ],
          "scatter": [
           {
            "fillpattern": {
             "fillmode": "overlay",
             "size": 10,
             "solidity": 0.2
            },
            "type": "scatter"
           }
          ],
          "scatter3d": [
           {
            "line": {
             "colorbar": {
              "outlinewidth": 0,
              "ticks": ""
             }
            },
            "marker": {
             "colorbar": {
              "outlinewidth": 0,
              "ticks": ""
             }
            },
            "type": "scatter3d"
           }
          ],
          "scattercarpet": [
           {
            "marker": {
             "colorbar": {
              "outlinewidth": 0,
              "ticks": ""
             }
            },
            "type": "scattercarpet"
           }
          ],
          "scattergeo": [
           {
            "marker": {
             "colorbar": {
              "outlinewidth": 0,
              "ticks": ""
             }
            },
            "type": "scattergeo"
           }
          ],
          "scattergl": [
           {
            "marker": {
             "colorbar": {
              "outlinewidth": 0,
              "ticks": ""
             }
            },
            "type": "scattergl"
           }
          ],
          "scattermapbox": [
           {
            "marker": {
             "colorbar": {
              "outlinewidth": 0,
              "ticks": ""
             }
            },
            "type": "scattermapbox"
           }
          ],
          "scatterpolar": [
           {
            "marker": {
             "colorbar": {
              "outlinewidth": 0,
              "ticks": ""
             }
            },
            "type": "scatterpolar"
           }
          ],
          "scatterpolargl": [
           {
            "marker": {
             "colorbar": {
              "outlinewidth": 0,
              "ticks": ""
             }
            },
            "type": "scatterpolargl"
           }
          ],
          "scatterternary": [
           {
            "marker": {
             "colorbar": {
              "outlinewidth": 0,
              "ticks": ""
             }
            },
            "type": "scatterternary"
           }
          ],
          "surface": [
           {
            "colorbar": {
             "outlinewidth": 0,
             "ticks": ""
            },
            "colorscale": [
             [
              0,
              "#0d0887"
             ],
             [
              0.1111111111111111,
              "#46039f"
             ],
             [
              0.2222222222222222,
              "#7201a8"
             ],
             [
              0.3333333333333333,
              "#9c179e"
             ],
             [
              0.4444444444444444,
              "#bd3786"
             ],
             [
              0.5555555555555556,
              "#d8576b"
             ],
             [
              0.6666666666666666,
              "#ed7953"
             ],
             [
              0.7777777777777778,
              "#fb9f3a"
             ],
             [
              0.8888888888888888,
              "#fdca26"
             ],
             [
              1,
              "#f0f921"
             ]
            ],
            "type": "surface"
           }
          ],
          "table": [
           {
            "cells": {
             "fill": {
              "color": "#EBF0F8"
             },
             "line": {
              "color": "white"
             }
            },
            "header": {
             "fill": {
              "color": "#C8D4E3"
             },
             "line": {
              "color": "white"
             }
            },
            "type": "table"
           }
          ]
         },
         "layout": {
          "annotationdefaults": {
           "arrowcolor": "#2a3f5f",
           "arrowhead": 0,
           "arrowwidth": 1
          },
          "autotypenumbers": "strict",
          "coloraxis": {
           "colorbar": {
            "outlinewidth": 0,
            "ticks": ""
           }
          },
          "colorscale": {
           "diverging": [
            [
             0,
             "#8e0152"
            ],
            [
             0.1,
             "#c51b7d"
            ],
            [
             0.2,
             "#de77ae"
            ],
            [
             0.3,
             "#f1b6da"
            ],
            [
             0.4,
             "#fde0ef"
            ],
            [
             0.5,
             "#f7f7f7"
            ],
            [
             0.6,
             "#e6f5d0"
            ],
            [
             0.7,
             "#b8e186"
            ],
            [
             0.8,
             "#7fbc41"
            ],
            [
             0.9,
             "#4d9221"
            ],
            [
             1,
             "#276419"
            ]
           ],
           "sequential": [
            [
             0,
             "#0d0887"
            ],
            [
             0.1111111111111111,
             "#46039f"
            ],
            [
             0.2222222222222222,
             "#7201a8"
            ],
            [
             0.3333333333333333,
             "#9c179e"
            ],
            [
             0.4444444444444444,
             "#bd3786"
            ],
            [
             0.5555555555555556,
             "#d8576b"
            ],
            [
             0.6666666666666666,
             "#ed7953"
            ],
            [
             0.7777777777777778,
             "#fb9f3a"
            ],
            [
             0.8888888888888888,
             "#fdca26"
            ],
            [
             1,
             "#f0f921"
            ]
           ],
           "sequentialminus": [
            [
             0,
             "#0d0887"
            ],
            [
             0.1111111111111111,
             "#46039f"
            ],
            [
             0.2222222222222222,
             "#7201a8"
            ],
            [
             0.3333333333333333,
             "#9c179e"
            ],
            [
             0.4444444444444444,
             "#bd3786"
            ],
            [
             0.5555555555555556,
             "#d8576b"
            ],
            [
             0.6666666666666666,
             "#ed7953"
            ],
            [
             0.7777777777777778,
             "#fb9f3a"
            ],
            [
             0.8888888888888888,
             "#fdca26"
            ],
            [
             1,
             "#f0f921"
            ]
           ]
          },
          "colorway": [
           "#636efa",
           "#EF553B",
           "#00cc96",
           "#ab63fa",
           "#FFA15A",
           "#19d3f3",
           "#FF6692",
           "#B6E880",
           "#FF97FF",
           "#FECB52"
          ],
          "font": {
           "color": "#2a3f5f"
          },
          "geo": {
           "bgcolor": "white",
           "lakecolor": "white",
           "landcolor": "#E5ECF6",
           "showlakes": true,
           "showland": true,
           "subunitcolor": "white"
          },
          "hoverlabel": {
           "align": "left"
          },
          "hovermode": "closest",
          "mapbox": {
           "style": "light"
          },
          "paper_bgcolor": "white",
          "plot_bgcolor": "#E5ECF6",
          "polar": {
           "angularaxis": {
            "gridcolor": "white",
            "linecolor": "white",
            "ticks": ""
           },
           "bgcolor": "#E5ECF6",
           "radialaxis": {
            "gridcolor": "white",
            "linecolor": "white",
            "ticks": ""
           }
          },
          "scene": {
           "xaxis": {
            "backgroundcolor": "#E5ECF6",
            "gridcolor": "white",
            "gridwidth": 2,
            "linecolor": "white",
            "showbackground": true,
            "ticks": "",
            "zerolinecolor": "white"
           },
           "yaxis": {
            "backgroundcolor": "#E5ECF6",
            "gridcolor": "white",
            "gridwidth": 2,
            "linecolor": "white",
            "showbackground": true,
            "ticks": "",
            "zerolinecolor": "white"
           },
           "zaxis": {
            "backgroundcolor": "#E5ECF6",
            "gridcolor": "white",
            "gridwidth": 2,
            "linecolor": "white",
            "showbackground": true,
            "ticks": "",
            "zerolinecolor": "white"
           }
          },
          "shapedefaults": {
           "line": {
            "color": "#2a3f5f"
           }
          },
          "ternary": {
           "aaxis": {
            "gridcolor": "white",
            "linecolor": "white",
            "ticks": ""
           },
           "baxis": {
            "gridcolor": "white",
            "linecolor": "white",
            "ticks": ""
           },
           "bgcolor": "#E5ECF6",
           "caxis": {
            "gridcolor": "white",
            "linecolor": "white",
            "ticks": ""
           }
          },
          "title": {
           "x": 0.05
          },
          "xaxis": {
           "automargin": true,
           "gridcolor": "white",
           "linecolor": "white",
           "ticks": "",
           "title": {
            "standoff": 15
           },
           "zerolinecolor": "white",
           "zerolinewidth": 2
          },
          "yaxis": {
           "automargin": true,
           "gridcolor": "white",
           "linecolor": "white",
           "ticks": "",
           "title": {
            "standoff": 15
           },
           "zerolinecolor": "white",
           "zerolinewidth": 2
          }
         }
        },
        "title": {
         "text": "User Y Position Over Time"
        },
        "xaxis": {
         "anchor": "y",
         "domain": [
          0,
          1
         ],
         "title": {
          "text": "time"
         }
        },
        "yaxis": {
         "anchor": "x",
         "domain": [
          0,
          1
         ],
         "range": [
          0,
          200
         ],
         "title": {
          "text": "Y Position"
         }
        }
       }
      },
      "text/html": [
       "<div>                            <div id=\"f57a4f7c-4093-49b5-b5a0-a43bcab1d14e\" class=\"plotly-graph-div\" style=\"height:525px; width:100%;\"></div>            <script type=\"text/javascript\">                require([\"plotly\"], function(Plotly) {                    window.PLOTLYENV=window.PLOTLYENV || {};                                    if (document.getElementById(\"f57a4f7c-4093-49b5-b5a0-a43bcab1d14e\")) {                    Plotly.newPlot(                        \"f57a4f7c-4093-49b5-b5a0-a43bcab1d14e\",                        [{\"hovertemplate\":\"Data Type=Prediction\\u003cbr\\u003etime=%{x}\\u003cbr\\u003eY Position=%{y}\\u003cextra\\u003e\\u003c\\u002fextra\\u003e\",\"legendgroup\":\"Prediction\",\"line\":{\"color\":\"#636efa\",\"dash\":\"solid\"},\"marker\":{\"symbol\":\"circle\"},\"mode\":\"lines+markers\",\"name\":\"Prediction\",\"orientation\":\"v\",\"showlegend\":true,\"x\":[2893,2898,2899,2903,2904,2906,2907,2908,2909,2910,2913,2914,2940,2941,2948,2949,2950,2951,2953,2957,2961,2962,2999,3003,3004,3006,3007,3008,3009,3048,3049,3051,3054,3055,3056,3057,3084,3085,3092,3093,3095,3096,3100,3101,3108,3109,3133,3137,3138,3144,3145,3147,3152,3153,3155,3156,3180,3181,3183,3184,3185,3191,3192,3194,3200,3202,3203,3229,3232,3236,3237,3238,3240,3241,3242,3243,3244,3246,3277,3281,3285,3287,3288,3290,3291,3293,3299,3300,3301,3333,3335,3336,3339,3342,3343,3344,3384,3385,3386,3389,3390,3391,3394,3420,3421,3427,3428,3432,3433,3434,3435,3436,3439,3440,3441,3452,3468,3469,3470,3473,3474,3479,3480,3481,3483,3489,3490,3491,3516,3517,3523,3530,3531,3532,3537,3538,3540,3541,3542,3564,3565,3573,3574,3578,3579,3580,3583,3584,3585,3586],\"xaxis\":\"x\",\"y\":[93,93,93,93,93,93,93,93,93,93,93,93,93,93,93,93,93,93,93,93,93,93,93,93,93,93,93,93,93,92,93,93,93,93,93,93,93,93,93,93,93,93,93,93,93,93,93,93,93,93,93,93,93,93,93,93,93,93,93,93,93,92,93,93,92,93,93,93,93,93,93,93,93,93,93,93,93,93,93,93,93,93,93,93,93,93,93,93,93,93,93,93,93,93,93,93,93,93,93,93,93,93,93,93,93,93,93,93,93,93,93,93,93,93,93,93,93,93,93,93,93,93,93,93,93,93,93,93,93,93,93,93,93,93,93,93,93,93,93,93,93,93,93,93,93,93,93,93,93,93],\"yaxis\":\"y\",\"type\":\"scatter\"},{\"hovertemplate\":\"Data Type=Actual\\u003cbr\\u003etime=%{x}\\u003cbr\\u003eY Position=%{y}\\u003cextra\\u003e\\u003c\\u002fextra\\u003e\",\"legendgroup\":\"Actual\",\"line\":{\"color\":\"#EF553B\",\"dash\":\"solid\"},\"marker\":{\"symbol\":\"circle\"},\"mode\":\"lines+markers\",\"name\":\"Actual\",\"orientation\":\"v\",\"showlegend\":true,\"x\":[2893,2898,2899,2903,2904,2906,2907,2908,2909,2910,2913,2914,2940,2941,2948,2949,2950,2951,2953,2957,2961,2962,2999,3003,3004,3006,3007,3008,3009,3048,3049,3051,3054,3055,3056,3057,3084,3085,3092,3093,3095,3096,3100,3101,3108,3109,3133,3137,3138,3144,3145,3147,3152,3153,3155,3156,3180,3181,3183,3184,3185,3191,3192,3194,3200,3202,3203,3229,3232,3236,3237,3238,3240,3241,3242,3243,3244,3246,3277,3281,3285,3287,3288,3290,3291,3293,3299,3300,3301,3333,3335,3336,3339,3342,3343,3344,3384,3385,3386,3389,3390,3391,3394,3420,3421,3427,3428,3432,3433,3434,3435,3436,3439,3440,3441,3452,3468,3469,3470,3473,3474,3479,3480,3481,3483,3489,3490,3491,3516,3517,3523,3530,3531,3532,3537,3538,3540,3541,3542,3564,3565,3573,3574,3578,3579,3580,3583,3584,3585,3586],\"xaxis\":\"x\",\"y\":[91,83,76,74,76,90,92,91,88,79,77,76,80,89,76,74,75,76,76,89,89,76,76,87,89,92,91,76,76,76,73,76,76,76,76,76,77,88,89,76,76,76,86,92,92,76,91,76,76,79,88,92,90,91,92,84,76,83,93,89,84,76,88,92,91,81,77,80,76,74,74,76,74,88,87,76,77,79,87,76,74,74,76,89,92,92,88,74,76,76,76,76,87,76,74,76,78,81,91,80,76,73,74,79,87,78,76,76,76,80,89,91,91,78,76,76,83,89,91,90,76,79,92,93,91,92,86,76,78,91,77,77,92,91,79,77,82,91,76,72,88,76,76,88,92,91,91,91,73,76],\"yaxis\":\"y\",\"type\":\"scatter\"}],                        {\"template\":{\"data\":{\"histogram2dcontour\":[{\"type\":\"histogram2dcontour\",\"colorbar\":{\"outlinewidth\":0,\"ticks\":\"\"},\"colorscale\":[[0.0,\"#0d0887\"],[0.1111111111111111,\"#46039f\"],[0.2222222222222222,\"#7201a8\"],[0.3333333333333333,\"#9c179e\"],[0.4444444444444444,\"#bd3786\"],[0.5555555555555556,\"#d8576b\"],[0.6666666666666666,\"#ed7953\"],[0.7777777777777778,\"#fb9f3a\"],[0.8888888888888888,\"#fdca26\"],[1.0,\"#f0f921\"]]}],\"choropleth\":[{\"type\":\"choropleth\",\"colorbar\":{\"outlinewidth\":0,\"ticks\":\"\"}}],\"histogram2d\":[{\"type\":\"histogram2d\",\"colorbar\":{\"outlinewidth\":0,\"ticks\":\"\"},\"colorscale\":[[0.0,\"#0d0887\"],[0.1111111111111111,\"#46039f\"],[0.2222222222222222,\"#7201a8\"],[0.3333333333333333,\"#9c179e\"],[0.4444444444444444,\"#bd3786\"],[0.5555555555555556,\"#d8576b\"],[0.6666666666666666,\"#ed7953\"],[0.7777777777777778,\"#fb9f3a\"],[0.8888888888888888,\"#fdca26\"],[1.0,\"#f0f921\"]]}],\"heatmap\":[{\"type\":\"heatmap\",\"colorbar\":{\"outlinewidth\":0,\"ticks\":\"\"},\"colorscale\":[[0.0,\"#0d0887\"],[0.1111111111111111,\"#46039f\"],[0.2222222222222222,\"#7201a8\"],[0.3333333333333333,\"#9c179e\"],[0.4444444444444444,\"#bd3786\"],[0.5555555555555556,\"#d8576b\"],[0.6666666666666666,\"#ed7953\"],[0.7777777777777778,\"#fb9f3a\"],[0.8888888888888888,\"#fdca26\"],[1.0,\"#f0f921\"]]}],\"heatmapgl\":[{\"type\":\"heatmapgl\",\"colorbar\":{\"outlinewidth\":0,\"ticks\":\"\"},\"colorscale\":[[0.0,\"#0d0887\"],[0.1111111111111111,\"#46039f\"],[0.2222222222222222,\"#7201a8\"],[0.3333333333333333,\"#9c179e\"],[0.4444444444444444,\"#bd3786\"],[0.5555555555555556,\"#d8576b\"],[0.6666666666666666,\"#ed7953\"],[0.7777777777777778,\"#fb9f3a\"],[0.8888888888888888,\"#fdca26\"],[1.0,\"#f0f921\"]]}],\"contourcarpet\":[{\"type\":\"contourcarpet\",\"colorbar\":{\"outlinewidth\":0,\"ticks\":\"\"}}],\"contour\":[{\"type\":\"contour\",\"colorbar\":{\"outlinewidth\":0,\"ticks\":\"\"},\"colorscale\":[[0.0,\"#0d0887\"],[0.1111111111111111,\"#46039f\"],[0.2222222222222222,\"#7201a8\"],[0.3333333333333333,\"#9c179e\"],[0.4444444444444444,\"#bd3786\"],[0.5555555555555556,\"#d8576b\"],[0.6666666666666666,\"#ed7953\"],[0.7777777777777778,\"#fb9f3a\"],[0.8888888888888888,\"#fdca26\"],[1.0,\"#f0f921\"]]}],\"surface\":[{\"type\":\"surface\",\"colorbar\":{\"outlinewidth\":0,\"ticks\":\"\"},\"colorscale\":[[0.0,\"#0d0887\"],[0.1111111111111111,\"#46039f\"],[0.2222222222222222,\"#7201a8\"],[0.3333333333333333,\"#9c179e\"],[0.4444444444444444,\"#bd3786\"],[0.5555555555555556,\"#d8576b\"],[0.6666666666666666,\"#ed7953\"],[0.7777777777777778,\"#fb9f3a\"],[0.8888888888888888,\"#fdca26\"],[1.0,\"#f0f921\"]]}],\"mesh3d\":[{\"type\":\"mesh3d\",\"colorbar\":{\"outlinewidth\":0,\"ticks\":\"\"}}],\"scatter\":[{\"fillpattern\":{\"fillmode\":\"overlay\",\"size\":10,\"solidity\":0.2},\"type\":\"scatter\"}],\"parcoords\":[{\"type\":\"parcoords\",\"line\":{\"colorbar\":{\"outlinewidth\":0,\"ticks\":\"\"}}}],\"scatterpolargl\":[{\"type\":\"scatterpolargl\",\"marker\":{\"colorbar\":{\"outlinewidth\":0,\"ticks\":\"\"}}}],\"bar\":[{\"error_x\":{\"color\":\"#2a3f5f\"},\"error_y\":{\"color\":\"#2a3f5f\"},\"marker\":{\"line\":{\"color\":\"#E5ECF6\",\"width\":0.5},\"pattern\":{\"fillmode\":\"overlay\",\"size\":10,\"solidity\":0.2}},\"type\":\"bar\"}],\"scattergeo\":[{\"type\":\"scattergeo\",\"marker\":{\"colorbar\":{\"outlinewidth\":0,\"ticks\":\"\"}}}],\"scatterpolar\":[{\"type\":\"scatterpolar\",\"marker\":{\"colorbar\":{\"outlinewidth\":0,\"ticks\":\"\"}}}],\"histogram\":[{\"marker\":{\"pattern\":{\"fillmode\":\"overlay\",\"size\":10,\"solidity\":0.2}},\"type\":\"histogram\"}],\"scattergl\":[{\"type\":\"scattergl\",\"marker\":{\"colorbar\":{\"outlinewidth\":0,\"ticks\":\"\"}}}],\"scatter3d\":[{\"type\":\"scatter3d\",\"line\":{\"colorbar\":{\"outlinewidth\":0,\"ticks\":\"\"}},\"marker\":{\"colorbar\":{\"outlinewidth\":0,\"ticks\":\"\"}}}],\"scattermapbox\":[{\"type\":\"scattermapbox\",\"marker\":{\"colorbar\":{\"outlinewidth\":0,\"ticks\":\"\"}}}],\"scatterternary\":[{\"type\":\"scatterternary\",\"marker\":{\"colorbar\":{\"outlinewidth\":0,\"ticks\":\"\"}}}],\"scattercarpet\":[{\"type\":\"scattercarpet\",\"marker\":{\"colorbar\":{\"outlinewidth\":0,\"ticks\":\"\"}}}],\"carpet\":[{\"aaxis\":{\"endlinecolor\":\"#2a3f5f\",\"gridcolor\":\"white\",\"linecolor\":\"white\",\"minorgridcolor\":\"white\",\"startlinecolor\":\"#2a3f5f\"},\"baxis\":{\"endlinecolor\":\"#2a3f5f\",\"gridcolor\":\"white\",\"linecolor\":\"white\",\"minorgridcolor\":\"white\",\"startlinecolor\":\"#2a3f5f\"},\"type\":\"carpet\"}],\"table\":[{\"cells\":{\"fill\":{\"color\":\"#EBF0F8\"},\"line\":{\"color\":\"white\"}},\"header\":{\"fill\":{\"color\":\"#C8D4E3\"},\"line\":{\"color\":\"white\"}},\"type\":\"table\"}],\"barpolar\":[{\"marker\":{\"line\":{\"color\":\"#E5ECF6\",\"width\":0.5},\"pattern\":{\"fillmode\":\"overlay\",\"size\":10,\"solidity\":0.2}},\"type\":\"barpolar\"}],\"pie\":[{\"automargin\":true,\"type\":\"pie\"}]},\"layout\":{\"autotypenumbers\":\"strict\",\"colorway\":[\"#636efa\",\"#EF553B\",\"#00cc96\",\"#ab63fa\",\"#FFA15A\",\"#19d3f3\",\"#FF6692\",\"#B6E880\",\"#FF97FF\",\"#FECB52\"],\"font\":{\"color\":\"#2a3f5f\"},\"hovermode\":\"closest\",\"hoverlabel\":{\"align\":\"left\"},\"paper_bgcolor\":\"white\",\"plot_bgcolor\":\"#E5ECF6\",\"polar\":{\"bgcolor\":\"#E5ECF6\",\"angularaxis\":{\"gridcolor\":\"white\",\"linecolor\":\"white\",\"ticks\":\"\"},\"radialaxis\":{\"gridcolor\":\"white\",\"linecolor\":\"white\",\"ticks\":\"\"}},\"ternary\":{\"bgcolor\":\"#E5ECF6\",\"aaxis\":{\"gridcolor\":\"white\",\"linecolor\":\"white\",\"ticks\":\"\"},\"baxis\":{\"gridcolor\":\"white\",\"linecolor\":\"white\",\"ticks\":\"\"},\"caxis\":{\"gridcolor\":\"white\",\"linecolor\":\"white\",\"ticks\":\"\"}},\"coloraxis\":{\"colorbar\":{\"outlinewidth\":0,\"ticks\":\"\"}},\"colorscale\":{\"sequential\":[[0.0,\"#0d0887\"],[0.1111111111111111,\"#46039f\"],[0.2222222222222222,\"#7201a8\"],[0.3333333333333333,\"#9c179e\"],[0.4444444444444444,\"#bd3786\"],[0.5555555555555556,\"#d8576b\"],[0.6666666666666666,\"#ed7953\"],[0.7777777777777778,\"#fb9f3a\"],[0.8888888888888888,\"#fdca26\"],[1.0,\"#f0f921\"]],\"sequentialminus\":[[0.0,\"#0d0887\"],[0.1111111111111111,\"#46039f\"],[0.2222222222222222,\"#7201a8\"],[0.3333333333333333,\"#9c179e\"],[0.4444444444444444,\"#bd3786\"],[0.5555555555555556,\"#d8576b\"],[0.6666666666666666,\"#ed7953\"],[0.7777777777777778,\"#fb9f3a\"],[0.8888888888888888,\"#fdca26\"],[1.0,\"#f0f921\"]],\"diverging\":[[0,\"#8e0152\"],[0.1,\"#c51b7d\"],[0.2,\"#de77ae\"],[0.3,\"#f1b6da\"],[0.4,\"#fde0ef\"],[0.5,\"#f7f7f7\"],[0.6,\"#e6f5d0\"],[0.7,\"#b8e186\"],[0.8,\"#7fbc41\"],[0.9,\"#4d9221\"],[1,\"#276419\"]]},\"xaxis\":{\"gridcolor\":\"white\",\"linecolor\":\"white\",\"ticks\":\"\",\"title\":{\"standoff\":15},\"zerolinecolor\":\"white\",\"automargin\":true,\"zerolinewidth\":2},\"yaxis\":{\"gridcolor\":\"white\",\"linecolor\":\"white\",\"ticks\":\"\",\"title\":{\"standoff\":15},\"zerolinecolor\":\"white\",\"automargin\":true,\"zerolinewidth\":2},\"scene\":{\"xaxis\":{\"backgroundcolor\":\"#E5ECF6\",\"gridcolor\":\"white\",\"linecolor\":\"white\",\"showbackground\":true,\"ticks\":\"\",\"zerolinecolor\":\"white\",\"gridwidth\":2},\"yaxis\":{\"backgroundcolor\":\"#E5ECF6\",\"gridcolor\":\"white\",\"linecolor\":\"white\",\"showbackground\":true,\"ticks\":\"\",\"zerolinecolor\":\"white\",\"gridwidth\":2},\"zaxis\":{\"backgroundcolor\":\"#E5ECF6\",\"gridcolor\":\"white\",\"linecolor\":\"white\",\"showbackground\":true,\"ticks\":\"\",\"zerolinecolor\":\"white\",\"gridwidth\":2}},\"shapedefaults\":{\"line\":{\"color\":\"#2a3f5f\"}},\"annotationdefaults\":{\"arrowcolor\":\"#2a3f5f\",\"arrowhead\":0,\"arrowwidth\":1},\"geo\":{\"bgcolor\":\"white\",\"landcolor\":\"#E5ECF6\",\"subunitcolor\":\"white\",\"showland\":true,\"showlakes\":true,\"lakecolor\":\"white\"},\"title\":{\"x\":0.05},\"mapbox\":{\"style\":\"light\"}}},\"xaxis\":{\"anchor\":\"y\",\"domain\":[0.0,1.0],\"title\":{\"text\":\"time\"}},\"yaxis\":{\"anchor\":\"x\",\"domain\":[0.0,1.0],\"title\":{\"text\":\"Y Position\"},\"range\":[0,200]},\"legend\":{\"title\":{\"text\":\"Data Type\"},\"tracegroupgap\":0},\"title\":{\"text\":\"User Y Position Over Time\"}},                        {\"responsive\": true}                    ).then(function(){\n",
       "                            \n",
       "var gd = document.getElementById('f57a4f7c-4093-49b5-b5a0-a43bcab1d14e');\n",
       "var x = new MutationObserver(function (mutations, observer) {{\n",
       "        var display = window.getComputedStyle(gd).display;\n",
       "        if (!display || display === 'none') {{\n",
       "            console.log([gd, 'removed!']);\n",
       "            Plotly.purge(gd);\n",
       "            observer.disconnect();\n",
       "        }}\n",
       "}});\n",
       "\n",
       "// Listen for the removal of the full notebook cells\n",
       "var notebookContainer = gd.closest('#notebook-container');\n",
       "if (notebookContainer) {{\n",
       "    x.observe(notebookContainer, {childList: true});\n",
       "}}\n",
       "\n",
       "// Listen for the clearing of the current output cell\n",
       "var outputEl = gd.closest('.output');\n",
       "if (outputEl) {{\n",
       "    x.observe(outputEl, {childList: true});\n",
       "}}\n",
       "\n",
       "                        })                };                });            </script>        </div>"
      ]
     },
     "metadata": {},
     "output_type": "display_data"
    }
   ],
   "source": [
    "plot_xy_trajectory_submit(subsB, test_case)"
   ]
  },
  {
   "cell_type": "code",
   "execution_count": null,
   "metadata": {},
   "outputs": [],
   "source": []
  }
 ],
 "metadata": {
  "kernelspec": {
   "display_name": "base",
   "language": "python",
   "name": "python3"
  },
  "language_info": {
   "codemirror_mode": {
    "name": "ipython",
    "version": 3
   },
   "file_extension": ".py",
   "mimetype": "text/x-python",
   "name": "python",
   "nbconvert_exporter": "python",
   "pygments_lexer": "ipython3",
   "version": "3.10.13"
  }
 },
 "nbformat": 4,
 "nbformat_minor": 2
}
