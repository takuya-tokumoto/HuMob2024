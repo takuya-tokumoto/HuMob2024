{
 "cells": [
  {
   "cell_type": "markdown",
   "metadata": {},
   "source": [
    "# Import"
   ]
  },
  {
   "cell_type": "code",
   "execution_count": 66,
   "metadata": {},
   "outputs": [],
   "source": [
    "import glob\n",
    "import json\n",
    "from typing import List, Tuple\n",
    "\n",
    "import geobleu\n",
    "import matplotlib.pyplot as plt\n",
    "import numpy as np\n",
    "import pandas as pd\n",
    "import plotly.express as px\n",
    "import polars as pl\n",
    "import seaborn as sns"
   ]
  },
  {
   "cell_type": "markdown",
   "metadata": {},
   "source": [
    "# Function"
   ]
  },
  {
   "cell_type": "code",
   "execution_count": 11,
   "metadata": {},
   "outputs": [],
   "source": [
    "def read_submit_json(output_dir: str) -> dict:\n",
    "    \"\"\"予測後のファイルを読み込み\n",
    "\n",
    "    Args:\n",
    "        output_dir (str): 格納先のファイルのdirを指定\n",
    "\n",
    "    Returns:\n",
    "        dict: [generate]予測値 [referense]正解値\n",
    "    \"\"\"\n",
    "\n",
    "    submit_file = glob.glob(output_dir)[0]\n",
    "\n",
    "    with open(submit_file, \"r\") as f:\n",
    "        subs = json.load(f)\n",
    "\n",
    "    return subs"
   ]
  },
  {
   "cell_type": "code",
   "execution_count": 16,
   "metadata": {},
   "outputs": [],
   "source": [
    "def caluc_test_score(subs: dict) -> Tuple[List, List]:\n",
    "    \"\"\"評価用データに関する精度結果を表示\n",
    "\n",
    "    Args:\n",
    "        subs (dict): 提出用subs\n",
    "\n",
    "    Returns:\n",
    "        list: 各uidごとのgeobleuの値\n",
    "        list: 各uidごとのdtwの値\n",
    "    \"\"\"\n",
    "\n",
    "    list_geobleu_val = []\n",
    "    list_dtw_val = []\n",
    "    cnt = 0\n",
    "\n",
    "    for i in range(2000):\n",
    "\n",
    "        generated = subs[\"generated\"][i]\n",
    "        reference = subs[\"reference\"][i]\n",
    "\n",
    "        if len(generated) > 0:\n",
    "            geobleu_val = geobleu.calc_geobleu(generated, reference, processes=3)\n",
    "            list_geobleu_val.append(geobleu_val)\n",
    "\n",
    "            dtw_val = geobleu.calc_dtw(generated, reference, processes=3)\n",
    "            list_dtw_val.append(dtw_val)\n",
    "\n",
    "        else:\n",
    "            cnt += 1\n",
    "\n",
    "    print(f\"計算できなかったuid数は {cnt}件\")\n",
    "    print(\"geobleu: {}\".format(np.mean(list_geobleu_val)))\n",
    "    print(\"dtw: {}\".format(np.mean(list_dtw_val)))\n",
    "\n",
    "    return list_geobleu_val, list_dtw_val"
   ]
  },
  {
   "cell_type": "markdown",
   "metadata": {},
   "source": [
    "# CalucTestScore\n",
    "- 2000uid * 15dの範囲にてgeoblueとdtwを算出\n",
    "- uid単位で評価したうえで平均値を最終評価とする"
   ]
  },
  {
   "cell_type": "code",
   "execution_count": 20,
   "metadata": {},
   "outputs": [],
   "source": [
    "# 評価対象のファイル\n",
    "\n",
    "base_path = \"/kaggle/s3storage/01_public/humob-challenge-2024/output/test\"\n",
    "run_name = \"init\"\n",
    "file_name = \"batchsize128_epochs50_embedsize128_layersnum4_headsnum8_cuda0_lr2e-05_seed0\""
   ]
  },
  {
   "cell_type": "markdown",
   "metadata": {},
   "source": [
    "## Dataset B"
   ]
  },
  {
   "cell_type": "code",
   "execution_count": 17,
   "metadata": {},
   "outputs": [
    {
     "name": "stdout",
     "output_type": "stream",
     "text": [
      "計算できなかったuid数は 0件\n",
      "geobleu: 0.10859935731602309\n",
      "dtw: 121.04783899595833\n"
     ]
    }
   ],
   "source": [
    "output_dir = f\"{base_path}/{run_name}/taskB/{file_name}/*json\"\n",
    "subsB = read_submit_json(output_dir)\n",
    "\n",
    "list_geobleu_val, list_dtw_val = caluc_test_score(subsB)"
   ]
  },
  {
   "cell_type": "markdown",
   "metadata": {},
   "source": [
    "## Dataset C"
   ]
  },
  {
   "cell_type": "markdown",
   "metadata": {},
   "source": [
    "## Dataset D"
   ]
  },
  {
   "cell_type": "markdown",
   "metadata": {},
   "source": [
    "# Analysys"
   ]
  },
  {
   "cell_type": "code",
   "execution_count": 21,
   "metadata": {},
   "outputs": [
    {
     "name": "stdout",
     "output_type": "stream",
     "text": [
      "計算できなかったuid数は 0件\n",
      "geobleu: 0.0017551713970495606\n",
      "dtw: 385.0024172985215\n"
     ]
    }
   ],
   "source": [
    "output_dir = (\n",
    "    f\"{base_path}/{run_name}/taskB/batchsize128_epochs1_embedsize128_layersnum4_headsnum8_cuda0_lr2e-05_seed0/*json\"\n",
    ")\n",
    "subsB = read_submit_json(output_dir)\n",
    "\n",
    "list_geobleu_val_ep_1, list_dtw_val_ep_1 = caluc_test_score(subsB)"
   ]
  },
  {
   "cell_type": "code",
   "execution_count": 26,
   "metadata": {},
   "outputs": [
    {
     "name": "stdout",
     "output_type": "stream",
     "text": [
      "計算できなかったuid数は 0件\n",
      "geobleu: 0.020381211173639613\n",
      "dtw: 224.86270387242917\n"
     ]
    }
   ],
   "source": [
    "output_dir = (\n",
    "    f\"{base_path}/{run_name}/taskB/batchsize128_epochs10_embedsize128_layersnum4_headsnum8_cuda0_lr2e-05_seed0/*json\"\n",
    ")\n",
    "subsB = read_submit_json(output_dir)\n",
    "\n",
    "list_geobleu_val_ep_10, list_dtw_val_ep_10 = caluc_test_score(subsB)"
   ]
  },
  {
   "cell_type": "code",
   "execution_count": 28,
   "metadata": {},
   "outputs": [
    {
     "data": {
      "image/png": "[encoded data removed]",
      "text/plain": [
       "<Figure size 1000x600 with 1 Axes>"
      ]
     },
     "metadata": {},
     "output_type": "display_data"
    }
   ],
   "source": [
    "# リストにカテゴリを付ける\n",
    "data = [list_geobleu_val, list_geobleu_val_ep_10, list_geobleu_val_ep_1]\n",
    "\n",
    "# boxplotの表示\n",
    "plt.figure(figsize=(10, 6))\n",
    "sns.boxplot(data=data)\n",
    "plt.xticks([0, 1, 2], [\"epoch 50\", \"epoch 10\", \"epoch 1\"])  # x軸にカテゴリラベルを設定\n",
    "plt.title(\"Comparison of geobleu Score\")\n",
    "plt.ylabel(\"Scores\")\n",
    "plt.show()"
   ]
  },
  {
   "cell_type": "code",
   "execution_count": 29,
   "metadata": {},
   "outputs": [
    {
     "data": {
      "image/png": "[encoded data removed]",
      "text/plain": [
       "<Figure size 1000x600 with 1 Axes>"
      ]
     },
     "metadata": {},
     "output_type": "display_data"
    }
   ],
   "source": [
    "# リストにカテゴリを付ける\n",
    "data = [list_dtw_val, list_dtw_val_ep_10, list_dtw_val_ep_1]\n",
    "\n",
    "# boxplotの表示\n",
    "plt.figure(figsize=(10, 6))\n",
    "sns.boxplot(data=data)\n",
    "plt.xticks([0, 1, 2], [\"epoch 50\", \"epoch 10\", \"epoch 1\"])  # x軸にカテゴリラベルを設定\n",
    "plt.title(\"Comparison of dtw Score\")\n",
    "plt.ylabel(\"Scores\")\n",
    "plt.show()"
   ]
  },
  {
   "cell_type": "code",
   "execution_count": 34,
   "metadata": {},
   "outputs": [
    {
     "data": {
      "image/png": "[encoded data removed]",
      "text/plain": [
       "<Figure size 1000x600 with 1 Axes>"
      ]
     },
     "metadata": {},
     "output_type": "display_data"
    }
   ],
   "source": [
    "# ヒストグラムの描画\n",
    "plt.figure(figsize=(10, 6))\n",
    "plt.hist(list_geobleu_val, bins=100, edgecolor=\"black\")\n",
    "plt.title(\"Score Distribution (Histogram)\")\n",
    "plt.xlabel(\"Scores\")\n",
    "plt.ylabel(\"Frequency\")\n",
    "plt.show()"
   ]
  },
  {
   "cell_type": "code",
   "execution_count": 35,
   "metadata": {},
   "outputs": [
    {
     "data": {
      "image/png": "[encoded data removed]",
      "text/plain": [
       "<Figure size 1000x600 with 1 Axes>"
      ]
     },
     "metadata": {},
     "output_type": "display_data"
    }
   ],
   "source": [
    "# ヒストグラムの描画\n",
    "plt.figure(figsize=(10, 6))\n",
    "plt.hist(list_dtw_val, bins=100, edgecolor=\"black\")\n",
    "plt.title(\"Score Distribution (Histogram)\")\n",
    "plt.xlabel(\"Scores\")\n",
    "plt.ylabel(\"Frequency\")\n",
    "plt.show()"
   ]
  },
  {
   "cell_type": "code",
   "execution_count": 37,
   "metadata": {},
   "outputs": [
    {
     "data": {
      "text/html": [
       "<div><style>\n",
       ".dataframe > thead > tr,\n",
       ".dataframe > tbody > tr {\n",
       "  text-align: right;\n",
       "  white-space: pre-wrap;\n",
       "}\n",
       "</style>\n",
       "<small>shape: (1, 5)</small><table border=\"1\" class=\"dataframe\"><thead><tr><th>uid</th><th>d</th><th>t</th><th>x</th><th>y</th></tr><tr><td>i64</td><td>i64</td><td>i64</td><td>i64</td><td>i64</td></tr></thead><tbody><tr><td>0</td><td>0</td><td>20</td><td>80</td><td>99</td></tr></tbody></table></div>"
      ],
      "text/plain": [
       "shape: (1, 5)\n",
       "┌─────┬─────┬─────┬─────┬─────┐\n",
       "│ uid ┆ d   ┆ t   ┆ x   ┆ y   │\n",
       "│ --- ┆ --- ┆ --- ┆ --- ┆ --- │\n",
       "│ i64 ┆ i64 ┆ i64 ┆ i64 ┆ i64 │\n",
       "╞═════╪═════╪═════╪═════╪═════╡\n",
       "│ 0   ┆ 0   ┆ 20  ┆ 80  ┆ 99  │\n",
       "└─────┴─────┴─────┴─────┴─────┘"
      ]
     },
     "metadata": {},
     "output_type": "display_data"
    },
    {
     "name": "stdout",
     "output_type": "stream",
     "text": [
      "24375898\n"
     ]
    }
   ],
   "source": [
    "# CSV.GZファイルを読み込む\n",
    "df_b = pl.read_csv(\"/kaggle/s3storage/01_public/humob-challenge-2024/input/cityB_challengedata.csv.gz\")\n",
    "\n",
    "# データフレームの内容を表示\n",
    "display(df_b.head(1))\n",
    "print(len(df_b))"
   ]
  },
  {
   "cell_type": "code",
   "execution_count": 99,
   "metadata": {},
   "outputs": [],
   "source": [
    "def plot_xy_trajectory(city_df: pl.DataFrame, selected_uids: list[int]) -> None:\n",
    "    \"\"\"ユーザーごとのx, yの推移を時間軸に沿って折れ線グラフで可視化\n",
    "\n",
    "    args\n",
    "        city_df: Polarsのデータフレーム\n",
    "        selected_uids: 表示したいユーザーIDのリスト\n",
    "    \"\"\"\n",
    "\n",
    "    # 選択されたUIDのデータをフィルタリングし、時間でソート\n",
    "    dff = city_df.filter(pl.col(\"uid\").is_in(selected_uids))\n",
    "    dff = dff.with_columns((pl.col(\"d\") * 48 + pl.col(\"t\")).alias(\"time\"))\n",
    "    dff = dff.sort(\"time\")\n",
    "\n",
    "    # Pandasデータフレームに変換\n",
    "    dff_pd = dff.to_pandas()\n",
    "\n",
    "    # X座標の推移を描画\n",
    "    x_line_fig = px.line(\n",
    "        dff_pd,\n",
    "        x=\"time\",\n",
    "        y=\"x\",\n",
    "        color=\"uid\",\n",
    "        labels={\"x\": \"Time\", \"y\": \"X Position\", \"uid\": \"User ID\"},\n",
    "        title=\"User X Position Over Time\",\n",
    "        range_y=[0, 200],  # y座標の範囲を指定\n",
    "    )\n",
    "    x_line_fig.update_traces(mode=\"lines+markers\")\n",
    "\n",
    "    # Y座標の推移を描画\n",
    "    y_line_fig = px.line(\n",
    "        dff_pd,\n",
    "        x=\"time\",\n",
    "        y=\"y\",\n",
    "        color=\"uid\",\n",
    "        labels={\"x\": \"Time\", \"y\": \"Y Position\", \"uid\": \"User ID\"},\n",
    "        title=\"User Y Position Over Time\",\n",
    "        range_y=[0, 200],  # y座標の範囲を指定\n",
    "    )\n",
    "    y_line_fig.update_traces(mode=\"lines+markers\")\n",
    "\n",
    "    # グラフの表示\n",
    "    x_line_fig.show()\n",
    "    y_line_fig.show()"
   ]
  },
  {
   "cell_type": "code",
   "execution_count": 100,
   "metadata": {},
   "outputs": [],
   "source": [
    "def plot_xy_trajectory_submit(subs: dict, selected_uid: int) -> None:\n",
    "\n",
    "    # submitファイル用にuidを再定義\n",
    "    new_uid = selected_uid - 20000\n",
    "\n",
    "    # 選択されたUIDの部分を抽出\n",
    "    _pred_dict = subs[\"generated\"][new_uid]\n",
    "    # 辞書に変換したのちにpolarsに変換\n",
    "    _pred_dict = [{\"d\": item[0], \"t\": item[1], \"x\": item[2], \"y\": item[3]} for item in _pred_dict]\n",
    "    pred_pl = pl.DataFrame(_pred_dict)\n",
    "    # time項目を追加\n",
    "    pred_pl = pred_pl.with_columns((pl.col(\"d\") * 48 + pl.col(\"t\")).alias(\"time\"))\n",
    "    pred_pl = pred_pl.sort(\"time\")\n",
    "    pred_pl = pred_pl.with_columns(pl.lit(\"Prediction\").alias(\"type\"))\n",
    "\n",
    "    # Pandasデータフレームに変換\n",
    "    pred_pd = pred_pl.to_pandas()\n",
    "\n",
    "    # 選択されたUIDの部分を抽出\n",
    "    _act_dict = subs[\"reference\"][new_uid]\n",
    "    # 辞書に変換したのちにpolarsに変換\n",
    "    _act_dict = [{\"d\": item[0], \"t\": item[1], \"x\": item[2], \"y\": item[3]} for item in _act_dict]\n",
    "    act_pl = pl.DataFrame(_act_dict)\n",
    "    # time項目を追加\n",
    "    act_pl = act_pl.with_columns((pl.col(\"d\") * 48 + pl.col(\"t\")).alias(\"time\"))\n",
    "    act_pl = act_pl.sort(\"time\")\n",
    "    act_pl = act_pl.with_columns(pl.lit(\"Actual\").alias(\"type\"))\n",
    "    # Pandasデータフレームに変換\n",
    "    act_pd = act_pl.to_pandas()\n",
    "\n",
    "    # 予測値と実測値を1つのデータフレームに結合\n",
    "    combined_df = pd.concat([pred_pd, act_pd])\n",
    "\n",
    "    # X座標の推移を描画\n",
    "    x_line_fig = px.line(\n",
    "        combined_df,\n",
    "        x=\"time\",\n",
    "        y=\"x\",\n",
    "        color=\"type\",\n",
    "        labels={\"x\": \"Time\", \"y\": \"X Position\", \"type\": \"Data Type\"},\n",
    "        title=\"User X Position Over Time\",\n",
    "        range_y=[0, 200],  # y座標の範囲を指定\n",
    "    )\n",
    "    x_line_fig.update_traces(mode=\"lines+markers\")\n",
    "    # x_line_fig.update_layout(yaxis=dict(range=[0, 200]))  # y軸を0から200に固定\n",
    "\n",
    "    # Y座標の推移を描画\n",
    "    y_line_fig = px.line(\n",
    "        combined_df,\n",
    "        x=\"time\",\n",
    "        y=\"y\",\n",
    "        color=\"type\",\n",
    "        labels={\"x\": \"Time\", \"y\": \"Y Position\", \"type\": \"Data Type\"},\n",
    "        title=\"User Y Position Over Time\",\n",
    "        range_y=[0, 200],  # y座標の範囲を指定\n",
    "    )\n",
    "    y_line_fig.update_traces(mode=\"lines+markers\")\n",
    "    # y_line_fig.update_layout(yaxis=dict(range=[0, 200]))  # y軸を0から200に固定\n",
    "\n",
    "    # グラフの表示\n",
    "    x_line_fig.show()\n",
    "    y_line_fig.show()"
   ]
  },
  {
   "cell_type": "code",
   "execution_count": 101,
   "metadata": {},
   "outputs": [
    {
     "data": {
      "text/plain": [
       "[0.6591998010662653,\n",
       " 0.06361997282793494,\n",
       " 0.05286268610518907,\n",
       " 0.08432341455005159,\n",
       " 0.397640820805466,\n",
       " 0.010205880906612508,\n",
       " 1.057443440404299e-23,\n",
       " 6.701786082044365e-05,\n",
       " 0.04667618085052088,\n",
       " 0.00016191047030047998,\n",
       " 6.703639068882797e-15,\n",
       " 0.4195132538884809,\n",
       " 0.03367824053351092,\n",
       " 7.687059095481662e-18,\n",
       " 0.218343996044472,\n",
       " 0.03607622978611953,\n",
       " 0.05991505755661084,\n",
       " 0.19628167583206693,\n",
       " 0.04747454274496068,\n",
       " 0.08540729977030266,\n",
       " 3.7609886459925048e-06,\n",
       " 7.104805522703932e-05,\n",
       " 0.5608708635120607,\n",
       " 6.503095479137178e-12,\n",
       " 1.2191884149087745e-06,\n",
       " 0.001134071447836881,\n",
       " 2.3293931699318257e-09,\n",
       " 1.1756692069699651e-05,\n",
       " 1.4960081110985291e-07,\n",
       " 0.07411269781285242,\n",
       " 1.4417183629390913e-25,\n",
       " 1.046443557979731e-05,\n",
       " 5.786043985891969e-14,\n",
       " 1.6567031202820415e-07,\n",
       " 0.24980424166825815,\n",
       " 0.09190796025905679,\n",
       " 0.6170437895629651,\n",
       " 0.05351681201146424,\n",
       " 0.010110014416432061,\n",
       " 2.6855192163555946e-18,\n",
       " 0.06376069968329884,\n",
       " 0.06762736604077493,\n",
       " 0.6006922909394334,\n",
       " 7.790572111566748e-06,\n",
       " 1.795820646163528e-24,\n",
       " 0.09765139389181707,\n",
       " 0.06592905190884582,\n",
       " 0.0406237828815229,\n",
       " 2.1286148333627784e-06,\n",
       " 5.152350406876302e-65,\n",
       " 0.07826404270922492,\n",
       " 1.986351738301545e-09,\n",
       " 0.020451592036567087,\n",
       " 0.09224618973757724,\n",
       " 0.2422705766587225,\n",
       " 1.6290795806280197e-27,\n",
       " 0.1610208008617274,\n",
       " 0.17861763782746992,\n",
       " 0.5692458228135098,\n",
       " 9.570219865384769e-29,\n",
       " 0.21634081020743368,\n",
       " 0.130866807393908,\n",
       " 7.553145195919977e-08,\n",
       " 8.307539502522308e-39,\n",
       " 0.08728195142977689,\n",
       " 0.01328438031739989,\n",
       " 1.1227416354315298e-08,\n",
       " 0.00011658691465811518,\n",
       " 4.971682226887762e-31,\n",
       " 0.04206997200405959,\n",
       " 0.30009688275561813,\n",
       " 0.01309800022853038,\n",
       " 0.0468939628179362,\n",
       " 0.002238898656017858,\n",
       " 0.19905145690300025,\n",
       " 0.3270067934823709,\n",
       " 1.4217782853446683e-09,\n",
       " 2.0426012149978908e-29,\n",
       " 0.1304070237763378,\n",
       " 0.01277582358813526,\n",
       " 1.90951014043189e-09,\n",
       " 7.6572727290982e-09,\n",
       " 0.10546994204379974,\n",
       " 1.2699872504469162e-06,\n",
       " 0.19219680229433864,\n",
       " 0.002728257581466935,\n",
       " 0.04196530342521392,\n",
       " 0.0016145546814113896,\n",
       " 1.8847865194963204e-05,\n",
       " 0.23567860484110884,\n",
       " 0.02493768855487767,\n",
       " 0.003167651745162527,\n",
       " 0.0005796390332543363,\n",
       " 4.933637116626532e-39,\n",
       " 0.066892540191183,\n",
       " 0.017007261108593404,\n",
       " 5.403803539824554e-16,\n",
       " 0.4022391124854012,\n",
       " 0.01042556930468108,\n",
       " 2.368956633125448e-09,\n",
       " 0.17820800831339234,\n",
       " 0.015433844774429004,\n",
       " 0.21663001412348465,\n",
       " 0.10164835208767412,\n",
       " 7.455701866102528e-49,\n",
       " 7.226304739129265e-45,\n",
       " 0.3923617510000392,\n",
       " 5.612258908018469e-17,\n",
       " 0.9782453016248515,\n",
       " 2.0910983029452735e-05,\n",
       " 1.4925071642951936e-07,\n",
       " 5.6473771536484624e-30,\n",
       " 0.42699325381158854,\n",
       " 0.021606257964077134,\n",
       " 0.00030419585485091233,\n",
       " 1.1242447321255807e-07,\n",
       " 9.417915706532445e-14,\n",
       " 0.0008597668635488354,\n",
       " 0.006541439549210917,\n",
       " 0.0016840010127150025,\n",
       " 0.04541775847651617,\n",
       " 1.3456832227677917e-13,\n",
       " 0.06309424612141144,\n",
       " 0.5183631078573706,\n",
       " 0.0006207398722446282,\n",
       " 0.7266698140079589,\n",
       " 0.06088479747924492,\n",
       " 4.212323443950558e-07,\n",
       " 8.084858080364351e-20,\n",
       " 0.007808682338115204,\n",
       " 1.012412235685732e-08,\n",
       " 0.20770442479758908,\n",
       " 0.1566188502462219,\n",
       " 0.16326371456953018,\n",
       " 0.396417909063848,\n",
       " 0.21540347792503137,\n",
       " 0.5861317042461778,\n",
       " 0.3737539268095437,\n",
       " 5.985423420221625e-13,\n",
       " 4.147287247331166e-10,\n",
       " 0.385335544089444,\n",
       " 0.19778606283302774,\n",
       " 0.003324063448588222,\n",
       " 0.2093219664624048,\n",
       " 0.10196056791249507,\n",
       " 5.711729460360283e-07,\n",
       " 0.017272097712506138,\n",
       " 0.028131072390783156,\n",
       " 1.4693873355138885e-18,\n",
       " 0.24081400975724965,\n",
       " 0.31174877606300194,\n",
       " 4.039320245343313e-08,\n",
       " 0.028650958337588274,\n",
       " 0.43398531007673696,\n",
       " 0.07175228496187264,\n",
       " 0.5054293758174315,\n",
       " 0.5702366836255267,\n",
       " 0.001344212117257331,\n",
       " 0.45596497037037675,\n",
       " 6.607193285091618e-06,\n",
       " 1.6211819514661653e-23,\n",
       " 1.7495253356135196e-05,\n",
       " 0.001144296482249599,\n",
       " 0.11745382411148962,\n",
       " 0.021783725635895854,\n",
       " 0.11217175867412048,\n",
       " 0.18798655591107882,\n",
       " 0.13867069786319008,\n",
       " 0.0479342751489689,\n",
       " 0.0011353724542051081,\n",
       " 0.030013430956244334,\n",
       " 0.10986882743341936,\n",
       " 0.2808952930961638,\n",
       " 5.213438233869258e-05,\n",
       " 0.2808809870184991,\n",
       " 0.03988136734265867,\n",
       " 0.2248647254974527,\n",
       " 0.0579776602259721,\n",
       " 1.0349755527294414e-06,\n",
       " 0.0477653567614637,\n",
       " 0.11148779768986539,\n",
       " 0.02077578311351263,\n",
       " 0.008135230497126939,\n",
       " 0.13538250010268238,\n",
       " 0.0036822735946768085,\n",
       " 0.5755541298968592,\n",
       " 0.00011727820838280367,\n",
       " 1.1695906658463957e-06,\n",
       " 3.835974400686833e-36,\n",
       " 4.404235234366085e-22,\n",
       " 1.0214223059241873e-16,\n",
       " 3.2886998200713413e-47,\n",
       " 1.1735557506756305e-08,\n",
       " 0.004211204473550552,\n",
       " 0.036385616490456615,\n",
       " 0.03244147213174317,\n",
       " 0.03694451559285975,\n",
       " 6.339719764698294e-32,\n",
       " 0.48484760068528776,\n",
       " 8.405139383797811e-05,\n",
       " 0.5317737394363186,\n",
       " 4.523094816072831e-05,\n",
       " 0.0016086409550491675,\n",
       " 0.0010857461102203641,\n",
       " 7.406877730916374e-07,\n",
       " 0.017217577800147325,\n",
       " 0.2235377422539052,\n",
       " 0.2523059975593707,\n",
       " 0.10740251719344326,\n",
       " 0.45653599973705083,\n",
       " 0.3098267284717984,\n",
       " 0.011171644624488473,\n",
       " 0.2368931922130289,\n",
       " 0.48363599104213806,\n",
       " 0.1762030974958067,\n",
       " 0.016821326290769302,\n",
       " 0.012091579801148163,\n",
       " 0.031412266542028194,\n",
       " 0.6600837224790279,\n",
       " 0.006636282148801303,\n",
       " 0.07618198660180804,\n",
       " 3.640981448904659e-07,\n",
       " 0.1470058714625529,\n",
       " 5.583150168008217e-19,\n",
       " 9.271357839830772e-05,\n",
       " 0.03854394361133765,\n",
       " 3.151769249856167e-21,\n",
       " 5.440618735640927e-11,\n",
       " 9.593003480604967e-13,\n",
       " 0.058451055752024084,\n",
       " 4.417756002771849e-05,\n",
       " 3.695598806196312e-25,\n",
       " 0.35906253591177045,\n",
       " 0.22178272477118532,\n",
       " 0.44392151372527994,\n",
       " 0.36762333588958107,\n",
       " 0.36794096104225643,\n",
       " 0.1808373463853618,\n",
       " 0.44106064500728653,\n",
       " 0.4415572830747198,\n",
       " 0.010772921778237549,\n",
       " 0.10080568784650809,\n",
       " 0.0036413614427800054,\n",
       " 0.15618590627096152,\n",
       " 0.15214343704430505,\n",
       " 0.12443641042225072,\n",
       " 0.16579025310881296,\n",
       " 0.49907538246694,\n",
       " 0.001996830973898874,\n",
       " 5.2792351604961806e-33,\n",
       " 0.413125298113131,\n",
       " 0.29930361612988615,\n",
       " 0.01462054774560531,\n",
       " 0.10650943056503274,\n",
       " 0.21977446066277,\n",
       " 2.4677777539049957e-75,\n",
       " 0.3629013771205686,\n",
       " 0.14727196764964867,\n",
       " 3.152161923377007e-09,\n",
       " 0.35552333439396283,\n",
       " 6.808154176748629e-09,\n",
       " 2.7189846292997445e-24,\n",
       " 0.17861502770967266,\n",
       " 3.420016134876289e-12,\n",
       " 2.487298606642424e-17,\n",
       " 0.0002180535026687176,\n",
       " 0.034014062225847255,\n",
       " 5.968008465564237e-13,\n",
       " 0.012758242081143107,\n",
       " 2.4414188033115223e-11,\n",
       " 0.7319332173995957,\n",
       " 0.7437620216032781,\n",
       " 0.4514552598867916,\n",
       " 0.010636040436119243,\n",
       " 0.0002643643300242806,\n",
       " 0.004957692487655294,\n",
       " 0.3188722695667711,\n",
       " 1.1788517866771707e-08,\n",
       " 5.374921550424534e-08,\n",
       " 0.022413316765133036,\n",
       " 0.7596531998892537,\n",
       " 9.508364502419495e-15,\n",
       " 0.26397934925475314,\n",
       " 0.10518136336075248,\n",
       " 0.005708196686701542,\n",
       " 5.3731836484389706e-09,\n",
       " 0.009866972002745795,\n",
       " 0.009559055017094382,\n",
       " 0.039302723042814215,\n",
       " 0.20117091198247491,\n",
       " 2.387274239641866e-07,\n",
       " 1.5009128186812398e-20,\n",
       " 0.020577726025938266,\n",
       " 0.07556337630093607,\n",
       " 0.00031246838632548727,\n",
       " 2.640406244709805e-19,\n",
       " 0.004773580712923783,\n",
       " 2.1066747407955043e-09,\n",
       " 0.001101930510150484,\n",
       " 5.238309787674995e-09,\n",
       " 9.036410548292477e-34,\n",
       " 0.03526923915940402,\n",
       " 0.0005478167295434766,\n",
       " 0.48927186324013794,\n",
       " 0.000193983519426667,\n",
       " 0.06182910309267177,\n",
       " 0.0015323875990789029,\n",
       " 0.058439488995554706,\n",
       " 1.3774087235558475e-05,\n",
       " 0.0010414239652595718,\n",
       " 0.12918910839137482,\n",
       " 0.15999107029672657,\n",
       " 0.1441979222461711,\n",
       " 0.26426955343899616,\n",
       " 0.007003914488708726,\n",
       " 6.0916282732994285e-28,\n",
       " 0.0020128117901588817,\n",
       " 0.32325184857906936,\n",
       " 0.26960344911668943,\n",
       " 0.257391907858602,\n",
       " 2.766706151645374e-34,\n",
       " 0.39007893422039774,\n",
       " 0.3343995407268768,\n",
       " 0.08906174872160455,\n",
       " 8.825258953418571e-24,\n",
       " 0.07337449449299274,\n",
       " 0.0336657059875022,\n",
       " 0.06067763042389391,\n",
       " 2.0980176721445464e-19,\n",
       " 0.000960728494299069,\n",
       " 1.898426580205656e-37,\n",
       " 0.10806196149813153,\n",
       " 0.2851958678945312,\n",
       " 0.3056676316557184,\n",
       " 0.07980680959118253,\n",
       " 0.23937511316868398,\n",
       " 0.43878870161418276,\n",
       " 0.0026815580260448183,\n",
       " 0.00592569738285084,\n",
       " 2.1783645525555122e-16,\n",
       " 0.04792049002843675,\n",
       " 0.037676460088986,\n",
       " 0.004639531400392054,\n",
       " 0.32897342081394043,\n",
       " 0.045175772442280264,\n",
       " 1.1100341127174936e-14,\n",
       " 0.228998887057724,\n",
       " 6.464357156756486e-16,\n",
       " 1.4941562564083422e-07,\n",
       " 9.88461452014731e-08,\n",
       " 1.0945559708567043e-07,\n",
       " 0.06311506017847514,\n",
       " 0.0004980496611338765,\n",
       " 0.004789765975026112,\n",
       " 0.06496304786725879,\n",
       " 3.7567579098034285e-21,\n",
       " 0.00010896154933756604,\n",
       " 3.272377212234676e-28,\n",
       " 1.9627135773536294e-11,\n",
       " 0.5689988818872429,\n",
       " 3.35413289825449e-22,\n",
       " 0.5102259281311159,\n",
       " 8.186537344911798e-22,\n",
       " 0.06160323167511303,\n",
       " 0.00010341119409557063,\n",
       " 0.009154574158041485,\n",
       " 0.0006661526000523451,\n",
       " 0.12240853471425042,\n",
       " 0.43622157933533756,\n",
       " 3.1450445747551188e-28,\n",
       " 2.019626296608091e-05,\n",
       " 0.12600987006701983,\n",
       " 0.17230094432026202,\n",
       " 0.030963906894764595,\n",
       " 0.022264478888626617,\n",
       " 6.717481503601116e-31,\n",
       " 0.11774404975082418,\n",
       " 0.019385486606019315,\n",
       " 0.16789817436560708,\n",
       " 0.017819147015845218,\n",
       " 3.7243691469588125e-13,\n",
       " 0.002300072332452084,\n",
       " 0.3095970124771573,\n",
       " 1.808535608452042e-05,\n",
       " 0.18930853676840959,\n",
       " 0.24451168948425478,\n",
       " 0.015139767834751782,\n",
       " 0.07030434650715527,\n",
       " 0.11705569519367345,\n",
       " 0.18125979755533883,\n",
       " 0.005624483905471425,\n",
       " 0.0026149932981945137,\n",
       " 1.9441023387546887e-21,\n",
       " 0.29723469115146056,\n",
       " 4.5567656889383755e-09,\n",
       " 0.055930714567879805,\n",
       " 0.005388320793989906,\n",
       " 0.040817139140792304,\n",
       " 1.1784366487040318e-05,\n",
       " 0.3517922469105751,\n",
       " 0.05521335277773288,\n",
       " 0.0444912368550524,\n",
       " 1.0203852055569534e-07,\n",
       " 2.790655289564839e-15,\n",
       " 0.3903372408949019,\n",
       " 0.4228059778740895,\n",
       " 0.39460975151313865,\n",
       " 0.44695326640917626,\n",
       " 0.2794451397186245,\n",
       " 0.032131828299615896,\n",
       " 2.0976875652440266e-08,\n",
       " 0.15908732250125834,\n",
       " 0.21514854865522165,\n",
       " 0.025846751223078467,\n",
       " 0.34390370267037224,\n",
       " 0.01415747700547467,\n",
       " 0.04123646252946518,\n",
       " 1.305754823979356e-07,\n",
       " 0.0007943816094943187,\n",
       " 8.796581928728019e-05,\n",
       " 1.6927266084477714e-50,\n",
       " 0.264064764701387,\n",
       " 0.018028910543974586,\n",
       " 0.02696306371675699,\n",
       " 0.05525058662006925,\n",
       " 0.27438648028997464,\n",
       " 9.75999535137026e-18,\n",
       " 0.02901764995838481,\n",
       " 2.5661010110488956e-14,\n",
       " 0.04723388865700629,\n",
       " 0.23433129835777533,\n",
       " 0.24991807154358775,\n",
       " 0.002888534620409292,\n",
       " 0.00131504361861387,\n",
       " 6.787316025089876e-16,\n",
       " 0.07109107093494003,\n",
       " 8.7900390873261e-05,\n",
       " 0.011324615378438667,\n",
       " 0.005966299671413887,\n",
       " 0.2731015918705507,\n",
       " 0.03761358201635989,\n",
       " 0.038734727446294026,\n",
       " 1.4759657001267939e-09,\n",
       " 0.6635804307387355,\n",
       " 8.007572250027861e-25,\n",
       " 0.11897926805505431,\n",
       " 2.912811678644467e-11,\n",
       " 7.057454200982913e-35,\n",
       " 0.10690808357072025,\n",
       " 0.5114535109688131,\n",
       " 0.021181362183549105,\n",
       " 0.00028290597231444837,\n",
       " 1.3955853977967017e-06,\n",
       " 0.0063681848029124005,\n",
       " 9.434847309676894e-07,\n",
       " 0.05594202892461088,\n",
       " 0.014905844870286046,\n",
       " 0.01668827118317203,\n",
       " 0.05213957392101661,\n",
       " 0.1367431003977473,\n",
       " 4.1328805414494566e-12,\n",
       " 0.6264027727593191,\n",
       " 0.3886567888253709,\n",
       " 2.7160935747694802e-36,\n",
       " 0.22897651790321755,\n",
       " 0.05672291813629735,\n",
       " 0.09393390548378869,\n",
       " 0.0027915109429029017,\n",
       " 3.461518481687098e-05,\n",
       " 1.744154186448777e-05,\n",
       " 0.12261671943978714,\n",
       " 0.07251187089314455,\n",
       " 0.4593640228160999,\n",
       " 2.358459006070016e-10,\n",
       " 4.497430244946037e-09,\n",
       " 0.2696325145195542,\n",
       " 2.0522311282133914e-10,\n",
       " 5.519583461616107e-22,\n",
       " 0.002884592289776757,\n",
       " 9.434495759720342e-09,\n",
       " 5.124517172242927e-10,\n",
       " 0.08363150170020539,\n",
       " 2.345216773414739e-05,\n",
       " 0.0066241521511520105,\n",
       " 0.9380485231764795,\n",
       " 0.0009046079546002725,\n",
       " 0.024399900907514552,\n",
       " 0.6549437969463946,\n",
       " 0.0014766491115404525,\n",
       " 0.005072433306366629,\n",
       " 0.008786958709240449,\n",
       " 0.13800104800444815,\n",
       " 3.122892591347948e-09,\n",
       " 1.0690870183091505e-05,\n",
       " 0.022134893375677134,\n",
       " 0.17966928483008182,\n",
       " 1.0127790076327619e-17,\n",
       " 0.12470934838897242,\n",
       " 0.16194414648309843,\n",
       " 2.5494990492645288e-17,\n",
       " 0.053094550284196594,\n",
       " 0.00046641099563639755,\n",
       " 0.01971335735235977,\n",
       " 0.010731799196165454,\n",
       " 0.05467328656179048,\n",
       " 0.015758768664569343,\n",
       " 1.2986447404658001e-70,\n",
       " 0.18407791661650355,\n",
       " 0.12792468071948285,\n",
       " 0.1454278342589989,\n",
       " 0.00039904476220886323,\n",
       " 0.006152089870612724,\n",
       " 2.215669669907109e-12,\n",
       " 8.651976781834033e-06,\n",
       " 0.2150064329735388,\n",
       " 0.15061182883127971,\n",
       " 0.06707088044023965,\n",
       " 0.0016423560551678733,\n",
       " 0.19553228472216783,\n",
       " 0.45036599560636836,\n",
       " 0.23431372916436963,\n",
       " 0.21975302774676458,\n",
       " 0.021161840423430705,\n",
       " 0.12219363282265358,\n",
       " 8.532393566738745e-07,\n",
       " 0.3439315323849949,\n",
       " 0.09126377153167689,\n",
       " 0.36515320770116333,\n",
       " 0.8301831035621717,\n",
       " 0.002246237752045648,\n",
       " 0.1221482438593455,\n",
       " 0.000970601546330253,\n",
       " 5.076142320076307e-10,\n",
       " 0.5053738407103232,\n",
       " 0.000638074469264514,\n",
       " 0.38145244179448484,\n",
       " 0.09790847688353962,\n",
       " 0.23819512703929402,\n",
       " 0.007694352190285614,\n",
       " 0.24824412718389538,\n",
       " 8.182685778691598e-06,\n",
       " 0.013784552280054102,\n",
       " 8.236727865327042e-06,\n",
       " 0.0010080611158023321,\n",
       " 0.034491102572152085,\n",
       " 0.3351108387876693,\n",
       " 0.4064308874038308,\n",
       " 0.4476702751019392,\n",
       " 0.2705502355545788,\n",
       " 0.00014483173175162557,\n",
       " 0.28161829122859966,\n",
       " 0.06758666248791435,\n",
       " 1.1896520278494697e-19,\n",
       " 0.000910231252469542,\n",
       " 2.186297353102621e-09,\n",
       " 0.003517922723288954,\n",
       " 0.0009513312602971744,\n",
       " 0.017831452471173882,\n",
       " 0.03964382120826056,\n",
       " 0.24829536458634485,\n",
       " 2.9127033911324105e-07,\n",
       " 7.677579357173795e-06,\n",
       " 0.12895139633149433,\n",
       " 0.0034111396142184666,\n",
       " 0.002875533452847711,\n",
       " 0.18228659233192898,\n",
       " 0.06133174582792021,\n",
       " 1.662630577206373e-11,\n",
       " 0.5583170575021198,\n",
       " 0.2648371901530603,\n",
       " 4.2019295010273556e-10,\n",
       " 1.8126672180871818e-05,\n",
       " 0.11723552167416104,\n",
       " 0.0004652803059983967,\n",
       " 0.0014747372279335872,\n",
       " 0.0020308904615834148,\n",
       " 0.32950358791739803,\n",
       " 1.207688132509277e-30,\n",
       " 0.018606260151621336,\n",
       " 1.6460662153634984e-09,\n",
       " 1.5907671065463224e-22,\n",
       " 0.2759278498331658,\n",
       " 0.28110130797267385,\n",
       " 0.0012504832536575148,\n",
       " 0.4490999244975064,\n",
       " 0.1926449131479619,\n",
       " 0.002765234047757864,\n",
       " 0.00037304720788908257,\n",
       " 0.007992587808811442,\n",
       " 3.123362879260208e-14,\n",
       " 0.2868120729405911,\n",
       " 0.19512781088666814,\n",
       " 0.0038701958708215237,\n",
       " 8.015139161593056e-08,\n",
       " 0.1764566186499861,\n",
       " 0.028373420152694128,\n",
       " 0.024441570005419973,\n",
       " 8.221442171913094e-06,\n",
       " 0.05851265436331734,\n",
       " 1.5578460597641394e-09,\n",
       " 2.493848435264166e-16,\n",
       " 0.28769390254831895,\n",
       " 0.2770025231803552,\n",
       " 0.0015375898841853317,\n",
       " 0.049675449844001615,\n",
       " 2.5883509996735536e-55,\n",
       " 0.1772739040124184,\n",
       " 0.09805165508186041,\n",
       " 0.48418134293524273,\n",
       " 0.5962027949323118,\n",
       " 0.3705302299797361,\n",
       " 0.012966749949212297,\n",
       " 0.018893461688754196,\n",
       " 0.04502526497304578,\n",
       " 0.04542804024941416,\n",
       " 6.390522156440859e-07,\n",
       " 0.17416260123294122,\n",
       " 0.032200226939859924,\n",
       " 0.019111242963346025,\n",
       " 0.2402571735871598,\n",
       " 3.697836540512042e-15,\n",
       " 0.024407902841436173,\n",
       " 1.7656976132467714e-40,\n",
       " 0.14591970570654927,\n",
       " 9.961689128223887e-58,\n",
       " 0.014620589057806766,\n",
       " 0.03290232387129046,\n",
       " 0.22085907652673117,\n",
       " 0.04400810970810034,\n",
       " 0.012488669830270919,\n",
       " 0.03003697283651354,\n",
       " 0.03100106181099615,\n",
       " 0.17699972467569103,\n",
       " 0.6937571789801076,\n",
       " 0.013727579910025883,\n",
       " 0.33277349004047896,\n",
       " 0.09754892886211604,\n",
       " 0.004503749790524257,\n",
       " 0.043416677939614984,\n",
       " 0.25692659368994003,\n",
       " 0.24500763107635862,\n",
       " 9.255277841839202e-09,\n",
       " 0.7374283096933947,\n",
       " 0.05676085063776957,\n",
       " 0.0012442143448989993,\n",
       " 0.346729315395556,\n",
       " 4.17919921518395e-05,\n",
       " 3.6469353287281104e-06,\n",
       " 0.561641617892077,\n",
       " 0.05667507300977351,\n",
       " 2.622831756574299e-39,\n",
       " 0.022951405457092802,\n",
       " 1.0438692265265861e-32,\n",
       " 0.0479590091626013,\n",
       " 0.015562675797122139,\n",
       " 0.1979029264813544,\n",
       " 0.046204715212174306,\n",
       " 0.00030585430251945273,\n",
       " 3.1042335231014104e-36,\n",
       " 0.5808184386510414,\n",
       " 0.468918652028305,\n",
       " 0.0011696103819106918,\n",
       " 0.2757735205331671,\n",
       " 0.43605337864222676,\n",
       " 1.1209183767217039e-11,\n",
       " 5.5802076573154525e-06,\n",
       " 1.4731993554229977e-06,\n",
       " 0.6077287628036554,\n",
       " 0.17743699831336593,\n",
       " 3.1943006543013414e-22,\n",
       " 0.004195974387324678,\n",
       " 0.1661626220644775,\n",
       " 0.21764870842660253,\n",
       " 0.15829041714227413,\n",
       " 0.2012918941755608,\n",
       " 1.925983345020785e-07,\n",
       " 4.198277624671582e-17,\n",
       " 0.2389235287076442,\n",
       " 1.2951161955327734e-07,\n",
       " 0.03869946359443609,\n",
       " 0.00012977079467398224,\n",
       " 0.23414935739440576,\n",
       " 0.2661764979476811,\n",
       " 0.0007343802673421996,\n",
       " 0.27343417138600834,\n",
       " 4.994574123890154e-05,\n",
       " 0.19215261792426386,\n",
       " 1.096280222042463e-22,\n",
       " 0.0013959805055349078,\n",
       " 0.02159818105758566,\n",
       " 0.16386129969543956,\n",
       " 0.1170083783783633,\n",
       " 1.9036400232282166e-39,\n",
       " 0.0411685963046218,\n",
       " 0.002959155610260667,\n",
       " 0.17914278490065058,\n",
       " 0.08745783265481953,\n",
       " 0.00012202298392398887,\n",
       " 3.2399300948255595e-08,\n",
       " 0.0005108174940859445,\n",
       " 0.32945242553578136,\n",
       " 0.19065667198120317,\n",
       " 0.0681853607492441,\n",
       " 9.298916444186842e-18,\n",
       " 0.03626671214371066,\n",
       " 0.0009523925719620777,\n",
       " 0.002625412948991776,\n",
       " 2.1866660156260284e-12,\n",
       " 0.35140562583064666,\n",
       " 3.863526267808316e-06,\n",
       " 0.06994791463004928,\n",
       " 0.044244714431697654,\n",
       " 0.05879563883988476,\n",
       " 0.021417995972517194,\n",
       " 0.13499549511170417,\n",
       " 0.002534812445949696,\n",
       " 0.00025833595264947417,\n",
       " 0.013533223455922274,\n",
       " 0.00425561919232796,\n",
       " 4.4750477744004076e-05,\n",
       " 0.28332856621498,\n",
       " 2.5341079892672287e-14,\n",
       " 0.00047902106109701655,\n",
       " 0.00023908445805391766,\n",
       " 0.14394461489069413,\n",
       " 0.0006992264910274159,\n",
       " 0.02193135351786295,\n",
       " 0.00593851751526148,\n",
       " 0.02840060430907416,\n",
       " 0.1076187796353141,\n",
       " 9.290238928145469e-07,\n",
       " 0.014910052088382007,\n",
       " 0.17169553923610953,\n",
       " 0.12899140598150174,\n",
       " 0.3646989464895853,\n",
       " 9.275420187247799e-08,\n",
       " 2.646514323279132e-15,\n",
       " 0.191810284808443,\n",
       " 0.227187766324875,\n",
       " 0.5479886122705806,\n",
       " 0.6182047470348538,\n",
       " 0.24887297611005793,\n",
       " 0.1833025194461845,\n",
       " 0.12790258131080176,\n",
       " 0.0013844023603538558,\n",
       " 0.004475147951606826,\n",
       " 0.11790721298769968,\n",
       " 0.04991913546844569,\n",
       " 0.1884633248587607,\n",
       " 0.020596860239642426,\n",
       " 0.0020816296242807445,\n",
       " 0.0008706982839566165,\n",
       " 0.407150555630208,\n",
       " 0.37228631274443597,\n",
       " 0.015623751089063822,\n",
       " 1.038968388131212e-05,\n",
       " 0.10341983455349876,\n",
       " 0.46378762297317677,\n",
       " 0.01858305440929712,\n",
       " 0.0018396682320290802,\n",
       " 0.14994530722628996,\n",
       " 1.0107396185571065e-26,\n",
       " 0.0547995126994176,\n",
       " 0.13799850682646073,\n",
       " 0.1137013081702312,\n",
       " 0.00012831500215880926,\n",
       " 0.00010720127685542306,\n",
       " 0.07542437698784377,\n",
       " 0.002250271695891481,\n",
       " 2.252926066475359e-24,\n",
       " 0.029195926398849124,\n",
       " 3.516438235402341e-12,\n",
       " 0.0030863823459904446,\n",
       " 0.08993711853940198,\n",
       " 0.01460792221871616,\n",
       " 0.3482999206378994,\n",
       " 0.37359797151425816,\n",
       " 0.431523763553826,\n",
       " 0.007022164279675037,\n",
       " 0.14625272221038746,\n",
       " 0.05783209407117626,\n",
       " 0.052741691766276404,\n",
       " 0.3410692129631697,\n",
       " 0.00017361464472352933,\n",
       " 0.0041259440379804715,\n",
       " 4.4832803370808704e-07,\n",
       " 0.23561726613224895,\n",
       " 0.10335947589699061,\n",
       " 0.039694584482585914,\n",
       " 0.012991441879777462,\n",
       " 3.8872747684476964e-11,\n",
       " 0.11434470144698829,\n",
       " 0.02884509829265663,\n",
       " 0.4862258331561883,\n",
       " 0.052462447867210035,\n",
       " 5.341711559190912e-28,\n",
       " 0.001145993603952117,\n",
       " 0.7730334025999572,\n",
       " 0.05372401711221564,\n",
       " 0.5408318223525375,\n",
       " 2.883764672857761e-05,\n",
       " 0.05527195695167596,\n",
       " 2.4135608588159732e-20,\n",
       " 0.06422565994273216,\n",
       " 0.04466188320278445,\n",
       " 0.29144417389194255,\n",
       " 1.4803030501763522e-17,\n",
       " 0.0006351448284037431,\n",
       " 0.0070124281082203695,\n",
       " 2.795718322713457e-07,\n",
       " 0.03424922564075675,\n",
       " 0.5851340744133318,\n",
       " 0.00021769490260134197,\n",
       " 0.28436895905388604,\n",
       " 0.2915012752139054,\n",
       " 0.4621658282433966,\n",
       " 0.014407304737350296,\n",
       " 0.0001495968945194817,\n",
       " 0.05841197673660415,\n",
       " 0.013826126417954812,\n",
       " 0.005037719551463399,\n",
       " 1.145706186604884e-11,\n",
       " 0.00771356842923535,\n",
       " 0.0009201281022034671,\n",
       " 0.06857977523611421,\n",
       " 0.8459037806890966,\n",
       " 0.025042205128791597,\n",
       " 0.456114206774333,\n",
       " 0.008947269621473335,\n",
       " 0.004709971553774687,\n",
       " 0.03836383834453298,\n",
       " 1.1098755421569232e-38,\n",
       " 0.030101426695425197,\n",
       " 9.887109361902126e-05,\n",
       " 0.026835112734122868,\n",
       " 0.01641545533610588,\n",
       " 0.00987869989623041,\n",
       " 0.020276942536057555,\n",
       " 8.549079946588989e-34,\n",
       " 4.9930271741630425e-09,\n",
       " 7.285423127040008e-19,\n",
       " 0.0001924515216005235,\n",
       " 9.355221038787436e-11,\n",
       " 0.07209616265000822,\n",
       " 3.54531174333797e-09,\n",
       " 6.72911628193174e-10,\n",
       " 3.0163037951498783e-15,\n",
       " 0.00021915838121741514,\n",
       " 0.00013763418650916025,\n",
       " 2.959135480109741e-20,\n",
       " 1.4026698706551295e-05,\n",
       " 4.738414489529095e-21,\n",
       " 0.5464460869029991,\n",
       " 0.0612572060593511,\n",
       " 0.04356988277148091,\n",
       " 0.0012147905345338936,\n",
       " 0.04311718442470496,\n",
       " 0.03367490531026725,\n",
       " 0.7438543455496998,\n",
       " 0.0015067082146112464,\n",
       " 2.8342033305932743e-07,\n",
       " 0.19612574637013688,\n",
       " 0.13718865588191168,\n",
       " 6.81930696595384e-05,\n",
       " 3.734028152162874e-55,\n",
       " 0.4369248774898698,\n",
       " 0.24848026997583617,\n",
       " 0.016778170632984864,\n",
       " 0.013577262146140051,\n",
       " 0.050672739218564085,\n",
       " 0.5601237648980146,\n",
       " 0.0004336122276215173,\n",
       " 0.0069348497203991786,\n",
       " 7.107769561063518e-06,\n",
       " 0.00014639458299389884,\n",
       " 0.0037838704782339,\n",
       " 0.02134988459125784,\n",
       " 0.26830998547606527,\n",
       " 1.7878841390205937e-11,\n",
       " 0.08884899628208423,\n",
       " 5.137224273872534e-05,\n",
       " 5.923792019858176e-26,\n",
       " 0.00023521406955361162,\n",
       " 2.4186570458957877e-15,\n",
       " 0.062240683028724,\n",
       " 2.2065946196154457e-35,\n",
       " 6.451799083980275e-16,\n",
       " 0.03689503434142159,\n",
       " 0.33717961521789375,\n",
       " 0.5166927906066863,\n",
       " 0.20063626940205204,\n",
       " 0.0002964296269542445,\n",
       " 0.01984176831151064,\n",
       " 0.10310156539133157,\n",
       " 0.2299706943871132,\n",
       " 0.009248295565779769,\n",
       " 0.12079437012786262,\n",
       " 0.02117178136624541,\n",
       " 0.2682597358058972,\n",
       " 0.00847137936544298,\n",
       " 2.9365549465397014e-05,\n",
       " 0.025951179366433094,\n",
       " 1.4718752144435511e-24,\n",
       " 0.0007201405982647461,\n",
       " 4.755037391066709e-33,\n",
       " 3.816963059244361e-05,\n",
       " 1.7410329761487807e-21,\n",
       " 0.0063500725156871015,\n",
       " 0.01928900228871847,\n",
       " 0.05056184568654864,\n",
       " 1.7619669170489866e-15,\n",
       " 1.4177204695273227e-09,\n",
       " 0.15345379229654713,\n",
       " 0.15296956889876587,\n",
       " 3.4952577277833186e-06,\n",
       " 0.005204328550012413,\n",
       " 0.005125456181791126,\n",
       " 1.58523715316124e-06,\n",
       " 0.19368552981929926,\n",
       " 0.06499394324224905,\n",
       " 0.2850965402698818,\n",
       " 9.618751174198086e-05,\n",
       " 0.160237675871694,\n",
       " 0.3439936513181186,\n",
       " 0.11235742953539078,\n",
       " 0.12660407947797778,\n",
       " 0.5132686105955679,\n",
       " 0.0993250255523996,\n",
       " 0.0015304781201821544,\n",
       " 0.056844847176397054,\n",
       " 0.12773906781090458,\n",
       " 5.319196696690221e-24,\n",
       " 0.010748759502899078,\n",
       " 0.3134121930390203,\n",
       " 0.0789350102840912,\n",
       " 4.128800196873955e-05,\n",
       " 8.44783330573565e-29,\n",
       " 7.12884348934341e-26,\n",
       " 0.004770425537385483,\n",
       " 2.3929830643748106e-06,\n",
       " 0.007613471649856233,\n",
       " 0.03648424638561078,\n",
       " 0.03068160210660053,\n",
       " 0.06506496426842051,\n",
       " 0.006502245375664817,\n",
       " 1.5121168058571445e-13,\n",
       " 0.1514692788237086,\n",
       " 0.0018054391397352826,\n",
       " 9.706721955251102e-23,\n",
       " 0.7682867298691055,\n",
       " 1.1473114539881152e-05,\n",
       " 0.16408730608342872,\n",
       " 0.1908651834699128,\n",
       " 0.5270018546931762,\n",
       " 1.3513383815412702e-30,\n",
       " 0.1381776503697558,\n",
       " 3.1429599979214394e-17,\n",
       " 0.05407844595750011,\n",
       " 0.0034920552037701804,\n",
       " 0.2870110561095977,\n",
       " 6.166494837672775e-22,\n",
       " 0.4392430014873197,\n",
       " 0.0066978657430685875,\n",
       " 0.09686665550191594,\n",
       " 0.23777097702516042,\n",
       " 0.0003373850338809379,\n",
       " 0.007740773421268,\n",
       " 0.31031874223866507,\n",
       " 0.00035366877629805515,\n",
       " 0.0005643782613868665,\n",
       " 3.296822707077495e-06,\n",
       " 0.004627098343102976,\n",
       " 3.8071532009304865e-27,\n",
       " 0.030817528408526442,\n",
       " 0.04186389110352515,\n",
       " 0.0990651430396943,\n",
       " 0.06616212997094365,\n",
       " 0.5262286104816682,\n",
       " 0.2636699984175378,\n",
       " 0.07869814221266956,\n",
       " 9.473222028073961e-06,\n",
       " 1.9244498951670345e-54,\n",
       " 0.07250177158014294,\n",
       " 0.0027111989467854558,\n",
       " 0.003072597638512641,\n",
       " 0.033375197719367956,\n",
       " 0.07529339662898248,\n",
       " 0.11377466247039776,\n",
       " 4.323082867178247e-07,\n",
       " 0.006604323223720506,\n",
       " 0.005956405184736294,\n",
       " 0.0742112245618688,\n",
       " 0.6165881743883634,\n",
       " 1.3045613822739047e-11,\n",
       " 0.06798357053467861,\n",
       " 0.12490692839158013,\n",
       " 0.053294879666537426,\n",
       " 0.18044541882032678,\n",
       " 0.0015555026208921294,\n",
       " 4.3624332009866e-15,\n",
       " ...]"
      ]
     },
     "execution_count": 101,
     "metadata": {},
     "output_type": "execute_result"
    }
   ],
   "source": [
    "list_geobleu_val"
   ]
  },
  {
   "cell_type": "code",
   "execution_count": 165,
   "metadata": {},
   "outputs": [],
   "source": [
    "test_case = 20100"
   ]
  },
  {
   "cell_type": "code",
   "execution_count": 166,
   "metadata": {},
   "outputs": [
    {
     "data": {
      "application/vnd.plotly.v1+json": {
       "config": {
        "plotlyServerURL": "https://plot.ly"
       },
       "data": [
        {
         "hovertemplate": "User ID=20100<br>time=%{x}<br>Time=%{y}<extra></extra>",
         "legendgroup": "20100",
         "line": {
          "color": "#636efa",
          "dash": "solid"
         },
         "marker": {
          "symbol": "circle"
         },
         "mode": "lines+markers",
         "name": "20100",
         "orientation": "v",
         "showlegend": true,
         "type": "scatter",
         "x": [
          13,
          25,
          26,
          30,
          41,
          64,
          73,
          75,
          80,
          92,
          93,
          94,
          95,
          111,
          112,
          113,
          114,
          115,
          132,
          133,
          134,
          135,
          136,
          137,
          138,
          152,
          159,
          160,
          183,
          185,
          186,
          187,
          188,
          189,
          191,
          192,
          205,
          206,
          207,
          209,
          210,
          211,
          212,
          213,
          215,
          217,
          218,
          219,
          220,
          221,
          234,
          236,
          255,
          276,
          277,
          278,
          280,
          281,
          282,
          288,
          294,
          295,
          304,
          323,
          324,
          325,
          332,
          350,
          378,
          400,
          416,
          428,
          429,
          430,
          431,
          432,
          433,
          434,
          435,
          436,
          437,
          438,
          439,
          449,
          450,
          451,
          452,
          453,
          454,
          456,
          457,
          458,
          459,
          460,
          461,
          462,
          464,
          465,
          466,
          468,
          469,
          470,
          471,
          472,
          473,
          474,
          476,
          496,
          519,
          520,
          521,
          522,
          542,
          574,
          593,
          621,
          622,
          637,
          668,
          670,
          687,
          704,
          714,
          736,
          737,
          738,
          766,
          767,
          768,
          769,
          770,
          771,
          772,
          773,
          774,
          775,
          776,
          777,
          778,
          779,
          780,
          782,
          783,
          784,
          785,
          786,
          787,
          788,
          789,
          790,
          791,
          793,
          794,
          795,
          796,
          797,
          798,
          799,
          800,
          803,
          804,
          805,
          806,
          807,
          808,
          809,
          812,
          813,
          832,
          861,
          881,
          895,
          897,
          898,
          907,
          929,
          954,
          955,
          956,
          957,
          958,
          959,
          961,
          962,
          963,
          964,
          965,
          966,
          978,
          1005,
          1006,
          1007,
          1008,
          1024,
          1051,
          1074,
          1099,
          1104,
          1106,
          1108,
          1109,
          1110,
          1111,
          1118,
          1121,
          1122,
          1124,
          1125,
          1126,
          1127,
          1128,
          1129,
          1130,
          1131,
          1132,
          1133,
          1134,
          1135,
          1136,
          1137,
          1138,
          1139,
          1140,
          1141,
          1142,
          1150,
          1151,
          1170,
          1196,
          1197,
          1198,
          1199,
          1200,
          1201,
          1202,
          1203,
          1204,
          1205,
          1206,
          1209,
          1210,
          1211,
          1212,
          1220,
          1221,
          1222,
          1224,
          1225,
          1226,
          1227,
          1229,
          1230,
          1231,
          1232,
          1233,
          1234,
          1235,
          1236,
          1237,
          1238,
          1241,
          1244,
          1245,
          1246,
          1248,
          1265,
          1359,
          1370,
          1371,
          1388,
          1389,
          1390,
          1392,
          1393,
          1408,
          1417,
          1427,
          1435,
          1437,
          1438,
          1439,
          1440,
          1441,
          1443,
          1448,
          1449,
          1450,
          1451,
          1454,
          1455,
          1456,
          1457,
          1460,
          1463,
          1464,
          1465,
          1470,
          1471,
          1473,
          1474,
          1476,
          1477,
          1482,
          1483,
          1484,
          1553,
          1567,
          1570,
          1579,
          1582,
          1583,
          1584,
          1585,
          1586,
          1606,
          1612,
          1627,
          1628,
          1633,
          1651,
          1668,
          1676,
          1677,
          1678,
          1679,
          1684,
          1696,
          1724,
          1745,
          1755,
          1772,
          1791,
          1813,
          1820,
          1821,
          1823,
          1824,
          1825,
          1826,
          1827,
          1828,
          1841,
          1851,
          1864,
          1869,
          1889,
          1900,
          1901,
          1915,
          1936,
          1955,
          1956,
          1963,
          1982,
          2004,
          2005,
          2006,
          2013,
          2014,
          2015,
          2016,
          2017,
          2018,
          2026,
          2027,
          2028,
          2029,
          2030,
          2031,
          2041,
          2043,
          2047,
          2051,
          2059,
          2060,
          2061,
          2062,
          2063,
          2064,
          2065,
          2081,
          2093,
          2094,
          2106,
          2108,
          2109,
          2110,
          2111,
          2112,
          2113,
          2114,
          2115,
          2116,
          2117,
          2118,
          2130,
          2131,
          2132,
          2133,
          2134,
          2135,
          2136,
          2138,
          2139,
          2141,
          2142,
          2143,
          2145,
          2146,
          2148,
          2149,
          2173,
          2174,
          2175,
          2176,
          2177,
          2178,
          2186,
          2187,
          2188,
          2189,
          2193,
          2194,
          2196,
          2197,
          2198,
          2202,
          2203,
          2223,
          2224,
          2255,
          2273,
          2301,
          2306,
          2320,
          2350,
          2351,
          2355,
          2357,
          2359,
          2368,
          2396,
          2398,
          2399,
          2400,
          2401,
          2416,
          2448,
          2451,
          2452,
          2453,
          2454,
          2455,
          2479,
          2480,
          2481,
          2484,
          2485,
          2486,
          2487,
          2490,
          2491,
          2493,
          2494,
          2495,
          2511,
          2561,
          2574,
          2575,
          2589,
          2607,
          2624,
          2625,
          2626,
          2634,
          2635,
          2652,
          2656,
          2664,
          2665,
          2684,
          2685,
          2686,
          2687,
          2692,
          2696,
          2697,
          2703,
          2714,
          2733,
          2752,
          2779,
          2780,
          2781,
          2782,
          2783,
          2784,
          2829,
          2830,
          2831,
          2832,
          2833,
          2847,
          2855,
          2876,
          2885,
          2896,
          2924,
          2943,
          3021,
          3038,
          3039,
          3069,
          3070,
          3072,
          3088,
          3089,
          3090,
          3091,
          3092,
          3093,
          3094,
          3095,
          3097,
          3098,
          3099,
          3100,
          3101,
          3102,
          3103,
          3104,
          3107,
          3108,
          3109,
          3110,
          3111,
          3112,
          3114,
          3115,
          3116,
          3117,
          3118,
          3119,
          3133,
          3137,
          3138,
          3140,
          3141,
          3142,
          3143,
          3144,
          3145,
          3155,
          3156,
          3157,
          3158,
          3159,
          3165,
          3166,
          3182,
          3185,
          3199,
          3200,
          3202,
          3208,
          3213,
          3214,
          3217,
          3218,
          3234,
          3237,
          3281,
          3285,
          3286,
          3292,
          3295,
          3296,
          3298,
          3304,
          3308,
          3309,
          3310,
          3311,
          3327,
          3334,
          3343,
          3344,
          3346,
          3356,
          3357,
          3376,
          3386,
          3391,
          3392,
          3406,
          3430,
          3437,
          3439,
          3440,
          3441,
          3442,
          3447,
          3449,
          3450,
          3451,
          3452,
          3453,
          3454,
          3455,
          3457,
          3458,
          3459,
          3460,
          3461,
          3462,
          3472,
          3473,
          3474,
          3475,
          3481,
          3482,
          3483,
          3484,
          3485,
          3486,
          3487,
          3489,
          3490,
          3491,
          3492,
          3493,
          3494,
          3500,
          3501,
          3502,
          3503,
          3504,
          3509,
          3535,
          3537,
          3543,
          3544,
          3547,
          3548,
          3549,
          3550,
          3567,
          3568,
          3569,
          3570,
          3571,
          3572,
          3573,
          3574,
          3575,
          3579,
          3580,
          3591,
          3592,
          3593,
          3594,
          3599
         ],
         "xaxis": "x",
         "y": [
          76,
          78,
          76,
          76,
          76,
          76,
          76,
          75,
          75,
          76,
          73,
          77,
          76,
          76,
          90,
          115,
          139,
          181,
          185,
          137,
          108,
          98,
          79,
          76,
          74,
          68,
          74,
          76,
          76,
          76,
          72,
          68,
          60,
          43,
          45,
          42,
          38,
          39,
          39,
          39,
          35,
          18,
          32,
          40,
          39,
          39,
          52,
          70,
          70,
          76,
          77,
          76,
          76,
          74,
          76,
          79,
          79,
          89,
          79,
          82,
          76,
          76,
          76,
          75,
          76,
          75,
          76,
          76,
          76,
          76,
          76,
          76,
          74,
          73,
          71,
          66,
          69,
          52,
          55,
          59,
          59,
          73,
          76,
          81,
          88,
          93,
          96,
          94,
          90,
          88,
          88,
          88,
          88,
          80,
          80,
          76,
          74,
          75,
          78,
          84,
          86,
          85,
          82,
          76,
          78,
          72,
          75,
          76,
          75,
          76,
          74,
          76,
          76,
          76,
          76,
          76,
          76,
          76,
          75,
          76,
          76,
          75,
          76,
          76,
          76,
          76,
          86,
          74,
          70,
          50,
          39,
          38,
          38,
          38,
          39,
          39,
          38,
          38,
          30,
          31,
          30,
          30,
          30,
          27,
          30,
          34,
          34,
          35,
          38,
          30,
          56,
          58,
          57,
          71,
          75,
          79,
          86,
          84,
          76,
          76,
          81,
          85,
          82,
          74,
          68,
          69,
          70,
          74,
          76,
          76,
          76,
          75,
          76,
          76,
          76,
          76,
          76,
          78,
          75,
          71,
          76,
          76,
          76,
          83,
          94,
          93,
          82,
          76,
          76,
          76,
          84,
          92,
          78,
          76,
          76,
          76,
          76,
          76,
          76,
          76,
          69,
          68,
          68,
          68,
          68,
          68,
          71,
          80,
          79,
          70,
          69,
          80,
          66,
          66,
          69,
          66,
          70,
          73,
          75,
          87,
          95,
          96,
          95,
          99,
          93,
          83,
          78,
          76,
          76,
          78,
          86,
          77,
          75,
          63,
          63,
          65,
          61,
          50,
          40,
          38,
          31,
          14,
          13,
          14,
          14,
          13,
          9,
          18,
          16,
          16,
          20,
          38,
          50,
          65,
          79,
          82,
          82,
          80,
          79,
          73,
          74,
          76,
          71,
          71,
          76,
          76,
          76,
          75,
          76,
          76,
          76,
          76,
          75,
          76,
          76,
          75,
          76,
          76,
          71,
          66,
          63,
          65,
          65,
          63,
          66,
          64,
          63,
          66,
          66,
          65,
          67,
          74,
          75,
          76,
          76,
          77,
          76,
          76,
          77,
          76,
          76,
          75,
          85,
          90,
          81,
          76,
          76,
          76,
          76,
          95,
          104,
          91,
          74,
          76,
          76,
          76,
          76,
          74,
          74,
          76,
          76,
          76,
          76,
          73,
          75,
          77,
          76,
          76,
          76,
          75,
          75,
          76,
          75,
          79,
          90,
          94,
          93,
          93,
          91,
          76,
          76,
          76,
          75,
          76,
          76,
          76,
          75,
          76,
          76,
          76,
          75,
          76,
          76,
          76,
          75,
          76,
          75,
          76,
          76,
          74,
          79,
          80,
          75,
          74,
          75,
          75,
          72,
          70,
          76,
          75,
          75,
          76,
          76,
          74,
          75,
          78,
          68,
          67,
          74,
          78,
          76,
          75,
          76,
          76,
          74,
          78,
          86,
          107,
          123,
          130,
          106,
          107,
          105,
          84,
          74,
          73,
          88,
          93,
          78,
          74,
          75,
          76,
          76,
          77,
          80,
          82,
          90,
          76,
          58,
          69,
          68,
          70,
          74,
          74,
          74,
          61,
          76,
          77,
          80,
          74,
          79,
          76,
          64,
          63,
          72,
          78,
          78,
          76,
          76,
          76,
          76,
          76,
          76,
          76,
          76,
          76,
          79,
          79,
          79,
          78,
          76,
          74,
          87,
          90,
          80,
          76,
          76,
          76,
          77,
          52,
          49,
          65,
          76,
          76,
          72,
          50,
          59,
          71,
          77,
          87,
          85,
          75,
          75,
          74,
          76,
          76,
          76,
          76,
          76,
          74,
          76,
          77,
          74,
          76,
          76,
          76,
          76,
          76,
          75,
          76,
          76,
          78,
          76,
          76,
          76,
          76,
          76,
          76,
          75,
          76,
          76,
          76,
          75,
          68,
          67,
          73,
          83,
          92,
          68,
          68,
          69,
          76,
          76,
          75,
          76,
          76,
          76,
          76,
          76,
          74,
          68,
          76,
          76,
          76,
          76,
          74,
          74,
          65,
          68,
          60,
          72,
          77,
          77,
          76,
          76,
          76,
          76,
          76,
          82,
          74,
          73,
          68,
          71,
          76,
          76,
          82,
          83,
          83,
          79,
          79,
          79,
          79,
          79,
          76,
          76,
          76,
          76,
          71,
          50,
          49,
          47,
          65,
          79,
          86,
          85,
          75,
          75,
          75,
          75,
          75,
          75,
          75,
          76,
          76,
          75,
          76,
          93,
          82,
          76,
          75,
          76,
          76,
          75,
          76,
          77,
          76,
          76,
          75,
          75,
          76,
          76,
          79,
          78,
          75,
          76,
          75,
          76,
          75,
          75,
          76,
          75,
          75,
          76,
          76,
          76,
          75,
          75,
          76,
          75,
          76,
          75,
          76,
          76,
          76,
          76,
          76,
          76,
          59,
          49,
          44,
          56,
          77,
          77,
          76,
          76,
          71,
          60,
          68,
          78,
          76,
          80,
          80,
          81,
          75,
          71,
          70,
          58,
          59,
          59,
          62,
          75,
          76,
          82,
          71,
          44,
          40,
          57,
          76,
          76,
          75,
          75,
          76,
          75,
          75,
          76,
          76,
          74,
          75,
          71,
          52,
          45,
          45,
          67,
          69,
          77,
          79,
          79,
          80,
          69,
          68,
          68,
          76
         ],
         "yaxis": "y"
        }
       ],
       "layout": {
        "legend": {
         "title": {
          "text": "User ID"
         },
         "tracegroupgap": 0
        },
        "template": {
         "data": {
          "bar": [
           {
            "error_x": {
             "color": "#2a3f5f"
            },
            "error_y": {
             "color": "#2a3f5f"
            },
            "marker": {
             "line": {
              "color": "#E5ECF6",
              "width": 0.5
             },
             "pattern": {
              "fillmode": "overlay",
              "size": 10,
              "solidity": 0.2
             }
            },
            "type": "bar"
           }
          ],
          "barpolar": [
           {
            "marker": {
             "line": {
              "color": "#E5ECF6",
              "width": 0.5
             },
             "pattern": {
              "fillmode": "overlay",
              "size": 10,
              "solidity": 0.2
             }
            },
            "type": "barpolar"
           }
          ],
          "carpet": [
           {
            "aaxis": {
             "endlinecolor": "#2a3f5f",
             "gridcolor": "white",
             "linecolor": "white",
             "minorgridcolor": "white",
             "startlinecolor": "#2a3f5f"
            },
            "baxis": {
             "endlinecolor": "#2a3f5f",
             "gridcolor": "white",
             "linecolor": "white",
             "minorgridcolor": "white",
             "startlinecolor": "#2a3f5f"
            },
            "type": "carpet"
           }
          ],
          "choropleth": [
           {
            "colorbar": {
             "outlinewidth": 0,
             "ticks": ""
            },
            "type": "choropleth"
           }
          ],
          "contour": [
           {
            "colorbar": {
             "outlinewidth": 0,
             "ticks": ""
            },
            "colorscale": [
             [
              0,
              "#0d0887"
             ],
             [
              0.1111111111111111,
              "#46039f"
             ],
             [
              0.2222222222222222,
              "#7201a8"
             ],
             [
              0.3333333333333333,
              "#9c179e"
             ],
             [
              0.4444444444444444,
              "#bd3786"
             ],
             [
              0.5555555555555556,
              "#d8576b"
             ],
             [
              0.6666666666666666,
              "#ed7953"
             ],
             [
              0.7777777777777778,
              "#fb9f3a"
             ],
             [
              0.8888888888888888,
              "#fdca26"
             ],
             [
              1,
              "#f0f921"
             ]
            ],
            "type": "contour"
           }
          ],
          "contourcarpet": [
           {
            "colorbar": {
             "outlinewidth": 0,
             "ticks": ""
            },
            "type": "contourcarpet"
           }
          ],
          "heatmap": [
           {
            "colorbar": {
             "outlinewidth": 0,
             "ticks": ""
            },
            "colorscale": [
             [
              0,
              "#0d0887"
             ],
             [
              0.1111111111111111,
              "#46039f"
             ],
             [
              0.2222222222222222,
              "#7201a8"
             ],
             [
              0.3333333333333333,
              "#9c179e"
             ],
             [
              0.4444444444444444,
              "#bd3786"
             ],
             [
              0.5555555555555556,
              "#d8576b"
             ],
             [
              0.6666666666666666,
              "#ed7953"
             ],
             [
              0.7777777777777778,
              "#fb9f3a"
             ],
             [
              0.8888888888888888,
              "#fdca26"
             ],
             [
              1,
              "#f0f921"
             ]
            ],
            "type": "heatmap"
           }
          ],
          "heatmapgl": [
           {
            "colorbar": {
             "outlinewidth": 0,
             "ticks": ""
            },
            "colorscale": [
             [
              0,
              "#0d0887"
             ],
             [
              0.1111111111111111,
              "#46039f"
             ],
             [
              0.2222222222222222,
              "#7201a8"
             ],
             [
              0.3333333333333333,
              "#9c179e"
             ],
             [
              0.4444444444444444,
              "#bd3786"
             ],
             [
              0.5555555555555556,
              "#d8576b"
             ],
             [
              0.6666666666666666,
              "#ed7953"
             ],
             [
              0.7777777777777778,
              "#fb9f3a"
             ],
             [
              0.8888888888888888,
              "#fdca26"
             ],
             [
              1,
              "#f0f921"
             ]
            ],
            "type": "heatmapgl"
           }
          ],
          "histogram": [
           {
            "marker": {
             "pattern": {
              "fillmode": "overlay",
              "size": 10,
              "solidity": 0.2
             }
            },
            "type": "histogram"
           }
          ],
          "histogram2d": [
           {
            "colorbar": {
             "outlinewidth": 0,
             "ticks": ""
            },
            "colorscale": [
             [
              0,
              "#0d0887"
             ],
             [
              0.1111111111111111,
              "#46039f"
             ],
             [
              0.2222222222222222,
              "#7201a8"
             ],
             [
              0.3333333333333333,
              "#9c179e"
             ],
             [
              0.4444444444444444,
              "#bd3786"
             ],
             [
              0.5555555555555556,
              "#d8576b"
             ],
             [
              0.6666666666666666,
              "#ed7953"
             ],
             [
              0.7777777777777778,
              "#fb9f3a"
             ],
             [
              0.8888888888888888,
              "#fdca26"
             ],
             [
              1,
              "#f0f921"
             ]
            ],
            "type": "histogram2d"
           }
          ],
          "histogram2dcontour": [
           {
            "colorbar": {
             "outlinewidth": 0,
             "ticks": ""
            },
            "colorscale": [
             [
              0,
              "#0d0887"
             ],
             [
              0.1111111111111111,
              "#46039f"
             ],
             [
              0.2222222222222222,
              "#7201a8"
             ],
             [
              0.3333333333333333,
              "#9c179e"
             ],
             [
              0.4444444444444444,
              "#bd3786"
             ],
             [
              0.5555555555555556,
              "#d8576b"
             ],
             [
              0.6666666666666666,
              "#ed7953"
             ],
             [
              0.7777777777777778,
              "#fb9f3a"
             ],
             [
              0.8888888888888888,
              "#fdca26"
             ],
             [
              1,
              "#f0f921"
             ]
            ],
            "type": "histogram2dcontour"
           }
          ],
          "mesh3d": [
           {
            "colorbar": {
             "outlinewidth": 0,
             "ticks": ""
            },
            "type": "mesh3d"
           }
          ],
          "parcoords": [
           {
            "line": {
             "colorbar": {
              "outlinewidth": 0,
              "ticks": ""
             }
            },
            "type": "parcoords"
           }
          ],
          "pie": [
           {
            "automargin": true,
            "type": "pie"
           }
          ],
          "scatter": [
           {
            "fillpattern": {
             "fillmode": "overlay",
             "size": 10,
             "solidity": 0.2
            },
            "type": "scatter"
           }
          ],
          "scatter3d": [
           {
            "line": {
             "colorbar": {
              "outlinewidth": 0,
              "ticks": ""
             }
            },
            "marker": {
             "colorbar": {
              "outlinewidth": 0,
              "ticks": ""
             }
            },
            "type": "scatter3d"
           }
          ],
          "scattercarpet": [
           {
            "marker": {
             "colorbar": {
              "outlinewidth": 0,
              "ticks": ""
             }
            },
            "type": "scattercarpet"
           }
          ],
          "scattergeo": [
           {
            "marker": {
             "colorbar": {
              "outlinewidth": 0,
              "ticks": ""
             }
            },
            "type": "scattergeo"
           }
          ],
          "scattergl": [
           {
            "marker": {
             "colorbar": {
              "outlinewidth": 0,
              "ticks": ""
             }
            },
            "type": "scattergl"
           }
          ],
          "scattermapbox": [
           {
            "marker": {
             "colorbar": {
              "outlinewidth": 0,
              "ticks": ""
             }
            },
            "type": "scattermapbox"
           }
          ],
          "scatterpolar": [
           {
            "marker": {
             "colorbar": {
              "outlinewidth": 0,
              "ticks": ""
             }
            },
            "type": "scatterpolar"
           }
          ],
          "scatterpolargl": [
           {
            "marker": {
             "colorbar": {
              "outlinewidth": 0,
              "ticks": ""
             }
            },
            "type": "scatterpolargl"
           }
          ],
          "scatterternary": [
           {
            "marker": {
             "colorbar": {
              "outlinewidth": 0,
              "ticks": ""
             }
            },
            "type": "scatterternary"
           }
          ],
          "surface": [
           {
            "colorbar": {
             "outlinewidth": 0,
             "ticks": ""
            },
            "colorscale": [
             [
              0,
              "#0d0887"
             ],
             [
              0.1111111111111111,
              "#46039f"
             ],
             [
              0.2222222222222222,
              "#7201a8"
             ],
             [
              0.3333333333333333,
              "#9c179e"
             ],
             [
              0.4444444444444444,
              "#bd3786"
             ],
             [
              0.5555555555555556,
              "#d8576b"
             ],
             [
              0.6666666666666666,
              "#ed7953"
             ],
             [
              0.7777777777777778,
              "#fb9f3a"
             ],
             [
              0.8888888888888888,
              "#fdca26"
             ],
             [
              1,
              "#f0f921"
             ]
            ],
            "type": "surface"
           }
          ],
          "table": [
           {
            "cells": {
             "fill": {
              "color": "#EBF0F8"
             },
             "line": {
              "color": "white"
             }
            },
            "header": {
             "fill": {
              "color": "#C8D4E3"
             },
             "line": {
              "color": "white"
             }
            },
            "type": "table"
           }
          ]
         },
         "layout": {
          "annotationdefaults": {
           "arrowcolor": "#2a3f5f",
           "arrowhead": 0,
           "arrowwidth": 1
          },
          "autotypenumbers": "strict",
          "coloraxis": {
           "colorbar": {
            "outlinewidth": 0,
            "ticks": ""
           }
          },
          "colorscale": {
           "diverging": [
            [
             0,
             "#8e0152"
            ],
            [
             0.1,
             "#c51b7d"
            ],
            [
             0.2,
             "#de77ae"
            ],
            [
             0.3,
             "#f1b6da"
            ],
            [
             0.4,
             "#fde0ef"
            ],
            [
             0.5,
             "#f7f7f7"
            ],
            [
             0.6,
             "#e6f5d0"
            ],
            [
             0.7,
             "#b8e186"
            ],
            [
             0.8,
             "#7fbc41"
            ],
            [
             0.9,
             "#4d9221"
            ],
            [
             1,
             "#276419"
            ]
           ],
           "sequential": [
            [
             0,
             "#0d0887"
            ],
            [
             0.1111111111111111,
             "#46039f"
            ],
            [
             0.2222222222222222,
             "#7201a8"
            ],
            [
             0.3333333333333333,
             "#9c179e"
            ],
            [
             0.4444444444444444,
             "#bd3786"
            ],
            [
             0.5555555555555556,
             "#d8576b"
            ],
            [
             0.6666666666666666,
             "#ed7953"
            ],
            [
             0.7777777777777778,
             "#fb9f3a"
            ],
            [
             0.8888888888888888,
             "#fdca26"
            ],
            [
             1,
             "#f0f921"
            ]
           ],
           "sequentialminus": [
            [
             0,
             "#0d0887"
            ],
            [
             0.1111111111111111,
             "#46039f"
            ],
            [
             0.2222222222222222,
             "#7201a8"
            ],
            [
             0.3333333333333333,
             "#9c179e"
            ],
            [
             0.4444444444444444,
             "#bd3786"
            ],
            [
             0.5555555555555556,
             "#d8576b"
            ],
            [
             0.6666666666666666,
             "#ed7953"
            ],
            [
             0.7777777777777778,
             "#fb9f3a"
            ],
            [
             0.8888888888888888,
             "#fdca26"
            ],
            [
             1,
             "#f0f921"
            ]
           ]
          },
          "colorway": [
           "#636efa",
           "#EF553B",
           "#00cc96",
           "#ab63fa",
           "#FFA15A",
           "#19d3f3",
           "#FF6692",
           "#B6E880",
           "#FF97FF",
           "#FECB52"
          ],
          "font": {
           "color": "#2a3f5f"
          },
          "geo": {
           "bgcolor": "white",
           "lakecolor": "white",
           "landcolor": "#E5ECF6",
           "showlakes": true,
           "showland": true,
           "subunitcolor": "white"
          },
          "hoverlabel": {
           "align": "left"
          },
          "hovermode": "closest",
          "mapbox": {
           "style": "light"
          },
          "paper_bgcolor": "white",
          "plot_bgcolor": "#E5ECF6",
          "polar": {
           "angularaxis": {
            "gridcolor": "white",
            "linecolor": "white",
            "ticks": ""
           },
           "bgcolor": "#E5ECF6",
           "radialaxis": {
            "gridcolor": "white",
            "linecolor": "white",
            "ticks": ""
           }
          },
          "scene": {
           "xaxis": {
            "backgroundcolor": "#E5ECF6",
            "gridcolor": "white",
            "gridwidth": 2,
            "linecolor": "white",
            "showbackground": true,
            "ticks": "",
            "zerolinecolor": "white"
           },
           "yaxis": {
            "backgroundcolor": "#E5ECF6",
            "gridcolor": "white",
            "gridwidth": 2,
            "linecolor": "white",
            "showbackground": true,
            "ticks": "",
            "zerolinecolor": "white"
           },
           "zaxis": {
            "backgroundcolor": "#E5ECF6",
            "gridcolor": "white",
            "gridwidth": 2,
            "linecolor": "white",
            "showbackground": true,
            "ticks": "",
            "zerolinecolor": "white"
           }
          },
          "shapedefaults": {
           "line": {
            "color": "#2a3f5f"
           }
          },
          "ternary": {
           "aaxis": {
            "gridcolor": "white",
            "linecolor": "white",
            "ticks": ""
           },
           "baxis": {
            "gridcolor": "white",
            "linecolor": "white",
            "ticks": ""
           },
           "bgcolor": "#E5ECF6",
           "caxis": {
            "gridcolor": "white",
            "linecolor": "white",
            "ticks": ""
           }
          },
          "title": {
           "x": 0.05
          },
          "xaxis": {
           "automargin": true,
           "gridcolor": "white",
           "linecolor": "white",
           "ticks": "",
           "title": {
            "standoff": 15
           },
           "zerolinecolor": "white",
           "zerolinewidth": 2
          },
          "yaxis": {
           "automargin": true,
           "gridcolor": "white",
           "linecolor": "white",
           "ticks": "",
           "title": {
            "standoff": 15
           },
           "zerolinecolor": "white",
           "zerolinewidth": 2
          }
         }
        },
        "title": {
         "text": "User X Position Over Time"
        },
        "xaxis": {
         "anchor": "y",
         "domain": [
          0,
          1
         ],
         "title": {
          "text": "time"
         }
        },
        "yaxis": {
         "anchor": "x",
         "domain": [
          0,
          1
         ],
         "range": [
          0,
          200
         ],
         "title": {
          "text": "Time"
         }
        }
       }
      },
      "text/html": [
       "<div>                            <div id=\"a8f2bf53-72fd-41cc-b70a-f71bad2063be\" class=\"plotly-graph-div\" style=\"height:525px; width:100%;\"></div>            <script type=\"text/javascript\">                require([\"plotly\"], function(Plotly) {                    window.PLOTLYENV=window.PLOTLYENV || {};                                    if (document.getElementById(\"a8f2bf53-72fd-41cc-b70a-f71bad2063be\")) {                    Plotly.newPlot(                        \"a8f2bf53-72fd-41cc-b70a-f71bad2063be\",                        [{\"hovertemplate\":\"User ID=20100\\u003cbr\\u003etime=%{x}\\u003cbr\\u003eTime=%{y}\\u003cextra\\u003e\\u003c\\u002fextra\\u003e\",\"legendgroup\":\"20100\",\"line\":{\"color\":\"#636efa\",\"dash\":\"solid\"},\"marker\":{\"symbol\":\"circle\"},\"mode\":\"lines+markers\",\"name\":\"20100\",\"orientation\":\"v\",\"showlegend\":true,\"x\":[13,25,26,30,41,64,73,75,80,92,93,94,95,111,112,113,114,115,132,133,134,135,136,137,138,152,159,160,183,185,186,187,188,189,191,192,205,206,207,209,210,211,212,213,215,217,218,219,220,221,234,236,255,276,277,278,280,281,282,288,294,295,304,323,324,325,332,350,378,400,416,428,429,430,431,432,433,434,435,436,437,438,439,449,450,451,452,453,454,456,457,458,459,460,461,462,464,465,466,468,469,470,471,472,473,474,476,496,519,520,521,522,542,574,593,621,622,637,668,670,687,704,714,736,737,738,766,767,768,769,770,771,772,773,774,775,776,777,778,779,780,782,783,784,785,786,787,788,789,790,791,793,794,795,796,797,798,799,800,803,804,805,806,807,808,809,812,813,832,861,881,895,897,898,907,929,954,955,956,957,958,959,961,962,963,964,965,966,978,1005,1006,1007,1008,1024,1051,1074,1099,1104,1106,1108,1109,1110,1111,1118,1121,1122,1124,1125,1126,1127,1128,1129,1130,1131,1132,1133,1134,1135,1136,1137,1138,1139,1140,1141,1142,1150,1151,1170,1196,1197,1198,1199,1200,1201,1202,1203,1204,1205,1206,1209,1210,1211,1212,1220,1221,1222,1224,1225,1226,1227,1229,1230,1231,1232,1233,1234,1235,1236,1237,1238,1241,1244,1245,1246,1248,1265,1359,1370,1371,1388,1389,1390,1392,1393,1408,1417,1427,1435,1437,1438,1439,1440,1441,1443,1448,1449,1450,1451,1454,1455,1456,1457,1460,1463,1464,1465,1470,1471,1473,1474,1476,1477,1482,1483,1484,1553,1567,1570,1579,1582,1583,1584,1585,1586,1606,1612,1627,1628,1633,1651,1668,1676,1677,1678,1679,1684,1696,1724,1745,1755,1772,1791,1813,1820,1821,1823,1824,1825,1826,1827,1828,1841,1851,1864,1869,1889,1900,1901,1915,1936,1955,1956,1963,1982,2004,2005,2006,2013,2014,2015,2016,2017,2018,2026,2027,2028,2029,2030,2031,2041,2043,2047,2051,2059,2060,2061,2062,2063,2064,2065,2081,2093,2094,2106,2108,2109,2110,2111,2112,2113,2114,2115,2116,2117,2118,2130,2131,2132,2133,2134,2135,2136,2138,2139,2141,2142,2143,2145,2146,2148,2149,2173,2174,2175,2176,2177,2178,2186,2187,2188,2189,2193,2194,2196,2197,2198,2202,2203,2223,2224,2255,2273,2301,2306,2320,2350,2351,2355,2357,2359,2368,2396,2398,2399,2400,2401,2416,2448,2451,2452,2453,2454,2455,2479,2480,2481,2484,2485,2486,2487,2490,2491,2493,2494,2495,2511,2561,2574,2575,2589,2607,2624,2625,2626,2634,2635,2652,2656,2664,2665,2684,2685,2686,2687,2692,2696,2697,2703,2714,2733,2752,2779,2780,2781,2782,2783,2784,2829,2830,2831,2832,2833,2847,2855,2876,2885,2896,2924,2943,3021,3038,3039,3069,3070,3072,3088,3089,3090,3091,3092,3093,3094,3095,3097,3098,3099,3100,3101,3102,3103,3104,3107,3108,3109,3110,3111,3112,3114,3115,3116,3117,3118,3119,3133,3137,3138,3140,3141,3142,3143,3144,3145,3155,3156,3157,3158,3159,3165,3166,3182,3185,3199,3200,3202,3208,3213,3214,3217,3218,3234,3237,3281,3285,3286,3292,3295,3296,3298,3304,3308,3309,3310,3311,3327,3334,3343,3344,3346,3356,3357,3376,3386,3391,3392,3406,3430,3437,3439,3440,3441,3442,3447,3449,3450,3451,3452,3453,3454,3455,3457,3458,3459,3460,3461,3462,3472,3473,3474,3475,3481,3482,3483,3484,3485,3486,3487,3489,3490,3491,3492,3493,3494,3500,3501,3502,3503,3504,3509,3535,3537,3543,3544,3547,3548,3549,3550,3567,3568,3569,3570,3571,3572,3573,3574,3575,3579,3580,3591,3592,3593,3594,3599],\"xaxis\":\"x\",\"y\":[76,78,76,76,76,76,76,75,75,76,73,77,76,76,90,115,139,181,185,137,108,98,79,76,74,68,74,76,76,76,72,68,60,43,45,42,38,39,39,39,35,18,32,40,39,39,52,70,70,76,77,76,76,74,76,79,79,89,79,82,76,76,76,75,76,75,76,76,76,76,76,76,74,73,71,66,69,52,55,59,59,73,76,81,88,93,96,94,90,88,88,88,88,80,80,76,74,75,78,84,86,85,82,76,78,72,75,76,75,76,74,76,76,76,76,76,76,76,75,76,76,75,76,76,76,76,86,74,70,50,39,38,38,38,39,39,38,38,30,31,30,30,30,27,30,34,34,35,38,30,56,58,57,71,75,79,86,84,76,76,81,85,82,74,68,69,70,74,76,76,76,75,76,76,76,76,76,78,75,71,76,76,76,83,94,93,82,76,76,76,84,92,78,76,76,76,76,76,76,76,69,68,68,68,68,68,71,80,79,70,69,80,66,66,69,66,70,73,75,87,95,96,95,99,93,83,78,76,76,78,86,77,75,63,63,65,61,50,40,38,31,14,13,14,14,13,9,18,16,16,20,38,50,65,79,82,82,80,79,73,74,76,71,71,76,76,76,75,76,76,76,76,75,76,76,75,76,76,71,66,63,65,65,63,66,64,63,66,66,65,67,74,75,76,76,77,76,76,77,76,76,75,85,90,81,76,76,76,76,95,104,91,74,76,76,76,76,74,74,76,76,76,76,73,75,77,76,76,76,75,75,76,75,79,90,94,93,93,91,76,76,76,75,76,76,76,75,76,76,76,75,76,76,76,75,76,75,76,76,74,79,80,75,74,75,75,72,70,76,75,75,76,76,74,75,78,68,67,74,78,76,75,76,76,74,78,86,107,123,130,106,107,105,84,74,73,88,93,78,74,75,76,76,77,80,82,90,76,58,69,68,70,74,74,74,61,76,77,80,74,79,76,64,63,72,78,78,76,76,76,76,76,76,76,76,76,79,79,79,78,76,74,87,90,80,76,76,76,77,52,49,65,76,76,72,50,59,71,77,87,85,75,75,74,76,76,76,76,76,74,76,77,74,76,76,76,76,76,75,76,76,78,76,76,76,76,76,76,75,76,76,76,75,68,67,73,83,92,68,68,69,76,76,75,76,76,76,76,76,74,68,76,76,76,76,74,74,65,68,60,72,77,77,76,76,76,76,76,82,74,73,68,71,76,76,82,83,83,79,79,79,79,79,76,76,76,76,71,50,49,47,65,79,86,85,75,75,75,75,75,75,75,76,76,75,76,93,82,76,75,76,76,75,76,77,76,76,75,75,76,76,79,78,75,76,75,76,75,75,76,75,75,76,76,76,75,75,76,75,76,75,76,76,76,76,76,76,59,49,44,56,77,77,76,76,71,60,68,78,76,80,80,81,75,71,70,58,59,59,62,75,76,82,71,44,40,57,76,76,75,75,76,75,75,76,76,74,75,71,52,45,45,67,69,77,79,79,80,69,68,68,76],\"yaxis\":\"y\",\"type\":\"scatter\"}],                        {\"template\":{\"data\":{\"histogram2dcontour\":[{\"type\":\"histogram2dcontour\",\"colorbar\":{\"outlinewidth\":0,\"ticks\":\"\"},\"colorscale\":[[0.0,\"#0d0887\"],[0.1111111111111111,\"#46039f\"],[0.2222222222222222,\"#7201a8\"],[0.3333333333333333,\"#9c179e\"],[0.4444444444444444,\"#bd3786\"],[0.5555555555555556,\"#d8576b\"],[0.6666666666666666,\"#ed7953\"],[0.7777777777777778,\"#fb9f3a\"],[0.8888888888888888,\"#fdca26\"],[1.0,\"#f0f921\"]]}],\"choropleth\":[{\"type\":\"choropleth\",\"colorbar\":{\"outlinewidth\":0,\"ticks\":\"\"}}],\"histogram2d\":[{\"type\":\"histogram2d\",\"colorbar\":{\"outlinewidth\":0,\"ticks\":\"\"},\"colorscale\":[[0.0,\"#0d0887\"],[0.1111111111111111,\"#46039f\"],[0.2222222222222222,\"#7201a8\"],[0.3333333333333333,\"#9c179e\"],[0.4444444444444444,\"#bd3786\"],[0.5555555555555556,\"#d8576b\"],[0.6666666666666666,\"#ed7953\"],[0.7777777777777778,\"#fb9f3a\"],[0.8888888888888888,\"#fdca26\"],[1.0,\"#f0f921\"]]}],\"heatmap\":[{\"type\":\"heatmap\",\"colorbar\":{\"outlinewidth\":0,\"ticks\":\"\"},\"colorscale\":[[0.0,\"#0d0887\"],[0.1111111111111111,\"#46039f\"],[0.2222222222222222,\"#7201a8\"],[0.3333333333333333,\"#9c179e\"],[0.4444444444444444,\"#bd3786\"],[0.5555555555555556,\"#d8576b\"],[0.6666666666666666,\"#ed7953\"],[0.7777777777777778,\"#fb9f3a\"],[0.8888888888888888,\"#fdca26\"],[1.0,\"#f0f921\"]]}],\"heatmapgl\":[{\"type\":\"heatmapgl\",\"colorbar\":{\"outlinewidth\":0,\"ticks\":\"\"},\"colorscale\":[[0.0,\"#0d0887\"],[0.1111111111111111,\"#46039f\"],[0.2222222222222222,\"#7201a8\"],[0.3333333333333333,\"#9c179e\"],[0.4444444444444444,\"#bd3786\"],[0.5555555555555556,\"#d8576b\"],[0.6666666666666666,\"#ed7953\"],[0.7777777777777778,\"#fb9f3a\"],[0.8888888888888888,\"#fdca26\"],[1.0,\"#f0f921\"]]}],\"contourcarpet\":[{\"type\":\"contourcarpet\",\"colorbar\":{\"outlinewidth\":0,\"ticks\":\"\"}}],\"contour\":[{\"type\":\"contour\",\"colorbar\":{\"outlinewidth\":0,\"ticks\":\"\"},\"colorscale\":[[0.0,\"#0d0887\"],[0.1111111111111111,\"#46039f\"],[0.2222222222222222,\"#7201a8\"],[0.3333333333333333,\"#9c179e\"],[0.4444444444444444,\"#bd3786\"],[0.5555555555555556,\"#d8576b\"],[0.6666666666666666,\"#ed7953\"],[0.7777777777777778,\"#fb9f3a\"],[0.8888888888888888,\"#fdca26\"],[1.0,\"#f0f921\"]]}],\"surface\":[{\"type\":\"surface\",\"colorbar\":{\"outlinewidth\":0,\"ticks\":\"\"},\"colorscale\":[[0.0,\"#0d0887\"],[0.1111111111111111,\"#46039f\"],[0.2222222222222222,\"#7201a8\"],[0.3333333333333333,\"#9c179e\"],[0.4444444444444444,\"#bd3786\"],[0.5555555555555556,\"#d8576b\"],[0.6666666666666666,\"#ed7953\"],[0.7777777777777778,\"#fb9f3a\"],[0.8888888888888888,\"#fdca26\"],[1.0,\"#f0f921\"]]}],\"mesh3d\":[{\"type\":\"mesh3d\",\"colorbar\":{\"outlinewidth\":0,\"ticks\":\"\"}}],\"scatter\":[{\"fillpattern\":{\"fillmode\":\"overlay\",\"size\":10,\"solidity\":0.2},\"type\":\"scatter\"}],\"parcoords\":[{\"type\":\"parcoords\",\"line\":{\"colorbar\":{\"outlinewidth\":0,\"ticks\":\"\"}}}],\"scatterpolargl\":[{\"type\":\"scatterpolargl\",\"marker\":{\"colorbar\":{\"outlinewidth\":0,\"ticks\":\"\"}}}],\"bar\":[{\"error_x\":{\"color\":\"#2a3f5f\"},\"error_y\":{\"color\":\"#2a3f5f\"},\"marker\":{\"line\":{\"color\":\"#E5ECF6\",\"width\":0.5},\"pattern\":{\"fillmode\":\"overlay\",\"size\":10,\"solidity\":0.2}},\"type\":\"bar\"}],\"scattergeo\":[{\"type\":\"scattergeo\",\"marker\":{\"colorbar\":{\"outlinewidth\":0,\"ticks\":\"\"}}}],\"scatterpolar\":[{\"type\":\"scatterpolar\",\"marker\":{\"colorbar\":{\"outlinewidth\":0,\"ticks\":\"\"}}}],\"histogram\":[{\"marker\":{\"pattern\":{\"fillmode\":\"overlay\",\"size\":10,\"solidity\":0.2}},\"type\":\"histogram\"}],\"scattergl\":[{\"type\":\"scattergl\",\"marker\":{\"colorbar\":{\"outlinewidth\":0,\"ticks\":\"\"}}}],\"scatter3d\":[{\"type\":\"scatter3d\",\"line\":{\"colorbar\":{\"outlinewidth\":0,\"ticks\":\"\"}},\"marker\":{\"colorbar\":{\"outlinewidth\":0,\"ticks\":\"\"}}}],\"scattermapbox\":[{\"type\":\"scattermapbox\",\"marker\":{\"colorbar\":{\"outlinewidth\":0,\"ticks\":\"\"}}}],\"scatterternary\":[{\"type\":\"scatterternary\",\"marker\":{\"colorbar\":{\"outlinewidth\":0,\"ticks\":\"\"}}}],\"scattercarpet\":[{\"type\":\"scattercarpet\",\"marker\":{\"colorbar\":{\"outlinewidth\":0,\"ticks\":\"\"}}}],\"carpet\":[{\"aaxis\":{\"endlinecolor\":\"#2a3f5f\",\"gridcolor\":\"white\",\"linecolor\":\"white\",\"minorgridcolor\":\"white\",\"startlinecolor\":\"#2a3f5f\"},\"baxis\":{\"endlinecolor\":\"#2a3f5f\",\"gridcolor\":\"white\",\"linecolor\":\"white\",\"minorgridcolor\":\"white\",\"startlinecolor\":\"#2a3f5f\"},\"type\":\"carpet\"}],\"table\":[{\"cells\":{\"fill\":{\"color\":\"#EBF0F8\"},\"line\":{\"color\":\"white\"}},\"header\":{\"fill\":{\"color\":\"#C8D4E3\"},\"line\":{\"color\":\"white\"}},\"type\":\"table\"}],\"barpolar\":[{\"marker\":{\"line\":{\"color\":\"#E5ECF6\",\"width\":0.5},\"pattern\":{\"fillmode\":\"overlay\",\"size\":10,\"solidity\":0.2}},\"type\":\"barpolar\"}],\"pie\":[{\"automargin\":true,\"type\":\"pie\"}]},\"layout\":{\"autotypenumbers\":\"strict\",\"colorway\":[\"#636efa\",\"#EF553B\",\"#00cc96\",\"#ab63fa\",\"#FFA15A\",\"#19d3f3\",\"#FF6692\",\"#B6E880\",\"#FF97FF\",\"#FECB52\"],\"font\":{\"color\":\"#2a3f5f\"},\"hovermode\":\"closest\",\"hoverlabel\":{\"align\":\"left\"},\"paper_bgcolor\":\"white\",\"plot_bgcolor\":\"#E5ECF6\",\"polar\":{\"bgcolor\":\"#E5ECF6\",\"angularaxis\":{\"gridcolor\":\"white\",\"linecolor\":\"white\",\"ticks\":\"\"},\"radialaxis\":{\"gridcolor\":\"white\",\"linecolor\":\"white\",\"ticks\":\"\"}},\"ternary\":{\"bgcolor\":\"#E5ECF6\",\"aaxis\":{\"gridcolor\":\"white\",\"linecolor\":\"white\",\"ticks\":\"\"},\"baxis\":{\"gridcolor\":\"white\",\"linecolor\":\"white\",\"ticks\":\"\"},\"caxis\":{\"gridcolor\":\"white\",\"linecolor\":\"white\",\"ticks\":\"\"}},\"coloraxis\":{\"colorbar\":{\"outlinewidth\":0,\"ticks\":\"\"}},\"colorscale\":{\"sequential\":[[0.0,\"#0d0887\"],[0.1111111111111111,\"#46039f\"],[0.2222222222222222,\"#7201a8\"],[0.3333333333333333,\"#9c179e\"],[0.4444444444444444,\"#bd3786\"],[0.5555555555555556,\"#d8576b\"],[0.6666666666666666,\"#ed7953\"],[0.7777777777777778,\"#fb9f3a\"],[0.8888888888888888,\"#fdca26\"],[1.0,\"#f0f921\"]],\"sequentialminus\":[[0.0,\"#0d0887\"],[0.1111111111111111,\"#46039f\"],[0.2222222222222222,\"#7201a8\"],[0.3333333333333333,\"#9c179e\"],[0.4444444444444444,\"#bd3786\"],[0.5555555555555556,\"#d8576b\"],[0.6666666666666666,\"#ed7953\"],[0.7777777777777778,\"#fb9f3a\"],[0.8888888888888888,\"#fdca26\"],[1.0,\"#f0f921\"]],\"diverging\":[[0,\"#8e0152\"],[0.1,\"#c51b7d\"],[0.2,\"#de77ae\"],[0.3,\"#f1b6da\"],[0.4,\"#fde0ef\"],[0.5,\"#f7f7f7\"],[0.6,\"#e6f5d0\"],[0.7,\"#b8e186\"],[0.8,\"#7fbc41\"],[0.9,\"#4d9221\"],[1,\"#276419\"]]},\"xaxis\":{\"gridcolor\":\"white\",\"linecolor\":\"white\",\"ticks\":\"\",\"title\":{\"standoff\":15},\"zerolinecolor\":\"white\",\"automargin\":true,\"zerolinewidth\":2},\"yaxis\":{\"gridcolor\":\"white\",\"linecolor\":\"white\",\"ticks\":\"\",\"title\":{\"standoff\":15},\"zerolinecolor\":\"white\",\"automargin\":true,\"zerolinewidth\":2},\"scene\":{\"xaxis\":{\"backgroundcolor\":\"#E5ECF6\",\"gridcolor\":\"white\",\"linecolor\":\"white\",\"showbackground\":true,\"ticks\":\"\",\"zerolinecolor\":\"white\",\"gridwidth\":2},\"yaxis\":{\"backgroundcolor\":\"#E5ECF6\",\"gridcolor\":\"white\",\"linecolor\":\"white\",\"showbackground\":true,\"ticks\":\"\",\"zerolinecolor\":\"white\",\"gridwidth\":2},\"zaxis\":{\"backgroundcolor\":\"#E5ECF6\",\"gridcolor\":\"white\",\"linecolor\":\"white\",\"showbackground\":true,\"ticks\":\"\",\"zerolinecolor\":\"white\",\"gridwidth\":2}},\"shapedefaults\":{\"line\":{\"color\":\"#2a3f5f\"}},\"annotationdefaults\":{\"arrowcolor\":\"#2a3f5f\",\"arrowhead\":0,\"arrowwidth\":1},\"geo\":{\"bgcolor\":\"white\",\"landcolor\":\"#E5ECF6\",\"subunitcolor\":\"white\",\"showland\":true,\"showlakes\":true,\"lakecolor\":\"white\"},\"title\":{\"x\":0.05},\"mapbox\":{\"style\":\"light\"}}},\"xaxis\":{\"anchor\":\"y\",\"domain\":[0.0,1.0],\"title\":{\"text\":\"time\"}},\"yaxis\":{\"anchor\":\"x\",\"domain\":[0.0,1.0],\"title\":{\"text\":\"Time\"},\"range\":[0,200]},\"legend\":{\"title\":{\"text\":\"User ID\"},\"tracegroupgap\":0},\"title\":{\"text\":\"User X Position Over Time\"}},                        {\"responsive\": true}                    ).then(function(){\n",
       "                            \n",
       "var gd = document.getElementById('a8f2bf53-72fd-41cc-b70a-f71bad2063be');\n",
       "var x = new MutationObserver(function (mutations, observer) {{\n",
       "        var display = window.getComputedStyle(gd).display;\n",
       "        if (!display || display === 'none') {{\n",
       "            console.log([gd, 'removed!']);\n",
       "            Plotly.purge(gd);\n",
       "            observer.disconnect();\n",
       "        }}\n",
       "}});\n",
       "\n",
       "// Listen for the removal of the full notebook cells\n",
       "var notebookContainer = gd.closest('#notebook-container');\n",
       "if (notebookContainer) {{\n",
       "    x.observe(notebookContainer, {childList: true});\n",
       "}}\n",
       "\n",
       "// Listen for the clearing of the current output cell\n",
       "var outputEl = gd.closest('.output');\n",
       "if (outputEl) {{\n",
       "    x.observe(outputEl, {childList: true});\n",
       "}}\n",
       "\n",
       "                        })                };                });            </script>        </div>"
      ]
     },
     "metadata": {},
     "output_type": "display_data"
    },
    {
     "data": {
      "application/vnd.plotly.v1+json": {
       "config": {
        "plotlyServerURL": "https://plot.ly"
       },
       "data": [
        {
         "hovertemplate": "User ID=20100<br>time=%{x}<br>Y Position=%{y}<extra></extra>",
         "legendgroup": "20100",
         "line": {
          "color": "#636efa",
          "dash": "solid"
         },
         "marker": {
          "symbol": "circle"
         },
         "mode": "lines+markers",
         "name": "20100",
         "orientation": "v",
         "showlegend": true,
         "type": "scatter",
         "x": [
          13,
          25,
          26,
          30,
          41,
          64,
          73,
          75,
          80,
          92,
          93,
          94,
          95,
          111,
          112,
          113,
          114,
          115,
          132,
          133,
          134,
          135,
          136,
          137,
          138,
          152,
          159,
          160,
          183,
          185,
          186,
          187,
          188,
          189,
          191,
          192,
          205,
          206,
          207,
          209,
          210,
          211,
          212,
          213,
          215,
          217,
          218,
          219,
          220,
          221,
          234,
          236,
          255,
          276,
          277,
          278,
          280,
          281,
          282,
          288,
          294,
          295,
          304,
          323,
          324,
          325,
          332,
          350,
          378,
          400,
          416,
          428,
          429,
          430,
          431,
          432,
          433,
          434,
          435,
          436,
          437,
          438,
          439,
          449,
          450,
          451,
          452,
          453,
          454,
          456,
          457,
          458,
          459,
          460,
          461,
          462,
          464,
          465,
          466,
          468,
          469,
          470,
          471,
          472,
          473,
          474,
          476,
          496,
          519,
          520,
          521,
          522,
          542,
          574,
          593,
          621,
          622,
          637,
          668,
          670,
          687,
          704,
          714,
          736,
          737,
          738,
          766,
          767,
          768,
          769,
          770,
          771,
          772,
          773,
          774,
          775,
          776,
          777,
          778,
          779,
          780,
          782,
          783,
          784,
          785,
          786,
          787,
          788,
          789,
          790,
          791,
          793,
          794,
          795,
          796,
          797,
          798,
          799,
          800,
          803,
          804,
          805,
          806,
          807,
          808,
          809,
          812,
          813,
          832,
          861,
          881,
          895,
          897,
          898,
          907,
          929,
          954,
          955,
          956,
          957,
          958,
          959,
          961,
          962,
          963,
          964,
          965,
          966,
          978,
          1005,
          1006,
          1007,
          1008,
          1024,
          1051,
          1074,
          1099,
          1104,
          1106,
          1108,
          1109,
          1110,
          1111,
          1118,
          1121,
          1122,
          1124,
          1125,
          1126,
          1127,
          1128,
          1129,
          1130,
          1131,
          1132,
          1133,
          1134,
          1135,
          1136,
          1137,
          1138,
          1139,
          1140,
          1141,
          1142,
          1150,
          1151,
          1170,
          1196,
          1197,
          1198,
          1199,
          1200,
          1201,
          1202,
          1203,
          1204,
          1205,
          1206,
          1209,
          1210,
          1211,
          1212,
          1220,
          1221,
          1222,
          1224,
          1225,
          1226,
          1227,
          1229,
          1230,
          1231,
          1232,
          1233,
          1234,
          1235,
          1236,
          1237,
          1238,
          1241,
          1244,
          1245,
          1246,
          1248,
          1265,
          1359,
          1370,
          1371,
          1388,
          1389,
          1390,
          1392,
          1393,
          1408,
          1417,
          1427,
          1435,
          1437,
          1438,
          1439,
          1440,
          1441,
          1443,
          1448,
          1449,
          1450,
          1451,
          1454,
          1455,
          1456,
          1457,
          1460,
          1463,
          1464,
          1465,
          1470,
          1471,
          1473,
          1474,
          1476,
          1477,
          1482,
          1483,
          1484,
          1553,
          1567,
          1570,
          1579,
          1582,
          1583,
          1584,
          1585,
          1586,
          1606,
          1612,
          1627,
          1628,
          1633,
          1651,
          1668,
          1676,
          1677,
          1678,
          1679,
          1684,
          1696,
          1724,
          1745,
          1755,
          1772,
          1791,
          1813,
          1820,
          1821,
          1823,
          1824,
          1825,
          1826,
          1827,
          1828,
          1841,
          1851,
          1864,
          1869,
          1889,
          1900,
          1901,
          1915,
          1936,
          1955,
          1956,
          1963,
          1982,
          2004,
          2005,
          2006,
          2013,
          2014,
          2015,
          2016,
          2017,
          2018,
          2026,
          2027,
          2028,
          2029,
          2030,
          2031,
          2041,
          2043,
          2047,
          2051,
          2059,
          2060,
          2061,
          2062,
          2063,
          2064,
          2065,
          2081,
          2093,
          2094,
          2106,
          2108,
          2109,
          2110,
          2111,
          2112,
          2113,
          2114,
          2115,
          2116,
          2117,
          2118,
          2130,
          2131,
          2132,
          2133,
          2134,
          2135,
          2136,
          2138,
          2139,
          2141,
          2142,
          2143,
          2145,
          2146,
          2148,
          2149,
          2173,
          2174,
          2175,
          2176,
          2177,
          2178,
          2186,
          2187,
          2188,
          2189,
          2193,
          2194,
          2196,
          2197,
          2198,
          2202,
          2203,
          2223,
          2224,
          2255,
          2273,
          2301,
          2306,
          2320,
          2350,
          2351,
          2355,
          2357,
          2359,
          2368,
          2396,
          2398,
          2399,
          2400,
          2401,
          2416,
          2448,
          2451,
          2452,
          2453,
          2454,
          2455,
          2479,
          2480,
          2481,
          2484,
          2485,
          2486,
          2487,
          2490,
          2491,
          2493,
          2494,
          2495,
          2511,
          2561,
          2574,
          2575,
          2589,
          2607,
          2624,
          2625,
          2626,
          2634,
          2635,
          2652,
          2656,
          2664,
          2665,
          2684,
          2685,
          2686,
          2687,
          2692,
          2696,
          2697,
          2703,
          2714,
          2733,
          2752,
          2779,
          2780,
          2781,
          2782,
          2783,
          2784,
          2829,
          2830,
          2831,
          2832,
          2833,
          2847,
          2855,
          2876,
          2885,
          2896,
          2924,
          2943,
          3021,
          3038,
          3039,
          3069,
          3070,
          3072,
          3088,
          3089,
          3090,
          3091,
          3092,
          3093,
          3094,
          3095,
          3097,
          3098,
          3099,
          3100,
          3101,
          3102,
          3103,
          3104,
          3107,
          3108,
          3109,
          3110,
          3111,
          3112,
          3114,
          3115,
          3116,
          3117,
          3118,
          3119,
          3133,
          3137,
          3138,
          3140,
          3141,
          3142,
          3143,
          3144,
          3145,
          3155,
          3156,
          3157,
          3158,
          3159,
          3165,
          3166,
          3182,
          3185,
          3199,
          3200,
          3202,
          3208,
          3213,
          3214,
          3217,
          3218,
          3234,
          3237,
          3281,
          3285,
          3286,
          3292,
          3295,
          3296,
          3298,
          3304,
          3308,
          3309,
          3310,
          3311,
          3327,
          3334,
          3343,
          3344,
          3346,
          3356,
          3357,
          3376,
          3386,
          3391,
          3392,
          3406,
          3430,
          3437,
          3439,
          3440,
          3441,
          3442,
          3447,
          3449,
          3450,
          3451,
          3452,
          3453,
          3454,
          3455,
          3457,
          3458,
          3459,
          3460,
          3461,
          3462,
          3472,
          3473,
          3474,
          3475,
          3481,
          3482,
          3483,
          3484,
          3485,
          3486,
          3487,
          3489,
          3490,
          3491,
          3492,
          3493,
          3494,
          3500,
          3501,
          3502,
          3503,
          3504,
          3509,
          3535,
          3537,
          3543,
          3544,
          3547,
          3548,
          3549,
          3550,
          3567,
          3568,
          3569,
          3570,
          3571,
          3572,
          3573,
          3574,
          3575,
          3579,
          3580,
          3591,
          3592,
          3593,
          3594,
          3599
         ],
         "xaxis": "x",
         "y": [
          98,
          96,
          98,
          99,
          98,
          98,
          98,
          99,
          98,
          96,
          92,
          94,
          98,
          98,
          109,
          92,
          117,
          178,
          177,
          175,
          155,
          130,
          116,
          98,
          107,
          107,
          101,
          98,
          98,
          100,
          107,
          108,
          119,
          132,
          131,
          116,
          110,
          109,
          107,
          107,
          109,
          110,
          99,
          108,
          107,
          107,
          106,
          104,
          104,
          100,
          101,
          99,
          98,
          96,
          100,
          93,
          91,
          95,
          93,
          91,
          97,
          98,
          98,
          98,
          98,
          98,
          98,
          98,
          98,
          98,
          98,
          98,
          92,
          92,
          95,
          111,
          111,
          115,
          119,
          114,
          112,
          107,
          98,
          94,
          95,
          96,
          99,
          98,
          98,
          81,
          80,
          82,
          82,
          100,
          98,
          93,
          90,
          91,
          93,
          92,
          94,
          100,
          101,
          98,
          94,
          93,
          100,
          98,
          99,
          98,
          93,
          93,
          98,
          98,
          98,
          99,
          98,
          98,
          99,
          98,
          98,
          99,
          98,
          98,
          98,
          98,
          90,
          107,
          105,
          112,
          105,
          108,
          108,
          108,
          107,
          107,
          108,
          107,
          101,
          100,
          101,
          101,
          101,
          101,
          100,
          96,
          97,
          96,
          95,
          100,
          91,
          92,
          95,
          90,
          93,
          92,
          92,
          91,
          98,
          101,
          94,
          100,
          101,
          107,
          108,
          107,
          106,
          102,
          98,
          98,
          98,
          95,
          98,
          98,
          98,
          98,
          98,
          97,
          91,
          103,
          98,
          98,
          98,
          94,
          95,
          97,
          94,
          98,
          98,
          98,
          92,
          96,
          94,
          98,
          98,
          98,
          98,
          99,
          98,
          100,
          107,
          107,
          101,
          100,
          101,
          100,
          105,
          94,
          98,
          104,
          102,
          92,
          101,
          101,
          100,
          101,
          104,
          107,
          105,
          94,
          99,
          100,
          100,
          104,
          97,
          94,
          97,
          98,
          98,
          97,
          93,
          98,
          100,
          101,
          101,
          101,
          101,
          112,
          108,
          108,
          106,
          106,
          106,
          107,
          107,
          106,
          98,
          109,
          111,
          112,
          108,
          111,
          108,
          101,
          96,
          93,
          90,
          88,
          86,
          80,
          80,
          85,
          93,
          94,
          98,
          98,
          98,
          99,
          98,
          98,
          98,
          98,
          98,
          98,
          98,
          99,
          98,
          98,
          106,
          101,
          101,
          101,
          100,
          101,
          101,
          100,
          101,
          101,
          101,
          101,
          101,
          106,
          99,
          98,
          96,
          93,
          99,
          98,
          92,
          86,
          86,
          94,
          122,
          135,
          195,
          98,
          98,
          98,
          98,
          98,
          101,
          96,
          102,
          98,
          98,
          98,
          98,
          107,
          105,
          98,
          98,
          98,
          93,
          92,
          93,
          93,
          98,
          98,
          98,
          98,
          98,
          98,
          98,
          97,
          94,
          88,
          96,
          100,
          94,
          99,
          98,
          98,
          98,
          98,
          98,
          98,
          98,
          98,
          98,
          98,
          98,
          98,
          98,
          98,
          98,
          98,
          98,
          98,
          98,
          47,
          50,
          51,
          48,
          47,
          48,
          48,
          46,
          64,
          98,
          98,
          98,
          98,
          98,
          101,
          105,
          101,
          109,
          112,
          107,
          95,
          98,
          98,
          98,
          98,
          103,
          99,
          94,
          96,
          93,
          89,
          99,
          100,
          100,
          94,
          106,
          148,
          161,
          131,
          98,
          98,
          99,
          99,
          99,
          98,
          100,
          102,
          158,
          151,
          117,
          104,
          108,
          107,
          107,
          106,
          107,
          102,
          98,
          93,
          93,
          80,
          92,
          100,
          101,
          101,
          107,
          100,
          98,
          98,
          99,
          98,
          98,
          98,
          98,
          98,
          98,
          98,
          94,
          99,
          94,
          93,
          98,
          106,
          95,
          89,
          96,
          98,
          98,
          98,
          94,
          47,
          46,
          63,
          98,
          98,
          107,
          110,
          102,
          107,
          98,
          94,
          94,
          90,
          92,
          106,
          98,
          98,
          98,
          100,
          99,
          106,
          98,
          98,
          105,
          98,
          98,
          99,
          98,
          98,
          99,
          98,
          98,
          99,
          99,
          98,
          98,
          100,
          98,
          98,
          98,
          98,
          98,
          98,
          106,
          108,
          115,
          144,
          189,
          197,
          109,
          108,
          107,
          98,
          98,
          99,
          98,
          99,
          98,
          98,
          98,
          106,
          108,
          98,
          98,
          98,
          98,
          106,
          107,
          101,
          100,
          103,
          99,
          99,
          97,
          98,
          99,
          94,
          94,
          94,
          101,
          106,
          107,
          107,
          105,
          98,
          98,
          96,
          94,
          91,
          93,
          94,
          93,
          94,
          93,
          98,
          100,
          100,
          98,
          107,
          108,
          120,
          139,
          170,
          182,
          142,
          124,
          105,
          106,
          106,
          106,
          105,
          98,
          98,
          98,
          99,
          98,
          98,
          98,
          94,
          98,
          98,
          98,
          98,
          99,
          98,
          100,
          98,
          98,
          99,
          98,
          98,
          98,
          89,
          89,
          98,
          98,
          98,
          98,
          98,
          98,
          98,
          98,
          98,
          99,
          98,
          98,
          98,
          98,
          98,
          98,
          98,
          98,
          98,
          98,
          98,
          99,
          99,
          98,
          57,
          45,
          46,
          53,
          73,
          98,
          99,
          98,
          105,
          102,
          102,
          101,
          98,
          101,
          100,
          101,
          107,
          107,
          104,
          103,
          103,
          102,
          101,
          106,
          98,
          102,
          106,
          110,
          95,
          95,
          98,
          98,
          99,
          98,
          98,
          98,
          99,
          98,
          98,
          102,
          106,
          105,
          107,
          131,
          137,
          178,
          182,
          187,
          188,
          188,
          174,
          121,
          108,
          108,
          98
         ],
         "yaxis": "y"
        }
       ],
       "layout": {
        "legend": {
         "title": {
          "text": "User ID"
         },
         "tracegroupgap": 0
        },
        "template": {
         "data": {
          "bar": [
           {
            "error_x": {
             "color": "#2a3f5f"
            },
            "error_y": {
             "color": "#2a3f5f"
            },
            "marker": {
             "line": {
              "color": "#E5ECF6",
              "width": 0.5
             },
             "pattern": {
              "fillmode": "overlay",
              "size": 10,
              "solidity": 0.2
             }
            },
            "type": "bar"
           }
          ],
          "barpolar": [
           {
            "marker": {
             "line": {
              "color": "#E5ECF6",
              "width": 0.5
             },
             "pattern": {
              "fillmode": "overlay",
              "size": 10,
              "solidity": 0.2
             }
            },
            "type": "barpolar"
           }
          ],
          "carpet": [
           {
            "aaxis": {
             "endlinecolor": "#2a3f5f",
             "gridcolor": "white",
             "linecolor": "white",
             "minorgridcolor": "white",
             "startlinecolor": "#2a3f5f"
            },
            "baxis": {
             "endlinecolor": "#2a3f5f",
             "gridcolor": "white",
             "linecolor": "white",
             "minorgridcolor": "white",
             "startlinecolor": "#2a3f5f"
            },
            "type": "carpet"
           }
          ],
          "choropleth": [
           {
            "colorbar": {
             "outlinewidth": 0,
             "ticks": ""
            },
            "type": "choropleth"
           }
          ],
          "contour": [
           {
            "colorbar": {
             "outlinewidth": 0,
             "ticks": ""
            },
            "colorscale": [
             [
              0,
              "#0d0887"
             ],
             [
              0.1111111111111111,
              "#46039f"
             ],
             [
              0.2222222222222222,
              "#7201a8"
             ],
             [
              0.3333333333333333,
              "#9c179e"
             ],
             [
              0.4444444444444444,
              "#bd3786"
             ],
             [
              0.5555555555555556,
              "#d8576b"
             ],
             [
              0.6666666666666666,
              "#ed7953"
             ],
             [
              0.7777777777777778,
              "#fb9f3a"
             ],
             [
              0.8888888888888888,
              "#fdca26"
             ],
             [
              1,
              "#f0f921"
             ]
            ],
            "type": "contour"
           }
          ],
          "contourcarpet": [
           {
            "colorbar": {
             "outlinewidth": 0,
             "ticks": ""
            },
            "type": "contourcarpet"
           }
          ],
          "heatmap": [
           {
            "colorbar": {
             "outlinewidth": 0,
             "ticks": ""
            },
            "colorscale": [
             [
              0,
              "#0d0887"
             ],
             [
              0.1111111111111111,
              "#46039f"
             ],
             [
              0.2222222222222222,
              "#7201a8"
             ],
             [
              0.3333333333333333,
              "#9c179e"
             ],
             [
              0.4444444444444444,
              "#bd3786"
             ],
             [
              0.5555555555555556,
              "#d8576b"
             ],
             [
              0.6666666666666666,
              "#ed7953"
             ],
             [
              0.7777777777777778,
              "#fb9f3a"
             ],
             [
              0.8888888888888888,
              "#fdca26"
             ],
             [
              1,
              "#f0f921"
             ]
            ],
            "type": "heatmap"
           }
          ],
          "heatmapgl": [
           {
            "colorbar": {
             "outlinewidth": 0,
             "ticks": ""
            },
            "colorscale": [
             [
              0,
              "#0d0887"
             ],
             [
              0.1111111111111111,
              "#46039f"
             ],
             [
              0.2222222222222222,
              "#7201a8"
             ],
             [
              0.3333333333333333,
              "#9c179e"
             ],
             [
              0.4444444444444444,
              "#bd3786"
             ],
             [
              0.5555555555555556,
              "#d8576b"
             ],
             [
              0.6666666666666666,
              "#ed7953"
             ],
             [
              0.7777777777777778,
              "#fb9f3a"
             ],
             [
              0.8888888888888888,
              "#fdca26"
             ],
             [
              1,
              "#f0f921"
             ]
            ],
            "type": "heatmapgl"
           }
          ],
          "histogram": [
           {
            "marker": {
             "pattern": {
              "fillmode": "overlay",
              "size": 10,
              "solidity": 0.2
             }
            },
            "type": "histogram"
           }
          ],
          "histogram2d": [
           {
            "colorbar": {
             "outlinewidth": 0,
             "ticks": ""
            },
            "colorscale": [
             [
              0,
              "#0d0887"
             ],
             [
              0.1111111111111111,
              "#46039f"
             ],
             [
              0.2222222222222222,
              "#7201a8"
             ],
             [
              0.3333333333333333,
              "#9c179e"
             ],
             [
              0.4444444444444444,
              "#bd3786"
             ],
             [
              0.5555555555555556,
              "#d8576b"
             ],
             [
              0.6666666666666666,
              "#ed7953"
             ],
             [
              0.7777777777777778,
              "#fb9f3a"
             ],
             [
              0.8888888888888888,
              "#fdca26"
             ],
             [
              1,
              "#f0f921"
             ]
            ],
            "type": "histogram2d"
           }
          ],
          "histogram2dcontour": [
           {
            "colorbar": {
             "outlinewidth": 0,
             "ticks": ""
            },
            "colorscale": [
             [
              0,
              "#0d0887"
             ],
             [
              0.1111111111111111,
              "#46039f"
             ],
             [
              0.2222222222222222,
              "#7201a8"
             ],
             [
              0.3333333333333333,
              "#9c179e"
             ],
             [
              0.4444444444444444,
              "#bd3786"
             ],
             [
              0.5555555555555556,
              "#d8576b"
             ],
             [
              0.6666666666666666,
              "#ed7953"
             ],
             [
              0.7777777777777778,
              "#fb9f3a"
             ],
             [
              0.8888888888888888,
              "#fdca26"
             ],
             [
              1,
              "#f0f921"
             ]
            ],
            "type": "histogram2dcontour"
           }
          ],
          "mesh3d": [
           {
            "colorbar": {
             "outlinewidth": 0,
             "ticks": ""
            },
            "type": "mesh3d"
           }
          ],
          "parcoords": [
           {
            "line": {
             "colorbar": {
              "outlinewidth": 0,
              "ticks": ""
             }
            },
            "type": "parcoords"
           }
          ],
          "pie": [
           {
            "automargin": true,
            "type": "pie"
           }
          ],
          "scatter": [
           {
            "fillpattern": {
             "fillmode": "overlay",
             "size": 10,
             "solidity": 0.2
            },
            "type": "scatter"
           }
          ],
          "scatter3d": [
           {
            "line": {
             "colorbar": {
              "outlinewidth": 0,
              "ticks": ""
             }
            },
            "marker": {
             "colorbar": {
              "outlinewidth": 0,
              "ticks": ""
             }
            },
            "type": "scatter3d"
           }
          ],
          "scattercarpet": [
           {
            "marker": {
             "colorbar": {
              "outlinewidth": 0,
              "ticks": ""
             }
            },
            "type": "scattercarpet"
           }
          ],
          "scattergeo": [
           {
            "marker": {
             "colorbar": {
              "outlinewidth": 0,
              "ticks": ""
             }
            },
            "type": "scattergeo"
           }
          ],
          "scattergl": [
           {
            "marker": {
             "colorbar": {
              "outlinewidth": 0,
              "ticks": ""
             }
            },
            "type": "scattergl"
           }
          ],
          "scattermapbox": [
           {
            "marker": {
             "colorbar": {
              "outlinewidth": 0,
              "ticks": ""
             }
            },
            "type": "scattermapbox"
           }
          ],
          "scatterpolar": [
           {
            "marker": {
             "colorbar": {
              "outlinewidth": 0,
              "ticks": ""
             }
            },
            "type": "scatterpolar"
           }
          ],
          "scatterpolargl": [
           {
            "marker": {
             "colorbar": {
              "outlinewidth": 0,
              "ticks": ""
             }
            },
            "type": "scatterpolargl"
           }
          ],
          "scatterternary": [
           {
            "marker": {
             "colorbar": {
              "outlinewidth": 0,
              "ticks": ""
             }
            },
            "type": "scatterternary"
           }
          ],
          "surface": [
           {
            "colorbar": {
             "outlinewidth": 0,
             "ticks": ""
            },
            "colorscale": [
             [
              0,
              "#0d0887"
             ],
             [
              0.1111111111111111,
              "#46039f"
             ],
             [
              0.2222222222222222,
              "#7201a8"
             ],
             [
              0.3333333333333333,
              "#9c179e"
             ],
             [
              0.4444444444444444,
              "#bd3786"
             ],
             [
              0.5555555555555556,
              "#d8576b"
             ],
             [
              0.6666666666666666,
              "#ed7953"
             ],
             [
              0.7777777777777778,
              "#fb9f3a"
             ],
             [
              0.8888888888888888,
              "#fdca26"
             ],
             [
              1,
              "#f0f921"
             ]
            ],
            "type": "surface"
           }
          ],
          "table": [
           {
            "cells": {
             "fill": {
              "color": "#EBF0F8"
             },
             "line": {
              "color": "white"
             }
            },
            "header": {
             "fill": {
              "color": "#C8D4E3"
             },
             "line": {
              "color": "white"
             }
            },
            "type": "table"
           }
          ]
         },
         "layout": {
          "annotationdefaults": {
           "arrowcolor": "#2a3f5f",
           "arrowhead": 0,
           "arrowwidth": 1
          },
          "autotypenumbers": "strict",
          "coloraxis": {
           "colorbar": {
            "outlinewidth": 0,
            "ticks": ""
           }
          },
          "colorscale": {
           "diverging": [
            [
             0,
             "#8e0152"
            ],
            [
             0.1,
             "#c51b7d"
            ],
            [
             0.2,
             "#de77ae"
            ],
            [
             0.3,
             "#f1b6da"
            ],
            [
             0.4,
             "#fde0ef"
            ],
            [
             0.5,
             "#f7f7f7"
            ],
            [
             0.6,
             "#e6f5d0"
            ],
            [
             0.7,
             "#b8e186"
            ],
            [
             0.8,
             "#7fbc41"
            ],
            [
             0.9,
             "#4d9221"
            ],
            [
             1,
             "#276419"
            ]
           ],
           "sequential": [
            [
             0,
             "#0d0887"
            ],
            [
             0.1111111111111111,
             "#46039f"
            ],
            [
             0.2222222222222222,
             "#7201a8"
            ],
            [
             0.3333333333333333,
             "#9c179e"
            ],
            [
             0.4444444444444444,
             "#bd3786"
            ],
            [
             0.5555555555555556,
             "#d8576b"
            ],
            [
             0.6666666666666666,
             "#ed7953"
            ],
            [
             0.7777777777777778,
             "#fb9f3a"
            ],
            [
             0.8888888888888888,
             "#fdca26"
            ],
            [
             1,
             "#f0f921"
            ]
           ],
           "sequentialminus": [
            [
             0,
             "#0d0887"
            ],
            [
             0.1111111111111111,
             "#46039f"
            ],
            [
             0.2222222222222222,
             "#7201a8"
            ],
            [
             0.3333333333333333,
             "#9c179e"
            ],
            [
             0.4444444444444444,
             "#bd3786"
            ],
            [
             0.5555555555555556,
             "#d8576b"
            ],
            [
             0.6666666666666666,
             "#ed7953"
            ],
            [
             0.7777777777777778,
             "#fb9f3a"
            ],
            [
             0.8888888888888888,
             "#fdca26"
            ],
            [
             1,
             "#f0f921"
            ]
           ]
          },
          "colorway": [
           "#636efa",
           "#EF553B",
           "#00cc96",
           "#ab63fa",
           "#FFA15A",
           "#19d3f3",
           "#FF6692",
           "#B6E880",
           "#FF97FF",
           "#FECB52"
          ],
          "font": {
           "color": "#2a3f5f"
          },
          "geo": {
           "bgcolor": "white",
           "lakecolor": "white",
           "landcolor": "#E5ECF6",
           "showlakes": true,
           "showland": true,
           "subunitcolor": "white"
          },
          "hoverlabel": {
           "align": "left"
          },
          "hovermode": "closest",
          "mapbox": {
           "style": "light"
          },
          "paper_bgcolor": "white",
          "plot_bgcolor": "#E5ECF6",
          "polar": {
           "angularaxis": {
            "gridcolor": "white",
            "linecolor": "white",
            "ticks": ""
           },
           "bgcolor": "#E5ECF6",
           "radialaxis": {
            "gridcolor": "white",
            "linecolor": "white",
            "ticks": ""
           }
          },
          "scene": {
           "xaxis": {
            "backgroundcolor": "#E5ECF6",
            "gridcolor": "white",
            "gridwidth": 2,
            "linecolor": "white",
            "showbackground": true,
            "ticks": "",
            "zerolinecolor": "white"
           },
           "yaxis": {
            "backgroundcolor": "#E5ECF6",
            "gridcolor": "white",
            "gridwidth": 2,
            "linecolor": "white",
            "showbackground": true,
            "ticks": "",
            "zerolinecolor": "white"
           },
           "zaxis": {
            "backgroundcolor": "#E5ECF6",
            "gridcolor": "white",
            "gridwidth": 2,
            "linecolor": "white",
            "showbackground": true,
            "ticks": "",
            "zerolinecolor": "white"
           }
          },
          "shapedefaults": {
           "line": {
            "color": "#2a3f5f"
           }
          },
          "ternary": {
           "aaxis": {
            "gridcolor": "white",
            "linecolor": "white",
            "ticks": ""
           },
           "baxis": {
            "gridcolor": "white",
            "linecolor": "white",
            "ticks": ""
           },
           "bgcolor": "#E5ECF6",
           "caxis": {
            "gridcolor": "white",
            "linecolor": "white",
            "ticks": ""
           }
          },
          "title": {
           "x": 0.05
          },
          "xaxis": {
           "automargin": true,
           "gridcolor": "white",
           "linecolor": "white",
           "ticks": "",
           "title": {
            "standoff": 15
           },
           "zerolinecolor": "white",
           "zerolinewidth": 2
          },
          "yaxis": {
           "automargin": true,
           "gridcolor": "white",
           "linecolor": "white",
           "ticks": "",
           "title": {
            "standoff": 15
           },
           "zerolinecolor": "white",
           "zerolinewidth": 2
          }
         }
        },
        "title": {
         "text": "User Y Position Over Time"
        },
        "xaxis": {
         "anchor": "y",
         "domain": [
          0,
          1
         ],
         "title": {
          "text": "time"
         }
        },
        "yaxis": {
         "anchor": "x",
         "domain": [
          0,
          1
         ],
         "range": [
          0,
          200
         ],
         "title": {
          "text": "Y Position"
         }
        }
       }
      },
      "text/html": [
       "<div>                            <div id=\"4ceee914-afc5-4717-a0eb-8c7e28074093\" class=\"plotly-graph-div\" style=\"height:525px; width:100%;\"></div>            <script type=\"text/javascript\">                require([\"plotly\"], function(Plotly) {                    window.PLOTLYENV=window.PLOTLYENV || {};                                    if (document.getElementById(\"4ceee914-afc5-4717-a0eb-8c7e28074093\")) {                    Plotly.newPlot(                        \"4ceee914-afc5-4717-a0eb-8c7e28074093\",                        [{\"hovertemplate\":\"User ID=20100\\u003cbr\\u003etime=%{x}\\u003cbr\\u003eY Position=%{y}\\u003cextra\\u003e\\u003c\\u002fextra\\u003e\",\"legendgroup\":\"20100\",\"line\":{\"color\":\"#636efa\",\"dash\":\"solid\"},\"marker\":{\"symbol\":\"circle\"},\"mode\":\"lines+markers\",\"name\":\"20100\",\"orientation\":\"v\",\"showlegend\":true,\"x\":[13,25,26,30,41,64,73,75,80,92,93,94,95,111,112,113,114,115,132,133,134,135,136,137,138,152,159,160,183,185,186,187,188,189,191,192,205,206,207,209,210,211,212,213,215,217,218,219,220,221,234,236,255,276,277,278,280,281,282,288,294,295,304,323,324,325,332,350,378,400,416,428,429,430,431,432,433,434,435,436,437,438,439,449,450,451,452,453,454,456,457,458,459,460,461,462,464,465,466,468,469,470,471,472,473,474,476,496,519,520,521,522,542,574,593,621,622,637,668,670,687,704,714,736,737,738,766,767,768,769,770,771,772,773,774,775,776,777,778,779,780,782,783,784,785,786,787,788,789,790,791,793,794,795,796,797,798,799,800,803,804,805,806,807,808,809,812,813,832,861,881,895,897,898,907,929,954,955,956,957,958,959,961,962,963,964,965,966,978,1005,1006,1007,1008,1024,1051,1074,1099,1104,1106,1108,1109,1110,1111,1118,1121,1122,1124,1125,1126,1127,1128,1129,1130,1131,1132,1133,1134,1135,1136,1137,1138,1139,1140,1141,1142,1150,1151,1170,1196,1197,1198,1199,1200,1201,1202,1203,1204,1205,1206,1209,1210,1211,1212,1220,1221,1222,1224,1225,1226,1227,1229,1230,1231,1232,1233,1234,1235,1236,1237,1238,1241,1244,1245,1246,1248,1265,1359,1370,1371,1388,1389,1390,1392,1393,1408,1417,1427,1435,1437,1438,1439,1440,1441,1443,1448,1449,1450,1451,1454,1455,1456,1457,1460,1463,1464,1465,1470,1471,1473,1474,1476,1477,1482,1483,1484,1553,1567,1570,1579,1582,1583,1584,1585,1586,1606,1612,1627,1628,1633,1651,1668,1676,1677,1678,1679,1684,1696,1724,1745,1755,1772,1791,1813,1820,1821,1823,1824,1825,1826,1827,1828,1841,1851,1864,1869,1889,1900,1901,1915,1936,1955,1956,1963,1982,2004,2005,2006,2013,2014,2015,2016,2017,2018,2026,2027,2028,2029,2030,2031,2041,2043,2047,2051,2059,2060,2061,2062,2063,2064,2065,2081,2093,2094,2106,2108,2109,2110,2111,2112,2113,2114,2115,2116,2117,2118,2130,2131,2132,2133,2134,2135,2136,2138,2139,2141,2142,2143,2145,2146,2148,2149,2173,2174,2175,2176,2177,2178,2186,2187,2188,2189,2193,2194,2196,2197,2198,2202,2203,2223,2224,2255,2273,2301,2306,2320,2350,2351,2355,2357,2359,2368,2396,2398,2399,2400,2401,2416,2448,2451,2452,2453,2454,2455,2479,2480,2481,2484,2485,2486,2487,2490,2491,2493,2494,2495,2511,2561,2574,2575,2589,2607,2624,2625,2626,2634,2635,2652,2656,2664,2665,2684,2685,2686,2687,2692,2696,2697,2703,2714,2733,2752,2779,2780,2781,2782,2783,2784,2829,2830,2831,2832,2833,2847,2855,2876,2885,2896,2924,2943,3021,3038,3039,3069,3070,3072,3088,3089,3090,3091,3092,3093,3094,3095,3097,3098,3099,3100,3101,3102,3103,3104,3107,3108,3109,3110,3111,3112,3114,3115,3116,3117,3118,3119,3133,3137,3138,3140,3141,3142,3143,3144,3145,3155,3156,3157,3158,3159,3165,3166,3182,3185,3199,3200,3202,3208,3213,3214,3217,3218,3234,3237,3281,3285,3286,3292,3295,3296,3298,3304,3308,3309,3310,3311,3327,3334,3343,3344,3346,3356,3357,3376,3386,3391,3392,3406,3430,3437,3439,3440,3441,3442,3447,3449,3450,3451,3452,3453,3454,3455,3457,3458,3459,3460,3461,3462,3472,3473,3474,3475,3481,3482,3483,3484,3485,3486,3487,3489,3490,3491,3492,3493,3494,3500,3501,3502,3503,3504,3509,3535,3537,3543,3544,3547,3548,3549,3550,3567,3568,3569,3570,3571,3572,3573,3574,3575,3579,3580,3591,3592,3593,3594,3599],\"xaxis\":\"x\",\"y\":[98,96,98,99,98,98,98,99,98,96,92,94,98,98,109,92,117,178,177,175,155,130,116,98,107,107,101,98,98,100,107,108,119,132,131,116,110,109,107,107,109,110,99,108,107,107,106,104,104,100,101,99,98,96,100,93,91,95,93,91,97,98,98,98,98,98,98,98,98,98,98,98,92,92,95,111,111,115,119,114,112,107,98,94,95,96,99,98,98,81,80,82,82,100,98,93,90,91,93,92,94,100,101,98,94,93,100,98,99,98,93,93,98,98,98,99,98,98,99,98,98,99,98,98,98,98,90,107,105,112,105,108,108,108,107,107,108,107,101,100,101,101,101,101,100,96,97,96,95,100,91,92,95,90,93,92,92,91,98,101,94,100,101,107,108,107,106,102,98,98,98,95,98,98,98,98,98,97,91,103,98,98,98,94,95,97,94,98,98,98,92,96,94,98,98,98,98,99,98,100,107,107,101,100,101,100,105,94,98,104,102,92,101,101,100,101,104,107,105,94,99,100,100,104,97,94,97,98,98,97,93,98,100,101,101,101,101,112,108,108,106,106,106,107,107,106,98,109,111,112,108,111,108,101,96,93,90,88,86,80,80,85,93,94,98,98,98,99,98,98,98,98,98,98,98,99,98,98,106,101,101,101,100,101,101,100,101,101,101,101,101,106,99,98,96,93,99,98,92,86,86,94,122,135,195,98,98,98,98,98,101,96,102,98,98,98,98,107,105,98,98,98,93,92,93,93,98,98,98,98,98,98,98,97,94,88,96,100,94,99,98,98,98,98,98,98,98,98,98,98,98,98,98,98,98,98,98,98,98,47,50,51,48,47,48,48,46,64,98,98,98,98,98,101,105,101,109,112,107,95,98,98,98,98,103,99,94,96,93,89,99,100,100,94,106,148,161,131,98,98,99,99,99,98,100,102,158,151,117,104,108,107,107,106,107,102,98,93,93,80,92,100,101,101,107,100,98,98,99,98,98,98,98,98,98,98,94,99,94,93,98,106,95,89,96,98,98,98,94,47,46,63,98,98,107,110,102,107,98,94,94,90,92,106,98,98,98,100,99,106,98,98,105,98,98,99,98,98,99,98,98,99,99,98,98,100,98,98,98,98,98,98,106,108,115,144,189,197,109,108,107,98,98,99,98,99,98,98,98,106,108,98,98,98,98,106,107,101,100,103,99,99,97,98,99,94,94,94,101,106,107,107,105,98,98,96,94,91,93,94,93,94,93,98,100,100,98,107,108,120,139,170,182,142,124,105,106,106,106,105,98,98,98,99,98,98,98,94,98,98,98,98,99,98,100,98,98,99,98,98,98,89,89,98,98,98,98,98,98,98,98,98,99,98,98,98,98,98,98,98,98,98,98,98,99,99,98,57,45,46,53,73,98,99,98,105,102,102,101,98,101,100,101,107,107,104,103,103,102,101,106,98,102,106,110,95,95,98,98,99,98,98,98,99,98,98,102,106,105,107,131,137,178,182,187,188,188,174,121,108,108,98],\"yaxis\":\"y\",\"type\":\"scatter\"}],                        {\"template\":{\"data\":{\"histogram2dcontour\":[{\"type\":\"histogram2dcontour\",\"colorbar\":{\"outlinewidth\":0,\"ticks\":\"\"},\"colorscale\":[[0.0,\"#0d0887\"],[0.1111111111111111,\"#46039f\"],[0.2222222222222222,\"#7201a8\"],[0.3333333333333333,\"#9c179e\"],[0.4444444444444444,\"#bd3786\"],[0.5555555555555556,\"#d8576b\"],[0.6666666666666666,\"#ed7953\"],[0.7777777777777778,\"#fb9f3a\"],[0.8888888888888888,\"#fdca26\"],[1.0,\"#f0f921\"]]}],\"choropleth\":[{\"type\":\"choropleth\",\"colorbar\":{\"outlinewidth\":0,\"ticks\":\"\"}}],\"histogram2d\":[{\"type\":\"histogram2d\",\"colorbar\":{\"outlinewidth\":0,\"ticks\":\"\"},\"colorscale\":[[0.0,\"#0d0887\"],[0.1111111111111111,\"#46039f\"],[0.2222222222222222,\"#7201a8\"],[0.3333333333333333,\"#9c179e\"],[0.4444444444444444,\"#bd3786\"],[0.5555555555555556,\"#d8576b\"],[0.6666666666666666,\"#ed7953\"],[0.7777777777777778,\"#fb9f3a\"],[0.8888888888888888,\"#fdca26\"],[1.0,\"#f0f921\"]]}],\"heatmap\":[{\"type\":\"heatmap\",\"colorbar\":{\"outlinewidth\":0,\"ticks\":\"\"},\"colorscale\":[[0.0,\"#0d0887\"],[0.1111111111111111,\"#46039f\"],[0.2222222222222222,\"#7201a8\"],[0.3333333333333333,\"#9c179e\"],[0.4444444444444444,\"#bd3786\"],[0.5555555555555556,\"#d8576b\"],[0.6666666666666666,\"#ed7953\"],[0.7777777777777778,\"#fb9f3a\"],[0.8888888888888888,\"#fdca26\"],[1.0,\"#f0f921\"]]}],\"heatmapgl\":[{\"type\":\"heatmapgl\",\"colorbar\":{\"outlinewidth\":0,\"ticks\":\"\"},\"colorscale\":[[0.0,\"#0d0887\"],[0.1111111111111111,\"#46039f\"],[0.2222222222222222,\"#7201a8\"],[0.3333333333333333,\"#9c179e\"],[0.4444444444444444,\"#bd3786\"],[0.5555555555555556,\"#d8576b\"],[0.6666666666666666,\"#ed7953\"],[0.7777777777777778,\"#fb9f3a\"],[0.8888888888888888,\"#fdca26\"],[1.0,\"#f0f921\"]]}],\"contourcarpet\":[{\"type\":\"contourcarpet\",\"colorbar\":{\"outlinewidth\":0,\"ticks\":\"\"}}],\"contour\":[{\"type\":\"contour\",\"colorbar\":{\"outlinewidth\":0,\"ticks\":\"\"},\"colorscale\":[[0.0,\"#0d0887\"],[0.1111111111111111,\"#46039f\"],[0.2222222222222222,\"#7201a8\"],[0.3333333333333333,\"#9c179e\"],[0.4444444444444444,\"#bd3786\"],[0.5555555555555556,\"#d8576b\"],[0.6666666666666666,\"#ed7953\"],[0.7777777777777778,\"#fb9f3a\"],[0.8888888888888888,\"#fdca26\"],[1.0,\"#f0f921\"]]}],\"surface\":[{\"type\":\"surface\",\"colorbar\":{\"outlinewidth\":0,\"ticks\":\"\"},\"colorscale\":[[0.0,\"#0d0887\"],[0.1111111111111111,\"#46039f\"],[0.2222222222222222,\"#7201a8\"],[0.3333333333333333,\"#9c179e\"],[0.4444444444444444,\"#bd3786\"],[0.5555555555555556,\"#d8576b\"],[0.6666666666666666,\"#ed7953\"],[0.7777777777777778,\"#fb9f3a\"],[0.8888888888888888,\"#fdca26\"],[1.0,\"#f0f921\"]]}],\"mesh3d\":[{\"type\":\"mesh3d\",\"colorbar\":{\"outlinewidth\":0,\"ticks\":\"\"}}],\"scatter\":[{\"fillpattern\":{\"fillmode\":\"overlay\",\"size\":10,\"solidity\":0.2},\"type\":\"scatter\"}],\"parcoords\":[{\"type\":\"parcoords\",\"line\":{\"colorbar\":{\"outlinewidth\":0,\"ticks\":\"\"}}}],\"scatterpolargl\":[{\"type\":\"scatterpolargl\",\"marker\":{\"colorbar\":{\"outlinewidth\":0,\"ticks\":\"\"}}}],\"bar\":[{\"error_x\":{\"color\":\"#2a3f5f\"},\"error_y\":{\"color\":\"#2a3f5f\"},\"marker\":{\"line\":{\"color\":\"#E5ECF6\",\"width\":0.5},\"pattern\":{\"fillmode\":\"overlay\",\"size\":10,\"solidity\":0.2}},\"type\":\"bar\"}],\"scattergeo\":[{\"type\":\"scattergeo\",\"marker\":{\"colorbar\":{\"outlinewidth\":0,\"ticks\":\"\"}}}],\"scatterpolar\":[{\"type\":\"scatterpolar\",\"marker\":{\"colorbar\":{\"outlinewidth\":0,\"ticks\":\"\"}}}],\"histogram\":[{\"marker\":{\"pattern\":{\"fillmode\":\"overlay\",\"size\":10,\"solidity\":0.2}},\"type\":\"histogram\"}],\"scattergl\":[{\"type\":\"scattergl\",\"marker\":{\"colorbar\":{\"outlinewidth\":0,\"ticks\":\"\"}}}],\"scatter3d\":[{\"type\":\"scatter3d\",\"line\":{\"colorbar\":{\"outlinewidth\":0,\"ticks\":\"\"}},\"marker\":{\"colorbar\":{\"outlinewidth\":0,\"ticks\":\"\"}}}],\"scattermapbox\":[{\"type\":\"scattermapbox\",\"marker\":{\"colorbar\":{\"outlinewidth\":0,\"ticks\":\"\"}}}],\"scatterternary\":[{\"type\":\"scatterternary\",\"marker\":{\"colorbar\":{\"outlinewidth\":0,\"ticks\":\"\"}}}],\"scattercarpet\":[{\"type\":\"scattercarpet\",\"marker\":{\"colorbar\":{\"outlinewidth\":0,\"ticks\":\"\"}}}],\"carpet\":[{\"aaxis\":{\"endlinecolor\":\"#2a3f5f\",\"gridcolor\":\"white\",\"linecolor\":\"white\",\"minorgridcolor\":\"white\",\"startlinecolor\":\"#2a3f5f\"},\"baxis\":{\"endlinecolor\":\"#2a3f5f\",\"gridcolor\":\"white\",\"linecolor\":\"white\",\"minorgridcolor\":\"white\",\"startlinecolor\":\"#2a3f5f\"},\"type\":\"carpet\"}],\"table\":[{\"cells\":{\"fill\":{\"color\":\"#EBF0F8\"},\"line\":{\"color\":\"white\"}},\"header\":{\"fill\":{\"color\":\"#C8D4E3\"},\"line\":{\"color\":\"white\"}},\"type\":\"table\"}],\"barpolar\":[{\"marker\":{\"line\":{\"color\":\"#E5ECF6\",\"width\":0.5},\"pattern\":{\"fillmode\":\"overlay\",\"size\":10,\"solidity\":0.2}},\"type\":\"barpolar\"}],\"pie\":[{\"automargin\":true,\"type\":\"pie\"}]},\"layout\":{\"autotypenumbers\":\"strict\",\"colorway\":[\"#636efa\",\"#EF553B\",\"#00cc96\",\"#ab63fa\",\"#FFA15A\",\"#19d3f3\",\"#FF6692\",\"#B6E880\",\"#FF97FF\",\"#FECB52\"],\"font\":{\"color\":\"#2a3f5f\"},\"hovermode\":\"closest\",\"hoverlabel\":{\"align\":\"left\"},\"paper_bgcolor\":\"white\",\"plot_bgcolor\":\"#E5ECF6\",\"polar\":{\"bgcolor\":\"#E5ECF6\",\"angularaxis\":{\"gridcolor\":\"white\",\"linecolor\":\"white\",\"ticks\":\"\"},\"radialaxis\":{\"gridcolor\":\"white\",\"linecolor\":\"white\",\"ticks\":\"\"}},\"ternary\":{\"bgcolor\":\"#E5ECF6\",\"aaxis\":{\"gridcolor\":\"white\",\"linecolor\":\"white\",\"ticks\":\"\"},\"baxis\":{\"gridcolor\":\"white\",\"linecolor\":\"white\",\"ticks\":\"\"},\"caxis\":{\"gridcolor\":\"white\",\"linecolor\":\"white\",\"ticks\":\"\"}},\"coloraxis\":{\"colorbar\":{\"outlinewidth\":0,\"ticks\":\"\"}},\"colorscale\":{\"sequential\":[[0.0,\"#0d0887\"],[0.1111111111111111,\"#46039f\"],[0.2222222222222222,\"#7201a8\"],[0.3333333333333333,\"#9c179e\"],[0.4444444444444444,\"#bd3786\"],[0.5555555555555556,\"#d8576b\"],[0.6666666666666666,\"#ed7953\"],[0.7777777777777778,\"#fb9f3a\"],[0.8888888888888888,\"#fdca26\"],[1.0,\"#f0f921\"]],\"sequentialminus\":[[0.0,\"#0d0887\"],[0.1111111111111111,\"#46039f\"],[0.2222222222222222,\"#7201a8\"],[0.3333333333333333,\"#9c179e\"],[0.4444444444444444,\"#bd3786\"],[0.5555555555555556,\"#d8576b\"],[0.6666666666666666,\"#ed7953\"],[0.7777777777777778,\"#fb9f3a\"],[0.8888888888888888,\"#fdca26\"],[1.0,\"#f0f921\"]],\"diverging\":[[0,\"#8e0152\"],[0.1,\"#c51b7d\"],[0.2,\"#de77ae\"],[0.3,\"#f1b6da\"],[0.4,\"#fde0ef\"],[0.5,\"#f7f7f7\"],[0.6,\"#e6f5d0\"],[0.7,\"#b8e186\"],[0.8,\"#7fbc41\"],[0.9,\"#4d9221\"],[1,\"#276419\"]]},\"xaxis\":{\"gridcolor\":\"white\",\"linecolor\":\"white\",\"ticks\":\"\",\"title\":{\"standoff\":15},\"zerolinecolor\":\"white\",\"automargin\":true,\"zerolinewidth\":2},\"yaxis\":{\"gridcolor\":\"white\",\"linecolor\":\"white\",\"ticks\":\"\",\"title\":{\"standoff\":15},\"zerolinecolor\":\"white\",\"automargin\":true,\"zerolinewidth\":2},\"scene\":{\"xaxis\":{\"backgroundcolor\":\"#E5ECF6\",\"gridcolor\":\"white\",\"linecolor\":\"white\",\"showbackground\":true,\"ticks\":\"\",\"zerolinecolor\":\"white\",\"gridwidth\":2},\"yaxis\":{\"backgroundcolor\":\"#E5ECF6\",\"gridcolor\":\"white\",\"linecolor\":\"white\",\"showbackground\":true,\"ticks\":\"\",\"zerolinecolor\":\"white\",\"gridwidth\":2},\"zaxis\":{\"backgroundcolor\":\"#E5ECF6\",\"gridcolor\":\"white\",\"linecolor\":\"white\",\"showbackground\":true,\"ticks\":\"\",\"zerolinecolor\":\"white\",\"gridwidth\":2}},\"shapedefaults\":{\"line\":{\"color\":\"#2a3f5f\"}},\"annotationdefaults\":{\"arrowcolor\":\"#2a3f5f\",\"arrowhead\":0,\"arrowwidth\":1},\"geo\":{\"bgcolor\":\"white\",\"landcolor\":\"#E5ECF6\",\"subunitcolor\":\"white\",\"showland\":true,\"showlakes\":true,\"lakecolor\":\"white\"},\"title\":{\"x\":0.05},\"mapbox\":{\"style\":\"light\"}}},\"xaxis\":{\"anchor\":\"y\",\"domain\":[0.0,1.0],\"title\":{\"text\":\"time\"}},\"yaxis\":{\"anchor\":\"x\",\"domain\":[0.0,1.0],\"title\":{\"text\":\"Y Position\"},\"range\":[0,200]},\"legend\":{\"title\":{\"text\":\"User ID\"},\"tracegroupgap\":0},\"title\":{\"text\":\"User Y Position Over Time\"}},                        {\"responsive\": true}                    ).then(function(){\n",
       "                            \n",
       "var gd = document.getElementById('4ceee914-afc5-4717-a0eb-8c7e28074093');\n",
       "var x = new MutationObserver(function (mutations, observer) {{\n",
       "        var display = window.getComputedStyle(gd).display;\n",
       "        if (!display || display === 'none') {{\n",
       "            console.log([gd, 'removed!']);\n",
       "            Plotly.purge(gd);\n",
       "            observer.disconnect();\n",
       "        }}\n",
       "}});\n",
       "\n",
       "// Listen for the removal of the full notebook cells\n",
       "var notebookContainer = gd.closest('#notebook-container');\n",
       "if (notebookContainer) {{\n",
       "    x.observe(notebookContainer, {childList: true});\n",
       "}}\n",
       "\n",
       "// Listen for the clearing of the current output cell\n",
       "var outputEl = gd.closest('.output');\n",
       "if (outputEl) {{\n",
       "    x.observe(outputEl, {childList: true});\n",
       "}}\n",
       "\n",
       "                        })                };                });            </script>        </div>"
      ]
     },
     "metadata": {},
     "output_type": "display_data"
    }
   ],
   "source": [
    "plot_xy_trajectory(df_b, test_case)"
   ]
  },
  {
   "cell_type": "code",
   "execution_count": 167,
   "metadata": {},
   "outputs": [
    {
     "name": "stderr",
     "output_type": "stream",
     "text": [
      "/opt/conda/lib/python3.10/site-packages/plotly/express/_core.py:2065: FutureWarning:\n",
      "\n",
      "When grouping with a length-1 list-like, you will need to pass a length-1 tuple to get_group in a future version of pandas. Pass `(name,)` instead of `name` to silence this warning.\n",
      "\n",
      "/opt/conda/lib/python3.10/site-packages/plotly/express/_core.py:2065: FutureWarning:\n",
      "\n",
      "When grouping with a length-1 list-like, you will need to pass a length-1 tuple to get_group in a future version of pandas. Pass `(name,)` instead of `name` to silence this warning.\n",
      "\n"
     ]
    },
    {
     "data": {
      "application/vnd.plotly.v1+json": {
       "config": {
        "plotlyServerURL": "https://plot.ly"
       },
       "data": [
        {
         "hovertemplate": "Data Type=Prediction<br>time=%{x}<br>Time=%{y}<extra></extra>",
         "legendgroup": "Prediction",
         "line": {
          "color": "#636efa",
          "dash": "solid"
         },
         "marker": {
          "symbol": "circle"
         },
         "mode": "lines+markers",
         "name": "Prediction",
         "orientation": "v",
         "showlegend": true,
         "type": "scatter",
         "x": [
          2885,
          2896,
          2924,
          2943,
          3021,
          3038,
          3039,
          3069,
          3070,
          3072,
          3088,
          3089,
          3090,
          3091,
          3092,
          3093,
          3094,
          3095,
          3097,
          3098,
          3099,
          3100,
          3101,
          3102,
          3103,
          3104,
          3107,
          3108,
          3109,
          3110,
          3111,
          3112,
          3114,
          3115,
          3116,
          3117,
          3118,
          3119,
          3133,
          3137,
          3138,
          3140,
          3141,
          3142,
          3143,
          3144,
          3145,
          3155,
          3156,
          3157,
          3158,
          3159,
          3165,
          3166,
          3182,
          3185,
          3199,
          3200,
          3202,
          3208,
          3213,
          3214,
          3217,
          3218,
          3234,
          3237,
          3281,
          3285,
          3286,
          3292,
          3295,
          3296,
          3298,
          3304,
          3308,
          3309,
          3310,
          3311,
          3327,
          3334,
          3343,
          3344,
          3346,
          3356,
          3357,
          3376,
          3386,
          3391,
          3392,
          3406,
          3430,
          3437,
          3439,
          3440,
          3441,
          3442,
          3447,
          3449,
          3450,
          3451,
          3452,
          3453,
          3454,
          3455,
          3457,
          3458,
          3459,
          3460,
          3461,
          3462,
          3472,
          3473,
          3474,
          3475,
          3481,
          3482,
          3483,
          3484,
          3485,
          3486,
          3487,
          3489,
          3490,
          3491,
          3492,
          3493,
          3494,
          3500,
          3501,
          3502,
          3503,
          3504,
          3509,
          3535,
          3537,
          3543,
          3544,
          3547,
          3548,
          3549,
          3550,
          3567,
          3568,
          3569,
          3570,
          3571,
          3572,
          3573,
          3574,
          3575,
          3579,
          3580,
          3591,
          3592,
          3593,
          3594,
          3599
         ],
         "xaxis": "x",
         "y": [
          76,
          76,
          76,
          76,
          76,
          76,
          76,
          76,
          76,
          76,
          76,
          76,
          76,
          76,
          76,
          76,
          76,
          76,
          76,
          76,
          76,
          76,
          76,
          76,
          76,
          76,
          76,
          76,
          76,
          76,
          76,
          76,
          76,
          76,
          76,
          76,
          76,
          76,
          76,
          76,
          76,
          76,
          76,
          76,
          76,
          76,
          76,
          76,
          76,
          76,
          76,
          76,
          76,
          76,
          76,
          76,
          76,
          76,
          76,
          76,
          76,
          76,
          76,
          76,
          76,
          76,
          76,
          76,
          76,
          76,
          76,
          76,
          76,
          76,
          76,
          76,
          76,
          76,
          76,
          76,
          76,
          76,
          76,
          76,
          76,
          76,
          76,
          76,
          76,
          76,
          76,
          76,
          76,
          76,
          76,
          76,
          76,
          76,
          76,
          76,
          76,
          76,
          76,
          76,
          76,
          76,
          76,
          76,
          76,
          76,
          76,
          76,
          76,
          76,
          76,
          76,
          76,
          76,
          76,
          76,
          76,
          76,
          76,
          76,
          76,
          76,
          76,
          76,
          76,
          76,
          76,
          76,
          76,
          76,
          76,
          76,
          76,
          76,
          76,
          76,
          76,
          76,
          76,
          76,
          76,
          76,
          76,
          76,
          76,
          76,
          76,
          76,
          76,
          76,
          76,
          76,
          76
         ],
         "yaxis": "y"
        },
        {
         "hovertemplate": "Data Type=Actual<br>time=%{x}<br>Time=%{y}<extra></extra>",
         "legendgroup": "Actual",
         "line": {
          "color": "#EF553B",
          "dash": "solid"
         },
         "marker": {
          "symbol": "circle"
         },
         "mode": "lines+markers",
         "name": "Actual",
         "orientation": "v",
         "showlegend": true,
         "type": "scatter",
         "x": [
          2885,
          2896,
          2924,
          2943,
          3021,
          3038,
          3039,
          3069,
          3070,
          3072,
          3088,
          3089,
          3090,
          3091,
          3092,
          3093,
          3094,
          3095,
          3097,
          3098,
          3099,
          3100,
          3101,
          3102,
          3103,
          3104,
          3107,
          3108,
          3109,
          3110,
          3111,
          3112,
          3114,
          3115,
          3116,
          3117,
          3118,
          3119,
          3133,
          3137,
          3138,
          3140,
          3141,
          3142,
          3143,
          3144,
          3145,
          3155,
          3156,
          3157,
          3158,
          3159,
          3165,
          3166,
          3182,
          3185,
          3199,
          3200,
          3202,
          3208,
          3213,
          3214,
          3217,
          3218,
          3234,
          3237,
          3281,
          3285,
          3286,
          3292,
          3295,
          3296,
          3298,
          3304,
          3308,
          3309,
          3310,
          3311,
          3327,
          3334,
          3343,
          3344,
          3346,
          3356,
          3357,
          3376,
          3386,
          3391,
          3392,
          3406,
          3430,
          3437,
          3439,
          3440,
          3441,
          3442,
          3447,
          3449,
          3450,
          3451,
          3452,
          3453,
          3454,
          3455,
          3457,
          3458,
          3459,
          3460,
          3461,
          3462,
          3472,
          3473,
          3474,
          3475,
          3481,
          3482,
          3483,
          3484,
          3485,
          3486,
          3487,
          3489,
          3490,
          3491,
          3492,
          3493,
          3494,
          3500,
          3501,
          3502,
          3503,
          3504,
          3509,
          3535,
          3537,
          3543,
          3544,
          3547,
          3548,
          3549,
          3550,
          3567,
          3568,
          3569,
          3570,
          3571,
          3572,
          3573,
          3574,
          3575,
          3579,
          3580,
          3591,
          3592,
          3593,
          3594,
          3599
         ],
         "xaxis": "x",
         "y": [
          76,
          76,
          76,
          76,
          74,
          68,
          76,
          76,
          76,
          76,
          74,
          74,
          65,
          68,
          60,
          72,
          77,
          77,
          76,
          76,
          76,
          76,
          76,
          82,
          74,
          73,
          68,
          71,
          76,
          76,
          82,
          83,
          83,
          79,
          79,
          79,
          79,
          79,
          76,
          76,
          76,
          76,
          71,
          50,
          49,
          47,
          65,
          79,
          86,
          85,
          75,
          75,
          75,
          75,
          75,
          75,
          75,
          76,
          76,
          75,
          76,
          93,
          82,
          76,
          75,
          76,
          76,
          75,
          76,
          77,
          76,
          76,
          75,
          75,
          76,
          76,
          79,
          78,
          75,
          76,
          75,
          76,
          75,
          75,
          76,
          75,
          75,
          76,
          76,
          76,
          75,
          75,
          76,
          75,
          76,
          75,
          76,
          76,
          76,
          76,
          76,
          76,
          59,
          49,
          44,
          56,
          77,
          77,
          76,
          76,
          71,
          60,
          68,
          78,
          76,
          80,
          80,
          81,
          75,
          71,
          70,
          58,
          59,
          59,
          62,
          75,
          76,
          82,
          71,
          44,
          40,
          57,
          76,
          76,
          75,
          75,
          76,
          75,
          75,
          76,
          76,
          74,
          75,
          71,
          52,
          45,
          45,
          67,
          69,
          77,
          79,
          79,
          80,
          69,
          68,
          68,
          76
         ],
         "yaxis": "y"
        }
       ],
       "layout": {
        "legend": {
         "title": {
          "text": "Data Type"
         },
         "tracegroupgap": 0
        },
        "template": {
         "data": {
          "bar": [
           {
            "error_x": {
             "color": "#2a3f5f"
            },
            "error_y": {
             "color": "#2a3f5f"
            },
            "marker": {
             "line": {
              "color": "#E5ECF6",
              "width": 0.5
             },
             "pattern": {
              "fillmode": "overlay",
              "size": 10,
              "solidity": 0.2
             }
            },
            "type": "bar"
           }
          ],
          "barpolar": [
           {
            "marker": {
             "line": {
              "color": "#E5ECF6",
              "width": 0.5
             },
             "pattern": {
              "fillmode": "overlay",
              "size": 10,
              "solidity": 0.2
             }
            },
            "type": "barpolar"
           }
          ],
          "carpet": [
           {
            "aaxis": {
             "endlinecolor": "#2a3f5f",
             "gridcolor": "white",
             "linecolor": "white",
             "minorgridcolor": "white",
             "startlinecolor": "#2a3f5f"
            },
            "baxis": {
             "endlinecolor": "#2a3f5f",
             "gridcolor": "white",
             "linecolor": "white",
             "minorgridcolor": "white",
             "startlinecolor": "#2a3f5f"
            },
            "type": "carpet"
           }
          ],
          "choropleth": [
           {
            "colorbar": {
             "outlinewidth": 0,
             "ticks": ""
            },
            "type": "choropleth"
           }
          ],
          "contour": [
           {
            "colorbar": {
             "outlinewidth": 0,
             "ticks": ""
            },
            "colorscale": [
             [
              0,
              "#0d0887"
             ],
             [
              0.1111111111111111,
              "#46039f"
             ],
             [
              0.2222222222222222,
              "#7201a8"
             ],
             [
              0.3333333333333333,
              "#9c179e"
             ],
             [
              0.4444444444444444,
              "#bd3786"
             ],
             [
              0.5555555555555556,
              "#d8576b"
             ],
             [
              0.6666666666666666,
              "#ed7953"
             ],
             [
              0.7777777777777778,
              "#fb9f3a"
             ],
             [
              0.8888888888888888,
              "#fdca26"
             ],
             [
              1,
              "#f0f921"
             ]
            ],
            "type": "contour"
           }
          ],
          "contourcarpet": [
           {
            "colorbar": {
             "outlinewidth": 0,
             "ticks": ""
            },
            "type": "contourcarpet"
           }
          ],
          "heatmap": [
           {
            "colorbar": {
             "outlinewidth": 0,
             "ticks": ""
            },
            "colorscale": [
             [
              0,
              "#0d0887"
             ],
             [
              0.1111111111111111,
              "#46039f"
             ],
             [
              0.2222222222222222,
              "#7201a8"
             ],
             [
              0.3333333333333333,
              "#9c179e"
             ],
             [
              0.4444444444444444,
              "#bd3786"
             ],
             [
              0.5555555555555556,
              "#d8576b"
             ],
             [
              0.6666666666666666,
              "#ed7953"
             ],
             [
              0.7777777777777778,
              "#fb9f3a"
             ],
             [
              0.8888888888888888,
              "#fdca26"
             ],
             [
              1,
              "#f0f921"
             ]
            ],
            "type": "heatmap"
           }
          ],
          "heatmapgl": [
           {
            "colorbar": {
             "outlinewidth": 0,
             "ticks": ""
            },
            "colorscale": [
             [
              0,
              "#0d0887"
             ],
             [
              0.1111111111111111,
              "#46039f"
             ],
             [
              0.2222222222222222,
              "#7201a8"
             ],
             [
              0.3333333333333333,
              "#9c179e"
             ],
             [
              0.4444444444444444,
              "#bd3786"
             ],
             [
              0.5555555555555556,
              "#d8576b"
             ],
             [
              0.6666666666666666,
              "#ed7953"
             ],
             [
              0.7777777777777778,
              "#fb9f3a"
             ],
             [
              0.8888888888888888,
              "#fdca26"
             ],
             [
              1,
              "#f0f921"
             ]
            ],
            "type": "heatmapgl"
           }
          ],
          "histogram": [
           {
            "marker": {
             "pattern": {
              "fillmode": "overlay",
              "size": 10,
              "solidity": 0.2
             }
            },
            "type": "histogram"
           }
          ],
          "histogram2d": [
           {
            "colorbar": {
             "outlinewidth": 0,
             "ticks": ""
            },
            "colorscale": [
             [
              0,
              "#0d0887"
             ],
             [
              0.1111111111111111,
              "#46039f"
             ],
             [
              0.2222222222222222,
              "#7201a8"
             ],
             [
              0.3333333333333333,
              "#9c179e"
             ],
             [
              0.4444444444444444,
              "#bd3786"
             ],
             [
              0.5555555555555556,
              "#d8576b"
             ],
             [
              0.6666666666666666,
              "#ed7953"
             ],
             [
              0.7777777777777778,
              "#fb9f3a"
             ],
             [
              0.8888888888888888,
              "#fdca26"
             ],
             [
              1,
              "#f0f921"
             ]
            ],
            "type": "histogram2d"
           }
          ],
          "histogram2dcontour": [
           {
            "colorbar": {
             "outlinewidth": 0,
             "ticks": ""
            },
            "colorscale": [
             [
              0,
              "#0d0887"
             ],
             [
              0.1111111111111111,
              "#46039f"
             ],
             [
              0.2222222222222222,
              "#7201a8"
             ],
             [
              0.3333333333333333,
              "#9c179e"
             ],
             [
              0.4444444444444444,
              "#bd3786"
             ],
             [
              0.5555555555555556,
              "#d8576b"
             ],
             [
              0.6666666666666666,
              "#ed7953"
             ],
             [
              0.7777777777777778,
              "#fb9f3a"
             ],
             [
              0.8888888888888888,
              "#fdca26"
             ],
             [
              1,
              "#f0f921"
             ]
            ],
            "type": "histogram2dcontour"
           }
          ],
          "mesh3d": [
           {
            "colorbar": {
             "outlinewidth": 0,
             "ticks": ""
            },
            "type": "mesh3d"
           }
          ],
          "parcoords": [
           {
            "line": {
             "colorbar": {
              "outlinewidth": 0,
              "ticks": ""
             }
            },
            "type": "parcoords"
           }
          ],
          "pie": [
           {
            "automargin": true,
            "type": "pie"
           }
          ],
          "scatter": [
           {
            "fillpattern": {
             "fillmode": "overlay",
             "size": 10,
             "solidity": 0.2
            },
            "type": "scatter"
           }
          ],
          "scatter3d": [
           {
            "line": {
             "colorbar": {
              "outlinewidth": 0,
              "ticks": ""
             }
            },
            "marker": {
             "colorbar": {
              "outlinewidth": 0,
              "ticks": ""
             }
            },
            "type": "scatter3d"
           }
          ],
          "scattercarpet": [
           {
            "marker": {
             "colorbar": {
              "outlinewidth": 0,
              "ticks": ""
             }
            },
            "type": "scattercarpet"
           }
          ],
          "scattergeo": [
           {
            "marker": {
             "colorbar": {
              "outlinewidth": 0,
              "ticks": ""
             }
            },
            "type": "scattergeo"
           }
          ],
          "scattergl": [
           {
            "marker": {
             "colorbar": {
              "outlinewidth": 0,
              "ticks": ""
             }
            },
            "type": "scattergl"
           }
          ],
          "scattermapbox": [
           {
            "marker": {
             "colorbar": {
              "outlinewidth": 0,
              "ticks": ""
             }
            },
            "type": "scattermapbox"
           }
          ],
          "scatterpolar": [
           {
            "marker": {
             "colorbar": {
              "outlinewidth": 0,
              "ticks": ""
             }
            },
            "type": "scatterpolar"
           }
          ],
          "scatterpolargl": [
           {
            "marker": {
             "colorbar": {
              "outlinewidth": 0,
              "ticks": ""
             }
            },
            "type": "scatterpolargl"
           }
          ],
          "scatterternary": [
           {
            "marker": {
             "colorbar": {
              "outlinewidth": 0,
              "ticks": ""
             }
            },
            "type": "scatterternary"
           }
          ],
          "surface": [
           {
            "colorbar": {
             "outlinewidth": 0,
             "ticks": ""
            },
            "colorscale": [
             [
              0,
              "#0d0887"
             ],
             [
              0.1111111111111111,
              "#46039f"
             ],
             [
              0.2222222222222222,
              "#7201a8"
             ],
             [
              0.3333333333333333,
              "#9c179e"
             ],
             [
              0.4444444444444444,
              "#bd3786"
             ],
             [
              0.5555555555555556,
              "#d8576b"
             ],
             [
              0.6666666666666666,
              "#ed7953"
             ],
             [
              0.7777777777777778,
              "#fb9f3a"
             ],
             [
              0.8888888888888888,
              "#fdca26"
             ],
             [
              1,
              "#f0f921"
             ]
            ],
            "type": "surface"
           }
          ],
          "table": [
           {
            "cells": {
             "fill": {
              "color": "#EBF0F8"
             },
             "line": {
              "color": "white"
             }
            },
            "header": {
             "fill": {
              "color": "#C8D4E3"
             },
             "line": {
              "color": "white"
             }
            },
            "type": "table"
           }
          ]
         },
         "layout": {
          "annotationdefaults": {
           "arrowcolor": "#2a3f5f",
           "arrowhead": 0,
           "arrowwidth": 1
          },
          "autotypenumbers": "strict",
          "coloraxis": {
           "colorbar": {
            "outlinewidth": 0,
            "ticks": ""
           }
          },
          "colorscale": {
           "diverging": [
            [
             0,
             "#8e0152"
            ],
            [
             0.1,
             "#c51b7d"
            ],
            [
             0.2,
             "#de77ae"
            ],
            [
             0.3,
             "#f1b6da"
            ],
            [
             0.4,
             "#fde0ef"
            ],
            [
             0.5,
             "#f7f7f7"
            ],
            [
             0.6,
             "#e6f5d0"
            ],
            [
             0.7,
             "#b8e186"
            ],
            [
             0.8,
             "#7fbc41"
            ],
            [
             0.9,
             "#4d9221"
            ],
            [
             1,
             "#276419"
            ]
           ],
           "sequential": [
            [
             0,
             "#0d0887"
            ],
            [
             0.1111111111111111,
             "#46039f"
            ],
            [
             0.2222222222222222,
             "#7201a8"
            ],
            [
             0.3333333333333333,
             "#9c179e"
            ],
            [
             0.4444444444444444,
             "#bd3786"
            ],
            [
             0.5555555555555556,
             "#d8576b"
            ],
            [
             0.6666666666666666,
             "#ed7953"
            ],
            [
             0.7777777777777778,
             "#fb9f3a"
            ],
            [
             0.8888888888888888,
             "#fdca26"
            ],
            [
             1,
             "#f0f921"
            ]
           ],
           "sequentialminus": [
            [
             0,
             "#0d0887"
            ],
            [
             0.1111111111111111,
             "#46039f"
            ],
            [
             0.2222222222222222,
             "#7201a8"
            ],
            [
             0.3333333333333333,
             "#9c179e"
            ],
            [
             0.4444444444444444,
             "#bd3786"
            ],
            [
             0.5555555555555556,
             "#d8576b"
            ],
            [
             0.6666666666666666,
             "#ed7953"
            ],
            [
             0.7777777777777778,
             "#fb9f3a"
            ],
            [
             0.8888888888888888,
             "#fdca26"
            ],
            [
             1,
             "#f0f921"
            ]
           ]
          },
          "colorway": [
           "#636efa",
           "#EF553B",
           "#00cc96",
           "#ab63fa",
           "#FFA15A",
           "#19d3f3",
           "#FF6692",
           "#B6E880",
           "#FF97FF",
           "#FECB52"
          ],
          "font": {
           "color": "#2a3f5f"
          },
          "geo": {
           "bgcolor": "white",
           "lakecolor": "white",
           "landcolor": "#E5ECF6",
           "showlakes": true,
           "showland": true,
           "subunitcolor": "white"
          },
          "hoverlabel": {
           "align": "left"
          },
          "hovermode": "closest",
          "mapbox": {
           "style": "light"
          },
          "paper_bgcolor": "white",
          "plot_bgcolor": "#E5ECF6",
          "polar": {
           "angularaxis": {
            "gridcolor": "white",
            "linecolor": "white",
            "ticks": ""
           },
           "bgcolor": "#E5ECF6",
           "radialaxis": {
            "gridcolor": "white",
            "linecolor": "white",
            "ticks": ""
           }
          },
          "scene": {
           "xaxis": {
            "backgroundcolor": "#E5ECF6",
            "gridcolor": "white",
            "gridwidth": 2,
            "linecolor": "white",
            "showbackground": true,
            "ticks": "",
            "zerolinecolor": "white"
           },
           "yaxis": {
            "backgroundcolor": "#E5ECF6",
            "gridcolor": "white",
            "gridwidth": 2,
            "linecolor": "white",
            "showbackground": true,
            "ticks": "",
            "zerolinecolor": "white"
           },
           "zaxis": {
            "backgroundcolor": "#E5ECF6",
            "gridcolor": "white",
            "gridwidth": 2,
            "linecolor": "white",
            "showbackground": true,
            "ticks": "",
            "zerolinecolor": "white"
           }
          },
          "shapedefaults": {
           "line": {
            "color": "#2a3f5f"
           }
          },
          "ternary": {
           "aaxis": {
            "gridcolor": "white",
            "linecolor": "white",
            "ticks": ""
           },
           "baxis": {
            "gridcolor": "white",
            "linecolor": "white",
            "ticks": ""
           },
           "bgcolor": "#E5ECF6",
           "caxis": {
            "gridcolor": "white",
            "linecolor": "white",
            "ticks": ""
           }
          },
          "title": {
           "x": 0.05
          },
          "xaxis": {
           "automargin": true,
           "gridcolor": "white",
           "linecolor": "white",
           "ticks": "",
           "title": {
            "standoff": 15
           },
           "zerolinecolor": "white",
           "zerolinewidth": 2
          },
          "yaxis": {
           "automargin": true,
           "gridcolor": "white",
           "linecolor": "white",
           "ticks": "",
           "title": {
            "standoff": 15
           },
           "zerolinecolor": "white",
           "zerolinewidth": 2
          }
         }
        },
        "title": {
         "text": "User X Position Over Time"
        },
        "xaxis": {
         "anchor": "y",
         "domain": [
          0,
          1
         ],
         "title": {
          "text": "time"
         }
        },
        "yaxis": {
         "anchor": "x",
         "domain": [
          0,
          1
         ],
         "range": [
          0,
          200
         ],
         "title": {
          "text": "Time"
         }
        }
       }
      },
      "text/html": [
       "<div>                            <div id=\"b71b5049-52da-4d81-82f0-31d163436ee0\" class=\"plotly-graph-div\" style=\"height:525px; width:100%;\"></div>            <script type=\"text/javascript\">                require([\"plotly\"], function(Plotly) {                    window.PLOTLYENV=window.PLOTLYENV || {};                                    if (document.getElementById(\"b71b5049-52da-4d81-82f0-31d163436ee0\")) {                    Plotly.newPlot(                        \"b71b5049-52da-4d81-82f0-31d163436ee0\",                        [{\"hovertemplate\":\"Data Type=Prediction\\u003cbr\\u003etime=%{x}\\u003cbr\\u003eTime=%{y}\\u003cextra\\u003e\\u003c\\u002fextra\\u003e\",\"legendgroup\":\"Prediction\",\"line\":{\"color\":\"#636efa\",\"dash\":\"solid\"},\"marker\":{\"symbol\":\"circle\"},\"mode\":\"lines+markers\",\"name\":\"Prediction\",\"orientation\":\"v\",\"showlegend\":true,\"x\":[2885,2896,2924,2943,3021,3038,3039,3069,3070,3072,3088,3089,3090,3091,3092,3093,3094,3095,3097,3098,3099,3100,3101,3102,3103,3104,3107,3108,3109,3110,3111,3112,3114,3115,3116,3117,3118,3119,3133,3137,3138,3140,3141,3142,3143,3144,3145,3155,3156,3157,3158,3159,3165,3166,3182,3185,3199,3200,3202,3208,3213,3214,3217,3218,3234,3237,3281,3285,3286,3292,3295,3296,3298,3304,3308,3309,3310,3311,3327,3334,3343,3344,3346,3356,3357,3376,3386,3391,3392,3406,3430,3437,3439,3440,3441,3442,3447,3449,3450,3451,3452,3453,3454,3455,3457,3458,3459,3460,3461,3462,3472,3473,3474,3475,3481,3482,3483,3484,3485,3486,3487,3489,3490,3491,3492,3493,3494,3500,3501,3502,3503,3504,3509,3535,3537,3543,3544,3547,3548,3549,3550,3567,3568,3569,3570,3571,3572,3573,3574,3575,3579,3580,3591,3592,3593,3594,3599],\"xaxis\":\"x\",\"y\":[76,76,76,76,76,76,76,76,76,76,76,76,76,76,76,76,76,76,76,76,76,76,76,76,76,76,76,76,76,76,76,76,76,76,76,76,76,76,76,76,76,76,76,76,76,76,76,76,76,76,76,76,76,76,76,76,76,76,76,76,76,76,76,76,76,76,76,76,76,76,76,76,76,76,76,76,76,76,76,76,76,76,76,76,76,76,76,76,76,76,76,76,76,76,76,76,76,76,76,76,76,76,76,76,76,76,76,76,76,76,76,76,76,76,76,76,76,76,76,76,76,76,76,76,76,76,76,76,76,76,76,76,76,76,76,76,76,76,76,76,76,76,76,76,76,76,76,76,76,76,76,76,76,76,76,76,76],\"yaxis\":\"y\",\"type\":\"scatter\"},{\"hovertemplate\":\"Data Type=Actual\\u003cbr\\u003etime=%{x}\\u003cbr\\u003eTime=%{y}\\u003cextra\\u003e\\u003c\\u002fextra\\u003e\",\"legendgroup\":\"Actual\",\"line\":{\"color\":\"#EF553B\",\"dash\":\"solid\"},\"marker\":{\"symbol\":\"circle\"},\"mode\":\"lines+markers\",\"name\":\"Actual\",\"orientation\":\"v\",\"showlegend\":true,\"x\":[2885,2896,2924,2943,3021,3038,3039,3069,3070,3072,3088,3089,3090,3091,3092,3093,3094,3095,3097,3098,3099,3100,3101,3102,3103,3104,3107,3108,3109,3110,3111,3112,3114,3115,3116,3117,3118,3119,3133,3137,3138,3140,3141,3142,3143,3144,3145,3155,3156,3157,3158,3159,3165,3166,3182,3185,3199,3200,3202,3208,3213,3214,3217,3218,3234,3237,3281,3285,3286,3292,3295,3296,3298,3304,3308,3309,3310,3311,3327,3334,3343,3344,3346,3356,3357,3376,3386,3391,3392,3406,3430,3437,3439,3440,3441,3442,3447,3449,3450,3451,3452,3453,3454,3455,3457,3458,3459,3460,3461,3462,3472,3473,3474,3475,3481,3482,3483,3484,3485,3486,3487,3489,3490,3491,3492,3493,3494,3500,3501,3502,3503,3504,3509,3535,3537,3543,3544,3547,3548,3549,3550,3567,3568,3569,3570,3571,3572,3573,3574,3575,3579,3580,3591,3592,3593,3594,3599],\"xaxis\":\"x\",\"y\":[76,76,76,76,74,68,76,76,76,76,74,74,65,68,60,72,77,77,76,76,76,76,76,82,74,73,68,71,76,76,82,83,83,79,79,79,79,79,76,76,76,76,71,50,49,47,65,79,86,85,75,75,75,75,75,75,75,76,76,75,76,93,82,76,75,76,76,75,76,77,76,76,75,75,76,76,79,78,75,76,75,76,75,75,76,75,75,76,76,76,75,75,76,75,76,75,76,76,76,76,76,76,59,49,44,56,77,77,76,76,71,60,68,78,76,80,80,81,75,71,70,58,59,59,62,75,76,82,71,44,40,57,76,76,75,75,76,75,75,76,76,74,75,71,52,45,45,67,69,77,79,79,80,69,68,68,76],\"yaxis\":\"y\",\"type\":\"scatter\"}],                        {\"template\":{\"data\":{\"histogram2dcontour\":[{\"type\":\"histogram2dcontour\",\"colorbar\":{\"outlinewidth\":0,\"ticks\":\"\"},\"colorscale\":[[0.0,\"#0d0887\"],[0.1111111111111111,\"#46039f\"],[0.2222222222222222,\"#7201a8\"],[0.3333333333333333,\"#9c179e\"],[0.4444444444444444,\"#bd3786\"],[0.5555555555555556,\"#d8576b\"],[0.6666666666666666,\"#ed7953\"],[0.7777777777777778,\"#fb9f3a\"],[0.8888888888888888,\"#fdca26\"],[1.0,\"#f0f921\"]]}],\"choropleth\":[{\"type\":\"choropleth\",\"colorbar\":{\"outlinewidth\":0,\"ticks\":\"\"}}],\"histogram2d\":[{\"type\":\"histogram2d\",\"colorbar\":{\"outlinewidth\":0,\"ticks\":\"\"},\"colorscale\":[[0.0,\"#0d0887\"],[0.1111111111111111,\"#46039f\"],[0.2222222222222222,\"#7201a8\"],[0.3333333333333333,\"#9c179e\"],[0.4444444444444444,\"#bd3786\"],[0.5555555555555556,\"#d8576b\"],[0.6666666666666666,\"#ed7953\"],[0.7777777777777778,\"#fb9f3a\"],[0.8888888888888888,\"#fdca26\"],[1.0,\"#f0f921\"]]}],\"heatmap\":[{\"type\":\"heatmap\",\"colorbar\":{\"outlinewidth\":0,\"ticks\":\"\"},\"colorscale\":[[0.0,\"#0d0887\"],[0.1111111111111111,\"#46039f\"],[0.2222222222222222,\"#7201a8\"],[0.3333333333333333,\"#9c179e\"],[0.4444444444444444,\"#bd3786\"],[0.5555555555555556,\"#d8576b\"],[0.6666666666666666,\"#ed7953\"],[0.7777777777777778,\"#fb9f3a\"],[0.8888888888888888,\"#fdca26\"],[1.0,\"#f0f921\"]]}],\"heatmapgl\":[{\"type\":\"heatmapgl\",\"colorbar\":{\"outlinewidth\":0,\"ticks\":\"\"},\"colorscale\":[[0.0,\"#0d0887\"],[0.1111111111111111,\"#46039f\"],[0.2222222222222222,\"#7201a8\"],[0.3333333333333333,\"#9c179e\"],[0.4444444444444444,\"#bd3786\"],[0.5555555555555556,\"#d8576b\"],[0.6666666666666666,\"#ed7953\"],[0.7777777777777778,\"#fb9f3a\"],[0.8888888888888888,\"#fdca26\"],[1.0,\"#f0f921\"]]}],\"contourcarpet\":[{\"type\":\"contourcarpet\",\"colorbar\":{\"outlinewidth\":0,\"ticks\":\"\"}}],\"contour\":[{\"type\":\"contour\",\"colorbar\":{\"outlinewidth\":0,\"ticks\":\"\"},\"colorscale\":[[0.0,\"#0d0887\"],[0.1111111111111111,\"#46039f\"],[0.2222222222222222,\"#7201a8\"],[0.3333333333333333,\"#9c179e\"],[0.4444444444444444,\"#bd3786\"],[0.5555555555555556,\"#d8576b\"],[0.6666666666666666,\"#ed7953\"],[0.7777777777777778,\"#fb9f3a\"],[0.8888888888888888,\"#fdca26\"],[1.0,\"#f0f921\"]]}],\"surface\":[{\"type\":\"surface\",\"colorbar\":{\"outlinewidth\":0,\"ticks\":\"\"},\"colorscale\":[[0.0,\"#0d0887\"],[0.1111111111111111,\"#46039f\"],[0.2222222222222222,\"#7201a8\"],[0.3333333333333333,\"#9c179e\"],[0.4444444444444444,\"#bd3786\"],[0.5555555555555556,\"#d8576b\"],[0.6666666666666666,\"#ed7953\"],[0.7777777777777778,\"#fb9f3a\"],[0.8888888888888888,\"#fdca26\"],[1.0,\"#f0f921\"]]}],\"mesh3d\":[{\"type\":\"mesh3d\",\"colorbar\":{\"outlinewidth\":0,\"ticks\":\"\"}}],\"scatter\":[{\"fillpattern\":{\"fillmode\":\"overlay\",\"size\":10,\"solidity\":0.2},\"type\":\"scatter\"}],\"parcoords\":[{\"type\":\"parcoords\",\"line\":{\"colorbar\":{\"outlinewidth\":0,\"ticks\":\"\"}}}],\"scatterpolargl\":[{\"type\":\"scatterpolargl\",\"marker\":{\"colorbar\":{\"outlinewidth\":0,\"ticks\":\"\"}}}],\"bar\":[{\"error_x\":{\"color\":\"#2a3f5f\"},\"error_y\":{\"color\":\"#2a3f5f\"},\"marker\":{\"line\":{\"color\":\"#E5ECF6\",\"width\":0.5},\"pattern\":{\"fillmode\":\"overlay\",\"size\":10,\"solidity\":0.2}},\"type\":\"bar\"}],\"scattergeo\":[{\"type\":\"scattergeo\",\"marker\":{\"colorbar\":{\"outlinewidth\":0,\"ticks\":\"\"}}}],\"scatterpolar\":[{\"type\":\"scatterpolar\",\"marker\":{\"colorbar\":{\"outlinewidth\":0,\"ticks\":\"\"}}}],\"histogram\":[{\"marker\":{\"pattern\":{\"fillmode\":\"overlay\",\"size\":10,\"solidity\":0.2}},\"type\":\"histogram\"}],\"scattergl\":[{\"type\":\"scattergl\",\"marker\":{\"colorbar\":{\"outlinewidth\":0,\"ticks\":\"\"}}}],\"scatter3d\":[{\"type\":\"scatter3d\",\"line\":{\"colorbar\":{\"outlinewidth\":0,\"ticks\":\"\"}},\"marker\":{\"colorbar\":{\"outlinewidth\":0,\"ticks\":\"\"}}}],\"scattermapbox\":[{\"type\":\"scattermapbox\",\"marker\":{\"colorbar\":{\"outlinewidth\":0,\"ticks\":\"\"}}}],\"scatterternary\":[{\"type\":\"scatterternary\",\"marker\":{\"colorbar\":{\"outlinewidth\":0,\"ticks\":\"\"}}}],\"scattercarpet\":[{\"type\":\"scattercarpet\",\"marker\":{\"colorbar\":{\"outlinewidth\":0,\"ticks\":\"\"}}}],\"carpet\":[{\"aaxis\":{\"endlinecolor\":\"#2a3f5f\",\"gridcolor\":\"white\",\"linecolor\":\"white\",\"minorgridcolor\":\"white\",\"startlinecolor\":\"#2a3f5f\"},\"baxis\":{\"endlinecolor\":\"#2a3f5f\",\"gridcolor\":\"white\",\"linecolor\":\"white\",\"minorgridcolor\":\"white\",\"startlinecolor\":\"#2a3f5f\"},\"type\":\"carpet\"}],\"table\":[{\"cells\":{\"fill\":{\"color\":\"#EBF0F8\"},\"line\":{\"color\":\"white\"}},\"header\":{\"fill\":{\"color\":\"#C8D4E3\"},\"line\":{\"color\":\"white\"}},\"type\":\"table\"}],\"barpolar\":[{\"marker\":{\"line\":{\"color\":\"#E5ECF6\",\"width\":0.5},\"pattern\":{\"fillmode\":\"overlay\",\"size\":10,\"solidity\":0.2}},\"type\":\"barpolar\"}],\"pie\":[{\"automargin\":true,\"type\":\"pie\"}]},\"layout\":{\"autotypenumbers\":\"strict\",\"colorway\":[\"#636efa\",\"#EF553B\",\"#00cc96\",\"#ab63fa\",\"#FFA15A\",\"#19d3f3\",\"#FF6692\",\"#B6E880\",\"#FF97FF\",\"#FECB52\"],\"font\":{\"color\":\"#2a3f5f\"},\"hovermode\":\"closest\",\"hoverlabel\":{\"align\":\"left\"},\"paper_bgcolor\":\"white\",\"plot_bgcolor\":\"#E5ECF6\",\"polar\":{\"bgcolor\":\"#E5ECF6\",\"angularaxis\":{\"gridcolor\":\"white\",\"linecolor\":\"white\",\"ticks\":\"\"},\"radialaxis\":{\"gridcolor\":\"white\",\"linecolor\":\"white\",\"ticks\":\"\"}},\"ternary\":{\"bgcolor\":\"#E5ECF6\",\"aaxis\":{\"gridcolor\":\"white\",\"linecolor\":\"white\",\"ticks\":\"\"},\"baxis\":{\"gridcolor\":\"white\",\"linecolor\":\"white\",\"ticks\":\"\"},\"caxis\":{\"gridcolor\":\"white\",\"linecolor\":\"white\",\"ticks\":\"\"}},\"coloraxis\":{\"colorbar\":{\"outlinewidth\":0,\"ticks\":\"\"}},\"colorscale\":{\"sequential\":[[0.0,\"#0d0887\"],[0.1111111111111111,\"#46039f\"],[0.2222222222222222,\"#7201a8\"],[0.3333333333333333,\"#9c179e\"],[0.4444444444444444,\"#bd3786\"],[0.5555555555555556,\"#d8576b\"],[0.6666666666666666,\"#ed7953\"],[0.7777777777777778,\"#fb9f3a\"],[0.8888888888888888,\"#fdca26\"],[1.0,\"#f0f921\"]],\"sequentialminus\":[[0.0,\"#0d0887\"],[0.1111111111111111,\"#46039f\"],[0.2222222222222222,\"#7201a8\"],[0.3333333333333333,\"#9c179e\"],[0.4444444444444444,\"#bd3786\"],[0.5555555555555556,\"#d8576b\"],[0.6666666666666666,\"#ed7953\"],[0.7777777777777778,\"#fb9f3a\"],[0.8888888888888888,\"#fdca26\"],[1.0,\"#f0f921\"]],\"diverging\":[[0,\"#8e0152\"],[0.1,\"#c51b7d\"],[0.2,\"#de77ae\"],[0.3,\"#f1b6da\"],[0.4,\"#fde0ef\"],[0.5,\"#f7f7f7\"],[0.6,\"#e6f5d0\"],[0.7,\"#b8e186\"],[0.8,\"#7fbc41\"],[0.9,\"#4d9221\"],[1,\"#276419\"]]},\"xaxis\":{\"gridcolor\":\"white\",\"linecolor\":\"white\",\"ticks\":\"\",\"title\":{\"standoff\":15},\"zerolinecolor\":\"white\",\"automargin\":true,\"zerolinewidth\":2},\"yaxis\":{\"gridcolor\":\"white\",\"linecolor\":\"white\",\"ticks\":\"\",\"title\":{\"standoff\":15},\"zerolinecolor\":\"white\",\"automargin\":true,\"zerolinewidth\":2},\"scene\":{\"xaxis\":{\"backgroundcolor\":\"#E5ECF6\",\"gridcolor\":\"white\",\"linecolor\":\"white\",\"showbackground\":true,\"ticks\":\"\",\"zerolinecolor\":\"white\",\"gridwidth\":2},\"yaxis\":{\"backgroundcolor\":\"#E5ECF6\",\"gridcolor\":\"white\",\"linecolor\":\"white\",\"showbackground\":true,\"ticks\":\"\",\"zerolinecolor\":\"white\",\"gridwidth\":2},\"zaxis\":{\"backgroundcolor\":\"#E5ECF6\",\"gridcolor\":\"white\",\"linecolor\":\"white\",\"showbackground\":true,\"ticks\":\"\",\"zerolinecolor\":\"white\",\"gridwidth\":2}},\"shapedefaults\":{\"line\":{\"color\":\"#2a3f5f\"}},\"annotationdefaults\":{\"arrowcolor\":\"#2a3f5f\",\"arrowhead\":0,\"arrowwidth\":1},\"geo\":{\"bgcolor\":\"white\",\"landcolor\":\"#E5ECF6\",\"subunitcolor\":\"white\",\"showland\":true,\"showlakes\":true,\"lakecolor\":\"white\"},\"title\":{\"x\":0.05},\"mapbox\":{\"style\":\"light\"}}},\"xaxis\":{\"anchor\":\"y\",\"domain\":[0.0,1.0],\"title\":{\"text\":\"time\"}},\"yaxis\":{\"anchor\":\"x\",\"domain\":[0.0,1.0],\"title\":{\"text\":\"Time\"},\"range\":[0,200]},\"legend\":{\"title\":{\"text\":\"Data Type\"},\"tracegroupgap\":0},\"title\":{\"text\":\"User X Position Over Time\"}},                        {\"responsive\": true}                    ).then(function(){\n",
       "                            \n",
       "var gd = document.getElementById('b71b5049-52da-4d81-82f0-31d163436ee0');\n",
       "var x = new MutationObserver(function (mutations, observer) {{\n",
       "        var display = window.getComputedStyle(gd).display;\n",
       "        if (!display || display === 'none') {{\n",
       "            console.log([gd, 'removed!']);\n",
       "            Plotly.purge(gd);\n",
       "            observer.disconnect();\n",
       "        }}\n",
       "}});\n",
       "\n",
       "// Listen for the removal of the full notebook cells\n",
       "var notebookContainer = gd.closest('#notebook-container');\n",
       "if (notebookContainer) {{\n",
       "    x.observe(notebookContainer, {childList: true});\n",
       "}}\n",
       "\n",
       "// Listen for the clearing of the current output cell\n",
       "var outputEl = gd.closest('.output');\n",
       "if (outputEl) {{\n",
       "    x.observe(outputEl, {childList: true});\n",
       "}}\n",
       "\n",
       "                        })                };                });            </script>        </div>"
      ]
     },
     "metadata": {},
     "output_type": "display_data"
    },
    {
     "data": {
      "application/vnd.plotly.v1+json": {
       "config": {
        "plotlyServerURL": "https://plot.ly"
       },
       "data": [
        {
         "hovertemplate": "Data Type=Prediction<br>time=%{x}<br>Y Position=%{y}<extra></extra>",
         "legendgroup": "Prediction",
         "line": {
          "color": "#636efa",
          "dash": "solid"
         },
         "marker": {
          "symbol": "circle"
         },
         "mode": "lines+markers",
         "name": "Prediction",
         "orientation": "v",
         "showlegend": true,
         "type": "scatter",
         "x": [
          2885,
          2896,
          2924,
          2943,
          3021,
          3038,
          3039,
          3069,
          3070,
          3072,
          3088,
          3089,
          3090,
          3091,
          3092,
          3093,
          3094,
          3095,
          3097,
          3098,
          3099,
          3100,
          3101,
          3102,
          3103,
          3104,
          3107,
          3108,
          3109,
          3110,
          3111,
          3112,
          3114,
          3115,
          3116,
          3117,
          3118,
          3119,
          3133,
          3137,
          3138,
          3140,
          3141,
          3142,
          3143,
          3144,
          3145,
          3155,
          3156,
          3157,
          3158,
          3159,
          3165,
          3166,
          3182,
          3185,
          3199,
          3200,
          3202,
          3208,
          3213,
          3214,
          3217,
          3218,
          3234,
          3237,
          3281,
          3285,
          3286,
          3292,
          3295,
          3296,
          3298,
          3304,
          3308,
          3309,
          3310,
          3311,
          3327,
          3334,
          3343,
          3344,
          3346,
          3356,
          3357,
          3376,
          3386,
          3391,
          3392,
          3406,
          3430,
          3437,
          3439,
          3440,
          3441,
          3442,
          3447,
          3449,
          3450,
          3451,
          3452,
          3453,
          3454,
          3455,
          3457,
          3458,
          3459,
          3460,
          3461,
          3462,
          3472,
          3473,
          3474,
          3475,
          3481,
          3482,
          3483,
          3484,
          3485,
          3486,
          3487,
          3489,
          3490,
          3491,
          3492,
          3493,
          3494,
          3500,
          3501,
          3502,
          3503,
          3504,
          3509,
          3535,
          3537,
          3543,
          3544,
          3547,
          3548,
          3549,
          3550,
          3567,
          3568,
          3569,
          3570,
          3571,
          3572,
          3573,
          3574,
          3575,
          3579,
          3580,
          3591,
          3592,
          3593,
          3594,
          3599
         ],
         "xaxis": "x",
         "y": [
          94,
          94,
          94,
          97,
          94,
          94,
          94,
          94,
          94,
          94,
          94,
          94,
          92,
          94,
          94,
          94,
          92,
          94,
          92,
          94,
          94,
          92,
          94,
          94,
          94,
          94,
          94,
          94,
          94,
          94,
          94,
          94,
          94,
          92,
          94,
          94,
          94,
          94,
          94,
          94,
          94,
          94,
          94,
          94,
          94,
          94,
          94,
          94,
          94,
          94,
          94,
          94,
          94,
          94,
          94,
          92,
          94,
          94,
          92,
          94,
          94,
          94,
          94,
          94,
          94,
          94,
          94,
          94,
          94,
          94,
          94,
          94,
          94,
          94,
          94,
          94,
          94,
          94,
          94,
          94,
          94,
          94,
          92,
          94,
          94,
          94,
          94,
          94,
          94,
          92,
          94,
          94,
          94,
          94,
          94,
          94,
          94,
          94,
          94,
          94,
          94,
          94,
          94,
          94,
          94,
          94,
          94,
          94,
          94,
          94,
          94,
          94,
          94,
          94,
          92,
          94,
          94,
          94,
          94,
          94,
          94,
          94,
          94,
          94,
          94,
          94,
          94,
          94,
          94,
          94,
          94,
          94,
          94,
          94,
          94,
          94,
          94,
          94,
          94,
          94,
          94,
          92,
          94,
          92,
          94,
          97,
          94,
          94,
          92,
          94,
          92,
          94,
          92,
          94,
          94,
          97,
          94
         ],
         "yaxis": "y"
        },
        {
         "hovertemplate": "Data Type=Actual<br>time=%{x}<br>Y Position=%{y}<extra></extra>",
         "legendgroup": "Actual",
         "line": {
          "color": "#EF553B",
          "dash": "solid"
         },
         "marker": {
          "symbol": "circle"
         },
         "mode": "lines+markers",
         "name": "Actual",
         "orientation": "v",
         "showlegend": true,
         "type": "scatter",
         "x": [
          2885,
          2896,
          2924,
          2943,
          3021,
          3038,
          3039,
          3069,
          3070,
          3072,
          3088,
          3089,
          3090,
          3091,
          3092,
          3093,
          3094,
          3095,
          3097,
          3098,
          3099,
          3100,
          3101,
          3102,
          3103,
          3104,
          3107,
          3108,
          3109,
          3110,
          3111,
          3112,
          3114,
          3115,
          3116,
          3117,
          3118,
          3119,
          3133,
          3137,
          3138,
          3140,
          3141,
          3142,
          3143,
          3144,
          3145,
          3155,
          3156,
          3157,
          3158,
          3159,
          3165,
          3166,
          3182,
          3185,
          3199,
          3200,
          3202,
          3208,
          3213,
          3214,
          3217,
          3218,
          3234,
          3237,
          3281,
          3285,
          3286,
          3292,
          3295,
          3296,
          3298,
          3304,
          3308,
          3309,
          3310,
          3311,
          3327,
          3334,
          3343,
          3344,
          3346,
          3356,
          3357,
          3376,
          3386,
          3391,
          3392,
          3406,
          3430,
          3437,
          3439,
          3440,
          3441,
          3442,
          3447,
          3449,
          3450,
          3451,
          3452,
          3453,
          3454,
          3455,
          3457,
          3458,
          3459,
          3460,
          3461,
          3462,
          3472,
          3473,
          3474,
          3475,
          3481,
          3482,
          3483,
          3484,
          3485,
          3486,
          3487,
          3489,
          3490,
          3491,
          3492,
          3493,
          3494,
          3500,
          3501,
          3502,
          3503,
          3504,
          3509,
          3535,
          3537,
          3543,
          3544,
          3547,
          3548,
          3549,
          3550,
          3567,
          3568,
          3569,
          3570,
          3571,
          3572,
          3573,
          3574,
          3575,
          3579,
          3580,
          3591,
          3592,
          3593,
          3594,
          3599
         ],
         "xaxis": "x",
         "y": [
          99,
          98,
          98,
          98,
          106,
          108,
          98,
          98,
          98,
          98,
          106,
          107,
          101,
          100,
          103,
          99,
          99,
          97,
          98,
          99,
          94,
          94,
          94,
          101,
          106,
          107,
          107,
          105,
          98,
          98,
          96,
          94,
          91,
          93,
          94,
          93,
          94,
          93,
          98,
          100,
          100,
          98,
          107,
          108,
          120,
          139,
          170,
          182,
          142,
          124,
          105,
          106,
          106,
          106,
          105,
          98,
          98,
          98,
          99,
          98,
          98,
          98,
          94,
          98,
          98,
          98,
          98,
          99,
          98,
          100,
          98,
          98,
          99,
          98,
          98,
          98,
          89,
          89,
          98,
          98,
          98,
          98,
          98,
          98,
          98,
          98,
          98,
          99,
          98,
          98,
          98,
          98,
          98,
          98,
          98,
          98,
          98,
          98,
          98,
          99,
          99,
          98,
          57,
          45,
          46,
          53,
          73,
          98,
          99,
          98,
          105,
          102,
          102,
          101,
          98,
          101,
          100,
          101,
          107,
          107,
          104,
          103,
          103,
          102,
          101,
          106,
          98,
          102,
          106,
          110,
          95,
          95,
          98,
          98,
          99,
          98,
          98,
          98,
          99,
          98,
          98,
          102,
          106,
          105,
          107,
          131,
          137,
          178,
          182,
          187,
          188,
          188,
          174,
          121,
          108,
          108,
          98
         ],
         "yaxis": "y"
        }
       ],
       "layout": {
        "legend": {
         "title": {
          "text": "Data Type"
         },
         "tracegroupgap": 0
        },
        "template": {
         "data": {
          "bar": [
           {
            "error_x": {
             "color": "#2a3f5f"
            },
            "error_y": {
             "color": "#2a3f5f"
            },
            "marker": {
             "line": {
              "color": "#E5ECF6",
              "width": 0.5
             },
             "pattern": {
              "fillmode": "overlay",
              "size": 10,
              "solidity": 0.2
             }
            },
            "type": "bar"
           }
          ],
          "barpolar": [
           {
            "marker": {
             "line": {
              "color": "#E5ECF6",
              "width": 0.5
             },
             "pattern": {
              "fillmode": "overlay",
              "size": 10,
              "solidity": 0.2
             }
            },
            "type": "barpolar"
           }
          ],
          "carpet": [
           {
            "aaxis": {
             "endlinecolor": "#2a3f5f",
             "gridcolor": "white",
             "linecolor": "white",
             "minorgridcolor": "white",
             "startlinecolor": "#2a3f5f"
            },
            "baxis": {
             "endlinecolor": "#2a3f5f",
             "gridcolor": "white",
             "linecolor": "white",
             "minorgridcolor": "white",
             "startlinecolor": "#2a3f5f"
            },
            "type": "carpet"
           }
          ],
          "choropleth": [
           {
            "colorbar": {
             "outlinewidth": 0,
             "ticks": ""
            },
            "type": "choropleth"
           }
          ],
          "contour": [
           {
            "colorbar": {
             "outlinewidth": 0,
             "ticks": ""
            },
            "colorscale": [
             [
              0,
              "#0d0887"
             ],
             [
              0.1111111111111111,
              "#46039f"
             ],
             [
              0.2222222222222222,
              "#7201a8"
             ],
             [
              0.3333333333333333,
              "#9c179e"
             ],
             [
              0.4444444444444444,
              "#bd3786"
             ],
             [
              0.5555555555555556,
              "#d8576b"
             ],
             [
              0.6666666666666666,
              "#ed7953"
             ],
             [
              0.7777777777777778,
              "#fb9f3a"
             ],
             [
              0.8888888888888888,
              "#fdca26"
             ],
             [
              1,
              "#f0f921"
             ]
            ],
            "type": "contour"
           }
          ],
          "contourcarpet": [
           {
            "colorbar": {
             "outlinewidth": 0,
             "ticks": ""
            },
            "type": "contourcarpet"
           }
          ],
          "heatmap": [
           {
            "colorbar": {
             "outlinewidth": 0,
             "ticks": ""
            },
            "colorscale": [
             [
              0,
              "#0d0887"
             ],
             [
              0.1111111111111111,
              "#46039f"
             ],
             [
              0.2222222222222222,
              "#7201a8"
             ],
             [
              0.3333333333333333,
              "#9c179e"
             ],
             [
              0.4444444444444444,
              "#bd3786"
             ],
             [
              0.5555555555555556,
              "#d8576b"
             ],
             [
              0.6666666666666666,
              "#ed7953"
             ],
             [
              0.7777777777777778,
              "#fb9f3a"
             ],
             [
              0.8888888888888888,
              "#fdca26"
             ],
             [
              1,
              "#f0f921"
             ]
            ],
            "type": "heatmap"
           }
          ],
          "heatmapgl": [
           {
            "colorbar": {
             "outlinewidth": 0,
             "ticks": ""
            },
            "colorscale": [
             [
              0,
              "#0d0887"
             ],
             [
              0.1111111111111111,
              "#46039f"
             ],
             [
              0.2222222222222222,
              "#7201a8"
             ],
             [
              0.3333333333333333,
              "#9c179e"
             ],
             [
              0.4444444444444444,
              "#bd3786"
             ],
             [
              0.5555555555555556,
              "#d8576b"
             ],
             [
              0.6666666666666666,
              "#ed7953"
             ],
             [
              0.7777777777777778,
              "#fb9f3a"
             ],
             [
              0.8888888888888888,
              "#fdca26"
             ],
             [
              1,
              "#f0f921"
             ]
            ],
            "type": "heatmapgl"
           }
          ],
          "histogram": [
           {
            "marker": {
             "pattern": {
              "fillmode": "overlay",
              "size": 10,
              "solidity": 0.2
             }
            },
            "type": "histogram"
           }
          ],
          "histogram2d": [
           {
            "colorbar": {
             "outlinewidth": 0,
             "ticks": ""
            },
            "colorscale": [
             [
              0,
              "#0d0887"
             ],
             [
              0.1111111111111111,
              "#46039f"
             ],
             [
              0.2222222222222222,
              "#7201a8"
             ],
             [
              0.3333333333333333,
              "#9c179e"
             ],
             [
              0.4444444444444444,
              "#bd3786"
             ],
             [
              0.5555555555555556,
              "#d8576b"
             ],
             [
              0.6666666666666666,
              "#ed7953"
             ],
             [
              0.7777777777777778,
              "#fb9f3a"
             ],
             [
              0.8888888888888888,
              "#fdca26"
             ],
             [
              1,
              "#f0f921"
             ]
            ],
            "type": "histogram2d"
           }
          ],
          "histogram2dcontour": [
           {
            "colorbar": {
             "outlinewidth": 0,
             "ticks": ""
            },
            "colorscale": [
             [
              0,
              "#0d0887"
             ],
             [
              0.1111111111111111,
              "#46039f"
             ],
             [
              0.2222222222222222,
              "#7201a8"
             ],
             [
              0.3333333333333333,
              "#9c179e"
             ],
             [
              0.4444444444444444,
              "#bd3786"
             ],
             [
              0.5555555555555556,
              "#d8576b"
             ],
             [
              0.6666666666666666,
              "#ed7953"
             ],
             [
              0.7777777777777778,
              "#fb9f3a"
             ],
             [
              0.8888888888888888,
              "#fdca26"
             ],
             [
              1,
              "#f0f921"
             ]
            ],
            "type": "histogram2dcontour"
           }
          ],
          "mesh3d": [
           {
            "colorbar": {
             "outlinewidth": 0,
             "ticks": ""
            },
            "type": "mesh3d"
           }
          ],
          "parcoords": [
           {
            "line": {
             "colorbar": {
              "outlinewidth": 0,
              "ticks": ""
             }
            },
            "type": "parcoords"
           }
          ],
          "pie": [
           {
            "automargin": true,
            "type": "pie"
           }
          ],
          "scatter": [
           {
            "fillpattern": {
             "fillmode": "overlay",
             "size": 10,
             "solidity": 0.2
            },
            "type": "scatter"
           }
          ],
          "scatter3d": [
           {
            "line": {
             "colorbar": {
              "outlinewidth": 0,
              "ticks": ""
             }
            },
            "marker": {
             "colorbar": {
              "outlinewidth": 0,
              "ticks": ""
             }
            },
            "type": "scatter3d"
           }
          ],
          "scattercarpet": [
           {
            "marker": {
             "colorbar": {
              "outlinewidth": 0,
              "ticks": ""
             }
            },
            "type": "scattercarpet"
           }
          ],
          "scattergeo": [
           {
            "marker": {
             "colorbar": {
              "outlinewidth": 0,
              "ticks": ""
             }
            },
            "type": "scattergeo"
           }
          ],
          "scattergl": [
           {
            "marker": {
             "colorbar": {
              "outlinewidth": 0,
              "ticks": ""
             }
            },
            "type": "scattergl"
           }
          ],
          "scattermapbox": [
           {
            "marker": {
             "colorbar": {
              "outlinewidth": 0,
              "ticks": ""
             }
            },
            "type": "scattermapbox"
           }
          ],
          "scatterpolar": [
           {
            "marker": {
             "colorbar": {
              "outlinewidth": 0,
              "ticks": ""
             }
            },
            "type": "scatterpolar"
           }
          ],
          "scatterpolargl": [
           {
            "marker": {
             "colorbar": {
              "outlinewidth": 0,
              "ticks": ""
             }
            },
            "type": "scatterpolargl"
           }
          ],
          "scatterternary": [
           {
            "marker": {
             "colorbar": {
              "outlinewidth": 0,
              "ticks": ""
             }
            },
            "type": "scatterternary"
           }
          ],
          "surface": [
           {
            "colorbar": {
             "outlinewidth": 0,
             "ticks": ""
            },
            "colorscale": [
             [
              0,
              "#0d0887"
             ],
             [
              0.1111111111111111,
              "#46039f"
             ],
             [
              0.2222222222222222,
              "#7201a8"
             ],
             [
              0.3333333333333333,
              "#9c179e"
             ],
             [
              0.4444444444444444,
              "#bd3786"
             ],
             [
              0.5555555555555556,
              "#d8576b"
             ],
             [
              0.6666666666666666,
              "#ed7953"
             ],
             [
              0.7777777777777778,
              "#fb9f3a"
             ],
             [
              0.8888888888888888,
              "#fdca26"
             ],
             [
              1,
              "#f0f921"
             ]
            ],
            "type": "surface"
           }
          ],
          "table": [
           {
            "cells": {
             "fill": {
              "color": "#EBF0F8"
             },
             "line": {
              "color": "white"
             }
            },
            "header": {
             "fill": {
              "color": "#C8D4E3"
             },
             "line": {
              "color": "white"
             }
            },
            "type": "table"
           }
          ]
         },
         "layout": {
          "annotationdefaults": {
           "arrowcolor": "#2a3f5f",
           "arrowhead": 0,
           "arrowwidth": 1
          },
          "autotypenumbers": "strict",
          "coloraxis": {
           "colorbar": {
            "outlinewidth": 0,
            "ticks": ""
           }
          },
          "colorscale": {
           "diverging": [
            [
             0,
             "#8e0152"
            ],
            [
             0.1,
             "#c51b7d"
            ],
            [
             0.2,
             "#de77ae"
            ],
            [
             0.3,
             "#f1b6da"
            ],
            [
             0.4,
             "#fde0ef"
            ],
            [
             0.5,
             "#f7f7f7"
            ],
            [
             0.6,
             "#e6f5d0"
            ],
            [
             0.7,
             "#b8e186"
            ],
            [
             0.8,
             "#7fbc41"
            ],
            [
             0.9,
             "#4d9221"
            ],
            [
             1,
             "#276419"
            ]
           ],
           "sequential": [
            [
             0,
             "#0d0887"
            ],
            [
             0.1111111111111111,
             "#46039f"
            ],
            [
             0.2222222222222222,
             "#7201a8"
            ],
            [
             0.3333333333333333,
             "#9c179e"
            ],
            [
             0.4444444444444444,
             "#bd3786"
            ],
            [
             0.5555555555555556,
             "#d8576b"
            ],
            [
             0.6666666666666666,
             "#ed7953"
            ],
            [
             0.7777777777777778,
             "#fb9f3a"
            ],
            [
             0.8888888888888888,
             "#fdca26"
            ],
            [
             1,
             "#f0f921"
            ]
           ],
           "sequentialminus": [
            [
             0,
             "#0d0887"
            ],
            [
             0.1111111111111111,
             "#46039f"
            ],
            [
             0.2222222222222222,
             "#7201a8"
            ],
            [
             0.3333333333333333,
             "#9c179e"
            ],
            [
             0.4444444444444444,
             "#bd3786"
            ],
            [
             0.5555555555555556,
             "#d8576b"
            ],
            [
             0.6666666666666666,
             "#ed7953"
            ],
            [
             0.7777777777777778,
             "#fb9f3a"
            ],
            [
             0.8888888888888888,
             "#fdca26"
            ],
            [
             1,
             "#f0f921"
            ]
           ]
          },
          "colorway": [
           "#636efa",
           "#EF553B",
           "#00cc96",
           "#ab63fa",
           "#FFA15A",
           "#19d3f3",
           "#FF6692",
           "#B6E880",
           "#FF97FF",
           "#FECB52"
          ],
          "font": {
           "color": "#2a3f5f"
          },
          "geo": {
           "bgcolor": "white",
           "lakecolor": "white",
           "landcolor": "#E5ECF6",
           "showlakes": true,
           "showland": true,
           "subunitcolor": "white"
          },
          "hoverlabel": {
           "align": "left"
          },
          "hovermode": "closest",
          "mapbox": {
           "style": "light"
          },
          "paper_bgcolor": "white",
          "plot_bgcolor": "#E5ECF6",
          "polar": {
           "angularaxis": {
            "gridcolor": "white",
            "linecolor": "white",
            "ticks": ""
           },
           "bgcolor": "#E5ECF6",
           "radialaxis": {
            "gridcolor": "white",
            "linecolor": "white",
            "ticks": ""
           }
          },
          "scene": {
           "xaxis": {
            "backgroundcolor": "#E5ECF6",
            "gridcolor": "white",
            "gridwidth": 2,
            "linecolor": "white",
            "showbackground": true,
            "ticks": "",
            "zerolinecolor": "white"
           },
           "yaxis": {
            "backgroundcolor": "#E5ECF6",
            "gridcolor": "white",
            "gridwidth": 2,
            "linecolor": "white",
            "showbackground": true,
            "ticks": "",
            "zerolinecolor": "white"
           },
           "zaxis": {
            "backgroundcolor": "#E5ECF6",
            "gridcolor": "white",
            "gridwidth": 2,
            "linecolor": "white",
            "showbackground": true,
            "ticks": "",
            "zerolinecolor": "white"
           }
          },
          "shapedefaults": {
           "line": {
            "color": "#2a3f5f"
           }
          },
          "ternary": {
           "aaxis": {
            "gridcolor": "white",
            "linecolor": "white",
            "ticks": ""
           },
           "baxis": {
            "gridcolor": "white",
            "linecolor": "white",
            "ticks": ""
           },
           "bgcolor": "#E5ECF6",
           "caxis": {
            "gridcolor": "white",
            "linecolor": "white",
            "ticks": ""
           }
          },
          "title": {
           "x": 0.05
          },
          "xaxis": {
           "automargin": true,
           "gridcolor": "white",
           "linecolor": "white",
           "ticks": "",
           "title": {
            "standoff": 15
           },
           "zerolinecolor": "white",
           "zerolinewidth": 2
          },
          "yaxis": {
           "automargin": true,
           "gridcolor": "white",
           "linecolor": "white",
           "ticks": "",
           "title": {
            "standoff": 15
           },
           "zerolinecolor": "white",
           "zerolinewidth": 2
          }
         }
        },
        "title": {
         "text": "User Y Position Over Time"
        },
        "xaxis": {
         "anchor": "y",
         "domain": [
          0,
          1
         ],
         "title": {
          "text": "time"
         }
        },
        "yaxis": {
         "anchor": "x",
         "domain": [
          0,
          1
         ],
         "range": [
          0,
          200
         ],
         "title": {
          "text": "Y Position"
         }
        }
       }
      },
      "text/html": [
       "<div>                            <div id=\"4816cb37-17c8-46b5-a973-e64e3d5c3aae\" class=\"plotly-graph-div\" style=\"height:525px; width:100%;\"></div>            <script type=\"text/javascript\">                require([\"plotly\"], function(Plotly) {                    window.PLOTLYENV=window.PLOTLYENV || {};                                    if (document.getElementById(\"4816cb37-17c8-46b5-a973-e64e3d5c3aae\")) {                    Plotly.newPlot(                        \"4816cb37-17c8-46b5-a973-e64e3d5c3aae\",                        [{\"hovertemplate\":\"Data Type=Prediction\\u003cbr\\u003etime=%{x}\\u003cbr\\u003eY Position=%{y}\\u003cextra\\u003e\\u003c\\u002fextra\\u003e\",\"legendgroup\":\"Prediction\",\"line\":{\"color\":\"#636efa\",\"dash\":\"solid\"},\"marker\":{\"symbol\":\"circle\"},\"mode\":\"lines+markers\",\"name\":\"Prediction\",\"orientation\":\"v\",\"showlegend\":true,\"x\":[2885,2896,2924,2943,3021,3038,3039,3069,3070,3072,3088,3089,3090,3091,3092,3093,3094,3095,3097,3098,3099,3100,3101,3102,3103,3104,3107,3108,3109,3110,3111,3112,3114,3115,3116,3117,3118,3119,3133,3137,3138,3140,3141,3142,3143,3144,3145,3155,3156,3157,3158,3159,3165,3166,3182,3185,3199,3200,3202,3208,3213,3214,3217,3218,3234,3237,3281,3285,3286,3292,3295,3296,3298,3304,3308,3309,3310,3311,3327,3334,3343,3344,3346,3356,3357,3376,3386,3391,3392,3406,3430,3437,3439,3440,3441,3442,3447,3449,3450,3451,3452,3453,3454,3455,3457,3458,3459,3460,3461,3462,3472,3473,3474,3475,3481,3482,3483,3484,3485,3486,3487,3489,3490,3491,3492,3493,3494,3500,3501,3502,3503,3504,3509,3535,3537,3543,3544,3547,3548,3549,3550,3567,3568,3569,3570,3571,3572,3573,3574,3575,3579,3580,3591,3592,3593,3594,3599],\"xaxis\":\"x\",\"y\":[94,94,94,97,94,94,94,94,94,94,94,94,92,94,94,94,92,94,92,94,94,92,94,94,94,94,94,94,94,94,94,94,94,92,94,94,94,94,94,94,94,94,94,94,94,94,94,94,94,94,94,94,94,94,94,92,94,94,92,94,94,94,94,94,94,94,94,94,94,94,94,94,94,94,94,94,94,94,94,94,94,94,92,94,94,94,94,94,94,92,94,94,94,94,94,94,94,94,94,94,94,94,94,94,94,94,94,94,94,94,94,94,94,94,92,94,94,94,94,94,94,94,94,94,94,94,94,94,94,94,94,94,94,94,94,94,94,94,94,94,94,92,94,92,94,97,94,94,92,94,92,94,92,94,94,97,94],\"yaxis\":\"y\",\"type\":\"scatter\"},{\"hovertemplate\":\"Data Type=Actual\\u003cbr\\u003etime=%{x}\\u003cbr\\u003eY Position=%{y}\\u003cextra\\u003e\\u003c\\u002fextra\\u003e\",\"legendgroup\":\"Actual\",\"line\":{\"color\":\"#EF553B\",\"dash\":\"solid\"},\"marker\":{\"symbol\":\"circle\"},\"mode\":\"lines+markers\",\"name\":\"Actual\",\"orientation\":\"v\",\"showlegend\":true,\"x\":[2885,2896,2924,2943,3021,3038,3039,3069,3070,3072,3088,3089,3090,3091,3092,3093,3094,3095,3097,3098,3099,3100,3101,3102,3103,3104,3107,3108,3109,3110,3111,3112,3114,3115,3116,3117,3118,3119,3133,3137,3138,3140,3141,3142,3143,3144,3145,3155,3156,3157,3158,3159,3165,3166,3182,3185,3199,3200,3202,3208,3213,3214,3217,3218,3234,3237,3281,3285,3286,3292,3295,3296,3298,3304,3308,3309,3310,3311,3327,3334,3343,3344,3346,3356,3357,3376,3386,3391,3392,3406,3430,3437,3439,3440,3441,3442,3447,3449,3450,3451,3452,3453,3454,3455,3457,3458,3459,3460,3461,3462,3472,3473,3474,3475,3481,3482,3483,3484,3485,3486,3487,3489,3490,3491,3492,3493,3494,3500,3501,3502,3503,3504,3509,3535,3537,3543,3544,3547,3548,3549,3550,3567,3568,3569,3570,3571,3572,3573,3574,3575,3579,3580,3591,3592,3593,3594,3599],\"xaxis\":\"x\",\"y\":[99,98,98,98,106,108,98,98,98,98,106,107,101,100,103,99,99,97,98,99,94,94,94,101,106,107,107,105,98,98,96,94,91,93,94,93,94,93,98,100,100,98,107,108,120,139,170,182,142,124,105,106,106,106,105,98,98,98,99,98,98,98,94,98,98,98,98,99,98,100,98,98,99,98,98,98,89,89,98,98,98,98,98,98,98,98,98,99,98,98,98,98,98,98,98,98,98,98,98,99,99,98,57,45,46,53,73,98,99,98,105,102,102,101,98,101,100,101,107,107,104,103,103,102,101,106,98,102,106,110,95,95,98,98,99,98,98,98,99,98,98,102,106,105,107,131,137,178,182,187,188,188,174,121,108,108,98],\"yaxis\":\"y\",\"type\":\"scatter\"}],                        {\"template\":{\"data\":{\"histogram2dcontour\":[{\"type\":\"histogram2dcontour\",\"colorbar\":{\"outlinewidth\":0,\"ticks\":\"\"},\"colorscale\":[[0.0,\"#0d0887\"],[0.1111111111111111,\"#46039f\"],[0.2222222222222222,\"#7201a8\"],[0.3333333333333333,\"#9c179e\"],[0.4444444444444444,\"#bd3786\"],[0.5555555555555556,\"#d8576b\"],[0.6666666666666666,\"#ed7953\"],[0.7777777777777778,\"#fb9f3a\"],[0.8888888888888888,\"#fdca26\"],[1.0,\"#f0f921\"]]}],\"choropleth\":[{\"type\":\"choropleth\",\"colorbar\":{\"outlinewidth\":0,\"ticks\":\"\"}}],\"histogram2d\":[{\"type\":\"histogram2d\",\"colorbar\":{\"outlinewidth\":0,\"ticks\":\"\"},\"colorscale\":[[0.0,\"#0d0887\"],[0.1111111111111111,\"#46039f\"],[0.2222222222222222,\"#7201a8\"],[0.3333333333333333,\"#9c179e\"],[0.4444444444444444,\"#bd3786\"],[0.5555555555555556,\"#d8576b\"],[0.6666666666666666,\"#ed7953\"],[0.7777777777777778,\"#fb9f3a\"],[0.8888888888888888,\"#fdca26\"],[1.0,\"#f0f921\"]]}],\"heatmap\":[{\"type\":\"heatmap\",\"colorbar\":{\"outlinewidth\":0,\"ticks\":\"\"},\"colorscale\":[[0.0,\"#0d0887\"],[0.1111111111111111,\"#46039f\"],[0.2222222222222222,\"#7201a8\"],[0.3333333333333333,\"#9c179e\"],[0.4444444444444444,\"#bd3786\"],[0.5555555555555556,\"#d8576b\"],[0.6666666666666666,\"#ed7953\"],[0.7777777777777778,\"#fb9f3a\"],[0.8888888888888888,\"#fdca26\"],[1.0,\"#f0f921\"]]}],\"heatmapgl\":[{\"type\":\"heatmapgl\",\"colorbar\":{\"outlinewidth\":0,\"ticks\":\"\"},\"colorscale\":[[0.0,\"#0d0887\"],[0.1111111111111111,\"#46039f\"],[0.2222222222222222,\"#7201a8\"],[0.3333333333333333,\"#9c179e\"],[0.4444444444444444,\"#bd3786\"],[0.5555555555555556,\"#d8576b\"],[0.6666666666666666,\"#ed7953\"],[0.7777777777777778,\"#fb9f3a\"],[0.8888888888888888,\"#fdca26\"],[1.0,\"#f0f921\"]]}],\"contourcarpet\":[{\"type\":\"contourcarpet\",\"colorbar\":{\"outlinewidth\":0,\"ticks\":\"\"}}],\"contour\":[{\"type\":\"contour\",\"colorbar\":{\"outlinewidth\":0,\"ticks\":\"\"},\"colorscale\":[[0.0,\"#0d0887\"],[0.1111111111111111,\"#46039f\"],[0.2222222222222222,\"#7201a8\"],[0.3333333333333333,\"#9c179e\"],[0.4444444444444444,\"#bd3786\"],[0.5555555555555556,\"#d8576b\"],[0.6666666666666666,\"#ed7953\"],[0.7777777777777778,\"#fb9f3a\"],[0.8888888888888888,\"#fdca26\"],[1.0,\"#f0f921\"]]}],\"surface\":[{\"type\":\"surface\",\"colorbar\":{\"outlinewidth\":0,\"ticks\":\"\"},\"colorscale\":[[0.0,\"#0d0887\"],[0.1111111111111111,\"#46039f\"],[0.2222222222222222,\"#7201a8\"],[0.3333333333333333,\"#9c179e\"],[0.4444444444444444,\"#bd3786\"],[0.5555555555555556,\"#d8576b\"],[0.6666666666666666,\"#ed7953\"],[0.7777777777777778,\"#fb9f3a\"],[0.8888888888888888,\"#fdca26\"],[1.0,\"#f0f921\"]]}],\"mesh3d\":[{\"type\":\"mesh3d\",\"colorbar\":{\"outlinewidth\":0,\"ticks\":\"\"}}],\"scatter\":[{\"fillpattern\":{\"fillmode\":\"overlay\",\"size\":10,\"solidity\":0.2},\"type\":\"scatter\"}],\"parcoords\":[{\"type\":\"parcoords\",\"line\":{\"colorbar\":{\"outlinewidth\":0,\"ticks\":\"\"}}}],\"scatterpolargl\":[{\"type\":\"scatterpolargl\",\"marker\":{\"colorbar\":{\"outlinewidth\":0,\"ticks\":\"\"}}}],\"bar\":[{\"error_x\":{\"color\":\"#2a3f5f\"},\"error_y\":{\"color\":\"#2a3f5f\"},\"marker\":{\"line\":{\"color\":\"#E5ECF6\",\"width\":0.5},\"pattern\":{\"fillmode\":\"overlay\",\"size\":10,\"solidity\":0.2}},\"type\":\"bar\"}],\"scattergeo\":[{\"type\":\"scattergeo\",\"marker\":{\"colorbar\":{\"outlinewidth\":0,\"ticks\":\"\"}}}],\"scatterpolar\":[{\"type\":\"scatterpolar\",\"marker\":{\"colorbar\":{\"outlinewidth\":0,\"ticks\":\"\"}}}],\"histogram\":[{\"marker\":{\"pattern\":{\"fillmode\":\"overlay\",\"size\":10,\"solidity\":0.2}},\"type\":\"histogram\"}],\"scattergl\":[{\"type\":\"scattergl\",\"marker\":{\"colorbar\":{\"outlinewidth\":0,\"ticks\":\"\"}}}],\"scatter3d\":[{\"type\":\"scatter3d\",\"line\":{\"colorbar\":{\"outlinewidth\":0,\"ticks\":\"\"}},\"marker\":{\"colorbar\":{\"outlinewidth\":0,\"ticks\":\"\"}}}],\"scattermapbox\":[{\"type\":\"scattermapbox\",\"marker\":{\"colorbar\":{\"outlinewidth\":0,\"ticks\":\"\"}}}],\"scatterternary\":[{\"type\":\"scatterternary\",\"marker\":{\"colorbar\":{\"outlinewidth\":0,\"ticks\":\"\"}}}],\"scattercarpet\":[{\"type\":\"scattercarpet\",\"marker\":{\"colorbar\":{\"outlinewidth\":0,\"ticks\":\"\"}}}],\"carpet\":[{\"aaxis\":{\"endlinecolor\":\"#2a3f5f\",\"gridcolor\":\"white\",\"linecolor\":\"white\",\"minorgridcolor\":\"white\",\"startlinecolor\":\"#2a3f5f\"},\"baxis\":{\"endlinecolor\":\"#2a3f5f\",\"gridcolor\":\"white\",\"linecolor\":\"white\",\"minorgridcolor\":\"white\",\"startlinecolor\":\"#2a3f5f\"},\"type\":\"carpet\"}],\"table\":[{\"cells\":{\"fill\":{\"color\":\"#EBF0F8\"},\"line\":{\"color\":\"white\"}},\"header\":{\"fill\":{\"color\":\"#C8D4E3\"},\"line\":{\"color\":\"white\"}},\"type\":\"table\"}],\"barpolar\":[{\"marker\":{\"line\":{\"color\":\"#E5ECF6\",\"width\":0.5},\"pattern\":{\"fillmode\":\"overlay\",\"size\":10,\"solidity\":0.2}},\"type\":\"barpolar\"}],\"pie\":[{\"automargin\":true,\"type\":\"pie\"}]},\"layout\":{\"autotypenumbers\":\"strict\",\"colorway\":[\"#636efa\",\"#EF553B\",\"#00cc96\",\"#ab63fa\",\"#FFA15A\",\"#19d3f3\",\"#FF6692\",\"#B6E880\",\"#FF97FF\",\"#FECB52\"],\"font\":{\"color\":\"#2a3f5f\"},\"hovermode\":\"closest\",\"hoverlabel\":{\"align\":\"left\"},\"paper_bgcolor\":\"white\",\"plot_bgcolor\":\"#E5ECF6\",\"polar\":{\"bgcolor\":\"#E5ECF6\",\"angularaxis\":{\"gridcolor\":\"white\",\"linecolor\":\"white\",\"ticks\":\"\"},\"radialaxis\":{\"gridcolor\":\"white\",\"linecolor\":\"white\",\"ticks\":\"\"}},\"ternary\":{\"bgcolor\":\"#E5ECF6\",\"aaxis\":{\"gridcolor\":\"white\",\"linecolor\":\"white\",\"ticks\":\"\"},\"baxis\":{\"gridcolor\":\"white\",\"linecolor\":\"white\",\"ticks\":\"\"},\"caxis\":{\"gridcolor\":\"white\",\"linecolor\":\"white\",\"ticks\":\"\"}},\"coloraxis\":{\"colorbar\":{\"outlinewidth\":0,\"ticks\":\"\"}},\"colorscale\":{\"sequential\":[[0.0,\"#0d0887\"],[0.1111111111111111,\"#46039f\"],[0.2222222222222222,\"#7201a8\"],[0.3333333333333333,\"#9c179e\"],[0.4444444444444444,\"#bd3786\"],[0.5555555555555556,\"#d8576b\"],[0.6666666666666666,\"#ed7953\"],[0.7777777777777778,\"#fb9f3a\"],[0.8888888888888888,\"#fdca26\"],[1.0,\"#f0f921\"]],\"sequentialminus\":[[0.0,\"#0d0887\"],[0.1111111111111111,\"#46039f\"],[0.2222222222222222,\"#7201a8\"],[0.3333333333333333,\"#9c179e\"],[0.4444444444444444,\"#bd3786\"],[0.5555555555555556,\"#d8576b\"],[0.6666666666666666,\"#ed7953\"],[0.7777777777777778,\"#fb9f3a\"],[0.8888888888888888,\"#fdca26\"],[1.0,\"#f0f921\"]],\"diverging\":[[0,\"#8e0152\"],[0.1,\"#c51b7d\"],[0.2,\"#de77ae\"],[0.3,\"#f1b6da\"],[0.4,\"#fde0ef\"],[0.5,\"#f7f7f7\"],[0.6,\"#e6f5d0\"],[0.7,\"#b8e186\"],[0.8,\"#7fbc41\"],[0.9,\"#4d9221\"],[1,\"#276419\"]]},\"xaxis\":{\"gridcolor\":\"white\",\"linecolor\":\"white\",\"ticks\":\"\",\"title\":{\"standoff\":15},\"zerolinecolor\":\"white\",\"automargin\":true,\"zerolinewidth\":2},\"yaxis\":{\"gridcolor\":\"white\",\"linecolor\":\"white\",\"ticks\":\"\",\"title\":{\"standoff\":15},\"zerolinecolor\":\"white\",\"automargin\":true,\"zerolinewidth\":2},\"scene\":{\"xaxis\":{\"backgroundcolor\":\"#E5ECF6\",\"gridcolor\":\"white\",\"linecolor\":\"white\",\"showbackground\":true,\"ticks\":\"\",\"zerolinecolor\":\"white\",\"gridwidth\":2},\"yaxis\":{\"backgroundcolor\":\"#E5ECF6\",\"gridcolor\":\"white\",\"linecolor\":\"white\",\"showbackground\":true,\"ticks\":\"\",\"zerolinecolor\":\"white\",\"gridwidth\":2},\"zaxis\":{\"backgroundcolor\":\"#E5ECF6\",\"gridcolor\":\"white\",\"linecolor\":\"white\",\"showbackground\":true,\"ticks\":\"\",\"zerolinecolor\":\"white\",\"gridwidth\":2}},\"shapedefaults\":{\"line\":{\"color\":\"#2a3f5f\"}},\"annotationdefaults\":{\"arrowcolor\":\"#2a3f5f\",\"arrowhead\":0,\"arrowwidth\":1},\"geo\":{\"bgcolor\":\"white\",\"landcolor\":\"#E5ECF6\",\"subunitcolor\":\"white\",\"showland\":true,\"showlakes\":true,\"lakecolor\":\"white\"},\"title\":{\"x\":0.05},\"mapbox\":{\"style\":\"light\"}}},\"xaxis\":{\"anchor\":\"y\",\"domain\":[0.0,1.0],\"title\":{\"text\":\"time\"}},\"yaxis\":{\"anchor\":\"x\",\"domain\":[0.0,1.0],\"title\":{\"text\":\"Y Position\"},\"range\":[0,200]},\"legend\":{\"title\":{\"text\":\"Data Type\"},\"tracegroupgap\":0},\"title\":{\"text\":\"User Y Position Over Time\"}},                        {\"responsive\": true}                    ).then(function(){\n",
       "                            \n",
       "var gd = document.getElementById('4816cb37-17c8-46b5-a973-e64e3d5c3aae');\n",
       "var x = new MutationObserver(function (mutations, observer) {{\n",
       "        var display = window.getComputedStyle(gd).display;\n",
       "        if (!display || display === 'none') {{\n",
       "            console.log([gd, 'removed!']);\n",
       "            Plotly.purge(gd);\n",
       "            observer.disconnect();\n",
       "        }}\n",
       "}});\n",
       "\n",
       "// Listen for the removal of the full notebook cells\n",
       "var notebookContainer = gd.closest('#notebook-container');\n",
       "if (notebookContainer) {{\n",
       "    x.observe(notebookContainer, {childList: true});\n",
       "}}\n",
       "\n",
       "// Listen for the clearing of the current output cell\n",
       "var outputEl = gd.closest('.output');\n",
       "if (outputEl) {{\n",
       "    x.observe(outputEl, {childList: true});\n",
       "}}\n",
       "\n",
       "                        })                };                });            </script>        </div>"
      ]
     },
     "metadata": {},
     "output_type": "display_data"
    }
   ],
   "source": [
    "plot_xy_trajectory_submit(subsB, test_case)"
   ]
  },
  {
   "cell_type": "code",
   "execution_count": null,
   "metadata": {},
   "outputs": [],
   "source": []
  }
 ],
 "metadata": {
  "kernelspec": {
   "display_name": "base",
   "language": "python",
   "name": "python3"
  },
  "language_info": {
   "codemirror_mode": {
    "name": "ipython",
    "version": 3
   },
   "file_extension": ".py",
   "mimetype": "text/x-python",
   "name": "python",
   "nbconvert_exporter": "python",
   "pygments_lexer": "ipython3",
   "version": "3.10.13"
  }
 },
 "nbformat": 4,
 "nbformat_minor": 2
}
