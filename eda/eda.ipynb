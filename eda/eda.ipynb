{
 "cells": [
  {
   "cell_type": "markdown",
   "metadata": {},
   "source": [
    "# Import"
   ]
  },
  {
   "cell_type": "code",
   "execution_count": 3,
   "metadata": {},
   "outputs": [],
   "source": [
    "import polars as pl"
   ]
  },
  {
   "cell_type": "markdown",
   "metadata": {},
   "source": [
    "# Utils"
   ]
  },
  {
   "cell_type": "code",
   "execution_count": 23,
   "metadata": {},
   "outputs": [],
   "source": [
    "def check_pk(df_pl: pl.DataFrame, cols: list) -> None:\n",
    "\n",
    "    # 重複のない組み合わせの数\n",
    "    unique_combinations = df_pl.unique(subset=cols).height\n",
    "\n",
    "    # データ全体の行数\n",
    "    total_rows = len(df_pl)\n",
    "\n",
    "   # 比較して一意性を確認\n",
    "    if unique_combinations == total_rows:\n",
    "        print(f\"{', '.join(cols)} の組み合わせは一意であり、PKとして使用できます。\")\n",
    "    else:\n",
    "        print(f\"{', '.join(cols)} の組み合わせには重複があります。重複している行数は {total_rows - unique_combinations} 行です。\")"
   ]
  },
  {
   "cell_type": "code",
   "execution_count": 56,
   "metadata": {},
   "outputs": [],
   "source": [
    "def check_n_unique(df_pl: pl.DataFrame, col: str) -> None:\n",
    "\n",
    "    _n_unique = df_pl[col].n_unique()\n",
    "    print(f\"{col}のユニーク件数： {_n_unique}\")"
   ]
  },
  {
   "cell_type": "markdown",
   "metadata": {},
   "source": [
    "# Dataset"
   ]
  },
  {
   "cell_type": "markdown",
   "metadata": {},
   "source": [
    "## 2024年データセット\n",
    "\n",
    "## データセットと課題の概要\n",
    "\n",
    "### 1. データセットの概要\n",
    "- **都市とグリッド**: \n",
    "  - データは、4つの都市（A、B、C、D）の500メートル x 500メートルのグリッドに分割されています。それぞれの都市は、200 x 200のグリッド（合計40,000セル）でカバーされています。\n",
    "- **期間と時間間隔**:\n",
    "  - 人々の移動データは、75日間にわたって収集されています。時間は30分ごとに区切られており、各グリッドセルにおける人々の位置が記録されています。\n",
    "- **個人の移動データ**:\n",
    "  - 都市Aでは10万人、都市Bでは2万5000人、都市Cでは2万人、都市Dでは6000人の個人の移動データが収集されています。これらのデータは、それぞれの日ごとに30分間隔で記録されています。\n",
    "\n",
    "### 2. 課題の概要\n",
    "- **予測対象**:\n",
    "  - 課題は、都市B、C、Dの各都市において、特定の3000人の移動を、61日目から75日目まで予測することです。\n",
    "- **利用可能なデータ**:\n",
    "  - 都市Aの全75日間の移動データ（10万人分）が提供されています。また、都市B、C、Dのデータも、各都市についてそれぞれの人口のデータが提供されています。ただし、予測対象の都市において61日目から75日目の特定の個人の位置はマスクされており、これらの位置が '999' という特殊なセル番号で示されています。\n",
    "- **データの選択と活用**:\n",
    "  - 予測に使用するデータの選択は自由であり、例えば都市Bの予測には都市Bの1日目から60日目のデータのみを使用することもできます。また、他の都市のデータ（例：都市A）を使用して予測精度を向上させることも可能ですが、それが必ずしも有効とは限りません。\n",
    "\n",
    "### 3. 補足情報（POIデータ）\n",
    "- **ポイントオブインタレスト（POI）データ**:\n",
    "  - 各グリッドセルに関連付けられたポイントオブインタレスト（POI）の情報が提供されています。POIは、レストランや公園など、約85種類のカテゴリーに分類されています。この情報は、移動パターンの背景を理解し、予測モデルの改善に役立てることができます。\n",
    "- **POIデータの形式**:\n",
    "  - 各都市のグリッドセルに対して、約85次元のベクトルとしてPOIデータが提供されています。これらのデータは、例えば都市Aについては `POIdata_cityA` として提供されています。\n",
    "\n",
    "### 4. データ利用の戦略\n",
    "- **都市Aのデータ利用**:\n",
    "  - 都市Aの完全なデータセットを利用して、移動パターンや行動モデルを学習することが可能です。これを基に他の都市（B、C、D）の移動を予測するアプローチが考えられます。\n",
    "- **他都市のデータの組み合わせ**:\n",
    "  - 都市B、C、Dのデータをどのように組み合わせて予測するかが戦略の鍵となります。都市ごとの特徴やPOIの分布を考慮して、どのデータを使うかを決定します。\n",
    "- **POIデータの活用**:\n",
    "  - POIデータを使って、特定のグリッドセルに人が集まりやすい時間帯や場所をモデルに組み込むことができます。これにより、より精度の高い予測が期待できます。\n",
    "\n",
    "### 5. 目的と挑戦\n",
    "- **目的**:\n",
    "  - このチャレンジの目的は、都市ごとの人々の移動パターンを予測することであり、特に指定された期間における移動予測の精度を競うことです。\n",
    "- **挑戦**:\n",
    "  - 異なる都市間での移動パターンの相違や、都市ごとの特性を考慮したモデリングが求められます。また、予測する日付の移動データがマスクされているため、不確実性を伴うデータをどのように処理するかが課題となります。\n"
   ]
  },
  {
   "cell_type": "markdown",
   "metadata": {},
   "source": [
    "### city{A, B, C, D}_groundtruthdata.csv.gz"
   ]
  },
  {
   "cell_type": "code",
   "execution_count": 4,
   "metadata": {},
   "outputs": [
    {
     "data": {
      "text/html": [
       "<div><style>\n",
       ".dataframe > thead > tr,\n",
       ".dataframe > tbody > tr {\n",
       "  text-align: right;\n",
       "  white-space: pre-wrap;\n",
       "}\n",
       "</style>\n",
       "<small>shape: (1, 5)</small><table border=\"1\" class=\"dataframe\"><thead><tr><th>uid</th><th>d</th><th>t</th><th>x</th><th>y</th></tr><tr><td>i64</td><td>i64</td><td>i64</td><td>i64</td><td>i64</td></tr></thead><tbody><tr><td>0</td><td>0</td><td>1</td><td>79</td><td>86</td></tr></tbody></table></div>"
      ],
      "text/plain": [
       "shape: (1, 5)\n",
       "┌─────┬─────┬─────┬─────┬─────┐\n",
       "│ uid ┆ d   ┆ t   ┆ x   ┆ y   │\n",
       "│ --- ┆ --- ┆ --- ┆ --- ┆ --- │\n",
       "│ i64 ┆ i64 ┆ i64 ┆ i64 ┆ i64 │\n",
       "╞═════╪═════╪═════╪═════╪═════╡\n",
       "│ 0   ┆ 0   ┆ 1   ┆ 79  ┆ 86  │\n",
       "└─────┴─────┴─────┴─────┴─────┘"
      ]
     },
     "metadata": {},
     "output_type": "display_data"
    },
    {
     "name": "stdout",
     "output_type": "stream",
     "text": [
      "111535175\n"
     ]
    }
   ],
   "source": [
    "# CSV.GZファイルを読み込む\n",
    "df_a = pl.read_csv(\"/kaggle/s3storage/01_public/humob-challenge-2024/input/cityA_groundtruthdata.csv.gz\")\n",
    "\n",
    "# データフレームの内容を表示\n",
    "display(df_a.head(1))\n",
    "print(len(df_a))"
   ]
  },
  {
   "cell_type": "code",
   "execution_count": 24,
   "metadata": {},
   "outputs": [
    {
     "name": "stdout",
     "output_type": "stream",
     "text": [
      "uid, d, t の組み合わせは一意であり、PKとして使用できます。\n"
     ]
    }
   ],
   "source": [
    "check_pk(df_a, [\"uid\", \"d\", \"t\"])"
   ]
  },
  {
   "cell_type": "code",
   "execution_count": 57,
   "metadata": {},
   "outputs": [
    {
     "name": "stdout",
     "output_type": "stream",
     "text": [
      "uidのユニーク件数： 100000\n",
      "dのユニーク件数： 75\n",
      "tのユニーク件数： 48\n"
     ]
    }
   ],
   "source": [
    "for col in [\"uid\", \"d\", \"t\"]:\n",
    "    check_n_unique(df_a, col)\n",
    "\n",
    "# 100,000 * 75 * 48 = 360,000,000\n",
    "# 受領データは111,535,175なので\n",
    "# 360,000,000 - 111,535,175 = 248,464,825件が欠損している\n"
   ]
  },
  {
   "cell_type": "code",
   "execution_count": 62,
   "metadata": {},
   "outputs": [
    {
     "name": "stdout",
     "output_type": "stream",
     "text": [
      "shape: (1, 5)\n",
      "┌─────┬─────┬─────┬─────┬─────┐\n",
      "│ uid ┆ d   ┆ t   ┆ x   ┆ y   │\n",
      "│ --- ┆ --- ┆ --- ┆ --- ┆ --- │\n",
      "│ i64 ┆ i64 ┆ i64 ┆ i64 ┆ i64 │\n",
      "╞═════╪═════╪═════╪═════╪═════╡\n",
      "│ 0   ┆ 0   ┆ 0   ┆ 1   ┆ 1   │\n",
      "└─────┴─────┴─────┴─────┴─────┘\n",
      "shape: (1, 5)\n",
      "┌───────┬─────┬─────┬─────┬─────┐\n",
      "│ uid   ┆ d   ┆ t   ┆ x   ┆ y   │\n",
      "│ ---   ┆ --- ┆ --- ┆ --- ┆ --- │\n",
      "│ i64   ┆ i64 ┆ i64 ┆ i64 ┆ i64 │\n",
      "╞═══════╪═════╪═════╪═════╪═════╡\n",
      "│ 99999 ┆ 74  ┆ 47  ┆ 200 ┆ 200 │\n",
      "└───────┴─────┴─────┴─────┴─────┘\n"
     ]
    }
   ],
   "source": [
    "print(df_a.min())\n",
    "print(df_a.max())"
   ]
  },
  {
   "cell_type": "code",
   "execution_count": 65,
   "metadata": {},
   "outputs": [
    {
     "name": "stdout",
     "output_type": "stream",
     "text": [
      "uidのユニーク件数： 1\n",
      "dのユニーク件数： 64\n",
      "tのユニーク件数： 46\n"
     ]
    }
   ],
   "source": [
    "_tmp = df_a.filter(pl.col(\"uid\")==0)\n",
    "\n",
    "for col in [\"uid\", \"d\", \"t\"]:\n",
    "    check_n_unique(_tmp, col)"
   ]
  },
  {
   "cell_type": "code",
   "execution_count": 68,
   "metadata": {},
   "outputs": [
    {
     "data": {
      "text/html": [
       "<div><style>\n",
       ".dataframe > thead > tr,\n",
       ".dataframe > tbody > tr {\n",
       "  text-align: right;\n",
       "  white-space: pre-wrap;\n",
       "}\n",
       "</style>\n",
       "<small>shape: (1_261, 5)</small><table border=\"1\" class=\"dataframe\"><thead><tr><th>uid</th><th>d</th><th>t</th><th>x</th><th>y</th></tr><tr><td>i64</td><td>i64</td><td>i64</td><td>i64</td><td>i64</td></tr></thead><tbody><tr><td>0</td><td>0</td><td>1</td><td>79</td><td>86</td></tr><tr><td>0</td><td>0</td><td>2</td><td>79</td><td>86</td></tr><tr><td>0</td><td>0</td><td>8</td><td>77</td><td>86</td></tr><tr><td>0</td><td>0</td><td>9</td><td>77</td><td>86</td></tr><tr><td>0</td><td>0</td><td>19</td><td>81</td><td>89</td></tr><tr><td>0</td><td>0</td><td>20</td><td>82</td><td>88</td></tr><tr><td>0</td><td>0</td><td>21</td><td>81</td><td>89</td></tr><tr><td>0</td><td>0</td><td>22</td><td>81</td><td>89</td></tr><tr><td>0</td><td>0</td><td>24</td><td>76</td><td>86</td></tr><tr><td>0</td><td>0</td><td>25</td><td>75</td><td>82</td></tr><tr><td>0</td><td>0</td><td>27</td><td>76</td><td>84</td></tr><tr><td>0</td><td>0</td><td>29</td><td>76</td><td>83</td></tr><tr><td>&hellip;</td><td>&hellip;</td><td>&hellip;</td><td>&hellip;</td><td>&hellip;</td></tr><tr><td>0</td><td>74</td><td>28</td><td>101</td><td>72</td></tr><tr><td>0</td><td>74</td><td>29</td><td>110</td><td>80</td></tr><tr><td>0</td><td>74</td><td>30</td><td>100</td><td>74</td></tr><tr><td>0</td><td>74</td><td>31</td><td>108</td><td>80</td></tr><tr><td>0</td><td>74</td><td>32</td><td>114</td><td>80</td></tr><tr><td>0</td><td>74</td><td>33</td><td>116</td><td>80</td></tr><tr><td>0</td><td>74</td><td>34</td><td>96</td><td>70</td></tr><tr><td>0</td><td>74</td><td>35</td><td>83</td><td>94</td></tr><tr><td>0</td><td>74</td><td>36</td><td>81</td><td>90</td></tr><tr><td>0</td><td>74</td><td>37</td><td>77</td><td>85</td></tr><tr><td>0</td><td>74</td><td>38</td><td>77</td><td>84</td></tr><tr><td>0</td><td>74</td><td>40</td><td>77</td><td>86</td></tr></tbody></table></div>"
      ],
      "text/plain": [
       "shape: (1_261, 5)\n",
       "┌─────┬─────┬─────┬─────┬─────┐\n",
       "│ uid ┆ d   ┆ t   ┆ x   ┆ y   │\n",
       "│ --- ┆ --- ┆ --- ┆ --- ┆ --- │\n",
       "│ i64 ┆ i64 ┆ i64 ┆ i64 ┆ i64 │\n",
       "╞═════╪═════╪═════╪═════╪═════╡\n",
       "│ 0   ┆ 0   ┆ 1   ┆ 79  ┆ 86  │\n",
       "│ 0   ┆ 0   ┆ 2   ┆ 79  ┆ 86  │\n",
       "│ 0   ┆ 0   ┆ 8   ┆ 77  ┆ 86  │\n",
       "│ 0   ┆ 0   ┆ 9   ┆ 77  ┆ 86  │\n",
       "│ 0   ┆ 0   ┆ 19  ┆ 81  ┆ 89  │\n",
       "│ …   ┆ …   ┆ …   ┆ …   ┆ …   │\n",
       "│ 0   ┆ 74  ┆ 35  ┆ 83  ┆ 94  │\n",
       "│ 0   ┆ 74  ┆ 36  ┆ 81  ┆ 90  │\n",
       "│ 0   ┆ 74  ┆ 37  ┆ 77  ┆ 85  │\n",
       "│ 0   ┆ 74  ┆ 38  ┆ 77  ┆ 84  │\n",
       "│ 0   ┆ 74  ┆ 40  ┆ 77  ┆ 86  │\n",
       "└─────┴─────┴─────┴─────┴─────┘"
      ]
     },
     "metadata": {},
     "output_type": "display_data"
    }
   ],
   "source": [
    "display(_tmp)\n",
    "\n",
    "# 結構欠損してそう。。"
   ]
  },
  {
   "cell_type": "code",
   "execution_count": null,
   "metadata": {},
   "outputs": [],
   "source": []
  },
  {
   "cell_type": "code",
   "execution_count": 5,
   "metadata": {},
   "outputs": [
    {
     "data": {
      "text/html": [
       "<div><style>\n",
       ".dataframe > thead > tr,\n",
       ".dataframe > tbody > tr {\n",
       "  text-align: right;\n",
       "  white-space: pre-wrap;\n",
       "}\n",
       "</style>\n",
       "<small>shape: (1, 5)</small><table border=\"1\" class=\"dataframe\"><thead><tr><th>uid</th><th>d</th><th>t</th><th>x</th><th>y</th></tr><tr><td>i64</td><td>i64</td><td>i64</td><td>i64</td><td>i64</td></tr></thead><tbody><tr><td>0</td><td>0</td><td>20</td><td>80</td><td>99</td></tr></tbody></table></div>"
      ],
      "text/plain": [
       "shape: (1, 5)\n",
       "┌─────┬─────┬─────┬─────┬─────┐\n",
       "│ uid ┆ d   ┆ t   ┆ x   ┆ y   │\n",
       "│ --- ┆ --- ┆ --- ┆ --- ┆ --- │\n",
       "│ i64 ┆ i64 ┆ i64 ┆ i64 ┆ i64 │\n",
       "╞═════╪═════╪═════╪═════╪═════╡\n",
       "│ 0   ┆ 0   ┆ 20  ┆ 80  ┆ 99  │\n",
       "└─────┴─────┴─────┴─────┴─────┘"
      ]
     },
     "metadata": {},
     "output_type": "display_data"
    },
    {
     "name": "stdout",
     "output_type": "stream",
     "text": [
      "24375898\n"
     ]
    }
   ],
   "source": [
    "# CSV.GZファイルを読み込む\n",
    "df_b = pl.read_csv(\"/kaggle/s3storage/01_public/humob-challenge-2024/input/cityB_challengedata.csv.gz\")\n",
    "\n",
    "# データフレームの内容を表示\n",
    "display(df_b.head(1))\n",
    "print(len(df_b))"
   ]
  },
  {
   "cell_type": "code",
   "execution_count": 25,
   "metadata": {},
   "outputs": [
    {
     "name": "stdout",
     "output_type": "stream",
     "text": [
      "uid, d, t の組み合わせは一意であり、PKとして使用できます。\n"
     ]
    }
   ],
   "source": [
    "check_pk(df_b, [\"uid\", \"d\", \"t\"])"
   ]
  },
  {
   "cell_type": "code",
   "execution_count": 58,
   "metadata": {},
   "outputs": [
    {
     "name": "stdout",
     "output_type": "stream",
     "text": [
      "uidのユニーク件数： 25000\n",
      "dのユニーク件数： 75\n",
      "tのユニーク件数： 48\n"
     ]
    }
   ],
   "source": [
    "for col in [\"uid\", \"d\", \"t\"]:\n",
    "    check_n_unique(df_b, col)"
   ]
  },
  {
   "cell_type": "code",
   "execution_count": 63,
   "metadata": {},
   "outputs": [
    {
     "name": "stdout",
     "output_type": "stream",
     "text": [
      "shape: (1, 5)\n",
      "┌─────┬─────┬─────┬─────┬─────┐\n",
      "│ uid ┆ d   ┆ t   ┆ x   ┆ y   │\n",
      "│ --- ┆ --- ┆ --- ┆ --- ┆ --- │\n",
      "│ i64 ┆ i64 ┆ i64 ┆ i64 ┆ i64 │\n",
      "╞═════╪═════╪═════╪═════╪═════╡\n",
      "│ 0   ┆ 0   ┆ 0   ┆ 1   ┆ 1   │\n",
      "└─────┴─────┴─────┴─────┴─────┘\n",
      "shape: (1, 5)\n",
      "┌───────┬─────┬─────┬─────┬─────┐\n",
      "│ uid   ┆ d   ┆ t   ┆ x   ┆ y   │\n",
      "│ ---   ┆ --- ┆ --- ┆ --- ┆ --- │\n",
      "│ i64   ┆ i64 ┆ i64 ┆ i64 ┆ i64 │\n",
      "╞═══════╪═════╪═════╪═════╪═════╡\n",
      "│ 24999 ┆ 74  ┆ 47  ┆ 999 ┆ 999 │\n",
      "└───────┴─────┴─────┴─────┴─────┘\n"
     ]
    }
   ],
   "source": [
    "print(df_b.min())\n",
    "print(df_b.max())"
   ]
  },
  {
   "cell_type": "code",
   "execution_count": null,
   "metadata": {},
   "outputs": [],
   "source": []
  },
  {
   "cell_type": "code",
   "execution_count": 6,
   "metadata": {},
   "outputs": [
    {
     "data": {
      "text/html": [
       "<div><style>\n",
       ".dataframe > thead > tr,\n",
       ".dataframe > tbody > tr {\n",
       "  text-align: right;\n",
       "  white-space: pre-wrap;\n",
       "}\n",
       "</style>\n",
       "<small>shape: (1, 5)</small><table border=\"1\" class=\"dataframe\"><thead><tr><th>uid</th><th>d</th><th>t</th><th>x</th><th>y</th></tr><tr><td>i64</td><td>i64</td><td>i64</td><td>i64</td><td>i64</td></tr></thead><tbody><tr><td>0</td><td>5</td><td>15</td><td>28</td><td>157</td></tr></tbody></table></div>"
      ],
      "text/plain": [
       "shape: (1, 5)\n",
       "┌─────┬─────┬─────┬─────┬─────┐\n",
       "│ uid ┆ d   ┆ t   ┆ x   ┆ y   │\n",
       "│ --- ┆ --- ┆ --- ┆ --- ┆ --- │\n",
       "│ i64 ┆ i64 ┆ i64 ┆ i64 ┆ i64 │\n",
       "╞═════╪═════╪═════╪═════╪═════╡\n",
       "│ 0   ┆ 5   ┆ 15  ┆ 28  ┆ 157 │\n",
       "└─────┴─────┴─────┴─────┴─────┘"
      ]
     },
     "metadata": {},
     "output_type": "display_data"
    },
    {
     "name": "stdout",
     "output_type": "stream",
     "text": [
      "18456528\n"
     ]
    }
   ],
   "source": [
    "# CSV.GZファイルを読み込む\n",
    "df_c = pl.read_csv(\"/kaggle/s3storage/01_public/humob-challenge-2024/input/cityC_challengedata.csv.gz\")\n",
    "\n",
    "# データフレームの内容を表示\n",
    "display(df_c.head(1))\n",
    "print(len(df_c))"
   ]
  },
  {
   "cell_type": "code",
   "execution_count": 26,
   "metadata": {},
   "outputs": [
    {
     "name": "stdout",
     "output_type": "stream",
     "text": [
      "uid, d, t の組み合わせは一意であり、PKとして使用できます。\n"
     ]
    }
   ],
   "source": [
    "check_pk(df_c, [\"uid\", \"d\", \"t\"])"
   ]
  },
  {
   "cell_type": "code",
   "execution_count": 59,
   "metadata": {},
   "outputs": [
    {
     "name": "stdout",
     "output_type": "stream",
     "text": [
      "uidのユニーク件数： 20000\n",
      "dのユニーク件数： 75\n",
      "tのユニーク件数： 48\n"
     ]
    }
   ],
   "source": [
    "for col in [\"uid\", \"d\", \"t\"]:\n",
    "    check_n_unique(df_c, col)"
   ]
  },
  {
   "cell_type": "code",
   "execution_count": null,
   "metadata": {},
   "outputs": [],
   "source": []
  },
  {
   "cell_type": "code",
   "execution_count": 7,
   "metadata": {},
   "outputs": [
    {
     "data": {
      "text/html": [
       "<div><style>\n",
       ".dataframe > thead > tr,\n",
       ".dataframe > tbody > tr {\n",
       "  text-align: right;\n",
       "  white-space: pre-wrap;\n",
       "}\n",
       "</style>\n",
       "<small>shape: (1, 5)</small><table border=\"1\" class=\"dataframe\"><thead><tr><th>uid</th><th>d</th><th>t</th><th>x</th><th>y</th></tr><tr><td>i64</td><td>i64</td><td>i64</td><td>i64</td><td>i64</td></tr></thead><tbody><tr><td>0</td><td>0</td><td>13</td><td>133</td><td>103</td></tr></tbody></table></div>"
      ],
      "text/plain": [
       "shape: (1, 5)\n",
       "┌─────┬─────┬─────┬─────┬─────┐\n",
       "│ uid ┆ d   ┆ t   ┆ x   ┆ y   │\n",
       "│ --- ┆ --- ┆ --- ┆ --- ┆ --- │\n",
       "│ i64 ┆ i64 ┆ i64 ┆ i64 ┆ i64 │\n",
       "╞═════╪═════╪═════╪═════╪═════╡\n",
       "│ 0   ┆ 0   ┆ 13  ┆ 133 ┆ 103 │\n",
       "└─────┴─────┴─────┴─────┴─────┘"
      ]
     },
     "metadata": {},
     "output_type": "display_data"
    },
    {
     "name": "stdout",
     "output_type": "stream",
     "text": [
      "8418135\n"
     ]
    }
   ],
   "source": [
    "# CSV.GZファイルを読み込む\n",
    "df_d = pl.read_csv(\"/kaggle/s3storage/01_public/humob-challenge-2024/input/cityD_challengedata.csv.gz\")\n",
    "\n",
    "# データフレームの内容を表示\n",
    "display(df_d.head(1))\n",
    "print(len(df_d))"
   ]
  },
  {
   "cell_type": "code",
   "execution_count": 27,
   "metadata": {},
   "outputs": [
    {
     "name": "stdout",
     "output_type": "stream",
     "text": [
      "uid, d, t の組み合わせは一意であり、PKとして使用できます。\n"
     ]
    }
   ],
   "source": [
    "check_pk(df_d, [\"uid\", \"d\", \"t\"])"
   ]
  },
  {
   "cell_type": "code",
   "execution_count": 60,
   "metadata": {},
   "outputs": [
    {
     "name": "stdout",
     "output_type": "stream",
     "text": [
      "uidのユニーク件数： 6000\n",
      "dのユニーク件数： 75\n",
      "tのユニーク件数： 48\n"
     ]
    }
   ],
   "source": [
    "for col in [\"uid\", \"d\", \"t\"]:\n",
    "    check_n_unique(df_d, col)"
   ]
  },
  {
   "cell_type": "code",
   "execution_count": null,
   "metadata": {},
   "outputs": [],
   "source": []
  },
  {
   "cell_type": "markdown",
   "metadata": {},
   "source": [
    "### POIdata_city{A, B, C, D}.csv"
   ]
  },
  {
   "cell_type": "code",
   "execution_count": 8,
   "metadata": {},
   "outputs": [
    {
     "data": {
      "text/html": [
       "<div><style>\n",
       ".dataframe > thead > tr,\n",
       ".dataframe > tbody > tr {\n",
       "  text-align: right;\n",
       "  white-space: pre-wrap;\n",
       "}\n",
       "</style>\n",
       "<small>shape: (1, 4)</small><table border=\"1\" class=\"dataframe\"><thead><tr><th>x</th><th>y</th><th>category</th><th>POI_count</th></tr><tr><td>i64</td><td>i64</td><td>i64</td><td>i64</td></tr></thead><tbody><tr><td>1</td><td>1</td><td>74</td><td>4</td></tr></tbody></table></div>"
      ],
      "text/plain": [
       "shape: (1, 4)\n",
       "┌─────┬─────┬──────────┬───────────┐\n",
       "│ x   ┆ y   ┆ category ┆ POI_count │\n",
       "│ --- ┆ --- ┆ ---      ┆ ---       │\n",
       "│ i64 ┆ i64 ┆ i64      ┆ i64       │\n",
       "╞═════╪═════╪══════════╪═══════════╡\n",
       "│ 1   ┆ 1   ┆ 74       ┆ 4         │\n",
       "└─────┴─────┴──────────┴───────────┘"
      ]
     },
     "metadata": {},
     "output_type": "display_data"
    },
    {
     "name": "stdout",
     "output_type": "stream",
     "text": [
      "221248\n"
     ]
    }
   ],
   "source": [
    "# CSV.GZファイルを読み込む\n",
    "df_a_poi = pl.read_csv(\"/kaggle/s3storage/01_public/humob-challenge-2024/input/POIdata_cityA.csv\")\n",
    "\n",
    "# データフレームの内容を表示\n",
    "display(df_a_poi.head(1))\n",
    "print(len(df_a_poi))"
   ]
  },
  {
   "cell_type": "code",
   "execution_count": 29,
   "metadata": {},
   "outputs": [
    {
     "name": "stdout",
     "output_type": "stream",
     "text": [
      "x, y, category の組み合わせは一意であり、PKとして使用できます。\n"
     ]
    }
   ],
   "source": [
    "check_pk(df_a_poi, [\"x\", \"y\", \"category\"])"
   ]
  },
  {
   "cell_type": "code",
   "execution_count": 50,
   "metadata": {},
   "outputs": [
    {
     "name": "stdout",
     "output_type": "stream",
     "text": [
      "POIのcategory値の最小値は 1\n",
      "POIのcategory値の最大値は 85\n"
     ]
    }
   ],
   "source": [
    "category_min = df_a_poi[\"category\"].min()\n",
    "category_max = df_a_poi[\"category\"].max()\n",
    "\n",
    "print(f\"POIのcategory値の最小値は {category_min}\")\n",
    "print(f\"POIのcategory値の最大値は {category_max}\")"
   ]
  },
  {
   "cell_type": "code",
   "execution_count": null,
   "metadata": {},
   "outputs": [],
   "source": []
  },
  {
   "cell_type": "code",
   "execution_count": 9,
   "metadata": {},
   "outputs": [
    {
     "data": {
      "text/html": [
       "<div><style>\n",
       ".dataframe > thead > tr,\n",
       ".dataframe > tbody > tr {\n",
       "  text-align: right;\n",
       "  white-space: pre-wrap;\n",
       "}\n",
       "</style>\n",
       "<small>shape: (1, 4)</small><table border=\"1\" class=\"dataframe\"><thead><tr><th>x</th><th>y</th><th>category</th><th>POI_count</th></tr><tr><td>i64</td><td>i64</td><td>i64</td><td>i64</td></tr></thead><tbody><tr><td>1</td><td>1</td><td>79</td><td>2</td></tr></tbody></table></div>"
      ],
      "text/plain": [
       "shape: (1, 4)\n",
       "┌─────┬─────┬──────────┬───────────┐\n",
       "│ x   ┆ y   ┆ category ┆ POI_count │\n",
       "│ --- ┆ --- ┆ ---      ┆ ---       │\n",
       "│ i64 ┆ i64 ┆ i64      ┆ i64       │\n",
       "╞═════╪═════╪══════════╪═══════════╡\n",
       "│ 1   ┆ 1   ┆ 79       ┆ 2         │\n",
       "└─────┴─────┴──────────┴───────────┘"
      ]
     },
     "metadata": {},
     "output_type": "display_data"
    },
    {
     "name": "stdout",
     "output_type": "stream",
     "text": [
      "56181\n"
     ]
    }
   ],
   "source": [
    "# CSV.GZファイルを読み込む\n",
    "df_b_poi = pl.read_csv(\"/kaggle/s3storage/01_public/humob-challenge-2024/input/POIdata_cityB.csv\")\n",
    "\n",
    "# データフレームの内容を表示\n",
    "display(df_b_poi.head(1))\n",
    "print(len(df_b_poi))"
   ]
  },
  {
   "cell_type": "code",
   "execution_count": 30,
   "metadata": {},
   "outputs": [
    {
     "name": "stdout",
     "output_type": "stream",
     "text": [
      "x, y, category の組み合わせは一意であり、PKとして使用できます。\n"
     ]
    }
   ],
   "source": [
    "check_pk(df_b_poi, [\"x\", \"y\", \"category\"])"
   ]
  },
  {
   "cell_type": "code",
   "execution_count": null,
   "metadata": {},
   "outputs": [],
   "source": []
  },
  {
   "cell_type": "code",
   "execution_count": 10,
   "metadata": {},
   "outputs": [
    {
     "data": {
      "text/html": [
       "<div><style>\n",
       ".dataframe > thead > tr,\n",
       ".dataframe > tbody > tr {\n",
       "  text-align: right;\n",
       "  white-space: pre-wrap;\n",
       "}\n",
       "</style>\n",
       "<small>shape: (1, 4)</small><table border=\"1\" class=\"dataframe\"><thead><tr><th>x</th><th>y</th><th>category</th><th>POI_count</th></tr><tr><td>i64</td><td>i64</td><td>i64</td><td>i64</td></tr></thead><tbody><tr><td>1</td><td>35</td><td>48</td><td>1</td></tr></tbody></table></div>"
      ],
      "text/plain": [
       "shape: (1, 4)\n",
       "┌─────┬─────┬──────────┬───────────┐\n",
       "│ x   ┆ y   ┆ category ┆ POI_count │\n",
       "│ --- ┆ --- ┆ ---      ┆ ---       │\n",
       "│ i64 ┆ i64 ┆ i64      ┆ i64       │\n",
       "╞═════╪═════╪══════════╪═══════════╡\n",
       "│ 1   ┆ 35  ┆ 48       ┆ 1         │\n",
       "└─────┴─────┴──────────┴───────────┘"
      ]
     },
     "metadata": {},
     "output_type": "display_data"
    },
    {
     "name": "stdout",
     "output_type": "stream",
     "text": [
      "39064\n"
     ]
    }
   ],
   "source": [
    "# CSV.GZファイルを読み込む\n",
    "df_c_poi = pl.read_csv(\"/kaggle/s3storage/01_public/humob-challenge-2024/input/POIdata_cityC.csv\")\n",
    "\n",
    "# データフレームの内容を表示\n",
    "display(df_c_poi.head(1))\n",
    "print(len(df_c_poi))"
   ]
  },
  {
   "cell_type": "code",
   "execution_count": 31,
   "metadata": {},
   "outputs": [
    {
     "name": "stdout",
     "output_type": "stream",
     "text": [
      "x, y, category の組み合わせは一意であり、PKとして使用できます。\n"
     ]
    }
   ],
   "source": [
    "check_pk(df_c_poi, [\"x\", \"y\", \"category\"])"
   ]
  },
  {
   "cell_type": "code",
   "execution_count": null,
   "metadata": {},
   "outputs": [],
   "source": []
  },
  {
   "cell_type": "code",
   "execution_count": 11,
   "metadata": {},
   "outputs": [
    {
     "data": {
      "text/html": [
       "<div><style>\n",
       ".dataframe > thead > tr,\n",
       ".dataframe > tbody > tr {\n",
       "  text-align: right;\n",
       "  white-space: pre-wrap;\n",
       "}\n",
       "</style>\n",
       "<small>shape: (1, 4)</small><table border=\"1\" class=\"dataframe\"><thead><tr><th>x</th><th>y</th><th>category</th><th>POI_count</th></tr><tr><td>i64</td><td>i64</td><td>i64</td><td>i64</td></tr></thead><tbody><tr><td>1</td><td>11</td><td>46</td><td>1</td></tr></tbody></table></div>"
      ],
      "text/plain": [
       "shape: (1, 4)\n",
       "┌─────┬─────┬──────────┬───────────┐\n",
       "│ x   ┆ y   ┆ category ┆ POI_count │\n",
       "│ --- ┆ --- ┆ ---      ┆ ---       │\n",
       "│ i64 ┆ i64 ┆ i64      ┆ i64       │\n",
       "╞═════╪═════╪══════════╪═══════════╡\n",
       "│ 1   ┆ 11  ┆ 46       ┆ 1         │\n",
       "└─────┴─────┴──────────┴───────────┘"
      ]
     },
     "metadata": {},
     "output_type": "display_data"
    },
    {
     "name": "stdout",
     "output_type": "stream",
     "text": [
      "72794\n"
     ]
    }
   ],
   "source": [
    "# CSV.GZファイルを読み込む\n",
    "df_d_poi = pl.read_csv(\"/kaggle/s3storage/01_public/humob-challenge-2024/input/POIdata_cityD.csv\")\n",
    "\n",
    "# データフレームの内容を表示\n",
    "display(df_d_poi.head(1))\n",
    "print(len(df_d_poi))"
   ]
  },
  {
   "cell_type": "code",
   "execution_count": 32,
   "metadata": {},
   "outputs": [
    {
     "name": "stdout",
     "output_type": "stream",
     "text": [
      "x, y, category の組み合わせは一意であり、PKとして使用できます。\n"
     ]
    }
   ],
   "source": [
    "check_pk(df_d_poi, [\"x\", \"y\", \"category\"])"
   ]
  },
  {
   "cell_type": "code",
   "execution_count": null,
   "metadata": {},
   "outputs": [],
   "source": []
  },
  {
   "cell_type": "markdown",
   "metadata": {},
   "source": [
    "### POI_datacategories.csv"
   ]
  },
  {
   "cell_type": "code",
   "execution_count": 45,
   "metadata": {},
   "outputs": [
    {
     "name": "stderr",
     "output_type": "stream",
     "text": [
      "/tmp/ipykernel_15331/3365231361.py:9: DeprecationWarning: `with_row_count` is deprecated. Use `with_row_index` instead. Note that the default column name has changed from 'row_nr' to 'index'.\n",
      "  df_poi_category = df_poi_category.with_row_count(\"category_no\", 1)\n"
     ]
    },
    {
     "data": {
      "text/html": [
       "<div><style>\n",
       ".dataframe > thead > tr,\n",
       ".dataframe > tbody > tr {\n",
       "  text-align: right;\n",
       "  white-space: pre-wrap;\n",
       "}\n",
       "</style>\n",
       "<small>shape: (1, 2)</small><table border=\"1\" class=\"dataframe\"><thead><tr><th>category_no</th><th>poi_category</th></tr><tr><td>u32</td><td>str</td></tr></thead><tbody><tr><td>1</td><td>&quot;Food&quot;</td></tr></tbody></table></div>"
      ],
      "text/plain": [
       "shape: (1, 2)\n",
       "┌─────────────┬──────────────┐\n",
       "│ category_no ┆ poi_category │\n",
       "│ ---         ┆ ---          │\n",
       "│ u32         ┆ str          │\n",
       "╞═════════════╪══════════════╡\n",
       "│ 1           ┆ Food         │\n",
       "└─────────────┴──────────────┘"
      ]
     },
     "metadata": {},
     "output_type": "display_data"
    },
    {
     "name": "stdout",
     "output_type": "stream",
     "text": [
      "85\n"
     ]
    }
   ],
   "source": [
    "# CSV.GZファイルを読み込む\n",
    "df_poi_category = (\n",
    "    pl.read_csv(\n",
    "        \"/kaggle/s3storage/01_public/humob-challenge-2024/input/POI_datacategories.csv\",\n",
    "        has_header=False, \n",
    "        new_columns=[\"poi_category\"])\n",
    ")\n",
    "\n",
    "df_poi_category = df_poi_category.with_row_count(\"category_no\", 1)\n",
    "\n",
    "# データフレームの内容を表示\n",
    "display(df_poi_category.head(1))\n",
    "print(len(df_poi_category))"
   ]
  },
  {
   "cell_type": "code",
   "execution_count": 44,
   "metadata": {},
   "outputs": [
    {
     "name": "stdout",
     "output_type": "stream",
     "text": [
      "Food\n",
      "Shopping\n",
      "Entertainment\n",
      "Japanese restaurant\n",
      "Western restaurant\n",
      "Eat all you can restaurant\n",
      "Chinese restaurant\n",
      "Indian restaurant\n",
      "Ramen restaurant\n",
      "Curry restaurant\n",
      "BBQ restaurant\n",
      "Hot pot restaurant\n",
      "Bar\n",
      "Diner\n",
      "Creative cuisine\n",
      "Organic cuisine\n",
      "Pizza\n",
      "Café\n",
      "Tea Salon\n",
      "Bakery\n",
      "Sweets \n",
      "Wine Bar\n",
      "Pub\n",
      "Disco\n",
      "Beer Garden\n",
      "Fast Food\n",
      "Karaoke\n",
      "Cruising\n",
      "Theme Park Restaurant\n",
      "Amusement Restaurant\n",
      "Other Restaurants\n",
      "Glasses\n",
      "Drug Store\n",
      "Electronics Store\n",
      "DIY Store\n",
      "Convenience Store\n",
      "Recycle Shop\n",
      "Interior Shop\n",
      "Sports Store\n",
      "Clothes Store\n",
      "Grocery Store\n",
      "Online Grocery Store\n",
      "Sports Recreation\n",
      "Game Arcade\n",
      "Swimming Pool\n",
      "Hotel\n",
      "Park\n",
      "Transit Station\n",
      "Parking Area\n",
      "Casino\n",
      "Hospital\n",
      "Pharmacy\n",
      "Chiropractic\n",
      "Elderly Care Home\n",
      "Fishing\n",
      "School\n",
      "Cram School\n",
      "Kindergarten\n",
      "Real Estate\n",
      "Home Appliances\n",
      "Post Office\n",
      "Laundry \n",
      "Driving School\n",
      "Wedding Ceremony\n",
      "Cemetary\n",
      "Bank\n",
      "Vet\n",
      "Hot Spring\n",
      "Hair Salon\n",
      "Lawyer Office\n",
      "Recruitment Office\n",
      "City Hall\n",
      "Community Center\n",
      "Church\n",
      "Retail Store\n",
      "Accountant Office\n",
      "IT Office\n",
      "Publisher Office\n",
      "Building Material\n",
      "Gardening\n",
      "Heavy Industry\n",
      "NPO\n",
      "Utility Copany\n",
      "Port\n",
      "Research Facility\n"
     ]
    }
   ],
   "source": [
    "for v in df_poi_category[\"poi_category\"]:\n",
    "    print(v)"
   ]
  },
  {
   "cell_type": "code",
   "execution_count": null,
   "metadata": {},
   "outputs": [],
   "source": []
  },
  {
   "cell_type": "markdown",
   "metadata": {},
   "source": [
    "## 2023年データセット"
   ]
  },
  {
   "cell_type": "code",
   "execution_count": 6,
   "metadata": {},
   "outputs": [
    {
     "data": {
      "text/html": [
       "<div><style>\n",
       ".dataframe > thead > tr,\n",
       ".dataframe > tbody > tr {\n",
       "  text-align: right;\n",
       "  white-space: pre-wrap;\n",
       "}\n",
       "</style>\n",
       "<small>shape: (1, 1)</small><table border=\"1\" class=\"dataframe\"><thead><tr><th>Food</th></tr><tr><td>str</td></tr></thead><tbody><tr><td>&quot;Shopping&quot;</td></tr></tbody></table></div>"
      ],
      "text/plain": [
       "shape: (1, 1)\n",
       "┌──────────┐\n",
       "│ Food     │\n",
       "│ ---      │\n",
       "│ str      │\n",
       "╞══════════╡\n",
       "│ Shopping │\n",
       "└──────────┘"
      ]
     },
     "metadata": {},
     "output_type": "display_data"
    },
    {
     "name": "stdout",
     "output_type": "stream",
     "text": [
      "84\n"
     ]
    }
   ],
   "source": [
    "# CSV.GZファイルを読み込む\n",
    "pre_df_poi = pl.read_csv(\"/kaggle/s3storage/01_public/humob-challenge-2024/input/00_lastyear-dataset-humob2023/POI_datacategories.csv\")\n",
    "\n",
    "# データフレームの内容を表示\n",
    "display(pre_df_poi.head(1))\n",
    "print(len(pre_df_poi))"
   ]
  },
  {
   "cell_type": "code",
   "execution_count": 7,
   "metadata": {},
   "outputs": [
    {
     "data": {
      "text/html": [
       "<div><style>\n",
       ".dataframe > thead > tr,\n",
       ".dataframe > tbody > tr {\n",
       "  text-align: right;\n",
       "  white-space: pre-wrap;\n",
       "}\n",
       "</style>\n",
       "<small>shape: (1, 5)</small><table border=\"1\" class=\"dataframe\"><thead><tr><th>uid</th><th>d</th><th>t</th><th>x</th><th>y</th></tr><tr><td>i64</td><td>i64</td><td>i64</td><td>i64</td><td>i64</td></tr></thead><tbody><tr><td>0</td><td>0</td><td>1</td><td>79</td><td>86</td></tr></tbody></table></div>"
      ],
      "text/plain": [
       "shape: (1, 5)\n",
       "┌─────┬─────┬─────┬─────┬─────┐\n",
       "│ uid ┆ d   ┆ t   ┆ x   ┆ y   │\n",
       "│ --- ┆ --- ┆ --- ┆ --- ┆ --- │\n",
       "│ i64 ┆ i64 ┆ i64 ┆ i64 ┆ i64 │\n",
       "╞═════╪═════╪═════╪═════╪═════╡\n",
       "│ 0   ┆ 0   ┆ 1   ┆ 79  ┆ 86  │\n",
       "└─────┴─────┴─────┴─────┴─────┘"
      ]
     },
     "metadata": {},
     "output_type": "display_data"
    },
    {
     "name": "stdout",
     "output_type": "stream",
     "text": [
      "111535175\n"
     ]
    }
   ],
   "source": [
    "# CSV.GZファイルを読み込む\n",
    "pre_df_1 = pl.read_csv(\"/kaggle/s3storage/01_public/humob-challenge-2024/input/00_lastyear-dataset-humob2023/yjmob100k-dataset1.csv.gz\")\n",
    "\n",
    "# データフレームの内容を表示\n",
    "display(pre_df_1.head(1))\n",
    "print(len(pre_df_1))"
   ]
  },
  {
   "cell_type": "code",
   "execution_count": 10,
   "metadata": {},
   "outputs": [
    {
     "data": {
      "text/html": [
       "<div><style>\n",
       ".dataframe > thead > tr,\n",
       ".dataframe > tbody > tr {\n",
       "  text-align: right;\n",
       "  white-space: pre-wrap;\n",
       "}\n",
       "</style>\n",
       "<small>shape: (1, 5)</small><table border=\"1\" class=\"dataframe\"><thead><tr><th>uid</th><th>d</th><th>t</th><th>x</th><th>y</th></tr><tr><td>i64</td><td>i64</td><td>i64</td><td>i64</td><td>i64</td></tr></thead><tbody><tr><td>0</td><td>0</td><td>0</td><td>163</td><td>60</td></tr></tbody></table></div>"
      ],
      "text/plain": [
       "shape: (1, 5)\n",
       "┌─────┬─────┬─────┬─────┬─────┐\n",
       "│ uid ┆ d   ┆ t   ┆ x   ┆ y   │\n",
       "│ --- ┆ --- ┆ --- ┆ --- ┆ --- │\n",
       "│ i64 ┆ i64 ┆ i64 ┆ i64 ┆ i64 │\n",
       "╞═════╪═════╪═════╪═════╪═════╡\n",
       "│ 0   ┆ 0   ┆ 0   ┆ 163 ┆ 60  │\n",
       "└─────┴─────┴─────┴─────┴─────┘"
      ]
     },
     "metadata": {},
     "output_type": "display_data"
    },
    {
     "name": "stdout",
     "output_type": "stream",
     "text": [
      "29389749\n"
     ]
    }
   ],
   "source": [
    "# CSV.GZファイルを読み込む\n",
    "pre_df_2 = pl.read_csv(\"/kaggle/s3storage/01_public/humob-challenge-2024/input/00_lastyear-dataset-humob2023/yjmob100k-dataset2.csv.gz\")\n",
    "\n",
    "# データフレームの内容を表示\n",
    "display(pre_df_2.head(1))\n",
    "print(len(pre_df_2))"
   ]
  },
  {
   "cell_type": "code",
   "execution_count": null,
   "metadata": {},
   "outputs": [],
   "source": []
  }
 ],
 "metadata": {
  "kernelspec": {
   "display_name": "base",
   "language": "python",
   "name": "python3"
  },
  "language_info": {
   "codemirror_mode": {
    "name": "ipython",
    "version": 3
   },
   "file_extension": ".py",
   "mimetype": "text/x-python",
   "name": "python",
   "nbconvert_exporter": "python",
   "pygments_lexer": "ipython3",
   "version": "3.10.13"
  }
 },
 "nbformat": 4,
 "nbformat_minor": 2
}
