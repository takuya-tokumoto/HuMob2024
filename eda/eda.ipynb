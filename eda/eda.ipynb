{
 "cells": [
  {
   "cell_type": "code",
   "execution_count": 1,
   "metadata": {},
   "outputs": [],
   "source": [
    "import polars as pl"
   ]
  },
  {
   "cell_type": "markdown",
   "metadata": {},
   "source": [
    "# 2024年データセット"
   ]
  },
  {
   "cell_type": "code",
   "execution_count": 2,
   "metadata": {},
   "outputs": [
    {
     "data": {
      "text/html": [
       "<div><style>\n",
       ".dataframe > thead > tr,\n",
       ".dataframe > tbody > tr {\n",
       "  text-align: right;\n",
       "  white-space: pre-wrap;\n",
       "}\n",
       "</style>\n",
       "<small>shape: (1, 5)</small><table border=\"1\" class=\"dataframe\"><thead><tr><th>uid</th><th>d</th><th>t</th><th>x</th><th>y</th></tr><tr><td>i64</td><td>i64</td><td>i64</td><td>i64</td><td>i64</td></tr></thead><tbody><tr><td>0</td><td>0</td><td>1</td><td>79</td><td>86</td></tr></tbody></table></div>"
      ],
      "text/plain": [
       "shape: (1, 5)\n",
       "┌─────┬─────┬─────┬─────┬─────┐\n",
       "│ uid ┆ d   ┆ t   ┆ x   ┆ y   │\n",
       "│ --- ┆ --- ┆ --- ┆ --- ┆ --- │\n",
       "│ i64 ┆ i64 ┆ i64 ┆ i64 ┆ i64 │\n",
       "╞═════╪═════╪═════╪═════╪═════╡\n",
       "│ 0   ┆ 0   ┆ 1   ┆ 79  ┆ 86  │\n",
       "└─────┴─────┴─────┴─────┴─────┘"
      ]
     },
     "metadata": {},
     "output_type": "display_data"
    },
    {
     "name": "stdout",
     "output_type": "stream",
     "text": [
      "111535175\n"
     ]
    }
   ],
   "source": [
    "# CSV.GZファイルを読み込む\n",
    "df_a = pl.read_csv(\"/kaggle/s3storage/01_public/humob-challenge-2024/input/cityA_groundtruthdata.csv.gz\")\n",
    "\n",
    "# データフレームの内容を表示\n",
    "display(df_a.head(1))\n",
    "print(len(df_a))"
   ]
  },
  {
   "cell_type": "code",
   "execution_count": 3,
   "metadata": {},
   "outputs": [
    {
     "data": {
      "text/html": [
       "<div><style>\n",
       ".dataframe > thead > tr,\n",
       ".dataframe > tbody > tr {\n",
       "  text-align: right;\n",
       "  white-space: pre-wrap;\n",
       "}\n",
       "</style>\n",
       "<small>shape: (1, 5)</small><table border=\"1\" class=\"dataframe\"><thead><tr><th>uid</th><th>d</th><th>t</th><th>x</th><th>y</th></tr><tr><td>i64</td><td>i64</td><td>i64</td><td>i64</td><td>i64</td></tr></thead><tbody><tr><td>0</td><td>0</td><td>20</td><td>80</td><td>99</td></tr></tbody></table></div>"
      ],
      "text/plain": [
       "shape: (1, 5)\n",
       "┌─────┬─────┬─────┬─────┬─────┐\n",
       "│ uid ┆ d   ┆ t   ┆ x   ┆ y   │\n",
       "│ --- ┆ --- ┆ --- ┆ --- ┆ --- │\n",
       "│ i64 ┆ i64 ┆ i64 ┆ i64 ┆ i64 │\n",
       "╞═════╪═════╪═════╪═════╪═════╡\n",
       "│ 0   ┆ 0   ┆ 20  ┆ 80  ┆ 99  │\n",
       "└─────┴─────┴─────┴─────┴─────┘"
      ]
     },
     "metadata": {},
     "output_type": "display_data"
    },
    {
     "name": "stdout",
     "output_type": "stream",
     "text": [
      "24375898\n"
     ]
    }
   ],
   "source": [
    "# CSV.GZファイルを読み込む\n",
    "df_b = pl.read_csv(\"/kaggle/s3storage/01_public/humob-challenge-2024/input/cityB_challengedata.csv.gz\")\n",
    "\n",
    "# データフレームの内容を表示\n",
    "display(df_b.head(1))\n",
    "print(len(df_b))"
   ]
  },
  {
   "cell_type": "code",
   "execution_count": 4,
   "metadata": {},
   "outputs": [
    {
     "data": {
      "text/html": [
       "<div><style>\n",
       ".dataframe > thead > tr,\n",
       ".dataframe > tbody > tr {\n",
       "  text-align: right;\n",
       "  white-space: pre-wrap;\n",
       "}\n",
       "</style>\n",
       "<small>shape: (1, 5)</small><table border=\"1\" class=\"dataframe\"><thead><tr><th>uid</th><th>d</th><th>t</th><th>x</th><th>y</th></tr><tr><td>i64</td><td>i64</td><td>i64</td><td>i64</td><td>i64</td></tr></thead><tbody><tr><td>0</td><td>5</td><td>15</td><td>28</td><td>157</td></tr></tbody></table></div>"
      ],
      "text/plain": [
       "shape: (1, 5)\n",
       "┌─────┬─────┬─────┬─────┬─────┐\n",
       "│ uid ┆ d   ┆ t   ┆ x   ┆ y   │\n",
       "│ --- ┆ --- ┆ --- ┆ --- ┆ --- │\n",
       "│ i64 ┆ i64 ┆ i64 ┆ i64 ┆ i64 │\n",
       "╞═════╪═════╪═════╪═════╪═════╡\n",
       "│ 0   ┆ 5   ┆ 15  ┆ 28  ┆ 157 │\n",
       "└─────┴─────┴─────┴─────┴─────┘"
      ]
     },
     "metadata": {},
     "output_type": "display_data"
    },
    {
     "name": "stdout",
     "output_type": "stream",
     "text": [
      "18456528\n"
     ]
    }
   ],
   "source": [
    "# CSV.GZファイルを読み込む\n",
    "df_c = pl.read_csv(\"/kaggle/s3storage/01_public/humob-challenge-2024/input/cityC_challengedata.csv.gz\")\n",
    "\n",
    "# データフレームの内容を表示\n",
    "display(df_c.head(1))\n",
    "print(len(df_c))"
   ]
  },
  {
   "cell_type": "code",
   "execution_count": 5,
   "metadata": {},
   "outputs": [
    {
     "data": {
      "text/html": [
       "<div><style>\n",
       ".dataframe > thead > tr,\n",
       ".dataframe > tbody > tr {\n",
       "  text-align: right;\n",
       "  white-space: pre-wrap;\n",
       "}\n",
       "</style>\n",
       "<small>shape: (1, 5)</small><table border=\"1\" class=\"dataframe\"><thead><tr><th>uid</th><th>d</th><th>t</th><th>x</th><th>y</th></tr><tr><td>i64</td><td>i64</td><td>i64</td><td>i64</td><td>i64</td></tr></thead><tbody><tr><td>0</td><td>0</td><td>13</td><td>133</td><td>103</td></tr></tbody></table></div>"
      ],
      "text/plain": [
       "shape: (1, 5)\n",
       "┌─────┬─────┬─────┬─────┬─────┐\n",
       "│ uid ┆ d   ┆ t   ┆ x   ┆ y   │\n",
       "│ --- ┆ --- ┆ --- ┆ --- ┆ --- │\n",
       "│ i64 ┆ i64 ┆ i64 ┆ i64 ┆ i64 │\n",
       "╞═════╪═════╪═════╪═════╪═════╡\n",
       "│ 0   ┆ 0   ┆ 13  ┆ 133 ┆ 103 │\n",
       "└─────┴─────┴─────┴─────┴─────┘"
      ]
     },
     "metadata": {},
     "output_type": "display_data"
    },
    {
     "name": "stdout",
     "output_type": "stream",
     "text": [
      "8418135\n"
     ]
    }
   ],
   "source": [
    "# CSV.GZファイルを読み込む\n",
    "df_d = pl.read_csv(\"/kaggle/s3storage/01_public/humob-challenge-2024/input/cityD_challengedata.csv.gz\")\n",
    "\n",
    "# データフレームの内容を表示\n",
    "display(df_d.head(1))\n",
    "print(len(df_d))"
   ]
  },
  {
   "cell_type": "markdown",
   "metadata": {},
   "source": []
  },
  {
   "cell_type": "code",
   "execution_count": 9,
   "metadata": {},
   "outputs": [
    {
     "data": {
      "text/html": [
       "<div><style>\n",
       ".dataframe > thead > tr,\n",
       ".dataframe > tbody > tr {\n",
       "  text-align: right;\n",
       "  white-space: pre-wrap;\n",
       "}\n",
       "</style>\n",
       "<small>shape: (1, 4)</small><table border=\"1\" class=\"dataframe\"><thead><tr><th>x</th><th>y</th><th>category</th><th>POI_count</th></tr><tr><td>i64</td><td>i64</td><td>i64</td><td>i64</td></tr></thead><tbody><tr><td>1</td><td>1</td><td>74</td><td>4</td></tr></tbody></table></div>"
      ],
      "text/plain": [
       "shape: (1, 4)\n",
       "┌─────┬─────┬──────────┬───────────┐\n",
       "│ x   ┆ y   ┆ category ┆ POI_count │\n",
       "│ --- ┆ --- ┆ ---      ┆ ---       │\n",
       "│ i64 ┆ i64 ┆ i64      ┆ i64       │\n",
       "╞═════╪═════╪══════════╪═══════════╡\n",
       "│ 1   ┆ 1   ┆ 74       ┆ 4         │\n",
       "└─────┴─────┴──────────┴───────────┘"
      ]
     },
     "metadata": {},
     "output_type": "display_data"
    },
    {
     "name": "stdout",
     "output_type": "stream",
     "text": [
      "221248\n"
     ]
    }
   ],
   "source": [
    "# CSV.GZファイルを読み込む\n",
    "df_a_poi = pl.read_csv(\"/kaggle/s3storage/01_public/humob-challenge-2024/input/POIdata_cityA.csv\")\n",
    "\n",
    "# データフレームの内容を表示\n",
    "display(df_a_poi.head(1))\n",
    "print(len(df_a_poi))"
   ]
  },
  {
   "cell_type": "markdown",
   "metadata": {},
   "source": [
    "# 2023年データセット"
   ]
  },
  {
   "cell_type": "code",
   "execution_count": 6,
   "metadata": {},
   "outputs": [
    {
     "data": {
      "text/html": [
       "<div><style>\n",
       ".dataframe > thead > tr,\n",
       ".dataframe > tbody > tr {\n",
       "  text-align: right;\n",
       "  white-space: pre-wrap;\n",
       "}\n",
       "</style>\n",
       "<small>shape: (1, 1)</small><table border=\"1\" class=\"dataframe\"><thead><tr><th>Food</th></tr><tr><td>str</td></tr></thead><tbody><tr><td>&quot;Shopping&quot;</td></tr></tbody></table></div>"
      ],
      "text/plain": [
       "shape: (1, 1)\n",
       "┌──────────┐\n",
       "│ Food     │\n",
       "│ ---      │\n",
       "│ str      │\n",
       "╞══════════╡\n",
       "│ Shopping │\n",
       "└──────────┘"
      ]
     },
     "metadata": {},
     "output_type": "display_data"
    },
    {
     "name": "stdout",
     "output_type": "stream",
     "text": [
      "84\n"
     ]
    }
   ],
   "source": [
    "# CSV.GZファイルを読み込む\n",
    "pre_df_poi = pl.read_csv(\"/kaggle/s3storage/01_public/humob-challenge-2024/input/00_lastyear-dataset-humob2023/POI_datacategories.csv\")\n",
    "\n",
    "# データフレームの内容を表示\n",
    "display(pre_df_poi.head(1))\n",
    "print(len(pre_df_poi))"
   ]
  },
  {
   "cell_type": "code",
   "execution_count": 7,
   "metadata": {},
   "outputs": [
    {
     "data": {
      "text/html": [
       "<div><style>\n",
       ".dataframe > thead > tr,\n",
       ".dataframe > tbody > tr {\n",
       "  text-align: right;\n",
       "  white-space: pre-wrap;\n",
       "}\n",
       "</style>\n",
       "<small>shape: (1, 5)</small><table border=\"1\" class=\"dataframe\"><thead><tr><th>uid</th><th>d</th><th>t</th><th>x</th><th>y</th></tr><tr><td>i64</td><td>i64</td><td>i64</td><td>i64</td><td>i64</td></tr></thead><tbody><tr><td>0</td><td>0</td><td>1</td><td>79</td><td>86</td></tr></tbody></table></div>"
      ],
      "text/plain": [
       "shape: (1, 5)\n",
       "┌─────┬─────┬─────┬─────┬─────┐\n",
       "│ uid ┆ d   ┆ t   ┆ x   ┆ y   │\n",
       "│ --- ┆ --- ┆ --- ┆ --- ┆ --- │\n",
       "│ i64 ┆ i64 ┆ i64 ┆ i64 ┆ i64 │\n",
       "╞═════╪═════╪═════╪═════╪═════╡\n",
       "│ 0   ┆ 0   ┆ 1   ┆ 79  ┆ 86  │\n",
       "└─────┴─────┴─────┴─────┴─────┘"
      ]
     },
     "metadata": {},
     "output_type": "display_data"
    },
    {
     "name": "stdout",
     "output_type": "stream",
     "text": [
      "111535175\n"
     ]
    }
   ],
   "source": [
    "# CSV.GZファイルを読み込む\n",
    "pre_df_1 = pl.read_csv(\"/kaggle/s3storage/01_public/humob-challenge-2024/input/00_lastyear-dataset-humob2023/yjmob100k-dataset1.csv.gz\")\n",
    "\n",
    "# データフレームの内容を表示\n",
    "display(pre_df_1.head(1))\n",
    "print(len(pre_df_1))"
   ]
  },
  {
   "cell_type": "code",
   "execution_count": 10,
   "metadata": {},
   "outputs": [
    {
     "data": {
      "text/html": [
       "<div><style>\n",
       ".dataframe > thead > tr,\n",
       ".dataframe > tbody > tr {\n",
       "  text-align: right;\n",
       "  white-space: pre-wrap;\n",
       "}\n",
       "</style>\n",
       "<small>shape: (1, 5)</small><table border=\"1\" class=\"dataframe\"><thead><tr><th>uid</th><th>d</th><th>t</th><th>x</th><th>y</th></tr><tr><td>i64</td><td>i64</td><td>i64</td><td>i64</td><td>i64</td></tr></thead><tbody><tr><td>0</td><td>0</td><td>0</td><td>163</td><td>60</td></tr></tbody></table></div>"
      ],
      "text/plain": [
       "shape: (1, 5)\n",
       "┌─────┬─────┬─────┬─────┬─────┐\n",
       "│ uid ┆ d   ┆ t   ┆ x   ┆ y   │\n",
       "│ --- ┆ --- ┆ --- ┆ --- ┆ --- │\n",
       "│ i64 ┆ i64 ┆ i64 ┆ i64 ┆ i64 │\n",
       "╞═════╪═════╪═════╪═════╪═════╡\n",
       "│ 0   ┆ 0   ┆ 0   ┆ 163 ┆ 60  │\n",
       "└─────┴─────┴─────┴─────┴─────┘"
      ]
     },
     "metadata": {},
     "output_type": "display_data"
    },
    {
     "name": "stdout",
     "output_type": "stream",
     "text": [
      "29389749\n"
     ]
    }
   ],
   "source": [
    "# CSV.GZファイルを読み込む\n",
    "pre_df_2 = pl.read_csv(\"/kaggle/s3storage/01_public/humob-challenge-2024/input/00_lastyear-dataset-humob2023/yjmob100k-dataset2.csv.gz\")\n",
    "\n",
    "# データフレームの内容を表示\n",
    "display(pre_df_2.head(1))\n",
    "print(len(pre_df_2))"
   ]
  },
  {
   "cell_type": "code",
   "execution_count": null,
   "metadata": {},
   "outputs": [],
   "source": []
  }
 ],
 "metadata": {
  "kernelspec": {
   "display_name": "base",
   "language": "python",
   "name": "python3"
  },
  "language_info": {
   "codemirror_mode": {
    "name": "ipython",
    "version": 3
   },
   "file_extension": ".py",
   "mimetype": "text/x-python",
   "name": "python",
   "nbconvert_exporter": "python",
   "pygments_lexer": "ipython3",
   "version": "3.10.13"
  }
 },
 "nbformat": 4,
 "nbformat_minor": 2
}
