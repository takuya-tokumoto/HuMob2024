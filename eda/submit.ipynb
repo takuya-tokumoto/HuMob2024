{
 "cells": [
  {
   "cell_type": "markdown",
   "metadata": {},
   "source": [
    "# Import"
   ]
  },
  {
   "cell_type": "code",
   "execution_count": 75,
   "metadata": {},
   "outputs": [],
   "source": [
    "import matplotlib.pyplot as plt\n",
    "import plotly.express as px\n",
    "import polars as pl\n",
    "import seaborn as sns\n",
    "import numpy as np\n",
    "import json\n",
    "import geobleu"
   ]
  },
  {
   "cell_type": "markdown",
   "metadata": {},
   "source": [
    "# Read"
   ]
  },
  {
   "cell_type": "code",
   "execution_count": 41,
   "metadata": {},
   "outputs": [],
   "source": [
    "output_path = \"/kaggle/s3storage/01_public/humob-challenge-2024/output/test/init/taskB/batchsize128_epochs1_embedsize128_layersnum4_headsnum8_cuda0_lr2e-05_seed0/2024_09_02_14_23_10.json\"\n",
    "\n",
    "with open(output_path, \"r\") as f:\n",
    "    subs = json.load(f)"
   ]
  },
  {
   "cell_type": "code",
   "execution_count": 42,
   "metadata": {},
   "outputs": [],
   "source": [
    "# dを45~59の間に絞る\n",
    "filtered_data = {\n",
    "    \"generated\": [\n",
    "        [point for point in trajectory if point[0] <= 59] for trajectory in subs[\"generated\"]  # point[0] は 'd' の値\n",
    "    ],\n",
    "    \"reference\": [\n",
    "        [point for point in trajectory if point[0] <= 59] for trajectory in subs[\"reference\"]  # point[0] は 'd' の値\n",
    "    ],\n",
    "}"
   ]
  },
  {
   "cell_type": "markdown",
   "metadata": {},
   "source": [
    "# Evaluate"
   ]
  },
  {
   "cell_type": "code",
   "execution_count": 45,
   "metadata": {},
   "outputs": [
    {
     "name": "stdout",
     "output_type": "stream",
     "text": [
      "geobleu: 4.9820888317221703e-23\n",
      "dtw: 427.2869735481824\n"
     ]
    }
   ],
   "source": [
    "generated = filtered_data[\"generated\"][0]\n",
    "reference = filtered_data[\"reference\"][0]\n",
    "\n",
    "geobleu_val = geobleu.calc_geobleu(generated, reference, processes=3)\n",
    "print(\"geobleu: {}\".format(geobleu_val))\n",
    "\n",
    "dtw_val = geobleu.calc_dtw(generated, reference, processes=3)\n",
    "print(\"dtw: {}\".format(dtw_val))"
   ]
  },
  {
   "cell_type": "code",
   "execution_count": 74,
   "metadata": {},
   "outputs": [
    {
     "name": "stdout",
     "output_type": "stream",
     "text": [
      "計算できなかったuid数は 128件\n"
     ]
    }
   ],
   "source": [
    "list_geobleu_val = []\n",
    "list_dtw_val = []\n",
    "cnt = 0\n",
    "\n",
    "for i in range(3000):\n",
    "\n",
    "    generated = filtered_data[\"generated\"][i]\n",
    "    reference = filtered_data[\"reference\"][i]\n",
    "\n",
    "    if len(generated) > 0:\n",
    "        geobleu_val = geobleu.calc_geobleu(generated, reference, processes=3)\n",
    "        list_geobleu_val.append(geobleu_val)\n",
    "\n",
    "        dtw_val = geobleu.calc_dtw(generated, reference, processes=3)\n",
    "        list_dtw_val.append(dtw_val)\n",
    "\n",
    "    else:\n",
    "        cnt += 1\n",
    "\n",
    "print(f\"計算できなかったuid数は {cnt}件\")"
   ]
  },
  {
   "cell_type": "code",
   "execution_count": 76,
   "metadata": {},
   "outputs": [
    {
     "name": "stdout",
     "output_type": "stream",
     "text": [
      "geobleu: 0.0013127678480642255\n",
      "dtw: 351.84622694559226\n"
     ]
    }
   ],
   "source": [
    "print(\"geobleu: {}\".format(np.mean(list_geobleu_val)))\n",
    "print(\"dtw: {}\".format(np.mean(list_dtw_val)))"
   ]
  }
 ],
 "metadata": {
  "kernelspec": {
   "display_name": "base",
   "language": "python",
   "name": "python3"
  },
  "language_info": {
   "codemirror_mode": {
    "name": "ipython",
    "version": 3
   },
   "file_extension": ".py",
   "mimetype": "text/x-python",
   "name": "python",
   "nbconvert_exporter": "python",
   "pygments_lexer": "ipython3",
   "version": "3.10.13"
  }
 },
 "nbformat": 4,
 "nbformat_minor": 2
}
