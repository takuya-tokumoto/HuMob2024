{
 "cells": [
  {
   "cell_type": "markdown",
   "metadata": {},
   "source": [
    "## Prepair"
   ]
  },
  {
   "cell_type": "code",
   "execution_count": 1,
   "metadata": {},
   "outputs": [],
   "source": [
    "## config.yamlの読み込み\n",
    "import yaml\n",
    "with open(\"../scripts/config.yaml\", \"r\", encoding='utf-8') as file:\n",
    "    config = yaml.safe_load(file)"
   ]
  },
  {
   "cell_type": "code",
   "execution_count": 2,
   "metadata": {},
   "outputs": [],
   "source": [
    "import gc\n",
    "import lightgbm as lgb\n",
    "from sklearn.ensemble import VotingRegressor\n",
    "import numpy as np # linear algebra\n",
    "import pandas as pd # data processing, CSV file I/O (e.g. pd.read_csv)\n",
    "import re\n",
    "import random\n",
    "import pickle\n",
    "import matplotlib.pyplot as plt\n",
    "from sklearn.model_selection import train_test_split, StratifiedKFold\n",
    "from sklearn.metrics import confusion_matrix, ConfusionMatrixDisplay, f1_score, cohen_kappa_score\n",
    "from lightgbm import log_evaluation, early_stopping\n",
    "import polars as pl\n",
    "from pathlib import Path\n",
    "import sys\n",
    "import torch"
   ]
  },
  {
   "cell_type": "code",
   "execution_count": 3,
   "metadata": {},
   "outputs": [
    {
     "name": "stderr",
     "output_type": "stream",
     "text": [
      "2024-05-18 15:43:12.289387: E external/local_xla/xla/stream_executor/cuda/cuda_dnn.cc:9261] Unable to register cuDNN factory: Attempting to register factory for plugin cuDNN when one has already been registered\n",
      "2024-05-18 15:43:12.289508: E external/local_xla/xla/stream_executor/cuda/cuda_fft.cc:607] Unable to register cuFFT factory: Attempting to register factory for plugin cuFFT when one has already been registered\n",
      "2024-05-18 15:43:12.428849: E external/local_xla/xla/stream_executor/cuda/cuda_blas.cc:1515] Unable to register cuBLAS factory: Attempting to register factory for plugin cuBLAS when one has already been registered\n",
      "2024-05-18 15:43:15.590307: W tensorflow/compiler/tf2tensorrt/utils/py_utils.cc:38] TF-TRT Warning: Could not find TensorRT\n"
     ]
    }
   ],
   "source": [
    "# 自作関数の読み込み\n",
    "repo_dir = Path().resolve().parents[0]\n",
    "root_dir = Path().resolve().parents[1]\n",
    "s3_dir = root_dir / \"s3storage/01_public/auto_essay_scorer_lab2/data/\"\n",
    "sys.path.append(str(repo_dir / \"scripts/\"))\n",
    "from utils.path import PathManager\n",
    "from utils.data import *\n",
    "from utils.model import *\n",
    "\n",
    "## パスの設定\n",
    "mode = config[\"model_name\"]\n",
    "path_to = PathManager(s3_dir, mode)"
   ]
  },
  {
   "cell_type": "markdown",
   "metadata": {},
   "source": [
    "# a_valueとb_valueを確認"
   ]
  },
  {
   "cell_type": "code",
   "execution_count": 4,
   "metadata": {},
   "outputs": [],
   "source": [
    "## 学習データ読み込み\n",
    "load_path = path_to.train_all_mart_dir\n",
    "train_data = pl.read_csv(load_path)"
   ]
  },
  {
   "cell_type": "code",
   "execution_count": 5,
   "metadata": {},
   "outputs": [
    {
     "name": "stdout",
     "output_type": "stream",
     "text": [
      "Average of column 'score': 2.948402380539666\n",
      "Variance of column 'score': 1.0918134361390224\n"
     ]
    }
   ],
   "source": [
    "# a_value : 2.998\n",
    "mean_score = train_data['score'].mean()\n",
    "print(f\"Average of column 'score': {mean_score}\")\n",
    "\n",
    "# b_value : 1.092\n",
    "variance_score = train_data['score'].var()\n",
    "print(f\"Variance of column 'score': {variance_score}\")"
   ]
  },
  {
   "cell_type": "markdown",
   "metadata": {},
   "source": [
    "# scripts/01_prepare.py 実行後のデータ確認"
   ]
  },
  {
   "cell_type": "code",
   "execution_count": 30,
   "metadata": {},
   "outputs": [],
   "source": [
    "## データの読み込み\n",
    "fold_num = \"0\"\n",
    "\n",
    "train_path: Path = path_to.add_meta_mart_dir / f'fold_{fold_num}/train_fold_add_meta.csv'\n",
    "train_data = pl.read_csv(train_path)\n",
    "valid_path: Path = path_to.add_meta_mart_dir / f'fold_{fold_num}/valid_fold_add_meta.csv'\n",
    "valid_data = pl.read_csv(valid_path)"
   ]
  },
  {
   "cell_type": "code",
   "execution_count": 31,
   "metadata": {},
   "outputs": [
    {
     "data": {
      "text/html": [
       "<div><style>\n",
       ".dataframe > thead > tr,\n",
       ".dataframe > tbody > tr {\n",
       "  text-align: right;\n",
       "  white-space: pre-wrap;\n",
       "}\n",
       "</style>\n",
       "<small>shape: (1, 24_143)</small><table border=\"1\" class=\"dataframe\"><thead><tr><th></th><th>essay_id</th><th>paragraph_&gt;0_cnt</th><th>paragraph_&gt;50_cnt</th><th>paragraph_&gt;75_cnt</th><th>paragraph_&gt;100_cnt</th><th>paragraph_&gt;125_cnt</th><th>paragraph_&gt;150_cnt</th><th>paragraph_&gt;175_cnt</th><th>paragraph_&gt;200_cnt</th><th>paragraph_&gt;250_cnt</th><th>paragraph_&gt;300_cnt</th><th>paragraph_&gt;350_cnt</th><th>paragraph_&gt;400_cnt</th><th>paragraph_&gt;500_cnt</th><th>paragraph_&gt;600_cnt</th><th>paragraph_&gt;700_cnt</th><th>paragraph_&lt;25_cnt</th><th>paragraph_&lt;49_cnt</th><th>paragraph_error_num_max</th><th>paragraph_len_max</th><th>paragraph_sentence_cnt_max</th><th>paragraph_word_cnt_max</th><th>paragraph_error_num_mean</th><th>paragraph_len_mean</th><th>paragraph_sentence_cnt_mean</th><th>paragraph_word_cnt_mean</th><th>paragraph_error_num_min</th><th>paragraph_len_min</th><th>paragraph_sentence_cnt_min</th><th>paragraph_word_cnt_min</th><th>paragraph_error_num_sum</th><th>paragraph_len_sum</th><th>paragraph_sentence_cnt_sum</th><th>paragraph_word_cnt_sum</th><th>paragraph_error_num_first</th><th>paragraph_len_first</th><th>&hellip;</th><th>tfid_cnt_2136</th><th>tfid_cnt_2137</th><th>tfid_cnt_2138</th><th>tfid_cnt_2139</th><th>tfid_cnt_2140</th><th>tfid_cnt_2141</th><th>tfid_cnt_2142</th><th>tfid_cnt_2143</th><th>tfid_cnt_2144</th><th>tfid_cnt_2145</th><th>tfid_cnt_2146</th><th>tfid_cnt_2147</th><th>tfid_cnt_2148</th><th>tfid_cnt_2149</th><th>tfid_cnt_2150</th><th>tfid_cnt_2151</th><th>tfid_cnt_2152</th><th>tfid_cnt_2153</th><th>tfid_cnt_2154</th><th>tfid_cnt_2155</th><th>tfid_cnt_2156</th><th>tfid_cnt_2157</th><th>tfid_cnt_2158</th><th>tfid_cnt_2159</th><th>tfid_cnt_2160</th><th>tfid_cnt_2161</th><th>tfid_cnt_2162</th><th>tfid_cnt_2163</th><th>tfid_cnt_2164</th><th>tfid_cnt_2165</th><th>tfid_cnt_2166</th><th>tfid_cnt_2167</th><th>tfid_cnt_2168</th><th>tfid_cnt_2169</th><th>tfid_cnt_2170</th><th>tfid_cnt_2171</th><th>tfid_cnt_2172</th></tr><tr><td>i64</td><td>str</td><td>i64</td><td>i64</td><td>i64</td><td>i64</td><td>i64</td><td>i64</td><td>i64</td><td>i64</td><td>i64</td><td>i64</td><td>i64</td><td>i64</td><td>i64</td><td>i64</td><td>i64</td><td>i64</td><td>i64</td><td>i64</td><td>i64</td><td>i64</td><td>i64</td><td>f64</td><td>f64</td><td>f64</td><td>f64</td><td>i64</td><td>i64</td><td>i64</td><td>i64</td><td>i64</td><td>i64</td><td>i64</td><td>i64</td><td>i64</td><td>i64</td><td>&hellip;</td><td>i64</td><td>i64</td><td>i64</td><td>i64</td><td>i64</td><td>i64</td><td>i64</td><td>i64</td><td>i64</td><td>i64</td><td>i64</td><td>i64</td><td>i64</td><td>i64</td><td>i64</td><td>i64</td><td>i64</td><td>i64</td><td>i64</td><td>i64</td><td>i64</td><td>i64</td><td>i64</td><td>i64</td><td>i64</td><td>i64</td><td>i64</td><td>i64</td><td>i64</td><td>i64</td><td>i64</td><td>i64</td><td>i64</td><td>i64</td><td>i64</td><td>i64</td><td>i64</td></tr></thead><tbody><tr><td>0</td><td>&quot;0040e27&quot;</td><td>5</td><td>5</td><td>5</td><td>5</td><td>5</td><td>5</td><td>5</td><td>4</td><td>4</td><td>2</td><td>1</td><td>1</td><td>0</td><td>0</td><td>0</td><td>0</td><td>0</td><td>2</td><td>424</td><td>7</td><td>80</td><td>1.4</td><td>300.0</td><td>5.6</td><td>55.2</td><td>1</td><td>179</td><td>5</td><td>31</td><td>7</td><td>1500</td><td>28</td><td>276</td><td>1</td><td>179</td><td>&hellip;</td><td>0</td><td>2</td><td>0</td><td>0</td><td>0</td><td>2</td><td>0</td><td>0</td><td>0</td><td>0</td><td>0</td><td>0</td><td>1</td><td>0</td><td>1</td><td>1</td><td>0</td><td>0</td><td>2</td><td>0</td><td>1</td><td>1</td><td>1</td><td>12</td><td>0</td><td>12</td><td>0</td><td>7</td><td>7</td><td>0</td><td>0</td><td>0</td><td>0</td><td>0</td><td>0</td><td>0</td><td>0</td></tr></tbody></table></div>"
      ],
      "text/plain": [
       "shape: (1, 24_143)\n",
       "┌─────┬──────────┬────────────┬────────────┬───┬────────────┬────────────┬────────────┬────────────┐\n",
       "│     ┆ essay_id ┆ paragraph_ ┆ paragraph_ ┆ … ┆ tfid_cnt_2 ┆ tfid_cnt_2 ┆ tfid_cnt_2 ┆ tfid_cnt_2 │\n",
       "│ --- ┆ ---      ┆ >0_cnt     ┆ >50_cnt    ┆   ┆ 169        ┆ 170        ┆ 171        ┆ 172        │\n",
       "│ i64 ┆ str      ┆ ---        ┆ ---        ┆   ┆ ---        ┆ ---        ┆ ---        ┆ ---        │\n",
       "│     ┆          ┆ i64        ┆ i64        ┆   ┆ i64        ┆ i64        ┆ i64        ┆ i64        │\n",
       "╞═════╪══════════╪════════════╪════════════╪═══╪════════════╪════════════╪════════════╪════════════╡\n",
       "│ 0   ┆ 0040e27  ┆ 5          ┆ 5          ┆ … ┆ 0          ┆ 0          ┆ 0          ┆ 0          │\n",
       "└─────┴──────────┴────────────┴────────────┴───┴────────────┴────────────┴────────────┴────────────┘"
      ]
     },
     "execution_count": 31,
     "metadata": {},
     "output_type": "execute_result"
    }
   ],
   "source": [
    "train_data.head(1)"
   ]
  },
  {
   "cell_type": "code",
   "execution_count": 32,
   "metadata": {},
   "outputs": [
    {
     "data": {
      "text/html": [
       "<div><style>\n",
       ".dataframe > thead > tr,\n",
       ".dataframe > tbody > tr {\n",
       "  text-align: right;\n",
       "  white-space: pre-wrap;\n",
       "}\n",
       "</style>\n",
       "<small>shape: (1, 24_143)</small><table border=\"1\" class=\"dataframe\"><thead><tr><th></th><th>essay_id</th><th>paragraph_&gt;0_cnt</th><th>paragraph_&gt;50_cnt</th><th>paragraph_&gt;75_cnt</th><th>paragraph_&gt;100_cnt</th><th>paragraph_&gt;125_cnt</th><th>paragraph_&gt;150_cnt</th><th>paragraph_&gt;175_cnt</th><th>paragraph_&gt;200_cnt</th><th>paragraph_&gt;250_cnt</th><th>paragraph_&gt;300_cnt</th><th>paragraph_&gt;350_cnt</th><th>paragraph_&gt;400_cnt</th><th>paragraph_&gt;500_cnt</th><th>paragraph_&gt;600_cnt</th><th>paragraph_&gt;700_cnt</th><th>paragraph_&lt;25_cnt</th><th>paragraph_&lt;49_cnt</th><th>paragraph_error_num_max</th><th>paragraph_len_max</th><th>paragraph_sentence_cnt_max</th><th>paragraph_word_cnt_max</th><th>paragraph_error_num_mean</th><th>paragraph_len_mean</th><th>paragraph_sentence_cnt_mean</th><th>paragraph_word_cnt_mean</th><th>paragraph_error_num_min</th><th>paragraph_len_min</th><th>paragraph_sentence_cnt_min</th><th>paragraph_word_cnt_min</th><th>paragraph_error_num_sum</th><th>paragraph_len_sum</th><th>paragraph_sentence_cnt_sum</th><th>paragraph_word_cnt_sum</th><th>paragraph_error_num_first</th><th>paragraph_len_first</th><th>&hellip;</th><th>tfid_cnt_2136</th><th>tfid_cnt_2137</th><th>tfid_cnt_2138</th><th>tfid_cnt_2139</th><th>tfid_cnt_2140</th><th>tfid_cnt_2141</th><th>tfid_cnt_2142</th><th>tfid_cnt_2143</th><th>tfid_cnt_2144</th><th>tfid_cnt_2145</th><th>tfid_cnt_2146</th><th>tfid_cnt_2147</th><th>tfid_cnt_2148</th><th>tfid_cnt_2149</th><th>tfid_cnt_2150</th><th>tfid_cnt_2151</th><th>tfid_cnt_2152</th><th>tfid_cnt_2153</th><th>tfid_cnt_2154</th><th>tfid_cnt_2155</th><th>tfid_cnt_2156</th><th>tfid_cnt_2157</th><th>tfid_cnt_2158</th><th>tfid_cnt_2159</th><th>tfid_cnt_2160</th><th>tfid_cnt_2161</th><th>tfid_cnt_2162</th><th>tfid_cnt_2163</th><th>tfid_cnt_2164</th><th>tfid_cnt_2165</th><th>tfid_cnt_2166</th><th>tfid_cnt_2167</th><th>tfid_cnt_2168</th><th>tfid_cnt_2169</th><th>tfid_cnt_2170</th><th>tfid_cnt_2171</th><th>tfid_cnt_2172</th></tr><tr><td>i64</td><td>str</td><td>i64</td><td>i64</td><td>i64</td><td>i64</td><td>i64</td><td>i64</td><td>i64</td><td>i64</td><td>i64</td><td>i64</td><td>i64</td><td>i64</td><td>i64</td><td>i64</td><td>i64</td><td>i64</td><td>i64</td><td>i64</td><td>i64</td><td>i64</td><td>i64</td><td>f64</td><td>f64</td><td>f64</td><td>f64</td><td>i64</td><td>i64</td><td>i64</td><td>i64</td><td>i64</td><td>i64</td><td>i64</td><td>i64</td><td>i64</td><td>i64</td><td>&hellip;</td><td>i64</td><td>i64</td><td>i64</td><td>i64</td><td>i64</td><td>i64</td><td>i64</td><td>i64</td><td>i64</td><td>i64</td><td>i64</td><td>i64</td><td>i64</td><td>i64</td><td>i64</td><td>i64</td><td>i64</td><td>i64</td><td>i64</td><td>i64</td><td>i64</td><td>i64</td><td>i64</td><td>i64</td><td>i64</td><td>i64</td><td>i64</td><td>i64</td><td>i64</td><td>i64</td><td>i64</td><td>i64</td><td>i64</td><td>i64</td><td>i64</td><td>i64</td><td>i64</td></tr></thead><tbody><tr><td>0</td><td>&quot;0f2a7d9&quot;</td><td>4</td><td>4</td><td>4</td><td>4</td><td>4</td><td>4</td><td>4</td><td>3</td><td>3</td><td>3</td><td>2</td><td>2</td><td>1</td><td>0</td><td>0</td><td>0</td><td>0</td><td>5</td><td>558</td><td>4</td><td>101</td><td>2.5</td><td>370.0</td><td>3.0</td><td>68.25</td><td>1</td><td>188</td><td>2</td><td>35</td><td>10</td><td>1480</td><td>12</td><td>273</td><td>2</td><td>405</td><td>&hellip;</td><td>0</td><td>0</td><td>1</td><td>0</td><td>5</td><td>3</td><td>0</td><td>0</td><td>1</td><td>0</td><td>2</td><td>2</td><td>1</td><td>0</td><td>1</td><td>1</td><td>1</td><td>0</td><td>0</td><td>0</td><td>0</td><td>2</td><td>2</td><td>3</td><td>0</td><td>3</td><td>0</td><td>1</td><td>1</td><td>0</td><td>0</td><td>0</td><td>0</td><td>0</td><td>0</td><td>0</td><td>0</td></tr></tbody></table></div>"
      ],
      "text/plain": [
       "shape: (1, 24_143)\n",
       "┌─────┬──────────┬────────────┬────────────┬───┬────────────┬────────────┬────────────┬────────────┐\n",
       "│     ┆ essay_id ┆ paragraph_ ┆ paragraph_ ┆ … ┆ tfid_cnt_2 ┆ tfid_cnt_2 ┆ tfid_cnt_2 ┆ tfid_cnt_2 │\n",
       "│ --- ┆ ---      ┆ >0_cnt     ┆ >50_cnt    ┆   ┆ 169        ┆ 170        ┆ 171        ┆ 172        │\n",
       "│ i64 ┆ str      ┆ ---        ┆ ---        ┆   ┆ ---        ┆ ---        ┆ ---        ┆ ---        │\n",
       "│     ┆          ┆ i64        ┆ i64        ┆   ┆ i64        ┆ i64        ┆ i64        ┆ i64        │\n",
       "╞═════╪══════════╪════════════╪════════════╪═══╪════════════╪════════════╪════════════╪════════════╡\n",
       "│ 0   ┆ 0f2a7d9  ┆ 4          ┆ 4          ┆ … ┆ 0          ┆ 0          ┆ 0          ┆ 0          │\n",
       "└─────┴──────────┴────────────┴────────────┴───┴────────────┴────────────┴────────────┴────────────┘"
      ]
     },
     "execution_count": 32,
     "metadata": {},
     "output_type": "execute_result"
    }
   ],
   "source": [
    "valid_data.head(1)"
   ]
  },
  {
   "cell_type": "code",
   "execution_count": 37,
   "metadata": {},
   "outputs": [
    {
     "data": {
      "text/plain": [
       "93"
      ]
     },
     "execution_count": 37,
     "metadata": {},
     "output_type": "execute_result"
    }
   ],
   "source": [
    "len(train_data)"
   ]
  },
  {
   "cell_type": "code",
   "execution_count": null,
   "metadata": {},
   "outputs": [],
   "source": [
    "valid_data"
   ]
  },
  {
   "cell_type": "code",
   "execution_count": 36,
   "metadata": {},
   "outputs": [
    {
     "data": {
      "text/plain": [
       "24143"
      ]
     },
     "execution_count": 36,
     "metadata": {},
     "output_type": "execute_result"
    }
   ],
   "source": [
    "len(train_data.columns)"
   ]
  },
  {
   "cell_type": "code",
   "execution_count": 34,
   "metadata": {},
   "outputs": [],
   "source": [
    "missing_columns = [col for col in ['Unnamed: 0'] if col not in train_data.columns]"
   ]
  },
  {
   "cell_type": "code",
   "execution_count": 35,
   "metadata": {},
   "outputs": [
    {
     "data": {
      "text/plain": [
       "['Unnamed: 0']"
      ]
     },
     "execution_count": 35,
     "metadata": {},
     "output_type": "execute_result"
    }
   ],
   "source": [
    "missing_columns"
   ]
  },
  {
   "cell_type": "code",
   "execution_count": null,
   "metadata": {},
   "outputs": [],
   "source": []
  }
 ],
 "metadata": {
  "kernelspec": {
   "display_name": "base",
   "language": "python",
   "name": "python3"
  },
  "language_info": {
   "codemirror_mode": {
    "name": "ipython",
    "version": 3
   },
   "file_extension": ".py",
   "mimetype": "text/x-python",
   "name": "python",
   "nbconvert_exporter": "python",
   "pygments_lexer": "ipython3",
   "version": "3.10.13"
  }
 },
 "nbformat": 4,
 "nbformat_minor": 2
}
